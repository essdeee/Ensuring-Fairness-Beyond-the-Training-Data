{
 "cells": [
  {
   "cell_type": "markdown",
   "metadata": {
    "colab_type": "text",
    "id": "VYEUJK2JDiTS"
   },
   "source": [
    "# Fairness Checking: Demographic Parity Constraint Experiment\n",
    "This notebook uses PuLP to solve the linear program outlined in the \"Fairness Checking\" document. Here, **we experiment with varying the upper bound constraint on w and see its effects on the objective value.**"
   ]
  },
  {
   "cell_type": "code",
   "execution_count": 1,
   "metadata": {
    "colab": {
     "base_uri": "https://localhost:8080/",
     "height": 51
    },
    "colab_type": "code",
    "id": "AyLJZXkNDndG",
    "outputId": "66c8aca0-7002-4bcf-d671-b9834a430860"
   },
   "outputs": [
    {
     "name": "stdout",
     "output_type": "stream",
     "text": [
      "Collecting pulp\n",
      "  Downloading PuLP-2.1-py3-none-any.whl (40.6 MB)\n",
      "\u001b[K     |████████████████████████████████| 40.6 MB 37.9 MB/s eta 0:00:01     |██████████████████████▏         | 28.2 MB 37.9 MB/s eta 0:00:01\n",
      "\u001b[?25hRequirement already satisfied: pyparsing>=2.0.1 in /Users/sam/anaconda3/envs/fairness_checking/lib/python3.7/site-packages (from pulp) (2.4.7)\n",
      "Installing collected packages: pulp\n",
      "Successfully installed pulp-2.1\n"
     ]
    }
   ],
   "source": [
    "!pip install pulp"
   ]
  },
  {
   "cell_type": "code",
   "execution_count": 2,
   "metadata": {
    "colab": {},
    "colab_type": "code",
    "id": "TYaVKaWuDiTT"
   },
   "outputs": [],
   "source": [
    "import pandas as pd\n",
    "import numpy as np\n",
    "import pulp\n",
    "import matplotlib.pyplot as plt\n",
    "import collections"
   ]
  },
  {
   "cell_type": "code",
   "execution_count": 3,
   "metadata": {
    "colab": {
     "base_uri": "https://localhost:8080/",
     "height": 54
    },
    "colab_type": "code",
    "id": "7nFOqCIjDj3D",
    "outputId": "874525eb-09ba-408a-d80e-0f41d385cbff"
   },
   "outputs": [],
   "source": [
    "# Run this cell to mount your Google Drive.\n",
    "# from google.colab import drive\n",
    "# drive.mount('/content/drive')"
   ]
  },
  {
   "cell_type": "markdown",
   "metadata": {
    "colab_type": "text",
    "id": "id0PTMTBDiTV"
   },
   "source": [
    "## Import Predicted Data\n",
    "We take A (the protected attribute) to be the 'race' variable, and a = 0 while a' = 1. The last column, 'prediction,' is our f(X) variable, which can either be 0 or 1."
   ]
  },
  {
   "cell_type": "code",
   "execution_count": 4,
   "metadata": {
    "colab": {},
    "colab_type": "code",
    "id": "EaDU5FwHDiTW"
   },
   "outputs": [],
   "source": [
    "algorithm_used = 'preprocessing' # preprocessing, inprocessing, postprocessing\n",
    "pred_df = pd.read_csv('./../../predicted_data/{}/{}_logreg_compas_dp.csv'.format(algorithm_used, algorithm_used))"
   ]
  },
  {
   "cell_type": "code",
   "execution_count": 5,
   "metadata": {
    "colab": {
     "base_uri": "https://localhost:8080/",
     "height": 241
    },
    "colab_type": "code",
    "id": "3D-WDPLsDiTY",
    "outputId": "f832457b-f79c-4c5e-ce5f-9bd9fa19e9c3"
   },
   "outputs": [
    {
     "data": {
      "text/html": [
       "<div>\n",
       "<style scoped>\n",
       "    .dataframe tbody tr th:only-of-type {\n",
       "        vertical-align: middle;\n",
       "    }\n",
       "\n",
       "    .dataframe tbody tr th {\n",
       "        vertical-align: top;\n",
       "    }\n",
       "\n",
       "    .dataframe thead th {\n",
       "        text-align: right;\n",
       "    }\n",
       "</style>\n",
       "<table border=\"1\" class=\"dataframe\">\n",
       "  <thead>\n",
       "    <tr style=\"text-align: right;\">\n",
       "      <th></th>\n",
       "      <th>Unnamed: 0</th>\n",
       "      <th>sex</th>\n",
       "      <th>race</th>\n",
       "      <th>age_cat=25 to 45</th>\n",
       "      <th>age_cat=Greater than 45</th>\n",
       "      <th>age_cat=Less than 25</th>\n",
       "      <th>priors_count=0</th>\n",
       "      <th>priors_count=1 to 3</th>\n",
       "      <th>priors_count=More than 3</th>\n",
       "      <th>c_charge_degree=F</th>\n",
       "      <th>c_charge_degree=M</th>\n",
       "      <th>two_year_recid</th>\n",
       "      <th>predictions</th>\n",
       "    </tr>\n",
       "  </thead>\n",
       "  <tbody>\n",
       "    <tr>\n",
       "      <th>0</th>\n",
       "      <td>5578</td>\n",
       "      <td>0.0</td>\n",
       "      <td>0.0</td>\n",
       "      <td>0.0</td>\n",
       "      <td>0.0</td>\n",
       "      <td>1.0</td>\n",
       "      <td>0.0</td>\n",
       "      <td>1.0</td>\n",
       "      <td>0.0</td>\n",
       "      <td>1.0</td>\n",
       "      <td>0.0</td>\n",
       "      <td>1.0</td>\n",
       "      <td>1.0</td>\n",
       "    </tr>\n",
       "    <tr>\n",
       "      <th>1</th>\n",
       "      <td>2113</td>\n",
       "      <td>0.0</td>\n",
       "      <td>0.0</td>\n",
       "      <td>0.0</td>\n",
       "      <td>0.0</td>\n",
       "      <td>1.0</td>\n",
       "      <td>0.0</td>\n",
       "      <td>1.0</td>\n",
       "      <td>0.0</td>\n",
       "      <td>1.0</td>\n",
       "      <td>0.0</td>\n",
       "      <td>1.0</td>\n",
       "      <td>1.0</td>\n",
       "    </tr>\n",
       "    <tr>\n",
       "      <th>2</th>\n",
       "      <td>5189</td>\n",
       "      <td>1.0</td>\n",
       "      <td>1.0</td>\n",
       "      <td>1.0</td>\n",
       "      <td>0.0</td>\n",
       "      <td>0.0</td>\n",
       "      <td>0.0</td>\n",
       "      <td>1.0</td>\n",
       "      <td>0.0</td>\n",
       "      <td>1.0</td>\n",
       "      <td>0.0</td>\n",
       "      <td>0.0</td>\n",
       "      <td>0.0</td>\n",
       "    </tr>\n",
       "    <tr>\n",
       "      <th>3</th>\n",
       "      <td>10239</td>\n",
       "      <td>0.0</td>\n",
       "      <td>0.0</td>\n",
       "      <td>1.0</td>\n",
       "      <td>0.0</td>\n",
       "      <td>0.0</td>\n",
       "      <td>1.0</td>\n",
       "      <td>0.0</td>\n",
       "      <td>0.0</td>\n",
       "      <td>1.0</td>\n",
       "      <td>0.0</td>\n",
       "      <td>0.0</td>\n",
       "      <td>0.0</td>\n",
       "    </tr>\n",
       "    <tr>\n",
       "      <th>4</th>\n",
       "      <td>3391</td>\n",
       "      <td>1.0</td>\n",
       "      <td>0.0</td>\n",
       "      <td>1.0</td>\n",
       "      <td>0.0</td>\n",
       "      <td>0.0</td>\n",
       "      <td>0.0</td>\n",
       "      <td>0.0</td>\n",
       "      <td>1.0</td>\n",
       "      <td>0.0</td>\n",
       "      <td>1.0</td>\n",
       "      <td>1.0</td>\n",
       "      <td>1.0</td>\n",
       "    </tr>\n",
       "  </tbody>\n",
       "</table>\n",
       "</div>"
      ],
      "text/plain": [
       "   Unnamed: 0  sex  race  age_cat=25 to 45  age_cat=Greater than 45  \\\n",
       "0        5578  0.0   0.0               0.0                      0.0   \n",
       "1        2113  0.0   0.0               0.0                      0.0   \n",
       "2        5189  1.0   1.0               1.0                      0.0   \n",
       "3       10239  0.0   0.0               1.0                      0.0   \n",
       "4        3391  1.0   0.0               1.0                      0.0   \n",
       "\n",
       "   age_cat=Less than 25  priors_count=0  priors_count=1 to 3  \\\n",
       "0                   1.0             0.0                  1.0   \n",
       "1                   1.0             0.0                  1.0   \n",
       "2                   0.0             0.0                  1.0   \n",
       "3                   0.0             1.0                  0.0   \n",
       "4                   0.0             0.0                  0.0   \n",
       "\n",
       "   priors_count=More than 3  c_charge_degree=F  c_charge_degree=M  \\\n",
       "0                       0.0                1.0                0.0   \n",
       "1                       0.0                1.0                0.0   \n",
       "2                       0.0                1.0                0.0   \n",
       "3                       0.0                1.0                0.0   \n",
       "4                       1.0                0.0                1.0   \n",
       "\n",
       "   two_year_recid  predictions  \n",
       "0             1.0          1.0  \n",
       "1             1.0          1.0  \n",
       "2             0.0          0.0  \n",
       "3             0.0          0.0  \n",
       "4             1.0          1.0  "
      ]
     },
     "execution_count": 5,
     "metadata": {},
     "output_type": "execute_result"
    }
   ],
   "source": [
    "pred_df.head(5)"
   ]
  },
  {
   "cell_type": "code",
   "execution_count": 6,
   "metadata": {
    "colab": {},
    "colab_type": "code",
    "id": "IvLHi63FDiTb"
   },
   "outputs": [],
   "source": [
    "# Our protected variable A is race, and a = 0 or a = 1. \n",
    "a = pred_df['race']\n",
    "np.asarray(a)\n",
    "a_0_indices = []\n",
    "a_1_indices = []\n",
    "\n",
    "for i in range(len(a)):\n",
    "    if a[i] == 0:\n",
    "        a_0_indices.append(i)\n",
    "    elif a[i] == 1:\n",
    "        a_1_indices.append(i)"
   ]
  },
  {
   "cell_type": "code",
   "execution_count": 7,
   "metadata": {
    "colab": {},
    "colab_type": "code",
    "id": "ARsmRic1DiTi"
   },
   "outputs": [],
   "source": [
    "# Our pi variables are simply the proportions of a_0 or a_1 \n",
    "pi_0 = float(len(a_0_indices))/(len(a_0_indices) + len(a_1_indices))\n",
    "pi_1 = float(len(a_1_indices))/(len(a_0_indices) + len(a_1_indices))"
   ]
  },
  {
   "cell_type": "code",
   "execution_count": 8,
   "metadata": {
    "colab": {
     "base_uri": "https://localhost:8080/",
     "height": 51
    },
    "colab_type": "code",
    "id": "ggsCMcr5DiTk",
    "outputId": "aa080433-69f4-43c4-9267-5dbbae6f6f92"
   },
   "outputs": [
    {
     "name": "stdout",
     "output_type": "stream",
     "text": [
      "0.6136363636363636\n",
      "0.38636363636363635\n"
     ]
    }
   ],
   "source": [
    "print(pi_0)\n",
    "print(pi_1)"
   ]
  },
  {
   "cell_type": "code",
   "execution_count": 9,
   "metadata": {
    "colab": {
     "base_uri": "https://localhost:8080/",
     "height": 51
    },
    "colab_type": "code",
    "id": "w5PbdhJ5DiTn",
    "outputId": "342d69b0-51d1-4b7c-9c1e-e581b726e425"
   },
   "outputs": [
    {
     "data": {
      "text/html": [
       "<div>\n",
       "<style scoped>\n",
       "    .dataframe tbody tr th:only-of-type {\n",
       "        vertical-align: middle;\n",
       "    }\n",
       "\n",
       "    .dataframe tbody tr th {\n",
       "        vertical-align: top;\n",
       "    }\n",
       "\n",
       "    .dataframe thead th {\n",
       "        text-align: right;\n",
       "    }\n",
       "</style>\n",
       "<table border=\"1\" class=\"dataframe\">\n",
       "  <thead>\n",
       "    <tr style=\"text-align: right;\">\n",
       "      <th></th>\n",
       "      <th>Unnamed: 0</th>\n",
       "      <th>sex</th>\n",
       "      <th>race</th>\n",
       "      <th>age_cat=25 to 45</th>\n",
       "      <th>age_cat=Greater than 45</th>\n",
       "      <th>age_cat=Less than 25</th>\n",
       "      <th>priors_count=0</th>\n",
       "      <th>priors_count=1 to 3</th>\n",
       "      <th>priors_count=More than 3</th>\n",
       "      <th>c_charge_degree=F</th>\n",
       "      <th>c_charge_degree=M</th>\n",
       "      <th>two_year_recid</th>\n",
       "      <th>predictions</th>\n",
       "    </tr>\n",
       "  </thead>\n",
       "  <tbody>\n",
       "    <tr>\n",
       "      <th>0</th>\n",
       "      <td>5578</td>\n",
       "      <td>0.0</td>\n",
       "      <td>0.0</td>\n",
       "      <td>0.0</td>\n",
       "      <td>0.0</td>\n",
       "      <td>1.0</td>\n",
       "      <td>0.0</td>\n",
       "      <td>1.0</td>\n",
       "      <td>0.0</td>\n",
       "      <td>1.0</td>\n",
       "      <td>0.0</td>\n",
       "      <td>1.0</td>\n",
       "      <td>1.0</td>\n",
       "    </tr>\n",
       "  </tbody>\n",
       "</table>\n",
       "</div>"
      ],
      "text/plain": [
       "   Unnamed: 0  sex  race  age_cat=25 to 45  age_cat=Greater than 45  \\\n",
       "0        5578  0.0   0.0               0.0                      0.0   \n",
       "\n",
       "   age_cat=Less than 25  priors_count=0  priors_count=1 to 3  \\\n",
       "0                   1.0             0.0                  1.0   \n",
       "\n",
       "   priors_count=More than 3  c_charge_degree=F  c_charge_degree=M  \\\n",
       "0                       0.0                1.0                0.0   \n",
       "\n",
       "   two_year_recid  predictions  \n",
       "0             1.0          1.0  "
      ]
     },
     "execution_count": 9,
     "metadata": {},
     "output_type": "execute_result"
    }
   ],
   "source": [
    "f_X = pred_df['predictions']\n",
    "np.asarray(f_X)\n",
    "pred_df.head(1)"
   ]
  },
  {
   "cell_type": "code",
   "execution_count": 10,
   "metadata": {
    "colab": {
     "base_uri": "https://localhost:8080/",
     "height": 51
    },
    "colab_type": "code",
    "id": "f66NgcN8FLnM",
    "outputId": "840e1a89-79cf-48ae-db29-fd0cfefff43b"
   },
   "outputs": [
    {
     "name": "stdout",
     "output_type": "stream",
     "text": [
      "528\n",
      "528\n"
     ]
    }
   ],
   "source": [
    "# Check if the dimensions match\n",
    "print(len(f_X))\n",
    "print(len(a_0_indices) + (len(a_1_indices)))"
   ]
  },
  {
   "cell_type": "markdown",
   "metadata": {
    "colab_type": "text",
    "id": "oRPqsRrIDiTp"
   },
   "source": [
    "## Create Linear Program\n",
    "We use the PuLP package to create our linear program.\n",
    "\n",
    "Here, we allow another input for the upper bound on all w's. This must be a number between 0 and 1."
   ]
  },
  {
   "cell_type": "code",
   "execution_count": 11,
   "metadata": {
    "colab": {},
    "colab_type": "code",
    "id": "MLxVvYRNEVTc"
   },
   "outputs": [],
   "source": [
    "# Input: function f(X), constraint\n",
    "# Output: (solved) model, weights\n",
    "def SP_linear_prog(f_X, lower_bound, upper_bound):\n",
    "  # Check if constraint is between 0 and 1\n",
    "  assert(0 < lower_bound < 1)\n",
    "  assert(0 < upper_bound < 1)\n",
    "\n",
    "  # Define the linear program as a maximization problem\n",
    "  model = pulp.LpProblem(\"Statistical Parity Fairness Checking\", pulp.LpMaximize)\n",
    "  \n",
    "  # Our w variable in the objective\n",
    "  # Lower bound constraint set here with lowBound=0 option\n",
    "  w = pulp.LpVariable.dicts(\"w\", (i for i in range(len(f_X))),lowBound=0, cat='Continuous')\n",
    "  \n",
    "  # Objective Function\n",
    "  model += pulp.lpSum(\n",
    "      [(1./pi_0) * w[index] * f_X[index] for index in a_0_indices] +\n",
    "      [- (1./pi_1) * w[index] * f_X[index] for index in a_1_indices])\n",
    "  \n",
    "  # Constraint that the \\sum(w_i * 1{a = 0}) = pi_0\n",
    "  model += pulp.lpSum([w[index] for index in a_0_indices]) == pi_0\n",
    "  \n",
    "  # Constraint that the \\sum(w_i * 1{a = 1}) = pi_1\n",
    "  model += pulp.lpSum([w[index] for index in a_1_indices]) == pi_1\n",
    "  \n",
    "  # Constraint that the w's all sum to 1\n",
    "  model += pulp.lpSum([w[i] for i in range(len(f_X))]) == 1\n",
    "\n",
    "  # IMPORTANT: Constraint for the w's (experiment with this)\n",
    "  for weight in w:\n",
    "    model += w[weight] <= upper_bound\n",
    "    model += w[weight] >= lower_bound\n",
    "\n",
    "  # Solve the linear program\n",
    "  model.solve()\n",
    "  pulp.LpStatus[model.status]\n",
    "  \n",
    "  # Returns the model and the weights\n",
    "  return model, w\n",
    "\n",
    "# Get the results\n",
    "def weights_dictionary(w):\n",
    "  results_dict = dict()\n",
    "  for i in range(len(f_X)):\n",
    "    results_dict[i] = w[i].varValue\n",
    "  return results_dict"
   ]
  },
  {
   "cell_type": "markdown",
   "metadata": {},
   "source": [
    "## Experiment with Constraints\n",
    "Experiment with setting the constraints as: $$w_i \\leq \\frac{(1 + \\gamma)}{n}$$ and $$\\frac{(1 - \\gamma)}{n} \\leq w_i$$ where n is the number of samples in the data."
   ]
  },
  {
   "cell_type": "code",
   "execution_count": 12,
   "metadata": {},
   "outputs": [
    {
     "name": "stderr",
     "output_type": "stream",
     "text": [
      "/Users/sam/anaconda3/envs/fairness_checking/lib/python3.7/site-packages/pulp/pulp.py:1114: UserWarning: Spaces are not permitted in the name. Converted to '_'\n",
      "  warnings.warn(\"Spaces are not permitted in the name. Converted to '_'\")\n"
     ]
    }
   ],
   "source": [
    "epsilon_granule = 0.01\n",
    "\n",
    "lower_bounds = []\n",
    "upper_bounds = []\n",
    "objective_values = []\n",
    "dist_weights = []\n",
    "epsilons = []\n",
    "\n",
    "# Iterate over constraints\n",
    "for i in range(0, 100):\n",
    "  epsilon = epsilon_granule * i\n",
    "  lower_bound = (1 - epsilon)/(len(f_X))\n",
    "  upper_bound = (1 + epsilon)/(len(f_X))\n",
    "  model, weights = SP_linear_prog(f_X, lower_bound, upper_bound)\n",
    "  objective_values.append(pulp.value(model.objective))\n",
    "  epsilons.append(epsilon)\n",
    "  lower_bounds.append(lower_bound)\n",
    "  upper_bounds.append(upper_bound)\n",
    "  dist_weights.append(weights)"
   ]
  },
  {
   "cell_type": "code",
   "execution_count": 13,
   "metadata": {},
   "outputs": [
    {
     "data": {
      "text/plain": [
       "Text(0.5, 1.0, 'Constraint on w vs. SP LP Objective Value')"
      ]
     },
     "execution_count": 13,
     "metadata": {},
     "output_type": "execute_result"
    },
    {
     "data": {
      "image/png": "[encoded data removed]",
      "text/plain": [
       "<Figure size 648x648 with 1 Axes>"
      ]
     },
     "metadata": {
      "needs_background": "light"
     },
     "output_type": "display_data"
    }
   ],
   "source": [
    "# Plot the constraints vs. objective values\n",
    "plt.figure(figsize=(9,9))\n",
    "plt.plot(epsilons, objective_values)\n",
    "plt.xlabel('Gamma in Constraint')\n",
    "plt.ylabel('LP Objective Value')\n",
    "plt.title('Constraint on w vs. SP LP Objective Value')"
   ]
  },
  {
   "cell_type": "code",
   "execution_count": 14,
   "metadata": {},
   "outputs": [
    {
     "name": "stdout",
     "output_type": "stream",
     "text": [
      "100\n",
      "100\n"
     ]
    }
   ],
   "source": [
    "print(len(dist_weights))\n",
    "print(len(epsilons))\n",
    "\n",
    "epsilon_to_weights = dict()\n",
    "for i in range(len(epsilons)):\n",
    "    epsilon_to_weights[epsilons[i]] = weights_dictionary(dist_weights[i])"
   ]
  },
  {
   "cell_type": "code",
   "execution_count": 15,
   "metadata": {},
   "outputs": [
    {
     "name": "stdout",
     "output_type": "stream",
     "text": [
      "528\n",
      "528\n"
     ]
    }
   ],
   "source": [
    "print(len(pred_df))\n",
    "print(len(epsilon_to_weights[0.01]))"
   ]
  },
  {
   "cell_type": "markdown",
   "metadata": {},
   "source": [
    "## Marginal Distributions"
   ]
  },
  {
   "cell_type": "code",
   "execution_count": 16,
   "metadata": {},
   "outputs": [],
   "source": [
    "# Create a dictionary for our table at the end\n",
    "table_results = {}"
   ]
  },
  {
   "cell_type": "code",
   "execution_count": 17,
   "metadata": {},
   "outputs": [],
   "source": [
    "# Find the accuracy of our classifier\n",
    "tp = len(pred_df[(pred_df['predictions'] == 0) & (pred_df['two_year_recid'] == 0)])\n",
    "tn = len(pred_df[(pred_df['predictions'] == 1) & (pred_df['two_year_recid'] == 1)])\n",
    "acc = float(tp + tn)/len(pred_df)"
   ]
  },
  {
   "cell_type": "code",
   "execution_count": 18,
   "metadata": {},
   "outputs": [
    {
     "name": "stdout",
     "output_type": "stream",
     "text": [
      "0.2054756705342022\n",
      "0.16\n"
     ]
    }
   ],
   "source": [
    "# Find the lowest epsilon value that has a greater than 10% violation\n",
    "for i in range(len(epsilons)):\n",
    "    if(objective_values[i] > 0.2):\n",
    "        lowest_i = i\n",
    "        break\n",
    "\n",
    "print(objective_values[lowest_i])\n",
    "print(epsilons[lowest_i])\n",
    "table_results['epsilon'] = epsilons[lowest_i]\n",
    "table_results['initial_unfairness'] = objective_values[0]\n",
    "table_results['acc'] = acc"
   ]
  },
  {
   "cell_type": "code",
   "execution_count": 19,
   "metadata": {},
   "outputs": [
    {
     "data": {
      "text/html": [
       "<div>\n",
       "<style scoped>\n",
       "    .dataframe tbody tr th:only-of-type {\n",
       "        vertical-align: middle;\n",
       "    }\n",
       "\n",
       "    .dataframe tbody tr th {\n",
       "        vertical-align: top;\n",
       "    }\n",
       "\n",
       "    .dataframe thead th {\n",
       "        text-align: right;\n",
       "    }\n",
       "</style>\n",
       "<table border=\"1\" class=\"dataframe\">\n",
       "  <thead>\n",
       "    <tr style=\"text-align: right;\">\n",
       "      <th></th>\n",
       "      <th>Unnamed: 0</th>\n",
       "      <th>sex</th>\n",
       "      <th>race</th>\n",
       "      <th>age_cat=25 to 45</th>\n",
       "      <th>age_cat=Greater than 45</th>\n",
       "      <th>age_cat=Less than 25</th>\n",
       "      <th>priors_count=0</th>\n",
       "      <th>priors_count=1 to 3</th>\n",
       "      <th>priors_count=More than 3</th>\n",
       "      <th>c_charge_degree=F</th>\n",
       "      <th>c_charge_degree=M</th>\n",
       "      <th>two_year_recid</th>\n",
       "      <th>predictions</th>\n",
       "      <th>weights</th>\n",
       "    </tr>\n",
       "  </thead>\n",
       "  <tbody>\n",
       "    <tr>\n",
       "      <th>0</th>\n",
       "      <td>5578</td>\n",
       "      <td>0.0</td>\n",
       "      <td>0.0</td>\n",
       "      <td>0.0</td>\n",
       "      <td>0.0</td>\n",
       "      <td>1.0</td>\n",
       "      <td>0.0</td>\n",
       "      <td>1.0</td>\n",
       "      <td>0.0</td>\n",
       "      <td>1.0</td>\n",
       "      <td>0.0</td>\n",
       "      <td>1.0</td>\n",
       "      <td>1.0</td>\n",
       "      <td>0.002197</td>\n",
       "    </tr>\n",
       "    <tr>\n",
       "      <th>1</th>\n",
       "      <td>2113</td>\n",
       "      <td>0.0</td>\n",
       "      <td>0.0</td>\n",
       "      <td>0.0</td>\n",
       "      <td>0.0</td>\n",
       "      <td>1.0</td>\n",
       "      <td>0.0</td>\n",
       "      <td>1.0</td>\n",
       "      <td>0.0</td>\n",
       "      <td>1.0</td>\n",
       "      <td>0.0</td>\n",
       "      <td>1.0</td>\n",
       "      <td>1.0</td>\n",
       "      <td>0.002197</td>\n",
       "    </tr>\n",
       "    <tr>\n",
       "      <th>2</th>\n",
       "      <td>5189</td>\n",
       "      <td>1.0</td>\n",
       "      <td>1.0</td>\n",
       "      <td>1.0</td>\n",
       "      <td>0.0</td>\n",
       "      <td>0.0</td>\n",
       "      <td>0.0</td>\n",
       "      <td>1.0</td>\n",
       "      <td>0.0</td>\n",
       "      <td>1.0</td>\n",
       "      <td>0.0</td>\n",
       "      <td>0.0</td>\n",
       "      <td>0.0</td>\n",
       "      <td>0.002197</td>\n",
       "    </tr>\n",
       "    <tr>\n",
       "      <th>3</th>\n",
       "      <td>10239</td>\n",
       "      <td>0.0</td>\n",
       "      <td>0.0</td>\n",
       "      <td>1.0</td>\n",
       "      <td>0.0</td>\n",
       "      <td>0.0</td>\n",
       "      <td>1.0</td>\n",
       "      <td>0.0</td>\n",
       "      <td>0.0</td>\n",
       "      <td>1.0</td>\n",
       "      <td>0.0</td>\n",
       "      <td>0.0</td>\n",
       "      <td>0.0</td>\n",
       "      <td>0.001591</td>\n",
       "    </tr>\n",
       "    <tr>\n",
       "      <th>4</th>\n",
       "      <td>3391</td>\n",
       "      <td>1.0</td>\n",
       "      <td>0.0</td>\n",
       "      <td>1.0</td>\n",
       "      <td>0.0</td>\n",
       "      <td>0.0</td>\n",
       "      <td>0.0</td>\n",
       "      <td>0.0</td>\n",
       "      <td>1.0</td>\n",
       "      <td>0.0</td>\n",
       "      <td>1.0</td>\n",
       "      <td>1.0</td>\n",
       "      <td>1.0</td>\n",
       "      <td>0.002197</td>\n",
       "    </tr>\n",
       "  </tbody>\n",
       "</table>\n",
       "</div>"
      ],
      "text/plain": [
       "   Unnamed: 0  sex  race  age_cat=25 to 45  age_cat=Greater than 45  \\\n",
       "0        5578  0.0   0.0               0.0                      0.0   \n",
       "1        2113  0.0   0.0               0.0                      0.0   \n",
       "2        5189  1.0   1.0               1.0                      0.0   \n",
       "3       10239  0.0   0.0               1.0                      0.0   \n",
       "4        3391  1.0   0.0               1.0                      0.0   \n",
       "\n",
       "   age_cat=Less than 25  priors_count=0  priors_count=1 to 3  \\\n",
       "0                   1.0             0.0                  1.0   \n",
       "1                   1.0             0.0                  1.0   \n",
       "2                   0.0             0.0                  1.0   \n",
       "3                   0.0             1.0                  0.0   \n",
       "4                   0.0             0.0                  0.0   \n",
       "\n",
       "   priors_count=More than 3  c_charge_degree=F  c_charge_degree=M  \\\n",
       "0                       0.0                1.0                0.0   \n",
       "1                       0.0                1.0                0.0   \n",
       "2                       0.0                1.0                0.0   \n",
       "3                       0.0                1.0                0.0   \n",
       "4                       1.0                0.0                1.0   \n",
       "\n",
       "   two_year_recid  predictions   weights  \n",
       "0             1.0          1.0  0.002197  \n",
       "1             1.0          1.0  0.002197  \n",
       "2             0.0          0.0  0.002197  \n",
       "3             0.0          0.0  0.001591  \n",
       "4             1.0          1.0  0.002197  "
      ]
     },
     "execution_count": 19,
     "metadata": {},
     "output_type": "execute_result"
    }
   ],
   "source": [
    "pred_df['weights'] = epsilon_to_weights[epsilons[lowest_i]].values() # For example, when epsilon = 0.2\n",
    "pred_df.head(5)"
   ]
  },
  {
   "cell_type": "code",
   "execution_count": 20,
   "metadata": {},
   "outputs": [],
   "source": [
    "# Marginal Distribution Function\n",
    "def marginalize(data, X_attr, weights):\n",
    "    X_values = data[X_attr]\n",
    "    key_list = np.unique(X_values)\n",
    "    X_marginal = {k: 0 for k in key_list}\n",
    "    for i in range(0, len(X_values)):\n",
    "        X_marginal[X_values[i]] = X_marginal[X_values[i]] + weights[i]\n",
    "    return X_marginal\n",
    "\n",
    "def freq_dict(data, X_attr):\n",
    "    X_values = data[X_attr].value_counts()\n",
    "    X_freqs = dict()\n",
    "    for value in X_values.keys():\n",
    "        X_freqs[value] = float(X_values[value])/float(len(data))\n",
    "    return X_freqs\n",
    "\n",
    "# Returns a tuple of two lists of the items in each dictionary sorted by order of their keys\n",
    "def graph_tuple(dict1, dict2):\n",
    "    tuple1 = []\n",
    "    tuple2 = []\n",
    "    for key in sorted(dict1.keys()):\n",
    "        tuple1.append(dict1[key])\n",
    "        tuple2.append(dict2[key])\n",
    "    \n",
    "    return (tuple1, tuple2)"
   ]
  },
  {
   "cell_type": "code",
   "execution_count": 21,
   "metadata": {},
   "outputs": [],
   "source": [
    "def l1_dist(dict1, dict2):\n",
    "    l1_total = 0\n",
    "    for key in sorted(dict1.keys()):\n",
    "        diff = abs(dict1[key] - dict2[key])\n",
    "        l1_total = l1_total + diff\n",
    "        \n",
    "    return l1_total"
   ]
  },
  {
   "cell_type": "code",
   "execution_count": 28,
   "metadata": {},
   "outputs": [
    {
     "name": "stdout",
     "output_type": "stream",
     "text": [
      "{0.0: 0.8184090935000058, 1.0: 0.18159090970000005}\n"
     ]
    },
    {
     "data": {
      "image/png": "[encoded data removed]",
      "text/plain": [
       "<Figure size 864x864 with 9 Axes>"
      ]
     },
     "metadata": {
      "needs_background": "light"
     },
     "output_type": "display_data"
    }
   ],
   "source": [
    "# Get the unweighted and weighted distributions on the data\n",
    "unweighted_marginal = {}\n",
    "reweighted_marginal = {}\n",
    "\n",
    "X_sex_freq = freq_dict(pred_df, 'sex')\n",
    "X_sex_marginal = marginalize(pred_df, 'sex', pred_df['weights'])\n",
    "X_sex_tuple = graph_tuple(X_sex_freq, X_sex_marginal)\n",
    "\n",
    "table_results['sex'] = l1_dist(X_sex_freq, X_sex_marginal)\n",
    "\n",
    "print(X_sex_marginal)\n",
    "unweighted_marginal['Sex = M'] = X_sex_freq[0]\n",
    "reweighted_marginal['Sex = M'] = X_sex_marginal[0]\n",
    "\n",
    "# Marginal Distribution on Sex \n",
    "X = np.arange(len(X_sex_freq))\n",
    "plt.figure(figsize=(12,12))\n",
    "plt.subplot(2,5,1)\n",
    "plt.bar(X, X_sex_tuple[0], width=0.2, align='center')\n",
    "plt.bar(X+0.2, X_sex_tuple[1], width=0.2, align='center')\n",
    "plt.xlabel('Sex')\n",
    "plt.ylabel('Frequency in Data (%)')\n",
    "\n",
    "X_age_25_45_freq = freq_dict(pred_df, 'age_cat=25 to 45')\n",
    "X_age_25_45_marginal = marginalize(pred_df, 'age_cat=25 to 45', pred_df['weights'])\n",
    "X_age_25_45_tuple = graph_tuple(X_age_25_45_freq, X_age_25_45_marginal)\n",
    "\n",
    "table_results['age_25_45'] = l1_dist(X_age_25_45_freq, X_age_25_45_marginal)\n",
    "\n",
    "unweighted_marginal['25 <= Age <= 45'] = X_age_25_45_freq[1]\n",
    "reweighted_marginal['25 <= Age <= 45'] = X_age_25_45_marginal[1]\n",
    "\n",
    "# Marginal Distribution on Age \n",
    "X = np.asarray(list(X_age_25_45_marginal.keys()))\n",
    "plt.subplot(2,5,2)\n",
    "plt.bar(X, X_age_25_45_tuple[0], width = 0.2, align='center')\n",
    "plt.bar(X + 0.2, X_age_25_45_tuple[1], width = 0.2, align='center')\n",
    "plt.xlabel('25 < Age < 45')\n",
    "\n",
    "X_age_25_freq = freq_dict(pred_df, 'age_cat=Less than 25')\n",
    "X_age_25_marginal = marginalize(pred_df, 'age_cat=Less than 25', pred_df['weights'])\n",
    "X_age_25_tuple = graph_tuple(X_age_25_freq, X_age_25_marginal)\n",
    "\n",
    "table_results['age_25'] = l1_dist(X_age_25_freq, X_age_25_marginal)\n",
    "\n",
    "unweighted_marginal['Age < 25'] = X_age_25_freq[1]\n",
    "reweighted_marginal['Age < 25'] = X_age_25_marginal[1]\n",
    "\n",
    "# Marginal Distribution on Age \n",
    "X = np.asarray(list(X_age_25_marginal.keys()))\n",
    "plt.subplot(2,5,3)\n",
    "# plt.title(\"COMPAS DP Reweighted Marginal Distributions\")\n",
    "plt.bar(X, X_age_25_tuple[0], width = 0.2, align='center')\n",
    "plt.bar(X + 0.2, X_age_25_tuple[1], width = 0.2, align='center')\n",
    "plt.xlabel('Age < 25')\n",
    "\n",
    "X_age_45_freq = freq_dict(pred_df, 'age_cat=Greater than 45')\n",
    "X_age_45_marginal = marginalize(pred_df, 'age_cat=Greater than 45', pred_df['weights'])\n",
    "X_age_45_tuple = graph_tuple(X_age_45_freq, X_age_45_marginal)\n",
    "\n",
    "table_results['age_45'] = l1_dist(X_age_45_freq, X_age_45_marginal)\n",
    "\n",
    "unweighted_marginal['Age > 45'] = X_age_45_freq[1]\n",
    "reweighted_marginal['Age > 45'] = X_age_45_marginal[1]\n",
    "\n",
    "# Marginal Distribution on Age \n",
    "X = np.asarray(list(X_age_45_marginal.keys()))\n",
    "plt.subplot(2,5,4)\n",
    "plt.bar(X, X_age_45_tuple[0], width = 0.2, align='center')\n",
    "plt.bar(X + 0.2, X_age_45_tuple[1], width = 0.2, align='center')\n",
    "plt.xlabel('Age > 45')\n",
    "\n",
    "X_priors_freq = freq_dict(pred_df, 'priors_count=0')\n",
    "X_priors_marginal = marginalize(pred_df, 'priors_count=0', pred_df['weights'])\n",
    "X_priors_tuple = graph_tuple(X_priors_freq, X_priors_marginal)\n",
    "\n",
    "table_results['priors_0'] = l1_dist(X_priors_freq, X_priors_marginal)\n",
    "\n",
    "unweighted_marginal['Prior Crimes = 0'] = X_priors_freq[1]\n",
    "reweighted_marginal['Prior Crimes = 0'] = X_priors_marginal[1]\n",
    "\n",
    "# Marginal Distribution on Priors \n",
    "X = np.asarray(list(X_priors_marginal.keys()))\n",
    "plt.subplot(2,5,5)\n",
    "plt.bar(X, X_priors_tuple[0], width = 0.2, align='center')\n",
    "plt.bar(X + 0.2, X_priors_tuple[1], width = 0.2, align='center')\n",
    "plt.xlabel('Prior Crimes = 0')\n",
    "\n",
    "X_priors_freq = freq_dict(pred_df, 'priors_count=1 to 3')\n",
    "X_priors_marginal = marginalize(pred_df, 'priors_count=1 to 3', pred_df['weights'])\n",
    "X_priors_tuple = graph_tuple(X_priors_freq, X_priors_marginal)\n",
    "\n",
    "table_results['priors_1_3'] = l1_dist(X_priors_freq, X_priors_marginal)\n",
    "\n",
    "unweighted_marginal['1 < Prior Crimes < 3'] = X_priors_freq[1]\n",
    "reweighted_marginal['1 < Prior Crimes < 3'] = X_priors_marginal[1]\n",
    "\n",
    "# Marginal Distribution on Priors \n",
    "X = np.asarray(list(X_priors_marginal.keys()))\n",
    "plt.subplot(2,5,6)\n",
    "plt.bar(X, X_priors_tuple[0], width = 0.2, align='center')\n",
    "plt.bar(X + 0.2, X_priors_tuple[1], width = 0.2, align='center')\n",
    "plt.xlabel('1 < Prior Crimes < 3')\n",
    "plt.ylabel('Frequency in Data (%)')\n",
    "\n",
    "X_priors_freq = freq_dict(pred_df, 'priors_count=More than 3')\n",
    "X_priors_marginal = marginalize(pred_df, 'priors_count=More than 3', pred_df['weights'])\n",
    "X_priors_tuple = graph_tuple(X_priors_freq, X_priors_marginal)\n",
    "\n",
    "table_results['priors_3'] = l1_dist(X_priors_freq, X_priors_marginal)\n",
    "\n",
    "unweighted_marginal['Prior Crimes > 3'] = X_priors_freq[1]\n",
    "reweighted_marginal['Prior Crimes > 3'] = X_priors_marginal[1]\n",
    "\n",
    "# Marginal Distribution on Priors \n",
    "X = np.asarray(list(X_priors_marginal.keys()))\n",
    "plt.subplot(2,5,7)\n",
    "plt.bar(X, X_priors_tuple[0], width = 0.2, align='center')\n",
    "plt.bar(X + 0.2, X_priors_tuple[1], width = 0.2, align='center')\n",
    "plt.xlabel('Prior Crimes > 3')\n",
    "\n",
    "X_charge_deg_freq = freq_dict(pred_df, 'c_charge_degree=F')\n",
    "X_charge_deg_marginal = marginalize(pred_df, 'c_charge_degree=F', pred_df['weights'])\n",
    "X_charge_deg_tuple = graph_tuple(X_charge_deg_freq, X_charge_deg_marginal)\n",
    "\n",
    "table_results['charge_deg_F'] = l1_dist(X_charge_deg_freq, X_charge_deg_marginal)\n",
    "\n",
    "unweighted_marginal['Charge Degree = Felony'] = X_charge_deg_freq[1]\n",
    "reweighted_marginal['Charge Degree = Felony'] = X_charge_deg_marginal[1]\n",
    "\n",
    "# Marginal Distribution on Charge Degree \n",
    "X = np.asarray(list(X_priors_marginal.keys()))\n",
    "plt.subplot(2,5,8)\n",
    "plt.bar(X, X_charge_deg_tuple[0], width = 0.2, align='center')\n",
    "plt.bar(X + 0.2, X_charge_deg_tuple[1], width = 0.2, align='center')\n",
    "plt.xlabel('Charge Deg. = Felony')\n",
    "\n",
    "X_charge_deg_freq = freq_dict(pred_df, 'c_charge_degree=M')\n",
    "X_charge_deg_marginal = marginalize(pred_df, 'c_charge_degree=M', pred_df['weights'])\n",
    "X_charge_deg_tuple = graph_tuple(X_charge_deg_freq, X_charge_deg_marginal)\n",
    "  \n",
    "table_results['charge_deg_M'] = l1_dist(X_charge_deg_freq, X_charge_deg_marginal)\n",
    "\n",
    "# Marginal Distribution on Charge Degree \n",
    "X = np.asarray(list(X_priors_marginal.keys()))\n",
    "plt.subplot(2,5,9)\n",
    "plt.bar(X, X_charge_deg_tuple[0], width = 0.2, align='center')\n",
    "plt.bar(X + 0.2, X_charge_deg_tuple[1], width = 0.2, align='center')\n",
    "plt.xlabel('Charge Deg. = Misdemeanor')\n",
    "plt.savefig(\"./../../part1_results/{}/{}_compas_DP\".format(algorithm_used, algorithm_used))\n",
    "plt.tight_layout()\n",
    "plt.show()"
   ]
  },
  {
   "cell_type": "code",
   "execution_count": 24,
   "metadata": {},
   "outputs": [],
   "source": [
    "table = pd.DataFrame.from_dict([table_results])\n",
    "table.to_csv(\"./../../part1_results/{}/{}_compas_DP_table.csv\".format(algorithm_used, algorithm_used))"
   ]
  },
  {
   "cell_type": "code",
   "execution_count": 30,
   "metadata": {},
   "outputs": [
    {
     "data": {
      "text/plain": [
       "{'Sex = M': 0.8184090935000058,\n",
       " '25 <= Age <= 45': 0.5737878806000003,\n",
       " 'Age < 25': 0.20007575830000007,\n",
       " 'Age > 45': 0.2261363643,\n",
       " 'Prior Crimes = 0': 0.2899242434999999,\n",
       " '1 < Prior Crimes < 3': 0.3821969710999993,\n",
       " 'Prior Crimes > 3': 0.32787878859999947,\n",
       " 'Charge Degree = Felony': 0.6154545474000014}"
      ]
     },
     "execution_count": 30,
     "metadata": {},
     "output_type": "execute_result"
    }
   ],
   "source": [
    "reweighted_marginal"
   ]
  },
  {
   "cell_type": "code",
   "execution_count": 31,
   "metadata": {},
   "outputs": [
    {
     "data": {
      "text/plain": [
       "{'Sex = M': 0.8162878787878788,\n",
       " '25 <= Age <= 45': 0.571969696969697,\n",
       " 'Age < 25': 0.20643939393939395,\n",
       " 'Age > 45': 0.2215909090909091,\n",
       " 'Prior Crimes = 0': 0.30113636363636365,\n",
       " '1 < Prior Crimes < 3': 0.3958333333333333,\n",
       " 'Prior Crimes > 3': 0.30303030303030304,\n",
       " 'Charge Degree = Felony': 0.6136363636363636}"
      ]
     },
     "execution_count": 31,
     "metadata": {},
     "output_type": "execute_result"
    }
   ],
   "source": [
    "unweighted_marginal"
   ]
  }
 ],
 "metadata": {
  "colab": {
   "collapsed_sections": [],
   "name": "SP_linear_prog_constraints.ipynb",
   "provenance": [],
   "toc_visible": true
  },
  "kernelspec": {
   "display_name": "Python 3",
   "language": "python",
   "name": "python3"
  },
  "language_info": {
   "codemirror_mode": {
    "name": "ipython",
    "version": 3
   },
   "file_extension": ".py",
   "mimetype": "text/x-python",
   "name": "python",
   "nbconvert_exporter": "python",
   "pygments_lexer": "ipython3",
   "version": "3.7.3"
  }
 },
 "nbformat": 4,
 "nbformat_minor": 2
}
