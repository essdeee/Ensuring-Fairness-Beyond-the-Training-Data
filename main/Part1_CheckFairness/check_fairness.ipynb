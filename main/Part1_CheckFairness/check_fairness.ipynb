{
 "cells": [
  {
   "cell_type": "code",
   "execution_count": 2,
   "metadata": {},
   "outputs": [],
   "source": [
    "import pandas as pd\n",
    "from matplotlib import pyplot as plt\n",
    "import numpy as np"
   ]
  },
  {
   "cell_type": "markdown",
   "metadata": {},
   "source": [
    "# Import Dataset\n",
    "Import dataset and organize features. Does both COMPAS and Adult results."
   ]
  },
  {
   "cell_type": "code",
   "execution_count": 3,
   "metadata": {},
   "outputs": [],
   "source": [
    "dataset_used = 'adult' # adult, compas\n",
    "algorithm_used = 'postprocessing' # preprocessing, inprocessing, postprocessing\n",
    "fair_constraint = 'dp' # dp, eo\n",
    "\n",
    "unfair_df = pd.read_csv('./../../predicted_data/unfair_logreg_{}.csv'.format(dataset_used)) ### MODEL IS IN THE POSTPROCESSING NOTEBOOK ### \n",
    "df = pd.read_csv('./../../predicted_data/{}/{}_logreg_{}_{}.csv'.format(\n",
    "    algorithm_used, algorithm_used, dataset_used, fair_constraint))"
   ]
  },
  {
   "cell_type": "code",
   "execution_count": 4,
   "metadata": {},
   "outputs": [
    {
     "data": {
      "text/html": [
       "<div>\n",
       "<style scoped>\n",
       "    .dataframe tbody tr th:only-of-type {\n",
       "        vertical-align: middle;\n",
       "    }\n",
       "\n",
       "    .dataframe tbody tr th {\n",
       "        vertical-align: top;\n",
       "    }\n",
       "\n",
       "    .dataframe thead th {\n",
       "        text-align: right;\n",
       "    }\n",
       "</style>\n",
       "<table border=\"1\" class=\"dataframe\">\n",
       "  <thead>\n",
       "    <tr style=\"text-align: right;\">\n",
       "      <th></th>\n",
       "      <th>Unnamed: 0</th>\n",
       "      <th>Unnamed: 0.1</th>\n",
       "      <th>race</th>\n",
       "      <th>sex</th>\n",
       "      <th>Age (decade)=10</th>\n",
       "      <th>Age (decade)=20</th>\n",
       "      <th>Age (decade)=30</th>\n",
       "      <th>Age (decade)=40</th>\n",
       "      <th>Age (decade)=50</th>\n",
       "      <th>Age (decade)=60</th>\n",
       "      <th>...</th>\n",
       "      <th>Education Years=7</th>\n",
       "      <th>Education Years=8</th>\n",
       "      <th>Education Years=9</th>\n",
       "      <th>Education Years=10</th>\n",
       "      <th>Education Years=11</th>\n",
       "      <th>Education Years=12</th>\n",
       "      <th>Education Years=&lt;6</th>\n",
       "      <th>Education Years=&gt;12</th>\n",
       "      <th>predictions</th>\n",
       "      <th>Income Binary</th>\n",
       "    </tr>\n",
       "  </thead>\n",
       "  <tbody>\n",
       "    <tr>\n",
       "      <th>0</th>\n",
       "      <td>0</td>\n",
       "      <td>5426</td>\n",
       "      <td>1.0</td>\n",
       "      <td>1.0</td>\n",
       "      <td>0.0</td>\n",
       "      <td>0.0</td>\n",
       "      <td>1.0</td>\n",
       "      <td>0.0</td>\n",
       "      <td>0.0</td>\n",
       "      <td>0.0</td>\n",
       "      <td>...</td>\n",
       "      <td>0.0</td>\n",
       "      <td>0.0</td>\n",
       "      <td>1.0</td>\n",
       "      <td>0.0</td>\n",
       "      <td>0.0</td>\n",
       "      <td>0.0</td>\n",
       "      <td>0.0</td>\n",
       "      <td>0.0</td>\n",
       "      <td>0</td>\n",
       "      <td>0.0</td>\n",
       "    </tr>\n",
       "    <tr>\n",
       "      <th>1</th>\n",
       "      <td>1</td>\n",
       "      <td>577</td>\n",
       "      <td>1.0</td>\n",
       "      <td>0.0</td>\n",
       "      <td>0.0</td>\n",
       "      <td>0.0</td>\n",
       "      <td>1.0</td>\n",
       "      <td>0.0</td>\n",
       "      <td>0.0</td>\n",
       "      <td>0.0</td>\n",
       "      <td>...</td>\n",
       "      <td>0.0</td>\n",
       "      <td>0.0</td>\n",
       "      <td>0.0</td>\n",
       "      <td>0.0</td>\n",
       "      <td>0.0</td>\n",
       "      <td>1.0</td>\n",
       "      <td>0.0</td>\n",
       "      <td>0.0</td>\n",
       "      <td>0</td>\n",
       "      <td>0.0</td>\n",
       "    </tr>\n",
       "    <tr>\n",
       "      <th>2</th>\n",
       "      <td>2</td>\n",
       "      <td>15871</td>\n",
       "      <td>0.0</td>\n",
       "      <td>0.0</td>\n",
       "      <td>0.0</td>\n",
       "      <td>0.0</td>\n",
       "      <td>0.0</td>\n",
       "      <td>1.0</td>\n",
       "      <td>0.0</td>\n",
       "      <td>0.0</td>\n",
       "      <td>...</td>\n",
       "      <td>0.0</td>\n",
       "      <td>0.0</td>\n",
       "      <td>0.0</td>\n",
       "      <td>1.0</td>\n",
       "      <td>0.0</td>\n",
       "      <td>0.0</td>\n",
       "      <td>0.0</td>\n",
       "      <td>0.0</td>\n",
       "      <td>0</td>\n",
       "      <td>0.0</td>\n",
       "    </tr>\n",
       "    <tr>\n",
       "      <th>3</th>\n",
       "      <td>3</td>\n",
       "      <td>4321</td>\n",
       "      <td>1.0</td>\n",
       "      <td>1.0</td>\n",
       "      <td>0.0</td>\n",
       "      <td>0.0</td>\n",
       "      <td>1.0</td>\n",
       "      <td>0.0</td>\n",
       "      <td>0.0</td>\n",
       "      <td>0.0</td>\n",
       "      <td>...</td>\n",
       "      <td>0.0</td>\n",
       "      <td>0.0</td>\n",
       "      <td>1.0</td>\n",
       "      <td>0.0</td>\n",
       "      <td>0.0</td>\n",
       "      <td>0.0</td>\n",
       "      <td>0.0</td>\n",
       "      <td>0.0</td>\n",
       "      <td>0</td>\n",
       "      <td>0.0</td>\n",
       "    </tr>\n",
       "    <tr>\n",
       "      <th>4</th>\n",
       "      <td>4</td>\n",
       "      <td>2326</td>\n",
       "      <td>1.0</td>\n",
       "      <td>1.0</td>\n",
       "      <td>0.0</td>\n",
       "      <td>0.0</td>\n",
       "      <td>1.0</td>\n",
       "      <td>0.0</td>\n",
       "      <td>0.0</td>\n",
       "      <td>0.0</td>\n",
       "      <td>...</td>\n",
       "      <td>0.0</td>\n",
       "      <td>0.0</td>\n",
       "      <td>0.0</td>\n",
       "      <td>1.0</td>\n",
       "      <td>0.0</td>\n",
       "      <td>0.0</td>\n",
       "      <td>0.0</td>\n",
       "      <td>0.0</td>\n",
       "      <td>0</td>\n",
       "      <td>0.0</td>\n",
       "    </tr>\n",
       "  </tbody>\n",
       "</table>\n",
       "<p>5 rows × 22 columns</p>\n",
       "</div>"
      ],
      "text/plain": [
       "   Unnamed: 0  Unnamed: 0.1  race  sex  Age (decade)=10  Age (decade)=20  \\\n",
       "0           0          5426   1.0  1.0              0.0              0.0   \n",
       "1           1           577   1.0  0.0              0.0              0.0   \n",
       "2           2         15871   0.0  0.0              0.0              0.0   \n",
       "3           3          4321   1.0  1.0              0.0              0.0   \n",
       "4           4          2326   1.0  1.0              0.0              0.0   \n",
       "\n",
       "   Age (decade)=30  Age (decade)=40  Age (decade)=50  Age (decade)=60  ...  \\\n",
       "0              1.0              0.0              0.0              0.0  ...   \n",
       "1              1.0              0.0              0.0              0.0  ...   \n",
       "2              0.0              1.0              0.0              0.0  ...   \n",
       "3              1.0              0.0              0.0              0.0  ...   \n",
       "4              1.0              0.0              0.0              0.0  ...   \n",
       "\n",
       "   Education Years=7  Education Years=8  Education Years=9  \\\n",
       "0                0.0                0.0                1.0   \n",
       "1                0.0                0.0                0.0   \n",
       "2                0.0                0.0                0.0   \n",
       "3                0.0                0.0                1.0   \n",
       "4                0.0                0.0                0.0   \n",
       "\n",
       "   Education Years=10  Education Years=11  Education Years=12  \\\n",
       "0                 0.0                 0.0                 0.0   \n",
       "1                 0.0                 0.0                 1.0   \n",
       "2                 1.0                 0.0                 0.0   \n",
       "3                 0.0                 0.0                 0.0   \n",
       "4                 1.0                 0.0                 0.0   \n",
       "\n",
       "   Education Years=<6  Education Years=>12  predictions  Income Binary  \n",
       "0                 0.0                  0.0            0            0.0  \n",
       "1                 0.0                  0.0            0            0.0  \n",
       "2                 0.0                  0.0            0            0.0  \n",
       "3                 0.0                  0.0            0            0.0  \n",
       "4                 0.0                  0.0            0            0.0  \n",
       "\n",
       "[5 rows x 22 columns]"
      ]
     },
     "execution_count": 4,
     "metadata": {},
     "output_type": "execute_result"
    }
   ],
   "source": [
    "df.head(5)"
   ]
  },
  {
   "cell_type": "code",
   "execution_count": 5,
   "metadata": {},
   "outputs": [],
   "source": [
    "if(dataset_used == 'adult'):\n",
    "    sensitive_features_test = df.pop('sex')\n",
    "    sensitive_features_test = sensitive_features_test.replace(0, 'Female')\n",
    "    sensitive_features_test = sensitive_features_test.replace(1, 'Male')\n",
    "    y_test = df.pop('Income Binary')\n",
    "    X_test = df\n",
    "\n",
    "    unfair_sensitive_features_test = unfair_df.pop('sex')\n",
    "    unfair_sensitive_features_test = unfair_sensitive_features_test.replace(0, 'Female')\n",
    "    unfair_sensitive_features_test = unfair_sensitive_features_test.replace(1, 'Male')\n",
    "    unfair_y_test = unfair_df.pop('Income Binary')\n",
    "    unfair_X_test = unfair_df\n",
    "\n",
    "elif(dataset_used == 'compas'):\n",
    "    sensitive_features_test = df.pop('race')\n",
    "    sensitive_features_test = sensitive_features_test.replace(0, 'African-American')\n",
    "    sensitive_features_test = sensitive_features_test.replace(1, 'Caucasian')\n",
    "    y_test = df.pop('two_year_recid')\n",
    "    X_test = df\n",
    "\n",
    "    unfair_sensitive_features_test = unfair_df.pop('sex')\n",
    "    unfair_sensitive_features_test = unfair_sensitive_features_test.replace(0, 'African-American')\n",
    "    unfair_sensitive_features_test = unfair_sensitive_features_test.replace(1, 'Caucasian')\n",
    "    unfair_y_test = unfair_df.pop('two_year_recid')\n",
    "    unfair_X_test = unfair_df"
   ]
  },
  {
   "cell_type": "markdown",
   "metadata": {},
   "source": [
    "# Graph Results\n",
    "We graph the results of the classifiers w.r.t. the fairness constraints:\n",
    "\n",
    "- Demographic Parity (DP): $P\\ [\\ h(X)=\\hat{y}\\ |\\ A=a] = P\\ [\\ h(X)=\\hat{y}\\ ] \\qquad \\forall a, \\hat{y}$\n",
    "- Equalized Odds (EO): $P\\ [\\ h(X)=\\hat{y}\\ |\\ A=a, Y=y] = P\\ [\\ h(X)=\\hat{y}\\ |\\ Y=y\\ ] \\qquad \\forall a, \\hat{y}$"
   ]
  },
  {
   "cell_type": "code",
   "execution_count": 6,
   "metadata": {},
   "outputs": [],
   "source": [
    "%matplotlib inline\n",
    "\n",
    "import matplotlib.pyplot as plt\n",
    "import matplotlib.cm as cm\n",
    "\n",
    "# show_proportions is only a helper function for plotting\n",
    "def show_proportions(X, sensitive_features, y_pred, dataset, y=None, description=None, plot_row_index=1):\n",
    "    print(\"\\n\" + description)\n",
    "    plt.figure(plot_row_index)\n",
    "    plt.title(description)\n",
    "    positive_outcome = 'recidivism' if dataset=='compas' else 'income>50k'\n",
    "    plt.ylabel(\"P[{} predicted | conditions]\".format(positive_outcome))\n",
    "    \n",
    "    indices = {}\n",
    "    positive_indices = {}\n",
    "    negative_indices = {}\n",
    "    recidivism_count = {}\n",
    "    recidivism_pct = {}\n",
    "    groups = np.unique(sensitive_features.values)\n",
    "    n_groups = len(groups)\n",
    "    max_group_length = max([len(group) for group in groups])\n",
    "    color = cm.rainbow(np.linspace(0,1,n_groups))\n",
    "    x_tick_labels_basic = []\n",
    "    x_tick_labels_by_label = []\n",
    "    for index, group in enumerate(groups):\n",
    "        indices[group] = sensitive_features.index[sensitive_features == group]\n",
    "        recidivism_count[group] = sum(y_pred[indices[group]])\n",
    "        recidivism_pct[group] = recidivism_count[group]/len(indices[group])\n",
    "        print(\"P[{} predicted | {}]                {}= {}\".format(positive_outcome, group, \" \"*(max_group_length-len(group)), recidivism_pct[group]))\n",
    "    \n",
    "        plt.bar(index + 1, recidivism_pct[group], color=color[index])\n",
    "        x_tick_labels_basic.append(group)\n",
    "    \n",
    "        if y is not None:\n",
    "            positive_indices[group] = sensitive_features.index[(sensitive_features == group) & (y == 1)]\n",
    "            negative_indices[group] = sensitive_features.index[(sensitive_features == group) & (y == 0)]\n",
    "            prob_1 = sum(y_pred[positive_indices[group]])/len(positive_indices[group])\n",
    "            prob_0 = sum(y_pred[negative_indices[group]])/len(negative_indices[group])\n",
    "            print(\"P[{} predicted | {}, recidivism]    {}= {}\".format(positive_outcome, group, \" \"*(max_group_length-len(group)) , prob_1))\n",
    "            print(\"P[{} predicted | {}, no recidivism] {}= {}\".format(positive_outcome, group, \" \"*(max_group_length-len(group)), prob_0))\n",
    "\n",
    "            plt.bar(n_groups + 1 + 2 * index, prob_1, color=color[index])\n",
    "            plt.bar(n_groups + 2 + 2 * index, prob_0, color=color[index])\n",
    "            x_tick_labels_by_label.extend([\"{} {}\".format(group, positive_outcome), \"{} no {}\".format(group, positive_outcome)])\n",
    "    \n",
    "    x_tick_labels = x_tick_labels_basic + x_tick_labels_by_label\n",
    "    plt.xticks(range(1, len(x_tick_labels)+1), x_tick_labels, rotation=45, horizontalalignment=\"right\")"
   ]
  },
  {
   "cell_type": "markdown",
   "metadata": {},
   "source": [
    "# Fairness-Unaware Model\n",
    "These are results with standard logistic regression without any added fairness constraints. The first graph shows the ratio of the positive outcome $Y$ (income > 50k for Adult, recidivism for COMPAS) in the original dataset. The second graph shows how well the fairness-unaware model does w.r.t. the fairness constraints."
   ]
  },
  {
   "cell_type": "code",
   "execution_count": 7,
   "metadata": {},
   "outputs": [
    {
     "name": "stdout",
     "output_type": "stream",
     "text": [
      "\n",
      "original test data:\n",
      "P[income>50k predicted | Female]                = 0.10865561694290976\n",
      "P[income>50k predicted | Male]                  = 0.31234643734643736\n",
      "\n",
      "fairness-unaware prediction on adult data:\n",
      "P[income>50k predicted | Female]                = 0.22406384284837325\n",
      "P[income>50k predicted | Female, recidivism]    = 0.519774011299435\n",
      "P[income>50k predicted | Female, no recidivism] = 0.18801652892561985\n",
      "P[income>50k predicted | Male]                  = 0.5942874692874693\n",
      "P[income>50k predicted | Male, recidivism]      = 0.7925270403146509\n",
      "P[income>50k predicted | Male, no recidivism]   = 0.5042429656096472\n"
     ]
    },
    {
     "data": {
      "image/png": "[encoded data removed]",
      "text/plain": [
       "<Figure size 432x288 with 1 Axes>"
      ]
     },
     "metadata": {
      "needs_background": "light"
     },
     "output_type": "display_data"
    },
    {
     "data": {
      "image/png": "[encoded data removed]",
      "text/plain": [
       "<Figure size 432x288 with 1 Axes>"
      ]
     },
     "metadata": {
      "needs_background": "light"
     },
     "output_type": "display_data"
    }
   ],
   "source": [
    "show_proportions(X_test, sensitive_features_test, y_test, dataset_used, description=\"original test data:\", plot_row_index=3)\n",
    "show_proportions(X_test, sensitive_features_test, unfair_df['predictions'], dataset_used, y_test, description=\"fairness-unaware prediction on {} data:\".format(dataset_used), plot_row_index=4)"
   ]
  },
  {
   "cell_type": "markdown",
   "metadata": {},
   "source": [
    "# Fairness-Aware Model\n",
    "Then, we plot the results of our fair model (preprocessing, inprocessing, postprocessing), w.r.t. a certain fairness constraint (Demographic Parity, Equalized Odds)."
   ]
  },
  {
   "cell_type": "code",
   "execution_count": 9,
   "metadata": {},
   "outputs": [
    {
     "name": "stdout",
     "output_type": "stream",
     "text": [
      "\n",
      "dp with postprocessing model on adult data:\n",
      "P[income>50k predicted | Female]                = 0.12093308778391651\n",
      "P[income>50k predicted | Female, recidivism]    = 0.3389830508474576\n",
      "P[income>50k predicted | Female, no recidivism] = 0.0943526170798898\n",
      "P[income>50k predicted | Male]                  = 0.11885749385749386\n",
      "P[income>50k predicted | Male, recidivism]      = 0.26450344149459193\n",
      "P[income>50k predicted | Male, no recidivism]   = 0.052702099151406875\n"
     ]
    },
    {
     "data": {
      "image/png": "[encoded data removed]",
      "text/plain": [
       "<Figure size 432x288 with 1 Axes>"
      ]
     },
     "metadata": {
      "needs_background": "light"
     },
     "output_type": "display_data"
    }
   ],
   "source": [
    "show_proportions(X_test, sensitive_features_test, df['predictions'], dataset_used, y_test, description=\"{} with {} model on {} data:\".format(fair_constraint, algorithm_used, dataset_used), plot_row_index=2)"
   ]
  }
 ],
 "metadata": {
  "kernelspec": {
   "display_name": "Python 3",
   "language": "python",
   "name": "python3"
  },
  "language_info": {
   "codemirror_mode": {
    "name": "ipython",
    "version": 3
   },
   "file_extension": ".py",
   "mimetype": "text/x-python",
   "name": "python",
   "nbconvert_exporter": "python",
   "pygments_lexer": "ipython3",
   "version": "3.7.3"
  }
 },
 "nbformat": 4,
 "nbformat_minor": 2
}
