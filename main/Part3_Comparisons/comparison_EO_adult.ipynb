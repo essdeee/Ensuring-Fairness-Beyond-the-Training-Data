{
 "cells": [
  {
   "cell_type": "markdown",
   "metadata": {
    "colab_type": "text",
    "id": "VYEUJK2JDiTS"
   },
   "source": [
    "# Adult EO Comparison"
   ]
  },
  {
   "cell_type": "code",
   "execution_count": 1,
   "metadata": {
    "colab": {},
    "colab_type": "code",
    "id": "TYaVKaWuDiTT"
   },
   "outputs": [],
   "source": [
    "import pandas as pd\n",
    "import numpy as np\n",
    "import matplotlib.pyplot as plt\n",
    "import cvxpy as cp\n",
    "from sklearn.linear_model import LogisticRegression\n",
    "from sklearn.metrics import accuracy_score\n",
    "import pickle\n",
    "from voting_classifier import VotingClassifier"
   ]
  },
  {
   "cell_type": "code",
   "execution_count": 2,
   "metadata": {},
   "outputs": [],
   "source": [
    "%matplotlib inline\n",
    "\n",
    "import matplotlib.pyplot as plt\n",
    "import matplotlib.cm as cm\n",
    "\n",
    "def evaluate_fairness(y_true, y_pred, sensitive_features):\n",
    "    \"\"\"\n",
    "    Evaluates fairness of the final majority vote classifier over T_inner hypotheses\n",
    "    on the test set.\n",
    "    #NOTE: defined in the meta_algo file, but we chose:\n",
    "    a0 := African-American (COMPAS), Female (Adult)\n",
    "    a1 := Caucasian (COMPAS), Male (Adult)\n",
    "\n",
    "    :return: list. subgroups in sensitive_features.\n",
    "    :return: list, dict, dict. groups is a list of the sensitive features in the dataset. \n",
    "    group_metrics is a dictionary containing dictionaries that have Delta_dp, Delta_eoy0, \n",
    "    and Delta_eoy1 for each group. gaps is a dictionary that contains the fairness gap\n",
    "    for dp, eo_y0 and eo_y1.\n",
    "    \"\"\"\n",
    "    groups = np.unique(sensitive_features.values)\n",
    "    pos_count = {}\n",
    "    dp_pct = {}\n",
    "    eo_y0_pct = {}\n",
    "    eo_y1_pct = {}\n",
    "\n",
    "    for index, group in enumerate(groups):\n",
    "        # Demographic Parity\n",
    "        indices = {}\n",
    "        indices[group] = sensitive_features.index[sensitive_features == group]\n",
    "        dp_pct[group] = sum(y_pred[indices[group]])/len(indices[group])\n",
    "\n",
    "        # Equalized Odds\n",
    "        y1_indices = {}\n",
    "        y0_indices = {}\n",
    "        y1_indices[group] = sensitive_features.index[(sensitive_features == group) & (y_true == 1)]\n",
    "        y0_indices[group] = sensitive_features.index[(sensitive_features == group) & (y_true == 0)]\n",
    "        eo_y0_pct[group] = sum(y_pred[y0_indices[group]])/len(y0_indices[group])   \n",
    "        eo_y1_pct[group] = sum(y_pred[y1_indices[group]])/len(y1_indices[group])\n",
    "\n",
    "    gaps = {}\n",
    "    group_metrics = {} # a dictionary of dictionaries\n",
    "\n",
    "    gaps['dp'] = abs(dp_pct[groups[0]] - dp_pct[groups[1]])\n",
    "    gaps['eo_y0'] = abs(eo_y0_pct[groups[0]] - eo_y0_pct[groups[1]])\n",
    "    gaps['eo_y1'] = abs(eo_y1_pct[groups[0]] - eo_y1_pct[groups[1]])\n",
    "    gaps['avg_eo'] = 0.5 * (gaps['eo_y0'] + gaps['eo_y1'])\n",
    "    group_metrics['dp'] = dp_pct\n",
    "    group_metrics['eo_y0'] = eo_y0_pct\n",
    "    group_metrics['eo_y1'] = eo_y1_pct\n",
    "\n",
    "    return groups, group_metrics, gaps"
   ]
  },
  {
   "cell_type": "code",
   "execution_count": 3,
   "metadata": {},
   "outputs": [],
   "source": [
    "def set_a_indices(sensitive_features, y):\n",
    "    \"\"\"\n",
    "    Creates a dictionary a_indices that contains the necessary information for which indices\n",
    "    contain the sensitive/protected attributes.\n",
    "\n",
    "    :return: dict 'a_indices' which contains a list of the a_0 indices, list of a_1 indices,\n",
    "    list of a_0 indices where y = 0, list of a_0 indices where y = 1, list of a_1 indices\n",
    "    where y = 0, list of a_1 indices where y = 1, and a list containing the a value of each sample.\n",
    "    \"\"\"\n",
    "    a_indices = dict()\n",
    "    a_indices['a0'] = sensitive_features.index[sensitive_features.eq(0)].tolist()\n",
    "    a_indices['a1'] = sensitive_features.index[sensitive_features.eq(1)].tolist()\n",
    "    a_indices['all'] = sensitive_features.tolist()\n",
    "\n",
    "    y0 = set(np.where(y == 0)[0])\n",
    "    y1 = set(np.where(y == 1)[0])\n",
    "    a_indices['a0_y0'] = list(y0.intersection(set(a_indices['a0'])))\n",
    "    a_indices['a0_y1'] = list(y1.intersection(set(a_indices['a0'])))\n",
    "    a_indices['a1_y0'] = list(y0.intersection(set(a_indices['a1'])))\n",
    "    a_indices['a1_y1'] = list(y1.intersection(set(a_indices['a1'])))\n",
    "\n",
    "    assert(len(a_indices['a0']) + len(a_indices['a1']) == len(y))\n",
    "    assert(len(a_indices['a0_y0']) + len(a_indices['a0_y1']) + len(a_indices['a1_y0']) + len(a_indices['a1_y1']) == len(y))\n",
    "    return a_indices\n",
    "\n",
    "def set_proportions(a_indices, y, fair_constraint):\n",
    "    proportions = {}\n",
    "    proportions['a0'] = len(a_indices['a0'])/float(len(y))\n",
    "    proportions['a1'] = len(a_indices['a1'])/float(len(y))\n",
    "    proportions['a0_y0'] = len(a_indices['a0_y0'])/float(len(y))\n",
    "    proportions['a0_y1'] = len(a_indices['a0_y1'])/float(len(y))\n",
    "    proportions['a1_y0'] = len(a_indices['a1_y0'])/float(len(y))\n",
    "    proportions['a1_y1'] = len(a_indices['a1_y1'])/float(len(y))\n",
    "    proportions['y0'] = (len(np.where(y == 0)[0]))/float(len(y))\n",
    "    proportions['y1'] = (len(np.where(y == 1)[0]))/float(len(y))\n",
    "\n",
    "    print('y0 proportion = {}'.format(proportions['y0']))\n",
    "    print('y1 proportion = {}'.format(proportions['y1']))\n",
    "    print('a0 proportion = {}'.format(proportions['a0']))\n",
    "    print('a1 proportion = {}'.format(proportions['a1']))\n",
    "    print('a0 y0 proportion = {}'.format(proportions['a0_y0']))\n",
    "    print('a1 y0 proportion = {}'.format(proportions['a1_y0']))\n",
    "    print('a0 y1 proportion = {}'.format(proportions['a0_y1']))\n",
    "    print('a1 y1 proportion = {}'.format(proportions['a1_y1']))\n",
    "\n",
    "    assert(proportions['y0'] + proportions['y1'] == 1)\n",
    "    assert(proportions['a0'] + proportions['a1'] == 1)\n",
    "    #assert(proportions['a0_y0'] + proportions['a0_y1'] + proportions['a1_y0'] + proportions['a1_y1'] == 1)\n",
    "\n",
    "    return proportions"
   ]
  },
  {
   "cell_type": "code",
   "execution_count": 4,
   "metadata": {},
   "outputs": [],
   "source": [
    "def std_error(arr):\n",
    "    std = np.std(arr)\n",
    "    return std/np.sqrt(len(arr))"
   ]
  },
  {
   "cell_type": "markdown",
   "metadata": {
    "colab_type": "text",
    "id": "id0PTMTBDiTV"
   },
   "source": [
    "## Import Data\n",
    "We take A (the protected attribute) to be the 'race' variable, and a = 0 while a' = 1. "
   ]
  },
  {
   "cell_type": "code",
   "execution_count": 5,
   "metadata": {
    "colab": {},
    "colab_type": "code",
    "id": "EaDU5FwHDiTW"
   },
   "outputs": [],
   "source": [
    "X_train_arr = []\n",
    "X_test_arr = []\n",
    "y_train_arr = []\n",
    "y_test_arr = []\n",
    "sensitive_features_train_arr = []\n",
    "sensitive_features_test_arr = []\n",
    "\n",
    "for i in range(5):\n",
    "    X_train = pd.read_csv('./../../data/processed/adult/adult_train{}_X.csv'.format(i + 1))\n",
    "    X_test = pd.read_csv('./../../data/processed/adult/adult_test{}_X.csv'.format(i + 1))\n",
    "    y_train = pd.read_csv('./../../data/processed/adult/adult_train{}_y.csv'.format(i + 1))\n",
    "    y_test = pd.read_csv('./../../data/processed/adult/adult_test{}_y.csv'.format(i + 1))\n",
    "\n",
    "    y_train = y_train['income']\n",
    "    y_test = y_test['income']\n",
    "    \n",
    "    sensitive_features_train = X_train['sex']\n",
    "    sensitive_features_test = X_test['sex']\n",
    "\n",
    "    sensitive_features_train[sensitive_features_train <= 0] = 0\n",
    "    sensitive_features_train[sensitive_features_train > 0] = 1\n",
    "    sensitive_features_train = sensitive_features_train.reset_index(drop=True)\n",
    "    \n",
    "    sensitive_features_test[sensitive_features_test <= 0] = 0\n",
    "    sensitive_features_test[sensitive_features_test > 0] = 1\n",
    "    sensitive_features_test = sensitive_features_test.reset_index(drop=True)\n",
    "    \n",
    "    X_train_arr.append(X_train)\n",
    "    X_test_arr.append(X_test)\n",
    "    y_train_arr.append(y_train)\n",
    "    y_test_arr.append(y_test)\n",
    "    sensitive_features_train_arr.append(sensitive_features_train)\n",
    "    sensitive_features_test_arr.append(sensitive_features_test)"
   ]
  },
  {
   "cell_type": "code",
   "execution_count": 6,
   "metadata": {
    "colab": {
     "base_uri": "https://localhost:8080/",
     "height": 241
    },
    "colab_type": "code",
    "id": "3D-WDPLsDiTY",
    "outputId": "b8ec1cdc-e070-4f7f-bf86-05c73fe9bdfe"
   },
   "outputs": [
    {
     "name": "stdout",
     "output_type": "stream",
     "text": [
      "(1616, 98)\n",
      "(404, 98)\n",
      "(1616,)\n",
      "(404,)\n",
      "5\n"
     ]
    }
   ],
   "source": [
    "print(X_train_arr[0].shape)\n",
    "print(X_test_arr[0].shape)\n",
    "print(y_train_arr[0].shape)\n",
    "print(y_test_arr[0].shape)\n",
    "print(len(X_train_arr))"
   ]
  },
  {
   "cell_type": "code",
   "execution_count": 7,
   "metadata": {
    "colab": {},
    "colab_type": "code",
    "id": "IvLHi63FDiTb"
   },
   "outputs": [],
   "source": [
    "a_indices_train_arr = []\n",
    "a_indices_test_arr = []\n",
    "\n",
    "for i in range(5):\n",
    "    a_indices_train_arr.append(set_a_indices(sensitive_features_train_arr[i], y_train_arr[i]))\n",
    "    a_indices_test_arr.append(set_a_indices(sensitive_features_test_arr[i], y_test_arr[i]))"
   ]
  },
  {
   "cell_type": "code",
   "execution_count": 8,
   "metadata": {},
   "outputs": [
    {
     "name": "stdout",
     "output_type": "stream",
     "text": [
      "y0 proportion = 0.49504950495049505\n",
      "y1 proportion = 0.504950495049505\n",
      "a0 proportion = 0.7425742574257426\n",
      "a1 proportion = 0.25742574257425743\n",
      "a0 y0 proportion = 0.30383663366336633\n",
      "a1 y0 proportion = 0.19121287128712872\n",
      "a0 y1 proportion = 0.43873762376237624\n",
      "a1 y1 proportion = 0.06621287128712872\n",
      "y0 proportion = 0.5173267326732673\n",
      "y1 proportion = 0.48267326732673266\n",
      "a0 proportion = 0.7376237623762376\n",
      "a1 proportion = 0.2623762376237624\n",
      "a0 y0 proportion = 0.3193069306930693\n",
      "a1 y0 proportion = 0.19801980198019803\n",
      "a0 y1 proportion = 0.4183168316831683\n",
      "a1 y1 proportion = 0.06435643564356436\n",
      "y0 proportion = 0.5030940594059405\n",
      "y1 proportion = 0.4969059405940594\n",
      "a0 proportion = 0.7419554455445545\n",
      "a1 proportion = 0.25804455445544555\n",
      "a0 y0 proportion = 0.31064356435643564\n",
      "a1 y0 proportion = 0.19245049504950495\n",
      "a0 y1 proportion = 0.4313118811881188\n",
      "a1 y1 proportion = 0.0655940594059406\n",
      "y0 proportion = 0.48514851485148514\n",
      "y1 proportion = 0.5148514851485149\n",
      "a0 proportion = 0.7400990099009901\n",
      "a1 proportion = 0.2599009900990099\n",
      "a0 y0 proportion = 0.29207920792079206\n",
      "a1 y0 proportion = 0.19306930693069307\n",
      "a0 y1 proportion = 0.44801980198019803\n",
      "a1 y1 proportion = 0.06683168316831684\n",
      "y0 proportion = 0.5037128712871287\n",
      "y1 proportion = 0.4962871287128713\n",
      "a0 proportion = 0.7481435643564357\n",
      "a1 proportion = 0.25185643564356436\n",
      "a0 y0 proportion = 0.3155940594059406\n",
      "a1 y0 proportion = 0.18811881188118812\n",
      "a0 y1 proportion = 0.43254950495049505\n",
      "a1 y1 proportion = 0.06373762376237624\n",
      "y0 proportion = 0.48267326732673266\n",
      "y1 proportion = 0.5173267326732673\n",
      "a0 proportion = 0.7153465346534653\n",
      "a1 proportion = 0.28465346534653463\n",
      "a0 y0 proportion = 0.2722772277227723\n",
      "a1 y0 proportion = 0.2103960396039604\n",
      "a0 y1 proportion = 0.4430693069306931\n",
      "a1 y1 proportion = 0.07425742574257425\n",
      "y0 proportion = 0.5030940594059405\n",
      "y1 proportion = 0.4969059405940594\n",
      "a0 proportion = 0.7425742574257426\n",
      "a1 proportion = 0.25742574257425743\n",
      "a0 y0 proportion = 0.31064356435643564\n",
      "a1 y0 proportion = 0.19245049504950495\n",
      "a0 y1 proportion = 0.4319306930693069\n",
      "a1 y1 proportion = 0.06497524752475248\n",
      "y0 proportion = 0.48514851485148514\n",
      "y1 proportion = 0.5148514851485149\n",
      "a0 proportion = 0.7376237623762376\n",
      "a1 proportion = 0.2623762376237624\n",
      "a0 y0 proportion = 0.29207920792079206\n",
      "a1 y0 proportion = 0.19306930693069307\n",
      "a0 y1 proportion = 0.44554455445544555\n",
      "a1 y1 proportion = 0.06930693069306931\n",
      "y0 proportion = 0.5018564356435643\n",
      "y1 proportion = 0.49814356435643564\n",
      "a0 proportion = 0.7363861386138614\n",
      "a1 proportion = 0.2636138613861386\n",
      "a0 y0 proportion = 0.30198019801980197\n",
      "a1 y0 proportion = 0.1998762376237624\n",
      "a0 y1 proportion = 0.4344059405940594\n",
      "a1 y1 proportion = 0.06373762376237624\n",
      "y0 proportion = 0.4900990099009901\n",
      "y1 proportion = 0.5099009900990099\n",
      "a0 proportion = 0.7623762376237624\n",
      "a1 proportion = 0.2376237623762376\n",
      "a0 y0 proportion = 0.32673267326732675\n",
      "a1 y0 proportion = 0.16336633663366337\n",
      "a0 y1 proportion = 0.43564356435643564\n",
      "a1 y1 proportion = 0.07425742574257425\n"
     ]
    }
   ],
   "source": [
    "proportions_train_arr = []\n",
    "proportions_test_arr = []\n",
    "\n",
    "for i in range(5):\n",
    "    proportions_train_arr.append(set_proportions(a_indices_train_arr[i], y_train_arr[i], 'eo'))\n",
    "    proportions_test_arr.append(set_proportions(a_indices_test_arr[i], y_test_arr[i], 'eo'))"
   ]
  },
  {
   "cell_type": "markdown",
   "metadata": {},
   "source": [
    "## Train and Predict (Unconstrained Logistic Regression)"
   ]
  },
  {
   "cell_type": "code",
   "execution_count": 9,
   "metadata": {},
   "outputs": [],
   "source": [
    "unconstrained_clfrs = []\n",
    "unconstrained_test_accs = []\n",
    "unconstrained_eos = []\n",
    "unconstrained_preds = []"
   ]
  },
  {
   "cell_type": "code",
   "execution_count": 10,
   "metadata": {},
   "outputs": [
    {
     "name": "stdout",
     "output_type": "stream",
     "text": [
      "Adult Test Accuracy (Unconstrained, EO): 0.8316831683168316\n",
      "P[h(X) = 1 | A = 0.0, Y = 1] = 0.8461538461538461\n",
      "P[h(X) = 1 | A = 0.0, Y = 0] = 0.24806201550387597\n",
      "P[h(X) = 1 | A = 1.0, Y = 1] = 0.8076923076923077\n",
      "P[h(X) = 1 | A = 1.0, Y = 0] = 0.0625\n",
      "Delta_eo1 = 0.038461538461538436\n",
      "Delta_eo0 = 0.18556201550387597\n",
      "Adult Test Accuracy (Unconstrained, EO): 0.8267326732673267\n",
      "P[h(X) = 1 | A = 0.0, Y = 1] = 0.8674033149171271\n",
      "P[h(X) = 1 | A = 0.0, Y = 0] = 0.2542372881355932\n",
      "P[h(X) = 1 | A = 1.0, Y = 1] = 0.6666666666666666\n",
      "P[h(X) = 1 | A = 1.0, Y = 0] = 0.08974358974358974\n",
      "Delta_eo1 = 0.20073664825046045\n",
      "Delta_eo0 = 0.16449369839200345\n",
      "Adult Test Accuracy (Unconstrained, EO): 0.7896039603960396\n",
      "P[h(X) = 1 | A = 0.0, Y = 1] = 0.8379888268156425\n",
      "P[h(X) = 1 | A = 0.0, Y = 0] = 0.33636363636363636\n",
      "P[h(X) = 1 | A = 1.0, Y = 1] = 0.5333333333333333\n",
      "P[h(X) = 1 | A = 1.0, Y = 0] = 0.058823529411764705\n",
      "Delta_eo1 = 0.30465549348230914\n",
      "Delta_eo0 = 0.27754010695187165\n",
      "Adult Test Accuracy (Unconstrained, EO): 0.8465346534653465\n",
      "P[h(X) = 1 | A = 0.0, Y = 1] = 0.9222222222222223\n",
      "P[h(X) = 1 | A = 0.0, Y = 0] = 0.3050847457627119\n",
      "P[h(X) = 1 | A = 1.0, Y = 1] = 0.7142857142857143\n",
      "P[h(X) = 1 | A = 1.0, Y = 0] = 0.05128205128205128\n",
      "Delta_eo1 = 0.20793650793650797\n",
      "Delta_eo0 = 0.2538026944806606\n",
      "Adult Test Accuracy (Unconstrained, EO): 0.8316831683168316\n",
      "P[h(X) = 1 | A = 0.0, Y = 1] = 0.8465909090909091\n",
      "P[h(X) = 1 | A = 0.0, Y = 0] = 0.20454545454545456\n",
      "P[h(X) = 1 | A = 1.0, Y = 1] = 0.7333333333333333\n",
      "P[h(X) = 1 | A = 1.0, Y = 0] = 0.09090909090909091\n",
      "Delta_eo1 = 0.11325757575757578\n",
      "Delta_eo0 = 0.11363636363636365\n"
     ]
    }
   ],
   "source": [
    "for i in range(5):\n",
    "    X_train = X_train_arr[i]\n",
    "    y_train = y_train_arr[i]\n",
    "    X_test = X_test_arr[i]\n",
    "    y_test = y_test_arr[i]\n",
    "    sensitive_features_train = sensitive_features_train_arr[i]\n",
    "    sensitive_features_test = sensitive_features_test_arr[i]\n",
    "    \n",
    "    unconstrained_logreg = LogisticRegression()\n",
    "\n",
    "    unconstrained_logreg.fit(X_train, y_train)\n",
    "    unconstrained_pred = unconstrained_logreg.predict(X_test)\n",
    "\n",
    "    print(\"Adult Test Accuracy (Unconstrained, EO): {}\".format(accuracy_score(unconstrained_pred, y_test)))\n",
    "    groups, group_metrics_eo, gaps_eo = evaluate_fairness(y_test, unconstrained_pred, sensitive_features_test)\n",
    "\n",
    "    for group in groups:\n",
    "        print(\"P[h(X) = 1 | A = {}, Y = 1] = {}\".format(group, group_metrics_eo['eo_y1'][group]))\n",
    "        print(\"P[h(X) = 1 | A = {}, Y = 0] = {}\".format(group, group_metrics_eo['eo_y0'][group]))\n",
    "    print(\"Delta_eo1 = {}\".format(gaps_eo['eo_y1']))\n",
    "    print(\"Delta_eo0 = {}\".format(gaps_eo['eo_y0']))\n",
    "    \n",
    "    unconstrained_eos.append(gaps_eo['avg_eo'])\n",
    "    unconstrained_clfrs.append(unconstrained_logreg)\n",
    "    unconstrained_test_accs.append(accuracy_score(unconstrained_pred, y_test))\n",
    "    unconstrained_preds.append(unconstrained_pred)"
   ]
  },
  {
   "cell_type": "code",
   "execution_count": 11,
   "metadata": {},
   "outputs": [],
   "source": [
    "unconstrained_avg_testacc = np.mean(unconstrained_test_accs)\n",
    "unconstrained_avg_eo = np.mean(unconstrained_eos)\n",
    "unconstrained_test_err = std_error(unconstrained_test_accs)"
   ]
  },
  {
   "cell_type": "markdown",
   "metadata": {},
   "source": [
    "## Train and Predict (Preprocessing)"
   ]
  },
  {
   "cell_type": "code",
   "execution_count": 12,
   "metadata": {},
   "outputs": [],
   "source": [
    "preprocessing_clfrs = []\n",
    "preprocessing_test_accs = []\n",
    "preprocessing_eos = []\n",
    "preprocessing_preds = []"
   ]
  },
  {
   "cell_type": "code",
   "execution_count": 13,
   "metadata": {},
   "outputs": [
    {
     "name": "stderr",
     "output_type": "stream",
     "text": [
      "/Users/sam/anaconda3/envs/fairness_checking/lib/python3.7/site-packages/aif360/algorithms/preprocessing/lfr_helpers/helpers.py:2: NumbaDeprecationWarning: An import was requested from a module that has moved location.\n",
      "Import requested from: 'numba.decorators', please update to use 'numba.core.decorators' or pin to Numba version 0.48.0. This alias will not be present in Numba version 0.50.0.\n",
      "  from numba.decorators import jit\n",
      "/Users/sam/anaconda3/envs/fairness_checking/lib/python3.7/site-packages/aif360/algorithms/preprocessing/lfr_helpers/helpers.py:2: NumbaDeprecationWarning: An import was requested from a module that has moved location.\n",
      "Import of 'jit' requested from: 'numba.decorators', please update to use 'numba.core.decorators' or pin to Numba version 0.48.0. This alias will not be present in Numba version 0.50.0.\n",
      "  from numba.decorators import jit\n"
     ]
    }
   ],
   "source": [
    "# Form the IBM Fairness Dataset Object\n",
    "from aif360.datasets import BinaryLabelDataset\n",
    "from aif360.algorithms.preprocessing.reweighing import Reweighing\n",
    "\n",
    "preprocess_train_arr = []\n",
    "\n",
    "privileged_groups = [{'sex': 1}]\n",
    "unprivileged_groups = [{'sex': 0}]\n",
    "\n",
    "for s in range(5):\n",
    "    X_train_copy = X_train_arr[s].copy()\n",
    "    y_train_copy = y_train_arr[s].copy()\n",
    "    X_test_copy = X_test_arr[s].copy()\n",
    "    y_test_copy = y_test_arr[s].copy()\n",
    "\n",
    "    X_train_copy['income'] = y_train_copy\n",
    "    X_test_copy['income'] = y_test_copy\n",
    "    \n",
    "    preprocess_train = BinaryLabelDataset(1, 0, df=X_train_copy, label_names=['income'], protected_attribute_names=['sex'])\n",
    "    preprocess_train_arr.append(preprocess_train)"
   ]
  },
  {
   "cell_type": "code",
   "execution_count": 14,
   "metadata": {},
   "outputs": [
    {
     "name": "stdout",
     "output_type": "stream",
     "text": [
      "Adult Test Accuracy (Preprocessing, EO): 0.8366336633663366\n",
      "P[h(X) = 1 | A = 0.0, Y = 1] = 0.8165680473372781\n",
      "P[h(X) = 1 | A = 0.0, Y = 0] = 0.1937984496124031\n",
      "P[h(X) = 1 | A = 1.0, Y = 1] = 0.9230769230769231\n",
      "P[h(X) = 1 | A = 1.0, Y = 0] = 0.1\n",
      "Delta_eo1 = 0.10650887573964507\n",
      "Delta_eo0 = 0.0937984496124031\n",
      "Adult Test Accuracy (Preprocessing, EO): 0.8044554455445545\n",
      "P[h(X) = 1 | A = 0.0, Y = 1] = 0.7955801104972375\n",
      "P[h(X) = 1 | A = 0.0, Y = 0] = 0.211864406779661\n",
      "P[h(X) = 1 | A = 1.0, Y = 1] = 0.7407407407407407\n",
      "P[h(X) = 1 | A = 1.0, Y = 0] = 0.1282051282051282\n",
      "Delta_eo1 = 0.054839369756496836\n",
      "Delta_eo0 = 0.08365927857453281\n",
      "Adult Test Accuracy (Preprocessing, EO): 0.7673267326732673\n",
      "P[h(X) = 1 | A = 0.0, Y = 1] = 0.7541899441340782\n",
      "P[h(X) = 1 | A = 0.0, Y = 0] = 0.24545454545454545\n",
      "P[h(X) = 1 | A = 1.0, Y = 1] = 0.6333333333333333\n",
      "P[h(X) = 1 | A = 1.0, Y = 0] = 0.1411764705882353\n",
      "Delta_eo1 = 0.12085661080074495\n",
      "Delta_eo0 = 0.10427807486631016\n",
      "Adult Test Accuracy (Preprocessing, EO): 0.8366336633663366\n",
      "P[h(X) = 1 | A = 0.0, Y = 1] = 0.8833333333333333\n",
      "P[h(X) = 1 | A = 0.0, Y = 0] = 0.2457627118644068\n",
      "P[h(X) = 1 | A = 1.0, Y = 1] = 0.8571428571428571\n",
      "P[h(X) = 1 | A = 1.0, Y = 0] = 0.15384615384615385\n",
      "Delta_eo1 = 0.02619047619047621\n",
      "Delta_eo0 = 0.09191655801825294\n",
      "Adult Test Accuracy (Preprocessing, EO): 0.8341584158415841\n",
      "P[h(X) = 1 | A = 0.0, Y = 1] = 0.7954545454545454\n",
      "P[h(X) = 1 | A = 0.0, Y = 0] = 0.12878787878787878\n",
      "P[h(X) = 1 | A = 1.0, Y = 1] = 0.8\n",
      "P[h(X) = 1 | A = 1.0, Y = 0] = 0.12121212121212122\n",
      "Delta_eo1 = 0.00454545454545463\n",
      "Delta_eo0 = 0.007575757575757569\n"
     ]
    }
   ],
   "source": [
    "for i in range(5):\n",
    "    preprocess_train = preprocess_train_arr[i]\n",
    "    \n",
    "    X_train = X_train_arr[i]\n",
    "    y_train = y_train_arr[i]\n",
    "    X_test = X_test_arr[i]\n",
    "    y_test = y_test_arr[i]\n",
    "    sensitive_features_train = sensitive_features_train_arr[i]\n",
    "    sensitive_features_test = sensitive_features_test_arr[i]\n",
    "    \n",
    "    RW = Reweighing(unprivileged_groups=unprivileged_groups,\n",
    "               privileged_groups=privileged_groups)\n",
    "    dataset_transf_train = RW.fit_transform(preprocess_train)\n",
    "    logreg = LogisticRegression()\n",
    "    logreg.fit(X_train, y_train,\n",
    "            sample_weight=dataset_transf_train.instance_weights)\n",
    "    \n",
    "    preprocessing_y_pred = logreg.predict(X_test)\n",
    "\n",
    "    ### Back to using original data ###\n",
    "    print(\"Adult Test Accuracy (Preprocessing, EO): {}\".format(accuracy_score(preprocessing_y_pred, y_test)))\n",
    "    groups, group_metrics_eo, gaps_eo = evaluate_fairness(y_test, preprocessing_y_pred, sensitive_features_test)\n",
    "\n",
    "    for group in groups:\n",
    "        print(\"P[h(X) = 1 | A = {}, Y = 1] = {}\".format(group, group_metrics_eo['eo_y1'][group]))\n",
    "        print(\"P[h(X) = 1 | A = {}, Y = 0] = {}\".format(group, group_metrics_eo['eo_y0'][group]))\n",
    "    print(\"Delta_eo1 = {}\".format(gaps_eo['eo_y1']))\n",
    "    print(\"Delta_eo0 = {}\".format(gaps_eo['eo_y0']))\n",
    "    \n",
    "    preprocessing_eos.append(gaps_eo['avg_eo'])\n",
    "    preprocessing_clfrs.append(logreg)\n",
    "    preprocessing_test_accs.append(accuracy_score(preprocessing_y_pred, y_test))\n",
    "    preprocessing_preds.append(preprocessing_y_pred)"
   ]
  },
  {
   "cell_type": "code",
   "execution_count": 15,
   "metadata": {},
   "outputs": [],
   "source": [
    "preprocessing_avg_testacc = np.mean(preprocessing_test_accs)\n",
    "preprocessing_avg_eo = np.mean(preprocessing_eos)\n",
    "preprocessing_test_err = std_error(preprocessing_test_accs)"
   ]
  },
  {
   "cell_type": "markdown",
   "metadata": {},
   "source": [
    "## Train and Predict (Inprocessing)"
   ]
  },
  {
   "cell_type": "code",
   "execution_count": 16,
   "metadata": {},
   "outputs": [],
   "source": [
    "from fairlearn.reductions import ExponentiatedGradient, DemographicParity, EqualizedOdds\n",
    "\n",
    "inprocessing_clfrs = []\n",
    "inprocessing_test_accs = []\n",
    "inprocessing_eos = []\n",
    "inprocessing_preds = []"
   ]
  },
  {
   "cell_type": "code",
   "execution_count": 17,
   "metadata": {},
   "outputs": [
    {
     "name": "stdout",
     "output_type": "stream",
     "text": [
      "Adult Test Accuracy (Inprocessing, EO): 0.8341584158415841\n",
      "P[h(X) = 1 | A = 0.0, Y = 1] = 0.8224852071005917\n",
      "P[h(X) = 1 | A = 0.0, Y = 0] = 0.18604651162790697\n",
      "P[h(X) = 1 | A = 1.0, Y = 1] = 0.9230769230769231\n",
      "P[h(X) = 1 | A = 1.0, Y = 0] = 0.1375\n",
      "Delta_eo1 = 0.10059171597633143\n",
      "Delta_eo0 = 0.04854651162790696\n",
      "Adult Test Accuracy (Inprocessing, EO): 0.8143564356435643\n",
      "P[h(X) = 1 | A = 0.0, Y = 1] = 0.7955801104972375\n",
      "P[h(X) = 1 | A = 0.0, Y = 0] = 0.19491525423728814\n",
      "P[h(X) = 1 | A = 1.0, Y = 1] = 0.8148148148148148\n",
      "P[h(X) = 1 | A = 1.0, Y = 0] = 0.1282051282051282\n",
      "Delta_eo1 = 0.019234704317577234\n",
      "Delta_eo0 = 0.06671012603215995\n",
      "Adult Test Accuracy (Inprocessing, EO): 0.7623762376237624\n",
      "P[h(X) = 1 | A = 0.0, Y = 1] = 0.7541899441340782\n",
      "P[h(X) = 1 | A = 0.0, Y = 0] = 0.2636363636363636\n",
      "P[h(X) = 1 | A = 1.0, Y = 1] = 0.6666666666666666\n",
      "P[h(X) = 1 | A = 1.0, Y = 0] = 0.15294117647058825\n",
      "Delta_eo1 = 0.08752327746741162\n",
      "Delta_eo0 = 0.11069518716577537\n",
      "Adult Test Accuracy (Inprocessing, EO): 0.8242574257425742\n",
      "P[h(X) = 1 | A = 0.0, Y = 1] = 0.8888888888888888\n",
      "P[h(X) = 1 | A = 0.0, Y = 0] = 0.2627118644067797\n",
      "P[h(X) = 1 | A = 1.0, Y = 1] = 0.8571428571428571\n",
      "P[h(X) = 1 | A = 1.0, Y = 0] = 0.20512820512820512\n",
      "Delta_eo1 = 0.031746031746031744\n",
      "Delta_eo0 = 0.05758365927857456\n",
      "Adult Test Accuracy (Inprocessing, EO): 0.8267326732673267\n",
      "P[h(X) = 1 | A = 0.0, Y = 1] = 0.7840909090909091\n",
      "P[h(X) = 1 | A = 0.0, Y = 0] = 0.12878787878787878\n",
      "P[h(X) = 1 | A = 1.0, Y = 1] = 0.8\n",
      "P[h(X) = 1 | A = 1.0, Y = 0] = 0.13636363636363635\n",
      "Delta_eo1 = 0.015909090909090984\n",
      "Delta_eo0 = 0.007575757575757569\n"
     ]
    }
   ],
   "source": [
    "for i in range(5):\n",
    "    X_train = X_train_arr[i]\n",
    "    y_train = y_train_arr[i]\n",
    "    X_test = X_test_arr[i]\n",
    "    y_test = y_test_arr[i]\n",
    "    sensitive_features_train = sensitive_features_train_arr[i]\n",
    "    sensitive_features_test = sensitive_features_test_arr[i]\n",
    "    \n",
    "    inprocessing_dp = ExponentiatedGradient(\n",
    "        LogisticRegression(solver='liblinear', fit_intercept=True, class_weight='balanced'),\n",
    "        constraints=EqualizedOdds(),\n",
    "        eps=0.05,\n",
    "        nu=1e-6)\n",
    "\n",
    "    inprocessing_dp.fit(X_train, y_train, sensitive_features=sensitive_features_train)\n",
    "    inprocessing_y_pred = inprocessing_dp.predict(X_test)\n",
    "\n",
    "    print(\"Adult Test Accuracy (Inprocessing, EO): {}\".format(accuracy_score(inprocessing_y_pred, y_test)))\n",
    "    groups, group_metrics_eo, gaps_eo = evaluate_fairness(y_test, inprocessing_y_pred, sensitive_features_test)\n",
    "\n",
    "    for group in groups:\n",
    "        print(\"P[h(X) = 1 | A = {}, Y = 1] = {}\".format(group, group_metrics_eo['eo_y1'][group]))\n",
    "        print(\"P[h(X) = 1 | A = {}, Y = 0] = {}\".format(group, group_metrics_eo['eo_y0'][group]))\n",
    "    print(\"Delta_eo1 = {}\".format(gaps_eo['eo_y1']))\n",
    "    print(\"Delta_eo0 = {}\".format(gaps_eo['eo_y0']))\n",
    "    \n",
    "    inprocessing_eos.append(gaps_eo['avg_eo'])\n",
    "    inprocessing_clfrs.append(inprocessing_dp)\n",
    "    inprocessing_test_accs.append(accuracy_score(inprocessing_y_pred, y_test))\n",
    "    inprocessing_preds.append(inprocessing_y_pred)"
   ]
  },
  {
   "cell_type": "code",
   "execution_count": 18,
   "metadata": {},
   "outputs": [],
   "source": [
    "inprocessing_avg_testacc = np.mean(inprocessing_test_accs)\n",
    "inprocessing_avg_eo = np.mean(inprocessing_eos)\n",
    "inprocessing_test_err = std_error(inprocessing_test_accs)"
   ]
  },
  {
   "cell_type": "markdown",
   "metadata": {},
   "source": [
    "## Train and Predict (Postprocessing)"
   ]
  },
  {
   "cell_type": "code",
   "execution_count": 19,
   "metadata": {},
   "outputs": [],
   "source": [
    "from fairlearn.postprocessing import ThresholdOptimizer\n",
    "from sklearn import clone\n",
    "from sklearn.base import BaseEstimator, ClassifierMixin\n",
    "from sklearn.utils.validation import check_is_fitted\n",
    "from sklearn.exceptions import NotFittedError\n",
    "\n",
    "postprocessing_clfrs = []\n",
    "postprocessing_test_accs = []\n",
    "postprocessing_eos = []\n",
    "postprocessing_preds = []"
   ]
  },
  {
   "cell_type": "code",
   "execution_count": 20,
   "metadata": {},
   "outputs": [],
   "source": [
    "class LogisticRegressionAsRegression(BaseEstimator, ClassifierMixin):\n",
    "    def __init__(self, logistic_regression_estimator):\n",
    "        self.logistic_regression_estimator = logistic_regression_estimator\n",
    "\n",
    "    def fit(self, X, y):\n",
    "        try:\n",
    "            check_is_fitted(self.logistic_regression_estimator)\n",
    "            self.logistic_regression_estimator_ = self.logistic_regression_estimator\n",
    "        except NotFittedError:\n",
    "            self.logistic_regression_estimator_ = clone(\n",
    "                self.logistic_regression_estimator\n",
    "            ).fit(X, y)\n",
    "        return self\n",
    "\n",
    "    def predict(self, X):\n",
    "        # use predict_proba to get real values instead of 0/1, select only prob for 1\n",
    "        scores = self.logistic_regression_estimator_.predict_proba(X)[:, 1]\n",
    "        return scores"
   ]
  },
  {
   "cell_type": "code",
   "execution_count": 21,
   "metadata": {},
   "outputs": [
    {
     "name": "stdout",
     "output_type": "stream",
     "text": [
      "Adult Test Accuracy (Postprocessing, EO): 0.8094059405940595\n",
      "P[h(X) = 1 | A = 0.0, Y = 1] = 0.8284023668639053\n",
      "P[h(X) = 1 | A = 0.0, Y = 0] = 0.20155038759689922\n",
      "P[h(X) = 1 | A = 1.0, Y = 1] = 0.9230769230769231\n",
      "P[h(X) = 1 | A = 1.0, Y = 0] = 0.25\n",
      "Delta_eo1 = 0.09467455621301779\n",
      "Delta_eo0 = 0.04844961240310078\n",
      "Adult Test Accuracy (Postprocessing, EO): 0.806930693069307\n",
      "P[h(X) = 1 | A = 0.0, Y = 1] = 0.850828729281768\n",
      "P[h(X) = 1 | A = 0.0, Y = 0] = 0.2457627118644068\n",
      "P[h(X) = 1 | A = 1.0, Y = 1] = 0.7777777777777778\n",
      "P[h(X) = 1 | A = 1.0, Y = 0] = 0.20512820512820512\n",
      "Delta_eo1 = 0.07305095150399021\n",
      "Delta_eo0 = 0.04063450673620167\n",
      "Adult Test Accuracy (Postprocessing, EO): 0.7673267326732673\n",
      "P[h(X) = 1 | A = 0.0, Y = 1] = 0.7821229050279329\n",
      "P[h(X) = 1 | A = 0.0, Y = 0] = 0.2545454545454545\n",
      "P[h(X) = 1 | A = 1.0, Y = 1] = 0.7\n",
      "P[h(X) = 1 | A = 1.0, Y = 0] = 0.21176470588235294\n",
      "Delta_eo1 = 0.08212290502793296\n",
      "Delta_eo0 = 0.04278074866310158\n",
      "Adult Test Accuracy (Postprocessing, EO): 0.8292079207920792\n",
      "P[h(X) = 1 | A = 0.0, Y = 1] = 0.9055555555555556\n",
      "P[h(X) = 1 | A = 0.0, Y = 0] = 0.2542372881355932\n",
      "P[h(X) = 1 | A = 1.0, Y = 1] = 0.8571428571428571\n",
      "P[h(X) = 1 | A = 1.0, Y = 0] = 0.23076923076923078\n",
      "Delta_eo1 = 0.04841269841269846\n",
      "Delta_eo0 = 0.023468057366362427\n",
      "Adult Test Accuracy (Postprocessing, EO): 0.8242574257425742\n",
      "P[h(X) = 1 | A = 0.0, Y = 1] = 0.8011363636363636\n",
      "P[h(X) = 1 | A = 0.0, Y = 0] = 0.14393939393939395\n",
      "P[h(X) = 1 | A = 1.0, Y = 1] = 0.9\n",
      "P[h(X) = 1 | A = 1.0, Y = 0] = 0.21212121212121213\n",
      "Delta_eo1 = 0.09886363636363638\n",
      "Delta_eo0 = 0.06818181818181818\n"
     ]
    }
   ],
   "source": [
    "for i in range(5):\n",
    "    X_train = X_train_arr[i]\n",
    "    y_train = y_train_arr[i]\n",
    "    X_test = X_test_arr[i]\n",
    "    y_test = y_test_arr[i]\n",
    "    sensitive_features_train = sensitive_features_train_arr[i]\n",
    "    sensitive_features_test = sensitive_features_test_arr[i]\n",
    "    \n",
    "    logreg = LogisticRegression()\n",
    "    logreg.fit(X_train, y_train)\n",
    "    estimator_wrapper = LogisticRegressionAsRegression(logreg).fit(X_train, y_train)\n",
    "    postprocessed_predictor_dp = ThresholdOptimizer(estimator=estimator_wrapper, constraints=\"equalized_odds\", prefit=True)\n",
    "\n",
    "    postprocessed_predictor_dp.fit(X_train, y_train, sensitive_features=sensitive_features_train)\n",
    "    postprocessing_y_pred = postprocessed_predictor_dp.predict(X_test, sensitive_features=sensitive_features_test)\n",
    "\n",
    "    print(\"Adult Test Accuracy (Postprocessing, EO): {}\".format(accuracy_score(postprocessing_y_pred, y_test)))\n",
    "    groups, group_metrics_eo, gaps_eo = evaluate_fairness(y_test, postprocessing_y_pred, sensitive_features_test)\n",
    "\n",
    "    for group in groups:\n",
    "        print(\"P[h(X) = 1 | A = {}, Y = 1] = {}\".format(group, group_metrics_eo['eo_y1'][group]))\n",
    "        print(\"P[h(X) = 1 | A = {}, Y = 0] = {}\".format(group, group_metrics_eo['eo_y0'][group]))\n",
    "    print(\"Delta_eo1 = {}\".format(gaps_eo['eo_y1']))\n",
    "    print(\"Delta_eo0 = {}\".format(gaps_eo['eo_y0']))\n",
    "\n",
    "    postprocessing_eos.append(gaps_eo['avg_eo'])\n",
    "    postprocessing_clfrs.append(postprocessed_predictor_dp)\n",
    "    postprocessing_test_accs.append(accuracy_score(postprocessing_y_pred, y_test))\n",
    "    postprocessing_preds.append(postprocessing_y_pred)"
   ]
  },
  {
   "cell_type": "code",
   "execution_count": 22,
   "metadata": {},
   "outputs": [],
   "source": [
    "postprocessing_avg_testacc = np.mean(postprocessing_test_accs)\n",
    "postprocessing_avg_eo = np.mean(postprocessing_eos)\n",
    "postprocessing_test_err = std_error(postprocessing_test_accs)"
   ]
  },
  {
   "cell_type": "markdown",
   "metadata": {},
   "source": [
    "## Predict (Robust Algorithm h_0, T = 1000)"
   ]
  },
  {
   "cell_type": "code",
   "execution_count": 23,
   "metadata": {},
   "outputs": [],
   "source": [
    "robust_clfrs = []\n",
    "robust_test_accs = []\n",
    "robust_eos = []\n",
    "robust_preds = []"
   ]
  },
  {
   "cell_type": "code",
   "execution_count": 24,
   "metadata": {},
   "outputs": [
    {
     "name": "stdout",
     "output_type": "stream",
     "text": [
      "Adult Test Accuracy (Robust, EO): 0.7103960396039604\n",
      "P[h(X) = 1 | A = 0.0, Y = 1] = 0.41420118343195267\n",
      "P[h(X) = 1 | A = 0.0, Y = 0] = 0.007751937984496124\n",
      "P[h(X) = 1 | A = 1.0, Y = 1] = 0.4230769230769231\n",
      "P[h(X) = 1 | A = 1.0, Y = 0] = 0.025\n",
      "Delta_eo1 = 0.008875739644970404\n",
      "Delta_eo0 = 0.017248062015503877\n",
      "Adult Test Accuracy (Robust, EO): 0.6534653465346535\n",
      "P[h(X) = 1 | A = 0.0, Y = 1] = 0.36464088397790057\n",
      "P[h(X) = 1 | A = 0.0, Y = 0] = 0.0423728813559322\n",
      "P[h(X) = 1 | A = 1.0, Y = 1] = 0.3333333333333333\n",
      "P[h(X) = 1 | A = 1.0, Y = 0] = 0.02564102564102564\n",
      "Delta_eo1 = 0.03130755064456725\n",
      "Delta_eo0 = 0.01673185571490656\n",
      "Adult Test Accuracy (Robust, EO): 0.6460396039603961\n",
      "P[h(X) = 1 | A = 0.0, Y = 1] = 0.37988826815642457\n",
      "P[h(X) = 1 | A = 0.0, Y = 0] = 0.07272727272727272\n",
      "P[h(X) = 1 | A = 1.0, Y = 1] = 0.26666666666666666\n",
      "P[h(X) = 1 | A = 1.0, Y = 0] = 0.023529411764705882\n",
      "Delta_eo1 = 0.1132216014897579\n",
      "Delta_eo0 = 0.04919786096256684\n",
      "Adult Test Accuracy (Robust, EO): 0.7004950495049505\n",
      "P[h(X) = 1 | A = 0.0, Y = 1] = 0.45555555555555555\n",
      "P[h(X) = 1 | A = 0.0, Y = 0] = 0.05084745762711865\n",
      "P[h(X) = 1 | A = 1.0, Y = 1] = 0.42857142857142855\n",
      "P[h(X) = 1 | A = 1.0, Y = 0] = 0.01282051282051282\n",
      "Delta_eo1 = 0.026984126984127\n",
      "Delta_eo0 = 0.03802694480660583\n",
      "Adult Test Accuracy (Robust, EO): 0.6732673267326733\n",
      "P[h(X) = 1 | A = 0.0, Y = 1] = 0.39204545454545453\n",
      "P[h(X) = 1 | A = 0.0, Y = 0] = 0.007575757575757576\n",
      "P[h(X) = 1 | A = 1.0, Y = 1] = 0.2\n",
      "P[h(X) = 1 | A = 1.0, Y = 0] = 0.0\n",
      "Delta_eo1 = 0.19204545454545452\n",
      "Delta_eo0 = 0.007575757575757576\n"
     ]
    }
   ],
   "source": [
    "for i in range(5):\n",
    "    X_train = X_train_arr[i]\n",
    "    y_train = y_train_arr[i]\n",
    "    X_test = X_test_arr[i]\n",
    "    y_test = y_test_arr[i]\n",
    "    sensitive_features_train = sensitive_features_train_arr[i]\n",
    "    sensitive_features_test = sensitive_features_test_arr[i]\n",
    "    \n",
    "    pickled_file = './trained_robust/ensemble_final/ensemble_final_eo_adultsplit{}.pkl'.format(i+1)\n",
    "    pickled_robust_h = open(pickled_file, \"rb\")\n",
    "    robust_h = pickle.load(pickled_robust_h)\n",
    "    robust_pred = robust_h.predict(X_test)\n",
    "    print(\"Adult Test Accuracy (Robust, EO): {}\".format(accuracy_score(robust_pred, y_test)))\n",
    "    groups, group_metrics_eo, gaps_eo = evaluate_fairness(y_test, robust_pred, sensitive_features_test)\n",
    "    for group in groups:\n",
    "        print(\"P[h(X) = 1 | A = {}, Y = 1] = {}\".format(group, group_metrics_eo['eo_y1'][group]))\n",
    "        print(\"P[h(X) = 1 | A = {}, Y = 0] = {}\".format(group, group_metrics_eo['eo_y0'][group]))\n",
    "    print(\"Delta_eo1 = {}\".format(gaps_eo['eo_y1']))\n",
    "    print(\"Delta_eo0 = {}\".format(gaps_eo['eo_y0']))\n",
    "    \n",
    "    robust_eos.append(gaps_eo['avg_eo'])\n",
    "    robust_clfrs.append(robust_h)\n",
    "    robust_test_accs.append(accuracy_score(robust_pred, y_test))\n",
    "    robust_preds.append(robust_pred)"
   ]
  },
  {
   "cell_type": "code",
   "execution_count": 25,
   "metadata": {},
   "outputs": [],
   "source": [
    "robust_avg_testacc = np.mean(robust_test_accs)\n",
    "robust_avg_eo = np.mean(robust_eos)\n",
    "robust_test_err = std_error(robust_test_accs)"
   ]
  },
  {
   "cell_type": "markdown",
   "metadata": {
    "colab_type": "text",
    "id": "3WyqW_D6Q13G"
   },
   "source": [
    "## Linear Program Function\n",
    "Create a reusable function for each linear program.\n",
    "\n",
    "The argument constraint is the constraint we want to set on the w's. This should be between 0 and 1.\n",
    "\n",
    "The argument y_value should be Y = 0 or Y = 1, depending on which Y value we want to test EO on. "
   ]
  },
  {
   "cell_type": "code",
   "execution_count": 26,
   "metadata": {},
   "outputs": [],
   "source": [
    "def EO_linear_prog(y_pred, a_indices, proportions, lower_bound, upper_bound, a, a_p, y_value):\n",
    "    # Make sure constraint is within bounds\n",
    "    assert(0 < lower_bound < 1)\n",
    "    assert(0 < upper_bound < 1)\n",
    "    \n",
    "    if(y_value != 'y0' and y_value != 'y1'):\n",
    "        return(\"Enter y0 or y1 for the second argument (y_value for eo).\")\n",
    "    \n",
    "    # Setup variables and subgp names\n",
    "    n = len(y_pred)\n",
    "    w = cp.Variable(n)\n",
    "    a_y = a + '_' + y_value\n",
    "    a_p_y = a_p + '_' + y_value\n",
    "    excluded_subgroups = list({\"a0_y0\", \"a0_y1\", \"a1_y0\", \"a1_y1\"}.difference(set([a_y, a_p_y])))\n",
    "    \n",
    "    # Setup prediction vector\n",
    "    h_xi_a = y_pred.copy()\n",
    "    h_xi_a[a_indices[a_p_y]] = 0\n",
    "    for gp in excluded_subgroups:\n",
    "        h_xi_a[a_indices[gp]] = 0\n",
    "    h_xi_ap = y_pred.copy()\n",
    "    h_xi_ap[a_indices[a_y]] = 0\n",
    "    for gp in excluded_subgroups:\n",
    "        h_xi_ap[a_indices[gp]] = 0\n",
    "    \n",
    "    # Setup subgroup proportions\n",
    "    pi_a = proportions[a_y]\n",
    "    pi_a_p = proportions[a_p_y]\n",
    "    \n",
    "    # Set constraints\n",
    "    constraints = [\n",
    "        cp.sum(w[a_indices[a_y]]) == pi_a,\n",
    "        cp.sum(w[a_indices[a_p_y]]) == pi_a_p,\n",
    "        cp.sum(w) == 1,\n",
    "        0 <= w,\n",
    "        lower_bound <= w,\n",
    "        w <= upper_bound\n",
    "    ]\n",
    "    \n",
    "    for group in excluded_subgroups:\n",
    "        constraints.append(w[a_indices[group]] == 1/n)\n",
    "        \n",
    "    # Setup objective and problem\n",
    "    objective = cp.Maximize(((1/pi_a) * (w @ h_xi_a)) - ((1/pi_a_p) * (w @ h_xi_ap)))\n",
    "    problem = cp.Problem(objective, constraints)\n",
    "    \n",
    "    # Solve problem\n",
    "    problem.solve(solver = 'ECOS')\n",
    "    return problem.value, w.value"
   ]
  },
  {
   "cell_type": "markdown",
   "metadata": {
    "colab_type": "text",
    "id": "oRPqsRrIDiTp"
   },
   "source": [
    "## Experiment with Linear Program (Y = 0)\n",
    "Experiment with setting the constraints as: $$w_i \\leq \\frac{(1 + \\epsilon)}{n}$$ and $$\\frac{(1 - \\epsilon)}{n} \\leq w_i$$ where n is the number of samples in the data."
   ]
  },
  {
   "cell_type": "code",
   "execution_count": 27,
   "metadata": {
    "colab": {},
    "colab_type": "code",
    "id": "7AUPEl91DiUE"
   },
   "outputs": [],
   "source": [
    "epsilon_granule = 0.01\n",
    "\n",
    "unconstrained_objective_values_y0 = []\n",
    "preprocessing_objective_values_y0 = []\n",
    "inprocessing_objective_values_y0 = []\n",
    "postprocessing_objective_values_y0 = []\n",
    "robust_objective_values_y0 = []\n",
    "\n",
    "# Iterate over datasets\n",
    "for s in range(5):\n",
    "    unconstrained_y_pred = unconstrained_preds[s]\n",
    "    preprocessing_y_pred = preprocessing_preds[s]\n",
    "    inprocessing_y_pred = inprocessing_preds[s]\n",
    "    postprocessing_y_pred = postprocessing_preds[s]\n",
    "    robust_pred = robust_preds[s]\n",
    "    a_indices_test = a_indices_test_arr[s]\n",
    "    proportions_test = proportions_test_arr[s]\n",
    "    \n",
    "    unconstrained_curr = []\n",
    "    preprocessing_curr = []\n",
    "    inprocessing_curr = []\n",
    "    postprocessing_curr = []\n",
    "    robust_curr = []\n",
    "    # Iterate over constraints\n",
    "    for i in range(0, int(1/epsilon_granule)):\n",
    "        epsilon = epsilon_granule * i\n",
    "        lower_bound = (1 - epsilon)/(len(X_test))\n",
    "        upper_bound = (1 + epsilon)/(len(X_test))\n",
    "\n",
    "        unconstrained_objective_value_a0a1, w = EO_linear_prog(unconstrained_y_pred, a_indices_test, proportions_test, lower_bound, upper_bound, 'a0', 'a1', 'y0')\n",
    "        unconstrained_objective_value_a1a0, w = EO_linear_prog(unconstrained_y_pred, a_indices_test, proportions_test, lower_bound, upper_bound, 'a1', 'a0', 'y0')\n",
    "        unconstrained_objective_value = max(unconstrained_objective_value_a0a1, unconstrained_objective_value_a1a0)\n",
    "        unconstrained_curr.append(unconstrained_objective_value)\n",
    "        \n",
    "        preprocessing_objective_value_a0a1, w = EO_linear_prog(preprocessing_y_pred, a_indices_test, proportions_test, lower_bound, upper_bound, 'a0', 'a1', 'y0')\n",
    "        preprocessing_objective_value_a1a0, w = EO_linear_prog(preprocessing_y_pred, a_indices_test, proportions_test, lower_bound, upper_bound, 'a1', 'a0', 'y0')\n",
    "        preprocessing_objective_value = max(preprocessing_objective_value_a0a1, preprocessing_objective_value_a1a0)\n",
    "        preprocessing_curr.append(preprocessing_objective_value)\n",
    "\n",
    "        inprocessing_objective_value_a0a1, w = EO_linear_prog(inprocessing_y_pred, a_indices_test, proportions_test, lower_bound, upper_bound, 'a0', 'a1', 'y0')\n",
    "        inprocessing_objective_value_a1a0, w = EO_linear_prog(inprocessing_y_pred, a_indices_test, proportions_test, lower_bound, upper_bound, 'a1', 'a0', 'y0')\n",
    "        inprocessing_objective_value = max(inprocessing_objective_value_a0a1, inprocessing_objective_value_a1a0)\n",
    "        inprocessing_curr.append(inprocessing_objective_value)\n",
    "\n",
    "        postprocessing_objective_value_a0a1, w = EO_linear_prog(postprocessing_y_pred, a_indices_test, proportions_test, lower_bound, upper_bound, 'a0', 'a1', 'y0')\n",
    "        postprocessing_objective_value_a1a0, w = EO_linear_prog(postprocessing_y_pred, a_indices_test, proportions_test, lower_bound, upper_bound, 'a1', 'a0', 'y0')\n",
    "        postprocessing_objective_value = max(postprocessing_objective_value_a0a1, postprocessing_objective_value_a1a0)\n",
    "        postprocessing_curr.append(postprocessing_objective_value)\n",
    "\n",
    "        robust_objective_value_a0a1, w = EO_linear_prog(robust_pred, a_indices_test, proportions_test, lower_bound, upper_bound, 'a0', 'a1', 'y0')\n",
    "        robust_objective_value_a1a0, w = EO_linear_prog(robust_pred, a_indices_test, proportions_test, lower_bound, upper_bound, 'a1', 'a0', 'y0')\n",
    "        robust_objective_value = max(robust_objective_value_a0a1, robust_objective_value_a1a0)\n",
    "        robust_curr.append(robust_objective_value)\n",
    "    \n",
    "    unconstrained_objective_values_y0.append(np.asarray(unconstrained_curr))\n",
    "    preprocessing_objective_values_y0.append(np.asarray(preprocessing_curr))\n",
    "    inprocessing_objective_values_y0.append(np.asarray(inprocessing_curr))\n",
    "    postprocessing_objective_values_y0.append(np.asarray(postprocessing_curr))\n",
    "    robust_objective_values_y0.append(np.asarray(robust_curr))"
   ]
  },
  {
   "cell_type": "code",
   "execution_count": 28,
   "metadata": {},
   "outputs": [],
   "source": [
    "epsilons = []\n",
    "for i in range(0, int(1/epsilon_granule)):\n",
    "    epsilons.append(i * epsilon_granule)"
   ]
  },
  {
   "cell_type": "code",
   "execution_count": 29,
   "metadata": {},
   "outputs": [],
   "source": [
    "# Average over the results\n",
    "unconstrained_avg_objective_values_y0 = np.zeros(len(unconstrained_objective_values_y0[0]))\n",
    "preprocessing_avg_objective_values_y0 = np.zeros(len(preprocessing_objective_values_y0[0]))\n",
    "inprocessing_avg_objective_values_y0 = np.zeros(len(inprocessing_objective_values_y0[0]))\n",
    "postprocessing_avg_objective_values_y0 = np.zeros(len(postprocessing_objective_values_y0[0]))\n",
    "robust_avg_objective_values_y0 = np.zeros(len(robust_objective_values_y0[0]))\n",
    "\n",
    "for i in range(5):\n",
    "    unconstrained_avg_objective_values_y0 += unconstrained_objective_values_y0[i]\n",
    "    preprocessing_avg_objective_values_y0 += preprocessing_objective_values_y0[i]\n",
    "    inprocessing_avg_objective_values_y0 += inprocessing_objective_values_y0[i]\n",
    "    postprocessing_avg_objective_values_y0 += postprocessing_objective_values_y0[i]\n",
    "    robust_avg_objective_values_y0 += robust_objective_values_y0[i]\n",
    "    \n",
    "unconstrained_avg_objective_values_y0 = np.divide(unconstrained_avg_objective_values_y0, 5)\n",
    "preprocessing_avg_objective_values_y0 = np.divide(preprocessing_avg_objective_values_y0, 5)\n",
    "inprocessing_avg_objective_values_y0 = np.divide(inprocessing_avg_objective_values_y0, 5)\n",
    "postprocessing_avg_objective_values_y0 = np.divide(postprocessing_avg_objective_values_y0, 5)\n",
    "robust_avg_objective_values_y0 = np.divide(robust_avg_objective_values_y0, 5)"
   ]
  },
  {
   "cell_type": "code",
   "execution_count": 30,
   "metadata": {},
   "outputs": [],
   "source": [
    "unconstrained_std_err = []\n",
    "preprocessing_std_err = []\n",
    "inprocessing_std_err = []\n",
    "postprocessing_std_err = []\n",
    "robust_std_err = []\n",
    "\n",
    "for i in range(100):\n",
    "    unconstrained_vals = []\n",
    "    preprocessing_vals = []\n",
    "    inprocessing_vals = []\n",
    "    postprocessing_vals = []\n",
    "    robust_vals = []\n",
    "    \n",
    "    for s in range(5):\n",
    "        unconstrained_vals.append(unconstrained_objective_values_y0[s][i])\n",
    "        preprocessing_vals.append(preprocessing_objective_values_y0[s][i])\n",
    "        inprocessing_vals.append(inprocessing_objective_values_y0[s][i])\n",
    "        postprocessing_vals.append(postprocessing_objective_values_y0[s][i])\n",
    "        robust_vals.append(robust_objective_values_y0[s][i])\n",
    "        \n",
    "    unconstrained_std_err.append(std_error(unconstrained_vals))\n",
    "    preprocessing_std_err.append(std_error(preprocessing_vals))\n",
    "    inprocessing_std_err.append(std_error(inprocessing_vals))\n",
    "    postprocessing_std_err.append(std_error(postprocessing_vals))\n",
    "    robust_std_err.append(std_error(robust_vals))"
   ]
  },
  {
   "cell_type": "code",
   "execution_count": 31,
   "metadata": {
    "colab": {
     "base_uri": "https://localhost:8080/",
     "height": 584
    },
    "colab_type": "code",
    "id": "Xi_v9x66SZM8",
    "outputId": "82c6be1e-58c1-43c6-c9e0-6894bb31fbed"
   },
   "outputs": [
    {
     "data": {
      "text/plain": [
       "Text(0.5, 1.0, 'Adult Comparison (h0, EOy0, T=1000)')"
      ]
     },
     "execution_count": 31,
     "metadata": {},
     "output_type": "execute_result"
    },
    {
     "data": {
      "image/png": "[encoded data removed]",
      "text/plain": [
       "<Figure size 648x648 with 1 Axes>"
      ]
     },
     "metadata": {
      "needs_background": "light"
     },
     "output_type": "display_data"
    }
   ],
   "source": [
    "# Plot the constraints vs. objective values\n",
    "plt.figure(figsize=(9,9))\n",
    "plt.plot(epsilons, unconstrained_avg_objective_values_y0, 'magenta')\n",
    "plt.plot(epsilons, preprocessing_avg_objective_values_y0, 'green')\n",
    "plt.plot(epsilons, inprocessing_avg_objective_values_y0, 'orange')\n",
    "plt.plot(epsilons, postprocessing_avg_objective_values_y0, 'blue')\n",
    "plt.plot(epsilons, robust_avg_objective_values_y0, 'red')\n",
    "plt.fill_between(epsilons, unconstrained_avg_objective_values_y0 - unconstrained_std_err, unconstrained_avg_objective_values_y0 + unconstrained_std_err, color='magenta', alpha=0.2)\n",
    "plt.fill_between(epsilons, preprocessing_avg_objective_values_y0 - preprocessing_std_err, preprocessing_avg_objective_values_y0 + preprocessing_std_err, color='green', alpha=0.2)\n",
    "plt.fill_between(epsilons, inprocessing_avg_objective_values_y0 - inprocessing_std_err, inprocessing_avg_objective_values_y0 + inprocessing_std_err, color='orange', alpha=0.2)\n",
    "plt.fill_between(epsilons, postprocessing_avg_objective_values_y0 - postprocessing_std_err, postprocessing_avg_objective_values_y0 + postprocessing_std_err, color='blue', alpha=0.2)\n",
    "plt.fill_between(epsilons, robust_avg_objective_values_y0 - robust_std_err, robust_avg_objective_values_y0 + robust_std_err, color='red', alpha=0.2)\n",
    "plt.xlabel('Epsilon in Constraint')\n",
    "plt.ylabel('LP Objective Value')\n",
    "plt.title('Adult Comparison (h0, EOy0, T=1000)')"
   ]
  },
  {
   "cell_type": "markdown",
   "metadata": {
    "colab_type": "text",
    "id": "5jv0qtaPWulw"
   },
   "source": [
    "## Experiment with Linear Program (Y = 1)\n",
    "Experiment with setting the constraints as: $$w_i \\leq \\frac{(1 + \\epsilon)}{n}$$ and $$\\frac{(1 - \\epsilon)}{n} \\leq w_i$$ where n is the number of samples in the data."
   ]
  },
  {
   "cell_type": "code",
   "execution_count": 32,
   "metadata": {
    "colab": {},
    "colab_type": "code",
    "id": "BUdomshxXk_l"
   },
   "outputs": [],
   "source": [
    "epsilon_granule = 0.01\n",
    "\n",
    "unconstrained_objective_values_y1 = []\n",
    "preprocessing_objective_values_y1 = []\n",
    "inprocessing_objective_values_y1 = []\n",
    "postprocessing_objective_values_y1 = []\n",
    "robust_objective_values_y1 = []\n",
    "\n",
    "# Iterate over datasets\n",
    "for s in range(5):\n",
    "    unconstrained_y_pred = unconstrained_preds[s]\n",
    "    preprocessing_y_pred = preprocessing_preds[s]\n",
    "    inprocessing_y_pred = inprocessing_preds[s]\n",
    "    postprocessing_y_pred = postprocessing_preds[s]\n",
    "    robust_pred = robust_preds[s]\n",
    "    a_indices_test = a_indices_test_arr[s]\n",
    "    proportions_test = proportions_test_arr[s]\n",
    "    \n",
    "    unconstrained_curr = []\n",
    "    preprocessing_curr = []\n",
    "    inprocessing_curr = []\n",
    "    postprocessing_curr = []\n",
    "    robust_curr = []\n",
    "    # Iterate over constraints\n",
    "    for i in range(0, int(1/epsilon_granule)):\n",
    "        epsilon = epsilon_granule * i\n",
    "        lower_bound = (1 - epsilon)/(len(X_test))\n",
    "        upper_bound = (1 + epsilon)/(len(X_test))\n",
    "\n",
    "        unconstrained_objective_value_a0a1, w = EO_linear_prog(unconstrained_y_pred, a_indices_test, proportions_test, lower_bound, upper_bound, 'a0', 'a1', 'y1')\n",
    "        unconstrained_objective_value_a1a0, w = EO_linear_prog(unconstrained_y_pred, a_indices_test, proportions_test, lower_bound, upper_bound, 'a1', 'a0', 'y1')\n",
    "        unconstrained_objective_value = max(unconstrained_objective_value_a0a1, unconstrained_objective_value_a1a0)\n",
    "        unconstrained_curr.append(unconstrained_objective_value)\n",
    "        \n",
    "        preprocessing_objective_value_a0a1, w = EO_linear_prog(preprocessing_y_pred, a_indices_test, proportions_test, lower_bound, upper_bound, 'a0', 'a1', 'y1')\n",
    "        preprocessing_objective_value_a1a0, w = EO_linear_prog(preprocessing_y_pred, a_indices_test, proportions_test, lower_bound, upper_bound, 'a1', 'a0', 'y1')\n",
    "        preprocessing_objective_value = max(preprocessing_objective_value_a0a1, preprocessing_objective_value_a1a0)\n",
    "        preprocessing_curr.append(preprocessing_objective_value)\n",
    "\n",
    "        inprocessing_objective_value_a0a1, w = EO_linear_prog(inprocessing_y_pred, a_indices_test, proportions_test, lower_bound, upper_bound, 'a0', 'a1', 'y1')\n",
    "        inprocessing_objective_value_a1a0, w = EO_linear_prog(inprocessing_y_pred, a_indices_test, proportions_test, lower_bound, upper_bound, 'a1', 'a0', 'y1')\n",
    "        inprocessing_objective_value = max(inprocessing_objective_value_a0a1, inprocessing_objective_value_a1a0)\n",
    "        inprocessing_curr.append(inprocessing_objective_value)\n",
    "\n",
    "        postprocessing_objective_value_a0a1, w = EO_linear_prog(postprocessing_y_pred, a_indices_test, proportions_test, lower_bound, upper_bound, 'a0', 'a1', 'y1')\n",
    "        postprocessing_objective_value_a1a0, w = EO_linear_prog(postprocessing_y_pred, a_indices_test, proportions_test, lower_bound, upper_bound, 'a1', 'a0', 'y1')\n",
    "        postprocessing_objective_value = max(postprocessing_objective_value_a0a1, postprocessing_objective_value_a1a0)\n",
    "        postprocessing_curr.append(postprocessing_objective_value)\n",
    "\n",
    "        robust_objective_value_a0a1, w = EO_linear_prog(robust_pred, a_indices_test, proportions_test, lower_bound, upper_bound, 'a0', 'a1', 'y1')\n",
    "        robust_objective_value_a1a0, w = EO_linear_prog(robust_pred, a_indices_test, proportions_test, lower_bound, upper_bound, 'a1', 'a0', 'y1')\n",
    "        robust_objective_value = max(robust_objective_value_a0a1, robust_objective_value_a1a0)\n",
    "        robust_curr.append(robust_objective_value)\n",
    "    \n",
    "    unconstrained_objective_values_y1.append(np.asarray(unconstrained_curr))\n",
    "    preprocessing_objective_values_y1.append(np.asarray(preprocessing_curr))\n",
    "    inprocessing_objective_values_y1.append(np.asarray(inprocessing_curr))\n",
    "    postprocessing_objective_values_y1.append(np.asarray(postprocessing_curr))\n",
    "    robust_objective_values_y1.append(np.asarray(robust_curr))"
   ]
  },
  {
   "cell_type": "code",
   "execution_count": 33,
   "metadata": {
    "colab": {
     "base_uri": "https://localhost:8080/",
     "height": 584
    },
    "colab_type": "code",
    "id": "86k_oLdvSv--",
    "outputId": "de9bfa17-8411-4e0d-c507-2c3af794f12c",
    "scrolled": false
   },
   "outputs": [],
   "source": [
    "epsilons = []\n",
    "for i in range(0, int(1/epsilon_granule)):\n",
    "    epsilons.append(i * epsilon_granule)"
   ]
  },
  {
   "cell_type": "code",
   "execution_count": 34,
   "metadata": {},
   "outputs": [],
   "source": [
    "# Average over the results\n",
    "unconstrained_avg_objective_values_y1 = np.zeros(len(unconstrained_objective_values_y1[0]))\n",
    "preprocessing_avg_objective_values_y1 = np.zeros(len(preprocessing_objective_values_y1[0]))\n",
    "inprocessing_avg_objective_values_y1 = np.zeros(len(inprocessing_objective_values_y1[0]))\n",
    "postprocessing_avg_objective_values_y1 = np.zeros(len(postprocessing_objective_values_y1[0]))\n",
    "robust_avg_objective_values_y1 = np.zeros(len(robust_objective_values_y1[0]))\n",
    "\n",
    "for i in range(5):\n",
    "    unconstrained_avg_objective_values_y1 += unconstrained_objective_values_y1[i]\n",
    "    preprocessing_avg_objective_values_y1 += preprocessing_objective_values_y1[i]\n",
    "    inprocessing_avg_objective_values_y1 += inprocessing_objective_values_y1[i]\n",
    "    postprocessing_avg_objective_values_y1 += postprocessing_objective_values_y1[i]\n",
    "    robust_avg_objective_values_y1 += robust_objective_values_y1[i]\n",
    "    \n",
    "    \n",
    "unconstrained_avg_objective_values_y1 = np.divide(unconstrained_avg_objective_values_y1, 5)\n",
    "preprocessing_avg_objective_values_y1 = np.divide(preprocessing_avg_objective_values_y1, 5) \n",
    "inprocessing_avg_objective_values_y1 = np.divide(inprocessing_avg_objective_values_y1, 5)\n",
    "postprocessing_avg_objective_values_y1 = np.divide(postprocessing_avg_objective_values_y1, 5)\n",
    "robust_avg_objective_values_y1 = np.divide(robust_avg_objective_values_y1, 5)"
   ]
  },
  {
   "cell_type": "code",
   "execution_count": 35,
   "metadata": {},
   "outputs": [],
   "source": [
    "unconstrained_std_err = []\n",
    "preprocessing_std_err = []\n",
    "inprocessing_std_err = []\n",
    "postprocessing_std_err = []\n",
    "robust_std_err = []\n",
    "\n",
    "for i in range(100):\n",
    "    unconstrained_vals = []\n",
    "    preprocessing_vals = []\n",
    "    inprocessing_vals = []\n",
    "    postprocessing_vals = []\n",
    "    robust_vals = []\n",
    "    \n",
    "    for s in range(5):\n",
    "        unconstrained_vals.append(unconstrained_objective_values_y1[s][i])\n",
    "        preprocessing_vals.append(preprocessing_objective_values_y1[s][i])\n",
    "        inprocessing_vals.append(inprocessing_objective_values_y1[s][i])\n",
    "        postprocessing_vals.append(postprocessing_objective_values_y1[s][i])\n",
    "        robust_vals.append(robust_objective_values_y1[s][i])\n",
    "        \n",
    "    unconstrained_std_err.append(std_error(unconstrained_vals))\n",
    "    preprocessing_std_err.append(std_error(preprocessing_vals))\n",
    "    inprocessing_std_err.append(std_error(inprocessing_vals))\n",
    "    postprocessing_std_err.append(std_error(postprocessing_vals))\n",
    "    robust_std_err.append(std_error(robust_vals))"
   ]
  },
  {
   "cell_type": "code",
   "execution_count": 36,
   "metadata": {},
   "outputs": [
    {
     "data": {
      "text/plain": [
       "Text(0.5, 1.0, 'Adult Comparison (h0, EOy0, T=1000)')"
      ]
     },
     "execution_count": 36,
     "metadata": {},
     "output_type": "execute_result"
    },
    {
     "data": {
      "image/png": "[encoded data removed]",
      "text/plain": [
       "<Figure size 648x648 with 1 Axes>"
      ]
     },
     "metadata": {
      "needs_background": "light"
     },
     "output_type": "display_data"
    }
   ],
   "source": [
    "# Plot the constraints vs. objective values\n",
    "plt.figure(figsize=(9,9))\n",
    "plt.plot(epsilons, unconstrained_avg_objective_values_y1, 'magenta')\n",
    "plt.plot(epsilons, preprocessing_avg_objective_values_y1, 'green')\n",
    "plt.plot(epsilons, inprocessing_avg_objective_values_y1, 'orange')\n",
    "plt.plot(epsilons, postprocessing_avg_objective_values_y1, 'blue')\n",
    "plt.plot(epsilons, robust_avg_objective_values_y1, 'red')\n",
    "plt.fill_between(epsilons, unconstrained_avg_objective_values_y1 - unconstrained_std_err, unconstrained_avg_objective_values_y1 + unconstrained_std_err, color='magenta', alpha=0.2)\n",
    "plt.fill_between(epsilons, preprocessing_avg_objective_values_y1 - preprocessing_std_err, preprocessing_avg_objective_values_y1 + preprocessing_std_err, color='green', alpha=0.2)\n",
    "plt.fill_between(epsilons, inprocessing_avg_objective_values_y1 - inprocessing_std_err, inprocessing_avg_objective_values_y1 + inprocessing_std_err, color='orange', alpha=0.2)\n",
    "plt.fill_between(epsilons, postprocessing_avg_objective_values_y1 - postprocessing_std_err, postprocessing_avg_objective_values_y1 + postprocessing_std_err, color='blue', alpha=0.2)\n",
    "plt.fill_between(epsilons, robust_avg_objective_values_y1 - robust_std_err, robust_avg_objective_values_y1 + robust_std_err, color='red', alpha=0.2)\n",
    "plt.xlabel('Epsilon in Constraint')\n",
    "plt.ylabel('LP Objective Value')\n",
    "plt.title('Adult Comparison (h0, EOy0, T=1000)')"
   ]
  },
  {
   "cell_type": "markdown",
   "metadata": {},
   "source": [
    "## Experiment with LP (Avg Y=0 and Y=1)"
   ]
  },
  {
   "cell_type": "code",
   "execution_count": 37,
   "metadata": {},
   "outputs": [],
   "source": [
    "unconstrained_objective_values_avgy0y1 = []\n",
    "preprocessing_objective_values_avgy0y1 = []\n",
    "inprocessing_objective_values_avgy0y1 = []\n",
    "postprocessing_objective_values_avgy0y1 = []\n",
    "robust_objective_values_avgy0y1 = []\n",
    "\n",
    "for i in range(5):\n",
    "    unconstrained_curr = []\n",
    "    preprocessing_curr = []\n",
    "    inprocessing_curr = []\n",
    "    postprocessing_curr = []\n",
    "    robust_curr = []\n",
    "    \n",
    "    unconstrained_avg = (unconstrained_objective_values_y0[i] + unconstrained_objective_values_y1[i])/2\n",
    "    preprocessing_avg = (preprocessing_objective_values_y0[i] + preprocessing_objective_values_y1[i])/2\n",
    "    inprocessing_avg = (inprocessing_objective_values_y0[i] + inprocessing_objective_values_y1[i])/2\n",
    "    postprocessing_avg = (postprocessing_objective_values_y0[i] + postprocessing_objective_values_y1[i])/2\n",
    "    robust_avg = (robust_objective_values_y0[i] + robust_objective_values_y1[i])/2\n",
    "    \n",
    "    unconstrained_objective_values_avgy0y1.append(unconstrained_avg)\n",
    "    preprocessing_objective_values_avgy0y1.append(preprocessing_avg)\n",
    "    inprocessing_objective_values_avgy0y1.append(inprocessing_avg)\n",
    "    postprocessing_objective_values_avgy0y1.append(postprocessing_avg)\n",
    "    robust_objective_values_avgy0y1.append(robust_avg)"
   ]
  },
  {
   "cell_type": "code",
   "execution_count": 38,
   "metadata": {},
   "outputs": [],
   "source": [
    "# Average over the results\n",
    "unconstrained_avg_objective_values_avgy0y1 = np.zeros(len(unconstrained_objective_values_avgy0y1[0]))\n",
    "preprocessing_avg_objective_values_avgy0y1 = np.zeros(len(preprocessing_objective_values_avgy0y1[0]))\n",
    "inprocessing_avg_objective_values_avgy0y1 = np.zeros(len(inprocessing_objective_values_avgy0y1[0]))\n",
    "postprocessing_avg_objective_values_avgy0y1 = np.zeros(len(postprocessing_objective_values_avgy0y1[0]))\n",
    "robust_avg_objective_values_avgy0y1 = np.zeros(len(robust_objective_values_avgy0y1[0]))\n",
    "\n",
    "for i in range(5):\n",
    "    unconstrained_avg_objective_values_avgy0y1 += unconstrained_objective_values_avgy0y1[i]\n",
    "    preprocessing_avg_objective_values_avgy0y1 += preprocessing_objective_values_avgy0y1[i]\n",
    "    inprocessing_avg_objective_values_avgy0y1 += inprocessing_objective_values_avgy0y1[i]\n",
    "    postprocessing_avg_objective_values_avgy0y1 += postprocessing_objective_values_avgy0y1[i]\n",
    "    robust_avg_objective_values_avgy0y1 += robust_objective_values_avgy0y1[i]\n",
    "    \n",
    "unconstrained_avg_objective_values_avgy0y1 = np.divide(unconstrained_avg_objective_values_avgy0y1, 5)\n",
    "preprocessing_avg_objective_values_avgy0y1 = np.divide(preprocessing_avg_objective_values_avgy0y1, 5)\n",
    "inprocessing_avg_objective_values_avgy0y1 = np.divide(inprocessing_avg_objective_values_avgy0y1, 5)\n",
    "postprocessing_avg_objective_values_avgy0y1 = np.divide(postprocessing_avg_objective_values_avgy0y1, 5)\n",
    "robust_avg_objective_values_avgy0y1 = np.divide(robust_avg_objective_values_avgy0y1, 5)"
   ]
  },
  {
   "cell_type": "code",
   "execution_count": 39,
   "metadata": {},
   "outputs": [],
   "source": [
    "unconstrained_std_err = []\n",
    "preprocessing_std_err = []\n",
    "inprocessing_std_err = []\n",
    "postprocessing_std_err = []\n",
    "robust_std_err = []\n",
    "\n",
    "for i in range(100):\n",
    "    uncosntrained_vals = []\n",
    "    preprocessing_vals = []\n",
    "    inprocessing_vals = []\n",
    "    postprocessing_vals = []\n",
    "    robust_vals = []\n",
    "    \n",
    "    for s in range(5):\n",
    "        uncosntrained_vals.append(unconstrained_objective_values_avgy0y1[s][i])\n",
    "        preprocessing_vals.append(preprocessing_objective_values_avgy0y1[s][i])\n",
    "        inprocessing_vals.append(inprocessing_objective_values_avgy0y1[s][i])\n",
    "        postprocessing_vals.append(postprocessing_objective_values_avgy0y1[s][i])\n",
    "        robust_vals.append(robust_objective_values_avgy0y1[s][i])\n",
    "        \n",
    "    unconstrained_std_err.append(std_error(uncosntrained_vals))\n",
    "    preprocessing_std_err.append(std_error(preprocessing_vals))\n",
    "    inprocessing_std_err.append(std_error(inprocessing_vals))\n",
    "    postprocessing_std_err.append(std_error(postprocessing_vals))\n",
    "    robust_std_err.append(std_error(robust_vals))"
   ]
  },
  {
   "cell_type": "code",
   "execution_count": 40,
   "metadata": {},
   "outputs": [
    {
     "data": {
      "text/plain": [
       "Text(0.5, 1.0, 'Adult Comparison (h0, EO Average, T=1000)')"
      ]
     },
     "execution_count": 40,
     "metadata": {},
     "output_type": "execute_result"
    },
    {
     "data": {
      "image/png": "[encoded data removed]",
      "text/plain": [
       "<Figure size 648x648 with 1 Axes>"
      ]
     },
     "metadata": {
      "needs_background": "light"
     },
     "output_type": "display_data"
    }
   ],
   "source": [
    "# Plot the constraints vs. objective values\n",
    "plt.figure(figsize=(9,9))\n",
    "plt.plot(epsilons, unconstrained_avg_objective_values_avgy0y1, 'magenta')\n",
    "plt.plot(epsilons, preprocessing_avg_objective_values_avgy0y1, 'green')\n",
    "plt.plot(epsilons, inprocessing_avg_objective_values_avgy0y1, 'orange')\n",
    "plt.plot(epsilons, postprocessing_avg_objective_values_avgy0y1, 'blue')\n",
    "plt.plot(epsilons, robust_avg_objective_values_avgy0y1, 'red')\n",
    "plt.fill_between(epsilons, unconstrained_avg_objective_values_avgy0y1 - unconstrained_std_err, unconstrained_avg_objective_values_avgy0y1 + unconstrained_std_err, color='magenta', alpha=0.2)\n",
    "plt.fill_between(epsilons, preprocessing_avg_objective_values_avgy0y1 - preprocessing_std_err, preprocessing_avg_objective_values_avgy0y1 + preprocessing_std_err, color='green', alpha=0.2)\n",
    "plt.fill_between(epsilons, inprocessing_avg_objective_values_avgy0y1 - inprocessing_std_err, inprocessing_avg_objective_values_avgy0y1 + inprocessing_std_err, color='orange', alpha=0.2)\n",
    "plt.fill_between(epsilons, postprocessing_avg_objective_values_avgy0y1 - postprocessing_std_err, postprocessing_avg_objective_values_avgy0y1 + postprocessing_std_err, color='blue', alpha=0.2)\n",
    "plt.fill_between(epsilons, robust_avg_objective_values_avgy0y1 - robust_std_err, robust_avg_objective_values_avgy0y1 + robust_std_err, color='red', alpha=0.2)\n",
    "plt.xlabel('Epsilon in Constraint')\n",
    "plt.ylabel('LP Objective Value')\n",
    "plt.title('Adult Comparison (h0, EO Average, T=1000)')"
   ]
  },
  {
   "cell_type": "code",
   "execution_count": 41,
   "metadata": {},
   "outputs": [],
   "source": [
    "EO_data = {}\n",
    "EO_data['epsilons'] = epsilons\n",
    "EO_data['unconstrained'] = unconstrained_avg_objective_values_avgy0y1\n",
    "EO_data['preprocessing'] = preprocessing_avg_objective_values_avgy0y1\n",
    "EO_data['inprocessing'] = inprocessing_avg_objective_values_avgy0y1\n",
    "EO_data['postprocessing'] = postprocessing_avg_objective_values_avgy0y1\n",
    "EO_data['robust'] = robust_avg_objective_values_avgy0y1\n",
    "EO_data['unconstrained_err'] = unconstrained_std_err\n",
    "EO_data['preprocessing_err'] = preprocessing_std_err\n",
    "EO_data['inprocessing_err'] = inprocessing_std_err\n",
    "EO_data['postprocessing_err'] = postprocessing_std_err\n",
    "EO_data['robust_err'] = robust_std_err\n",
    "\n",
    "EO_data['unconstrained_testacc'] = unconstrained_avg_testacc\n",
    "EO_data['preprocessing_testacc'] = preprocessing_avg_testacc\n",
    "EO_data['inprocessing_testacc'] = inprocessing_avg_testacc\n",
    "EO_data['postprocessing_testacc'] = postprocessing_avg_testacc\n",
    "EO_data['robust_testacc'] = robust_avg_testacc\n",
    "EO_data['unconstrained_avg_eo'] = unconstrained_avg_eo\n",
    "EO_data['unconstrained_eos'] = unconstrained_eos\n",
    "EO_data['preprocessing_avg_eo'] = preprocessing_avg_eo\n",
    "EO_data['preprocessing_eos'] = preprocessing_eos\n",
    "EO_data['inprocessing_avg_eo'] = inprocessing_avg_eo\n",
    "EO_data['inprocessing_eos'] = inprocessing_eos\n",
    "EO_data['postprocessing_avg_eo'] = postprocessing_avg_eo\n",
    "EO_data['postprocessing_eos'] = postprocessing_eos\n",
    "EO_data['robust_avg_eo'] = robust_avg_eo\n",
    "EO_data['robust_eos'] = robust_eos\n",
    "\n",
    "EO_data['unconstrained_test_err'] = unconstrained_test_err\n",
    "EO_data['preprocessing_test_err'] = preprocessing_test_err\n",
    "EO_data['inprocessing_test_err'] = inprocessing_test_err\n",
    "EO_data['postprocessing_test_err'] = postprocessing_test_err\n",
    "EO_data['robust_test_err'] = robust_test_err\n",
    "\n",
    "with open('adultEO_data.pkl', 'wb') as file:\n",
    "    pickle.dump(EO_data, file)"
   ]
  }
 ],
 "metadata": {
  "colab": {
   "collapsed_sections": [],
   "name": "EO_linear_prog_constraints.ipynb",
   "provenance": [],
   "toc_visible": true
  },
  "kernelspec": {
   "display_name": "Python 3",
   "language": "python",
   "name": "python3"
  },
  "language_info": {
   "codemirror_mode": {
    "name": "ipython",
    "version": 3
   },
   "file_extension": ".py",
   "mimetype": "text/x-python",
   "name": "python",
   "nbconvert_exporter": "python",
   "pygments_lexer": "ipython3",
   "version": "3.7.6"
  }
 },
 "nbformat": 4,
 "nbformat_minor": 2
}
