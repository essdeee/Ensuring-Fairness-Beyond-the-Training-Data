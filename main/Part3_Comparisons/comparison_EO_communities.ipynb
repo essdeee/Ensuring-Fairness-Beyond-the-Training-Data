{
 "cells": [
  {
   "cell_type": "markdown",
   "metadata": {
    "colab_type": "text",
    "id": "VYEUJK2JDiTS"
   },
   "source": [
    "# Communities EO Comparison"
   ]
  },
  {
   "cell_type": "code",
   "execution_count": 1,
   "metadata": {
    "colab": {},
    "colab_type": "code",
    "id": "TYaVKaWuDiTT"
   },
   "outputs": [],
   "source": [
    "import pandas as pd\n",
    "import numpy as np\n",
    "import matplotlib.pyplot as plt\n",
    "import cvxpy as cp\n",
    "from sklearn.linear_model import LogisticRegression\n",
    "from sklearn.metrics import accuracy_score\n",
    "import pickle\n",
    "from voting_classifier import VotingClassifier"
   ]
  },
  {
   "cell_type": "code",
   "execution_count": 2,
   "metadata": {},
   "outputs": [],
   "source": [
    "%matplotlib inline\n",
    "\n",
    "import matplotlib.pyplot as plt\n",
    "import matplotlib.cm as cm\n",
    "\n",
    "def evaluate_fairness(y_true, y_pred, sensitive_features):\n",
    "    \"\"\"\n",
    "    Evaluates fairness of the final majority vote classifier over T_inner hypotheses\n",
    "    on the test set.\n",
    "    #NOTE: defined in the meta_algo file, but we chose:\n",
    "    a0 := African-American (COMPAS), Female (Adult)\n",
    "    a1 := Caucasian (COMPAS), Male (Adult)\n",
    "\n",
    "    :return: list. subgroups in sensitive_features.\n",
    "    :return: list, dict, dict. groups is a list of the sensitive features in the dataset. \n",
    "    group_metrics is a dictionary containing dictionaries that have Delta_dp, Delta_eoy0, \n",
    "    and Delta_eoy1 for each group. gaps is a dictionary that contains the fairness gap\n",
    "    for dp, eo_y0 and eo_y1.\n",
    "    \"\"\"\n",
    "    groups = np.unique(sensitive_features.values)\n",
    "    pos_count = {}\n",
    "    dp_pct = {}\n",
    "    eo_y0_pct = {}\n",
    "    eo_y1_pct = {}\n",
    "\n",
    "    for index, group in enumerate(groups):\n",
    "        # Demographic Parity\n",
    "        indices = {}\n",
    "        indices[group] = sensitive_features.index[sensitive_features == group]\n",
    "        dp_pct[group] = sum(y_pred[indices[group]])/len(indices[group])\n",
    "\n",
    "        # Equalized Odds\n",
    "        y1_indices = {}\n",
    "        y0_indices = {}\n",
    "        y1_indices[group] = sensitive_features.index[(sensitive_features == group) & (y_true == 1)]\n",
    "        y0_indices[group] = sensitive_features.index[(sensitive_features == group) & (y_true == 0)]\n",
    "        eo_y0_pct[group] = sum(y_pred[y0_indices[group]])/len(y0_indices[group])   \n",
    "        eo_y1_pct[group] = sum(y_pred[y1_indices[group]])/len(y1_indices[group])\n",
    "\n",
    "    gaps = {}\n",
    "    group_metrics = {} # a dictionary of dictionaries\n",
    "\n",
    "    gaps['dp'] = abs(dp_pct[groups[0]] - dp_pct[groups[1]])\n",
    "    gaps['eo_y0'] = abs(eo_y0_pct[groups[0]] - eo_y0_pct[groups[1]])\n",
    "    gaps['eo_y1'] = abs(eo_y1_pct[groups[0]] - eo_y1_pct[groups[1]])\n",
    "    gaps['avg_eo'] = 0.5 * (gaps['eo_y0'] + gaps['eo_y1'])\n",
    "    group_metrics['dp'] = dp_pct\n",
    "    group_metrics['eo_y0'] = eo_y0_pct\n",
    "    group_metrics['eo_y1'] = eo_y1_pct\n",
    "\n",
    "    return groups, group_metrics, gaps"
   ]
  },
  {
   "cell_type": "code",
   "execution_count": 3,
   "metadata": {},
   "outputs": [],
   "source": [
    "def set_a_indices(sensitive_features, y):\n",
    "    \"\"\"\n",
    "    Creates a dictionary a_indices that contains the necessary information for which indices\n",
    "    contain the sensitive/protected attributes.\n",
    "\n",
    "    :return: dict 'a_indices' which contains a list of the a_0 indices, list of a_1 indices,\n",
    "    list of a_0 indices where y = 0, list of a_0 indices where y = 1, list of a_1 indices\n",
    "    where y = 0, list of a_1 indices where y = 1, and a list containing the a value of each sample.\n",
    "    \"\"\"\n",
    "    a_indices = dict()\n",
    "    a_indices['a0'] = sensitive_features.index[sensitive_features.eq(0)].tolist()\n",
    "    a_indices['a1'] = sensitive_features.index[sensitive_features.eq(1)].tolist()\n",
    "    a_indices['all'] = sensitive_features.tolist()\n",
    "\n",
    "    y0 = set(np.where(y == 0)[0])\n",
    "    y1 = set(np.where(y == 1)[0])\n",
    "    a_indices['a0_y0'] = list(y0.intersection(set(a_indices['a0'])))\n",
    "    a_indices['a0_y1'] = list(y1.intersection(set(a_indices['a0'])))\n",
    "    a_indices['a1_y0'] = list(y0.intersection(set(a_indices['a1'])))\n",
    "    a_indices['a1_y1'] = list(y1.intersection(set(a_indices['a1'])))\n",
    "\n",
    "    assert(len(a_indices['a0']) + len(a_indices['a1']) == len(y))\n",
    "    assert(len(a_indices['a0_y0']) + len(a_indices['a0_y1']) + len(a_indices['a1_y0']) + len(a_indices['a1_y1']) == len(y))\n",
    "    return a_indices\n",
    "\n",
    "def set_proportions(a_indices, y, fair_constraint):\n",
    "    proportions = {}\n",
    "    proportions['a0'] = len(a_indices['a0'])/float(len(y))\n",
    "    proportions['a1'] = len(a_indices['a1'])/float(len(y))\n",
    "    proportions['a0_y0'] = len(a_indices['a0_y0'])/float(len(y))\n",
    "    proportions['a0_y1'] = len(a_indices['a0_y1'])/float(len(y))\n",
    "    proportions['a1_y0'] = len(a_indices['a1_y0'])/float(len(y))\n",
    "    proportions['a1_y1'] = len(a_indices['a1_y1'])/float(len(y))\n",
    "    proportions['y0'] = (len(np.where(y == 0)[0]))/float(len(y))\n",
    "    proportions['y1'] = (len(np.where(y == 1)[0]))/float(len(y))\n",
    "\n",
    "    print('y0 proportion = {}'.format(proportions['y0']))\n",
    "    print('y1 proportion = {}'.format(proportions['y1']))\n",
    "    print('a0 proportion = {}'.format(proportions['a0']))\n",
    "    print('a1 proportion = {}'.format(proportions['a1']))\n",
    "    print('a0 y0 proportion = {}'.format(proportions['a0_y0']))\n",
    "    print('a1 y0 proportion = {}'.format(proportions['a1_y0']))\n",
    "    print('a0 y1 proportion = {}'.format(proportions['a0_y1']))\n",
    "    print('a1 y1 proportion = {}'.format(proportions['a1_y1']))\n",
    "\n",
    "    assert(proportions['y0'] + proportions['y1'] == 1)\n",
    "    assert(proportions['a0'] + proportions['a1'] == 1)\n",
    "    #assert(proportions['a0_y0'] + proportions['a0_y1'] + proportions['a1_y0'] + proportions['a1_y1'] == 1)\n",
    "\n",
    "    return proportions"
   ]
  },
  {
   "cell_type": "code",
   "execution_count": 4,
   "metadata": {},
   "outputs": [],
   "source": [
    "def std_error(arr):\n",
    "    std = np.std(arr)\n",
    "    return std/np.sqrt(len(arr))"
   ]
  },
  {
   "cell_type": "markdown",
   "metadata": {
    "colab_type": "text",
    "id": "id0PTMTBDiTV"
   },
   "source": [
    "## Import Data\n",
    "We take A (the protected attribute) to be the 'race' variable, and a = 0 while a' = 1. "
   ]
  },
  {
   "cell_type": "code",
   "execution_count": 5,
   "metadata": {
    "colab": {},
    "colab_type": "code",
    "id": "EaDU5FwHDiTW"
   },
   "outputs": [
    {
     "name": "stderr",
     "output_type": "stream",
     "text": [
      "/Users/sam/anaconda3/envs/fairness_checking/lib/python3.7/site-packages/ipykernel_launcher.py:20: SettingWithCopyWarning: \n",
      "A value is trying to be set on a copy of a slice from a DataFrame\n",
      "\n",
      "See the caveats in the documentation: https://pandas.pydata.org/pandas-docs/stable/user_guide/indexing.html#returning-a-view-versus-a-copy\n",
      "/Users/sam/anaconda3/envs/fairness_checking/lib/python3.7/site-packages/ipykernel_launcher.py:21: SettingWithCopyWarning: \n",
      "A value is trying to be set on a copy of a slice from a DataFrame\n",
      "\n",
      "See the caveats in the documentation: https://pandas.pydata.org/pandas-docs/stable/user_guide/indexing.html#returning-a-view-versus-a-copy\n",
      "/Users/sam/anaconda3/envs/fairness_checking/lib/python3.7/site-packages/ipykernel_launcher.py:24: SettingWithCopyWarning: \n",
      "A value is trying to be set on a copy of a slice from a DataFrame\n",
      "\n",
      "See the caveats in the documentation: https://pandas.pydata.org/pandas-docs/stable/user_guide/indexing.html#returning-a-view-versus-a-copy\n",
      "/Users/sam/anaconda3/envs/fairness_checking/lib/python3.7/site-packages/ipykernel_launcher.py:25: SettingWithCopyWarning: \n",
      "A value is trying to be set on a copy of a slice from a DataFrame\n",
      "\n",
      "See the caveats in the documentation: https://pandas.pydata.org/pandas-docs/stable/user_guide/indexing.html#returning-a-view-versus-a-copy\n"
     ]
    }
   ],
   "source": [
    "X_train_arr = []\n",
    "X_test_arr = []\n",
    "y_train_arr = []\n",
    "y_test_arr = []\n",
    "sensitive_features_train_arr = []\n",
    "sensitive_features_test_arr = []\n",
    "\n",
    "for i in range(5):\n",
    "    X_train = pd.read_csv('./../../data/processed/communities/communities_train{}_X.csv'.format(i + 1))\n",
    "    X_test = pd.read_csv('./../../data/processed/communities/communities_test{}_X.csv'.format(i + 1))\n",
    "    y_train = pd.read_csv('./../../data/processed/communities/communities_train{}_y.csv'.format(i + 1))\n",
    "    y_test = pd.read_csv('./../../data/processed/communities/communities_test{}_y.csv'.format(i + 1))\n",
    "\n",
    "    y_train = y_train['ViolentCrimesPerPop']\n",
    "    y_test = y_test['ViolentCrimesPerPop']\n",
    "    \n",
    "    sensitive_features_train = X_train['majority_white']\n",
    "    sensitive_features_test = X_test['majority_white']\n",
    "\n",
    "    sensitive_features_train[sensitive_features_train <= 0] = 0\n",
    "    sensitive_features_train[sensitive_features_train > 0] = 1\n",
    "    sensitive_features_train = sensitive_features_train.reset_index(drop=True)\n",
    "    \n",
    "    sensitive_features_test[sensitive_features_test <= 0] = 0\n",
    "    sensitive_features_test[sensitive_features_test > 0] = 1\n",
    "    sensitive_features_test = sensitive_features_test.reset_index(drop=True)\n",
    "    \n",
    "    X_train_arr.append(X_train)\n",
    "    X_test_arr.append(X_test)\n",
    "    y_train_arr.append(y_train)\n",
    "    y_test_arr.append(y_test)\n",
    "    sensitive_features_train_arr.append(sensitive_features_train)\n",
    "    sensitive_features_test_arr.append(sensitive_features_test)"
   ]
  },
  {
   "cell_type": "code",
   "execution_count": 6,
   "metadata": {
    "colab": {
     "base_uri": "https://localhost:8080/",
     "height": 241
    },
    "colab_type": "code",
    "id": "3D-WDPLsDiTY",
    "outputId": "b8ec1cdc-e070-4f7f-bf86-05c73fe9bdfe"
   },
   "outputs": [
    {
     "name": "stdout",
     "output_type": "stream",
     "text": [
      "(1595, 123)\n",
      "(399, 123)\n",
      "(1595,)\n",
      "(399,)\n",
      "5\n"
     ]
    }
   ],
   "source": [
    "print(X_train_arr[0].shape)\n",
    "print(X_test_arr[0].shape)\n",
    "print(y_train_arr[0].shape)\n",
    "print(y_test_arr[0].shape)\n",
    "print(len(X_train_arr))"
   ]
  },
  {
   "cell_type": "code",
   "execution_count": 7,
   "metadata": {
    "colab": {},
    "colab_type": "code",
    "id": "IvLHi63FDiTb"
   },
   "outputs": [],
   "source": [
    "a_indices_train_arr = []\n",
    "a_indices_test_arr = []\n",
    "\n",
    "for i in range(5):\n",
    "    a_indices_train_arr.append(set_a_indices(sensitive_features_train_arr[i], y_train_arr[i]))\n",
    "    a_indices_test_arr.append(set_a_indices(sensitive_features_test_arr[i], y_test_arr[i]))"
   ]
  },
  {
   "cell_type": "code",
   "execution_count": 8,
   "metadata": {},
   "outputs": [
    {
     "name": "stdout",
     "output_type": "stream",
     "text": [
      "y0 proportion = 0.7072100313479623\n",
      "y1 proportion = 0.2927899686520376\n",
      "a0 proportion = 0.2808777429467085\n",
      "a1 proportion = 0.7191222570532916\n",
      "a0 y0 proportion = 0.09968652037617555\n",
      "a1 y0 proportion = 0.6075235109717868\n",
      "a0 y1 proportion = 0.1811912225705329\n",
      "a1 y1 proportion = 0.1115987460815047\n",
      "y0 proportion = 0.7092731829573935\n",
      "y1 proportion = 0.2907268170426065\n",
      "a0 proportion = 0.2907268170426065\n",
      "a1 proportion = 0.7092731829573935\n",
      "a0 y0 proportion = 0.10025062656641603\n",
      "a1 y0 proportion = 0.6090225563909775\n",
      "a0 y1 proportion = 0.19047619047619047\n",
      "a1 y1 proportion = 0.10025062656641603\n",
      "y0 proportion = 0.7065830721003135\n",
      "y1 proportion = 0.29341692789968654\n",
      "a0 proportion = 0.284012539184953\n",
      "a1 proportion = 0.715987460815047\n",
      "a0 y0 proportion = 0.09404388714733543\n",
      "a1 y0 proportion = 0.6125391849529781\n",
      "a0 y1 proportion = 0.18996865203761756\n",
      "a1 y1 proportion = 0.10344827586206896\n",
      "y0 proportion = 0.7117794486215538\n",
      "y1 proportion = 0.2882205513784461\n",
      "a0 proportion = 0.2781954887218045\n",
      "a1 proportion = 0.7218045112781954\n",
      "a0 y0 proportion = 0.12280701754385964\n",
      "a1 y0 proportion = 0.5889724310776943\n",
      "a0 y1 proportion = 0.15538847117794485\n",
      "a1 y1 proportion = 0.13283208020050125\n",
      "y0 proportion = 0.7122257053291536\n",
      "y1 proportion = 0.2877742946708464\n",
      "a0 proportion = 0.2877742946708464\n",
      "a1 proportion = 0.7122257053291536\n",
      "a0 y0 proportion = 0.10658307210031348\n",
      "a1 y0 proportion = 0.6056426332288402\n",
      "a0 y1 proportion = 0.1811912225705329\n",
      "a1 y1 proportion = 0.10658307210031348\n",
      "y0 proportion = 0.6892230576441103\n",
      "y1 proportion = 0.3107769423558897\n",
      "a0 proportion = 0.2631578947368421\n",
      "a1 proportion = 0.7368421052631579\n",
      "a0 y0 proportion = 0.07268170426065163\n",
      "a1 y0 proportion = 0.6165413533834586\n",
      "a0 y1 proportion = 0.19047619047619047\n",
      "a1 y1 proportion = 0.12030075187969924\n",
      "y0 proportion = 0.7072100313479623\n",
      "y1 proportion = 0.2927899686520376\n",
      "a0 proportion = 0.2846394984326019\n",
      "a1 proportion = 0.7153605015673982\n",
      "a0 y0 proportion = 0.10219435736677115\n",
      "a1 y0 proportion = 0.6050156739811913\n",
      "a0 y1 proportion = 0.18244514106583073\n",
      "a1 y1 proportion = 0.1103448275862069\n",
      "y0 proportion = 0.7092731829573935\n",
      "y1 proportion = 0.2907268170426065\n",
      "a0 proportion = 0.2756892230576441\n",
      "a1 proportion = 0.7243107769423559\n",
      "a0 y0 proportion = 0.09022556390977443\n",
      "a1 y0 proportion = 0.6190476190476191\n",
      "a0 y1 proportion = 0.18546365914786966\n",
      "a1 y1 proportion = 0.10526315789473684\n",
      "y0 proportion = 0.7003134796238244\n",
      "y1 proportion = 0.29968652037617555\n",
      "a0 proportion = 0.28338557993730407\n",
      "a1 proportion = 0.7166144200626959\n",
      "a0 y0 proportion = 0.09717868338557993\n",
      "a1 y0 proportion = 0.6031347962382445\n",
      "a0 y1 proportion = 0.18620689655172415\n",
      "a1 y1 proportion = 0.11347962382445141\n",
      "y0 proportion = 0.7368421052631579\n",
      "y1 proportion = 0.2631578947368421\n",
      "a0 proportion = 0.2807017543859649\n",
      "a1 proportion = 0.7192982456140351\n",
      "a0 y0 proportion = 0.11027568922305764\n",
      "a1 y0 proportion = 0.6265664160401002\n",
      "a0 y1 proportion = 0.17042606516290726\n",
      "a1 y1 proportion = 0.09273182957393483\n"
     ]
    }
   ],
   "source": [
    "proportions_train_arr = []\n",
    "proportions_test_arr = []\n",
    "\n",
    "for i in range(5):\n",
    "    proportions_train_arr.append(set_proportions(a_indices_train_arr[i], y_train_arr[i], 'eo'))\n",
    "    proportions_test_arr.append(set_proportions(a_indices_test_arr[i], y_test_arr[i], 'eo'))"
   ]
  },
  {
   "cell_type": "markdown",
   "metadata": {},
   "source": [
    "## Train and Predict (Unconstrained Logistic Regression)"
   ]
  },
  {
   "cell_type": "code",
   "execution_count": 9,
   "metadata": {},
   "outputs": [],
   "source": [
    "unconstrained_clfrs = []\n",
    "unconstrained_test_accs = []\n",
    "unconstrained_eos = []\n",
    "unconstrained_preds = []"
   ]
  },
  {
   "cell_type": "code",
   "execution_count": 10,
   "metadata": {},
   "outputs": [
    {
     "name": "stdout",
     "output_type": "stream",
     "text": [
      "Communities Test Accuracy (Unconstrained, EO): 0.8646616541353384\n",
      "P[h(X) = 1 | A = 0, Y = 1] = 0.8026315789473685\n",
      "P[h(X) = 1 | A = 0, Y = 0] = 0.325\n",
      "P[h(X) = 1 | A = 1, Y = 1] = 0.5\n",
      "P[h(X) = 1 | A = 1, Y = 0] = 0.024691358024691357\n",
      "Delta_eo1 = 0.3026315789473685\n",
      "Delta_eo0 = 0.30030864197530865\n",
      "Communities Test Accuracy (Unconstrained, EO): 0.8220551378446115\n",
      "P[h(X) = 1 | A = 0, Y = 1] = 0.8709677419354839\n",
      "P[h(X) = 1 | A = 0, Y = 0] = 0.3469387755102041\n",
      "P[h(X) = 1 | A = 1, Y = 1] = 0.20754716981132076\n",
      "P[h(X) = 1 | A = 1, Y = 0] = 0.01702127659574468\n",
      "Delta_eo1 = 0.663420572124163\n",
      "Delta_eo0 = 0.3299174989144594\n",
      "Communities Test Accuracy (Unconstrained, EO): 0.8471177944862155\n",
      "P[h(X) = 1 | A = 0, Y = 1] = 0.75\n",
      "P[h(X) = 1 | A = 0, Y = 0] = 0.27586206896551724\n",
      "P[h(X) = 1 | A = 1, Y = 1] = 0.4791666666666667\n",
      "P[h(X) = 1 | A = 1, Y = 0] = 0.036585365853658534\n",
      "Delta_eo1 = 0.2708333333333333\n",
      "Delta_eo0 = 0.2392767031118587\n",
      "Communities Test Accuracy (Unconstrained, EO): 0.8471177944862155\n",
      "P[h(X) = 1 | A = 0, Y = 1] = 0.8378378378378378\n",
      "P[h(X) = 1 | A = 0, Y = 0] = 0.3611111111111111\n",
      "P[h(X) = 1 | A = 1, Y = 1] = 0.47619047619047616\n",
      "P[h(X) = 1 | A = 1, Y = 0] = 0.05668016194331984\n",
      "Delta_eo1 = 0.36164736164736166\n",
      "Delta_eo0 = 0.3044309491677913\n",
      "Communities Test Accuracy (Unconstrained, EO): 0.8646616541353384\n",
      "P[h(X) = 1 | A = 0, Y = 1] = 0.8529411764705882\n",
      "P[h(X) = 1 | A = 0, Y = 0] = 0.2727272727272727\n",
      "P[h(X) = 1 | A = 1, Y = 1] = 0.4594594594594595\n",
      "P[h(X) = 1 | A = 1, Y = 0] = 0.048\n",
      "Delta_eo1 = 0.3934817170111287\n",
      "Delta_eo0 = 0.22472727272727272\n"
     ]
    }
   ],
   "source": [
    "for i in range(5):\n",
    "    X_train = X_train_arr[i]\n",
    "    y_train = y_train_arr[i]\n",
    "    X_test = X_test_arr[i]\n",
    "    y_test = y_test_arr[i]\n",
    "    sensitive_features_train = sensitive_features_train_arr[i]\n",
    "    sensitive_features_test = sensitive_features_test_arr[i]\n",
    "    \n",
    "    unconstrained_logreg = LogisticRegression()\n",
    "\n",
    "    unconstrained_logreg.fit(X_train, y_train)\n",
    "    unconstrained_pred = unconstrained_logreg.predict(X_test)\n",
    "\n",
    "    print(\"Communities Test Accuracy (Unconstrained, EO): {}\".format(accuracy_score(unconstrained_pred, y_test)))\n",
    "    groups, group_metrics_eo, gaps_eo = evaluate_fairness(y_test, unconstrained_pred, sensitive_features_test)\n",
    "\n",
    "    for group in groups:\n",
    "        print(\"P[h(X) = 1 | A = {}, Y = 1] = {}\".format(group, group_metrics_eo['eo_y1'][group]))\n",
    "        print(\"P[h(X) = 1 | A = {}, Y = 0] = {}\".format(group, group_metrics_eo['eo_y0'][group]))\n",
    "    print(\"Delta_eo1 = {}\".format(gaps_eo['eo_y1']))\n",
    "    print(\"Delta_eo0 = {}\".format(gaps_eo['eo_y0']))\n",
    "    \n",
    "    unconstrained_eos.append(gaps_eo['avg_eo'])\n",
    "    unconstrained_clfrs.append(unconstrained_logreg)\n",
    "    unconstrained_test_accs.append(accuracy_score(unconstrained_pred, y_test))\n",
    "    unconstrained_preds.append(unconstrained_pred)"
   ]
  },
  {
   "cell_type": "code",
   "execution_count": 11,
   "metadata": {},
   "outputs": [],
   "source": [
    "unconstrained_avg_testacc = np.mean(unconstrained_test_accs)\n",
    "unconstrained_avg_eo = np.mean(unconstrained_eos)\n",
    "unconstrained_test_err = std_error(unconstrained_test_accs)"
   ]
  },
  {
   "cell_type": "markdown",
   "metadata": {},
   "source": [
    "## Train and Predict (Preprocessing)"
   ]
  },
  {
   "cell_type": "code",
   "execution_count": 12,
   "metadata": {},
   "outputs": [],
   "source": [
    "preprocessing_clfrs = []\n",
    "preprocessing_test_accs = []\n",
    "preprocessing_eos = []\n",
    "preprocessing_preds = []"
   ]
  },
  {
   "cell_type": "code",
   "execution_count": 13,
   "metadata": {},
   "outputs": [
    {
     "name": "stderr",
     "output_type": "stream",
     "text": [
      "/Users/sam/anaconda3/envs/fairness_checking/lib/python3.7/site-packages/aif360/algorithms/preprocessing/lfr_helpers/helpers.py:2: NumbaDeprecationWarning: An import was requested from a module that has moved location.\n",
      "Import requested from: 'numba.decorators', please update to use 'numba.core.decorators' or pin to Numba version 0.48.0. This alias will not be present in Numba version 0.50.0.\n",
      "  from numba.decorators import jit\n",
      "/Users/sam/anaconda3/envs/fairness_checking/lib/python3.7/site-packages/aif360/algorithms/preprocessing/lfr_helpers/helpers.py:2: NumbaDeprecationWarning: An import was requested from a module that has moved location.\n",
      "Import of 'jit' requested from: 'numba.decorators', please update to use 'numba.core.decorators' or pin to Numba version 0.48.0. This alias will not be present in Numba version 0.50.0.\n",
      "  from numba.decorators import jit\n"
     ]
    }
   ],
   "source": [
    "# Form the IBM Fairness Dataset Object\n",
    "from aif360.datasets import BinaryLabelDataset\n",
    "from aif360.algorithms.preprocessing.reweighing import Reweighing\n",
    "\n",
    "preprocess_train_arr = []\n",
    "\n",
    "privileged_groups = [{'majority_white': 1}]\n",
    "unprivileged_groups = [{'majority_white': 0}]\n",
    "\n",
    "for s in range(5):\n",
    "    X_train_copy = X_train_arr[s].copy()\n",
    "    y_train_copy = y_train_arr[s].copy()\n",
    "    X_test_copy = X_test_arr[s].copy()\n",
    "    y_test_copy = y_test_arr[s].copy()\n",
    "\n",
    "    X_train_copy['ViolentCrimesPerPop'] = y_train_copy\n",
    "    X_test_copy['ViolentCrimesPerPop'] = y_test_copy\n",
    "    \n",
    "    preprocess_train = BinaryLabelDataset(1, 0, df=X_train_copy, label_names=['ViolentCrimesPerPop'], protected_attribute_names=['majority_white'])\n",
    "    preprocess_train_arr.append(preprocess_train)"
   ]
  },
  {
   "cell_type": "code",
   "execution_count": 14,
   "metadata": {},
   "outputs": [
    {
     "name": "stdout",
     "output_type": "stream",
     "text": [
      "Communities Test Accuracy (Preprocessing, EO): 0.8295739348370927\n",
      "P[h(X) = 1 | A = 0, Y = 1] = 0.6052631578947368\n",
      "P[h(X) = 1 | A = 0, Y = 0] = 0.125\n",
      "P[h(X) = 1 | A = 1, Y = 1] = 0.75\n",
      "P[h(X) = 1 | A = 1, Y = 0] = 0.09465020576131687\n",
      "Delta_eo1 = 0.14473684210526316\n",
      "Delta_eo0 = 0.030349794238683128\n",
      "Communities Test Accuracy (Preprocessing, EO): 0.8596491228070176\n",
      "P[h(X) = 1 | A = 0, Y = 1] = 0.6774193548387096\n",
      "P[h(X) = 1 | A = 0, Y = 0] = 0.04081632653061224\n",
      "P[h(X) = 1 | A = 1, Y = 1] = 0.5471698113207547\n",
      "P[h(X) = 1 | A = 1, Y = 0] = 0.0425531914893617\n",
      "Delta_eo1 = 0.13024954351795492\n",
      "Delta_eo0 = 0.0017368649587494595\n",
      "Communities Test Accuracy (Preprocessing, EO): 0.8220551378446115\n",
      "P[h(X) = 1 | A = 0, Y = 1] = 0.5789473684210527\n",
      "P[h(X) = 1 | A = 0, Y = 0] = 0.034482758620689655\n",
      "P[h(X) = 1 | A = 1, Y = 1] = 0.75\n",
      "P[h(X) = 1 | A = 1, Y = 0] = 0.10569105691056911\n",
      "Delta_eo1 = 0.17105263157894735\n",
      "Delta_eo0 = 0.07120829828987946\n",
      "Communities Test Accuracy (Preprocessing, EO): 0.7994987468671679\n",
      "P[h(X) = 1 | A = 0, Y = 1] = 0.5405405405405406\n",
      "P[h(X) = 1 | A = 0, Y = 0] = 0.1111111111111111\n",
      "P[h(X) = 1 | A = 1, Y = 1] = 0.5952380952380952\n",
      "P[h(X) = 1 | A = 1, Y = 0] = 0.10121457489878542\n",
      "Delta_eo1 = 0.05469755469755466\n",
      "Delta_eo0 = 0.009896536212325682\n",
      "Communities Test Accuracy (Preprocessing, EO): 0.8370927318295739\n",
      "P[h(X) = 1 | A = 0, Y = 1] = 0.5735294117647058\n",
      "P[h(X) = 1 | A = 0, Y = 0] = 0.045454545454545456\n",
      "P[h(X) = 1 | A = 1, Y = 1] = 0.6486486486486487\n",
      "P[h(X) = 1 | A = 1, Y = 0] = 0.084\n",
      "Delta_eo1 = 0.07511923688394284\n",
      "Delta_eo0 = 0.03854545454545455\n"
     ]
    }
   ],
   "source": [
    "for i in range(5):\n",
    "    preprocess_train = preprocess_train_arr[i]\n",
    "    \n",
    "    X_train = X_train_arr[i]\n",
    "    y_train = y_train_arr[i]\n",
    "    X_test = X_test_arr[i]\n",
    "    y_test = y_test_arr[i]\n",
    "    sensitive_features_train = sensitive_features_train_arr[i]\n",
    "    sensitive_features_test = sensitive_features_test_arr[i]\n",
    "    \n",
    "    RW = Reweighing(unprivileged_groups=unprivileged_groups,\n",
    "               privileged_groups=privileged_groups)\n",
    "    dataset_transf_train = RW.fit_transform(preprocess_train)\n",
    "    logreg = LogisticRegression()\n",
    "    logreg.fit(X_train, y_train,\n",
    "            sample_weight=dataset_transf_train.instance_weights)\n",
    "    \n",
    "    preprocessing_y_pred = logreg.predict(X_test)\n",
    "\n",
    "    ### Back to using original data ###\n",
    "    print(\"Communities Test Accuracy (Preprocessing, EO): {}\".format(accuracy_score(preprocessing_y_pred, y_test)))\n",
    "    groups, group_metrics_eo, gaps_eo = evaluate_fairness(y_test, preprocessing_y_pred, sensitive_features_test)\n",
    "\n",
    "    for group in groups:\n",
    "        print(\"P[h(X) = 1 | A = {}, Y = 1] = {}\".format(group, group_metrics_eo['eo_y1'][group]))\n",
    "        print(\"P[h(X) = 1 | A = {}, Y = 0] = {}\".format(group, group_metrics_eo['eo_y0'][group]))\n",
    "    print(\"Delta_eo1 = {}\".format(gaps_eo['eo_y1']))\n",
    "    print(\"Delta_eo0 = {}\".format(gaps_eo['eo_y0']))\n",
    "    \n",
    "    preprocessing_eos.append(gaps_eo['avg_eo'])\n",
    "    preprocessing_clfrs.append(logreg)\n",
    "    preprocessing_test_accs.append(accuracy_score(preprocessing_y_pred, y_test))\n",
    "    preprocessing_preds.append(preprocessing_y_pred)"
   ]
  },
  {
   "cell_type": "code",
   "execution_count": 15,
   "metadata": {},
   "outputs": [],
   "source": [
    "preprocessing_avg_testacc = np.mean(preprocessing_test_accs)\n",
    "preprocessing_avg_eo = np.mean(preprocessing_eos)\n",
    "preprocessing_test_err = std_error(preprocessing_test_accs)"
   ]
  },
  {
   "cell_type": "markdown",
   "metadata": {},
   "source": [
    "## Train and Predict (Inprocessing)"
   ]
  },
  {
   "cell_type": "code",
   "execution_count": 16,
   "metadata": {},
   "outputs": [],
   "source": [
    "from fairlearn.reductions import ExponentiatedGradient, DemographicParity, EqualizedOdds\n",
    "\n",
    "inprocessing_clfrs = []\n",
    "inprocessing_test_accs = []\n",
    "inprocessing_eos = []\n",
    "inprocessing_preds = []"
   ]
  },
  {
   "cell_type": "code",
   "execution_count": 17,
   "metadata": {},
   "outputs": [
    {
     "name": "stdout",
     "output_type": "stream",
     "text": [
      "Communities Test Accuracy (Inprocessing, EO): 0.8070175438596491\n",
      "P[h(X) = 1 | A = 0, Y = 1] = 0.75\n",
      "P[h(X) = 1 | A = 0, Y = 0] = 0.275\n",
      "P[h(X) = 1 | A = 1, Y = 1] = 0.8\n",
      "P[h(X) = 1 | A = 1, Y = 0] = 0.16049382716049382\n",
      "Delta_eo1 = 0.050000000000000044\n",
      "Delta_eo0 = 0.1145061728395062\n",
      "Communities Test Accuracy (Inprocessing, EO): 0.8395989974937343\n",
      "P[h(X) = 1 | A = 0, Y = 1] = 0.8225806451612904\n",
      "P[h(X) = 1 | A = 0, Y = 0] = 0.22448979591836735\n",
      "P[h(X) = 1 | A = 1, Y = 1] = 0.7547169811320755\n",
      "P[h(X) = 1 | A = 1, Y = 0] = 0.12340425531914893\n",
      "Delta_eo1 = 0.06786366402921484\n",
      "Delta_eo0 = 0.10108554059921841\n",
      "Communities Test Accuracy (Inprocessing, EO): 0.8020050125313283\n",
      "P[h(X) = 1 | A = 0, Y = 1] = 0.7368421052631579\n",
      "P[h(X) = 1 | A = 0, Y = 0] = 0.3448275862068966\n",
      "P[h(X) = 1 | A = 1, Y = 1] = 0.875\n",
      "P[h(X) = 1 | A = 1, Y = 0] = 0.17479674796747968\n",
      "Delta_eo1 = 0.13815789473684215\n",
      "Delta_eo0 = 0.1700308382394169\n",
      "Communities Test Accuracy (Inprocessing, EO): 0.8120300751879699\n",
      "P[h(X) = 1 | A = 0, Y = 1] = 0.7972972972972973\n",
      "P[h(X) = 1 | A = 0, Y = 0] = 0.2777777777777778\n",
      "P[h(X) = 1 | A = 1, Y = 1] = 0.7142857142857143\n",
      "P[h(X) = 1 | A = 1, Y = 0] = 0.15384615384615385\n",
      "Delta_eo1 = 0.08301158301158296\n",
      "Delta_eo0 = 0.12393162393162394\n",
      "Communities Test Accuracy (Inprocessing, EO): 0.8095238095238095\n",
      "P[h(X) = 1 | A = 0, Y = 1] = 0.7794117647058824\n",
      "P[h(X) = 1 | A = 0, Y = 0] = 0.25\n",
      "P[h(X) = 1 | A = 1, Y = 1] = 0.8108108108108109\n",
      "P[h(X) = 1 | A = 1, Y = 0] = 0.172\n",
      "Delta_eo1 = 0.031399046104928496\n",
      "Delta_eo0 = 0.07800000000000001\n"
     ]
    }
   ],
   "source": [
    "for i in range(5):\n",
    "    X_train = X_train_arr[i]\n",
    "    y_train = y_train_arr[i]\n",
    "    X_test = X_test_arr[i]\n",
    "    y_test = y_test_arr[i]\n",
    "    sensitive_features_train = sensitive_features_train_arr[i]\n",
    "    sensitive_features_test = sensitive_features_test_arr[i]\n",
    "    \n",
    "    inprocessing_dp = ExponentiatedGradient(\n",
    "        LogisticRegression(solver='liblinear', fit_intercept=True, class_weight='balanced'),\n",
    "        constraints=EqualizedOdds(),\n",
    "        eps=0.05,\n",
    "        nu=1e-6)\n",
    "\n",
    "    inprocessing_dp.fit(X_train, y_train, sensitive_features=sensitive_features_train)\n",
    "    inprocessing_y_pred = inprocessing_dp.predict(X_test)\n",
    "\n",
    "    print(\"Communities Test Accuracy (Inprocessing, EO): {}\".format(accuracy_score(inprocessing_y_pred, y_test)))\n",
    "    groups, group_metrics_eo, gaps_eo = evaluate_fairness(y_test, inprocessing_y_pred, sensitive_features_test)\n",
    "\n",
    "    for group in groups:\n",
    "        print(\"P[h(X) = 1 | A = {}, Y = 1] = {}\".format(group, group_metrics_eo['eo_y1'][group]))\n",
    "        print(\"P[h(X) = 1 | A = {}, Y = 0] = {}\".format(group, group_metrics_eo['eo_y0'][group]))\n",
    "    print(\"Delta_eo1 = {}\".format(gaps_eo['eo_y1']))\n",
    "    print(\"Delta_eo0 = {}\".format(gaps_eo['eo_y0']))\n",
    "    \n",
    "    inprocessing_eos.append(gaps_eo['avg_eo'])\n",
    "    inprocessing_clfrs.append(inprocessing_dp)\n",
    "    inprocessing_test_accs.append(accuracy_score(inprocessing_y_pred, y_test))\n",
    "    inprocessing_preds.append(inprocessing_y_pred)"
   ]
  },
  {
   "cell_type": "code",
   "execution_count": 18,
   "metadata": {},
   "outputs": [],
   "source": [
    "inprocessing_avg_testacc = np.mean(inprocessing_test_accs)\n",
    "inprocessing_avg_eo = np.mean(inprocessing_eos)\n",
    "inprocessing_test_err = std_error(inprocessing_test_accs)"
   ]
  },
  {
   "cell_type": "markdown",
   "metadata": {},
   "source": [
    "## Train and Predict (Postprocessing)"
   ]
  },
  {
   "cell_type": "code",
   "execution_count": 19,
   "metadata": {},
   "outputs": [],
   "source": [
    "from fairlearn.postprocessing import ThresholdOptimizer\n",
    "from sklearn import clone\n",
    "from sklearn.base import BaseEstimator, ClassifierMixin\n",
    "from sklearn.utils.validation import check_is_fitted\n",
    "from sklearn.exceptions import NotFittedError\n",
    "\n",
    "postprocessing_clfrs = []\n",
    "postprocessing_test_accs = []\n",
    "postprocessing_eos = []\n",
    "postprocessing_preds = []"
   ]
  },
  {
   "cell_type": "code",
   "execution_count": 20,
   "metadata": {},
   "outputs": [],
   "source": [
    "class LogisticRegressionAsRegression(BaseEstimator, ClassifierMixin):\n",
    "    def __init__(self, logistic_regression_estimator):\n",
    "        self.logistic_regression_estimator = logistic_regression_estimator\n",
    "\n",
    "    def fit(self, X, y):\n",
    "        try:\n",
    "            check_is_fitted(self.logistic_regression_estimator)\n",
    "            self.logistic_regression_estimator_ = self.logistic_regression_estimator\n",
    "        except NotFittedError:\n",
    "            self.logistic_regression_estimator_ = clone(\n",
    "                self.logistic_regression_estimator\n",
    "            ).fit(X, y)\n",
    "        return self\n",
    "\n",
    "    def predict(self, X):\n",
    "        # use predict_proba to get real values instead of 0/1, select only prob for 1\n",
    "        scores = self.logistic_regression_estimator_.predict_proba(X)[:, 1]\n",
    "        return scores"
   ]
  },
  {
   "cell_type": "code",
   "execution_count": 21,
   "metadata": {},
   "outputs": [
    {
     "name": "stdout",
     "output_type": "stream",
     "text": [
      "Communities Test Accuracy (Postprocessing, EO): 0.8245614035087719\n",
      "P[h(X) = 1 | A = 0, Y = 1] = 0.6710526315789473\n",
      "P[h(X) = 1 | A = 0, Y = 0] = 0.2\n",
      "P[h(X) = 1 | A = 1, Y = 1] = 0.725\n",
      "P[h(X) = 1 | A = 1, Y = 0] = 0.10699588477366255\n",
      "Delta_eo1 = 0.05394736842105263\n",
      "Delta_eo0 = 0.09300411522633746\n",
      "Communities Test Accuracy (Postprocessing, EO): 0.8571428571428571\n",
      "P[h(X) = 1 | A = 0, Y = 1] = 0.6290322580645161\n",
      "P[h(X) = 1 | A = 0, Y = 0] = 0.04081632653061224\n",
      "P[h(X) = 1 | A = 1, Y = 1] = 0.5094339622641509\n",
      "P[h(X) = 1 | A = 1, Y = 0] = 0.02553191489361702\n",
      "Delta_eo1 = 0.11959829580036518\n",
      "Delta_eo0 = 0.015284411636995222\n",
      "Communities Test Accuracy (Postprocessing, EO): 0.8295739348370927\n",
      "P[h(X) = 1 | A = 0, Y = 1] = 0.631578947368421\n",
      "P[h(X) = 1 | A = 0, Y = 0] = 0.06896551724137931\n",
      "P[h(X) = 1 | A = 1, Y = 1] = 0.7916666666666666\n",
      "P[h(X) = 1 | A = 1, Y = 0] = 0.11382113821138211\n",
      "Delta_eo1 = 0.1600877192982456\n",
      "Delta_eo0 = 0.0448556209700028\n",
      "Communities Test Accuracy (Postprocessing, EO): 0.8145363408521303\n",
      "P[h(X) = 1 | A = 0, Y = 1] = 0.5675675675675675\n",
      "P[h(X) = 1 | A = 0, Y = 0] = 0.1111111111111111\n",
      "P[h(X) = 1 | A = 1, Y = 1] = 0.6190476190476191\n",
      "P[h(X) = 1 | A = 1, Y = 0] = 0.08906882591093117\n",
      "Delta_eo1 = 0.051480051480051525\n",
      "Delta_eo0 = 0.022042285200179937\n",
      "Communities Test Accuracy (Postprocessing, EO): 0.8395989974937343\n",
      "P[h(X) = 1 | A = 0, Y = 1] = 0.6029411764705882\n",
      "P[h(X) = 1 | A = 0, Y = 0] = 0.06818181818181818\n",
      "P[h(X) = 1 | A = 1, Y = 1] = 0.6486486486486487\n",
      "P[h(X) = 1 | A = 1, Y = 0] = 0.084\n",
      "Delta_eo1 = 0.04570747217806048\n",
      "Delta_eo0 = 0.01581818181818183\n"
     ]
    }
   ],
   "source": [
    "for i in range(5):\n",
    "    X_train = X_train_arr[i]\n",
    "    y_train = y_train_arr[i]\n",
    "    X_test = X_test_arr[i]\n",
    "    y_test = y_test_arr[i]\n",
    "    sensitive_features_train = sensitive_features_train_arr[i]\n",
    "    sensitive_features_test = sensitive_features_test_arr[i]\n",
    "    \n",
    "    logreg = LogisticRegression()\n",
    "    logreg.fit(X_train, y_train)\n",
    "    estimator_wrapper = LogisticRegressionAsRegression(logreg).fit(X_train, y_train)\n",
    "    postprocessed_predictor_dp = ThresholdOptimizer(estimator=estimator_wrapper, constraints=\"equalized_odds\", prefit=True)\n",
    "\n",
    "    postprocessed_predictor_dp.fit(X_train, y_train, sensitive_features=sensitive_features_train)\n",
    "    postprocessing_y_pred = postprocessed_predictor_dp.predict(X_test, sensitive_features=sensitive_features_test)\n",
    "\n",
    "    print(\"Communities Test Accuracy (Postprocessing, EO): {}\".format(accuracy_score(postprocessing_y_pred, y_test)))\n",
    "    groups, group_metrics_eo, gaps_eo = evaluate_fairness(y_test, postprocessing_y_pred, sensitive_features_test)\n",
    "\n",
    "    for group in groups:\n",
    "        print(\"P[h(X) = 1 | A = {}, Y = 1] = {}\".format(group, group_metrics_eo['eo_y1'][group]))\n",
    "        print(\"P[h(X) = 1 | A = {}, Y = 0] = {}\".format(group, group_metrics_eo['eo_y0'][group]))\n",
    "    print(\"Delta_eo1 = {}\".format(gaps_eo['eo_y1']))\n",
    "    print(\"Delta_eo0 = {}\".format(gaps_eo['eo_y0']))\n",
    "    \n",
    "    postprocessing_eos.append(gaps_eo['avg_eo'])\n",
    "    postprocessing_clfrs.append(postprocessed_predictor_dp)\n",
    "    postprocessing_test_accs.append(accuracy_score(postprocessing_y_pred, y_test))\n",
    "    postprocessing_preds.append(postprocessing_y_pred)"
   ]
  },
  {
   "cell_type": "code",
   "execution_count": 22,
   "metadata": {},
   "outputs": [],
   "source": [
    "postprocessing_avg_testacc = np.mean(postprocessing_test_accs)\n",
    "postprocessing_avg_eo = np.mean(postprocessing_eos)\n",
    "postprocessing_test_err = std_error(postprocessing_test_accs)"
   ]
  },
  {
   "cell_type": "markdown",
   "metadata": {},
   "source": [
    "## Predict (Robust Algorithm h_0, T = 1000)"
   ]
  },
  {
   "cell_type": "code",
   "execution_count": 23,
   "metadata": {},
   "outputs": [],
   "source": [
    "robust_clfrs = []\n",
    "robust_test_accs = []\n",
    "robust_eos = []\n",
    "robust_preds = []"
   ]
  },
  {
   "cell_type": "code",
   "execution_count": 24,
   "metadata": {},
   "outputs": [
    {
     "name": "stdout",
     "output_type": "stream",
     "text": [
      "Communities Test Accuracy (Robust, EO): 0.7543859649122807\n",
      "P[h(X) = 1 | A = 0, Y = 1] = 0.25\n",
      "P[h(X) = 1 | A = 0, Y = 0] = 0.025\n",
      "P[h(X) = 1 | A = 1, Y = 1] = 0.0\n",
      "P[h(X) = 1 | A = 1, Y = 0] = 0.0\n",
      "Delta_eo1 = 0.25\n",
      "Delta_eo0 = 0.025\n",
      "Communities Test Accuracy (Robust, EO): 0.7368421052631579\n",
      "P[h(X) = 1 | A = 0, Y = 1] = 0.1935483870967742\n",
      "P[h(X) = 1 | A = 0, Y = 0] = 0.04081632653061224\n",
      "P[h(X) = 1 | A = 1, Y = 1] = 0.0\n",
      "P[h(X) = 1 | A = 1, Y = 0] = 0.0\n",
      "Delta_eo1 = 0.1935483870967742\n",
      "Delta_eo0 = 0.04081632653061224\n",
      "Communities Test Accuracy (Robust, EO): 0.7192982456140351\n",
      "P[h(X) = 1 | A = 0, Y = 1] = 0.15789473684210525\n",
      "P[h(X) = 1 | A = 0, Y = 0] = 0.0\n",
      "P[h(X) = 1 | A = 1, Y = 1] = 0.0\n",
      "P[h(X) = 1 | A = 1, Y = 0] = 0.0\n",
      "Delta_eo1 = 0.15789473684210525\n",
      "Delta_eo0 = 0.0\n",
      "Communities Test Accuracy (Robust, EO): 0.7293233082706767\n",
      "P[h(X) = 1 | A = 0, Y = 1] = 0.10810810810810811\n",
      "P[h(X) = 1 | A = 0, Y = 0] = 0.0\n",
      "P[h(X) = 1 | A = 1, Y = 1] = 0.0\n",
      "P[h(X) = 1 | A = 1, Y = 0] = 0.0\n",
      "Delta_eo1 = 0.10810810810810811\n",
      "Delta_eo0 = 0.0\n",
      "Communities Test Accuracy (Robust, EO): 0.7568922305764411\n",
      "P[h(X) = 1 | A = 0, Y = 1] = 0.11764705882352941\n",
      "P[h(X) = 1 | A = 0, Y = 0] = 0.0\n",
      "P[h(X) = 1 | A = 1, Y = 1] = 0.0\n",
      "P[h(X) = 1 | A = 1, Y = 0] = 0.0\n",
      "Delta_eo1 = 0.11764705882352941\n",
      "Delta_eo0 = 0.0\n"
     ]
    }
   ],
   "source": [
    "for i in range(5):\n",
    "    X_train = X_train_arr[i]\n",
    "    y_train = y_train_arr[i]\n",
    "    X_test = X_test_arr[i]\n",
    "    y_test = y_test_arr[i]\n",
    "    sensitive_features_train = sensitive_features_train_arr[i]\n",
    "    sensitive_features_test = sensitive_features_test_arr[i]\n",
    "    \n",
    "    pickled_file = './trained_robust/ensemble_final/ensemble_final_eo_communitiessplit{}.pkl'.format(i+1)\n",
    "    pickled_robust_h = open(pickled_file, \"rb\")\n",
    "    robust_h = pickle.load(pickled_robust_h)\n",
    "    robust_pred = robust_h.predict(X_test)\n",
    "    print(\"Communities Test Accuracy (Robust, EO): {}\".format(accuracy_score(robust_pred, y_test)))\n",
    "    groups, group_metrics_eo, gaps_eo = evaluate_fairness(y_test, robust_pred, sensitive_features_test)\n",
    "    for group in groups:\n",
    "        print(\"P[h(X) = 1 | A = {}, Y = 1] = {}\".format(group, group_metrics_eo['eo_y1'][group]))\n",
    "        print(\"P[h(X) = 1 | A = {}, Y = 0] = {}\".format(group, group_metrics_eo['eo_y0'][group]))\n",
    "    print(\"Delta_eo1 = {}\".format(gaps_eo['eo_y1']))\n",
    "    print(\"Delta_eo0 = {}\".format(gaps_eo['eo_y0']))\n",
    "    \n",
    "    robust_eos.append(gaps_eo['avg_eo'])\n",
    "    robust_clfrs.append(robust_h)\n",
    "    robust_test_accs.append(accuracy_score(robust_pred, y_test))\n",
    "    robust_preds.append(robust_pred)"
   ]
  },
  {
   "cell_type": "code",
   "execution_count": 25,
   "metadata": {},
   "outputs": [],
   "source": [
    "robust_avg_testacc = np.mean(robust_test_accs)\n",
    "robust_avg_eo = np.mean(robust_eos)\n",
    "robust_test_err = std_error(robust_test_accs)"
   ]
  },
  {
   "cell_type": "markdown",
   "metadata": {
    "colab_type": "text",
    "id": "3WyqW_D6Q13G"
   },
   "source": [
    "## Linear Program Function\n",
    "Create a reusable function for each linear program.\n",
    "\n",
    "The argument constraint is the constraint we want to set on the w's. This should be between 0 and 1.\n",
    "\n",
    "The argument y_value should be Y = 0 or Y = 1, depending on which Y value we want to test EO on. "
   ]
  },
  {
   "cell_type": "code",
   "execution_count": 26,
   "metadata": {},
   "outputs": [],
   "source": [
    "def EO_linear_prog(y_pred, a_indices, proportions, lower_bound, upper_bound, a, a_p, y_value):\n",
    "    # Make sure constraint is within bounds\n",
    "    assert(0 < lower_bound < 1)\n",
    "    assert(0 < upper_bound < 1)\n",
    "    \n",
    "    if(y_value != 'y0' and y_value != 'y1'):\n",
    "        return(\"Enter y0 or y1 for the second argument (y_value for eo).\")\n",
    "    \n",
    "    # Setup variables and subgp names\n",
    "    n = len(y_pred)\n",
    "    w = cp.Variable(n)\n",
    "    a_y = a + '_' + y_value\n",
    "    a_p_y = a_p + '_' + y_value\n",
    "    excluded_subgroups = list({\"a0_y0\", \"a0_y1\", \"a1_y0\", \"a1_y1\"}.difference(set([a_y, a_p_y])))\n",
    "    \n",
    "    # Setup prediction vector\n",
    "    h_xi_a = y_pred.copy()\n",
    "    h_xi_a[a_indices[a_p_y]] = 0\n",
    "    for gp in excluded_subgroups:\n",
    "        h_xi_a[a_indices[gp]] = 0\n",
    "    h_xi_ap = y_pred.copy()\n",
    "    h_xi_ap[a_indices[a_y]] = 0\n",
    "    for gp in excluded_subgroups:\n",
    "        h_xi_ap[a_indices[gp]] = 0\n",
    "    \n",
    "    # Setup subgroup proportions\n",
    "    pi_a = proportions[a_y]\n",
    "    pi_a_p = proportions[a_p_y]\n",
    "    \n",
    "    # Set constraints\n",
    "    constraints = [\n",
    "        cp.sum(w[a_indices[a_y]]) == pi_a,\n",
    "        cp.sum(w[a_indices[a_p_y]]) == pi_a_p,\n",
    "        cp.sum(w) == 1,\n",
    "        0 <= w,\n",
    "        lower_bound <= w,\n",
    "        w <= upper_bound\n",
    "    ]\n",
    "    \n",
    "    for group in excluded_subgroups:\n",
    "        constraints.append(w[a_indices[group]] == 1/n)\n",
    "        \n",
    "    # Setup objective and problem\n",
    "    objective = cp.Maximize(((1/pi_a) * (w @ h_xi_a)) - ((1/pi_a_p) * (w @ h_xi_ap)))\n",
    "    problem = cp.Problem(objective, constraints)\n",
    "    \n",
    "    # Solve problem\n",
    "    problem.solve(solver = 'ECOS')\n",
    "    return problem.value, w.value"
   ]
  },
  {
   "cell_type": "markdown",
   "metadata": {
    "colab_type": "text",
    "id": "oRPqsRrIDiTp"
   },
   "source": [
    "## Experiment with Linear Program (Y = 0)\n",
    "Experiment with setting the constraints as: $$w_i \\leq \\frac{(1 + \\epsilon)}{n}$$ and $$\\frac{(1 - \\epsilon)}{n} \\leq w_i$$ where n is the number of samples in the data."
   ]
  },
  {
   "cell_type": "code",
   "execution_count": 27,
   "metadata": {
    "colab": {},
    "colab_type": "code",
    "id": "7AUPEl91DiUE"
   },
   "outputs": [],
   "source": [
    "epsilon_granule = 0.01\n",
    "\n",
    "unconstrained_objective_values_y0 = []\n",
    "preprocessing_objective_values_y0 = []\n",
    "inprocessing_objective_values_y0 = []\n",
    "postprocessing_objective_values_y0 = []\n",
    "robust_objective_values_y0 = []\n",
    "\n",
    "# Iterate over datasets\n",
    "for s in range(5):\n",
    "    unconstrained_y_pred = unconstrained_preds[s]\n",
    "    preprocessing_y_pred = preprocessing_preds[s]\n",
    "    inprocessing_y_pred = inprocessing_preds[s]\n",
    "    postprocessing_y_pred = postprocessing_preds[s]\n",
    "    robust_pred = robust_preds[s]\n",
    "    a_indices_test = a_indices_test_arr[s]\n",
    "    proportions_test = proportions_test_arr[s]\n",
    "    \n",
    "    unconstrained_curr = []\n",
    "    preprocessing_curr = []\n",
    "    inprocessing_curr = []\n",
    "    postprocessing_curr = []\n",
    "    robust_curr = []\n",
    "    # Iterate over constraints\n",
    "    for i in range(0, int(1/epsilon_granule)):\n",
    "        epsilon = epsilon_granule * i\n",
    "        lower_bound = (1 - epsilon)/(len(X_test))\n",
    "        upper_bound = (1 + epsilon)/(len(X_test))\n",
    "\n",
    "        unconstrained_objective_value_a0a1, w = EO_linear_prog(unconstrained_y_pred, a_indices_test, proportions_test, lower_bound, upper_bound, 'a0', 'a1', 'y0')\n",
    "        unconstrained_objective_value_a1a0, w = EO_linear_prog(unconstrained_y_pred, a_indices_test, proportions_test, lower_bound, upper_bound, 'a1', 'a0', 'y0')\n",
    "        unconstrained_objective_value = max(unconstrained_objective_value_a0a1, unconstrained_objective_value_a1a0)\n",
    "        unconstrained_curr.append(unconstrained_objective_value)\n",
    "        \n",
    "        preprocessing_objective_value_a0a1, w = EO_linear_prog(preprocessing_y_pred, a_indices_test, proportions_test, lower_bound, upper_bound, 'a0', 'a1', 'y0')\n",
    "        preprocessing_objective_value_a1a0, w = EO_linear_prog(preprocessing_y_pred, a_indices_test, proportions_test, lower_bound, upper_bound, 'a1', 'a0', 'y0')\n",
    "        preprocessing_objective_value = max(preprocessing_objective_value_a0a1, preprocessing_objective_value_a1a0)\n",
    "        preprocessing_curr.append(preprocessing_objective_value)\n",
    "\n",
    "        inprocessing_objective_value_a0a1, w = EO_linear_prog(inprocessing_y_pred, a_indices_test, proportions_test, lower_bound, upper_bound, 'a0', 'a1', 'y0')\n",
    "        inprocessing_objective_value_a1a0, w = EO_linear_prog(inprocessing_y_pred, a_indices_test, proportions_test, lower_bound, upper_bound, 'a1', 'a0', 'y0')\n",
    "        inprocessing_objective_value = max(inprocessing_objective_value_a0a1, inprocessing_objective_value_a1a0)\n",
    "        inprocessing_curr.append(inprocessing_objective_value)\n",
    "\n",
    "        postprocessing_objective_value_a0a1, w = EO_linear_prog(postprocessing_y_pred, a_indices_test, proportions_test, lower_bound, upper_bound, 'a0', 'a1', 'y0')\n",
    "        postprocessing_objective_value_a1a0, w = EO_linear_prog(postprocessing_y_pred, a_indices_test, proportions_test, lower_bound, upper_bound, 'a1', 'a0', 'y0')\n",
    "        postprocessing_objective_value = max(postprocessing_objective_value_a0a1, postprocessing_objective_value_a1a0)\n",
    "        postprocessing_curr.append(postprocessing_objective_value)\n",
    "\n",
    "        robust_objective_value_a0a1, w = EO_linear_prog(robust_pred, a_indices_test, proportions_test, lower_bound, upper_bound, 'a0', 'a1', 'y0')\n",
    "        robust_objective_value_a1a0, w = EO_linear_prog(robust_pred, a_indices_test, proportions_test, lower_bound, upper_bound, 'a1', 'a0', 'y0')\n",
    "        robust_objective_value = max(robust_objective_value_a0a1, robust_objective_value_a1a0)\n",
    "        robust_curr.append(robust_objective_value)\n",
    "    \n",
    "    unconstrained_objective_values_y0.append(np.asarray(unconstrained_curr))\n",
    "    preprocessing_objective_values_y0.append(np.asarray(preprocessing_curr))\n",
    "    inprocessing_objective_values_y0.append(np.asarray(inprocessing_curr))\n",
    "    postprocessing_objective_values_y0.append(np.asarray(postprocessing_curr))\n",
    "    robust_objective_values_y0.append(np.asarray(robust_curr))"
   ]
  },
  {
   "cell_type": "code",
   "execution_count": 28,
   "metadata": {},
   "outputs": [],
   "source": [
    "epsilons = []\n",
    "for i in range(0, int(1/epsilon_granule)):\n",
    "    epsilons.append(i * epsilon_granule)"
   ]
  },
  {
   "cell_type": "code",
   "execution_count": 29,
   "metadata": {},
   "outputs": [],
   "source": [
    "# Average over the results\n",
    "unconstrained_avg_objective_values_y0 = np.zeros(len(unconstrained_objective_values_y0[0]))\n",
    "preprocessing_avg_objective_values_y0 = np.zeros(len(preprocessing_objective_values_y0[0]))\n",
    "inprocessing_avg_objective_values_y0 = np.zeros(len(inprocessing_objective_values_y0[0]))\n",
    "postprocessing_avg_objective_values_y0 = np.zeros(len(postprocessing_objective_values_y0[0]))\n",
    "robust_avg_objective_values_y0 = np.zeros(len(robust_objective_values_y0[0]))\n",
    "\n",
    "for i in range(5):\n",
    "    unconstrained_avg_objective_values_y0 += unconstrained_objective_values_y0[i]\n",
    "    preprocessing_avg_objective_values_y0 += preprocessing_objective_values_y0[i]\n",
    "    inprocessing_avg_objective_values_y0 += inprocessing_objective_values_y0[i]\n",
    "    postprocessing_avg_objective_values_y0 += postprocessing_objective_values_y0[i]\n",
    "    robust_avg_objective_values_y0 += robust_objective_values_y0[i]\n",
    "    \n",
    "unconstrained_avg_objective_values_y0 = np.divide(unconstrained_avg_objective_values_y0, 5)\n",
    "preprocessing_avg_objective_values_y0 = np.divide(preprocessing_avg_objective_values_y0, 5)\n",
    "inprocessing_avg_objective_values_y0 = np.divide(inprocessing_avg_objective_values_y0, 5)\n",
    "postprocessing_avg_objective_values_y0 = np.divide(postprocessing_avg_objective_values_y0, 5)\n",
    "robust_avg_objective_values_y0 = np.divide(robust_avg_objective_values_y0, 5)"
   ]
  },
  {
   "cell_type": "code",
   "execution_count": 30,
   "metadata": {},
   "outputs": [],
   "source": [
    "unconstrained_std_err = []\n",
    "preprocessing_std_err = []\n",
    "inprocessing_std_err = []\n",
    "postprocessing_std_err = []\n",
    "robust_std_err = []\n",
    "\n",
    "for i in range(100):\n",
    "    unconstrained_vals = []\n",
    "    preprocessing_vals = []\n",
    "    inprocessing_vals = []\n",
    "    postprocessing_vals = []\n",
    "    robust_vals = []\n",
    "    \n",
    "    for s in range(5):\n",
    "        unconstrained_vals.append(unconstrained_objective_values_y0[s][i])\n",
    "        preprocessing_vals.append(preprocessing_objective_values_y0[s][i])\n",
    "        inprocessing_vals.append(inprocessing_objective_values_y0[s][i])\n",
    "        postprocessing_vals.append(postprocessing_objective_values_y0[s][i])\n",
    "        robust_vals.append(robust_objective_values_y0[s][i])\n",
    "        \n",
    "    unconstrained_std_err.append(std_error(unconstrained_vals))\n",
    "    preprocessing_std_err.append(std_error(preprocessing_vals))\n",
    "    inprocessing_std_err.append(std_error(inprocessing_vals))\n",
    "    postprocessing_std_err.append(std_error(postprocessing_vals))\n",
    "    robust_std_err.append(std_error(robust_vals))"
   ]
  },
  {
   "cell_type": "code",
   "execution_count": 31,
   "metadata": {
    "colab": {
     "base_uri": "https://localhost:8080/",
     "height": 584
    },
    "colab_type": "code",
    "id": "Xi_v9x66SZM8",
    "outputId": "82c6be1e-58c1-43c6-c9e0-6894bb31fbed"
   },
   "outputs": [
    {
     "data": {
      "text/plain": [
       "Text(0.5, 1.0, 'Adult Comparison (h0, EOy0, T=1000)')"
      ]
     },
     "execution_count": 31,
     "metadata": {},
     "output_type": "execute_result"
    },
    {
     "data": {
      "image/png": "[encoded data removed]",
      "text/plain": [
       "<Figure size 648x648 with 1 Axes>"
      ]
     },
     "metadata": {
      "needs_background": "light"
     },
     "output_type": "display_data"
    }
   ],
   "source": [
    "# Plot the constraints vs. objective values\n",
    "plt.figure(figsize=(9,9))\n",
    "plt.plot(epsilons, unconstrained_avg_objective_values_y0, 'magenta')\n",
    "plt.plot(epsilons, preprocessing_avg_objective_values_y0, 'green')\n",
    "plt.plot(epsilons, inprocessing_avg_objective_values_y0, 'orange')\n",
    "plt.plot(epsilons, postprocessing_avg_objective_values_y0, 'blue')\n",
    "plt.plot(epsilons, robust_avg_objective_values_y0, 'red')\n",
    "plt.fill_between(epsilons, unconstrained_avg_objective_values_y0 - unconstrained_std_err, unconstrained_avg_objective_values_y0 + unconstrained_std_err, color='magenta', alpha=0.2)\n",
    "plt.fill_between(epsilons, preprocessing_avg_objective_values_y0 - preprocessing_std_err, preprocessing_avg_objective_values_y0 + preprocessing_std_err, color='green', alpha=0.2)\n",
    "plt.fill_between(epsilons, inprocessing_avg_objective_values_y0 - inprocessing_std_err, inprocessing_avg_objective_values_y0 + inprocessing_std_err, color='orange', alpha=0.2)\n",
    "plt.fill_between(epsilons, postprocessing_avg_objective_values_y0 - postprocessing_std_err, postprocessing_avg_objective_values_y0 + postprocessing_std_err, color='blue', alpha=0.2)\n",
    "plt.fill_between(epsilons, robust_avg_objective_values_y0 - robust_std_err, robust_avg_objective_values_y0 + robust_std_err, color='red', alpha=0.2)\n",
    "plt.xlabel('Epsilon in Constraint')\n",
    "plt.ylabel('LP Objective Value')\n",
    "plt.title('Adult Comparison (h0, EOy0, T=1000)')"
   ]
  },
  {
   "cell_type": "markdown",
   "metadata": {
    "colab_type": "text",
    "id": "5jv0qtaPWulw"
   },
   "source": [
    "## Experiment with Linear Program (Y = 1)\n",
    "Experiment with setting the constraints as: $$w_i \\leq \\frac{(1 + \\epsilon)}{n}$$ and $$\\frac{(1 - \\epsilon)}{n} \\leq w_i$$ where n is the number of samples in the data."
   ]
  },
  {
   "cell_type": "code",
   "execution_count": 32,
   "metadata": {
    "colab": {},
    "colab_type": "code",
    "id": "BUdomshxXk_l"
   },
   "outputs": [],
   "source": [
    "epsilon_granule = 0.01\n",
    "\n",
    "unconstrained_objective_values_y1 = []\n",
    "preprocessing_objective_values_y1 = []\n",
    "inprocessing_objective_values_y1 = []\n",
    "postprocessing_objective_values_y1 = []\n",
    "robust_objective_values_y1 = []\n",
    "\n",
    "# Iterate over datasets\n",
    "for s in range(5):\n",
    "    unconstrained_y_pred = unconstrained_preds[s]\n",
    "    preprocessing_y_pred = preprocessing_preds[s]\n",
    "    inprocessing_y_pred = inprocessing_preds[s]\n",
    "    postprocessing_y_pred = postprocessing_preds[s]\n",
    "    robust_pred = robust_preds[s]\n",
    "    a_indices_test = a_indices_test_arr[s]\n",
    "    proportions_test = proportions_test_arr[s]\n",
    "    \n",
    "    unconstrained_curr = []\n",
    "    preprocessing_curr = []\n",
    "    inprocessing_curr = []\n",
    "    postprocessing_curr = []\n",
    "    robust_curr = []\n",
    "    # Iterate over constraints\n",
    "    for i in range(0, int(1/epsilon_granule)):\n",
    "        epsilon = epsilon_granule * i\n",
    "        lower_bound = (1 - epsilon)/(len(X_test))\n",
    "        upper_bound = (1 + epsilon)/(len(X_test))\n",
    "\n",
    "        unconstrained_objective_value_a0a1, w = EO_linear_prog(unconstrained_y_pred, a_indices_test, proportions_test, lower_bound, upper_bound, 'a0', 'a1', 'y1')\n",
    "        unconstrained_objective_value_a1a0, w = EO_linear_prog(unconstrained_y_pred, a_indices_test, proportions_test, lower_bound, upper_bound, 'a1', 'a0', 'y1')\n",
    "        unconstrained_objective_value = max(unconstrained_objective_value_a0a1, unconstrained_objective_value_a1a0)\n",
    "        unconstrained_curr.append(unconstrained_objective_value)\n",
    "        \n",
    "        preprocessing_objective_value_a0a1, w = EO_linear_prog(preprocessing_y_pred, a_indices_test, proportions_test, lower_bound, upper_bound, 'a0', 'a1', 'y1')\n",
    "        preprocessing_objective_value_a1a0, w = EO_linear_prog(preprocessing_y_pred, a_indices_test, proportions_test, lower_bound, upper_bound, 'a1', 'a0', 'y1')\n",
    "        preprocessing_objective_value = max(preprocessing_objective_value_a0a1, preprocessing_objective_value_a1a0)\n",
    "        preprocessing_curr.append(preprocessing_objective_value)\n",
    "\n",
    "        inprocessing_objective_value_a0a1, w = EO_linear_prog(inprocessing_y_pred, a_indices_test, proportions_test, lower_bound, upper_bound, 'a0', 'a1', 'y1')\n",
    "        inprocessing_objective_value_a1a0, w = EO_linear_prog(inprocessing_y_pred, a_indices_test, proportions_test, lower_bound, upper_bound, 'a1', 'a0', 'y1')\n",
    "        inprocessing_objective_value = max(inprocessing_objective_value_a0a1, inprocessing_objective_value_a1a0)\n",
    "        inprocessing_curr.append(inprocessing_objective_value)\n",
    "\n",
    "        postprocessing_objective_value_a0a1, w = EO_linear_prog(postprocessing_y_pred, a_indices_test, proportions_test, lower_bound, upper_bound, 'a0', 'a1', 'y1')\n",
    "        postprocessing_objective_value_a1a0, w = EO_linear_prog(postprocessing_y_pred, a_indices_test, proportions_test, lower_bound, upper_bound, 'a1', 'a0', 'y1')\n",
    "        postprocessing_objective_value = max(postprocessing_objective_value_a0a1, postprocessing_objective_value_a1a0)\n",
    "        postprocessing_curr.append(postprocessing_objective_value)\n",
    "\n",
    "        robust_objective_value_a0a1, w = EO_linear_prog(robust_pred, a_indices_test, proportions_test, lower_bound, upper_bound, 'a0', 'a1', 'y1')\n",
    "        robust_objective_value_a1a0, w = EO_linear_prog(robust_pred, a_indices_test, proportions_test, lower_bound, upper_bound, 'a1', 'a0', 'y1')\n",
    "        robust_objective_value = max(robust_objective_value_a0a1, robust_objective_value_a1a0)\n",
    "        robust_curr.append(robust_objective_value)\n",
    "    \n",
    "    unconstrained_objective_values_y1.append(np.asarray(unconstrained_curr))\n",
    "    preprocessing_objective_values_y1.append(np.asarray(preprocessing_curr))\n",
    "    inprocessing_objective_values_y1.append(np.asarray(inprocessing_curr))\n",
    "    postprocessing_objective_values_y1.append(np.asarray(postprocessing_curr))\n",
    "    robust_objective_values_y1.append(np.asarray(robust_curr))"
   ]
  },
  {
   "cell_type": "code",
   "execution_count": 33,
   "metadata": {
    "colab": {
     "base_uri": "https://localhost:8080/",
     "height": 584
    },
    "colab_type": "code",
    "id": "86k_oLdvSv--",
    "outputId": "de9bfa17-8411-4e0d-c507-2c3af794f12c",
    "scrolled": false
   },
   "outputs": [],
   "source": [
    "epsilons = []\n",
    "for i in range(0, int(1/epsilon_granule)):\n",
    "    epsilons.append(i * epsilon_granule)"
   ]
  },
  {
   "cell_type": "code",
   "execution_count": 34,
   "metadata": {},
   "outputs": [],
   "source": [
    "# Average over the results\n",
    "unconstrained_avg_objective_values_y1 = np.zeros(len(unconstrained_objective_values_y1[0]))\n",
    "preprocessing_avg_objective_values_y1 = np.zeros(len(preprocessing_objective_values_y1[0]))\n",
    "inprocessing_avg_objective_values_y1 = np.zeros(len(inprocessing_objective_values_y1[0]))\n",
    "postprocessing_avg_objective_values_y1 = np.zeros(len(postprocessing_objective_values_y1[0]))\n",
    "robust_avg_objective_values_y1 = np.zeros(len(robust_objective_values_y1[0]))\n",
    "\n",
    "for i in range(5):\n",
    "    unconstrained_avg_objective_values_y1 += unconstrained_objective_values_y1[i]\n",
    "    preprocessing_avg_objective_values_y1 += preprocessing_objective_values_y1[i]\n",
    "    inprocessing_avg_objective_values_y1 += inprocessing_objective_values_y1[i]\n",
    "    postprocessing_avg_objective_values_y1 += postprocessing_objective_values_y1[i]\n",
    "    robust_avg_objective_values_y1 += robust_objective_values_y1[i]\n",
    "    \n",
    "    \n",
    "unconstrained_avg_objective_values_y1 = np.divide(unconstrained_avg_objective_values_y1, 5)\n",
    "preprocessing_avg_objective_values_y1 = np.divide(preprocessing_avg_objective_values_y1, 5) \n",
    "inprocessing_avg_objective_values_y1 = np.divide(inprocessing_avg_objective_values_y1, 5)\n",
    "postprocessing_avg_objective_values_y1 = np.divide(postprocessing_avg_objective_values_y1, 5)\n",
    "robust_avg_objective_values_y1 = np.divide(robust_avg_objective_values_y1, 5)"
   ]
  },
  {
   "cell_type": "code",
   "execution_count": 35,
   "metadata": {},
   "outputs": [],
   "source": [
    "unconstrained_std_err = []\n",
    "preprocessing_std_err = []\n",
    "inprocessing_std_err = []\n",
    "postprocessing_std_err = []\n",
    "robust_std_err = []\n",
    "\n",
    "for i in range(100):\n",
    "    unconstrained_vals = []\n",
    "    preprocessing_vals = []\n",
    "    inprocessing_vals = []\n",
    "    postprocessing_vals = []\n",
    "    robust_vals = []\n",
    "    \n",
    "    for s in range(5):\n",
    "        unconstrained_vals.append(unconstrained_objective_values_y1[s][i])\n",
    "        preprocessing_vals.append(preprocessing_objective_values_y1[s][i])\n",
    "        inprocessing_vals.append(inprocessing_objective_values_y1[s][i])\n",
    "        postprocessing_vals.append(postprocessing_objective_values_y1[s][i])\n",
    "        robust_vals.append(robust_objective_values_y1[s][i])\n",
    "        \n",
    "    unconstrained_std_err.append(std_error(unconstrained_vals))\n",
    "    preprocessing_std_err.append(std_error(preprocessing_vals))\n",
    "    inprocessing_std_err.append(std_error(inprocessing_vals))\n",
    "    postprocessing_std_err.append(std_error(postprocessing_vals))\n",
    "    robust_std_err.append(std_error(robust_vals))"
   ]
  },
  {
   "cell_type": "code",
   "execution_count": 36,
   "metadata": {},
   "outputs": [
    {
     "data": {
      "text/plain": [
       "Text(0.5, 1.0, 'Adult Comparison (h0, EOy0, T=1000)')"
      ]
     },
     "execution_count": 36,
     "metadata": {},
     "output_type": "execute_result"
    },
    {
     "data": {
      "image/png": "[encoded data removed]",
      "text/plain": [
       "<Figure size 648x648 with 1 Axes>"
      ]
     },
     "metadata": {
      "needs_background": "light"
     },
     "output_type": "display_data"
    }
   ],
   "source": [
    "# Plot the constraints vs. objective values\n",
    "plt.figure(figsize=(9,9))\n",
    "plt.plot(epsilons, unconstrained_avg_objective_values_y1, 'magenta')\n",
    "plt.plot(epsilons, preprocessing_avg_objective_values_y1, 'green')\n",
    "plt.plot(epsilons, inprocessing_avg_objective_values_y1, 'orange')\n",
    "plt.plot(epsilons, postprocessing_avg_objective_values_y1, 'blue')\n",
    "plt.plot(epsilons, robust_avg_objective_values_y1, 'red')\n",
    "plt.fill_between(epsilons, unconstrained_avg_objective_values_y1 - unconstrained_std_err, unconstrained_avg_objective_values_y1 + unconstrained_std_err, color='magenta', alpha=0.2)\n",
    "plt.fill_between(epsilons, preprocessing_avg_objective_values_y1 - preprocessing_std_err, preprocessing_avg_objective_values_y1 + preprocessing_std_err, color='green', alpha=0.2)\n",
    "plt.fill_between(epsilons, inprocessing_avg_objective_values_y1 - inprocessing_std_err, inprocessing_avg_objective_values_y1 + inprocessing_std_err, color='orange', alpha=0.2)\n",
    "plt.fill_between(epsilons, postprocessing_avg_objective_values_y1 - postprocessing_std_err, postprocessing_avg_objective_values_y1 + postprocessing_std_err, color='blue', alpha=0.2)\n",
    "plt.fill_between(epsilons, robust_avg_objective_values_y1 - robust_std_err, robust_avg_objective_values_y1 + robust_std_err, color='red', alpha=0.2)\n",
    "plt.xlabel('Epsilon in Constraint')\n",
    "plt.ylabel('LP Objective Value')\n",
    "plt.title('Adult Comparison (h0, EOy0, T=1000)')"
   ]
  },
  {
   "cell_type": "markdown",
   "metadata": {},
   "source": [
    "## Experiment with LP (Avg Y=0 and Y=1)"
   ]
  },
  {
   "cell_type": "code",
   "execution_count": 37,
   "metadata": {},
   "outputs": [],
   "source": [
    "unconstrained_objective_values_avgy0y1 = []\n",
    "preprocessing_objective_values_avgy0y1 = []\n",
    "inprocessing_objective_values_avgy0y1 = []\n",
    "postprocessing_objective_values_avgy0y1 = []\n",
    "robust_objective_values_avgy0y1 = []\n",
    "\n",
    "for i in range(5):\n",
    "    unconstrained_curr = []\n",
    "    preprocessing_curr = []\n",
    "    inprocessing_curr = []\n",
    "    postprocessing_curr = []\n",
    "    robust_curr = []\n",
    "    \n",
    "    unconstrained_avg = (unconstrained_objective_values_y0[i] + unconstrained_objective_values_y1[i])/2\n",
    "    preprocessing_avg = (preprocessing_objective_values_y0[i] + preprocessing_objective_values_y1[i])/2\n",
    "    inprocessing_avg = (inprocessing_objective_values_y0[i] + inprocessing_objective_values_y1[i])/2\n",
    "    postprocessing_avg = (postprocessing_objective_values_y0[i] + postprocessing_objective_values_y1[i])/2\n",
    "    robust_avg = (robust_objective_values_y0[i] + robust_objective_values_y1[i])/2\n",
    "    \n",
    "    unconstrained_objective_values_avgy0y1.append(unconstrained_avg)\n",
    "    preprocessing_objective_values_avgy0y1.append(preprocessing_avg)\n",
    "    inprocessing_objective_values_avgy0y1.append(inprocessing_avg)\n",
    "    postprocessing_objective_values_avgy0y1.append(postprocessing_avg)\n",
    "    robust_objective_values_avgy0y1.append(robust_avg)"
   ]
  },
  {
   "cell_type": "code",
   "execution_count": 38,
   "metadata": {},
   "outputs": [],
   "source": [
    "# Average over the results\n",
    "unconstrained_avg_objective_values_avgy0y1 = np.zeros(len(unconstrained_objective_values_avgy0y1[0]))\n",
    "preprocessing_avg_objective_values_avgy0y1 = np.zeros(len(preprocessing_objective_values_avgy0y1[0]))\n",
    "inprocessing_avg_objective_values_avgy0y1 = np.zeros(len(inprocessing_objective_values_avgy0y1[0]))\n",
    "postprocessing_avg_objective_values_avgy0y1 = np.zeros(len(postprocessing_objective_values_avgy0y1[0]))\n",
    "robust_avg_objective_values_avgy0y1 = np.zeros(len(robust_objective_values_avgy0y1[0]))\n",
    "\n",
    "for i in range(5):\n",
    "    unconstrained_avg_objective_values_avgy0y1 += unconstrained_objective_values_avgy0y1[i]\n",
    "    preprocessing_avg_objective_values_avgy0y1 += preprocessing_objective_values_avgy0y1[i]\n",
    "    inprocessing_avg_objective_values_avgy0y1 += inprocessing_objective_values_avgy0y1[i]\n",
    "    postprocessing_avg_objective_values_avgy0y1 += postprocessing_objective_values_avgy0y1[i]\n",
    "    robust_avg_objective_values_avgy0y1 += robust_objective_values_avgy0y1[i]\n",
    "    \n",
    "unconstrained_avg_objective_values_avgy0y1 = np.divide(unconstrained_avg_objective_values_avgy0y1, 5)\n",
    "preprocessing_avg_objective_values_avgy0y1 = np.divide(preprocessing_avg_objective_values_avgy0y1, 5)\n",
    "inprocessing_avg_objective_values_avgy0y1 = np.divide(inprocessing_avg_objective_values_avgy0y1, 5)\n",
    "postprocessing_avg_objective_values_avgy0y1 = np.divide(postprocessing_avg_objective_values_avgy0y1, 5)\n",
    "robust_avg_objective_values_avgy0y1 = np.divide(robust_avg_objective_values_avgy0y1, 5)"
   ]
  },
  {
   "cell_type": "code",
   "execution_count": 39,
   "metadata": {},
   "outputs": [],
   "source": [
    "unconstrained_std_err = []\n",
    "preprocessing_std_err = []\n",
    "inprocessing_std_err = []\n",
    "postprocessing_std_err = []\n",
    "robust_std_err = []\n",
    "\n",
    "for i in range(100):\n",
    "    uncosntrained_vals = []\n",
    "    preprocessing_vals = []\n",
    "    inprocessing_vals = []\n",
    "    postprocessing_vals = []\n",
    "    robust_vals = []\n",
    "    \n",
    "    for s in range(5):\n",
    "        uncosntrained_vals.append(unconstrained_objective_values_avgy0y1[s][i])\n",
    "        preprocessing_vals.append(preprocessing_objective_values_avgy0y1[s][i])\n",
    "        inprocessing_vals.append(inprocessing_objective_values_avgy0y1[s][i])\n",
    "        postprocessing_vals.append(postprocessing_objective_values_avgy0y1[s][i])\n",
    "        robust_vals.append(robust_objective_values_avgy0y1[s][i])\n",
    "        \n",
    "    unconstrained_std_err.append(std_error(uncosntrained_vals))\n",
    "    preprocessing_std_err.append(std_error(preprocessing_vals))\n",
    "    inprocessing_std_err.append(std_error(inprocessing_vals))\n",
    "    postprocessing_std_err.append(std_error(postprocessing_vals))\n",
    "    robust_std_err.append(std_error(robust_vals))"
   ]
  },
  {
   "cell_type": "code",
   "execution_count": 40,
   "metadata": {},
   "outputs": [
    {
     "data": {
      "text/plain": [
       "Text(0.5, 1.0, 'Adult Comparison (h0, EO Average, T=1000)')"
      ]
     },
     "execution_count": 40,
     "metadata": {},
     "output_type": "execute_result"
    },
    {
     "data": {
      "image/png": "[encoded data removed]",
      "text/plain": [
       "<Figure size 648x648 with 1 Axes>"
      ]
     },
     "metadata": {
      "needs_background": "light"
     },
     "output_type": "display_data"
    }
   ],
   "source": [
    "# Plot the constraints vs. objective values\n",
    "plt.figure(figsize=(9,9))\n",
    "plt.plot(epsilons, unconstrained_avg_objective_values_avgy0y1, 'magenta')\n",
    "plt.plot(epsilons, preprocessing_avg_objective_values_avgy0y1, 'green')\n",
    "plt.plot(epsilons, inprocessing_avg_objective_values_avgy0y1, 'orange')\n",
    "plt.plot(epsilons, postprocessing_avg_objective_values_avgy0y1, 'blue')\n",
    "plt.plot(epsilons, robust_avg_objective_values_avgy0y1, 'red')\n",
    "plt.fill_between(epsilons, unconstrained_avg_objective_values_avgy0y1 - unconstrained_std_err, unconstrained_avg_objective_values_avgy0y1 + unconstrained_std_err, color='magenta', alpha=0.2)\n",
    "plt.fill_between(epsilons, preprocessing_avg_objective_values_avgy0y1 - preprocessing_std_err, preprocessing_avg_objective_values_avgy0y1 + preprocessing_std_err, color='green', alpha=0.2)\n",
    "plt.fill_between(epsilons, inprocessing_avg_objective_values_avgy0y1 - inprocessing_std_err, inprocessing_avg_objective_values_avgy0y1 + inprocessing_std_err, color='orange', alpha=0.2)\n",
    "plt.fill_between(epsilons, postprocessing_avg_objective_values_avgy0y1 - postprocessing_std_err, postprocessing_avg_objective_values_avgy0y1 + postprocessing_std_err, color='blue', alpha=0.2)\n",
    "plt.fill_between(epsilons, robust_avg_objective_values_avgy0y1 - robust_std_err, robust_avg_objective_values_avgy0y1 + robust_std_err, color='red', alpha=0.2)\n",
    "plt.xlabel('Epsilon in Constraint')\n",
    "plt.ylabel('LP Objective Value')\n",
    "plt.title('Adult Comparison (h0, EO Average, T=1000)')"
   ]
  },
  {
   "cell_type": "code",
   "execution_count": 41,
   "metadata": {},
   "outputs": [],
   "source": [
    "EO_data = {}\n",
    "EO_data['epsilons'] = epsilons\n",
    "EO_data['unconstrained'] = unconstrained_avg_objective_values_avgy0y1\n",
    "EO_data['preprocessing'] = preprocessing_avg_objective_values_avgy0y1\n",
    "EO_data['inprocessing'] = inprocessing_avg_objective_values_avgy0y1\n",
    "EO_data['postprocessing'] = postprocessing_avg_objective_values_avgy0y1\n",
    "EO_data['robust'] = robust_avg_objective_values_avgy0y1\n",
    "EO_data['unconstrained_err'] = unconstrained_std_err\n",
    "EO_data['preprocessing_err'] = preprocessing_std_err\n",
    "EO_data['inprocessing_err'] = inprocessing_std_err\n",
    "EO_data['postprocessing_err'] = postprocessing_std_err\n",
    "EO_data['robust_err'] = robust_std_err\n",
    "\n",
    "EO_data['unconstrained_testacc'] = unconstrained_avg_testacc\n",
    "EO_data['preprocessing_testacc'] = preprocessing_avg_testacc\n",
    "EO_data['inprocessing_testacc'] = inprocessing_avg_testacc\n",
    "EO_data['postprocessing_testacc'] = postprocessing_avg_testacc\n",
    "EO_data['robust_testacc'] = robust_avg_testacc\n",
    "EO_data['unconstrained_avg_eo'] = unconstrained_avg_eo\n",
    "EO_data['unconstrained_eos'] = unconstrained_eos\n",
    "EO_data['preprocessing_avg_eo'] = preprocessing_avg_eo\n",
    "EO_data['preprocessing_eos'] = preprocessing_eos\n",
    "EO_data['inprocessing_avg_eo'] = inprocessing_avg_eo\n",
    "EO_data['inprocessing_eos'] = inprocessing_eos\n",
    "EO_data['postprocessing_avg_eo'] = postprocessing_avg_eo\n",
    "EO_data['postprocessing_eos'] = postprocessing_eos\n",
    "EO_data['robust_avg_eo'] = robust_avg_eo\n",
    "EO_data['robust_eos'] = robust_eos\n",
    "\n",
    "EO_data['unconstrained_test_err'] = unconstrained_test_err\n",
    "EO_data['preprocessing_test_err'] = preprocessing_test_err\n",
    "EO_data['inprocessing_test_err'] = inprocessing_test_err\n",
    "EO_data['postprocessing_test_err'] = postprocessing_test_err\n",
    "EO_data['robust_test_err'] = robust_test_err\n",
    "\n",
    "with open('communitiesEO_data.pkl', 'wb') as file:\n",
    "    pickle.dump(EO_data, file)"
   ]
  }
 ],
 "metadata": {
  "colab": {
   "collapsed_sections": [],
   "name": "EO_linear_prog_constraints.ipynb",
   "provenance": [],
   "toc_visible": true
  },
  "kernelspec": {
   "display_name": "Python 3",
   "language": "python",
   "name": "python3"
  },
  "language_info": {
   "codemirror_mode": {
    "name": "ipython",
    "version": 3
   },
   "file_extension": ".py",
   "mimetype": "text/x-python",
   "name": "python",
   "nbconvert_exporter": "python",
   "pygments_lexer": "ipython3",
   "version": "3.7.6"
  }
 },
 "nbformat": 4,
 "nbformat_minor": 2
}
