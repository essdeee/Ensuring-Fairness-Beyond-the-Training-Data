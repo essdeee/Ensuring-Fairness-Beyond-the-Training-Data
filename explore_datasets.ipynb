{
 "cells": [
  {
   "cell_type": "code",
   "execution_count": 1,
   "metadata": {},
   "outputs": [],
   "source": [
    "import pandas as pd\n",
    "import numpy as np\n",
    "from sklearn.linear_model import LogisticRegression\n",
    "from sklearn.ensemble import RandomForestClassifier\n",
    "from sklearn.metrics import accuracy_score\n",
    "from sklearn.model_selection import train_test_split"
   ]
  },
  {
   "cell_type": "code",
   "execution_count": 2,
   "metadata": {},
   "outputs": [],
   "source": [
    "def evaluate_fairness(y_true, y_pred, sensitive_features):\n",
    "        \"\"\"\n",
    "        Evaluates fairness of the final majority vote classifier over T_inner hypotheses\n",
    "        on the test set.\n",
    "        #NOTE: defined in the meta_algo file, but we chose:\n",
    "        a0 := African-American (COMPAS), Female (Adult)\n",
    "        a1 := Caucasian (COMPAS), Male (Adult)\n",
    "\n",
    "        :return: list. subgroups in sensitive_features.\n",
    "        :return: dict. recidivism_pct for each group.\n",
    "        \"\"\"\n",
    "        groups = np.unique(sensitive_features.values)\n",
    "        pos_count = {}\n",
    "        dp_pct = {}\n",
    "        eo_y0_pct = {}\n",
    "        eo_y1_pct = {}\n",
    "        \n",
    "        for index, group in enumerate(groups):\n",
    "            # Demographic Parity\n",
    "            indices = {}\n",
    "            indices[group] = sensitive_features.index[sensitive_features == group]\n",
    "            dp_pct[group] = sum(y_pred[indices[group]])/len(indices[group])\n",
    "\n",
    "            # Equalized Odds\n",
    "            y1_indices = {}\n",
    "            y0_indices = {}\n",
    "            y1_indices[group] = sensitive_features.index[(sensitive_features == group) & (y_true == 1)]\n",
    "            y0_indices[group] = sensitive_features.index[(sensitive_features == group) & (y_true == 0)]\n",
    "            eo_y0_pct[group] = sum(y_pred[y0_indices[group]])/len(y0_indices[group])   \n",
    "            eo_y1_pct[group] = sum(y_pred[y1_indices[group]])/len(y1_indices[group])\n",
    "        \n",
    "        gaps = {}\n",
    "        group_metrics = {} # a dictionary of dictionaries\n",
    "\n",
    "        gaps['dp'] = abs(dp_pct[groups[0]] - dp_pct[groups[1]])\n",
    "        gaps['eo_y0'] = abs(eo_y0_pct[groups[0]] - eo_y0_pct[groups[1]])\n",
    "        gaps['eo_y1'] = abs(eo_y1_pct[groups[0]] - eo_y1_pct[groups[1]])\n",
    "        group_metrics['dp'] = dp_pct\n",
    "        group_metrics['eo_y0'] = eo_y0_pct\n",
    "        group_metrics['eo_y1'] = eo_y1_pct\n",
    "        \n",
    "        return groups, group_metrics, gaps"
   ]
  },
  {
   "cell_type": "markdown",
   "metadata": {},
   "source": [
    "## Compas Dataset"
   ]
  },
  {
   "cell_type": "code",
   "execution_count": 5,
   "metadata": {},
   "outputs": [],
   "source": [
    "compas_train = pd.read_csv('./data/processed/compas/compas_train1_X.csv')\n",
    "compas_test = pd.read_csv('./data/processed/compas/compas_test1_X.csv')"
   ]
  },
  {
   "cell_type": "code",
   "execution_count": 4,
   "metadata": {},
   "outputs": [
    {
     "data": {
      "text/html": [
       "<div>\n",
       "<style scoped>\n",
       "    .dataframe tbody tr th:only-of-type {\n",
       "        vertical-align: middle;\n",
       "    }\n",
       "\n",
       "    .dataframe tbody tr th {\n",
       "        vertical-align: top;\n",
       "    }\n",
       "\n",
       "    .dataframe thead th {\n",
       "        text-align: right;\n",
       "    }\n",
       "</style>\n",
       "<table border=\"1\" class=\"dataframe\">\n",
       "  <thead>\n",
       "    <tr style=\"text-align: right;\">\n",
       "      <th></th>\n",
       "      <th>sex</th>\n",
       "      <th>race</th>\n",
       "      <th>age_cat=25 to 45</th>\n",
       "      <th>age_cat=Greater than 45</th>\n",
       "      <th>age_cat=Less than 25</th>\n",
       "      <th>priors_count=0</th>\n",
       "      <th>priors_count=1 to 3</th>\n",
       "      <th>priors_count=More than 3</th>\n",
       "      <th>c_charge_degree=F</th>\n",
       "      <th>c_charge_degree=M</th>\n",
       "      <th>two_year_recid</th>\n",
       "    </tr>\n",
       "  </thead>\n",
       "  <tbody>\n",
       "    <tr>\n",
       "      <th>0</th>\n",
       "      <td>0.0</td>\n",
       "      <td>0.0</td>\n",
       "      <td>1.0</td>\n",
       "      <td>0.0</td>\n",
       "      <td>0.0</td>\n",
       "      <td>0.0</td>\n",
       "      <td>1.0</td>\n",
       "      <td>0.0</td>\n",
       "      <td>1.0</td>\n",
       "      <td>0.0</td>\n",
       "      <td>1.0</td>\n",
       "    </tr>\n",
       "    <tr>\n",
       "      <th>1</th>\n",
       "      <td>0.0</td>\n",
       "      <td>0.0</td>\n",
       "      <td>0.0</td>\n",
       "      <td>0.0</td>\n",
       "      <td>1.0</td>\n",
       "      <td>1.0</td>\n",
       "      <td>0.0</td>\n",
       "      <td>0.0</td>\n",
       "      <td>1.0</td>\n",
       "      <td>0.0</td>\n",
       "      <td>0.0</td>\n",
       "    </tr>\n",
       "    <tr>\n",
       "      <th>2</th>\n",
       "      <td>0.0</td>\n",
       "      <td>0.0</td>\n",
       "      <td>1.0</td>\n",
       "      <td>0.0</td>\n",
       "      <td>0.0</td>\n",
       "      <td>1.0</td>\n",
       "      <td>0.0</td>\n",
       "      <td>0.0</td>\n",
       "      <td>1.0</td>\n",
       "      <td>0.0</td>\n",
       "      <td>0.0</td>\n",
       "    </tr>\n",
       "    <tr>\n",
       "      <th>3</th>\n",
       "      <td>0.0</td>\n",
       "      <td>1.0</td>\n",
       "      <td>1.0</td>\n",
       "      <td>0.0</td>\n",
       "      <td>0.0</td>\n",
       "      <td>0.0</td>\n",
       "      <td>0.0</td>\n",
       "      <td>1.0</td>\n",
       "      <td>1.0</td>\n",
       "      <td>0.0</td>\n",
       "      <td>1.0</td>\n",
       "    </tr>\n",
       "    <tr>\n",
       "      <th>4</th>\n",
       "      <td>0.0</td>\n",
       "      <td>0.0</td>\n",
       "      <td>0.0</td>\n",
       "      <td>0.0</td>\n",
       "      <td>1.0</td>\n",
       "      <td>1.0</td>\n",
       "      <td>0.0</td>\n",
       "      <td>0.0</td>\n",
       "      <td>1.0</td>\n",
       "      <td>0.0</td>\n",
       "      <td>0.0</td>\n",
       "    </tr>\n",
       "  </tbody>\n",
       "</table>\n",
       "</div>"
      ],
      "text/plain": [
       "   sex  race  age_cat=25 to 45  age_cat=Greater than 45  age_cat=Less than 25  \\\n",
       "0  0.0   0.0               1.0                      0.0                   0.0   \n",
       "1  0.0   0.0               0.0                      0.0                   1.0   \n",
       "2  0.0   0.0               1.0                      0.0                   0.0   \n",
       "3  0.0   1.0               1.0                      0.0                   0.0   \n",
       "4  0.0   0.0               0.0                      0.0                   1.0   \n",
       "\n",
       "   priors_count=0  priors_count=1 to 3  priors_count=More than 3  \\\n",
       "0             0.0                  1.0                       0.0   \n",
       "1             1.0                  0.0                       0.0   \n",
       "2             1.0                  0.0                       0.0   \n",
       "3             0.0                  0.0                       1.0   \n",
       "4             1.0                  0.0                       0.0   \n",
       "\n",
       "   c_charge_degree=F  c_charge_degree=M  two_year_recid  \n",
       "0                1.0                0.0             1.0  \n",
       "1                1.0                0.0             0.0  \n",
       "2                1.0                0.0             0.0  \n",
       "3                1.0                0.0             1.0  \n",
       "4                1.0                0.0             0.0  "
      ]
     },
     "execution_count": 4,
     "metadata": {},
     "output_type": "execute_result"
    }
   ],
   "source": [
    "compas_train.head(5)"
   ]
  },
  {
   "cell_type": "code",
   "execution_count": 5,
   "metadata": {},
   "outputs": [],
   "source": [
    "y_train = compas_train.pop('two_year_recid') \n",
    "y_test = compas_test.pop('two_year_recid')\n",
    "sensitive_features_train = compas_train['race']\n",
    "sensitive_features_test = compas_test['race']\n",
    "X_train = compas_train\n",
    "X_test = compas_test"
   ]
  },
  {
   "cell_type": "code",
   "execution_count": 6,
   "metadata": {},
   "outputs": [
    {
     "data": {
      "text/plain": [
       "0    0.0\n",
       "1    0.0\n",
       "2    1.0\n",
       "3    0.0\n",
       "4    0.0\n",
       "Name: race, dtype: float64"
      ]
     },
     "execution_count": 6,
     "metadata": {},
     "output_type": "execute_result"
    }
   ],
   "source": [
    "sensitive_features_test.head(5)"
   ]
  },
  {
   "cell_type": "code",
   "execution_count": 7,
   "metadata": {},
   "outputs": [
    {
     "name": "stdout",
     "output_type": "stream",
     "text": [
      "Logistic Regression Accuracy: 0.6590909090909091\n",
      "P[h(X) = 1 | 0.0] = 0.5123456790123457\n",
      "P[h(X) = 1 | 1.0] = 0.19607843137254902\n",
      "Delta_dp = 0.31626724763979674\n",
      "P[h(X) = 1 | A = 0.0, Y = 1] = 0.6612021857923497\n",
      "P[h(X) = 1 | A = 0.0, Y = 0] = 0.3191489361702128\n",
      "P[h(X) = 1 | A = 1.0, Y = 1] = 0.2962962962962963\n",
      "P[h(X) = 1 | A = 1.0, Y = 0] = 0.13008130081300814\n",
      "Delta_eo1 = 0.3649058894960534\n",
      "Delta_eo0 = 0.18906763535720464\n"
     ]
    }
   ],
   "source": [
    "logreg = LogisticRegression()\n",
    "logreg.fit(X_train, y_train)\n",
    "y_pred = logreg.predict(X_test)\n",
    "\n",
    "groups, group_metrics, gaps = evaluate_fairness(y_test, y_pred, sensitive_features_test)\n",
    "\n",
    "print(\"Logistic Regression Accuracy: \" + str(accuracy_score(y_pred, y_test)))\n",
    "\n",
    "# Demographic Parity\n",
    "for group in groups:\n",
    "      print(\"P[h(X) = 1 | {}] = {}\".format(group, group_metrics['dp'][group]))\n",
    "print(\"Delta_dp = {}\".format(gaps['dp']))\n",
    "\n",
    "# Equalized Odds\n",
    "for group in groups:\n",
    "    print(\"P[h(X) = 1 | A = {}, Y = 1] = {}\".format(group, group_metrics['eo_y1'][group]))\n",
    "    print(\"P[h(X) = 1 | A = {}, Y = 0] = {}\".format(group, group_metrics['eo_y0'][group]))\n",
    "print(\"Delta_eo1 = {}\".format(gaps['eo_y1']))\n",
    "print(\"Delta_eo0 = {}\".format(gaps['eo_y0']))"
   ]
  },
  {
   "cell_type": "code",
   "execution_count": 8,
   "metadata": {},
   "outputs": [
    {
     "name": "stdout",
     "output_type": "stream",
     "text": [
      "Random Forest Accuracy: 0.6458333333333334\n",
      "P[h(X) = 1 | 0.0] = 0.5030864197530864\n",
      "P[h(X) = 1 | 1.0] = 0.22549019607843138\n",
      "Delta_dp = 0.2775962236746551\n",
      "P[h(X) = 1 | A = 0.0, Y = 1] = 0.6284153005464481\n",
      "P[h(X) = 1 | A = 0.0, Y = 0] = 0.3404255319148936\n",
      "P[h(X) = 1 | A = 1.0, Y = 1] = 0.345679012345679\n",
      "P[h(X) = 1 | A = 1.0, Y = 0] = 0.14634146341463414\n",
      "Delta_eo1 = 0.2827362882007691\n",
      "Delta_eo0 = 0.19408406850025947\n"
     ]
    }
   ],
   "source": [
    "rf = RandomForestClassifier()\n",
    "rf.fit(X_train, y_train)\n",
    "y_pred = rf.predict(X_test)\n",
    "\n",
    "groups, group_metrics, gaps = evaluate_fairness(y_test, y_pred, sensitive_features_test)\n",
    "\n",
    "print(\"Random Forest Accuracy: \" + str(accuracy_score(y_pred, y_test)))\n",
    "\n",
    "# Demographic Parity\n",
    "for group in groups:\n",
    "      print(\"P[h(X) = 1 | {}] = {}\".format(group, group_metrics['dp'][group]))\n",
    "print(\"Delta_dp = {}\".format(gaps['dp']))\n",
    "\n",
    "# Equalized Odds\n",
    "for group in groups:\n",
    "    print(\"P[h(X) = 1 | A = {}, Y = 1] = {}\".format(group, group_metrics['eo_y1'][group]))\n",
    "    print(\"P[h(X) = 1 | A = {}, Y = 0] = {}\".format(group, group_metrics['eo_y0'][group]))\n",
    "print(\"Delta_eo1 = {}\".format(gaps['eo_y1']))\n",
    "print(\"Delta_eo0 = {}\".format(gaps['eo_y0']))"
   ]
  },
  {
   "cell_type": "markdown",
   "metadata": {},
   "source": [
    "## Adult Dataset"
   ]
  },
  {
   "cell_type": "code",
   "execution_count": 9,
   "metadata": {},
   "outputs": [
    {
     "name": "stderr",
     "output_type": "stream",
     "text": [
      "/Users/sam/anaconda3/envs/fairness_checking/lib/python3.7/site-packages/pandas/core/generic.py:8765: SettingWithCopyWarning: \n",
      "A value is trying to be set on a copy of a slice from a DataFrame\n",
      "\n",
      "See the caveats in the documentation: https://pandas.pydata.org/pandas-docs/stable/user_guide/indexing.html#returning-a-view-versus-a-copy\n",
      "  self._update_inplace(new_data)\n"
     ]
    }
   ],
   "source": [
    "adult_X = pd.read_csv('./data/adult_X.csv')\n",
    "adult_y = pd.read_csv('./data/adult_y.csv')\n",
    "\n",
    "adult_X.head(5)\n",
    "\n",
    "X_train, X_test, y_train, y_test = train_test_split(adult_X, adult_y, test_size=0.2, random_state=42)\n",
    "y_test = y_test.reset_index(drop=True)\n",
    "y_test = y_test['income']\n",
    "sensitive_features_train = X_train['sex']\n",
    "sensitive_features_test = X_test['sex']\n",
    "\n",
    "sensitive_features_train[sensitive_features_train < 0] = 0\n",
    "sensitive_features_train[sensitive_features_train > 0] = 1\n",
    "sensitive_features_train = sensitive_features_train.reset_index(drop=True)\n",
    "\n",
    "sensitive_features_test[sensitive_features_test < 0] = 0\n",
    "sensitive_features_test[sensitive_features_test > 0] = 1\n",
    "sensitive_features_test = sensitive_features_test.reset_index(drop=True)"
   ]
  },
  {
   "cell_type": "code",
   "execution_count": 11,
   "metadata": {},
   "outputs": [
    {
     "name": "stdout",
     "output_type": "stream",
     "text": [
      "Logistic Regression Accuracy: 0.8267326732673267\n",
      "P[h(X) = 1 | 0.0] = 0.6566666666666666\n",
      "P[h(X) = 1 | 1.0] = 0.18269230769230768\n",
      "Delta_dp = 0.4739743589743589\n",
      "P[h(X) = 1 | A = 0.0, Y = 1] = 0.8839779005524862\n",
      "P[h(X) = 1 | A = 0.0, Y = 0] = 0.31092436974789917\n",
      "P[h(X) = 1 | A = 1.0, Y = 1] = 0.6521739130434783\n",
      "P[h(X) = 1 | A = 1.0, Y = 0] = 0.04938271604938271\n",
      "Delta_eo1 = 0.23180398750900788\n",
      "Delta_eo0 = 0.26154165369851645\n"
     ]
    },
    {
     "name": "stderr",
     "output_type": "stream",
     "text": [
      "/Users/sam/anaconda3/envs/fairness_checking/lib/python3.7/site-packages/sklearn/utils/validation.py:760: DataConversionWarning: A column-vector y was passed when a 1d array was expected. Please change the shape of y to (n_samples, ), for example using ravel().\n",
      "  y = column_or_1d(y, warn=True)\n"
     ]
    }
   ],
   "source": [
    "logreg = LogisticRegression()\n",
    "logreg.fit(X_train, y_train)\n",
    "y_pred = logreg.predict(X_test)\n",
    "\n",
    "print(\"Logistic Regression Accuracy: \" + str(accuracy_score(y_pred, y_test)))\n",
    "groups, group_metrics, gaps = evaluate_fairness(y_test, y_pred, sensitive_features_test)\n",
    "\n",
    "# Demographic Parity\n",
    "for group in groups:\n",
    "      print(\"P[h(X) = 1 | {}] = {}\".format(group, group_metrics['dp'][group]))\n",
    "print(\"Delta_dp = {}\".format(gaps['dp']))\n",
    "\n",
    "# Equalized Odds\n",
    "for group in groups:\n",
    "    print(\"P[h(X) = 1 | A = {}, Y = 1] = {}\".format(group, group_metrics['eo_y1'][group]))\n",
    "    print(\"P[h(X) = 1 | A = {}, Y = 0] = {}\".format(group, group_metrics['eo_y0'][group]))\n",
    "print(\"Delta_eo1 = {}\".format(gaps['eo_y1']))\n",
    "print(\"Delta_eo0 = {}\".format(gaps['eo_y0']))"
   ]
  },
  {
   "cell_type": "code",
   "execution_count": 12,
   "metadata": {},
   "outputs": [
    {
     "name": "stderr",
     "output_type": "stream",
     "text": [
      "/Users/sam/anaconda3/envs/fairness_checking/lib/python3.7/site-packages/ipykernel_launcher.py:2: DataConversionWarning: A column-vector y was passed when a 1d array was expected. Please change the shape of y to (n_samples,), for example using ravel().\n",
      "  \n"
     ]
    },
    {
     "name": "stdout",
     "output_type": "stream",
     "text": [
      "Random Forest Accuracy: 0.8316831683168316\n",
      "P[h(X) = 1 | 0.0] = 0.6366666666666667\n",
      "P[h(X) = 1 | 1.0] = 0.18269230769230768\n",
      "Delta_dp = 0.453974358974359\n",
      "P[h(X) = 1 | A = 0.0, Y = 1] = 0.8784530386740331\n",
      "P[h(X) = 1 | A = 0.0, Y = 0] = 0.2689075630252101\n",
      "P[h(X) = 1 | A = 1.0, Y = 1] = 0.6086956521739131\n",
      "P[h(X) = 1 | A = 1.0, Y = 0] = 0.06172839506172839\n",
      "Delta_eo1 = 0.26975738650012004\n",
      "Delta_eo0 = 0.20717916796348168\n"
     ]
    }
   ],
   "source": [
    "rf = RandomForestClassifier()\n",
    "rf.fit(X_train, y_train)\n",
    "y_pred = rf.predict(X_test)\n",
    "\n",
    "groups, group_metrics, gaps = evaluate_fairness(y_test, y_pred, sensitive_features_test)\n",
    "\n",
    "print(\"Random Forest Accuracy: \" + str(accuracy_score(y_pred, y_test)))\n",
    "\n",
    "# Demographic Parity\n",
    "for group in groups:\n",
    "      print(\"P[h(X) = 1 | {}] = {}\".format(group, group_metrics['dp'][group]))\n",
    "print(\"Delta_dp = {}\".format(gaps['dp']))\n",
    "\n",
    "# Equalized Odds\n",
    "for group in groups:\n",
    "    print(\"P[h(X) = 1 | A = {}, Y = 1] = {}\".format(group, group_metrics['eo_y1'][group]))\n",
    "    print(\"P[h(X) = 1 | A = {}, Y = 0] = {}\".format(group, group_metrics['eo_y0'][group]))\n",
    "print(\"Delta_eo1 = {}\".format(gaps['eo_y1']))\n",
    "print(\"Delta_eo0 = {}\".format(gaps['eo_y0']))"
   ]
  },
  {
   "cell_type": "markdown",
   "metadata": {},
   "source": [
    "## Law School Dataset"
   ]
  },
  {
   "cell_type": "code",
   "execution_count": 13,
   "metadata": {},
   "outputs": [
    {
     "name": "stderr",
     "output_type": "stream",
     "text": [
      "/Users/sam/anaconda3/envs/fairness_checking/lib/python3.7/site-packages/ipykernel_launcher.py:10: SettingWithCopyWarning: \n",
      "A value is trying to be set on a copy of a slice from a DataFrame\n",
      "\n",
      "See the caveats in the documentation: https://pandas.pydata.org/pandas-docs/stable/user_guide/indexing.html#returning-a-view-versus-a-copy\n",
      "  # Remove the CWD from sys.path while we load stuff.\n",
      "/Users/sam/anaconda3/envs/fairness_checking/lib/python3.7/site-packages/pandas/core/generic.py:8765: SettingWithCopyWarning: \n",
      "A value is trying to be set on a copy of a slice from a DataFrame\n",
      "\n",
      "See the caveats in the documentation: https://pandas.pydata.org/pandas-docs/stable/user_guide/indexing.html#returning-a-view-versus-a-copy\n",
      "  self._update_inplace(new_data)\n",
      "/Users/sam/anaconda3/envs/fairness_checking/lib/python3.7/site-packages/ipykernel_launcher.py:11: SettingWithCopyWarning: \n",
      "A value is trying to be set on a copy of a slice from a DataFrame\n",
      "\n",
      "See the caveats in the documentation: https://pandas.pydata.org/pandas-docs/stable/user_guide/indexing.html#returning-a-view-versus-a-copy\n",
      "  # This is added back by InteractiveShellApp.init_path()\n",
      "/Users/sam/anaconda3/envs/fairness_checking/lib/python3.7/site-packages/ipykernel_launcher.py:14: SettingWithCopyWarning: \n",
      "A value is trying to be set on a copy of a slice from a DataFrame\n",
      "\n",
      "See the caveats in the documentation: https://pandas.pydata.org/pandas-docs/stable/user_guide/indexing.html#returning-a-view-versus-a-copy\n",
      "  \n",
      "/Users/sam/anaconda3/envs/fairness_checking/lib/python3.7/site-packages/ipykernel_launcher.py:15: SettingWithCopyWarning: \n",
      "A value is trying to be set on a copy of a slice from a DataFrame\n",
      "\n",
      "See the caveats in the documentation: https://pandas.pydata.org/pandas-docs/stable/user_guide/indexing.html#returning-a-view-versus-a-copy\n",
      "  from ipykernel import kernelapp as app\n"
     ]
    }
   ],
   "source": [
    "lawschool_X = pd.read_csv('./data/lawschool_X.csv')\n",
    "lawschool_y = pd.read_csv('./data/lawschool_y.csv')\n",
    "\n",
    "X_train, X_test, y_train, y_test = train_test_split(lawschool_X, lawschool_y, test_size=0.2, random_state=42)\n",
    "y_test = y_test.reset_index(drop=True)\n",
    "y_test = y_test['bar1']\n",
    "sensitive_features_train = X_train['race7']\n",
    "sensitive_features_test = X_test['race7']\n",
    "\n",
    "sensitive_features_train[sensitive_features_train < 0] = 0\n",
    "sensitive_features_train[sensitive_features_train > 0] = 1\n",
    "sensitive_features_train = sensitive_features_train.reset_index(drop=True)\n",
    "\n",
    "sensitive_features_test[sensitive_features_test < 0] = 0\n",
    "sensitive_features_test[sensitive_features_test > 0] = 1\n",
    "sensitive_features_test = sensitive_features_test.reset_index(drop=True)"
   ]
  },
  {
   "cell_type": "code",
   "execution_count": 15,
   "metadata": {},
   "outputs": [
    {
     "name": "stdout",
     "output_type": "stream",
     "text": [
      "Logistic Regression Accuracy: 0.7945205479452054\n",
      "P[h(X) = 1 | 0] = 0.2403846153846154\n",
      "P[h(X) = 1 | 1] = 0.5862068965517241\n",
      "Delta_dp = 0.34582228116710867\n",
      "P[h(X) = 1 | A = 0, Y = 1] = 0.5294117647058824\n",
      "P[h(X) = 1 | A = 0, Y = 0] = 0.1\n",
      "P[h(X) = 1 | A = 1, Y = 1] = 0.806060606060606\n",
      "P[h(X) = 1 | A = 1, Y = 0] = 0.20833333333333334\n",
      "Delta_eo1 = 0.2766488413547237\n",
      "Delta_eo0 = 0.10833333333333334\n"
     ]
    },
    {
     "name": "stderr",
     "output_type": "stream",
     "text": [
      "/Users/sam/anaconda3/envs/fairness_checking/lib/python3.7/site-packages/sklearn/utils/validation.py:760: DataConversionWarning: A column-vector y was passed when a 1d array was expected. Please change the shape of y to (n_samples, ), for example using ravel().\n",
      "  y = column_or_1d(y, warn=True)\n",
      "/Users/sam/anaconda3/envs/fairness_checking/lib/python3.7/site-packages/sklearn/linear_model/_logistic.py:940: ConvergenceWarning: lbfgs failed to converge (status=1):\n",
      "STOP: TOTAL NO. of ITERATIONS REACHED LIMIT.\n",
      "\n",
      "Increase the number of iterations (max_iter) or scale the data as shown in:\n",
      "    https://scikit-learn.org/stable/modules/preprocessing.html\n",
      "Please also refer to the documentation for alternative solver options:\n",
      "    https://scikit-learn.org/stable/modules/linear_model.html#logistic-regression\n",
      "  extra_warning_msg=_LOGISTIC_SOLVER_CONVERGENCE_MSG)\n"
     ]
    }
   ],
   "source": [
    "logreg = LogisticRegression()\n",
    "logreg.fit(X_train, y_train)\n",
    "y_pred = logreg.predict(X_test)\n",
    "\n",
    "print(\"Logistic Regression Accuracy: \" + str(accuracy_score(y_pred, y_test)))\n",
    "groups, group_metrics, gaps = evaluate_fairness(y_test, y_pred, sensitive_features_test)\n",
    "\n",
    "# Demographic Parity\n",
    "for group in groups:\n",
    "      print(\"P[h(X) = 1 | {}] = {}\".format(group, group_metrics['dp'][group]))\n",
    "print(\"Delta_dp = {}\".format(gaps['dp']))\n",
    "\n",
    "# Equalized Odds\n",
    "for group in groups:\n",
    "    print(\"P[h(X) = 1 | A = {}, Y = 1] = {}\".format(group, group_metrics['eo_y1'][group]))\n",
    "    print(\"P[h(X) = 1 | A = {}, Y = 0] = {}\".format(group, group_metrics['eo_y0'][group]))\n",
    "print(\"Delta_eo1 = {}\".format(gaps['eo_y1']))\n",
    "print(\"Delta_eo0 = {}\".format(gaps['eo_y0']))"
   ]
  },
  {
   "cell_type": "code",
   "execution_count": 16,
   "metadata": {},
   "outputs": [
    {
     "name": "stdout",
     "output_type": "stream",
     "text": [
      "Random Forest Accuracy: 0.7808219178082192\n",
      "P[h(X) = 1 | 0] = 0.20192307692307693\n",
      "P[h(X) = 1 | 1] = 0.6053639846743295\n",
      "Delta_dp = 0.4034409077512526\n",
      "P[h(X) = 1 | A = 0, Y = 1] = 0.5\n",
      "P[h(X) = 1 | A = 0, Y = 0] = 0.05714285714285714\n",
      "P[h(X) = 1 | A = 1, Y = 1] = 0.8\n",
      "P[h(X) = 1 | A = 1, Y = 0] = 0.2708333333333333\n",
      "Delta_eo1 = 0.30000000000000004\n",
      "Delta_eo0 = 0.21369047619047618\n"
     ]
    },
    {
     "name": "stderr",
     "output_type": "stream",
     "text": [
      "/Users/sam/anaconda3/envs/fairness_checking/lib/python3.7/site-packages/ipykernel_launcher.py:2: DataConversionWarning: A column-vector y was passed when a 1d array was expected. Please change the shape of y to (n_samples,), for example using ravel().\n",
      "  \n"
     ]
    }
   ],
   "source": [
    "rf = RandomForestClassifier()\n",
    "rf.fit(X_train, y_train)\n",
    "y_pred = rf.predict(X_test)\n",
    "\n",
    "groups, group_metrics, gaps = evaluate_fairness(y_test, y_pred, sensitive_features_test)\n",
    "\n",
    "print(\"Random Forest Accuracy: \" + str(accuracy_score(y_pred, y_test)))\n",
    "\n",
    "# Demographic Parity\n",
    "for group in groups:\n",
    "      print(\"P[h(X) = 1 | {}] = {}\".format(group, group_metrics['dp'][group]))\n",
    "print(\"Delta_dp = {}\".format(gaps['dp']))\n",
    "\n",
    "# Equalized Odds\n",
    "for group in groups:\n",
    "    print(\"P[h(X) = 1 | A = {}, Y = 1] = {}\".format(group, group_metrics['eo_y1'][group]))\n",
    "    print(\"P[h(X) = 1 | A = {}, Y = 0] = {}\".format(group, group_metrics['eo_y0'][group]))\n",
    "print(\"Delta_eo1 = {}\".format(gaps['eo_y1']))\n",
    "print(\"Delta_eo0 = {}\".format(gaps['eo_y0']))"
   ]
  },
  {
   "cell_type": "markdown",
   "metadata": {},
   "source": [
    "## Communities Dataset"
   ]
  },
  {
   "cell_type": "code",
   "execution_count": 17,
   "metadata": {},
   "outputs": [
    {
     "name": "stderr",
     "output_type": "stream",
     "text": [
      "/Users/sam/anaconda3/envs/fairness_checking/lib/python3.7/site-packages/ipykernel_launcher.py:10: SettingWithCopyWarning: \n",
      "A value is trying to be set on a copy of a slice from a DataFrame\n",
      "\n",
      "See the caveats in the documentation: https://pandas.pydata.org/pandas-docs/stable/user_guide/indexing.html#returning-a-view-versus-a-copy\n",
      "  # Remove the CWD from sys.path while we load stuff.\n",
      "/Users/sam/anaconda3/envs/fairness_checking/lib/python3.7/site-packages/pandas/core/generic.py:8765: SettingWithCopyWarning: \n",
      "A value is trying to be set on a copy of a slice from a DataFrame\n",
      "\n",
      "See the caveats in the documentation: https://pandas.pydata.org/pandas-docs/stable/user_guide/indexing.html#returning-a-view-versus-a-copy\n",
      "  self._update_inplace(new_data)\n",
      "/Users/sam/anaconda3/envs/fairness_checking/lib/python3.7/site-packages/ipykernel_launcher.py:11: SettingWithCopyWarning: \n",
      "A value is trying to be set on a copy of a slice from a DataFrame\n",
      "\n",
      "See the caveats in the documentation: https://pandas.pydata.org/pandas-docs/stable/user_guide/indexing.html#returning-a-view-versus-a-copy\n",
      "  # This is added back by InteractiveShellApp.init_path()\n",
      "/Users/sam/anaconda3/envs/fairness_checking/lib/python3.7/site-packages/ipykernel_launcher.py:14: SettingWithCopyWarning: \n",
      "A value is trying to be set on a copy of a slice from a DataFrame\n",
      "\n",
      "See the caveats in the documentation: https://pandas.pydata.org/pandas-docs/stable/user_guide/indexing.html#returning-a-view-versus-a-copy\n",
      "  \n",
      "/Users/sam/anaconda3/envs/fairness_checking/lib/python3.7/site-packages/ipykernel_launcher.py:15: SettingWithCopyWarning: \n",
      "A value is trying to be set on a copy of a slice from a DataFrame\n",
      "\n",
      "See the caveats in the documentation: https://pandas.pydata.org/pandas-docs/stable/user_guide/indexing.html#returning-a-view-versus-a-copy\n",
      "  from ipykernel import kernelapp as app\n"
     ]
    }
   ],
   "source": [
    "communities_X = pd.read_csv('./data/communities_X.csv')\n",
    "communities_y = pd.read_csv('./data/communities_y.csv')\n",
    "\n",
    "X_train, X_test, y_train, y_test = train_test_split(communities_X, communities_y, test_size=0.2, random_state=42)\n",
    "y_test = y_test.reset_index(drop=True)\n",
    "y_test = y_test['ViolentCrimesPerPop']\n",
    "sensitive_features_train = X_train['majority_white']\n",
    "sensitive_features_test = X_test['majority_white']\n",
    "\n",
    "sensitive_features_train[sensitive_features_train < 0] = 0\n",
    "sensitive_features_train[sensitive_features_train > 0] = 1\n",
    "sensitive_features_train = sensitive_features_train.reset_index(drop=True)\n",
    "\n",
    "sensitive_features_test[sensitive_features_test < 0] = 0\n",
    "sensitive_features_test[sensitive_features_test > 0] = 1\n",
    "sensitive_features_test = sensitive_features_test.reset_index(drop=True)"
   ]
  },
  {
   "cell_type": "code",
   "execution_count": 18,
   "metadata": {},
   "outputs": [
    {
     "name": "stdout",
     "output_type": "stream",
     "text": [
      "Logistic Regression Accuracy: 0.8696741854636592\n",
      "P[h(X) = 1 | 0] = 0.6699029126213593\n",
      "P[h(X) = 1 | 1] = 0.060810810810810814\n",
      "Delta_dp = 0.6090921018105484\n",
      "P[h(X) = 1 | A = 0, Y = 1] = 0.8428571428571429\n",
      "P[h(X) = 1 | A = 0, Y = 0] = 0.30303030303030304\n",
      "P[h(X) = 1 | A = 1, Y = 1] = 0.3333333333333333\n",
      "P[h(X) = 1 | A = 1, Y = 0] = 0.019455252918287938\n",
      "Delta_eo1 = 0.5095238095238095\n",
      "Delta_eo0 = 0.2835750501120151\n"
     ]
    },
    {
     "name": "stderr",
     "output_type": "stream",
     "text": [
      "/Users/sam/anaconda3/envs/fairness_checking/lib/python3.7/site-packages/sklearn/utils/validation.py:760: DataConversionWarning: A column-vector y was passed when a 1d array was expected. Please change the shape of y to (n_samples, ), for example using ravel().\n",
      "  y = column_or_1d(y, warn=True)\n",
      "/Users/sam/anaconda3/envs/fairness_checking/lib/python3.7/site-packages/sklearn/linear_model/_logistic.py:940: ConvergenceWarning: lbfgs failed to converge (status=1):\n",
      "STOP: TOTAL NO. of ITERATIONS REACHED LIMIT.\n",
      "\n",
      "Increase the number of iterations (max_iter) or scale the data as shown in:\n",
      "    https://scikit-learn.org/stable/modules/preprocessing.html\n",
      "Please also refer to the documentation for alternative solver options:\n",
      "    https://scikit-learn.org/stable/modules/linear_model.html#logistic-regression\n",
      "  extra_warning_msg=_LOGISTIC_SOLVER_CONVERGENCE_MSG)\n"
     ]
    }
   ],
   "source": [
    "logreg = LogisticRegression()\n",
    "logreg.fit(X_train, y_train)\n",
    "y_pred = logreg.predict(X_test)\n",
    "\n",
    "print(\"Logistic Regression Accuracy: \" + str(accuracy_score(y_pred, y_test)))\n",
    "groups, group_metrics, gaps = evaluate_fairness(y_test, y_pred, sensitive_features_test)\n",
    "\n",
    "# Demographic Parity\n",
    "for group in groups:\n",
    "      print(\"P[h(X) = 1 | {}] = {}\".format(group, group_metrics['dp'][group]))\n",
    "print(\"Delta_dp = {}\".format(gaps['dp']))\n",
    "\n",
    "# Equalized Odds\n",
    "for group in groups:\n",
    "    print(\"P[h(X) = 1 | A = {}, Y = 1] = {}\".format(group, group_metrics['eo_y1'][group]))\n",
    "    print(\"P[h(X) = 1 | A = {}, Y = 0] = {}\".format(group, group_metrics['eo_y0'][group]))\n",
    "print(\"Delta_eo1 = {}\".format(gaps['eo_y1']))\n",
    "print(\"Delta_eo0 = {}\".format(gaps['eo_y0']))"
   ]
  },
  {
   "cell_type": "code",
   "execution_count": 19,
   "metadata": {},
   "outputs": [
    {
     "name": "stderr",
     "output_type": "stream",
     "text": [
      "/Users/sam/anaconda3/envs/fairness_checking/lib/python3.7/site-packages/ipykernel_launcher.py:2: DataConversionWarning: A column-vector y was passed when a 1d array was expected. Please change the shape of y to (n_samples,), for example using ravel().\n",
      "  \n"
     ]
    },
    {
     "name": "stdout",
     "output_type": "stream",
     "text": [
      "Random Forest Accuracy: 0.8596491228070176\n",
      "P[h(X) = 1 | 0] = 0.6601941747572816\n",
      "P[h(X) = 1 | 1] = 0.057432432432432436\n",
      "Delta_dp = 0.6027617423248491\n",
      "P[h(X) = 1 | A = 0, Y = 1] = 0.8\n",
      "P[h(X) = 1 | A = 0, Y = 0] = 0.36363636363636365\n",
      "P[h(X) = 1 | A = 1, Y = 1] = 0.3333333333333333\n",
      "P[h(X) = 1 | A = 1, Y = 0] = 0.01556420233463035\n",
      "Delta_eo1 = 0.46666666666666673\n",
      "Delta_eo0 = 0.3480721613017333\n"
     ]
    }
   ],
   "source": [
    "rf = RandomForestClassifier()\n",
    "rf.fit(X_train, y_train)\n",
    "y_pred = rf.predict(X_test)\n",
    "\n",
    "groups, group_metrics, gaps = evaluate_fairness(y_test, y_pred, sensitive_features_test)\n",
    "\n",
    "print(\"Random Forest Accuracy: \" + str(accuracy_score(y_pred, y_test)))\n",
    "\n",
    "# Demographic Parity\n",
    "for group in groups:\n",
    "      print(\"P[h(X) = 1 | {}] = {}\".format(group, group_metrics['dp'][group]))\n",
    "print(\"Delta_dp = {}\".format(gaps['dp']))\n",
    "\n",
    "# Equalized Odds\n",
    "for group in groups:\n",
    "    print(\"P[h(X) = 1 | A = {}, Y = 1] = {}\".format(group, group_metrics['eo_y1'][group]))\n",
    "    print(\"P[h(X) = 1 | A = {}, Y = 0] = {}\".format(group, group_metrics['eo_y0'][group]))\n",
    "print(\"Delta_eo1 = {}\".format(gaps['eo_y1']))\n",
    "print(\"Delta_eo0 = {}\".format(gaps['eo_y0']))"
   ]
  },
  {
   "cell_type": "code",
   "execution_count": 21,
   "metadata": {},
   "outputs": [
    {
     "ename": "TypeError",
     "evalue": "'method' object is not subscriptable",
     "output_type": "error",
     "traceback": [
      "\u001b[0;31m---------------------------------------------------------------------------\u001b[0m",
      "\u001b[0;31mTypeError\u001b[0m                                 Traceback (most recent call last)",
      "\u001b[0;32m<ipython-input-21-6b83c68312a9>\u001b[0m in \u001b[0;36m<module>\u001b[0;34m\u001b[0m\n\u001b[0;32m----> 1\u001b[0;31m \u001b[0mcommunities_X\u001b[0m\u001b[0;34m.\u001b[0m\u001b[0mhead\u001b[0m\u001b[0;34m[\u001b[0m\u001b[0;34m:\u001b[0m\u001b[0;36m10\u001b[0m\u001b[0;34m]\u001b[0m\u001b[0;34m\u001b[0m\u001b[0;34m\u001b[0m\u001b[0m\n\u001b[0m",
      "\u001b[0;31mTypeError\u001b[0m: 'method' object is not subscriptable"
     ]
    }
   ],
   "source": [
    "communities_X.head[:10]"
   ]
  }
 ],
 "metadata": {
  "kernelspec": {
   "display_name": "Python 3",
   "language": "python",
   "name": "python3"
  },
  "language_info": {
   "codemirror_mode": {
    "name": "ipython",
    "version": 3
   },
   "file_extension": ".py",
   "mimetype": "text/x-python",
   "name": "python",
   "nbconvert_exporter": "python",
   "pygments_lexer": "ipython3",
   "version": "3.7.6"
  }
 },
 "nbformat": 4,
 "nbformat_minor": 4
}
