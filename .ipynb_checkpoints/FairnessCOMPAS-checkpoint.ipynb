{
 "cells": [
  {
   "cell_type": "markdown",
   "metadata": {},
   "source": [
    "# Fairness in ML \n",
    "\n",
    "Let us suppose that you take a new job for a hard hitting data analytics journalism team. Your team (get into groups of 3) is looking into allegations that machine learning classification algorithms are unfair and discriminatory. You are handed a dataset about recidivism - the rate of criminal defendants recommiting crimes. The idea is to use a suspect’s criminal record to predict whether they will recidivate - information that a judge can use in determining whether to grant bail. The judge is hesitant to employ a mysterious machine learning algorithm, and asks your team to look into these allegations of discrimination. In particular, he wants you to investigate the naive use of a support vector machine and of MLE, KNN and Naive Bayes."
   ]
  },
  {
   "cell_type": "code",
   "execution_count": 3,
   "metadata": {},
   "outputs": [],
   "source": [
    "import numpy as np\n",
    "import matplotlib.pyplot as plt\n",
    "import pandas as pd"
   ]
  },
  {
   "cell_type": "markdown",
   "metadata": {},
   "source": [
    "Here is the training data. There are 4,167 individual records, and 10 features (one of which is the prediction target, the 2 year recidivism rate in the first column)."
   ]
  },
  {
   "cell_type": "code",
   "execution_count": 4,
   "metadata": {},
   "outputs": [
    {
     "data": {
      "text/html": [
       "<div>\n",
       "<style scoped>\n",
       "    .dataframe tbody tr th:only-of-type {\n",
       "        vertical-align: middle;\n",
       "    }\n",
       "\n",
       "    .dataframe tbody tr th {\n",
       "        vertical-align: top;\n",
       "    }\n",
       "\n",
       "    .dataframe thead th {\n",
       "        text-align: right;\n",
       "    }\n",
       "</style>\n",
       "<table border=\"1\" class=\"dataframe\">\n",
       "  <thead>\n",
       "    <tr style=\"text-align: right;\">\n",
       "      <th></th>\n",
       "      <th>two_year_recid</th>\n",
       "      <th>sex</th>\n",
       "      <th>age</th>\n",
       "      <th>race</th>\n",
       "      <th>juv_fel_count</th>\n",
       "      <th>juv_misd_count</th>\n",
       "      <th>juv_other_count</th>\n",
       "      <th>priors_count</th>\n",
       "      <th>c_charge_degree_F</th>\n",
       "      <th>c_charge_degree_M</th>\n",
       "    </tr>\n",
       "  </thead>\n",
       "  <tbody>\n",
       "    <tr>\n",
       "      <th>0</th>\n",
       "      <td>0</td>\n",
       "      <td>1</td>\n",
       "      <td>64</td>\n",
       "      <td>0</td>\n",
       "      <td>0</td>\n",
       "      <td>0</td>\n",
       "      <td>0</td>\n",
       "      <td>13</td>\n",
       "      <td>0</td>\n",
       "      <td>1</td>\n",
       "    </tr>\n",
       "    <tr>\n",
       "      <th>1</th>\n",
       "      <td>0</td>\n",
       "      <td>1</td>\n",
       "      <td>28</td>\n",
       "      <td>0</td>\n",
       "      <td>0</td>\n",
       "      <td>0</td>\n",
       "      <td>0</td>\n",
       "      <td>1</td>\n",
       "      <td>1</td>\n",
       "      <td>0</td>\n",
       "    </tr>\n",
       "    <tr>\n",
       "      <th>2</th>\n",
       "      <td>0</td>\n",
       "      <td>1</td>\n",
       "      <td>32</td>\n",
       "      <td>0</td>\n",
       "      <td>0</td>\n",
       "      <td>0</td>\n",
       "      <td>0</td>\n",
       "      <td>1</td>\n",
       "      <td>1</td>\n",
       "      <td>0</td>\n",
       "    </tr>\n",
       "    <tr>\n",
       "      <th>3</th>\n",
       "      <td>1</td>\n",
       "      <td>1</td>\n",
       "      <td>20</td>\n",
       "      <td>0</td>\n",
       "      <td>0</td>\n",
       "      <td>1</td>\n",
       "      <td>1</td>\n",
       "      <td>2</td>\n",
       "      <td>1</td>\n",
       "      <td>0</td>\n",
       "    </tr>\n",
       "    <tr>\n",
       "      <th>4</th>\n",
       "      <td>0</td>\n",
       "      <td>1</td>\n",
       "      <td>43</td>\n",
       "      <td>1</td>\n",
       "      <td>0</td>\n",
       "      <td>0</td>\n",
       "      <td>0</td>\n",
       "      <td>8</td>\n",
       "      <td>1</td>\n",
       "      <td>0</td>\n",
       "    </tr>\n",
       "  </tbody>\n",
       "</table>\n",
       "</div>"
      ],
      "text/plain": [
       "   two_year_recid  sex  age  race  juv_fel_count  juv_misd_count  \\\n",
       "0               0    1   64     0              0               0   \n",
       "1               0    1   28     0              0               0   \n",
       "2               0    1   32     0              0               0   \n",
       "3               1    1   20     0              0               1   \n",
       "4               0    1   43     1              0               0   \n",
       "\n",
       "   juv_other_count  priors_count  c_charge_degree_F  c_charge_degree_M  \n",
       "0                0            13                  0                  1  \n",
       "1                0             1                  1                  0  \n",
       "2                0             1                  1                  0  \n",
       "3                1             2                  1                  0  \n",
       "4                0             8                  1                  0  "
      ]
     },
     "execution_count": 4,
     "metadata": {},
     "output_type": "execute_result"
    }
   ],
   "source": [
    "DTrain = pd.read_csv(\"propublicaTrain.csv\")\n",
    "DTest = pd.read_csv(\"propublicaTest.csv\")\n",
    "# Define a df to store result and plot\n",
    "R = pd.DataFrame.copy(DTest)\n",
    "\n",
    "# Show training data\n",
    "DTrain.head()"
   ]
  },
  {
   "cell_type": "code",
   "execution_count": 34,
   "metadata": {},
   "outputs": [],
   "source": [
    "# Helper function for plotting graph\n",
    "def add_value_labels(ax, spacing=5):\n",
    "    \"\"\"Add labels to the end of each bar in a bar chart.\n",
    "\n",
    "    Arguments:\n",
    "        ax (matplotlib.axes.Axes): The matplotlib object containing the axes\n",
    "            of the plot to annotate.\n",
    "        spacing (int): The distance between the labels and the bars.\n",
    "    \"\"\"\n",
    "\n",
    "    # For each bar: Place a label\n",
    "    for rect in ax.patches:\n",
    "        # Get X and Y placement of label from rect.\n",
    "        y_value = rect.get_height()\n",
    "        x_value = rect.get_x() + rect.get_width() / 2\n",
    "\n",
    "        # Number of points between bar and label. Change to your liking.\n",
    "        space = spacing\n",
    "        # Vertical alignment for positive values\n",
    "        va = 'bottom'\n",
    "\n",
    "        # If value of bar is negative: Place label below bar\n",
    "        if y_value < 0:\n",
    "            # Invert space to place label below\n",
    "            space *= -1\n",
    "            # Vertically align label at top\n",
    "            va = 'top'\n",
    "\n",
    "        # Use Y value as label and format number with one decimal place\n",
    "        label = \"{:.2f}\".format(y_value)\n",
    "\n",
    "        # Create annotation\n",
    "        ax.annotate(\n",
    "            label,                      # Use `label` as label\n",
    "            (x_value, y_value),         # Place label at end of the bar\n",
    "            xytext=(0, space),          # Vertically shift label by `space`\n",
    "            textcoords=\"offset points\", # Interpret `xytext` as offset in points\n",
    "            ha='center',                # Horizontally center label\n",
    "            va=va)                      # Vertically align label differently for\n",
    "                                        # positive and negative values.\n",
    "            \n",
    "def plot_hist(triplet, x_labels, title, x_label, y_label):\n",
    "    y = np.concatenate(triplet)\n",
    "    y_series = pd.Series.from_array(y)\n",
    "    \n",
    "    # Plot the figure.\n",
    "    plt.figure(figsize=(12, 8))\n",
    "    ax = y_series.plot(kind='bar')\n",
    "    ax.set_title(title)\n",
    "    ax.set_xlabel(x_label)\n",
    "    ax.set_ylabel(y_label)\n",
    "    ax.set_xticklabels(x_labels)\n",
    "\n",
    "\n",
    "    # Call the function above. All the magic happens there.\n",
    "    add_value_labels(ax)\n",
    "\n",
    "def diff_proportion(v1, v2):\n",
    "    return np.abs(v1-v2) / (v1 + v2)"
   ]
  },
  {
   "cell_type": "markdown",
   "metadata": {},
   "source": [
    "# MLE"
   ]
  },
  {
   "cell_type": "code",
   "execution_count": 10,
   "metadata": {},
   "outputs": [],
   "source": [
    "def est_parameters(df):\n",
    "    data = df.values[:, 1:]\n",
    "    n = data.shape[0]\n",
    "    mu = data.mean(axis=0)\n",
    "    centered_data = data - mu\n",
    "    sigma = 1/n * centered_data.T.dot(centered_data)\n",
    "    sigma = sigma+0.0001*np.eye(sigma.shape[0]) # Add a small multiple of identity matrix to avoid singularity\n",
    "\n",
    "    return mu, sigma\n",
    "\n",
    "def mle_prob(x, mu, sigma):\n",
    "    c_x = (x-mu)[:, np.newaxis]\n",
    "    p = 1/np.linalg.det(sigma) * np.exp(-1/2 * c_x.T.dot(np.linalg.inv(sigma)).dot(c_x))\n",
    "    return p\n",
    "\n",
    "def MLE(df_train, df_test):\n",
    "    mu0, sigma0 = est_parameters(df_train[df_train.two_year_recid==0])\n",
    "    mu1, sigma1 = est_parameters(df_train[df_train.two_year_recid==1])\n",
    "\n",
    "    test_data = df_test.values[:, 1:]\n",
    "    pred = np.zeros(test_data.shape[0])\n",
    "\n",
    "    for i in range(test_data.shape[0]):\n",
    "        if mle_prob(test_data[i], mu1, sigma1) > mle_prob(test_data[i], mu0, sigma0):\n",
    "            pred[i] = 1\n",
    "\n",
    "    return pd.Series(pred)\n",
    "\n",
    "\n"
   ]
  },
  {
   "cell_type": "markdown",
   "metadata": {},
   "source": [
    "# KNN"
   ]
  },
  {
   "cell_type": "code",
   "execution_count": 11,
   "metadata": {},
   "outputs": [],
   "source": [
    "def KNN(df_train, df_test, k, ord):\n",
    "\n",
    "    def lnorm(x1, x2, ord=2):\n",
    "        return np.linalg.norm(x1-x2, ord=ord)\n",
    "\n",
    "    label_train, data_train = df_train.values[:, 0], df_train.values[:, 1:]\n",
    "    \n",
    "    #  estimate terms for normalization\n",
    "    b = np.mean(data_train, axis=0)\n",
    "    a = np.sum(data_train, axis=0)\n",
    "    \n",
    "    train_pairs = [(data, label) for label, data in zip(df_train.values[:, 0], df_train.values[:, 1:])]\n",
    "    data_test = df_test.values[:, 1:]\n",
    "    \n",
    "    pred = np.zeros(data_test.shape[0])\n",
    "    for i, te in enumerate(data_test):\n",
    "        if i % 500 == 0:\n",
    "            print(i, '/', data_test.shape[0])\n",
    "        tmp = []\n",
    "        for tr, tr_label in train_pairs:\n",
    "            tmp.append((lnorm((te-b)/a, (tr-b)/a, ord), tr_label))\n",
    "        tr_k_labels = [pair[1] for pair in sorted(tmp)[:k]]\n",
    "        te_label = 0\n",
    "        if np.sum(tr_k_labels) > k/2:\n",
    "            te_label = 1\n",
    "        pred[i] = te_label\n",
    "            \n",
    "    return pd.Series(pred)\n",
    "    "
   ]
  },
  {
   "cell_type": "markdown",
   "metadata": {},
   "source": [
    "# Naive Bayes"
   ]
  },
  {
   "cell_type": "code",
   "execution_count": 12,
   "metadata": {},
   "outputs": [],
   "source": [
    "def NB(df_train, df_test):\n",
    "    label_train, data_train = df_train.values[:, 0], df_train.values[:, 1:]\n",
    "    data_test = df_test.values[:, 1:]\n",
    "\n",
    "    data_train_list = []\n",
    "    data_train_list.append(data_train[label_train==0])\n",
    "    data_train_list.append(data_train[label_train==1])\n",
    "    \n",
    "    len_y = [data_train_list[0].shape[0], data_train_list[1].shape[0]]\n",
    "    tot = len_y[0] + len_y[1]    \n",
    "    p_y0 = len_y[0] / tot\n",
    "    p_y1 = len_y[1] / tot\n",
    "    \n",
    "    feature_freq = [[], []]\n",
    "    base_list = [[], []]\n",
    "    # Count the conditional probability for each feature and each group in the training data\n",
    "    for i in range(2):\n",
    "        for f_i in range(data_train.shape[1]):\n",
    "            cur_feature_freq = dict()\n",
    "            \n",
    "            unique, counts = np.unique(data_train_list[i][:, f_i], return_counts=True)\n",
    "\n",
    "            freq = np.asarray((unique, counts)).T\n",
    "            \n",
    "            base = len_y[i] + len(freq)\n",
    "            \n",
    "            for p in freq:\n",
    "                cur_feature_freq[p[0]] = p[1]\n",
    "                \n",
    "            \n",
    "            feature_freq[i].append(cur_feature_freq)\n",
    "            base_list[i].append(base)\n",
    "            \n",
    "    # Do estimation using Naive Bayes using the count probability estimated above     \n",
    "    pred = np.zeros(data_test.shape[0])\n",
    "    for j, te in enumerate(data_test):\n",
    "        probs = [1, 1]\n",
    "        for i in range(2):\n",
    "            for f_i in range(data_test.shape[1]):\n",
    "                cur_base = base_list[i][f_i]\n",
    "                cur_feature_freq = feature_freq[i][f_i]\n",
    "                probs[i] /= cur_base\n",
    "                if te[f_i] in cur_feature_freq:\n",
    "                    probs[i] *= (cur_feature_freq[te[f_i]] + 1)                \n",
    "        te_label = 0\n",
    "\n",
    "        if probs[1]*p_y1 > probs[0]*p_y0:\n",
    "            te_label = 1\n",
    "        pred[j] = te_label \n",
    "        \n",
    "            \n",
    "    return pd.Series(pred)\n",
    "        \n",
    "\n",
    "        \n",
    "\n"
   ]
  },
  {
   "cell_type": "markdown",
   "metadata": {},
   "source": [
    "## Accuracy"
   ]
  },
  {
   "cell_type": "code",
   "execution_count": 82,
   "metadata": {},
   "outputs": [
    {
     "name": "stdout",
     "output_type": "stream",
     "text": [
      "Uniform Accuracy of MLE:  0.618\n",
      "Uniform Accuracy of KNN with k=3 and linf norm:  0.635\n",
      "Uniform Accuracy of KNN with k=5 and linf norm:  0.625\n",
      "Uniform Accuracy of KNN with k=7 and linf norm:  0.638\n",
      "Uniform Accuracy of KNN with k=3 and l2 norm:  0.642\n",
      "Uniform Accuracy of KNN with k=5 and l2 norm:  0.6335\n",
      "Uniform Accuracy of KNN with k=7 and l2 norm:  0.6475\n",
      "Uniform Accuracy of KNN with k=3 and l1 norm:  0.642\n",
      "Uniform Accuracy of KNN with k=5 and l1 norm:  0.63\n",
      "Uniform Accuracy of KNN with k=7 and l1 norm:  0.6455\n",
      "Uniform Accuracy of NB:  0.681\n"
     ]
    }
   ],
   "source": [
    "R['MLE'] = MLE(DTrain, DTest)\n",
    "\n",
    "R['KNN_3_inf'] = KNN(DTrain, DTest, 3, np.inf)\n",
    "R['KNN_5_inf'] = KNN(DTrain, DTest, 5, np.inf)\n",
    "R['KNN_7_inf'] = KNN(DTrain, DTest, 7, np.inf)\n",
    "R['KNN_3_2'] = KNN(DTrain, DTest, 3, 2)\n",
    "R['KNN_5_2'] = KNN(DTrain, DTest, 5, 2)\n",
    "R['KNN_7_2'] = KNN(DTrain, DTest, 7, 2)\n",
    "R['KNN_3_1'] = KNN(DTrain, DTest, 3, 1)\n",
    "R['KNN_5_1'] = KNN(DTrain, DTest, 5, 1)\n",
    "R['KNN_7_1'] = KNN(DTrain, DTest, 7, 1)\n",
    "\n",
    "R['NB'] = NB(DTrain, DTest)\n",
    "\n",
    "print(\"Uniform Accuracy of MLE: \", np.sum(R.MLE==R.two_year_recid)/R.shape[0] )\n",
    "\n",
    "print(\"Uniform Accuracy of KNN with k=3 and linf norm: \", np.sum(R.KNN_3_inf==R.two_year_recid)/R.shape[0] )\n",
    "print(\"Uniform Accuracy of KNN with k=5 and linf norm: \", np.sum(R.KNN_5_inf==R.two_year_recid)/R.shape[0] )\n",
    "print(\"Uniform Accuracy of KNN with k=7 and linf norm: \", np.sum(R.KNN_7_inf==R.two_year_recid)/R.shape[0] )\n",
    "print(\"Uniform Accuracy of KNN with k=3 and l2 norm: \", np.sum(R.KNN_3_2==R.two_year_recid)/R.shape[0] )\n",
    "print(\"Uniform Accuracy of KNN with k=5 and l2 norm: \", np.sum(R.KNN_5_2==R.two_year_recid)/R.shape[0] )\n",
    "print(\"Uniform Accuracy of KNN with k=7 and l2 norm: \", np.sum(R.KNN_7_2==R.two_year_recid)/R.shape[0] )\n",
    "print(\"Uniform Accuracy of KNN with k=3 and l1 norm: \", np.sum(R.KNN_3_1==R.two_year_recid)/R.shape[0] )\n",
    "print(\"Uniform Accuracy of KNN with k=5 and l1 norm: \", np.sum(R.KNN_5_1==R.two_year_recid)/R.shape[0] )\n",
    "print(\"Uniform Accuracy of KNN with k=7 and l1 norm: \", np.sum(R.KNN_7_1==R.two_year_recid)/R.shape[0] )\n",
    "\n",
    "print(\"Uniform Accuracy of NB: \", np.sum(R.NB==R.two_year_recid)/R.shape[0] )"
   ]
  },
  {
   "cell_type": "markdown",
   "metadata": {},
   "source": [
    "**Summary**:\n",
    "\n",
    "(1)The accuracy order is: Naive Bayes, KNN(l2norm, k=7) and MLE."
   ]
  },
  {
   "cell_type": "markdown",
   "metadata": {},
   "source": [
    "Note: We choose the result of KNN(l2norm, k=7) to analyze for fairness."
   ]
  },
  {
   "cell_type": "code",
   "execution_count": 73,
   "metadata": {},
   "outputs": [],
   "source": [
    "R['KNN'] = R['KNN_7_2']"
   ]
  },
  {
   "cell_type": "code",
   "execution_count": 37,
   "metadata": {},
   "outputs": [],
   "source": [
    "def EO(R):\n",
    "    numRace0Recid0 = R[(R.race==0) & (R.two_year_recid==0)].shape[0]\n",
    "    numRace0Recid1 = R[(R.race==0) & (R.two_year_recid==1)].shape[0]\n",
    "    numRace1Recid0 = R[(R.race==1) & (R.two_year_recid==0)].shape[0]\n",
    "    numRace1Recid1 = R[(R.race==1) & (R.two_year_recid==1)].shape[0]\n",
    "\n",
    "\n",
    "    AccMLE =[R[(R.two_year_recid == R.MLE)  & (R.race==0) & (R.two_year_recid==0)].shape[0]/numRace0Recid0, \n",
    "             R[(R.two_year_recid == R.MLE)  & (R.race==0) & (R.two_year_recid==1)].shape[0]/numRace0Recid1,\n",
    "             R[(R.two_year_recid == R.MLE)  & (R.race==1) & (R.two_year_recid==0)].shape[0]/numRace1Recid0,\n",
    "             R[(R.two_year_recid == R.MLE)  & (R.race==1) & (R.two_year_recid==1)].shape[0]/numRace1Recid1]\n",
    "\n",
    "    AccKNN = [R[(R.two_year_recid == R.KNN)  & (R.race==0) & (R.two_year_recid==0)].shape[0]/numRace0Recid0, \n",
    "             R[(R.two_year_recid == R.KNN)  & (R.race==0) & (R.two_year_recid==1)].shape[0]/numRace0Recid1,\n",
    "             R[(R.two_year_recid == R.KNN)  & (R.race==1) & (R.two_year_recid==0)].shape[0]/numRace1Recid0,\n",
    "             R[(R.two_year_recid == R.KNN)  & (R.race==1) & (R.two_year_recid==1)].shape[0]/numRace1Recid1]\n",
    "\n",
    "    AccNB = [R[(R.two_year_recid == R.NB)  & (R.race==0) & (R.two_year_recid==0)].shape[0]/numRace0Recid0, \n",
    "             R[(R.two_year_recid == R.NB)  & (R.race==0) & (R.two_year_recid==1)].shape[0]/numRace0Recid1,\n",
    "             R[(R.two_year_recid == R.NB)  & (R.race==1) & (R.two_year_recid==0)].shape[0]/numRace1Recid0,\n",
    "             R[(R.two_year_recid == R.NB)  & (R.race==1) & (R.two_year_recid==1)].shape[0]/numRace1Recid1]\n",
    "    \n",
    "    return (AccMLE, AccKNN, AccNB)\n",
    "\n",
    "def DP(R):\n",
    "    numRace0 = R[R.race==0].shape[0]\n",
    "    numRace1 = R[R.race==1].shape[0]\n",
    "\n",
    "    AccMLE =[R[(1 == R.MLE)  & (R.race==0)].shape[0]/numRace0, \n",
    "             R[(1 == R.MLE) & (R.race==1)].shape[0]/numRace1] \n",
    "    AccKNN = [R[(1 == R.KNN)   & (R.race==0)].shape[0]/numRace0, \n",
    "             R[(1 == R.KNN)  & (R.race==1)].shape[0]/numRace1]\n",
    "    AccNB = [R[(1 == R.NB)   & (R.race==0)].shape[0]/numRace0, \n",
    "             R[(1 == R.NB)  & (R.race==1)].shape[0]/numRace1]\n",
    "\n",
    "    return (AccMLE, AccKNN, AccNB)\n",
    "\n",
    "def PPV(R):\n",
    "    numMLE01 = R[(R.race==0) & (R.MLE==1)].shape[0]\n",
    "    numMLE11 = R[(R.race==1) & (R.MLE==1)].shape[0]\n",
    "    numKNN01 = R[(R.race==0) & (R.KNN==1)].shape[0]\n",
    "    numKNN11 = R[(R.race==1) & (R.KNN==1)].shape[0]\n",
    "    numNB01 = R[(R.race==0) & (R.NB==1)].shape[0]\n",
    "    numNB11 = R[(R.race==1) & (R.NB==1)].shape[0]\n",
    "\n",
    "    AccMLE =[R[(1 == R.two_year_recid) & (1 == R.MLE)  & (R.race==0)].shape[0]/numMLE01, \n",
    "             R[(1 == R.two_year_recid) & (1 == R.MLE) & (R.race==1)].shape[0]/numMLE11] \n",
    "    AccKNN = [R[(1 == R.two_year_recid) & (1 == R.KNN)   & (R.race==0)].shape[0]/numKNN01, \n",
    "             R[(1 == R.two_year_recid) & (1 == R.KNN)  & (R.race==1)].shape[0]/numKNN11]\n",
    "    AccNB =[R[(1 == R.two_year_recid) & (1 == R.NB)  & (R.race==0)].shape[0]/numNB01, \n",
    "             R[(1 == R.two_year_recid) & (1 == R.NB) & (R.race==1)].shape[0]/numNB11] \n",
    "\n",
    "    return (AccMLE, AccKNN, AccNB)\n",
    "\n",
    "def NPV(R):\n",
    "    numMLE01 = R[(R.race==0) & (R.MLE==0)].shape[0]\n",
    "    numMLE11 = R[(R.race==1) & (R.MLE==0)].shape[0]\n",
    "    numKNN01 = R[(R.race==0) & (R.KNN==0)].shape[0]\n",
    "    numKNN11 = R[(R.race==1) & (R.KNN==0)].shape[0]\n",
    "    numNB01 = R[(R.race==0) & (R.NB==0)].shape[0]\n",
    "    numNB11 = R[(R.race==1) & (R.NB==0)].shape[0]\n",
    "\n",
    "    AccMLE =[R[(0 == R.two_year_recid) & (0 == R.MLE)  & (R.race==0)].shape[0]/numMLE01, \n",
    "             R[(0 == R.two_year_recid) & (0 == R.MLE) & (R.race==1)].shape[0]/numMLE11] \n",
    "    AccKNN = [R[(0 == R.two_year_recid) & (0 == R.KNN)   & (R.race==0)].shape[0]/numKNN01, \n",
    "             R[(0 == R.two_year_recid) & (0 == R.KNN)  & (R.race==1)].shape[0]/numKNN11]\n",
    "    AccNB =[R[(0 == R.two_year_recid) & (0 == R.NB)  & (R.race==0)].shape[0]/numNB01, \n",
    "             R[(0 == R.two_year_recid) & (0 == R.NB) & (R.race==1)].shape[0]/numNB11] \n",
    "\n",
    "    return (AccMLE, AccKNN, AccNB)"
   ]
  },
  {
   "cell_type": "markdown",
   "metadata": {},
   "source": [
    "## Equalized Odds"
   ]
  },
  {
   "cell_type": "code",
   "execution_count": 76,
   "metadata": {},
   "outputs": [
    {
     "name": "stderr",
     "output_type": "stream",
     "text": [
      "/Users/ZiyuanZhong/.virtualenvs/ml3.6/lib/python3.6/site-packages/ipykernel_launcher.py:27: FutureWarning: 'from_array' is deprecated and will be removed in a future version. Please use the pd.Series(..) constructor instead.\n"
     ]
    },
    {
     "data": {
      "image/png": "[encoded data removed]",
      "text/plain": [
       "<Figure size 864x576 with 1 Axes>"
      ]
     },
     "metadata": {
      "needs_background": "light"
     },
     "output_type": "display_data"
    }
   ],
   "source": [
    "AccMLE, AccKNN, AccNB = EO(R)\n",
    "triplet = (AccMLE, AccKNN, AccNB)\n",
    "x_labels = ['MLE00', 'MLE01', 'MLE10', 'MLE11', 'KNN00', 'KNN01', 'KNN10', 'KNN11', 'NB00', 'NB01', 'NB10', 'NB11']\n",
    "title = 'Equalized Odds(EO)'\n",
    "x_label = 'algorithm, Yhat, A'\n",
    "y_label = 'rate'\n",
    "plot_hist(triplet, x_labels, title, x_label, y_label)\n"
   ]
  },
  {
   "cell_type": "markdown",
   "metadata": {},
   "source": [
    "**Summary**:\n",
    "\n",
    "(1)The EO preservation order is: Naive Bayes, KNN and MLE.\n",
    "\n",
    "(2)EO is basically violated by all three measures."
   ]
  },
  {
   "cell_type": "markdown",
   "metadata": {},
   "source": [
    "## Demographic Parity"
   ]
  },
  {
   "cell_type": "code",
   "execution_count": 90,
   "metadata": {},
   "outputs": [
    {
     "name": "stderr",
     "output_type": "stream",
     "text": [
      "/Users/ZiyuanZhong/.virtualenvs/ml3.6/lib/python3.6/site-packages/ipykernel_launcher.py:19: FutureWarning: 'from_array' is deprecated and will be removed in a future version. Please use the pd.Series(..) constructor instead.\n"
     ]
    },
    {
     "data": {
      "image/png": "[encoded data removed]",
      "text/plain": [
       "<Figure size 864x576 with 1 Axes>"
      ]
     },
     "metadata": {
      "needs_background": "light"
     },
     "output_type": "display_data"
    }
   ],
   "source": [
    "AccMLE, AccKNN, AccNB = DP(R)\n",
    "triplet = (AccMLE, AccKNN, AccNB)\n",
    "x_labels = ['MLE_0', 'MLE_1', 'KNN_0', 'KNN_1', 'NB_0', 'NB_1']\n",
    "title = 'Demographic Parity(DP)'\n",
    "x_label = 'algorithm, Yhat, A'\n",
    "y_label = 'rate'\n",
    "plot_hist(triplet, x_labels, title, x_label, y_label)\n"
   ]
  },
  {
   "cell_type": "code",
   "execution_count": 91,
   "metadata": {},
   "outputs": [
    {
     "name": "stdout",
     "output_type": "stream",
     "text": [
      "MLE 0.34835755524586903\n",
      "KNN 0.1540202629877128\n",
      "Naive Bayes 0.3646798254185395\n"
     ]
    }
   ],
   "source": [
    "print('MLE', diff_proportion(AccMLE[0], AccMLE[1]))\n",
    "print('KNN', diff_proportion(AccKNN[0], AccKNN[1]))\n",
    "print('Naive Bayes', diff_proportion(AccNB[0], AccNB[1]))"
   ]
  },
  {
   "cell_type": "markdown",
   "metadata": {},
   "source": [
    "**Summary**:\n",
    "\n",
    "(1)The DP preservation order is: Naive Bayes, KNN and MLE.\n",
    "\n",
    "(2)DP is basically violated by all three measures."
   ]
  },
  {
   "cell_type": "markdown",
   "metadata": {},
   "source": [
    "## Predictive Rate Parity"
   ]
  },
  {
   "cell_type": "code",
   "execution_count": 104,
   "metadata": {},
   "outputs": [
    {
     "name": "stderr",
     "output_type": "stream",
     "text": [
      "/Users/ZiyuanZhong/.virtualenvs/ml3.6/lib/python3.6/site-packages/ipykernel_launcher.py:20: FutureWarning: 'from_array' is deprecated and will be removed in a future version. Please use the pd.Series(..) constructor instead.\n"
     ]
    },
    {
     "data": {
      "image/png": "[encoded data removed]",
      "text/plain": [
       "<Figure size 864x576 with 1 Axes>"
      ]
     },
     "metadata": {
      "needs_background": "light"
     },
     "output_type": "display_data"
    }
   ],
   "source": [
    "AccMLE, AccKNN, AccNB = PPV(R)\n",
    "triplet = (AccMLE, AccKNN, AccNB)\n",
    "x_labels = ['MLE10', 'MLE11', 'KNN10', 'KNN11', 'NB10', 'NB11']\n",
    "title = 'Positive Predictive Value(PPV)'\n",
    "x_label = 'algorithm, Yhat, A'\n",
    "y_label = 'rate'\n",
    "plot_hist(triplet, x_labels, title, x_label, y_label)"
   ]
  },
  {
   "cell_type": "code",
   "execution_count": 105,
   "metadata": {},
   "outputs": [
    {
     "name": "stdout",
     "output_type": "stream",
     "text": [
      "MLE 0.0419411649598852\n",
      "KNN 0.05327304894829958\n",
      "Naive Bayes 0.021936873363300365\n"
     ]
    }
   ],
   "source": [
    "PPV_MLE = diff_proportion(AccMLE[0], AccMLE[1])\n",
    "PPV_KNN = diff_proportion(AccKNN[0], AccKNN[1])\n",
    "PPV_NB = diff_proportion(AccNB[0], AccNB[1])\n",
    "\n",
    "print('MLE', PPV_MLE)\n",
    "print('KNN', PPV_KNN)\n",
    "print('Naive Bayes', PPV_NB)"
   ]
  },
  {
   "cell_type": "code",
   "execution_count": 106,
   "metadata": {},
   "outputs": [
    {
     "name": "stderr",
     "output_type": "stream",
     "text": [
      "/Users/ZiyuanZhong/.virtualenvs/ml3.6/lib/python3.6/site-packages/ipykernel_launcher.py:21: FutureWarning: 'from_array' is deprecated and will be removed in a future version. Please use the pd.Series(..) constructor instead.\n"
     ]
    },
    {
     "data": {
      "image/png": "[encoded data removed]",
      "text/plain": [
       "<Figure size 864x576 with 1 Axes>"
      ]
     },
     "metadata": {
      "needs_background": "light"
     },
     "output_type": "display_data"
    }
   ],
   "source": [
    "AccMLE, AccKNN, AccNB = NPV(R)\n",
    "triplet = (AccMLE, AccKNN, AccNB)\n",
    "x_labels = ['MLE10', 'MLE11', 'KNN10', 'KNN11', 'NB10', 'NB11']\n",
    "title = 'Negative Predictive Value(PPV)'\n",
    "x_label = 'algorithm, Yhat, A'\n",
    "y_label = 'NPV'\n",
    "plot_hist(triplet, x_labels, title, x_label, y_label)"
   ]
  },
  {
   "cell_type": "code",
   "execution_count": 107,
   "metadata": {},
   "outputs": [
    {
     "name": "stdout",
     "output_type": "stream",
     "text": [
      "MLE 0.05191300773780808\n",
      "KNN 0.0457796741055062\n",
      "Naive Bayes 0.007177320626995384\n"
     ]
    }
   ],
   "source": [
    "NPV_MLE = diff_proportion(AccMLE[0], AccMLE[1])\n",
    "NPV_KNN = diff_proportion(AccKNN[0], AccKNN[1])\n",
    "NPV_NB = diff_proportion(AccNB[0], AccNB[1])\n",
    "\n",
    "print('MLE', NPV_MLE)\n",
    "print('KNN', NPV_KNN)\n",
    "print('Naive Bayes', NPV_NB)"
   ]
  },
  {
   "cell_type": "code",
   "execution_count": 109,
   "metadata": {},
   "outputs": [
    {
     "name": "stdout",
     "output_type": "stream",
     "text": [
      "MLE average 0.04692708634884664\n",
      "KNN average 0.04952636152690289\n",
      "Naive Bayes average 0.014557096995147874\n"
     ]
    }
   ],
   "source": [
    "# We take the average of PPV and NPV\n",
    "print('MLE average', (NPV_MLE+PPV_MLE)/2)\n",
    "print('KNN average', (NPV_KNN+PPV_KNN)/2)\n",
    "print('Naive Bayes average', (NPV_NB+PPV_NB)/2)"
   ]
  },
  {
   "cell_type": "markdown",
   "metadata": {},
   "source": [
    "**Summary**:\n",
    "\n",
    "(1)The PRP preservation order is: Naive Bayes, MLE and KNN.\n",
    "\n",
    "(2)Compared with the other two fairness definitions, Predictive Parity is preserved."
   ]
  },
  {
   "cell_type": "markdown",
   "metadata": {},
   "source": [
    "# If A is not used for training"
   ]
  },
  {
   "cell_type": "code",
   "execution_count": 8,
   "metadata": {},
   "outputs": [
    {
     "data": {
      "text/html": [
       "<div>\n",
       "<style scoped>\n",
       "    .dataframe tbody tr th:only-of-type {\n",
       "        vertical-align: middle;\n",
       "    }\n",
       "\n",
       "    .dataframe tbody tr th {\n",
       "        vertical-align: top;\n",
       "    }\n",
       "\n",
       "    .dataframe thead th {\n",
       "        text-align: right;\n",
       "    }\n",
       "</style>\n",
       "<table border=\"1\" class=\"dataframe\">\n",
       "  <thead>\n",
       "    <tr style=\"text-align: right;\">\n",
       "      <th></th>\n",
       "      <th>two_year_recid</th>\n",
       "      <th>sex</th>\n",
       "      <th>age</th>\n",
       "      <th>juv_fel_count</th>\n",
       "      <th>juv_misd_count</th>\n",
       "      <th>juv_other_count</th>\n",
       "      <th>priors_count</th>\n",
       "      <th>c_charge_degree_F</th>\n",
       "      <th>c_charge_degree_M</th>\n",
       "    </tr>\n",
       "  </thead>\n",
       "  <tbody>\n",
       "    <tr>\n",
       "      <th>0</th>\n",
       "      <td>0</td>\n",
       "      <td>1</td>\n",
       "      <td>64</td>\n",
       "      <td>0</td>\n",
       "      <td>0</td>\n",
       "      <td>0</td>\n",
       "      <td>13</td>\n",
       "      <td>0</td>\n",
       "      <td>1</td>\n",
       "    </tr>\n",
       "    <tr>\n",
       "      <th>1</th>\n",
       "      <td>0</td>\n",
       "      <td>1</td>\n",
       "      <td>28</td>\n",
       "      <td>0</td>\n",
       "      <td>0</td>\n",
       "      <td>0</td>\n",
       "      <td>1</td>\n",
       "      <td>1</td>\n",
       "      <td>0</td>\n",
       "    </tr>\n",
       "    <tr>\n",
       "      <th>2</th>\n",
       "      <td>0</td>\n",
       "      <td>1</td>\n",
       "      <td>32</td>\n",
       "      <td>0</td>\n",
       "      <td>0</td>\n",
       "      <td>0</td>\n",
       "      <td>1</td>\n",
       "      <td>1</td>\n",
       "      <td>0</td>\n",
       "    </tr>\n",
       "    <tr>\n",
       "      <th>3</th>\n",
       "      <td>1</td>\n",
       "      <td>1</td>\n",
       "      <td>20</td>\n",
       "      <td>0</td>\n",
       "      <td>1</td>\n",
       "      <td>1</td>\n",
       "      <td>2</td>\n",
       "      <td>1</td>\n",
       "      <td>0</td>\n",
       "    </tr>\n",
       "    <tr>\n",
       "      <th>4</th>\n",
       "      <td>0</td>\n",
       "      <td>1</td>\n",
       "      <td>43</td>\n",
       "      <td>0</td>\n",
       "      <td>0</td>\n",
       "      <td>0</td>\n",
       "      <td>8</td>\n",
       "      <td>1</td>\n",
       "      <td>0</td>\n",
       "    </tr>\n",
       "  </tbody>\n",
       "</table>\n",
       "</div>"
      ],
      "text/plain": [
       "   two_year_recid  sex  age  juv_fel_count  juv_misd_count  juv_other_count  \\\n",
       "0               0    1   64              0               0                0   \n",
       "1               0    1   28              0               0                0   \n",
       "2               0    1   32              0               0                0   \n",
       "3               1    1   20              0               1                1   \n",
       "4               0    1   43              0               0                0   \n",
       "\n",
       "   priors_count  c_charge_degree_F  c_charge_degree_M  \n",
       "0            13                  0                  1  \n",
       "1             1                  1                  0  \n",
       "2             1                  1                  0  \n",
       "3             2                  1                  0  \n",
       "4             8                  1                  0  "
      ]
     },
     "execution_count": 8,
     "metadata": {},
     "output_type": "execute_result"
    }
   ],
   "source": [
    "DTrain = pd.read_csv(\"propublicaTrain.csv\")\n",
    "DTest = pd.read_csv(\"propublicaTest.csv\")\n",
    "# Define a df to store result and plot\n",
    "R = pd.DataFrame.copy(DTest)\n",
    "\n",
    "DTrain = DTrain.drop(['race'], axis=1)\n",
    "DTest = DTest.drop(['race'], axis=1)\n",
    "\n",
    "# Show training data\n",
    "DTrain.head()"
   ]
  },
  {
   "cell_type": "markdown",
   "metadata": {},
   "source": [
    "## Accuracy"
   ]
  },
  {
   "cell_type": "code",
   "execution_count": 13,
   "metadata": {},
   "outputs": [
    {
     "name": "stdout",
     "output_type": "stream",
     "text": [
      "0 / 2000\n",
      "500 / 2000\n",
      "1000 / 2000\n",
      "1500 / 2000\n",
      "0 / 2000\n",
      "500 / 2000\n",
      "1000 / 2000\n",
      "1500 / 2000\n",
      "0 / 2000\n",
      "500 / 2000\n",
      "1000 / 2000\n",
      "1500 / 2000\n",
      "0 / 2000\n",
      "500 / 2000\n",
      "1000 / 2000\n",
      "1500 / 2000\n",
      "0 / 2000\n",
      "500 / 2000\n",
      "1000 / 2000\n",
      "1500 / 2000\n",
      "0 / 2000\n",
      "500 / 2000\n",
      "1000 / 2000\n",
      "1500 / 2000\n",
      "0 / 2000\n",
      "500 / 2000\n",
      "1000 / 2000\n",
      "1500 / 2000\n",
      "0 / 2000\n",
      "500 / 2000\n",
      "1000 / 2000\n",
      "1500 / 2000\n",
      "0 / 2000\n",
      "500 / 2000\n",
      "1000 / 2000\n",
      "1500 / 2000\n",
      "Uniform Accuracy of MLE:  0.618\n",
      "Uniform Accuracy of KNN with k=3 and linf norm:  0.631\n",
      "Uniform Accuracy of KNN with k=5 and linf norm:  0.6395\n",
      "Uniform Accuracy of KNN with k=7 and linf norm:  0.6465\n",
      "Uniform Accuracy of KNN with k=3 and l2 norm:  0.6335\n",
      "Uniform Accuracy of KNN with k=5 and l2 norm:  0.6475\n",
      "Uniform Accuracy of KNN with k=7 and l2 norm:  0.653\n",
      "Uniform Accuracy of KNN with k=3 and l1 norm:  0.6335\n",
      "Uniform Accuracy of KNN with k=5 and l1 norm:  0.6445\n",
      "Uniform Accuracy of KNN with k=7 and l1 norm:  0.652\n",
      "Uniform Accuracy of NB:  0.6825\n"
     ]
    }
   ],
   "source": [
    "R['MLE'] = MLE(DTrain, DTest)\n",
    "\n",
    "R['KNN_3_inf'] = KNN(DTrain, DTest, 3, np.inf)\n",
    "R['KNN_5_inf'] = KNN(DTrain, DTest, 5, np.inf)\n",
    "R['KNN_7_inf'] = KNN(DTrain, DTest, 7, np.inf)\n",
    "R['KNN_3_2'] = KNN(DTrain, DTest, 3, 2)\n",
    "R['KNN_5_2'] = KNN(DTrain, DTest, 5, 2)\n",
    "R['KNN_7_2'] = KNN(DTrain, DTest, 7, 2)\n",
    "R['KNN_3_1'] = KNN(DTrain, DTest, 3, 1)\n",
    "R['KNN_5_1'] = KNN(DTrain, DTest, 5, 1)\n",
    "R['KNN_7_1'] = KNN(DTrain, DTest, 7, 1)\n",
    "\n",
    "R['NB'] = NB(DTrain, DTest)\n",
    "\n",
    "print(\"Uniform Accuracy of MLE: \", np.sum(R.MLE==R.two_year_recid)/R.shape[0] )\n",
    "\n",
    "print(\"Uniform Accuracy of KNN with k=3 and linf norm: \", np.sum(R.KNN_3_inf==R.two_year_recid)/R.shape[0] )\n",
    "print(\"Uniform Accuracy of KNN with k=5 and linf norm: \", np.sum(R.KNN_5_inf==R.two_year_recid)/R.shape[0] )\n",
    "print(\"Uniform Accuracy of KNN with k=7 and linf norm: \", np.sum(R.KNN_7_inf==R.two_year_recid)/R.shape[0] )\n",
    "print(\"Uniform Accuracy of KNN with k=3 and l2 norm: \", np.sum(R.KNN_3_2==R.two_year_recid)/R.shape[0] )\n",
    "print(\"Uniform Accuracy of KNN with k=5 and l2 norm: \", np.sum(R.KNN_5_2==R.two_year_recid)/R.shape[0] )\n",
    "print(\"Uniform Accuracy of KNN with k=7 and l2 norm: \", np.sum(R.KNN_7_2==R.two_year_recid)/R.shape[0] )\n",
    "print(\"Uniform Accuracy of KNN with k=3 and l1 norm: \", np.sum(R.KNN_3_1==R.two_year_recid)/R.shape[0] )\n",
    "print(\"Uniform Accuracy of KNN with k=5 and l1 norm: \", np.sum(R.KNN_5_1==R.two_year_recid)/R.shape[0] )\n",
    "print(\"Uniform Accuracy of KNN with k=7 and l1 norm: \", np.sum(R.KNN_7_1==R.two_year_recid)/R.shape[0] )\n",
    "\n",
    "print(\"Uniform Accuracy of NB: \", np.sum(R.NB==R.two_year_recid)/R.shape[0] )"
   ]
  },
  {
   "cell_type": "code",
   "execution_count": 15,
   "metadata": {},
   "outputs": [],
   "source": [
    "R['KNN'] = R['KNN_7_2']"
   ]
  },
  {
   "cell_type": "code",
   "execution_count": 38,
   "metadata": {},
   "outputs": [
    {
     "name": "stderr",
     "output_type": "stream",
     "text": [
      "/Users/ZiyuanZhong/.virtualenvs/ml3.6/lib/python3.6/site-packages/ipykernel_launcher.py:44: FutureWarning: 'from_array' is deprecated and will be removed in a future version. Please use the pd.Series(..) constructor instead.\n"
     ]
    },
    {
     "data": {
      "image/png": "[encoded data removed]",
      "text/plain": [
       "<Figure size 864x576 with 1 Axes>"
      ]
     },
     "metadata": {
      "needs_background": "light"
     },
     "output_type": "display_data"
    }
   ],
   "source": [
    "AccMLE, AccKNN, AccNB = EO(R)\n",
    "triplet = (AccMLE, AccKNN, AccNB)\n",
    "x_labels = ['MLE00', 'MLE01', 'MLE10', 'MLE11', 'KNN00', 'KNN01', 'KNN10', 'KNN11', 'NB00', 'NB01', 'NB10', 'NB11']\n",
    "title = 'Equalized Odds(EO)'\n",
    "x_label = 'algorithm, Yhat, A'\n",
    "y_label = 'rate'\n",
    "plot_hist(triplet, x_labels, title, x_label, y_label)"
   ]
  },
  {
   "cell_type": "code",
   "execution_count": 39,
   "metadata": {},
   "outputs": [
    {
     "name": "stderr",
     "output_type": "stream",
     "text": [
      "/Users/ZiyuanZhong/.virtualenvs/ml3.6/lib/python3.6/site-packages/ipykernel_launcher.py:44: FutureWarning: 'from_array' is deprecated and will be removed in a future version. Please use the pd.Series(..) constructor instead.\n"
     ]
    },
    {
     "data": {
      "image/png": "[encoded data removed]",
      "text/plain": [
       "<Figure size 864x576 with 1 Axes>"
      ]
     },
     "metadata": {
      "needs_background": "light"
     },
     "output_type": "display_data"
    }
   ],
   "source": [
    "AccMLE, AccKNN, AccNB = DP(R)\n",
    "triplet = (AccMLE, AccKNN, AccNB)\n",
    "x_labels = ['MLE_0', 'MLE_1', 'KNN_0', 'KNN_1', 'NB_0', 'NB_1']\n",
    "title = 'Demographic Parity(DP)'\n",
    "x_label = 'algorithm, Yhat, A'\n",
    "y_label = 'rate'\n",
    "plot_hist(triplet, x_labels, title, x_label, y_label)"
   ]
  },
  {
   "cell_type": "code",
   "execution_count": 40,
   "metadata": {},
   "outputs": [
    {
     "name": "stdout",
     "output_type": "stream",
     "text": [
      "MLE 0.3328805976111533\n",
      "KNN 0.2330595324323075\n",
      "Naive Bayes 0.21716133560613657\n"
     ]
    }
   ],
   "source": [
    "print('MLE', diff_proportion(AccMLE[0], AccMLE[1]))\n",
    "print('KNN', diff_proportion(AccKNN[0], AccKNN[1]))\n",
    "print('Naive Bayes', diff_proportion(AccNB[0], AccNB[1]))"
   ]
  },
  {
   "cell_type": "code",
   "execution_count": 41,
   "metadata": {},
   "outputs": [
    {
     "name": "stderr",
     "output_type": "stream",
     "text": [
      "/Users/ZiyuanZhong/.virtualenvs/ml3.6/lib/python3.6/site-packages/ipykernel_launcher.py:44: FutureWarning: 'from_array' is deprecated and will be removed in a future version. Please use the pd.Series(..) constructor instead.\n"
     ]
    },
    {
     "data": {
      "image/png": "[encoded data removed]",
      "text/plain": [
       "<Figure size 864x576 with 1 Axes>"
      ]
     },
     "metadata": {
      "needs_background": "light"
     },
     "output_type": "display_data"
    }
   ],
   "source": [
    "AccMLE, AccKNN, AccNB = PPV(R)\n",
    "triplet = (AccMLE, AccKNN, AccNB)\n",
    "x_labels = ['MLE10', 'MLE11', 'KNN10', 'KNN11', 'NB10', 'NB11']\n",
    "title = 'Positive Predictive Value(PPV)'\n",
    "x_label = 'algorithm, Yhat, A'\n",
    "y_label = 'rate'\n",
    "plot_hist(triplet, x_labels, title, x_label, y_label)"
   ]
  },
  {
   "cell_type": "code",
   "execution_count": 42,
   "metadata": {},
   "outputs": [
    {
     "name": "stdout",
     "output_type": "stream",
     "text": [
      "MLE 0.05633802816901411\n",
      "KNN 0.032557942997190045\n",
      "Naive Bayes 0.05729705700532749\n"
     ]
    }
   ],
   "source": [
    "PPV_MLE = diff_proportion(AccMLE[0], AccMLE[1])\n",
    "PPV_KNN = diff_proportion(AccKNN[0], AccKNN[1])\n",
    "PPV_NB = diff_proportion(AccNB[0], AccNB[1])\n",
    "\n",
    "print('MLE', PPV_MLE)\n",
    "print('KNN', PPV_KNN)\n",
    "print('Naive Bayes', PPV_NB)"
   ]
  },
  {
   "cell_type": "code",
   "execution_count": 43,
   "metadata": {},
   "outputs": [
    {
     "name": "stderr",
     "output_type": "stream",
     "text": [
      "/Users/ZiyuanZhong/.virtualenvs/ml3.6/lib/python3.6/site-packages/ipykernel_launcher.py:44: FutureWarning: 'from_array' is deprecated and will be removed in a future version. Please use the pd.Series(..) constructor instead.\n"
     ]
    },
    {
     "data": {
      "image/png": "[encoded data removed]",
      "text/plain": [
       "<Figure size 864x576 with 1 Axes>"
      ]
     },
     "metadata": {
      "needs_background": "light"
     },
     "output_type": "display_data"
    }
   ],
   "source": [
    "AccMLE, AccKNN, AccNB = NPV(R)\n",
    "triplet = (AccMLE, AccKNN, AccNB)\n",
    "x_labels = ['MLE10', 'MLE11', 'KNN10', 'KNN11', 'NB10', 'NB11']\n",
    "title = 'Negative Predictive Value(PPV)'\n",
    "x_label = 'algorithm, Yhat, A'\n",
    "y_label = 'NPV'\n",
    "plot_hist(triplet, x_labels, title, x_label, y_label)"
   ]
  },
  {
   "cell_type": "code",
   "execution_count": 44,
   "metadata": {},
   "outputs": [
    {
     "name": "stdout",
     "output_type": "stream",
     "text": [
      "MLE 0.051224939017929676\n",
      "KNN 0.04019851463033283\n",
      "Naive Bayes 0.012306080771089075\n"
     ]
    }
   ],
   "source": [
    "NPV_MLE = diff_proportion(AccMLE[0], AccMLE[1])\n",
    "NPV_KNN = diff_proportion(AccKNN[0], AccKNN[1])\n",
    "NPV_NB = diff_proportion(AccNB[0], AccNB[1])\n",
    "\n",
    "print('MLE', NPV_MLE)\n",
    "print('KNN', NPV_KNN)\n",
    "print('Naive Bayes', NPV_NB)"
   ]
  },
  {
   "cell_type": "code",
   "execution_count": 45,
   "metadata": {},
   "outputs": [
    {
     "name": "stdout",
     "output_type": "stream",
     "text": [
      "MLE average 0.05378148359347189\n",
      "KNN average 0.03637822881376144\n",
      "Naive Bayes average 0.03480156888820828\n"
     ]
    }
   ],
   "source": [
    "# We take the average of PPV and NPV\n",
    "print('MLE average', (NPV_MLE+PPV_MLE)/2)\n",
    "print('KNN average', (NPV_KNN+PPV_KNN)/2)\n",
    "print('Naive Bayes average', (NPV_NB+PPV_NB)/2)"
   ]
  },
  {
   "cell_type": "markdown",
   "metadata": {},
   "source": [
    "**Discussion**\n",
    "\n",
    "1.The order of the three classifiers does not change overall(except in PPV).\n",
    "\n",
    "2.Removing sensitive feature in the training set is not enough for preserving fairness."
   ]
  },
  {
   "cell_type": "code",
   "execution_count": null,
   "metadata": {},
   "outputs": [],
   "source": []
  }
 ],
 "metadata": {
  "kernelspec": {
   "display_name": "Python 3",
   "language": "python",
   "name": "python3"
  },
  "language_info": {
   "codemirror_mode": {
    "name": "ipython",
    "version": 3
   },
   "file_extension": ".py",
   "mimetype": "text/x-python",
   "name": "python",
   "nbconvert_exporter": "python",
   "pygments_lexer": "ipython3",
   "version": "3.7.1"
  }
 },
 "nbformat": 4,
 "nbformat_minor": 2
}
