{
 "cells": [
  {
   "cell_type": "markdown",
   "metadata": {},
   "source": [
    "# Getting and preparing the data\n",
    "\n"
   ]
  },
  {
   "cell_type": "markdown",
   "metadata": {},
   "source": [
    "This is a modified notebook from the original fairlearn package notebook on postprocessing. This works for both Compas and Adult."
   ]
  },
  {
   "cell_type": "code",
   "execution_count": 1,
   "metadata": {},
   "outputs": [],
   "source": [
    "import pandas as pd\n",
    "import numpy as np\n",
    "\n",
    "dataset_used = 'compas'\n",
    "\n",
    "if(dataset_used == 'compas'):\n",
    "    compas_train = pd.read_csv('./../../data/compas_train.csv')\n",
    "    compas_val = pd.read_csv('./../../data/compas_val.csv')\n",
    "    compas_test = pd.read_csv('./../../data/compas_test.csv')\n",
    "\n",
    "    y_train = compas_train.pop('two_year_recid') \n",
    "    y_test = compas_test.pop('two_year_recid')\n",
    "    sensitive_features_train = compas_train['race'] \n",
    "    sensitive_features_test = compas_test['race']\n",
    "    X_train = compas_train\n",
    "    X_test = compas_test\n",
    "    \n",
    "    sensitive_features_train = sensitive_features_train.replace(0, 'African-American')\n",
    "    sensitive_features_train = sensitive_features_train.replace(1, 'Caucasian')\n",
    "    sensitive_features_test = sensitive_features_test.replace(0, 'African-American')\n",
    "    sensitive_features_test = sensitive_features_test.replace(1, 'Caucasian')\n",
    "    \n",
    "elif(dataset_used == 'adult'):\n",
    "    adult_train = pd.read_csv('./../../data/adult_train.csv')\n",
    "    adult_val = pd.read_csv('./../../data/adult_val.csv')\n",
    "    adult_test = pd.read_csv('./../../data/adult_test.csv')\n",
    "\n",
    "    y_train = adult_train.pop('Income Binary') \n",
    "    y_test = adult_test.pop('Income Binary')\n",
    "    sensitive_features_train = adult_train['sex']\n",
    "    sensitive_features_test = adult_test['sex']\n",
    "    X_train = adult_train\n",
    "    X_test = adult_test\n",
    "    \n",
    "    sensitive_features_train = sensitive_features_train.replace(0, 'Female')\n",
    "    sensitive_features_train = sensitive_features_train.replace(1, 'Male')\n",
    "    sensitive_features_test = sensitive_features_test.replace(0, 'Female')\n",
    "    sensitive_features_test = sensitive_features_test.replace(1, 'Male')\n",
    "    \n",
    "else:\n",
    "    print('Invalid dataset_used variable.')"
   ]
  },
  {
   "cell_type": "code",
   "execution_count": 2,
   "metadata": {},
   "outputs": [
    {
     "data": {
      "text/plain": [
       "(Unnamed: 0                  7796.0\n",
       " sex                            0.0\n",
       " race                           0.0\n",
       " age_cat=25 to 45               1.0\n",
       " age_cat=Greater than 45        0.0\n",
       " age_cat=Less than 25           0.0\n",
       " priors_count=0                 0.0\n",
       " priors_count=1 to 3            1.0\n",
       " priors_count=More than 3       0.0\n",
       " c_charge_degree=F              1.0\n",
       " c_charge_degree=M              0.0\n",
       " Name: 0, dtype: float64,\n",
       " 1.0)"
      ]
     },
     "execution_count": 2,
     "metadata": {},
     "output_type": "execute_result"
    }
   ],
   "source": [
    "X_train.loc[0], y_train[0]"
   ]
  },
  {
   "cell_type": "markdown",
   "metadata": {},
   "source": [
    "# Create a fairness-unaware model"
   ]
  },
  {
   "cell_type": "markdown",
   "metadata": {},
   "source": [
    "First we set up a helper function that will help in analyzing the dataset as well as predictions from our models. Feel free to skip to the next cell for the actual logic.\n",
    "\n",
    "*Note:* The 'recidivism' variables are, more generally, just the positive outcome variables."
   ]
  },
  {
   "cell_type": "code",
   "execution_count": 3,
   "metadata": {},
   "outputs": [],
   "source": [
    "%matplotlib inline\n",
    "\n",
    "import matplotlib.pyplot as plt\n",
    "import matplotlib.cm as cm\n",
    "\n",
    "# show_proportions is only a helper function for plotting\n",
    "def show_proportions(X, sensitive_features, y_pred, dataset, y=None, description=None, plot_row_index=1):\n",
    "    print(\"\\n\" + description)\n",
    "    plt.figure(plot_row_index)\n",
    "    plt.title(description)\n",
    "    positive_outcome = 'recidivism' if dataset=='compas' else 'income>50k'\n",
    "    plt.ylabel(\"P[{} predicted | conditions]\".format(positive_outcome))\n",
    "    \n",
    "    indices = {}\n",
    "    positive_indices = {}\n",
    "    negative_indices = {}\n",
    "    recidivism_count = {}\n",
    "    recidivism_pct = {}\n",
    "    groups = np.unique(sensitive_features.values)\n",
    "    n_groups = len(groups)\n",
    "    max_group_length = max([len(group) for group in groups])\n",
    "    color = cm.rainbow(np.linspace(0,1,n_groups))\n",
    "    x_tick_labels_basic = []\n",
    "    x_tick_labels_by_label = []\n",
    "    for index, group in enumerate(groups):\n",
    "        indices[group] = sensitive_features.index[sensitive_features == group]\n",
    "        recidivism_count[group] = sum(y_pred[indices[group]])\n",
    "        recidivism_pct[group] = recidivism_count[group]/len(indices[group])\n",
    "        print(\"P[{} predicted | {}]                {}= {}\".format(positive_outcome, group, \" \"*(max_group_length-len(group)), recidivism_pct[group]))\n",
    "    \n",
    "        plt.bar(index + 1, recidivism_pct[group], color=color[index])\n",
    "        x_tick_labels_basic.append(group)\n",
    "    \n",
    "        if y is not None:\n",
    "            positive_indices[group] = sensitive_features.index[(sensitive_features == group) & (y == 1)]\n",
    "            negative_indices[group] = sensitive_features.index[(sensitive_features == group) & (y == 0)]\n",
    "            prob_1 = sum(y_pred[positive_indices[group]])/len(positive_indices[group])\n",
    "            prob_0 = sum(y_pred[negative_indices[group]])/len(negative_indices[group])\n",
    "            print(\"P[{} predicted | {}, recidivism]    {}= {}\".format(positive_outcome, group, \" \"*(max_group_length-len(group)) , prob_1))\n",
    "            print(\"P[{} predicted | {}, no recidivism] {}= {}\".format(positive_outcome, group, \" \"*(max_group_length-len(group)), prob_0))\n",
    "\n",
    "            plt.bar(n_groups + 1 + 2 * index, prob_1, color=color[index])\n",
    "            plt.bar(n_groups + 2 + 2 * index, prob_0, color=color[index])\n",
    "            x_tick_labels_by_label.extend([\"{} {}\".format(group, positive_outcome), \"{} no {}\".format(group, positive_outcome)])\n",
    "    \n",
    "    x_tick_labels = x_tick_labels_basic + x_tick_labels_by_label\n",
    "    plt.xticks(range(1, len(x_tick_labels)+1), x_tick_labels, rotation=45, horizontalalignment=\"right\")"
   ]
  },
  {
   "cell_type": "markdown",
   "metadata": {},
   "source": [
    "To get started we look at a very basic Logistic Regression model. We fit it to the training data and plot some characteristics of training and test data as well as the predictions of the model on those datasets.\n",
    "\n",
    "We notice a stark contrast in the predictions with African-Americans being a lot more likely to be predicted to reoffend, similar to the original training data. However, there's even a disparity between the subgroup of African-Americans and Caucasians with recidivism. When considering only the samples labeled with \"no recidivism\" African-Americans are much more likely to be predicted to reoffend than Caucasians. The test data shows a similar disparity."
   ]
  },
  {
   "cell_type": "code",
   "execution_count": 4,
   "metadata": {
    "scrolled": false
   },
   "outputs": [
    {
     "name": "stdout",
     "output_type": "stream",
     "text": [
      "\n",
      "original test data:\n",
      "P[recidivism predicted | African-American]                = 0.5648148148148148\n",
      "P[recidivism predicted | Caucasian]                       = 0.39705882352941174\n",
      "\n",
      "fairness-unaware prediction on test data:\n",
      "P[recidivism predicted | African-American]                = 0.6172839506172839\n",
      "P[recidivism predicted | African-American, recidivism]    = 0.7814207650273224\n",
      "P[recidivism predicted | African-American, no recidivism] = 0.40425531914893614\n",
      "P[recidivism predicted | Caucasian]                       = 0.21568627450980393\n",
      "P[recidivism predicted | Caucasian, recidivism]           = 0.3333333333333333\n",
      "P[recidivism predicted | Caucasian, no recidivism]        = 0.13821138211382114\n"
     ]
    },
    {
     "data": {
      "image/png": "[encoded data removed]",
      "text/plain": [
       "<Figure size 432x288 with 1 Axes>"
      ]
     },
     "metadata": {
      "needs_background": "light"
     },
     "output_type": "display_data"
    },
    {
     "data": {
      "image/png": "[encoded data removed]",
      "text/plain": [
       "<Figure size 432x288 with 1 Axes>"
      ]
     },
     "metadata": {
      "needs_background": "light"
     },
     "output_type": "display_data"
    }
   ],
   "source": [
    "from sklearn.linear_model import LogisticRegression\n",
    "\n",
    "unconstrained_predictor = LogisticRegression(class_weight='balanced')\n",
    "unconstrained_predictor.fit(X_train, y_train)\n",
    "    \n",
    "# print and plot data from training and test set as well as predictions with fairness-unaware classifier on both sets \n",
    "# show only test data related plots by default - uncomment the next two lines to see training data plots as well\n",
    "# show_proportions(X_train, sensitive_features_train, y_train, description=\"original training data:\", plot_row_index=1)\n",
    "# show_proportions(X_train, sensitive_features_train, unconstrained_predictor.predict(X_train), y_train, description=\"fairness-unaware prediction on training data:\", plot_row_index=2)\n",
    "show_proportions(X_test, sensitive_features_test, y_test, dataset_used, description=\"original test data:\", plot_row_index=3)\n",
    "show_proportions(X_test, sensitive_features_test, unconstrained_predictor.predict(X_test), dataset_used, y_test, description=\"fairness-unaware prediction on test data:\", plot_row_index=4)\n",
    "plt.show()"
   ]
  },
  {
   "cell_type": "markdown",
   "metadata": {},
   "source": [
    "### Export Fairness-Unaware Dataframe for Future Comparison\n",
    "We export the fairness unaware results to compare later."
   ]
  },
  {
   "cell_type": "code",
   "execution_count": 5,
   "metadata": {},
   "outputs": [],
   "source": [
    "fairness_unaware_df = X_test.copy()\n",
    "fairness_unaware_df['predictions'] = unconstrained_predictor.predict(X_test)\n",
    "\n",
    "if(dataset_used == 'adult'):\n",
    "    fairness_unaware_df['Income Binary'] = y_test\n",
    "elif(dataset_used == 'compas'):\n",
    "    fairness_unaware_df['two_year_recid'] = y_test\n",
    "\n",
    "if(dataset_used == 'adult'):\n",
    "    fairness_unaware_df.to_csv('./../../predicted_data/unfair_logreg_adult.csv')\n",
    "if(dataset_used == 'compas'):\n",
    "    fairness_unaware_df.to_csv('./../../predicted_data/unfair_logreg_compas.csv')"
   ]
  },
  {
   "cell_type": "code",
   "execution_count": 6,
   "metadata": {},
   "outputs": [],
   "source": [
    "from joblib import dump, load\n",
    "if(dataset_used == 'adult'):\n",
    "    dump(unconstrained_predictor, './../../predicted_data/unfair_models/unfair_logreg_adult.joblib')\n",
    "if(dataset_used == 'compas'):\n",
    "    dump(unconstrained_predictor, './../../predicted_data/unfair_models/unfair_logreg_compas.joblib')"
   ]
  },
  {
   "cell_type": "markdown",
   "metadata": {},
   "source": [
    "# Postprocessing the model to get a fair model"
   ]
  },
  {
   "cell_type": "markdown",
   "metadata": {},
   "source": [
    "The idea behind postprocessing is to alter the output of the fairness-unaware model to achieve fairness. The postprocessing algorithm requires three input arguments:\n",
    "- the matrix of samples X\n",
    "- the vector of predictions y from the fairness-unaware model \n",
    "- the vector of group attribute values A (in the code we refer to it as `sensitive_features`)\n",
    "\n",
    "The goal is to make the output fair with respect to constraints. The postprocessing algorithm uses one of\n",
    "- Demographic Parity (DP): $P\\ [\\ h(X)=\\hat{y}\\ |\\ A=a] = P\\ [\\ h(X)=\\hat{y}\\ ] \\qquad \\forall a, \\hat{y}$\n",
    "- Equalized Odds (EO): $P\\ [\\ h(X)=\\hat{y}\\ |\\ A=a, Y=y] = P\\ [\\ h(X)=\\hat{y}\\ |\\ Y=y\\ ] \\qquad \\forall a, \\hat{y}$\n",
    "\n",
    "where $h(X)$ is the prediction based on the input $X$, $\\hat{y}$ and $y$ are labels, and $a$ is a sensitive feature value. In this example, we'd expect the postprocessed model with DP to be balanced between races. In this particular scenario it makes more sense to aim at fairness through accuracy like EO. EO does not make the same guarantees. Instead, it ensures parity between the subgroups of each race with label 1 in the training set, and parity between the subgroups of each race with label 0 in the training set. Applied to this scenario, this means that the subgroups of each race who reoffended in the past are equally likely to be predicted to reoffend (and therefore also equally likely not to). Similarly, there is parity between subgroups of each race without recidivism, but we have no parity between the groups with different training labels. In mathematical terms at the example of African-American and Caucasian:\n",
    "\n",
    "$$\n",
    "P\\ [\\ \\text{recidivism predicted}\\ |\\ \\text{African-American, recidivism}\\ ] = P\\ [\\ \\text{recidivism predicted}\\ |\\ \\text{Caucasian, recidivism}\\ ], \\text{e.g. } 0.95\\\\\n",
    "P\\ [\\ \\text{recidivism predicted}\\ |\\ \\text{African-American, no recidivism}\\ ] = P\\ [\\ \\text{recidivism predicted}\\ |\\ \\text{Caucasian, no recidivism}\\ ], \\text{e.g. } 0.15\n",
    "$$\n",
    "\n",
    "but that also means that African-Americans (and Caucasians) of different subgroup based on training labels don't necessarily have parity:\n",
    "\n",
    "$$\n",
    "P[\\text{recidivism predicted} | \\text{African-American, recidivism}] = 0.95 \\neq 0.15 = P[\\text{recidivism predicted} | \\text{African-American, no recidivism}]\n",
    "$$\n",
    "\n",
    "Assessing which disparity metric is indeed fair varies by application scenario. In this case the evaluation focuses on Equalized Odds, because the recidivism prediction should be accurate for each race, and for each subgroup within. The plot for the training data shows the intended outcome, while the plot for the test data exhibits slight variation which is likely due to randomized predictions as well as a slightly different data distribution."
   ]
  },
  {
   "cell_type": "code",
   "execution_count": 7,
   "metadata": {},
   "outputs": [],
   "source": [
    "# This wrapper around the unconstrained estimator serves the purpose of mapping the predict\n",
    "# method to predict_proba so that we can use real values to get more accurate estimates.\n",
    "class LogisticRegressionAsRegression:\n",
    "    def __init__(self, logistic_regression_estimator):\n",
    "        self.logistic_regression_estimator = logistic_regression_estimator\n",
    "    \n",
    "    def fit(self, X, y):\n",
    "        self.logistic_regression_estimator.fit(X, y)\n",
    "    \n",
    "    def predict(self, X):\n",
    "        # use predict_proba to get real values instead of 0/1, select only prob for 1\n",
    "        scores = self.logistic_regression_estimator.predict_proba(X)[:,1]\n",
    "        return scores"
   ]
  },
  {
   "cell_type": "code",
   "execution_count": 8,
   "metadata": {},
   "outputs": [
    {
     "name": "stdout",
     "output_type": "stream",
     "text": [
      "\n",
      "equalized odds with postprocessed model on test data:\n",
      "P[recidivism predicted | African-American]                = 0.49382716049382713\n",
      "P[recidivism predicted | African-American, recidivism]    = 0.6120218579234973\n",
      "P[recidivism predicted | African-American, no recidivism] = 0.3404255319148936\n",
      "P[recidivism predicted | Caucasian]                       = 0.4166666666666667\n",
      "P[recidivism predicted | Caucasian, recidivism]           = 0.5555555555555556\n",
      "P[recidivism predicted | Caucasian, no recidivism]        = 0.3252032520325203\n"
     ]
    },
    {
     "data": {
      "image/png": "[encoded data removed]",
      "text/plain": [
       "<Figure size 432x288 with 1 Axes>"
      ]
     },
     "metadata": {
      "needs_background": "light"
     },
     "output_type": "display_data"
    }
   ],
   "source": [
    "from fairlearn.postprocessing import ThresholdOptimizer\n",
    "from copy import deepcopy\n",
    "\n",
    "constraint_used = 'eo' # dp, eo\n",
    "constraint_name = ''\n",
    "if(constraint_used == 'dp'):\n",
    "    constraint_name = 'demographic_parity'\n",
    "elif(constraint_used == 'eo'):\n",
    "    constraint_name = 'equalized_odds'\n",
    "\n",
    "unconstrained_predictor_wrapper = LogisticRegressionAsRegression(unconstrained_predictor)\n",
    "postprocessed_predictor = ThresholdOptimizer(\n",
    "    unconstrained_predictor=unconstrained_predictor_wrapper,\n",
    "    constraints=constraint_name)\n",
    "\n",
    "postprocessed_predictor.fit(X_train, y_train, sensitive_features=sensitive_features_train)\n",
    "\n",
    "fairness_aware_predictions_train = postprocessed_predictor.predict(X_train, sensitive_features=sensitive_features_train)\n",
    "fairness_aware_predictions_test = postprocessed_predictor.predict(X_test, sensitive_features=sensitive_features_test)\n",
    "\n",
    "# show only test data related plot by default - uncomment the next line to see training data plot as well\n",
    "# show_proportions(X_train, sensitive_features_train, fairness_aware_predictions_EO_train, y_train, description=\"equalized odds with postprocessed model on training data:\", plot_row_index=1)\n",
    "show_proportions(X_test, sensitive_features_test, fairness_aware_predictions_test, dataset_used, y_test, description=\"equalized odds with postprocessed model on test data:\", plot_row_index=2)\n",
    "plt.show()"
   ]
  },
  {
   "cell_type": "code",
   "execution_count": 12,
   "metadata": {},
   "outputs": [
    {
     "data": {
      "text/plain": [
       "0.6306818181818182"
      ]
     },
     "execution_count": 12,
     "metadata": {},
     "output_type": "execute_result"
    }
   ],
   "source": [
    "from sklearn.metrics import accuracy_score\n",
    "# Accuracy\n",
    "accuracy_score(fairness_aware_predictions_test, y_test)"
   ]
  },
  {
   "cell_type": "markdown",
   "metadata": {},
   "source": [
    "# Export Predicted DF"
   ]
  },
  {
   "cell_type": "code",
   "execution_count": 9,
   "metadata": {},
   "outputs": [],
   "source": [
    "assert(len(X_test) == len(fairness_aware_predictions_test))\n",
    "X_test['predictions'] = fairness_aware_predictions_test\n",
    "\n",
    "if(dataset_used == 'adult'):\n",
    "    X_test['Income Binary'] = y_test\n",
    "elif(dataset_used == 'compas'):\n",
    "    X_test['two_year_recid'] = y_test\n",
    "    \n",
    "X_test.head(5)\n",
    "X_test.to_csv('./../../predicted_data/postprocessing/postprocessing_logreg_{}_{}.csv'.format(\n",
    "    dataset_used, constraint_used))"
   ]
  },
  {
   "cell_type": "markdown",
   "metadata": {},
   "source": [
    "## Export Model"
   ]
  },
  {
   "cell_type": "code",
   "execution_count": 10,
   "metadata": {},
   "outputs": [],
   "source": [
    "from joblib import dump, load\n",
    "if(dataset_used == 'adult'):\n",
    "    dump(postprocessed_predictor, './../../predicted_data/fair_models/postprocessing_logreg_adult.joblib')\n",
    "if(dataset_used == 'compas'):\n",
    "    dump(postprocessed_predictor, './../../predicted_data/fair_models/postprocessing_logreg_compas.joblib')"
   ]
  }
 ],
 "metadata": {
  "file_extension": ".py",
  "kernelspec": {
   "display_name": "Python 3",
   "language": "python",
   "name": "python3"
  },
  "language_info": {
   "codemirror_mode": {
    "name": "ipython",
    "version": 3
   },
   "file_extension": ".py",
   "mimetype": "text/x-python",
   "name": "python",
   "nbconvert_exporter": "python",
   "pygments_lexer": "ipython3",
   "version": "3.7.3"
  },
  "mimetype": "text/x-python",
  "name": "python",
  "npconvert_exporter": "python",
  "pygments_lexer": "ipython3",
  "version": 3
 },
 "nbformat": 4,
 "nbformat_minor": 2
}
