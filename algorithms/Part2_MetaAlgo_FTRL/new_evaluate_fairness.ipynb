{
 "cells": [
  {
   "cell_type": "code",
   "execution_count": 2,
   "metadata": {},
   "outputs": [],
   "source": [
    "import pandas as pd\n",
    "import numpy as np"
   ]
  },
  {
   "cell_type": "code",
   "execution_count": 4,
   "metadata": {},
   "outputs": [],
   "source": [
    "compas_train = pd.read_csv('./data/compas_train_normalized.csv')\n",
    "compas_val = pd.read_csv('./data/compas_val.csv')\n",
    "compas_test = pd.read_csv('./data/compas_test.csv')\n",
    "\n",
    "y_train = compas_train.pop('two_year_recid') \n",
    "y_test = compas_test.pop('two_year_recid')\n",
    "sensitive_features_train = compas_train['race']\n",
    "sensitive_features_test = compas_test['race']\n",
    "X_train = compas_train\n",
    "X_test = compas_test\n",
    "\n",
    "sensitive_features_train = sensitive_features_train.replace(0, 'African-American')\n",
    "sensitive_features_train = sensitive_features_train.replace(1, 'Caucasian')\n",
    "sensitive_features_test = sensitive_features_test.replace(0, 'African-American')\n",
    "sensitive_features_test = sensitive_features_test.replace(1, 'Caucasian')"
   ]
  },
  {
   "cell_type": "code",
   "execution_count": 9,
   "metadata": {},
   "outputs": [],
   "source": [
    "n = len(sensitive_features_test)\n",
    "y_pred = np.ones(n)\n",
    "y_pred[:200] = 0"
   ]
  },
  {
   "cell_type": "code",
   "execution_count": 54,
   "metadata": {},
   "outputs": [],
   "source": [
    "def evaluate_fairness(y_true, y_pred, sensitive_features):\n",
    "        \"\"\"\n",
    "        Evaluates fairness of the final majority vote classifier over T_inner hypotheses\n",
    "        on the test set.\n",
    "        #NOTE: defined in the meta_algo file, but we chose:\n",
    "        a0 := African-American (COMPAS), Female (Adult)\n",
    "        a1 := Caucasian (COMPAS), Male (Adult)\n",
    "\n",
    "        :return: list. subgroups in sensitive_features.\n",
    "        :return: dict. recidivism_pct for each group.\n",
    "        \"\"\"\n",
    "        groups = np.unique(sensitive_features.values)\n",
    "        pos_count = {}\n",
    "        dp_pct = {}\n",
    "        eo_y0_pct = {}\n",
    "        eo_y1_pct = {}\n",
    "        \n",
    "        for index, group in enumerate(groups):\n",
    "            # Demographic Parity\n",
    "            indices = {}\n",
    "            indices[group] = sensitive_features.index[sensitive_features == group]\n",
    "            dp_pct[group] = sum(y_pred[indices[group]])/len(indices[group])\n",
    "\n",
    "            # Equalized Odds\n",
    "            y1_indices = {}\n",
    "            y0_indices = {}\n",
    "            y1_indices[group] = sensitive_features.index[(sensitive_features == group) & (y_true == 1)]\n",
    "            y0_indices[group] = sensitive_features.index[(sensitive_features == group) & (y_true == 0)]\n",
    "            eo_y0_pct[group] = sum(y_pred[y0_indices[group]])/len(y0_indices[group])   \n",
    "            eo_y1_pct[group] = sum(y_pred[y1_indices[group]])/len(y1_indices[group])\n",
    "        \n",
    "        gaps = {}\n",
    "        group_metrics = {} # a dictionary of dictionaries\n",
    "\n",
    "        gaps['dp'] = abs(dp_pct[groups[0]] - dp_pct[groups[1]])\n",
    "        gaps['eo_y0'] = abs(eo_y0_pct[groups[0]] - eo_y0_pct[groups[1]])\n",
    "        gaps['eo_y1'] = abs(eo_y1_pct[groups[0]] - eo_y1_pct[groups[1]])\n",
    "        group_metrics['dp'] = dp_pct\n",
    "        group_metrics['eo_y0'] = eo_y0_pct\n",
    "        group_metrics['eo_y1'] = eo_y1_pct\n",
    "        \n",
    "        return groups, group_metrics, gaps"
   ]
  },
  {
   "cell_type": "code",
   "execution_count": 53,
   "metadata": {},
   "outputs": [
    {
     "data": {
      "text/plain": [
       "(array(['African-American', 'Caucasian'], dtype=object),\n",
       " {'dp': {'African-American': 0.6080246913580247,\n",
       "   'Caucasian': 0.6421568627450981},\n",
       "  'eo_y0': {'African-American': 0.6595744680851063,\n",
       "   'Caucasian': 0.6585365853658537},\n",
       "  'eo_y1': {'African-American': 0.5683060109289617,\n",
       "   'Caucasian': 0.6172839506172839}},\n",
       " {'dp': 0.03413217138707336,\n",
       "  'eo_y0': 0.0010378827192526474,\n",
       "  'eo_y1': 0.0489779396883222})"
      ]
     },
     "execution_count": 53,
     "metadata": {},
     "output_type": "execute_result"
    }
   ],
   "source": [
    "evaluate_fairness(y_test, y_pred, sensitive_features_test)"
   ]
  }
 ],
 "metadata": {
  "kernelspec": {
   "display_name": "Python [conda env:fairness_checking] *",
   "language": "python",
   "name": "conda-env-fairness_checking-py"
  },
  "language_info": {
   "codemirror_mode": {
    "name": "ipython",
    "version": 3
   },
   "file_extension": ".py",
   "mimetype": "text/x-python",
   "name": "python",
   "nbconvert_exporter": "python",
   "pygments_lexer": "ipython3",
   "version": "3.7.3"
  }
 },
 "nbformat": 4,
 "nbformat_minor": 4
}
