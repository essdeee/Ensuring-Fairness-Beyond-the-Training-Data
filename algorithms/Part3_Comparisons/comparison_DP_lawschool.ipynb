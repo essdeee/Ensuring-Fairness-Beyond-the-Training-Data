{
 "cells": [
  {
   "cell_type": "markdown",
   "metadata": {
    "colab_type": "text",
    "id": "VYEUJK2JDiTS"
   },
   "source": [
    "# Lawschool DP Comparison"
   ]
  },
  {
   "cell_type": "code",
   "execution_count": 1,
   "metadata": {
    "colab": {},
    "colab_type": "code",
    "id": "TYaVKaWuDiTT"
   },
   "outputs": [],
   "source": [
    "import pandas as pd\n",
    "import numpy as np\n",
    "import matplotlib.pyplot as plt\n",
    "import cvxpy as cp\n",
    "from sklearn.linear_model import LogisticRegression\n",
    "from sklearn.metrics import accuracy_score"
   ]
  },
  {
   "cell_type": "code",
   "execution_count": 2,
   "metadata": {},
   "outputs": [],
   "source": [
    "%matplotlib inline\n",
    "\n",
    "import matplotlib.pyplot as plt\n",
    "import matplotlib.cm as cm\n",
    "\n",
    "def evaluate_fairness(y_true, y_pred, sensitive_features):\n",
    "    \"\"\"\n",
    "    Evaluates fairness of the final majority vote classifier over T_inner hypotheses\n",
    "    on the test set.\n",
    "    #NOTE: defined in the meta_algo file, but we chose:\n",
    "    a0 := African-American (COMPAS), Female (Adult)\n",
    "    a1 := Caucasian (COMPAS), Male (Adult)\n",
    "\n",
    "    :return: list. subgroups in sensitive_features.\n",
    "    :return: list, dict, dict. groups is a list of the sensitive features in the dataset. \n",
    "    group_metrics is a dictionary containing dictionaries that have Delta_dp, Delta_eoy0, \n",
    "    and Delta_eoy1 for each group. gaps is a dictionary that contains the fairness gap\n",
    "    for dp, eo_y0 and eo_y1.\n",
    "    \"\"\"\n",
    "    groups = np.unique(sensitive_features.values)\n",
    "    pos_count = {}\n",
    "    dp_pct = {}\n",
    "    eo_y0_pct = {}\n",
    "    eo_y1_pct = {}\n",
    "\n",
    "    for index, group in enumerate(groups):\n",
    "        # Demographic Parity\n",
    "        indices = {}\n",
    "        indices[group] = sensitive_features.index[sensitive_features == group]\n",
    "        dp_pct[group] = sum(y_pred[indices[group]])/len(indices[group])\n",
    "\n",
    "        # Equalized Odds\n",
    "        y1_indices = {}\n",
    "        y0_indices = {}\n",
    "        y1_indices[group] = sensitive_features.index[(sensitive_features == group) & (y_true == 1)]\n",
    "        y0_indices[group] = sensitive_features.index[(sensitive_features == group) & (y_true == 0)]\n",
    "        eo_y0_pct[group] = sum(y_pred[y0_indices[group]])/len(y0_indices[group])   \n",
    "        eo_y1_pct[group] = sum(y_pred[y1_indices[group]])/len(y1_indices[group])\n",
    "\n",
    "    gaps = {}\n",
    "    group_metrics = {} # a dictionary of dictionaries\n",
    "\n",
    "    gaps['dp'] = abs(dp_pct[groups[0]] - dp_pct[groups[1]])\n",
    "    gaps['eo_y0'] = abs(eo_y0_pct[groups[0]] - eo_y0_pct[groups[1]])\n",
    "    gaps['eo_y1'] = abs(eo_y1_pct[groups[0]] - eo_y1_pct[groups[1]])\n",
    "    group_metrics['dp'] = dp_pct\n",
    "    group_metrics['eo_y0'] = eo_y0_pct\n",
    "    group_metrics['eo_y1'] = eo_y1_pct\n",
    "\n",
    "    return groups, group_metrics, gaps"
   ]
  },
  {
   "cell_type": "code",
   "execution_count": 3,
   "metadata": {},
   "outputs": [],
   "source": [
    "def set_a_indices(sensitive_features, y):\n",
    "    \"\"\"\n",
    "    Creates a dictionary a_indices that contains the necessary information for which indices\n",
    "    contain the sensitive/protected attributes.\n",
    "\n",
    "    :return: dict 'a_indices' which contains a list of the a_0 indices, list of a_1 indices,\n",
    "    list of a_0 indices where y = 0, list of a_0 indices where y = 1, list of a_1 indices\n",
    "    where y = 0, list of a_1 indices where y = 1, and a list containing the a value of each sample.\n",
    "    \"\"\"\n",
    "    a_indices = dict()\n",
    "    a_indices['a0'] = sensitive_features.index[sensitive_features.eq(0)].tolist()\n",
    "    a_indices['a1'] = sensitive_features.index[sensitive_features.eq(1)].tolist()\n",
    "    a_indices['all'] = sensitive_features.tolist()\n",
    "\n",
    "    y0 = set(np.where(y == 0)[0])\n",
    "    y1 = set(np.where(y == 1)[0])\n",
    "    a_indices['a0_y0'] = list(y0.intersection(set(a_indices['a0'])))\n",
    "    a_indices['a0_y1'] = list(y1.intersection(set(a_indices['a0'])))\n",
    "    a_indices['a1_y0'] = list(y0.intersection(set(a_indices['a1'])))\n",
    "    a_indices['a1_y1'] = list(y1.intersection(set(a_indices['a1'])))\n",
    "\n",
    "    assert(len(a_indices['a0']) + len(a_indices['a1']) == len(y))\n",
    "    assert(len(a_indices['a0_y0']) + len(a_indices['a0_y1']) + len(a_indices['a1_y0']) + len(a_indices['a1_y1']) == len(y))\n",
    "    return a_indices\n",
    "\n",
    "def set_proportions(a_indices, y, fair_constraint):\n",
    "    proportions = {}\n",
    "    proportions['a0'] = len(a_indices['a0'])/float(len(y))\n",
    "    proportions['a1'] = len(a_indices['a1'])/float(len(y))\n",
    "    proportions['a0_y0'] = len(a_indices['a0_y0'])/float(len(y))\n",
    "    proportions['a0_y1'] = len(a_indices['a0_y1'])/float(len(y))\n",
    "    proportions['a1_y0'] = len(a_indices['a1_y0'])/float(len(y))\n",
    "    proportions['a1_y1'] = len(a_indices['a1_y1'])/float(len(y))\n",
    "    proportions['y0'] = (len(np.where(y == 0)[0]))/float(len(y))\n",
    "    proportions['y1'] = (len(np.where(y == 1)[0]))/float(len(y))\n",
    "\n",
    "    print('y0 proportion = {}'.format(proportions['y0']))\n",
    "    print('y1 proportion = {}'.format(proportions['y1']))\n",
    "\n",
    "    if(fair_constraint == 'dp'):\n",
    "        print('a0 proportion = {}'.format(proportions['a0']))\n",
    "        print('a1 proportion = {}'.format(proportions['a1']))\n",
    "    elif(fair_constraint == 'eo'):\n",
    "        print('a0 y0 proportion = {}'.format(proportions['a0_y0']))\n",
    "        print('a1 y0 proportion = {}'.format(proportions['a1_y0']))\n",
    "        print('a0 y1 proportion = {}'.format(proportions['a0_y1']))\n",
    "        print('a1 y1 proportion = {}'.format(proportions['a1_y1']))\n",
    "\n",
    "    assert(proportions['y0'] + proportions['y1'] == 1)\n",
    "    assert(proportions['a0'] + proportions['a1'] == 1)\n",
    "    assert(proportions['a0_y0'] + proportions['a0_y1'] + proportions['a1_y0'] + proportions['a1_y1'] == 1)\n",
    "\n",
    "    return proportions"
   ]
  },
  {
   "cell_type": "markdown",
   "metadata": {
    "colab_type": "text",
    "id": "id0PTMTBDiTV"
   },
   "source": [
    "## Import Data\n",
    "We take A (the protected attribute) to be the 'race' variable, and a = 0 while a' = 1. "
   ]
  },
  {
   "cell_type": "code",
   "execution_count": 4,
   "metadata": {
    "colab": {},
    "colab_type": "code",
    "id": "EaDU5FwHDiTW"
   },
   "outputs": [],
   "source": [
    "X_train = pd.read_csv('./../../data/processed/lawschool/lawschool_train1_X.csv')\n",
    "X_test = pd.read_csv('./../../data/processed/lawschool/lawschool_test1_X.csv')\n",
    "y_train = pd.read_csv('./../../data/processed/lawschool/lawschool_train1_y.csv')\n",
    "y_train = y_train['bar1']\n",
    "y_test = pd.read_csv('./../../data/processed/lawschool/lawschool_test1_y.csv')\n",
    "y_test = y_test['bar1']\n",
    "\n",
    "sensitive_features_train = X_train['race7']\n",
    "sensitive_features_test = X_test['race7']\n",
    "\n",
    "sensitive_features_train[sensitive_features_train <= 0] = 0\n",
    "sensitive_features_train[sensitive_features_train > 0] = 1\n",
    "sensitive_features_train = sensitive_features_train.reset_index(drop=True)\n",
    "\n",
    "sensitive_features_test[sensitive_features_test <= 0] = 0\n",
    "sensitive_features_test[sensitive_features_test > 0] = 1\n",
    "sensitive_features_test = sensitive_features_test.reset_index(drop=True)"
   ]
  },
  {
   "cell_type": "code",
   "execution_count": 5,
   "metadata": {
    "colab": {
     "base_uri": "https://localhost:8080/",
     "height": 241
    },
    "colab_type": "code",
    "id": "3D-WDPLsDiTY",
    "outputId": "b8ec1cdc-e070-4f7f-bf86-05c73fe9bdfe"
   },
   "outputs": [
    {
     "name": "stdout",
     "output_type": "stream",
     "text": [
      "(1458, 17)\n",
      "(1458,)\n",
      "(365, 17)\n",
      "(365,)\n"
     ]
    }
   ],
   "source": [
    "print(X_train.shape)\n",
    "print(y_train.shape)\n",
    "print(X_test.shape)\n",
    "print(y_test.shape)"
   ]
  },
  {
   "cell_type": "code",
   "execution_count": 6,
   "metadata": {
    "colab": {},
    "colab_type": "code",
    "id": "IvLHi63FDiTb"
   },
   "outputs": [
    {
     "name": "stdout",
     "output_type": "stream",
     "text": [
      "=== TRAINING SET STATISTICS ===\n",
      "y0 proportion = 0.46844993141289437\n",
      "y1 proportion = 0.5315500685871056\n",
      "a0 proportion = 0.2551440329218107\n",
      "a1 proportion = 0.7448559670781894\n"
     ]
    }
   ],
   "source": [
    "print(\"=== TRAINING SET STATISTICS ===\")\n",
    "a_indices_train = set_a_indices(sensitive_features_train, y_train)\n",
    "proportions_train = set_proportions(a_indices_train, y_train, 'dp')"
   ]
  },
  {
   "cell_type": "code",
   "execution_count": 7,
   "metadata": {},
   "outputs": [
    {
     "name": "stdout",
     "output_type": "stream",
     "text": [
      "=== TESTING SET STATISTICS ===\n",
      "y0 proportion = 0.5095890410958904\n",
      "y1 proportion = 0.4904109589041096\n",
      "a0 proportion = 0.2410958904109589\n",
      "a1 proportion = 0.7589041095890411\n"
     ]
    }
   ],
   "source": [
    "print(\"=== TESTING SET STATISTICS ===\")\n",
    "a_indices_test = set_a_indices(sensitive_features_test, y_test)\n",
    "proportions_test = set_proportions(a_indices_test, y_test, 'dp')"
   ]
  },
  {
   "cell_type": "markdown",
   "metadata": {},
   "source": [
    "## Train and Predict (Preprocessing)"
   ]
  },
  {
   "cell_type": "markdown",
   "metadata": {},
   "source": [
    "## Train and Predict (Inprocessing)"
   ]
  },
  {
   "cell_type": "code",
   "execution_count": 8,
   "metadata": {},
   "outputs": [],
   "source": [
    "from fairlearn.reductions import ExponentiatedGradient, DemographicParity\n",
    "\n",
    "expgrad_dp = ExponentiatedGradient(\n",
    "    LogisticRegression(solver='liblinear', fit_intercept=True, class_weight='balanced'),\n",
    "    constraints=DemographicParity(),\n",
    "    eps=0.05,\n",
    "    nu=1e-6)\n",
    "\n",
    "expgrad_dp.fit(X_train, y_train, sensitive_features=sensitive_features_train)\n",
    "inprocessing_y_pred = expgrad_dp.predict(X_test)"
   ]
  },
  {
   "cell_type": "code",
   "execution_count": 9,
   "metadata": {},
   "outputs": [
    {
     "name": "stdout",
     "output_type": "stream",
     "text": [
      "Adult Test Accuracy (Inprocessing, DP): 0.7561643835616438\n"
     ]
    }
   ],
   "source": [
    "print(\"Adult Test Accuracy (Inprocessing, DP): {}\".format(accuracy_score(inprocessing_y_pred, y_test)))"
   ]
  },
  {
   "cell_type": "code",
   "execution_count": 10,
   "metadata": {},
   "outputs": [
    {
     "name": "stdout",
     "output_type": "stream",
     "text": [
      "P[h(X) = 1 | 0.0] = 0.5113636363636364\n",
      "P[h(X) = 1 | 1.0] = 0.5090252707581228\n",
      "Delta_dp = 0.0023383656055135926\n"
     ]
    }
   ],
   "source": [
    "groups, group_metrics, gaps = evaluate_fairness(y_test, inprocessing_y_pred, sensitive_features_test)\n",
    "for group in groups:\n",
    "    print(\"P[h(X) = 1 | {}] = {}\".format(group, group_metrics['dp'][group]))\n",
    "print(\"Delta_dp = {}\".format(gaps['dp']))"
   ]
  },
  {
   "cell_type": "markdown",
   "metadata": {},
   "source": [
    "## Train and Predict (Postprocessing)"
   ]
  },
  {
   "cell_type": "code",
   "execution_count": 11,
   "metadata": {},
   "outputs": [],
   "source": [
    "from fairlearn.postprocessing import ThresholdOptimizer\n",
    "from sklearn import clone\n",
    "from sklearn.base import BaseEstimator, ClassifierMixin\n",
    "from sklearn.utils.validation import check_is_fitted\n",
    "from sklearn.exceptions import NotFittedError\n",
    "\n",
    "class LogisticRegressionAsRegression(BaseEstimator, ClassifierMixin):\n",
    "    def __init__(self, logistic_regression_estimator):\n",
    "        self.logistic_regression_estimator = logistic_regression_estimator\n",
    "\n",
    "    def fit(self, X, y):\n",
    "        try:\n",
    "            check_is_fitted(self.logistic_regression_estimator)\n",
    "            self.logistic_regression_estimator_ = self.logistic_regression_estimator\n",
    "        except NotFittedError:\n",
    "            self.logistic_regression_estimator_ = clone(\n",
    "                self.logistic_regression_estimator\n",
    "            ).fit(X, y)\n",
    "        return self\n",
    "\n",
    "    def predict(self, X):\n",
    "        # use predict_proba to get real values instead of 0/1, select only prob for 1\n",
    "        scores = self.logistic_regression_estimator_.predict_proba(X)[:, 1]\n",
    "        return scores\n",
    "\n",
    "logreg = LogisticRegression()\n",
    "logreg.fit(X_train, y_train)\n",
    "estimator_wrapper = LogisticRegressionAsRegression(logreg).fit(X_train, y_train)\n",
    "postprocessed_predictor_dp = ThresholdOptimizer(estimator=estimator_wrapper, constraints=\"demographic_parity\", prefit=True)\n",
    "\n",
    "postprocessed_predictor_dp.fit(X_train, y_train, sensitive_features=sensitive_features_train)\n",
    "postprocessing_y_pred = postprocessed_predictor_dp.predict(X_test, sensitive_features=sensitive_features_test)"
   ]
  },
  {
   "cell_type": "code",
   "execution_count": 12,
   "metadata": {},
   "outputs": [
    {
     "name": "stdout",
     "output_type": "stream",
     "text": [
      "Adult Test Accuracy (Postprocessing, DP): 0.7397260273972602\n",
      "P[h(X) = 1 | 0.0] = 0.5113636363636364\n",
      "P[h(X) = 1 | 1.0] = 0.5018050541516246\n",
      "Delta_dp = 0.00955858221201178\n"
     ]
    }
   ],
   "source": [
    "print(\"Adult Test Accuracy (Postprocessing, DP): {}\".format(accuracy_score(postprocessing_y_pred, y_test)))\n",
    "groups, group_metrics, gaps = evaluate_fairness(y_test, postprocessing_y_pred, sensitive_features_test)\n",
    "\n",
    "groups, group_metrics, gaps = evaluate_fairness(y_test, postprocessing_y_pred, sensitive_features_test)\n",
    "for group in groups:\n",
    "    print(\"P[h(X) = 1 | {}] = {}\".format(group, group_metrics['dp'][group]))\n",
    "print(\"Delta_dp = {}\".format(gaps['dp']))"
   ]
  },
  {
   "cell_type": "markdown",
   "metadata": {},
   "source": [
    "## Predict (Our Algorithm)"
   ]
  },
  {
   "cell_type": "markdown",
   "metadata": {
    "colab_type": "text",
    "id": "3WyqW_D6Q13G"
   },
   "source": [
    "## Linear Program Function\n",
    "Create a reusable function for each linear program.\n",
    "\n",
    "The argument constraint is the constraint we want to set on the w's. This should be between 0 and 1.\n",
    "\n",
    "The argument y_value should be Y = 0 or Y = 1, depending on which Y value we want to test EO on. "
   ]
  },
  {
   "cell_type": "code",
   "execution_count": 13,
   "metadata": {},
   "outputs": [],
   "source": [
    "def DP_linear_prog(y_pred, a_indices, proportions, lower_bound, upper_bound, a, a_p):\n",
    "    # Make sure constraint is within bounds\n",
    "    assert(0 < lower_bound < 1)\n",
    "    assert(0 < upper_bound < 1)\n",
    "    \n",
    "    # Setup variables and subgp names\n",
    "    n = len(y_pred)\n",
    "    w = cp.Variable(n)\n",
    "    \n",
    "    # Setup prediction vector\n",
    "    h_xi_a = y_pred.copy()\n",
    "    h_xi_a[a_indices[a_p]] = 0\n",
    "    h_xi_ap = y_pred.copy()\n",
    "    h_xi_ap[a_indices[a]] = 0\n",
    "    \n",
    "    # Setup subgroup proportions\n",
    "    pi_a = proportions[a]\n",
    "    pi_a_p = proportions[a_p]\n",
    "    \n",
    "    # Set constraints\n",
    "    constraints = [\n",
    "        cp.sum(w[a_indices[a]]) == pi_a,\n",
    "        cp.sum(w[a_indices[a_p]]) == pi_a_p,\n",
    "        cp.sum(w) == 1,\n",
    "        0 <= w,\n",
    "        lower_bound <= w,\n",
    "        w <= upper_bound\n",
    "    ]\n",
    "        \n",
    "    # Setup objective and problem\n",
    "    objective = cp.Maximize(((1/pi_a) * (w @ h_xi_a)) - ((1/pi_a_p) * (w @ h_xi_ap)))\n",
    "    problem = cp.Problem(objective, constraints)\n",
    "    \n",
    "    # Solve problem\n",
    "    problem.solve(solver = 'ECOS')\n",
    "    return problem.value, w.value"
   ]
  },
  {
   "cell_type": "markdown",
   "metadata": {
    "colab_type": "text",
    "id": "oRPqsRrIDiTp"
   },
   "source": [
    "## Experiment with Linear Program\n",
    "Experiment with setting the constraints as: $$w_i \\leq \\frac{(1 + \\epsilon)}{n}$$ and $$\\frac{(1 - \\epsilon)}{n} \\leq w_i$$ where n is the number of samples in the data."
   ]
  },
  {
   "cell_type": "code",
   "execution_count": 14,
   "metadata": {
    "colab": {},
    "colab_type": "code",
    "id": "7AUPEl91DiUE"
   },
   "outputs": [],
   "source": [
    "epsilon_granule = 0.01\n",
    "\n",
    "lower_bounds = []\n",
    "upper_bounds = []\n",
    "inprocessing_objective_values = []\n",
    "postprocessing_objective_values = []\n",
    "weights = []\n",
    "epsilons = []\n",
    "\n",
    "# Iterate over constraints\n",
    "for i in range(0, 100):\n",
    "    epsilon = epsilon_granule * i\n",
    "    lower_bound = (1 - epsilon)/(len(X_test))\n",
    "    upper_bound = (1 + epsilon)/(len(X_test))\n",
    "    postprocessing_objective_value, w = DP_linear_prog(postprocessing_y_pred, a_indices_test, proportions_test, lower_bound, upper_bound, 'a0', 'a1')\n",
    "    postprocessing_objective_values.append(postprocessing_objective_value)\n",
    "    inprocessing_objective_value, w = DP_linear_prog(inprocessing_y_pred, a_indices_test, proportions_test, lower_bound, upper_bound, 'a0', 'a1')\n",
    "    inprocessing_objective_values.append(inprocessing_objective_value)\n",
    "    epsilons.append(epsilon)\n",
    "    lower_bounds.append(lower_bound)\n",
    "    upper_bounds.append(upper_bound)\n",
    "    weights.append(w)"
   ]
  },
  {
   "cell_type": "code",
   "execution_count": 15,
   "metadata": {
    "colab": {
     "base_uri": "https://localhost:8080/",
     "height": 584
    },
    "colab_type": "code",
    "id": "Xi_v9x66SZM8",
    "outputId": "82c6be1e-58c1-43c6-c9e0-6894bb31fbed"
   },
   "outputs": [
    {
     "data": {
      "text/plain": [
       "Text(0.5, 1.0, 'Upper Bound Constraint on w vs. EO LP Objective Value (Y = 0)')"
      ]
     },
     "execution_count": 15,
     "metadata": {},
     "output_type": "execute_result"
    },
    {
     "data": {
      "image/png": "[encoded data removed]",
      "text/plain": [
       "<Figure size 648x648 with 1 Axes>"
      ]
     },
     "metadata": {
      "needs_background": "light"
     },
     "output_type": "display_data"
    }
   ],
   "source": [
    "# Plot the constraints vs. objective values\n",
    "plt.figure(figsize=(9,9))\n",
    "plt.plot(epsilons, postprocessing_objective_values, 'orange')\n",
    "plt.plot(epsilons, inprocessing_objective_values, 'blue')\n",
    "plt.xlabel('Epsilon in Constraint')\n",
    "plt.ylabel('LP Objective Value')\n",
    "plt.title('Upper Bound Constraint on w vs. EO LP Objective Value (Y = 0)')"
   ]
  }
 ],
 "metadata": {
  "colab": {
   "collapsed_sections": [],
   "name": "EO_linear_prog_constraints.ipynb",
   "provenance": [],
   "toc_visible": true
  },
  "kernelspec": {
   "display_name": "Python 3",
   "language": "python",
   "name": "python3"
  },
  "language_info": {
   "codemirror_mode": {
    "name": "ipython",
    "version": 3
   },
   "file_extension": ".py",
   "mimetype": "text/x-python",
   "name": "python",
   "nbconvert_exporter": "python",
   "pygments_lexer": "ipython3",
   "version": "3.7.3"
  }
 },
 "nbformat": 4,
 "nbformat_minor": 2
}
