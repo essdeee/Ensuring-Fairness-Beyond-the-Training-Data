{
 "cells": [
  {
   "cell_type": "markdown",
   "metadata": {
    "colab_type": "text",
    "id": "VYEUJK2JDiTS"
   },
   "source": [
    "# Adult Ensemble DP Comparison"
   ]
  },
  {
   "cell_type": "code",
   "execution_count": 1,
   "metadata": {
    "colab": {},
    "colab_type": "code",
    "id": "TYaVKaWuDiTT"
   },
   "outputs": [],
   "source": [
    "import pandas as pd\n",
    "import numpy as np\n",
    "import matplotlib.pyplot as plt\n",
    "import cvxpy as cp\n",
    "from sklearn.linear_model import LogisticRegression\n",
    "from sklearn.metrics import accuracy_score\n",
    "import pickle"
   ]
  },
  {
   "cell_type": "code",
   "execution_count": 2,
   "metadata": {},
   "outputs": [],
   "source": [
    "%matplotlib inline\n",
    "\n",
    "import matplotlib.pyplot as plt\n",
    "import matplotlib.cm as cm\n",
    "\n",
    "def evaluate_fairness(y_true, y_pred, sensitive_features):\n",
    "    \"\"\"\n",
    "    Evaluates fairness of the final majority vote classifier over T_inner hypotheses\n",
    "    on the test set.\n",
    "    #NOTE: defined in the meta_algo file, but we chose:\n",
    "    a0 := African-American (COMPAS), Female (Adult)\n",
    "    a1 := Caucasian (COMPAS), Male (Adult)\n",
    "\n",
    "    :return: list. subgroups in sensitive_features.\n",
    "    :return: list, dict, dict. groups is a list of the sensitive features in the dataset. \n",
    "    group_metrics is a dictionary containing dictionaries that have Delta_dp, Delta_eoy0, \n",
    "    and Delta_eoy1 for each group. gaps is a dictionary that contains the fairness gap\n",
    "    for dp, eo_y0 and eo_y1.\n",
    "    \"\"\"\n",
    "    groups = np.unique(sensitive_features.values)\n",
    "    pos_count = {}\n",
    "    dp_pct = {}\n",
    "    eo_y0_pct = {}\n",
    "    eo_y1_pct = {}\n",
    "\n",
    "    for index, group in enumerate(groups):\n",
    "        # Demographic Parity\n",
    "        indices = {}\n",
    "        indices[group] = sensitive_features.index[sensitive_features == group]\n",
    "        dp_pct[group] = sum(y_pred[indices[group]])/len(indices[group])\n",
    "\n",
    "        # Equalized Odds\n",
    "        y1_indices = {}\n",
    "        y0_indices = {}\n",
    "        y1_indices[group] = sensitive_features.index[(sensitive_features == group) & (y_true == 1)]\n",
    "        y0_indices[group] = sensitive_features.index[(sensitive_features == group) & (y_true == 0)]\n",
    "        eo_y0_pct[group] = sum(y_pred[y0_indices[group]])/len(y0_indices[group])   \n",
    "        eo_y1_pct[group] = sum(y_pred[y1_indices[group]])/len(y1_indices[group])\n",
    "\n",
    "    gaps = {}\n",
    "    group_metrics = {} # a dictionary of dictionaries\n",
    "\n",
    "    gaps['dp'] = abs(dp_pct[groups[0]] - dp_pct[groups[1]])\n",
    "    gaps['eo_y0'] = abs(eo_y0_pct[groups[0]] - eo_y0_pct[groups[1]])\n",
    "    gaps['eo_y1'] = abs(eo_y1_pct[groups[0]] - eo_y1_pct[groups[1]])\n",
    "    group_metrics['dp'] = dp_pct\n",
    "    group_metrics['eo_y0'] = eo_y0_pct\n",
    "    group_metrics['eo_y1'] = eo_y1_pct\n",
    "\n",
    "    return groups, group_metrics, gaps"
   ]
  },
  {
   "cell_type": "code",
   "execution_count": 3,
   "metadata": {},
   "outputs": [],
   "source": [
    "def set_a_indices(sensitive_features, y):\n",
    "    \"\"\"\n",
    "    Creates a dictionary a_indices that contains the necessary information for which indices\n",
    "    contain the sensitive/protected attributes.\n",
    "\n",
    "    :return: dict 'a_indices' which contains a list of the a_0 indices, list of a_1 indices,\n",
    "    list of a_0 indices where y = 0, list of a_0 indices where y = 1, list of a_1 indices\n",
    "    where y = 0, list of a_1 indices where y = 1, and a list containing the a value of each sample.\n",
    "    \"\"\"\n",
    "    a_indices = dict()\n",
    "    a_indices['a0'] = sensitive_features.index[sensitive_features.eq(0)].tolist()\n",
    "    a_indices['a1'] = sensitive_features.index[sensitive_features.eq(1)].tolist()\n",
    "    a_indices['all'] = sensitive_features.tolist()\n",
    "\n",
    "    y0 = set(np.where(y == 0)[0])\n",
    "    y1 = set(np.where(y == 1)[0])\n",
    "    a_indices['a0_y0'] = list(y0.intersection(set(a_indices['a0'])))\n",
    "    a_indices['a0_y1'] = list(y1.intersection(set(a_indices['a0'])))\n",
    "    a_indices['a1_y0'] = list(y0.intersection(set(a_indices['a1'])))\n",
    "    a_indices['a1_y1'] = list(y1.intersection(set(a_indices['a1'])))\n",
    "\n",
    "    assert(len(a_indices['a0']) + len(a_indices['a1']) == len(y))\n",
    "    assert(len(a_indices['a0_y0']) + len(a_indices['a0_y1']) + len(a_indices['a1_y0']) + len(a_indices['a1_y1']) == len(y))\n",
    "    return a_indices\n",
    "\n",
    "def set_proportions(a_indices, y, fair_constraint):\n",
    "    proportions = {}\n",
    "    proportions['a0'] = len(a_indices['a0'])/float(len(y))\n",
    "    proportions['a1'] = len(a_indices['a1'])/float(len(y))\n",
    "    proportions['a0_y0'] = len(a_indices['a0_y0'])/float(len(y))\n",
    "    proportions['a0_y1'] = len(a_indices['a0_y1'])/float(len(y))\n",
    "    proportions['a1_y0'] = len(a_indices['a1_y0'])/float(len(y))\n",
    "    proportions['a1_y1'] = len(a_indices['a1_y1'])/float(len(y))\n",
    "    proportions['y0'] = (len(np.where(y == 0)[0]))/float(len(y))\n",
    "    proportions['y1'] = (len(np.where(y == 1)[0]))/float(len(y))\n",
    "\n",
    "    print('y0 proportion = {}'.format(proportions['y0']))\n",
    "    print('y1 proportion = {}'.format(proportions['y1']))\n",
    "\n",
    "    if(fair_constraint == 'dp'):\n",
    "        print('a0 proportion = {}'.format(proportions['a0']))\n",
    "        print('a1 proportion = {}'.format(proportions['a1']))\n",
    "    elif(fair_constraint == 'eo'):\n",
    "        print('a0 y0 proportion = {}'.format(proportions['a0_y0']))\n",
    "        print('a1 y0 proportion = {}'.format(proportions['a1_y0']))\n",
    "        print('a0 y1 proportion = {}'.format(proportions['a0_y1']))\n",
    "        print('a1 y1 proportion = {}'.format(proportions['a1_y1']))\n",
    "\n",
    "    assert(proportions['y0'] + proportions['y1'] == 1)\n",
    "    assert(proportions['a0'] + proportions['a1'] == 1)\n",
    "    #assert(proportions['a0_y0'] + proportions['a0_y1'] + proportions['a1_y0'] + proportions['a1_y1'] == 1)\n",
    "\n",
    "    return proportions"
   ]
  },
  {
   "cell_type": "code",
   "execution_count": 4,
   "metadata": {},
   "outputs": [],
   "source": [
    "def std_error(arr):\n",
    "    std = np.std(arr)\n",
    "    return std/np.sqrt(len(arr))"
   ]
  },
  {
   "cell_type": "markdown",
   "metadata": {
    "colab_type": "text",
    "id": "id0PTMTBDiTV"
   },
   "source": [
    "## Import Data\n",
    "We take A (the protected attribute) to be the 'race' variable, and a = 0 while a' = 1. "
   ]
  },
  {
   "cell_type": "code",
   "execution_count": 5,
   "metadata": {
    "colab": {},
    "colab_type": "code",
    "id": "EaDU5FwHDiTW"
   },
   "outputs": [],
   "source": [
    "X_train_arr = []\n",
    "X_test_arr = []\n",
    "y_train_arr = []\n",
    "y_test_arr = []\n",
    "sensitive_features_train_arr = []\n",
    "sensitive_features_test_arr = []\n",
    "\n",
    "for i in range(5):\n",
    "    X_train = pd.read_csv('./../../data/processed/adult/adult_train{}_X.csv'.format(i + 1))\n",
    "    X_test = pd.read_csv('./../../data/processed/adult/adult_test{}_X.csv'.format(i + 1))\n",
    "    y_train = pd.read_csv('./../../data/processed/adult/adult_train{}_y.csv'.format(i + 1))\n",
    "    y_test = pd.read_csv('./../../data/processed/adult/adult_test{}_y.csv'.format(i + 1))\n",
    "\n",
    "    y_train = y_train['income']\n",
    "    y_test = y_test['income']\n",
    "    \n",
    "    sensitive_features_train = X_train['sex']\n",
    "    sensitive_features_test = X_test['sex']\n",
    "\n",
    "    sensitive_features_train[sensitive_features_train <= 0] = 0\n",
    "    sensitive_features_train[sensitive_features_train > 0] = 1\n",
    "    sensitive_features_train = sensitive_features_train.reset_index(drop=True)\n",
    "    \n",
    "    sensitive_features_test[sensitive_features_test <= 0] = 0\n",
    "    sensitive_features_test[sensitive_features_test > 0] = 1\n",
    "    sensitive_features_test = sensitive_features_test.reset_index(drop=True)\n",
    "    \n",
    "    X_train_arr.append(X_train)\n",
    "    X_test_arr.append(X_test)\n",
    "    y_train_arr.append(y_train)\n",
    "    y_test_arr.append(y_test)\n",
    "    sensitive_features_train_arr.append(sensitive_features_train)\n",
    "    sensitive_features_test_arr.append(sensitive_features_test)"
   ]
  },
  {
   "cell_type": "code",
   "execution_count": 6,
   "metadata": {
    "colab": {
     "base_uri": "https://localhost:8080/",
     "height": 241
    },
    "colab_type": "code",
    "id": "3D-WDPLsDiTY",
    "outputId": "b8ec1cdc-e070-4f7f-bf86-05c73fe9bdfe"
   },
   "outputs": [
    {
     "name": "stdout",
     "output_type": "stream",
     "text": [
      "(1616, 98)\n",
      "(404, 98)\n",
      "(1616,)\n",
      "(404,)\n",
      "5\n"
     ]
    }
   ],
   "source": [
    "print(X_train_arr[0].shape)\n",
    "print(X_test_arr[0].shape)\n",
    "print(y_train_arr[0].shape)\n",
    "print(y_test_arr[0].shape)\n",
    "print(len(X_train_arr))"
   ]
  },
  {
   "cell_type": "code",
   "execution_count": 7,
   "metadata": {},
   "outputs": [],
   "source": [
    "a_indices_train_arr = []\n",
    "a_indices_test_arr = []\n",
    "\n",
    "for i in range(5):\n",
    "    a_indices_train_arr.append(set_a_indices(sensitive_features_train_arr[i], y_train_arr[i]))\n",
    "    a_indices_test_arr.append(set_a_indices(sensitive_features_test_arr[i], y_test_arr[i]))"
   ]
  },
  {
   "cell_type": "code",
   "execution_count": 8,
   "metadata": {},
   "outputs": [
    {
     "name": "stdout",
     "output_type": "stream",
     "text": [
      "y0 proportion = 0.49504950495049505\n",
      "y1 proportion = 0.504950495049505\n",
      "a0 proportion = 0.7425742574257426\n",
      "a1 proportion = 0.25742574257425743\n",
      "y0 proportion = 0.5173267326732673\n",
      "y1 proportion = 0.48267326732673266\n",
      "a0 proportion = 0.7376237623762376\n",
      "a1 proportion = 0.2623762376237624\n",
      "y0 proportion = 0.5030940594059405\n",
      "y1 proportion = 0.4969059405940594\n",
      "a0 proportion = 0.7419554455445545\n",
      "a1 proportion = 0.25804455445544555\n",
      "y0 proportion = 0.48514851485148514\n",
      "y1 proportion = 0.5148514851485149\n",
      "a0 proportion = 0.7400990099009901\n",
      "a1 proportion = 0.2599009900990099\n",
      "y0 proportion = 0.5037128712871287\n",
      "y1 proportion = 0.4962871287128713\n",
      "a0 proportion = 0.7481435643564357\n",
      "a1 proportion = 0.25185643564356436\n",
      "y0 proportion = 0.48267326732673266\n",
      "y1 proportion = 0.5173267326732673\n",
      "a0 proportion = 0.7153465346534653\n",
      "a1 proportion = 0.28465346534653463\n",
      "y0 proportion = 0.5030940594059405\n",
      "y1 proportion = 0.4969059405940594\n",
      "a0 proportion = 0.7425742574257426\n",
      "a1 proportion = 0.25742574257425743\n",
      "y0 proportion = 0.48514851485148514\n",
      "y1 proportion = 0.5148514851485149\n",
      "a0 proportion = 0.7376237623762376\n",
      "a1 proportion = 0.2623762376237624\n",
      "y0 proportion = 0.5018564356435643\n",
      "y1 proportion = 0.49814356435643564\n",
      "a0 proportion = 0.7363861386138614\n",
      "a1 proportion = 0.2636138613861386\n",
      "y0 proportion = 0.4900990099009901\n",
      "y1 proportion = 0.5099009900990099\n",
      "a0 proportion = 0.7623762376237624\n",
      "a1 proportion = 0.2376237623762376\n"
     ]
    }
   ],
   "source": [
    "proportions_train_arr = []\n",
    "proportions_test_arr = []\n",
    "\n",
    "for i in range(5):\n",
    "    proportions_train_arr.append(set_proportions(a_indices_train_arr[i], y_train_arr[i], 'dp'))\n",
    "    proportions_test_arr.append(set_proportions(a_indices_test_arr[i], y_test_arr[i], 'dp'))"
   ]
  },
  {
   "cell_type": "markdown",
   "metadata": {},
   "source": [
    "## Train and Predict (Preprocessing)"
   ]
  },
  {
   "cell_type": "markdown",
   "metadata": {},
   "source": [
    "## Train and Predict (Inprocessing)"
   ]
  },
  {
   "cell_type": "code",
   "execution_count": 9,
   "metadata": {},
   "outputs": [],
   "source": [
    "from fairlearn.reductions import ExponentiatedGradient, DemographicParity\n",
    "\n",
    "inprocessing_clfrs = []\n",
    "inprocessing_test_accs = []\n",
    "inprocessing_dps = []\n",
    "inprocessing_preds = []"
   ]
  },
  {
   "cell_type": "code",
   "execution_count": 10,
   "metadata": {},
   "outputs": [
    {
     "name": "stdout",
     "output_type": "stream",
     "text": [
      "Adult Test Accuracy (Inprocessing, DP, Split 1): 0.8094059405940595\n",
      "P[h(X) = 1 | 0.0] = 0.5100671140939598\n",
      "P[h(X) = 1 | 1.0] = 0.39622641509433965\n",
      "Delta_dp = 0.11384069899962013\n",
      "Adult Test Accuracy (Inprocessing, DP, Split 2): 0.7673267326732673\n",
      "P[h(X) = 1 | 0.0] = 0.5083612040133779\n",
      "P[h(X) = 1 | 1.0] = 0.4\n",
      "Delta_dp = 0.1083612040133779\n",
      "Adult Test Accuracy (Inprocessing, DP, Split 3): 0.7277227722772277\n",
      "P[h(X) = 1 | 0.0] = 0.5086505190311419\n",
      "P[h(X) = 1 | 1.0] = 0.45217391304347826\n",
      "Delta_dp = 0.05647660598766363\n",
      "Adult Test Accuracy (Inprocessing, DP, Split 4): 0.7722772277227723\n",
      "P[h(X) = 1 | 0.0] = 0.587248322147651\n",
      "P[h(X) = 1 | 1.0] = 0.4811320754716981\n",
      "Delta_dp = 0.10611624667595287\n",
      "Adult Test Accuracy (Inprocessing, DP, Split 5): 0.7995049504950495\n",
      "P[h(X) = 1 | 0.0] = 0.4772727272727273\n",
      "P[h(X) = 1 | 1.0] = 0.4583333333333333\n",
      "Delta_dp = 0.018939393939393978\n"
     ]
    }
   ],
   "source": [
    "for i in range(5):\n",
    "    X_train = X_train_arr[i]\n",
    "    y_train = y_train_arr[i]\n",
    "    X_test = X_test_arr[i]\n",
    "    y_test = y_test_arr[i]\n",
    "    sensitive_features_train = sensitive_features_train_arr[i]\n",
    "    sensitive_features_test = sensitive_features_test_arr[i]\n",
    "    \n",
    "    inprocessing_dp = ExponentiatedGradient(\n",
    "        LogisticRegression(solver='liblinear', fit_intercept=True, class_weight='balanced'),\n",
    "        constraints=DemographicParity(),\n",
    "        eps=0.05,\n",
    "        nu=1e-6)\n",
    "\n",
    "    inprocessing_dp.fit(X_train, y_train, sensitive_features=sensitive_features_train)\n",
    "    inprocessing_y_pred = inprocessing_dp.predict(X_test)\n",
    "\n",
    "    print(\"Adult Test Accuracy (Inprocessing, DP, Split {}): {}\".format(i + 1, accuracy_score(inprocessing_y_pred, y_test)))\n",
    "    groups, group_metrics, gaps = evaluate_fairness(y_test, inprocessing_y_pred, sensitive_features_test)\n",
    "    for group in groups:\n",
    "        print(\"P[h(X) = 1 | {}] = {}\".format(group, group_metrics['dp'][group]))\n",
    "    print(\"Delta_dp = {}\".format(gaps['dp']))\n",
    "    \n",
    "    inprocessing_clfrs.append(inprocessing_dp)\n",
    "    inprocessing_test_accs.append(accuracy_score(inprocessing_y_pred, y_test))\n",
    "    inprocessing_dps.append(gaps['dp'])\n",
    "    inprocessing_preds.append(inprocessing_y_pred)"
   ]
  },
  {
   "cell_type": "markdown",
   "metadata": {},
   "source": [
    "## Train and Predict (Postprocessing)"
   ]
  },
  {
   "cell_type": "code",
   "execution_count": 11,
   "metadata": {},
   "outputs": [],
   "source": [
    "from fairlearn.postprocessing import ThresholdOptimizer\n",
    "from sklearn import clone\n",
    "from sklearn.base import BaseEstimator, ClassifierMixin\n",
    "from sklearn.utils.validation import check_is_fitted\n",
    "from sklearn.exceptions import NotFittedError\n",
    "\n",
    "postprocessing_clfrs = []\n",
    "postprocessing_test_accs = []\n",
    "postprocessing_dps = []\n",
    "postprocessing_preds = []"
   ]
  },
  {
   "cell_type": "code",
   "execution_count": 12,
   "metadata": {},
   "outputs": [],
   "source": [
    "class LogisticRegressionAsRegression(BaseEstimator, ClassifierMixin):\n",
    "    def __init__(self, logistic_regression_estimator):\n",
    "        self.logistic_regression_estimator = logistic_regression_estimator\n",
    "\n",
    "    def fit(self, X, y):\n",
    "        try:\n",
    "            check_is_fitted(self.logistic_regression_estimator)\n",
    "            self.logistic_regression_estimator_ = self.logistic_regression_estimator\n",
    "        except NotFittedError:\n",
    "            self.logistic_regression_estimator_ = clone(\n",
    "                self.logistic_regression_estimator\n",
    "            ).fit(X, y)\n",
    "        return self\n",
    "\n",
    "    def predict(self, X):\n",
    "        # use predict_proba to get real values instead of 0/1, select only prob for 1\n",
    "        scores = self.logistic_regression_estimator_.predict_proba(X)[:, 1]\n",
    "        return scores"
   ]
  },
  {
   "cell_type": "code",
   "execution_count": 13,
   "metadata": {},
   "outputs": [
    {
     "name": "stdout",
     "output_type": "stream",
     "text": [
      "Adult Test Accuracy (Postprocessing, DP): 0.7871287128712872\n",
      "P[h(X) = 1 | 0.0] = 0.5100671140939598\n",
      "P[h(X) = 1 | 1.0] = 0.4811320754716981\n",
      "Delta_dp = 0.028935038622261655\n",
      "Adult Test Accuracy (Postprocessing, DP): 0.7673267326732673\n",
      "P[h(X) = 1 | 0.0] = 0.5518394648829431\n",
      "P[h(X) = 1 | 1.0] = 0.5047619047619047\n",
      "Delta_dp = 0.047077560121038364\n",
      "Adult Test Accuracy (Postprocessing, DP): 0.7301980198019802\n",
      "P[h(X) = 1 | 0.0] = 0.5640138408304498\n",
      "P[h(X) = 1 | 1.0] = 0.5478260869565217\n",
      "Delta_dp = 0.016187753873928123\n",
      "Adult Test Accuracy (Postprocessing, DP): 0.7772277227722773\n",
      "P[h(X) = 1 | 0.0] = 0.5939597315436241\n",
      "P[h(X) = 1 | 1.0] = 0.5377358490566038\n",
      "Delta_dp = 0.05622388248702037\n",
      "Adult Test Accuracy (Postprocessing, DP): 0.7698019801980198\n",
      "P[h(X) = 1 | 0.0] = 0.45454545454545453\n",
      "P[h(X) = 1 | 1.0] = 0.6145833333333334\n",
      "Delta_dp = 0.16003787878787884\n"
     ]
    }
   ],
   "source": [
    "for i in range(5):\n",
    "    X_train = X_train_arr[i]\n",
    "    y_train = y_train_arr[i]\n",
    "    X_test = X_test_arr[i]\n",
    "    y_test = y_test_arr[i]\n",
    "    sensitive_features_train = sensitive_features_train_arr[i]\n",
    "    sensitive_features_test = sensitive_features_test_arr[i]\n",
    "    \n",
    "    logreg = LogisticRegression()\n",
    "    logreg.fit(X_train, y_train)\n",
    "    estimator_wrapper = LogisticRegressionAsRegression(logreg).fit(X_train, y_train)\n",
    "    postprocessed_predictor_dp = ThresholdOptimizer(estimator=estimator_wrapper, constraints=\"demographic_parity\", prefit=True)\n",
    "\n",
    "    postprocessed_predictor_dp.fit(X_train, y_train, sensitive_features=sensitive_features_train)\n",
    "    postprocessing_y_pred = postprocessed_predictor_dp.predict(X_test, sensitive_features=sensitive_features_test)\n",
    "\n",
    "    print(\"Adult Test Accuracy (Postprocessing, DP): {}\".format(accuracy_score(postprocessing_y_pred, y_test)))\n",
    "    groups, group_metrics, gaps = evaluate_fairness(y_test, postprocessing_y_pred, sensitive_features_test)\n",
    "\n",
    "    groups, group_metrics, gaps = evaluate_fairness(y_test, postprocessing_y_pred, sensitive_features_test)\n",
    "    for group in groups:\n",
    "        print(\"P[h(X) = 1 | {}] = {}\".format(group, group_metrics['dp'][group]))\n",
    "    print(\"Delta_dp = {}\".format(gaps['dp']))\n",
    "\n",
    "    postprocessing_clfrs.append(postprocessed_predictor_dp)\n",
    "    postprocessing_test_accs.append(accuracy_score(postprocessing_y_pred, y_test))\n",
    "    postprocessing_dps.append(gaps['dp'])\n",
    "    postprocessing_preds.append(postprocessing_y_pred)"
   ]
  },
  {
   "cell_type": "markdown",
   "metadata": {},
   "source": [
    "## Predict (Robust Algorithm h_0, T = 1000)"
   ]
  },
  {
   "cell_type": "code",
   "execution_count": 15,
   "metadata": {},
   "outputs": [
    {
     "name": "stdout",
     "output_type": "stream",
     "text": [
      "Adult Test Accuracy (Robust, DP): 0.745049504950495\n",
      "P[h(X) = 1 | A = 0.0] = 0.31493506493506496\n",
      "P[h(X) = 1 | A = 1.0] = 0.3645833333333333\n",
      "Delta_dp = 0.04964826839826836\n"
     ]
    }
   ],
   "source": [
    "X_train = X_train_arr[0]\n",
    "y_train = y_train_arr[0]\n",
    "X_test = X_test_arr[0]\n",
    "y_test = y_test_arr[0]\n",
    "    \n",
    "pickled_file = 'majority_majority.pkl'\n",
    "pickled_robust_h = open(pickled_file, \"rb\")\n",
    "robust_h = pickle.load(pickled_robust_h)\n",
    "robust_pred = robust_h.predict(X_test)\n",
    "print(\"Adult Test Accuracy (Robust, DP): {}\".format(accuracy_score(robust_pred, y_test)))\n",
    "groups, group_metrics, gaps = evaluate_fairness(y_test, robust_pred, sensitive_features_test)\n",
    "for group in groups:\n",
    "    print(\"P[h(X) = 1 | A = {}] = {}\".format(group, group_metrics['dp'][group]))\n",
    "print(\"Delta_dp = {}\".format(gaps['dp']))"
   ]
  },
  {
   "cell_type": "markdown",
   "metadata": {
    "colab_type": "text",
    "id": "3WyqW_D6Q13G"
   },
   "source": [
    "## Linear Program Function\n",
    "Create a reusable function for each linear program.\n",
    "\n",
    "The argument constraint is the constraint we want to set on the w's. This should be between 0 and 1.\n",
    "\n",
    "The argument y_value should be Y = 0 or Y = 1, depending on which Y value we want to test EO on. "
   ]
  },
  {
   "cell_type": "code",
   "execution_count": 16,
   "metadata": {},
   "outputs": [],
   "source": [
    "def DP_linear_prog(y_pred, a_indices, proportions, lower_bound, upper_bound, a, a_p):\n",
    "    # Make sure constraint is within bounds\n",
    "    assert(0 < lower_bound < 1)\n",
    "    assert(0 < upper_bound < 1)\n",
    "    \n",
    "    # Setup variables and subgp names\n",
    "    n = len(y_pred)\n",
    "    w = cp.Variable(n)\n",
    "    \n",
    "    # Setup prediction vector\n",
    "    h_xi_a = y_pred.copy()\n",
    "    h_xi_a[a_indices[a_p]] = 0\n",
    "    h_xi_ap = y_pred.copy()\n",
    "    h_xi_ap[a_indices[a]] = 0\n",
    "    \n",
    "    # Setup subgroup proportions\n",
    "    pi_a = proportions[a]\n",
    "    pi_a_p = proportions[a_p]\n",
    "    \n",
    "    # Set constraints\n",
    "    constraints = [\n",
    "        cp.sum(w[a_indices[a]]) == pi_a,\n",
    "        cp.sum(w[a_indices[a_p]]) == pi_a_p,\n",
    "        cp.sum(w) == 1,\n",
    "        0 <= w,\n",
    "        lower_bound <= w,\n",
    "        w <= upper_bound\n",
    "    ]\n",
    "        \n",
    "    # Setup objective and problem\n",
    "    objective = cp.Maximize(((1/pi_a) * (w @ h_xi_a)) - ((1/pi_a_p) * (w @ h_xi_ap)))\n",
    "    problem = cp.Problem(objective, constraints)\n",
    "    \n",
    "    # Solve problem\n",
    "    problem.solve(solver = 'ECOS')\n",
    "    return problem.value, w.value"
   ]
  },
  {
   "cell_type": "markdown",
   "metadata": {
    "colab_type": "text",
    "id": "oRPqsRrIDiTp"
   },
   "source": [
    "## Experiment with Linear Program (T = 1000)\n",
    "Experiment with setting the constraints as: $$w_i \\leq \\frac{(1 + \\epsilon)}{n}$$ and $$\\frac{(1 - \\epsilon)}{n} \\leq w_i$$ where n is the number of samples in the data."
   ]
  },
  {
   "cell_type": "code",
   "execution_count": 17,
   "metadata": {},
   "outputs": [],
   "source": [
    "epsilon_granule = 0.01\n",
    "\n",
    "inprocessing_objective_values = []\n",
    "postprocessing_objective_values = []\n",
    "robust_objective_values = []\n",
    "\n",
    "# Iterate over datasets\n",
    "for s in range(5):\n",
    "    inprocessing_y_pred = inprocessing_preds[s]\n",
    "    postprocessing_y_pred = postprocessing_preds[s]\n",
    "    a_indices_test = a_indices_test_arr[s]\n",
    "    proportions_test = proportions_test_arr[s]\n",
    "    \n",
    "    inprocessing_curr = []\n",
    "    postprocessing_curr = []\n",
    "    # Iterate over constraints\n",
    "    for i in range(0, int(1/epsilon_granule)):\n",
    "        epsilon = epsilon_granule * i\n",
    "        lower_bound = (1 - epsilon)/(len(X_test))\n",
    "        upper_bound = (1 + epsilon)/(len(X_test))\n",
    "\n",
    "        inprocessing_objective_value_a0a1, w = DP_linear_prog(inprocessing_y_pred, a_indices_test, proportions_test, lower_bound, upper_bound, 'a0', 'a1')\n",
    "        inprocessing_objective_value_a1a0, w = DP_linear_prog(inprocessing_y_pred, a_indices_test, proportions_test, lower_bound, upper_bound, 'a1', 'a0')\n",
    "        inprocessing_objective_value = max(inprocessing_objective_value_a0a1, inprocessing_objective_value_a1a0)\n",
    "        inprocessing_curr.append(inprocessing_objective_value)\n",
    "\n",
    "        postprocessing_objective_value_a0a1, w = DP_linear_prog(postprocessing_y_pred, a_indices_test, proportions_test, lower_bound, upper_bound, 'a0', 'a1')\n",
    "        postprocessing_objective_value_a1a0, w = DP_linear_prog(postprocessing_y_pred, a_indices_test, proportions_test, lower_bound, upper_bound, 'a1', 'a0')\n",
    "        postprocessing_objective_value = max(postprocessing_objective_value_a0a1, postprocessing_objective_value_a1a0)\n",
    "        postprocessing_curr.append(postprocessing_objective_value)\n",
    "    \n",
    "    inprocessing_objective_values.append(np.asarray(inprocessing_curr))\n",
    "    postprocessing_objective_values.append(np.asarray(postprocessing_curr))\n",
    "    \n",
    "\n",
    "for i in range(0, int(1/epsilon_granule)):\n",
    "    epsilon = epsilon_granule * i\n",
    "    lower_bound = (1 - epsilon)/(len(X_test))\n",
    "    upper_bound = (1 + epsilon)/(len(X_test))\n",
    "\n",
    "    robust_objective_value_a0a1, w = DP_linear_prog(robust_pred, a_indices_test, proportions_test, lower_bound, upper_bound, 'a0', 'a1')\n",
    "    robust_objective_value_a1a0, w = DP_linear_prog(robust_pred, a_indices_test, proportions_test, lower_bound, upper_bound, 'a1', 'a0')\n",
    "    robust_objective_value = max(robust_objective_value_a0a1, robust_objective_value_a1a0)\n",
    "    robust_objective_values.append(robust_objective_value)"
   ]
  },
  {
   "cell_type": "code",
   "execution_count": 18,
   "metadata": {},
   "outputs": [],
   "source": [
    "epsilons = []\n",
    "for i in range(0, int(1/epsilon_granule)):\n",
    "    epsilons.append(i * epsilon_granule)"
   ]
  },
  {
   "cell_type": "code",
   "execution_count": 19,
   "metadata": {},
   "outputs": [],
   "source": [
    "# Average over the results\n",
    "inprocessing_avg_objective_values = np.zeros(len(inprocessing_objective_values[0]))\n",
    "postprocessing_avg_objective_values = np.zeros(len(postprocessing_objective_values[0]))\n",
    "\n",
    "for i in range(5):\n",
    "    inprocessing_avg_objective_values += inprocessing_objective_values[i]\n",
    "    postprocessing_avg_objective_values += postprocessing_objective_values[i]\n",
    "    \n",
    "inprocessing_avg_objective_values = np.divide(inprocessing_avg_objective_values, 5)\n",
    "postprocessing_avg_objective_values = np.divide(postprocessing_avg_objective_values, 5)\n",
    "robust_avg_objective_values = robust_objective_values"
   ]
  },
  {
   "cell_type": "code",
   "execution_count": 20,
   "metadata": {},
   "outputs": [],
   "source": [
    "inprocessing_std_err = []\n",
    "postprocessing_std_err = []\n",
    "\n",
    "for i in range(100):\n",
    "    inprocessing_vals = []\n",
    "    postprocessing_vals = []\n",
    "    \n",
    "    for s in range(5):\n",
    "        inprocessing_vals.append(inprocessing_objective_values[s][i])\n",
    "        postprocessing_vals.append(postprocessing_objective_values[s][i])\n",
    "        \n",
    "    inprocessing_std_err.append(std_error(inprocessing_vals))\n",
    "    postprocessing_std_err.append(std_error(postprocessing_vals))"
   ]
  },
  {
   "cell_type": "code",
   "execution_count": 21,
   "metadata": {
    "colab": {
     "base_uri": "https://localhost:8080/",
     "height": 584
    },
    "colab_type": "code",
    "id": "Xi_v9x66SZM8",
    "outputId": "82c6be1e-58c1-43c6-c9e0-6894bb31fbed"
   },
   "outputs": [
    {
     "data": {
      "text/plain": [
       "Text(0.5, 1.0, 'Adult Comparison (h0, DP, T=1000)')"
      ]
     },
     "execution_count": 21,
     "metadata": {},
     "output_type": "execute_result"
    },
    {
     "data": {
      "image/png": "[encoded data removed]",
      "text/plain": [
       "<Figure size 648x648 with 1 Axes>"
      ]
     },
     "metadata": {
      "needs_background": "light"
     },
     "output_type": "display_data"
    }
   ],
   "source": [
    "# Plot the constraints vs. objective values\n",
    "plt.figure(figsize=(9,9))\n",
    "plt.plot(epsilons, inprocessing_avg_objective_values, 'orange')\n",
    "plt.plot(epsilons, postprocessing_avg_objective_values, 'blue')\n",
    "plt.plot(epsilons, robust_avg_objective_values, 'red')\n",
    "plt.fill_between(epsilons, inprocessing_avg_objective_values - inprocessing_std_err, inprocessing_avg_objective_values + inprocessing_std_err, color='orange', alpha=0.2)\n",
    "plt.fill_between(epsilons, postprocessing_avg_objective_values - postprocessing_std_err, postprocessing_avg_objective_values + postprocessing_std_err, color='blue', alpha=0.2)\n",
    "plt.xlabel('Epsilon in Constraint')\n",
    "plt.ylabel('LP Objective Value')\n",
    "plt.title('Adult Comparison (h0, DP, T=1000)')"
   ]
  },
  {
   "cell_type": "markdown",
   "metadata": {},
   "source": [
    "## Weighted Loss Linear Program"
   ]
  },
  {
   "cell_type": "code",
   "execution_count": 29,
   "metadata": {},
   "outputs": [],
   "source": [
    "def weighted_loss_linear_prog(y_pred, y_test, a_indices, proportions, lower_bound, upper_bound, a, a_p):\n",
    "    # Make sure constraint is within bounds\n",
    "    assert(0 < lower_bound < 1)\n",
    "    assert(0 < upper_bound < 1)\n",
    "    \n",
    "    # Loss vector 1{h(x) =/= y}\n",
    "    loss_vec = y_pred - y_test\n",
    "    loss_vec[loss_vec < 0] = 1\n",
    "    \n",
    "    # Setup variables and subgp names\n",
    "    n = len(y_pred)\n",
    "    w = cp.Variable(n)\n",
    "    \n",
    "    # Setup subgroup proportions\n",
    "    pi_a = proportions[a]\n",
    "    pi_a_p = proportions[a_p]\n",
    "    \n",
    "    # Set constraints\n",
    "    constraints = [\n",
    "        cp.sum(w[a_indices[a]]) == pi_a,\n",
    "        cp.sum(w[a_indices[a_p]]) == pi_a_p,\n",
    "        cp.sum(w) == 1,\n",
    "        0 <= w,\n",
    "        lower_bound <= w,\n",
    "        w <= upper_bound\n",
    "    ]\n",
    "    \n",
    "    # Setup objective and problem\n",
    "    objective = cp.Maximize(w @ loss_vec)\n",
    "    problem = cp.Problem(objective, constraints)\n",
    "    \n",
    "    # Solve problem\n",
    "    problem.solve(solver = 'ECOS')\n",
    "    return problem.value, w.value"
   ]
  },
  {
   "cell_type": "code",
   "execution_count": 37,
   "metadata": {},
   "outputs": [
    {
     "name": "stdout",
     "output_type": "stream",
     "text": [
      "0.2549504950576917\n",
      "0.2549504950576917\n",
      "0.2575000000092946\n",
      "0.2575000000092946\n",
      "0.26004950495752\n",
      "0.26004950495752\n",
      "0.26259900990575946\n",
      "0.26259900990575946\n",
      "0.2651485148549152\n",
      "0.2651485148549152\n",
      "0.26769801980470076\n",
      "0.26769801980470076\n",
      "0.27024752475470754\n",
      "0.27024752475470754\n",
      "0.2727970297048736\n",
      "0.2727970297048736\n",
      "0.27534653465514236\n",
      "0.27534653465514236\n",
      "0.27789603960547693\n",
      "0.27789603960547693\n",
      "0.2804455445558808\n",
      "0.2804455445558808\n",
      "0.2829950495063999\n",
      "0.2829950495063999\n",
      "0.28554455445689486\n",
      "0.28554455445689486\n",
      "0.2880940594073607\n",
      "0.2880940594073607\n",
      "0.29064356435780586\n",
      "0.29064356435780586\n",
      "0.29319306930823114\n",
      "0.29319306930823114\n",
      "0.295742574258645\n",
      "0.295742574258645\n",
      "0.29829207920905426\n",
      "0.29829207920905426\n",
      "0.30084158415945894\n",
      "0.30084158415945894\n",
      "0.30339108910986595\n",
      "0.30339108910986595\n",
      "0.3059405940602742\n",
      "0.3059405940602742\n",
      "0.3084900990106829\n",
      "0.3084900990106829\n",
      "0.31103960396109803\n",
      "0.31103960396109803\n",
      "0.3135891089115354\n",
      "0.3135891089115354\n",
      "0.31613861386216\n",
      "0.31613861386216\n",
      "0.31868811881278064\n",
      "0.31868811881278064\n",
      "0.3212376237633796\n",
      "0.3212376237633796\n",
      "0.32378712871395543\n",
      "0.32378712871395543\n",
      "0.32633663366450977\n",
      "0.32633663366450977\n",
      "0.32888613861503707\n",
      "0.32888613861503707\n",
      "0.3314356435655476\n",
      "0.3314356435655476\n",
      "0.333985148516033\n",
      "0.333985148516033\n",
      "0.33653465346650363\n",
      "0.33653465346650363\n",
      "0.3390841584169599\n",
      "0.3390841584169599\n",
      "0.3416336633674007\n",
      "0.3416336633674007\n",
      "0.3441831683178282\n",
      "0.3441831683178282\n",
      "0.3467326732682518\n",
      "0.3467326732682518\n",
      "0.3492821782186728\n",
      "0.3492821782186728\n",
      "0.35183168316909047\n",
      "0.35183168316909047\n",
      "0.3543811881195052\n",
      "0.3543811881195052\n",
      "0.3569306930699196\n",
      "0.3569306930699196\n",
      "0.35948019802034026\n",
      "0.35948019802034026\n",
      "0.3620297029707794\n",
      "0.3620297029707794\n",
      "0.36457920792121934\n",
      "0.36457920792121934\n",
      "0.36712871287167004\n",
      "0.36712871287167004\n",
      "0.3696782178221325\n",
      "0.3696782178221325\n",
      "0.37222772277260663\n",
      "0.37222772277260663\n",
      "0.3747772277230916\n",
      "0.3747772277230916\n",
      "0.3773267326735887\n",
      "0.3773267326735887\n",
      "0.37987623762409023\n",
      "0.37987623762409023\n",
      "0.38242574257461825\n",
      "0.38242574257461825\n",
      "0.3849752475251523\n",
      "0.3849752475251523\n",
      "0.387524752475688\n",
      "0.387524752475688\n",
      "0.3900742574262185\n",
      "0.3900742574262185\n",
      "0.39262376237676183\n",
      "0.39262376237676183\n",
      "0.39517326732730457\n",
      "0.39517326732730457\n",
      "0.3977227722778545\n",
      "0.3977227722778545\n",
      "0.4002722772284062\n",
      "0.4002722772284062\n",
      "0.4028217821789595\n",
      "0.4028217821789595\n",
      "0.4053712871295139\n",
      "0.4053712871295139\n",
      "0.4079207920800714\n",
      "0.4079207920800714\n",
      "0.41047029703061055\n",
      "0.41047029703061055\n",
      "0.4130198019811478\n",
      "0.4130198019811478\n",
      "0.41556930693168054\n",
      "0.41556930693168054\n",
      "0.41811881188221384\n",
      "0.41811881188221384\n",
      "0.42066831683274314\n",
      "0.42066831683274314\n",
      "0.42321782178326967\n",
      "0.42321782178326967\n",
      "0.4257673267337993\n",
      "0.4257673267337993\n",
      "0.42831683168432255\n",
      "0.42831683168432255\n",
      "0.4308663366348415\n",
      "0.4308663366348415\n",
      "0.43341584158535684\n",
      "0.43341584158535684\n",
      "0.43596534653587854\n",
      "0.43596534653587854\n",
      "0.4385148514863929\n",
      "0.4385148514863929\n",
      "0.44106435643690667\n",
      "0.44106435643690667\n",
      "0.4436138613874158\n",
      "0.4436138613874158\n",
      "0.4461633663379275\n",
      "0.4461633663379275\n",
      "0.4487128712884377\n",
      "0.4487128712884377\n",
      "0.45126237623894083\n",
      "0.45126237623894083\n",
      "0.4538118811894464\n",
      "0.4538118811894464\n",
      "0.4563613861399513\n",
      "0.4563613861399513\n",
      "0.458910891090454\n",
      "0.458910891090454\n",
      "0.4614603960409552\n",
      "0.4614603960409552\n",
      "0.464009900991454\n",
      "0.464009900991454\n",
      "0.46655940594195\n",
      "0.46655940594195\n",
      "0.46910891089244827\n",
      "0.46910891089244827\n",
      "0.47165841584293977\n",
      "0.47165841584293977\n",
      "0.47420792079343405\n",
      "0.47420792079343405\n",
      "0.4767574257439275\n",
      "0.4767574257439275\n",
      "0.4793069306944179\n",
      "0.4793069306944179\n",
      "0.4818564356449072\n",
      "0.4818564356449072\n",
      "0.48440594059539543\n",
      "0.48440594059539543\n",
      "0.4869554455458828\n",
      "0.4869554455458828\n",
      "0.4895049504963645\n",
      "0.4895049504963645\n",
      "0.49205445544685145\n",
      "0.49205445544685145\n",
      "0.49460396039732923\n",
      "0.49460396039732923\n",
      "0.4971534653478158\n",
      "0.4971534653478158\n",
      "0.4997029702982952\n",
      "0.4997029702982952\n",
      "0.5022524752487693\n",
      "0.5022524752487693\n",
      "0.5048019801992485\n",
      "0.5048019801992485\n",
      "0.5073514851497296\n",
      "0.5073514851497296\n"
     ]
    }
   ],
   "source": [
    "epsilon_granule = 0.01\n",
    "\n",
    "inprocessing_objective_values_loss = []\n",
    "postprocessing_objective_values_loss = []\n",
    "robust_objective_values_loss = []\n",
    "\n",
    "# Iterate over datasets\n",
    "for s in range(5):\n",
    "    proportions_test = proportions_test_arr[s]\n",
    "    a_indices_test = a_indices_test_arr[s]\n",
    "    inprocessing_y_pred = inprocessing_preds[s]\n",
    "    postprocessing_y_pred = postprocessing_preds[s]\n",
    "    y_test = y_test_arr[s]\n",
    "    \n",
    "    inprocessing_curr = []\n",
    "    postprocessing_curr = []\n",
    "    # Iterate over constraints\n",
    "    for i in range(0, int(1/epsilon_granule)):\n",
    "        epsilon = epsilon_granule * i\n",
    "        lower_bound = (1 - epsilon)/(len(X_test))\n",
    "        upper_bound = (1 + epsilon)/(len(X_test))\n",
    "\n",
    "        inprocessing_objective_value_a0a1, w = weighted_loss_linear_prog(inprocessing_y_pred, y_test, a_indices_test, proportions_test, lower_bound, upper_bound, 'a0', 'a1')\n",
    "        inprocessing_objective_value_a1a0, w = weighted_loss_linear_prog(inprocessing_y_pred, y_test, a_indices_test, proportions_test, lower_bound, upper_bound, 'a1', 'a0')\n",
    "        inprocessing_objective_value = max(inprocessing_objective_value_a0a1, inprocessing_objective_value_a1a0)\n",
    "        inprocessing_curr.append(inprocessing_objective_value)\n",
    "\n",
    "        postprocessing_objective_value_a0a1, w = weighted_loss_linear_prog(postprocessing_y_pred, y_test, a_indices_test, proportions_test, lower_bound, upper_bound, 'a0', 'a1')\n",
    "        postprocessing_objective_value_a1a0, w = weighted_loss_linear_prog(postprocessing_y_pred, y_test, a_indices_test, proportions_test, lower_bound, upper_bound, 'a1', 'a0')\n",
    "        postprocessing_objective_value = max(postprocessing_objective_value_a0a1, postprocessing_objective_value_a1a0)\n",
    "        postprocessing_curr.append(postprocessing_objective_value)\n",
    "    \n",
    "    inprocessing_objective_values_loss.append(np.asarray(inprocessing_curr))\n",
    "    postprocessing_objective_values_loss.append(np.asarray(postprocessing_curr))\n",
    "    \n",
    "for i in range(0, int(1/epsilon_granule)):\n",
    "    epsilon = epsilon_granule * i\n",
    "    lower_bound = (1 - epsilon)/(len(X_test))\n",
    "    upper_bound = (1 + epsilon)/(len(X_test))\n",
    "\n",
    "    robust_objective_value_a0a1, w = weighted_loss_linear_prog(robust_pred, y_test_arr[0], a_indices_test, proportions_test, lower_bound, upper_bound, 'a0', 'a1')\n",
    "    robust_objective_value_a1a0, w = weighted_loss_linear_prog(robust_pred, y_test_arr[0], a_indices_test, proportions_test, lower_bound, upper_bound, 'a1', 'a0')\n",
    "    print(robust_objective_value_a1a0)\n",
    "    print(robust_objective_value_a0a1)\n",
    "    robust_objective_value = max(robust_objective_value_a0a1, robust_objective_value_a1a0)\n",
    "    robust_objective_values_loss.append(robust_objective_value)"
   ]
  },
  {
   "cell_type": "code",
   "execution_count": 31,
   "metadata": {},
   "outputs": [],
   "source": [
    "epsilons = []\n",
    "for i in range(0, int(1/epsilon_granule)):\n",
    "    epsilons.append(i * epsilon_granule)"
   ]
  },
  {
   "cell_type": "code",
   "execution_count": 32,
   "metadata": {},
   "outputs": [],
   "source": [
    "# Average over the results\n",
    "inprocessing_avg_objective_values_loss = np.zeros(len(inprocessing_objective_values_loss[0]))\n",
    "postprocessing_avg_objective_values_loss = np.zeros(len(postprocessing_objective_values_loss[0]))\n",
    "\n",
    "for i in range(5):\n",
    "    inprocessing_avg_objective_values_loss += inprocessing_objective_values_loss[i]\n",
    "    postprocessing_avg_objective_values_loss += postprocessing_objective_values_loss[i]\n",
    "    \n",
    "inprocessing_avg_objective_values_loss = np.divide(inprocessing_avg_objective_values_loss, 5)\n",
    "postprocessing_avg_objective_values_loss = np.divide(postprocessing_avg_objective_values_loss, 5)\n",
    "robust_avg_objective_values_loss = robust_objective_values_loss"
   ]
  },
  {
   "cell_type": "code",
   "execution_count": 33,
   "metadata": {},
   "outputs": [],
   "source": [
    "inprocessing_std_err = []\n",
    "postprocessing_std_err = []\n",
    "\n",
    "for i in range(100):\n",
    "    inprocessing_vals = []\n",
    "    postprocessing_vals = []\n",
    "    \n",
    "    for s in range(5):\n",
    "        inprocessing_vals.append(inprocessing_objective_values_loss[s][i])\n",
    "        postprocessing_vals.append(postprocessing_objective_values_loss[s][i])\n",
    "        \n",
    "    inprocessing_std_err.append(std_error(inprocessing_vals))\n",
    "    postprocessing_std_err.append(std_error(postprocessing_vals))"
   ]
  },
  {
   "cell_type": "code",
   "execution_count": 34,
   "metadata": {},
   "outputs": [
    {
     "data": {
      "text/plain": [
       "Text(0.5, 1.0, 'Adult Comparison (h0, Weighted Loss, T=1000)')"
      ]
     },
     "execution_count": 34,
     "metadata": {},
     "output_type": "execute_result"
    },
    {
     "data": {
      "image/png": "[encoded data removed]",
      "text/plain": [
       "<Figure size 648x648 with 1 Axes>"
      ]
     },
     "metadata": {
      "needs_background": "light"
     },
     "output_type": "display_data"
    }
   ],
   "source": [
    "# Plot the constraints vs. objective values\n",
    "plt.figure(figsize=(9,9))\n",
    "plt.plot(epsilons, inprocessing_avg_objective_values_loss, 'orange')\n",
    "plt.plot(epsilons, postprocessing_avg_objective_values_loss, 'blue')\n",
    "plt.plot(epsilons, robust_avg_objective_values_loss, 'red')\n",
    "plt.fill_between(epsilons, inprocessing_avg_objective_values_loss - inprocessing_std_err, inprocessing_avg_objective_values_loss + inprocessing_std_err, color='orange', alpha=0.2)\n",
    "plt.fill_between(epsilons, postprocessing_avg_objective_values_loss - postprocessing_std_err, postprocessing_avg_objective_values_loss + postprocessing_std_err, color='blue', alpha=0.2)\n",
    "plt.xlabel('Epsilon in Constraint')\n",
    "plt.ylabel('LP Objective Value')\n",
    "plt.title('Adult Comparison (h0, Weighted Loss, T=1000)')"
   ]
  },
  {
   "cell_type": "code",
   "execution_count": 39,
   "metadata": {},
   "outputs": [
    {
     "data": {
      "text/plain": [
       "array([0.23366337, 0.236     , 0.23833663, 0.24067327, 0.2430099 ,\n",
       "       0.24534653, 0.24768317, 0.2500198 , 0.25235644, 0.25469307,\n",
       "       0.2570297 , 0.25936634, 0.26170297, 0.2640396 , 0.26637624,\n",
       "       0.26871287, 0.2710495 , 0.27338614, 0.27572277, 0.27805941,\n",
       "       0.28039604, 0.28273267, 0.28506931, 0.28740594, 0.28974257,\n",
       "       0.29207921, 0.29441584, 0.29675248, 0.29908911, 0.30142574,\n",
       "       0.30376238, 0.30609901, 0.30843564, 0.31077228, 0.31310891,\n",
       "       0.31544554, 0.31778218, 0.32011881, 0.32245545, 0.32479208,\n",
       "       0.32712871, 0.32946535, 0.33180198, 0.33413861, 0.33647525,\n",
       "       0.33881188, 0.34114851, 0.34348515, 0.34582178, 0.34815842,\n",
       "       0.35049505, 0.35283168, 0.35516832, 0.35750495, 0.35984158,\n",
       "       0.36217822, 0.36451485, 0.36685149, 0.36918812, 0.37152475,\n",
       "       0.37386139, 0.37619802, 0.37853465, 0.38087129, 0.38320792,\n",
       "       0.38554455, 0.38788119, 0.39021782, 0.39255446, 0.39489109,\n",
       "       0.39722772, 0.39956436, 0.40190099, 0.40423762, 0.40657426,\n",
       "       0.40891089, 0.41124752, 0.41358416, 0.41592079, 0.41825743,\n",
       "       0.42059406, 0.42293069, 0.42526733, 0.42760396, 0.42994059,\n",
       "       0.43227723, 0.43461386, 0.4369505 , 0.43928713, 0.44162376,\n",
       "       0.4439604 , 0.44629703, 0.44863366, 0.4509703 , 0.45330693,\n",
       "       0.45564356, 0.4579802 , 0.46031683, 0.46265347, 0.4649901 ])"
      ]
     },
     "execution_count": 39,
     "metadata": {},
     "output_type": "execute_result"
    }
   ],
   "source": [
    "postprocessing_avg_objective_values_loss"
   ]
  },
  {
   "cell_type": "code",
   "execution_count": null,
   "metadata": {},
   "outputs": [],
   "source": []
  }
 ],
 "metadata": {
  "colab": {
   "collapsed_sections": [],
   "name": "EO_linear_prog_constraints.ipynb",
   "provenance": [],
   "toc_visible": true
  },
  "kernelspec": {
   "display_name": "Python 3",
   "language": "python",
   "name": "python3"
  },
  "language_info": {
   "codemirror_mode": {
    "name": "ipython",
    "version": 3
   },
   "file_extension": ".py",
   "mimetype": "text/x-python",
   "name": "python",
   "nbconvert_exporter": "python",
   "pygments_lexer": "ipython3",
   "version": "3.7.3"
  }
 },
 "nbformat": 4,
 "nbformat_minor": 2
}
