{
 "cells": [
  {
   "cell_type": "markdown",
   "metadata": {
    "colab_type": "text",
    "id": "VYEUJK2JDiTS"
   },
   "source": [
    "# COMPAS EO Comparison"
   ]
  },
  {
   "cell_type": "code",
   "execution_count": 1,
   "metadata": {
    "colab": {},
    "colab_type": "code",
    "id": "TYaVKaWuDiTT"
   },
   "outputs": [],
   "source": [
    "import pandas as pd\n",
    "import numpy as np\n",
    "import matplotlib.pyplot as plt\n",
    "import cvxpy as cp\n",
    "from sklearn.linear_model import LogisticRegression\n",
    "from sklearn.metrics import accuracy_score\n",
    "import pickle\n",
    "from voting_classifier import VotingClassifier"
   ]
  },
  {
   "cell_type": "code",
   "execution_count": 2,
   "metadata": {},
   "outputs": [],
   "source": [
    "%matplotlib inline\n",
    "\n",
    "import matplotlib.pyplot as plt\n",
    "import matplotlib.cm as cm\n",
    "\n",
    "def evaluate_fairness(y_true, y_pred, sensitive_features):\n",
    "    \"\"\"\n",
    "    Evaluates fairness of the final majority vote classifier over T_inner hypotheses\n",
    "    on the test set.\n",
    "    #NOTE: defined in the meta_algo file, but we chose:\n",
    "    a0 := African-American (COMPAS), Female (Adult)\n",
    "    a1 := Caucasian (COMPAS), Male (Adult)\n",
    "\n",
    "    :return: list. subgroups in sensitive_features.\n",
    "    :return: list, dict, dict. groups is a list of the sensitive features in the dataset. \n",
    "    group_metrics is a dictionary containing dictionaries that have Delta_dp, Delta_eoy0, \n",
    "    and Delta_eoy1 for each group. gaps is a dictionary that contains the fairness gap\n",
    "    for dp, eo_y0 and eo_y1.\n",
    "    \"\"\"\n",
    "    groups = np.unique(sensitive_features.values)\n",
    "    pos_count = {}\n",
    "    dp_pct = {}\n",
    "    eo_y0_pct = {}\n",
    "    eo_y1_pct = {}\n",
    "\n",
    "    for index, group in enumerate(groups):\n",
    "        # Demographic Parity\n",
    "        indices = {}\n",
    "        indices[group] = sensitive_features.index[sensitive_features == group]\n",
    "        dp_pct[group] = sum(y_pred[indices[group]])/len(indices[group])\n",
    "\n",
    "        # Equalized Odds\n",
    "        y1_indices = {}\n",
    "        y0_indices = {}\n",
    "        y1_indices[group] = sensitive_features.index[(sensitive_features == group) & (y_true == 1)]\n",
    "        y0_indices[group] = sensitive_features.index[(sensitive_features == group) & (y_true == 0)]\n",
    "        eo_y0_pct[group] = sum(y_pred[y0_indices[group]])/len(y0_indices[group])   \n",
    "        eo_y1_pct[group] = sum(y_pred[y1_indices[group]])/len(y1_indices[group])\n",
    "\n",
    "    gaps = {}\n",
    "    group_metrics = {} # a dictionary of dictionaries\n",
    "\n",
    "    gaps['dp'] = abs(dp_pct[groups[0]] - dp_pct[groups[1]])\n",
    "    gaps['eo_y0'] = abs(eo_y0_pct[groups[0]] - eo_y0_pct[groups[1]])\n",
    "    gaps['eo_y1'] = abs(eo_y1_pct[groups[0]] - eo_y1_pct[groups[1]])\n",
    "    group_metrics['dp'] = dp_pct\n",
    "    group_metrics['eo_y0'] = eo_y0_pct\n",
    "    group_metrics['eo_y1'] = eo_y1_pct\n",
    "\n",
    "    return groups, group_metrics, gaps"
   ]
  },
  {
   "cell_type": "code",
   "execution_count": 3,
   "metadata": {},
   "outputs": [],
   "source": [
    "def set_a_indices(sensitive_features, y):\n",
    "    \"\"\"\n",
    "    Creates a dictionary a_indices that contains the necessary information for which indices\n",
    "    contain the sensitive/protected attributes.\n",
    "\n",
    "    :return: dict 'a_indices' which contains a list of the a_0 indices, list of a_1 indices,\n",
    "    list of a_0 indices where y = 0, list of a_0 indices where y = 1, list of a_1 indices\n",
    "    where y = 0, list of a_1 indices where y = 1, and a list containing the a value of each sample.\n",
    "    \"\"\"\n",
    "    a_indices = dict()\n",
    "    a_indices['a0'] = sensitive_features.index[sensitive_features.eq(0)].tolist()\n",
    "    a_indices['a1'] = sensitive_features.index[sensitive_features.eq(1)].tolist()\n",
    "    a_indices['all'] = sensitive_features.tolist()\n",
    "\n",
    "    y0 = set(np.where(y == 0)[0])\n",
    "    y1 = set(np.where(y == 1)[0])\n",
    "    a_indices['a0_y0'] = list(y0.intersection(set(a_indices['a0'])))\n",
    "    a_indices['a0_y1'] = list(y1.intersection(set(a_indices['a0'])))\n",
    "    a_indices['a1_y0'] = list(y0.intersection(set(a_indices['a1'])))\n",
    "    a_indices['a1_y1'] = list(y1.intersection(set(a_indices['a1'])))\n",
    "\n",
    "    assert(len(a_indices['a0']) + len(a_indices['a1']) == len(y))\n",
    "    assert(len(a_indices['a0_y0']) + len(a_indices['a0_y1']) + len(a_indices['a1_y0']) + len(a_indices['a1_y1']) == len(y))\n",
    "    return a_indices\n",
    "\n",
    "def set_proportions(a_indices, y, fair_constraint):\n",
    "    proportions = {}\n",
    "    proportions['a0'] = len(a_indices['a0'])/float(len(y))\n",
    "    proportions['a1'] = len(a_indices['a1'])/float(len(y))\n",
    "    proportions['a0_y0'] = len(a_indices['a0_y0'])/float(len(y))\n",
    "    proportions['a0_y1'] = len(a_indices['a0_y1'])/float(len(y))\n",
    "    proportions['a1_y0'] = len(a_indices['a1_y0'])/float(len(y))\n",
    "    proportions['a1_y1'] = len(a_indices['a1_y1'])/float(len(y))\n",
    "    proportions['y0'] = (len(np.where(y == 0)[0]))/float(len(y))\n",
    "    proportions['y1'] = (len(np.where(y == 1)[0]))/float(len(y))\n",
    "\n",
    "    print('y0 proportion = {}'.format(proportions['y0']))\n",
    "    print('y1 proportion = {}'.format(proportions['y1']))\n",
    "    print('a0 proportion = {}'.format(proportions['a0']))\n",
    "    print('a1 proportion = {}'.format(proportions['a1']))\n",
    "    print('a0 y0 proportion = {}'.format(proportions['a0_y0']))\n",
    "    print('a1 y0 proportion = {}'.format(proportions['a1_y0']))\n",
    "    print('a0 y1 proportion = {}'.format(proportions['a0_y1']))\n",
    "    print('a1 y1 proportion = {}'.format(proportions['a1_y1']))\n",
    "\n",
    "    assert(proportions['y0'] + proportions['y1'] == 1)\n",
    "    assert(proportions['a0'] + proportions['a1'] == 1)\n",
    "    #assert(proportions['a0_y0'] + proportions['a0_y1'] + proportions['a1_y0'] + proportions['a1_y1'] == 1)\n",
    "\n",
    "    return proportions"
   ]
  },
  {
   "cell_type": "code",
   "execution_count": 4,
   "metadata": {},
   "outputs": [],
   "source": [
    "def std_error(arr):\n",
    "    std = np.std(arr)\n",
    "    return std/np.sqrt(len(arr))"
   ]
  },
  {
   "cell_type": "markdown",
   "metadata": {
    "colab_type": "text",
    "id": "id0PTMTBDiTV"
   },
   "source": [
    "## Import Data\n",
    "We take A (the protected attribute) to be the 'race' variable, and a = 0 while a' = 1. "
   ]
  },
  {
   "cell_type": "code",
   "execution_count": 5,
   "metadata": {
    "colab": {},
    "colab_type": "code",
    "id": "EaDU5FwHDiTW"
   },
   "outputs": [],
   "source": [
    "X_train_arr = []\n",
    "X_test_arr = []\n",
    "y_train_arr = []\n",
    "y_test_arr = []\n",
    "sensitive_features_train_arr = []\n",
    "sensitive_features_test_arr = []\n",
    "\n",
    "for i in range(5):\n",
    "    X_train = pd.read_csv('./../../data/processed/compas/compas_train{}_X.csv'.format(i + 1))\n",
    "    X_test = pd.read_csv('./../../data/processed/compas/compas_test{}_X.csv'.format(i + 1))\n",
    "    y_train = pd.read_csv('./../../data/processed/compas/compas_train{}_y.csv'.format(i + 1))\n",
    "    y_test = pd.read_csv('./../../data/processed/compas/compas_test{}_y.csv'.format(i + 1))\n",
    "\n",
    "    y_train = y_train['two_year_recid']\n",
    "    y_test = y_test['two_year_recid']\n",
    "    \n",
    "    sensitive_features_train = X_train['race']\n",
    "    sensitive_features_test = X_test['race']\n",
    "\n",
    "    sensitive_features_train[sensitive_features_train <= 0] = 0\n",
    "    sensitive_features_train[sensitive_features_train > 0] = 1\n",
    "    sensitive_features_train = sensitive_features_train.reset_index(drop=True)\n",
    "    \n",
    "    sensitive_features_test[sensitive_features_test <= 0] = 0\n",
    "    sensitive_features_test[sensitive_features_test > 0] = 1\n",
    "    sensitive_features_test = sensitive_features_test.reset_index(drop=True)\n",
    "    \n",
    "    X_train_arr.append(X_train)\n",
    "    X_test_arr.append(X_test)\n",
    "    y_train_arr.append(y_train)\n",
    "    y_test_arr.append(y_test)\n",
    "    sensitive_features_train_arr.append(sensitive_features_train)\n",
    "    sensitive_features_test_arr.append(sensitive_features_test)"
   ]
  },
  {
   "cell_type": "code",
   "execution_count": 6,
   "metadata": {
    "colab": {
     "base_uri": "https://localhost:8080/",
     "height": 241
    },
    "colab_type": "code",
    "id": "3D-WDPLsDiTY",
    "outputId": "b8ec1cdc-e070-4f7f-bf86-05c73fe9bdfe"
   },
   "outputs": [
    {
     "name": "stdout",
     "output_type": "stream",
     "text": [
      "(1600, 10)\n",
      "(400, 10)\n",
      "(1600,)\n",
      "(400,)\n",
      "5\n"
     ]
    }
   ],
   "source": [
    "print(X_train_arr[0].shape)\n",
    "print(X_test_arr[0].shape)\n",
    "print(y_train_arr[0].shape)\n",
    "print(y_test_arr[0].shape)\n",
    "print(len(X_train_arr))"
   ]
  },
  {
   "cell_type": "code",
   "execution_count": 7,
   "metadata": {
    "colab": {},
    "colab_type": "code",
    "id": "IvLHi63FDiTb"
   },
   "outputs": [],
   "source": [
    "a_indices_train_arr = []\n",
    "a_indices_test_arr = []\n",
    "\n",
    "for i in range(5):\n",
    "    a_indices_train_arr.append(set_a_indices(sensitive_features_train_arr[i], y_train_arr[i]))\n",
    "    a_indices_test_arr.append(set_a_indices(sensitive_features_test_arr[i], y_test_arr[i]))"
   ]
  },
  {
   "cell_type": "code",
   "execution_count": 8,
   "metadata": {},
   "outputs": [
    {
     "name": "stdout",
     "output_type": "stream",
     "text": [
      "y0 proportion = 0.53625\n",
      "y1 proportion = 0.46375\n",
      "a0 proportion = 0.600625\n",
      "a1 proportion = 0.399375\n",
      "a0 y0 proportion = 0.288125\n",
      "a1 y0 proportion = 0.248125\n",
      "a0 y1 proportion = 0.3125\n",
      "a1 y1 proportion = 0.15125\n",
      "y0 proportion = 0.52\n",
      "y1 proportion = 0.48\n",
      "a0 proportion = 0.585\n",
      "a1 proportion = 0.415\n",
      "a0 y0 proportion = 0.285\n",
      "a1 y0 proportion = 0.235\n",
      "a0 y1 proportion = 0.3\n",
      "a1 y1 proportion = 0.18\n",
      "y0 proportion = 0.5325\n",
      "y1 proportion = 0.4675\n",
      "a0 proportion = 0.598125\n",
      "a1 proportion = 0.401875\n",
      "a0 y0 proportion = 0.286875\n",
      "a1 y0 proportion = 0.245625\n",
      "a0 y1 proportion = 0.31125\n",
      "a1 y1 proportion = 0.15625\n",
      "y0 proportion = 0.535\n",
      "y1 proportion = 0.465\n",
      "a0 proportion = 0.595\n",
      "a1 proportion = 0.405\n",
      "a0 y0 proportion = 0.29\n",
      "a1 y0 proportion = 0.245\n",
      "a0 y1 proportion = 0.305\n",
      "a1 y1 proportion = 0.16\n",
      "y0 proportion = 0.530625\n",
      "y1 proportion = 0.469375\n",
      "a0 proportion = 0.59875\n",
      "a1 proportion = 0.40125\n",
      "a0 y0 proportion = 0.289375\n",
      "a1 y0 proportion = 0.24125\n",
      "a0 y1 proportion = 0.309375\n",
      "a1 y1 proportion = 0.16\n",
      "y0 proportion = 0.5425\n",
      "y1 proportion = 0.4575\n",
      "a0 proportion = 0.5925\n",
      "a1 proportion = 0.4075\n",
      "a0 y0 proportion = 0.28\n",
      "a1 y0 proportion = 0.2625\n",
      "a0 y1 proportion = 0.3125\n",
      "a1 y1 proportion = 0.145\n",
      "y0 proportion = 0.52875\n",
      "y1 proportion = 0.47125\n",
      "a0 proportion = 0.6025\n",
      "a1 proportion = 0.3975\n",
      "a0 y0 proportion = 0.29\n",
      "a1 y0 proportion = 0.23875\n",
      "a0 y1 proportion = 0.3125\n",
      "a1 y1 proportion = 0.15875\n",
      "y0 proportion = 0.55\n",
      "y1 proportion = 0.45\n",
      "a0 proportion = 0.5775\n",
      "a1 proportion = 0.4225\n",
      "a0 y0 proportion = 0.2775\n",
      "a1 y0 proportion = 0.2725\n",
      "a0 y1 proportion = 0.3\n",
      "a1 y1 proportion = 0.15\n",
      "y0 proportion = 0.53375\n",
      "y1 proportion = 0.46625\n",
      "a0 proportion = 0.59\n",
      "a1 proportion = 0.41\n",
      "a0 y0 proportion = 0.280625\n",
      "a1 y0 proportion = 0.253125\n",
      "a0 y1 proportion = 0.309375\n",
      "a1 y1 proportion = 0.156875\n",
      "y0 proportion = 0.53\n",
      "y1 proportion = 0.47\n",
      "a0 proportion = 0.6275\n",
      "a1 proportion = 0.3725\n",
      "a0 y0 proportion = 0.315\n",
      "a1 y0 proportion = 0.215\n",
      "a0 y1 proportion = 0.3125\n",
      "a1 y1 proportion = 0.1575\n"
     ]
    }
   ],
   "source": [
    "proportions_train_arr = []\n",
    "proportions_test_arr = []\n",
    "\n",
    "for i in range(5):\n",
    "    proportions_train_arr.append(set_proportions(a_indices_train_arr[i], y_train_arr[i], 'eo'))\n",
    "    proportions_test_arr.append(set_proportions(a_indices_test_arr[i], y_test_arr[i], 'eo'))"
   ]
  },
  {
   "cell_type": "markdown",
   "metadata": {},
   "source": [
    "## Train and Predict (Unconstrained Logistic Regression)"
   ]
  },
  {
   "cell_type": "code",
   "execution_count": 9,
   "metadata": {},
   "outputs": [],
   "source": [
    "unconstrained_clfrs = []\n",
    "unconstrained_test_accs = []\n",
    "unconstrained_dps = []\n",
    "unconstrained_preds = []"
   ]
  },
  {
   "cell_type": "code",
   "execution_count": 11,
   "metadata": {},
   "outputs": [
    {
     "name": "stdout",
     "output_type": "stream",
     "text": [
      "Adult Test Accuracy (Unconstrained, EO): 0.6375\n",
      "P[h(X) = 1 | A = 0.0, Y = 1] = 0.675\n",
      "P[h(X) = 1 | A = 0.0, Y = 0] = 0.39473684210526316\n",
      "P[h(X) = 1 | A = 1.0, Y = 1] = 0.3472222222222222\n",
      "P[h(X) = 1 | A = 1.0, Y = 0] = 0.14893617021276595\n",
      "Delta_eo1 = 0.32777777777777783\n",
      "Delta_eo0 = 0.2458006718924972\n",
      "Adult Test Accuracy (Unconstrained, EO): 0.68\n",
      "P[h(X) = 1 | A = 0.0, Y = 1] = 0.819672131147541\n",
      "P[h(X) = 1 | A = 0.0, Y = 0] = 0.46551724137931033\n",
      "P[h(X) = 1 | A = 1.0, Y = 1] = 0.46875\n",
      "P[h(X) = 1 | A = 1.0, Y = 0] = 0.1836734693877551\n",
      "Delta_eo1 = 0.350922131147541\n",
      "Delta_eo0 = 0.2818437719915552\n",
      "Adult Test Accuracy (Unconstrained, EO): 0.6575\n",
      "P[h(X) = 1 | A = 0.0, Y = 1] = 0.68\n",
      "P[h(X) = 1 | A = 0.0, Y = 0] = 0.32142857142857145\n",
      "P[h(X) = 1 | A = 1.0, Y = 1] = 0.3793103448275862\n",
      "P[h(X) = 1 | A = 1.0, Y = 0] = 0.23809523809523808\n",
      "Delta_eo1 = 0.30068965517241386\n",
      "Delta_eo0 = 0.08333333333333337\n",
      "Adult Test Accuracy (Unconstrained, EO): 0.72\n",
      "P[h(X) = 1 | A = 0.0, Y = 1] = 0.7666666666666667\n",
      "P[h(X) = 1 | A = 0.0, Y = 0] = 0.34234234234234234\n",
      "P[h(X) = 1 | A = 1.0, Y = 1] = 0.4666666666666667\n",
      "P[h(X) = 1 | A = 1.0, Y = 0] = 0.12844036697247707\n",
      "Delta_eo1 = 0.30000000000000004\n",
      "Delta_eo0 = 0.21390197536986527\n",
      "Adult Test Accuracy (Unconstrained, EO): 0.6775\n",
      "P[h(X) = 1 | A = 0.0, Y = 1] = 0.68\n",
      "P[h(X) = 1 | A = 0.0, Y = 0] = 0.30158730158730157\n",
      "P[h(X) = 1 | A = 1.0, Y = 1] = 0.3968253968253968\n",
      "P[h(X) = 1 | A = 1.0, Y = 0] = 0.1511627906976744\n",
      "Delta_eo1 = 0.28317460317460325\n",
      "Delta_eo0 = 0.15042451088962716\n"
     ]
    }
   ],
   "source": [
    "for i in range(5):\n",
    "    X_train = X_train_arr[i]\n",
    "    y_train = y_train_arr[i]\n",
    "    X_test = X_test_arr[i]\n",
    "    y_test = y_test_arr[i]\n",
    "    sensitive_features_train = sensitive_features_train_arr[i]\n",
    "    sensitive_features_test = sensitive_features_test_arr[i]\n",
    "    \n",
    "    unconstrained_logreg = LogisticRegression()\n",
    "\n",
    "    unconstrained_logreg.fit(X_train, y_train)\n",
    "    unconstrained_pred = unconstrained_logreg.predict(X_test)\n",
    "\n",
    "    print(\"Adult Test Accuracy (Unconstrained, EO): {}\".format(accuracy_score(unconstrained_pred, y_test)))\n",
    "    groups, group_metrics_eo, gaps_eo = evaluate_fairness(y_test, unconstrained_pred, sensitive_features_test)\n",
    "\n",
    "    for group in groups:\n",
    "        print(\"P[h(X) = 1 | A = {}, Y = 1] = {}\".format(group, group_metrics_eo['eo_y1'][group]))\n",
    "        print(\"P[h(X) = 1 | A = {}, Y = 0] = {}\".format(group, group_metrics_eo['eo_y0'][group]))\n",
    "    print(\"Delta_eo1 = {}\".format(gaps_eo['eo_y1']))\n",
    "    print(\"Delta_eo0 = {}\".format(gaps_eo['eo_y0']))\n",
    "    \n",
    "    unconstrained_clfrs.append(unconstrained_logreg)\n",
    "    unconstrained_test_accs.append(accuracy_score(unconstrained_pred, y_test))\n",
    "    unconstrained_preds.append(unconstrained_pred)"
   ]
  },
  {
   "cell_type": "markdown",
   "metadata": {},
   "source": [
    "## Train and Predict (Preprocessing)"
   ]
  },
  {
   "cell_type": "code",
   "execution_count": 15,
   "metadata": {},
   "outputs": [],
   "source": [
    "preprocessing_clfrs = []\n",
    "preprocessing_test_accs = []\n",
    "preprocessing_dps = []\n",
    "preprocessing_preds = []"
   ]
  },
  {
   "cell_type": "code",
   "execution_count": 16,
   "metadata": {},
   "outputs": [],
   "source": [
    "# Form the IBM Fairness Dataset Object\n",
    "from aif360.datasets import BinaryLabelDataset\n",
    "from aif360.algorithms.preprocessing.reweighing import Reweighing\n",
    "\n",
    "preprocess_train_arr = []\n",
    "\n",
    "privileged_groups = [{'race': 1}]\n",
    "unprivileged_groups = [{'race': 0}]\n",
    "\n",
    "for s in range(5):\n",
    "    X_train_copy = X_train_arr[s].copy()\n",
    "    y_train_copy = y_train_arr[s].copy()\n",
    "    X_test_copy = X_test_arr[s].copy()\n",
    "    y_test_copy = y_test_arr[s].copy()\n",
    "\n",
    "    X_train_copy['two_year_recid'] = y_train_copy\n",
    "    X_test_copy['two_year_recid'] = y_test_copy\n",
    "    \n",
    "    preprocess_train = BinaryLabelDataset(1, 0, df=X_train_copy, label_names=['two_year_recid'], protected_attribute_names=['race'])\n",
    "    preprocess_train_arr.append(preprocess_train)"
   ]
  },
  {
   "cell_type": "code",
   "execution_count": 17,
   "metadata": {},
   "outputs": [
    {
     "name": "stdout",
     "output_type": "stream",
     "text": [
      "Adult Test Accuracy (Preprocessing, EO): 0.6125\n",
      "P[h(X) = 1 | A = 0.0, Y = 1] = 0.5166666666666667\n",
      "P[h(X) = 1 | A = 0.0, Y = 0] = 0.3157894736842105\n",
      "P[h(X) = 1 | A = 1.0, Y = 1] = 0.5833333333333334\n",
      "P[h(X) = 1 | A = 1.0, Y = 0] = 0.32978723404255317\n",
      "Delta_eo1 = 0.06666666666666665\n",
      "Delta_eo0 = 0.013997760358342659\n",
      "Adult Test Accuracy (Preprocessing, EO): 0.645\n",
      "P[h(X) = 1 | A = 0.0, Y = 1] = 0.6147540983606558\n",
      "P[h(X) = 1 | A = 0.0, Y = 0] = 0.25862068965517243\n",
      "P[h(X) = 1 | A = 1.0, Y = 1] = 0.5625\n",
      "P[h(X) = 1 | A = 1.0, Y = 0] = 0.37755102040816324\n",
      "Delta_eo1 = 0.052254098360655754\n",
      "Delta_eo0 = 0.11893033075299081\n",
      "Adult Test Accuracy (Preprocessing, EO): 0.635\n",
      "P[h(X) = 1 | A = 0.0, Y = 1] = 0.6\n",
      "P[h(X) = 1 | A = 0.0, Y = 0] = 0.25892857142857145\n",
      "P[h(X) = 1 | A = 1.0, Y = 1] = 0.5517241379310345\n",
      "P[h(X) = 1 | A = 1.0, Y = 0] = 0.3904761904761905\n",
      "Delta_eo1 = 0.0482758620689655\n",
      "Delta_eo0 = 0.13154761904761902\n",
      "Adult Test Accuracy (Preprocessing, EO): 0.69\n",
      "P[h(X) = 1 | A = 0.0, Y = 1] = 0.6333333333333333\n",
      "P[h(X) = 1 | A = 0.0, Y = 0] = 0.23423423423423423\n",
      "P[h(X) = 1 | A = 1.0, Y = 1] = 0.6\n",
      "P[h(X) = 1 | A = 1.0, Y = 0] = 0.27522935779816515\n",
      "Delta_eo1 = 0.033333333333333326\n",
      "Delta_eo0 = 0.040995123563930924\n",
      "Adult Test Accuracy (Preprocessing, EO): 0.665\n",
      "P[h(X) = 1 | A = 0.0, Y = 1] = 0.592\n",
      "P[h(X) = 1 | A = 0.0, Y = 0] = 0.25396825396825395\n",
      "P[h(X) = 1 | A = 1.0, Y = 1] = 0.6190476190476191\n",
      "P[h(X) = 1 | A = 1.0, Y = 0] = 0.313953488372093\n",
      "Delta_eo1 = 0.027047619047619098\n",
      "Delta_eo0 = 0.05998523440383907\n"
     ]
    }
   ],
   "source": [
    "for i in range(5):\n",
    "    preprocess_train = preprocess_train_arr[i]\n",
    "    \n",
    "    X_train = X_train_arr[i]\n",
    "    y_train = y_train_arr[i]\n",
    "    X_test = X_test_arr[i]\n",
    "    y_test = y_test_arr[i]\n",
    "    sensitive_features_train = sensitive_features_train_arr[i]\n",
    "    sensitive_features_test = sensitive_features_test_arr[i]\n",
    "    \n",
    "    RW = Reweighing(unprivileged_groups=unprivileged_groups,\n",
    "               privileged_groups=privileged_groups)\n",
    "    dataset_transf_train = RW.fit_transform(preprocess_train)\n",
    "    logreg = LogisticRegression()\n",
    "    logreg.fit(X_train, y_train,\n",
    "            sample_weight=dataset_transf_train.instance_weights)\n",
    "    \n",
    "    preprocessing_y_pred = logreg.predict(X_test)\n",
    "\n",
    "    ### Back to using original data ###\n",
    "    print(\"Adult Test Accuracy (Preprocessing, EO): {}\".format(accuracy_score(preprocessing_y_pred, y_test)))\n",
    "    groups, group_metrics_eo, gaps_eo = evaluate_fairness(y_test, preprocessing_y_pred, sensitive_features_test)\n",
    "\n",
    "    for group in groups:\n",
    "        print(\"P[h(X) = 1 | A = {}, Y = 1] = {}\".format(group, group_metrics_eo['eo_y1'][group]))\n",
    "        print(\"P[h(X) = 1 | A = {}, Y = 0] = {}\".format(group, group_metrics_eo['eo_y0'][group]))\n",
    "    print(\"Delta_eo1 = {}\".format(gaps_eo['eo_y1']))\n",
    "    print(\"Delta_eo0 = {}\".format(gaps_eo['eo_y0']))\n",
    "    \n",
    "    preprocessing_clfrs.append(logreg)\n",
    "    preprocessing_test_accs.append(accuracy_score(preprocessing_y_pred, y_test))\n",
    "    preprocessing_preds.append(preprocessing_y_pred)"
   ]
  },
  {
   "cell_type": "markdown",
   "metadata": {},
   "source": [
    "## Train and Predict (Inprocessing)"
   ]
  },
  {
   "cell_type": "code",
   "execution_count": 18,
   "metadata": {},
   "outputs": [],
   "source": [
    "from fairlearn.reductions import ExponentiatedGradient, DemographicParity, EqualizedOdds\n",
    "\n",
    "inprocessing_clfrs = []\n",
    "inprocessing_test_accs = []\n",
    "inprocessing_dps = []\n",
    "inprocessing_preds = []"
   ]
  },
  {
   "cell_type": "code",
   "execution_count": 19,
   "metadata": {},
   "outputs": [
    {
     "name": "stdout",
     "output_type": "stream",
     "text": [
      "Adult Test Accuracy (Inprocessing, EO): 0.6325\n",
      "P[h(X) = 1 | A = 0.0, Y = 1] = 0.625\n",
      "P[h(X) = 1 | A = 0.0, Y = 0] = 0.35964912280701755\n",
      "P[h(X) = 1 | A = 1.0, Y = 1] = 0.5833333333333334\n",
      "P[h(X) = 1 | A = 1.0, Y = 0] = 0.32978723404255317\n",
      "Delta_eo1 = 0.04166666666666663\n",
      "Delta_eo0 = 0.029861888764464384\n",
      "Adult Test Accuracy (Inprocessing, EO): 0.6475\n",
      "P[h(X) = 1 | A = 0.0, Y = 1] = 0.6721311475409836\n",
      "P[h(X) = 1 | A = 0.0, Y = 0] = 0.3103448275862069\n",
      "P[h(X) = 1 | A = 1.0, Y = 1] = 0.5625\n",
      "P[h(X) = 1 | A = 1.0, Y = 0] = 0.37755102040816324\n",
      "Delta_eo1 = 0.10963114754098358\n",
      "Delta_eo0 = 0.06720619282195633\n",
      "Adult Test Accuracy (Inprocessing, EO): 0.645\n",
      "P[h(X) = 1 | A = 0.0, Y = 1] = 0.68\n",
      "P[h(X) = 1 | A = 0.0, Y = 0] = 0.32142857142857145\n",
      "P[h(X) = 1 | A = 1.0, Y = 1] = 0.5172413793103449\n",
      "P[h(X) = 1 | A = 1.0, Y = 0] = 0.3619047619047619\n",
      "Delta_eo1 = 0.1627586206896552\n",
      "Delta_eo0 = 0.04047619047619044\n",
      "Adult Test Accuracy (Inprocessing, EO): 0.7075\n",
      "P[h(X) = 1 | A = 0.0, Y = 1] = 0.7\n",
      "P[h(X) = 1 | A = 0.0, Y = 0] = 0.27927927927927926\n",
      "P[h(X) = 1 | A = 1.0, Y = 1] = 0.6333333333333333\n",
      "P[h(X) = 1 | A = 1.0, Y = 0] = 0.25688073394495414\n",
      "Delta_eo1 = 0.06666666666666665\n",
      "Delta_eo0 = 0.022398545334325115\n",
      "Adult Test Accuracy (Inprocessing, EO): 0.65\n",
      "P[h(X) = 1 | A = 0.0, Y = 1] = 0.64\n",
      "P[h(X) = 1 | A = 0.0, Y = 0] = 0.3253968253968254\n",
      "P[h(X) = 1 | A = 1.0, Y = 1] = 0.5555555555555556\n",
      "P[h(X) = 1 | A = 1.0, Y = 0] = 0.3023255813953488\n",
      "Delta_eo1 = 0.08444444444444443\n",
      "Delta_eo0 = 0.023071244001476587\n"
     ]
    }
   ],
   "source": [
    "for i in range(5):\n",
    "    X_train = X_train_arr[i]\n",
    "    y_train = y_train_arr[i]\n",
    "    X_test = X_test_arr[i]\n",
    "    y_test = y_test_arr[i]\n",
    "    sensitive_features_train = sensitive_features_train_arr[i]\n",
    "    sensitive_features_test = sensitive_features_test_arr[i]\n",
    "    \n",
    "    inprocessing_dp = ExponentiatedGradient(\n",
    "        LogisticRegression(solver='liblinear', fit_intercept=True, class_weight='balanced'),\n",
    "        constraints=EqualizedOdds(),\n",
    "        eps=0.05,\n",
    "        nu=1e-6)\n",
    "\n",
    "    inprocessing_dp.fit(X_train, y_train, sensitive_features=sensitive_features_train)\n",
    "    inprocessing_y_pred = inprocessing_dp.predict(X_test)\n",
    "\n",
    "    print(\"Adult Test Accuracy (Inprocessing, EO): {}\".format(accuracy_score(inprocessing_y_pred, y_test)))\n",
    "    groups, group_metrics_eo, gaps_eo = evaluate_fairness(y_test, inprocessing_y_pred, sensitive_features_test)\n",
    "\n",
    "    for group in groups:\n",
    "        print(\"P[h(X) = 1 | A = {}, Y = 1] = {}\".format(group, group_metrics_eo['eo_y1'][group]))\n",
    "        print(\"P[h(X) = 1 | A = {}, Y = 0] = {}\".format(group, group_metrics_eo['eo_y0'][group]))\n",
    "    print(\"Delta_eo1 = {}\".format(gaps_eo['eo_y1']))\n",
    "    print(\"Delta_eo0 = {}\".format(gaps_eo['eo_y0']))\n",
    "    \n",
    "    inprocessing_clfrs.append(inprocessing_dp)\n",
    "    inprocessing_test_accs.append(accuracy_score(inprocessing_y_pred, y_test))\n",
    "    inprocessing_preds.append(inprocessing_y_pred)"
   ]
  },
  {
   "cell_type": "markdown",
   "metadata": {},
   "source": [
    "## Train and Predict (Postprocessing)"
   ]
  },
  {
   "cell_type": "code",
   "execution_count": 20,
   "metadata": {},
   "outputs": [],
   "source": [
    "from fairlearn.postprocessing import ThresholdOptimizer\n",
    "from sklearn import clone\n",
    "from sklearn.base import BaseEstimator, ClassifierMixin\n",
    "from sklearn.utils.validation import check_is_fitted\n",
    "from sklearn.exceptions import NotFittedError\n",
    "\n",
    "postprocessing_clfrs = []\n",
    "postprocessing_test_accs = []\n",
    "postprocessing_dps = []\n",
    "postprocessing_preds = []"
   ]
  },
  {
   "cell_type": "code",
   "execution_count": 21,
   "metadata": {},
   "outputs": [],
   "source": [
    "class LogisticRegressionAsRegression(BaseEstimator, ClassifierMixin):\n",
    "    def __init__(self, logistic_regression_estimator):\n",
    "        self.logistic_regression_estimator = logistic_regression_estimator\n",
    "\n",
    "    def fit(self, X, y):\n",
    "        try:\n",
    "            check_is_fitted(self.logistic_regression_estimator)\n",
    "            self.logistic_regression_estimator_ = self.logistic_regression_estimator\n",
    "        except NotFittedError:\n",
    "            self.logistic_regression_estimator_ = clone(\n",
    "                self.logistic_regression_estimator\n",
    "            ).fit(X, y)\n",
    "        return self\n",
    "\n",
    "    def predict(self, X):\n",
    "        # use predict_proba to get real values instead of 0/1, select only prob for 1\n",
    "        scores = self.logistic_regression_estimator_.predict_proba(X)[:, 1]\n",
    "        return scores"
   ]
  },
  {
   "cell_type": "code",
   "execution_count": 22,
   "metadata": {},
   "outputs": [
    {
     "name": "stdout",
     "output_type": "stream",
     "text": [
      "Adult Test Accuracy (Postprocessing, EO): 0.5825\n",
      "P[h(X) = 1 | A = 0.0, Y = 1] = 0.3333333333333333\n",
      "P[h(X) = 1 | A = 0.0, Y = 0] = 0.22807017543859648\n",
      "P[h(X) = 1 | A = 1.0, Y = 1] = 0.3472222222222222\n",
      "P[h(X) = 1 | A = 1.0, Y = 0] = 0.14893617021276595\n",
      "Delta_eo1 = 0.013888888888888895\n",
      "Delta_eo0 = 0.07913400522583053\n",
      "Adult Test Accuracy (Postprocessing, EO): 0.645\n",
      "P[h(X) = 1 | A = 0.0, Y = 1] = 0.639344262295082\n",
      "P[h(X) = 1 | A = 0.0, Y = 0] = 0.28448275862068967\n",
      "P[h(X) = 1 | A = 1.0, Y = 1] = 0.5625\n",
      "P[h(X) = 1 | A = 1.0, Y = 0] = 0.37755102040816324\n",
      "Delta_eo1 = 0.07684426229508201\n",
      "Delta_eo0 = 0.09306826178747357\n",
      "Adult Test Accuracy (Postprocessing, EO): 0.605\n",
      "P[h(X) = 1 | A = 0.0, Y = 1] = 0.592\n",
      "P[h(X) = 1 | A = 0.0, Y = 0] = 0.35714285714285715\n",
      "P[h(X) = 1 | A = 1.0, Y = 1] = 0.5517241379310345\n",
      "P[h(X) = 1 | A = 1.0, Y = 0] = 0.3904761904761905\n",
      "Delta_eo1 = 0.040275862068965496\n",
      "Delta_eo0 = 0.033333333333333326\n",
      "Adult Test Accuracy (Postprocessing, EO): 0.6775\n",
      "P[h(X) = 1 | A = 0.0, Y = 1] = 0.65\n",
      "P[h(X) = 1 | A = 0.0, Y = 0] = 0.3063063063063063\n",
      "P[h(X) = 1 | A = 1.0, Y = 1] = 0.5833333333333334\n",
      "P[h(X) = 1 | A = 1.0, Y = 0] = 0.25688073394495414\n",
      "Delta_eo1 = 0.06666666666666665\n",
      "Delta_eo0 = 0.049425572361352144\n",
      "Adult Test Accuracy (Postprocessing, EO): 0.655\n",
      "P[h(X) = 1 | A = 0.0, Y = 1] = 0.608\n",
      "P[h(X) = 1 | A = 0.0, Y = 0] = 0.29365079365079366\n",
      "P[h(X) = 1 | A = 1.0, Y = 1] = 0.6349206349206349\n",
      "P[h(X) = 1 | A = 1.0, Y = 0] = 0.3372093023255814\n",
      "Delta_eo1 = 0.0269206349206349\n",
      "Delta_eo0 = 0.04355850867478772\n"
     ]
    }
   ],
   "source": [
    "for i in range(5):\n",
    "    X_train = X_train_arr[i]\n",
    "    y_train = y_train_arr[i]\n",
    "    X_test = X_test_arr[i]\n",
    "    y_test = y_test_arr[i]\n",
    "    sensitive_features_train = sensitive_features_train_arr[i]\n",
    "    sensitive_features_test = sensitive_features_test_arr[i]\n",
    "    \n",
    "    logreg = LogisticRegression()\n",
    "    logreg.fit(X_train, y_train)\n",
    "    estimator_wrapper = LogisticRegressionAsRegression(logreg).fit(X_train, y_train)\n",
    "    postprocessed_predictor_dp = ThresholdOptimizer(estimator=estimator_wrapper, constraints=\"equalized_odds\", prefit=True)\n",
    "\n",
    "    postprocessed_predictor_dp.fit(X_train, y_train, sensitive_features=sensitive_features_train)\n",
    "    postprocessing_y_pred = postprocessed_predictor_dp.predict(X_test, sensitive_features=sensitive_features_test)\n",
    "\n",
    "    print(\"Adult Test Accuracy (Postprocessing, EO): {}\".format(accuracy_score(postprocessing_y_pred, y_test)))\n",
    "    groups, group_metrics_eo, gaps_eo = evaluate_fairness(y_test, postprocessing_y_pred, sensitive_features_test)\n",
    "\n",
    "    for group in groups:\n",
    "        print(\"P[h(X) = 1 | A = {}, Y = 1] = {}\".format(group, group_metrics_eo['eo_y1'][group]))\n",
    "        print(\"P[h(X) = 1 | A = {}, Y = 0] = {}\".format(group, group_metrics_eo['eo_y0'][group]))\n",
    "    print(\"Delta_eo1 = {}\".format(gaps_eo['eo_y1']))\n",
    "    print(\"Delta_eo0 = {}\".format(gaps_eo['eo_y0']))\n",
    "\n",
    "    postprocessing_clfrs.append(postprocessed_predictor_dp)\n",
    "    postprocessing_test_accs.append(accuracy_score(postprocessing_y_pred, y_test))\n",
    "    postprocessing_preds.append(postprocessing_y_pred)"
   ]
  },
  {
   "cell_type": "markdown",
   "metadata": {},
   "source": [
    "## Predict (Robust Algorithm h_0, T = 1000)"
   ]
  },
  {
   "cell_type": "code",
   "execution_count": 20,
   "metadata": {},
   "outputs": [],
   "source": [
    "robust_clfrs = []\n",
    "robust_test_accs = []\n",
    "robust_dps = []\n",
    "robust_preds = []"
   ]
  },
  {
   "cell_type": "code",
   "execution_count": 21,
   "metadata": {},
   "outputs": [
    {
     "name": "stdout",
     "output_type": "stream",
     "text": [
      "Adult Test Accuracy (Robust, EO): 0.6881188118811881\n",
      "P[h(X) = 1 | A = 0.0, Y = 1] = 0.44970414201183434\n",
      "P[h(X) = 1 | A = 0.0, Y = 0] = 0.05426356589147287\n",
      "P[h(X) = 1 | A = 1.0, Y = 1] = 0.038461538461538464\n",
      "P[h(X) = 1 | A = 1.0, Y = 0] = 0.0125\n",
      "Delta_eo1 = 0.41124260355029585\n",
      "Delta_eo0 = 0.04176356589147287\n",
      "Adult Test Accuracy (Robust, EO): 0.6782178217821783\n",
      "P[h(X) = 1 | A = 0.0, Y = 1] = 0.4143646408839779\n",
      "P[h(X) = 1 | A = 0.0, Y = 0] = 0.0423728813559322\n",
      "P[h(X) = 1 | A = 1.0, Y = 1] = 0.37037037037037035\n",
      "P[h(X) = 1 | A = 1.0, Y = 0] = 0.02564102564102564\n",
      "Delta_eo1 = 0.04399427051360755\n",
      "Delta_eo0 = 0.01673185571490656\n",
      "Adult Test Accuracy (Robust, EO): 0.650990099009901\n",
      "P[h(X) = 1 | A = 0.0, Y = 1] = 0.39106145251396646\n",
      "P[h(X) = 1 | A = 0.0, Y = 0] = 0.06363636363636363\n",
      "P[h(X) = 1 | A = 1.0, Y = 1] = 0.3\n",
      "P[h(X) = 1 | A = 1.0, Y = 0] = 0.047058823529411764\n",
      "Delta_eo1 = 0.09106145251396647\n",
      "Delta_eo0 = 0.016577540106951866\n",
      "Adult Test Accuracy (Robust, EO): 0.7153465346534653\n",
      "P[h(X) = 1 | A = 0.0, Y = 1] = 0.48333333333333334\n",
      "P[h(X) = 1 | A = 0.0, Y = 0] = 0.07627118644067797\n",
      "P[h(X) = 1 | A = 1.0, Y = 1] = 0.6071428571428571\n",
      "P[h(X) = 1 | A = 1.0, Y = 0] = 0.02564102564102564\n",
      "Delta_eo1 = 0.12380952380952376\n",
      "Delta_eo0 = 0.05063016079965233\n",
      "Adult Test Accuracy (Robust, EO): 0.7004950495049505\n",
      "P[h(X) = 1 | A = 0.0, Y = 1] = 0.4318181818181818\n",
      "P[h(X) = 1 | A = 0.0, Y = 0] = 0.015151515151515152\n",
      "P[h(X) = 1 | A = 1.0, Y = 1] = 0.4666666666666667\n",
      "P[h(X) = 1 | A = 1.0, Y = 0] = 0.045454545454545456\n",
      "Delta_eo1 = 0.03484848484848485\n",
      "Delta_eo0 = 0.030303030303030304\n"
     ]
    }
   ],
   "source": [
    "for i in range(5):\n",
    "    X_train = X_train_arr[i]\n",
    "    y_train = y_train_arr[i]\n",
    "    X_test = X_test_arr[i]\n",
    "    y_test = y_test_arr[i]\n",
    "    sensitive_features_train = sensitive_features_train_arr[i]\n",
    "    sensitive_features_test = sensitive_features_test_arr[i]\n",
    "    \n",
    "    pickled_file = './robust_classifiers/finalh0eo_adult/h0_finalh0eo_adult1000split{}.pkl'.format(i+1)\n",
    "    pickled_robust_h = open(pickled_file, \"rb\")\n",
    "    robust_h = pickle.load(pickled_robust_h)\n",
    "    robust_pred = robust_h.predict(X_test)\n",
    "    print(\"Adult Test Accuracy (Robust, EO): {}\".format(accuracy_score(robust_pred, y_test)))\n",
    "    groups, group_metrics_eo, gaps_eo = evaluate_fairness(y_test, robust_pred, sensitive_features_test)\n",
    "    for group in groups:\n",
    "        print(\"P[h(X) = 1 | A = {}, Y = 1] = {}\".format(group, group_metrics_eo['eo_y1'][group]))\n",
    "        print(\"P[h(X) = 1 | A = {}, Y = 0] = {}\".format(group, group_metrics_eo['eo_y0'][group]))\n",
    "    print(\"Delta_eo1 = {}\".format(gaps_eo['eo_y1']))\n",
    "    print(\"Delta_eo0 = {}\".format(gaps_eo['eo_y0']))\n",
    "    \n",
    "    robust_clfrs.append(robust_h)\n",
    "    robust_test_accs.append(accuracy_score(robust_pred, y_test))\n",
    "    robust_preds.append(robust_pred)"
   ]
  },
  {
   "cell_type": "markdown",
   "metadata": {
    "colab_type": "text",
    "id": "3WyqW_D6Q13G"
   },
   "source": [
    "## Linear Program Function\n",
    "Create a reusable function for each linear program.\n",
    "\n",
    "The argument constraint is the constraint we want to set on the w's. This should be between 0 and 1.\n",
    "\n",
    "The argument y_value should be Y = 0 or Y = 1, depending on which Y value we want to test EO on. "
   ]
  },
  {
   "cell_type": "code",
   "execution_count": 22,
   "metadata": {},
   "outputs": [],
   "source": [
    "def EO_linear_prog(y_pred, a_indices, proportions, lower_bound, upper_bound, a, a_p, y_value):\n",
    "    # Make sure constraint is within bounds\n",
    "    assert(0 < lower_bound < 1)\n",
    "    assert(0 < upper_bound < 1)\n",
    "    \n",
    "    if(y_value != 'y0' and y_value != 'y1'):\n",
    "        return(\"Enter y0 or y1 for the second argument (y_value for eo).\")\n",
    "    \n",
    "    # Setup variables and subgp names\n",
    "    n = len(y_pred)\n",
    "    w = cp.Variable(n)\n",
    "    a_y = a + '_' + y_value\n",
    "    a_p_y = a_p + '_' + y_value\n",
    "    excluded_subgroups = list({\"a0_y0\", \"a0_y1\", \"a1_y0\", \"a1_y1\"}.difference(set([a_y, a_p_y])))\n",
    "    \n",
    "    # Setup prediction vector\n",
    "    h_xi_a = y_pred.copy()\n",
    "    h_xi_a[a_indices[a_p_y]] = 0\n",
    "    for gp in excluded_subgroups:\n",
    "        h_xi_a[a_indices[gp]] = 0\n",
    "    h_xi_ap = y_pred.copy()\n",
    "    h_xi_ap[a_indices[a_y]] = 0\n",
    "    for gp in excluded_subgroups:\n",
    "        h_xi_ap[a_indices[gp]] = 0\n",
    "    \n",
    "    # Setup subgroup proportions\n",
    "    pi_a = proportions[a_y]\n",
    "    pi_a_p = proportions[a_p_y]\n",
    "    \n",
    "    # Set constraints\n",
    "    constraints = [\n",
    "        cp.sum(w[a_indices[a_y]]) == pi_a,\n",
    "        cp.sum(w[a_indices[a_p_y]]) == pi_a_p,\n",
    "        cp.sum(w) == 1,\n",
    "        0 <= w,\n",
    "        lower_bound <= w,\n",
    "        w <= upper_bound\n",
    "    ]\n",
    "    \n",
    "    for group in excluded_subgroups:\n",
    "        constraints.append(w[a_indices[group]] == 1/n)\n",
    "        \n",
    "    # Setup objective and problem\n",
    "    objective = cp.Maximize(((1/pi_a) * (w @ h_xi_a)) - ((1/pi_a_p) * (w @ h_xi_ap)))\n",
    "    problem = cp.Problem(objective, constraints)\n",
    "    \n",
    "    # Solve problem\n",
    "    problem.solve(solver = 'ECOS')\n",
    "    return problem.value, w.value"
   ]
  },
  {
   "cell_type": "markdown",
   "metadata": {
    "colab_type": "text",
    "id": "oRPqsRrIDiTp"
   },
   "source": [
    "## Experiment with Linear Program (Y = 0)\n",
    "Experiment with setting the constraints as: $$w_i \\leq \\frac{(1 + \\epsilon)}{n}$$ and $$\\frac{(1 - \\epsilon)}{n} \\leq w_i$$ where n is the number of samples in the data."
   ]
  },
  {
   "cell_type": "code",
   "execution_count": 30,
   "metadata": {
    "colab": {},
    "colab_type": "code",
    "id": "7AUPEl91DiUE"
   },
   "outputs": [],
   "source": [
    "epsilon_granule = 0.01\n",
    "\n",
    "unconstrained_objective_values_y0 = []\n",
    "preprocessing_objective_values_y0 = []\n",
    "inprocessing_objective_values_y0 = []\n",
    "postprocessing_objective_values_y0 = []\n",
    "robust_objective_values_y0 = []\n",
    "\n",
    "# Iterate over datasets\n",
    "for s in range(5):\n",
    "    unconstrained_y_pred = unconstrained_preds[s]\n",
    "    preprocessing_y_pred = preprocessing_preds[s]\n",
    "    inprocessing_y_pred = inprocessing_preds[s]\n",
    "    postprocessing_y_pred = postprocessing_preds[s]\n",
    "    robust_pred = robust_preds[s]\n",
    "    a_indices_test = a_indices_test_arr[s]\n",
    "    proportions_test = proportions_test_arr[s]\n",
    "    \n",
    "    unconstrained_curr = []\n",
    "    preprocessing_curr = []\n",
    "    inprocessing_curr = []\n",
    "    postprocessing_curr = []\n",
    "    robust_curr = []\n",
    "    # Iterate over constraints\n",
    "    for i in range(0, int(1/epsilon_granule)):\n",
    "        epsilon = epsilon_granule * i\n",
    "        lower_bound = (1 - epsilon)/(len(X_test))\n",
    "        upper_bound = (1 + epsilon)/(len(X_test))\n",
    "\n",
    "        unconstrained_objective_value_a0a1, w = EO_linear_prog(unconstrained_y_pred, a_indices_test, proportions_test, lower_bound, upper_bound, 'a0', 'a1', 'y0')\n",
    "        unconstrained_objective_value_a1a0, w = EO_linear_prog(unconstrained_y_pred, a_indices_test, proportions_test, lower_bound, upper_bound, 'a1', 'a0', 'y0')\n",
    "        unconstrained_objective_value = max(unconstrained_objective_value_a0a1, unconstrained_objective_value_a1a0)\n",
    "        unconstrained_curr.append(unconstrained_objective_value)\n",
    "        \n",
    "        preprocessing_objective_value_a0a1, w = EO_linear_prog(preprocessing_y_pred, a_indices_test, proportions_test, lower_bound, upper_bound, 'a0', 'a1', 'y0')\n",
    "        preprocessing_objective_value_a1a0, w = EO_linear_prog(preprocessing_y_pred, a_indices_test, proportions_test, lower_bound, upper_bound, 'a1', 'a0', 'y0')\n",
    "        preprocessing_objective_value = max(preprocessing_objective_value_a0a1, preprocessing_objective_value_a1a0)\n",
    "        preprocessing_curr.append(preprocessing_objective_value)\n",
    "\n",
    "        inprocessing_objective_value_a0a1, w = EO_linear_prog(inprocessing_y_pred, a_indices_test, proportions_test, lower_bound, upper_bound, 'a0', 'a1', 'y0')\n",
    "        inprocessing_objective_value_a1a0, w = EO_linear_prog(inprocessing_y_pred, a_indices_test, proportions_test, lower_bound, upper_bound, 'a1', 'a0', 'y0')\n",
    "        inprocessing_objective_value = max(inprocessing_objective_value_a0a1, inprocessing_objective_value_a1a0)\n",
    "        inprocessing_curr.append(inprocessing_objective_value)\n",
    "\n",
    "        postprocessing_objective_value_a0a1, w = EO_linear_prog(postprocessing_y_pred, a_indices_test, proportions_test, lower_bound, upper_bound, 'a0', 'a1', 'y0')\n",
    "        postprocessing_objective_value_a1a0, w = EO_linear_prog(postprocessing_y_pred, a_indices_test, proportions_test, lower_bound, upper_bound, 'a1', 'a0', 'y0')\n",
    "        postprocessing_objective_value = max(postprocessing_objective_value_a0a1, postprocessing_objective_value_a1a0)\n",
    "        postprocessing_curr.append(postprocessing_objective_value)\n",
    "\n",
    "        robust_objective_value_a0a1, w = EO_linear_prog(robust_pred, a_indices_test, proportions_test, lower_bound, upper_bound, 'a0', 'a1', 'y0')\n",
    "        robust_objective_value_a1a0, w = EO_linear_prog(robust_pred, a_indices_test, proportions_test, lower_bound, upper_bound, 'a1', 'a0', 'y0')\n",
    "        robust_objective_value = max(robust_objective_value_a0a1, robust_objective_value_a1a0)\n",
    "        robust_curr.append(robust_objective_value)\n",
    "    \n",
    "    unconstrained_objective_values_y0.append(np.asarray(unconstrained_curr))\n",
    "    preprocessing_objective_values_y0.append(np.asarray(preprocessing_curr))\n",
    "    inprocessing_objective_values_y0.append(np.asarray(inprocessing_curr))\n",
    "    postprocessing_objective_values_y0.append(np.asarray(postprocessing_curr))\n",
    "    robust_objective_values_y0.append(np.asarray(robust_curr))"
   ]
  },
  {
   "cell_type": "code",
   "execution_count": 31,
   "metadata": {},
   "outputs": [],
   "source": [
    "epsilons = []\n",
    "for i in range(0, int(1/epsilon_granule)):\n",
    "    epsilons.append(i * epsilon_granule)"
   ]
  },
  {
   "cell_type": "code",
   "execution_count": 53,
   "metadata": {},
   "outputs": [],
   "source": [
    "# Average over the results\n",
    "unconstrained_avg_objective_values_y0 = np.zeros(len(unconstrained_objective_values_y0[0]))\n",
    "preprocessing_avg_objective_values_y0 = np.zeros(len(preprocessing_objective_values_y0[0]))\n",
    "inprocessing_avg_objective_values_y0 = np.zeros(len(inprocessing_objective_values_y0[0]))\n",
    "postprocessing_avg_objective_values_y0 = np.zeros(len(postprocessing_objective_values_y0[0]))\n",
    "robust_avg_objective_values_y0 = np.zeros(len(robust_objective_values_y0[0]))\n",
    "\n",
    "for i in range(1,5):\n",
    "    unconstrained_avg_objective_values_y0 += unconstrained_objective_values_y0[i]\n",
    "    preprocessing_avg_objective_values_y0 += preprocessing_objective_values_y0[i]\n",
    "    inprocessing_avg_objective_values_y0 += inprocessing_objective_values_y0[i]\n",
    "    postprocessing_avg_objective_values_y0 += postprocessing_objective_values_y0[i]\n",
    "    robust_avg_objective_values_y0 += robust_objective_values_y0[i]\n",
    "    \n",
    "unconstrained_avg_objective_values_y0 = np.divide(unconstrained_avg_objective_values_y0, 4)\n",
    "preprocessing_avg_objective_values_y0 = np.divide(preprocessing_avg_objective_values_y0, 4)\n",
    "inprocessing_avg_objective_values_y0 = np.divide(inprocessing_avg_objective_values_y0, 4)\n",
    "postprocessing_avg_objective_values_y0 = np.divide(postprocessing_avg_objective_values_y0, 4)\n",
    "robust_avg_objective_values_y0 = np.divide(robust_avg_objective_values_y0, 4)"
   ]
  },
  {
   "cell_type": "code",
   "execution_count": 54,
   "metadata": {},
   "outputs": [],
   "source": [
    "unconstrained_std_err = []\n",
    "preprocessing_std_err = []\n",
    "inprocessing_std_err = []\n",
    "postprocessing_std_err = []\n",
    "robust_std_err = []\n",
    "\n",
    "for i in range(100):\n",
    "    unconstrained_vals = []\n",
    "    preprocessing_vals = []\n",
    "    inprocessing_vals = []\n",
    "    postprocessing_vals = []\n",
    "    robust_vals = []\n",
    "    \n",
    "    for s in range(1,5):\n",
    "        unconstrained_vals.append(unconstrained_objective_values_y0[s][i])\n",
    "        preprocessing_vals.append(preprocessing_objective_values_y0[s][i])\n",
    "        inprocessing_vals.append(inprocessing_objective_values_y0[s][i])\n",
    "        postprocessing_vals.append(postprocessing_objective_values_y0[s][i])\n",
    "        robust_vals.append(robust_objective_values_y0[s][i])\n",
    "        \n",
    "    unconstrained_std_err.append(std_error(unconstrained_vals))\n",
    "    preprocessing_std_err.append(std_error(preprocessing_vals))\n",
    "    inprocessing_std_err.append(std_error(inprocessing_vals))\n",
    "    postprocessing_std_err.append(std_error(postprocessing_vals))\n",
    "    robust_std_err.append(std_error(robust_vals))"
   ]
  },
  {
   "cell_type": "code",
   "execution_count": 55,
   "metadata": {
    "colab": {
     "base_uri": "https://localhost:8080/",
     "height": 584
    },
    "colab_type": "code",
    "id": "Xi_v9x66SZM8",
    "outputId": "82c6be1e-58c1-43c6-c9e0-6894bb31fbed"
   },
   "outputs": [
    {
     "data": {
      "text/plain": [
       "Text(0.5, 1.0, 'Adult Comparison (h0, EOy0, T=1000)')"
      ]
     },
     "execution_count": 55,
     "metadata": {},
     "output_type": "execute_result"
    },
    {
     "data": {
      "image/png": "[encoded data removed]",
      "text/plain": [
       "<Figure size 648x648 with 1 Axes>"
      ]
     },
     "metadata": {
      "needs_background": "light"
     },
     "output_type": "display_data"
    }
   ],
   "source": [
    "# Plot the constraints vs. objective values\n",
    "plt.figure(figsize=(9,9))\n",
    "plt.plot(epsilons, unconstrained_avg_objective_values_y0, 'magenta')\n",
    "plt.plot(epsilons, preprocessing_avg_objective_values_y0, 'green')\n",
    "plt.plot(epsilons, inprocessing_avg_objective_values_y0, 'orange')\n",
    "plt.plot(epsilons, postprocessing_avg_objective_values_y0, 'blue')\n",
    "plt.plot(epsilons, robust_avg_objective_values_y0, 'red')\n",
    "plt.fill_between(epsilons, unconstrained_avg_objective_values_y0 - unconstrained_std_err, unconstrained_avg_objective_values_y0 + unconstrained_std_err, color='magenta', alpha=0.2)\n",
    "plt.fill_between(epsilons, preprocessing_avg_objective_values_y0 - preprocessing_std_err, preprocessing_avg_objective_values_y0 + preprocessing_std_err, color='green', alpha=0.2)\n",
    "plt.fill_between(epsilons, inprocessing_avg_objective_values_y0 - inprocessing_std_err, inprocessing_avg_objective_values_y0 + inprocessing_std_err, color='orange', alpha=0.2)\n",
    "plt.fill_between(epsilons, postprocessing_avg_objective_values_y0 - postprocessing_std_err, postprocessing_avg_objective_values_y0 + postprocessing_std_err, color='blue', alpha=0.2)\n",
    "plt.fill_between(epsilons, robust_avg_objective_values_y0 - robust_std_err, robust_avg_objective_values_y0 + robust_std_err, color='red', alpha=0.2)\n",
    "plt.xlabel('Epsilon in Constraint')\n",
    "plt.ylabel('LP Objective Value')\n",
    "plt.title('Adult Comparison (h0, EOy0, T=1000)')"
   ]
  },
  {
   "cell_type": "markdown",
   "metadata": {
    "colab_type": "text",
    "id": "5jv0qtaPWulw"
   },
   "source": [
    "## Experiment with Linear Program (Y = 1)\n",
    "Experiment with setting the constraints as: $$w_i \\leq \\frac{(1 + \\epsilon)}{n}$$ and $$\\frac{(1 - \\epsilon)}{n} \\leq w_i$$ where n is the number of samples in the data."
   ]
  },
  {
   "cell_type": "code",
   "execution_count": 56,
   "metadata": {
    "colab": {},
    "colab_type": "code",
    "id": "BUdomshxXk_l"
   },
   "outputs": [],
   "source": [
    "epsilon_granule = 0.01\n",
    "\n",
    "unconstrained_objective_values_y1 = []\n",
    "preprocessing_objective_values_y1 = []\n",
    "inprocessing_objective_values_y1 = []\n",
    "postprocessing_objective_values_y1 = []\n",
    "robust_objective_values_y1 = []\n",
    "\n",
    "# Iterate over datasets\n",
    "for s in range(5):\n",
    "    unconstrained_y_pred = unconstrained_preds[s]\n",
    "    preprocessing_y_pred = preprocessing_preds[s]\n",
    "    inprocessing_y_pred = inprocessing_preds[s]\n",
    "    postprocessing_y_pred = postprocessing_preds[s]\n",
    "    robust_pred = robust_preds[s]\n",
    "    a_indices_test = a_indices_test_arr[s]\n",
    "    proportions_test = proportions_test_arr[s]\n",
    "    \n",
    "    unconstrained_curr = []\n",
    "    preprocessing_curr = []\n",
    "    inprocessing_curr = []\n",
    "    postprocessing_curr = []\n",
    "    robust_curr = []\n",
    "    # Iterate over constraints\n",
    "    for i in range(0, int(1/epsilon_granule)):\n",
    "        epsilon = epsilon_granule * i\n",
    "        lower_bound = (1 - epsilon)/(len(X_test))\n",
    "        upper_bound = (1 + epsilon)/(len(X_test))\n",
    "\n",
    "        unconstrained_objective_value_a0a1, w = EO_linear_prog(unconstrained_y_pred, a_indices_test, proportions_test, lower_bound, upper_bound, 'a0', 'a1', 'y1')\n",
    "        unconstrained_objective_value_a1a0, w = EO_linear_prog(unconstrained_y_pred, a_indices_test, proportions_test, lower_bound, upper_bound, 'a1', 'a0', 'y1')\n",
    "        unconstrained_objective_value = max(unconstrained_objective_value_a0a1, unconstrained_objective_value_a1a0)\n",
    "        unconstrained_curr.append(unconstrained_objective_value)\n",
    "        \n",
    "        preprocessing_objective_value_a0a1, w = EO_linear_prog(preprocessing_y_pred, a_indices_test, proportions_test, lower_bound, upper_bound, 'a0', 'a1', 'y1')\n",
    "        preprocessing_objective_value_a1a0, w = EO_linear_prog(preprocessing_y_pred, a_indices_test, proportions_test, lower_bound, upper_bound, 'a1', 'a0', 'y1')\n",
    "        preprocessing_objective_value = max(preprocessing_objective_value_a0a1, preprocessing_objective_value_a1a0)\n",
    "        preprocessing_curr.append(preprocessing_objective_value)\n",
    "\n",
    "        inprocessing_objective_value_a0a1, w = EO_linear_prog(inprocessing_y_pred, a_indices_test, proportions_test, lower_bound, upper_bound, 'a0', 'a1', 'y1')\n",
    "        inprocessing_objective_value_a1a0, w = EO_linear_prog(inprocessing_y_pred, a_indices_test, proportions_test, lower_bound, upper_bound, 'a1', 'a0', 'y1')\n",
    "        inprocessing_objective_value = max(inprocessing_objective_value_a0a1, inprocessing_objective_value_a1a0)\n",
    "        inprocessing_curr.append(inprocessing_objective_value)\n",
    "\n",
    "        postprocessing_objective_value_a0a1, w = EO_linear_prog(postprocessing_y_pred, a_indices_test, proportions_test, lower_bound, upper_bound, 'a0', 'a1', 'y1')\n",
    "        postprocessing_objective_value_a1a0, w = EO_linear_prog(postprocessing_y_pred, a_indices_test, proportions_test, lower_bound, upper_bound, 'a1', 'a0', 'y1')\n",
    "        postprocessing_objective_value = max(postprocessing_objective_value_a0a1, postprocessing_objective_value_a1a0)\n",
    "        postprocessing_curr.append(postprocessing_objective_value)\n",
    "\n",
    "        robust_objective_value_a0a1, w = EO_linear_prog(robust_pred, a_indices_test, proportions_test, lower_bound, upper_bound, 'a0', 'a1', 'y1')\n",
    "        robust_objective_value_a1a0, w = EO_linear_prog(robust_pred, a_indices_test, proportions_test, lower_bound, upper_bound, 'a1', 'a0', 'y1')\n",
    "        robust_objective_value = max(robust_objective_value_a0a1, robust_objective_value_a1a0)\n",
    "        robust_curr.append(robust_objective_value)\n",
    "    \n",
    "    unconstrained_objective_values_y1.append(np.asarray(unconstrained_curr))\n",
    "    preprocessing_objective_values_y1.append(np.asarray(preprocessing_curr))\n",
    "    inprocessing_objective_values_y1.append(np.asarray(inprocessing_curr))\n",
    "    postprocessing_objective_values_y1.append(np.asarray(postprocessing_curr))\n",
    "    robust_objective_values_y1.append(np.asarray(robust_curr))"
   ]
  },
  {
   "cell_type": "code",
   "execution_count": 57,
   "metadata": {
    "colab": {
     "base_uri": "https://localhost:8080/",
     "height": 584
    },
    "colab_type": "code",
    "id": "86k_oLdvSv--",
    "outputId": "de9bfa17-8411-4e0d-c507-2c3af794f12c",
    "scrolled": false
   },
   "outputs": [],
   "source": [
    "epsilons = []\n",
    "for i in range(0, int(1/epsilon_granule)):\n",
    "    epsilons.append(i * epsilon_granule)"
   ]
  },
  {
   "cell_type": "code",
   "execution_count": 58,
   "metadata": {},
   "outputs": [],
   "source": [
    "# Average over the results\n",
    "unconstrained_avg_objective_values_y1 = np.zeros(len(unconstrained_objective_values_y1[0]))\n",
    "preprocessing_avg_objective_values_y1 = np.zeros(len(preprocessing_objective_values_y1[0]))\n",
    "inprocessing_avg_objective_values_y1 = np.zeros(len(inprocessing_objective_values_y1[0]))\n",
    "postprocessing_avg_objective_values_y1 = np.zeros(len(postprocessing_objective_values_y1[0]))\n",
    "robust_avg_objective_values_y1 = np.zeros(len(robust_objective_values_y1[0]))\n",
    "\n",
    "for i in range(1,5):\n",
    "    unconstrained_avg_objective_values_y1 += unconstrained_objective_values_y1[i]\n",
    "    preprocessing_avg_objective_values_y1 += preprocessing_objective_values_y1[i]\n",
    "    inprocessing_avg_objective_values_y1 += inprocessing_objective_values_y1[i]\n",
    "    postprocessing_avg_objective_values_y1 += postprocessing_objective_values_y1[i]\n",
    "    robust_avg_objective_values_y1 += robust_objective_values_y1[i]\n",
    "    \n",
    "    \n",
    "unconstrained_avg_objective_values_y0 = np.divide(unconstrained_avg_objective_values_y1, 4)\n",
    "preprocessing_avg_objective_values_y0 = np.divide(preprocessing_avg_objective_values_y1, 4) \n",
    "inprocessing_avg_objective_values_y1 = np.divide(inprocessing_avg_objective_values_y1, 4)\n",
    "postprocessing_avg_objective_values_y1 = np.divide(postprocessing_avg_objective_values_y1, 4)\n",
    "robust_avg_objective_values_y1 = np.divide(robust_avg_objective_values_y1, 4)"
   ]
  },
  {
   "cell_type": "code",
   "execution_count": 59,
   "metadata": {},
   "outputs": [],
   "source": [
    "unconstrained_std_err = []\n",
    "preprocessing_std_err = []\n",
    "inprocessing_std_err = []\n",
    "postprocessing_std_err = []\n",
    "robust_std_err = []\n",
    "\n",
    "for i in range(100):\n",
    "    unconstrained_vals = []\n",
    "    preprocessing_vals = []\n",
    "    inprocessing_vals = []\n",
    "    postprocessing_vals = []\n",
    "    robust_vals = []\n",
    "    \n",
    "    for s in range(1,5):\n",
    "        unconstrained_vals.append(unconstrained_objective_values_y1[s][i])\n",
    "        preprocessing_vals.append(preprocessing_objective_values_y1[s][i])\n",
    "        inprocessing_vals.append(inprocessing_objective_values_y1[s][i])\n",
    "        postprocessing_vals.append(postprocessing_objective_values_y1[s][i])\n",
    "        robust_vals.append(robust_objective_values_y1[s][i])\n",
    "        \n",
    "    unconstrained_std_err.append(std_error(unconstrained_vals))\n",
    "    preprocessing_std_err.append(std_error(preprocessing_vals))\n",
    "    inprocessing_std_err.append(std_error(inprocessing_vals))\n",
    "    postprocessing_std_err.append(std_error(postprocessing_vals))\n",
    "    robust_std_err.append(std_error(robust_vals))"
   ]
  },
  {
   "cell_type": "code",
   "execution_count": 60,
   "metadata": {},
   "outputs": [
    {
     "data": {
      "text/plain": [
       "Text(0.5, 1.0, 'Adult Comparison (h0, EOy0, T=1000)')"
      ]
     },
     "execution_count": 60,
     "metadata": {},
     "output_type": "execute_result"
    },
    {
     "data": {
      "image/png": "[encoded data removed]",
      "text/plain": [
       "<Figure size 648x648 with 1 Axes>"
      ]
     },
     "metadata": {
      "needs_background": "light"
     },
     "output_type": "display_data"
    }
   ],
   "source": [
    "# Plot the constraints vs. objective values\n",
    "plt.figure(figsize=(9,9))\n",
    "plt.plot(epsilons, unconstrained_avg_objective_values_y1, 'magenta')\n",
    "plt.plot(epsilons, preprocessing_avg_objective_values_y1, 'green')\n",
    "plt.plot(epsilons, inprocessing_avg_objective_values_y1, 'orange')\n",
    "plt.plot(epsilons, postprocessing_avg_objective_values_y1, 'blue')\n",
    "plt.plot(epsilons, robust_avg_objective_values_y1, 'red')\n",
    "plt.fill_between(epsilons, unconstrained_avg_objective_values_y1 - unconstrained_std_err, unconstrained_avg_objective_values_y1 + unconstrained_std_err, color='magenta', alpha=0.2)\n",
    "plt.fill_between(epsilons, preprocessing_avg_objective_values_y1 - preprocessing_std_err, preprocessing_avg_objective_values_y1 + preprocessing_std_err, color='green', alpha=0.2)\n",
    "plt.fill_between(epsilons, inprocessing_avg_objective_values_y1 - inprocessing_std_err, inprocessing_avg_objective_values_y1 + inprocessing_std_err, color='orange', alpha=0.2)\n",
    "plt.fill_between(epsilons, postprocessing_avg_objective_values_y1 - postprocessing_std_err, postprocessing_avg_objective_values_y1 + postprocessing_std_err, color='blue', alpha=0.2)\n",
    "plt.fill_between(epsilons, robust_avg_objective_values_y1 - robust_std_err, robust_avg_objective_values_y1 + robust_std_err, color='red', alpha=0.2)\n",
    "plt.xlabel('Epsilon in Constraint')\n",
    "plt.ylabel('LP Objective Value')\n",
    "plt.title('Adult Comparison (h0, EOy0, T=1000)')"
   ]
  },
  {
   "cell_type": "markdown",
   "metadata": {},
   "source": [
    "## Experiment with LP (Avg Y=0 and Y=1)"
   ]
  },
  {
   "cell_type": "code",
   "execution_count": 61,
   "metadata": {},
   "outputs": [],
   "source": [
    "unconstrained_objective_values_avgy0y1 = []\n",
    "preprocessing_objective_values_avgy0y1 = []\n",
    "inprocessing_objective_values_avgy0y1 = []\n",
    "postprocessing_objective_values_avgy0y1 = []\n",
    "robust_objective_values_avgy0y1 = []\n",
    "\n",
    "for i in range(5):\n",
    "    unconstrained_curr = []\n",
    "    preprocessing_curr = []\n",
    "    inprocessing_curr = []\n",
    "    postprocessing_curr = []\n",
    "    robust_curr = []\n",
    "    \n",
    "    unconstrained_avg = (unconstrained_objective_values_y0[i] + unconstrained_objective_values_y1[i])/2\n",
    "    preprocessing_avg = (preprocessing_objective_values_y0[i] + preprocessing_objective_values_y1[i])/2\n",
    "    inprocessing_avg = (inprocessing_objective_values_y0[i] + inprocessing_objective_values_y1[i])/2\n",
    "    postprocessing_avg = (postprocessing_objective_values_y0[i] + postprocessing_objective_values_y1[i])/2\n",
    "    robust_avg = (robust_objective_values_y0[i] + robust_objective_values_y1[i])/2\n",
    "    \n",
    "    unconstrained_objective_values_avgy0y1.append(unconstrained_avg)\n",
    "    preprocessing_objective_values_avgy0y1.append(preprocessing_avg)\n",
    "    inprocessing_objective_values_avgy0y1.append(inprocessing_avg)\n",
    "    postprocessing_objective_values_avgy0y1.append(postprocessing_avg)\n",
    "    robust_objective_values_avgy0y1.append(robust_avg)"
   ]
  },
  {
   "cell_type": "code",
   "execution_count": 62,
   "metadata": {},
   "outputs": [],
   "source": [
    "# Average over the results\n",
    "unconstrained_avg_objective_values_avgy0y1 = np.zeros(len(unconstrained_objective_values_avgy0y1[0]))\n",
    "preprocessing_avg_objective_values_avgy0y1 = np.zeros(len(preprocessing_objective_values_avgy0y1[0]))\n",
    "inprocessing_avg_objective_values_avgy0y1 = np.zeros(len(inprocessing_objective_values_avgy0y1[0]))\n",
    "postprocessing_avg_objective_values_avgy0y1 = np.zeros(len(postprocessing_objective_values_avgy0y1[0]))\n",
    "robust_avg_objective_values_avgy0y1 = np.zeros(len(robust_objective_values_avgy0y1[0]))\n",
    "\n",
    "for i in range(1,5):\n",
    "    unconstrained_avg_objective_values_avgy0y1 += unconstrained_objective_values_avgy0y1[i]\n",
    "    preprocessing_avg_objective_values_avgy0y1 += preprocessing_objective_values_avgy0y1[i]\n",
    "    inprocessing_avg_objective_values_avgy0y1 += inprocessing_objective_values_avgy0y1[i]\n",
    "    postprocessing_avg_objective_values_avgy0y1 += postprocessing_objective_values_avgy0y1[i]\n",
    "    robust_avg_objective_values_avgy0y1 += robust_objective_values_avgy0y1[i]\n",
    "    \n",
    "unconstrained_avg_objective_values_avgy0y1 = np.divide(unconstrained_avg_objective_values_avgy0y1, 4)\n",
    "preprocessing_avg_objective_values_avgy0y1 = np.divide(preprocessing_avg_objective_values_avgy0y1, 4)\n",
    "inprocessing_avg_objective_values_avgy0y1 = np.divide(inprocessing_avg_objective_values_avgy0y1, 4)\n",
    "postprocessing_avg_objective_values_avgy0y1 = np.divide(postprocessing_avg_objective_values_avgy0y1, 4)\n",
    "robust_avg_objective_values_avgy0y1 = np.divide(robust_avg_objective_values_avgy0y1, 4)"
   ]
  },
  {
   "cell_type": "code",
   "execution_count": 64,
   "metadata": {},
   "outputs": [],
   "source": [
    "unconstrained_std_err = []\n",
    "preprocessing_std_err = []\n",
    "inprocessing_std_err = []\n",
    "postprocessing_std_err = []\n",
    "robust_std_err = []\n",
    "\n",
    "for i in range(100):\n",
    "    uncosntrained_vals = []\n",
    "    preprocessing_vals = []\n",
    "    inprocessing_vals = []\n",
    "    postprocessing_vals = []\n",
    "    robust_vals = []\n",
    "    \n",
    "    for s in range(1,5):\n",
    "        uncosntrained_vals.append(unconstrained_objective_values_avgy0y1[s][i])\n",
    "        preprocessing_vals.append(preprocessing_objective_values_avgy0y1[s][i])\n",
    "        inprocessing_vals.append(inprocessing_objective_values_avgy0y1[s][i])\n",
    "        postprocessing_vals.append(postprocessing_objective_values_avgy0y1[s][i])\n",
    "        robust_vals.append(robust_objective_values_avgy0y1[s][i])\n",
    "        \n",
    "    unconstrained_std_err.append(std_error(uncosntrained_vals))\n",
    "    preprocessing_std_err.append(std_error(preprocessing_vals))\n",
    "    inprocessing_std_err.append(std_error(inprocessing_vals))\n",
    "    postprocessing_std_err.append(std_error(postprocessing_vals))\n",
    "    robust_std_err.append(std_error(robust_vals))"
   ]
  },
  {
   "cell_type": "code",
   "execution_count": 65,
   "metadata": {},
   "outputs": [
    {
     "data": {
      "text/plain": [
       "Text(0.5, 1.0, 'Adult Comparison (h0, EO Average, T=1000)')"
      ]
     },
     "execution_count": 65,
     "metadata": {},
     "output_type": "execute_result"
    },
    {
     "data": {
      "image/png": "[encoded data removed]",
      "text/plain": [
       "<Figure size 648x648 with 1 Axes>"
      ]
     },
     "metadata": {
      "needs_background": "light"
     },
     "output_type": "display_data"
    }
   ],
   "source": [
    "# Plot the constraints vs. objective values\n",
    "plt.figure(figsize=(9,9))\n",
    "plt.plot(epsilons, unconstrained_avg_objective_values_avgy0y1, 'magenta')\n",
    "plt.plot(epsilons, preprocessing_avg_objective_values_avgy0y1, 'green')\n",
    "plt.plot(epsilons, inprocessing_avg_objective_values_avgy0y1, 'orange')\n",
    "plt.plot(epsilons, postprocessing_avg_objective_values_avgy0y1, 'blue')\n",
    "plt.plot(epsilons, robust_avg_objective_values_avgy0y1, 'red')\n",
    "plt.fill_between(epsilons, unconstrained_avg_objective_values_avgy0y1 - unconstrained_std_err, unconstrained_avg_objective_values_avgy0y1 + unconstrained_std_err, color='magenta', alpha=0.2)\n",
    "plt.fill_between(epsilons, preprocessing_avg_objective_values_avgy0y1 - preprocessing_std_err, preprocessing_avg_objective_values_avgy0y1 + preprocessing_std_err, color='green', alpha=0.2)\n",
    "plt.fill_between(epsilons, inprocessing_avg_objective_values_avgy0y1 - inprocessing_std_err, inprocessing_avg_objective_values_avgy0y1 + inprocessing_std_err, color='orange', alpha=0.2)\n",
    "plt.fill_between(epsilons, postprocessing_avg_objective_values_avgy0y1 - postprocessing_std_err, postprocessing_avg_objective_values_avgy0y1 + postprocessing_std_err, color='blue', alpha=0.2)\n",
    "plt.fill_between(epsilons, robust_avg_objective_values_avgy0y1 - robust_std_err, robust_avg_objective_values_avgy0y1 + robust_std_err, color='red', alpha=0.2)\n",
    "plt.xlabel('Epsilon in Constraint')\n",
    "plt.ylabel('LP Objective Value')\n",
    "plt.title('Adult Comparison (h0, EO Average, T=1000)')"
   ]
  }
 ],
 "metadata": {
  "colab": {
   "collapsed_sections": [],
   "name": "EO_linear_prog_constraints.ipynb",
   "provenance": [],
   "toc_visible": true
  },
  "kernelspec": {
   "display_name": "Python 3",
   "language": "python",
   "name": "python3"
  },
  "language_info": {
   "codemirror_mode": {
    "name": "ipython",
    "version": 3
   },
   "file_extension": ".py",
   "mimetype": "text/x-python",
   "name": "python",
   "nbconvert_exporter": "python",
   "pygments_lexer": "ipython3",
   "version": "3.7.3"
  }
 },
 "nbformat": 4,
 "nbformat_minor": 2
}
