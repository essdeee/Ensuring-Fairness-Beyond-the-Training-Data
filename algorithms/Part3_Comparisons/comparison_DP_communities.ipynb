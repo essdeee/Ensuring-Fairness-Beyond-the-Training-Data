{
 "cells": [
  {
   "cell_type": "markdown",
   "metadata": {
    "colab_type": "text",
    "id": "VYEUJK2JDiTS"
   },
   "source": [
    "# Communities DP Comparison"
   ]
  },
  {
   "cell_type": "code",
   "execution_count": 1,
   "metadata": {
    "colab": {},
    "colab_type": "code",
    "id": "TYaVKaWuDiTT"
   },
   "outputs": [],
   "source": [
    "import pandas as pd\n",
    "import numpy as np\n",
    "import matplotlib.pyplot as plt\n",
    "import cvxpy as cp\n",
    "from sklearn.linear_model import LogisticRegression\n",
    "from sklearn.metrics import accuracy_score\n",
    "import pickle"
   ]
  },
  {
   "cell_type": "code",
   "execution_count": 2,
   "metadata": {},
   "outputs": [],
   "source": [
    "%matplotlib inline\n",
    "\n",
    "import matplotlib.pyplot as plt\n",
    "import matplotlib.cm as cm\n",
    "\n",
    "def evaluate_fairness(y_true, y_pred, sensitive_features):\n",
    "    \"\"\"\n",
    "    Evaluates fairness of the final majority vote classifier over T_inner hypotheses\n",
    "    on the test set.\n",
    "    #NOTE: defined in the meta_algo file, but we chose:\n",
    "    a0 := African-American (COMPAS), Female (Adult)\n",
    "    a1 := Caucasian (COMPAS), Male (Adult)\n",
    "\n",
    "    :return: list. subgroups in sensitive_features.\n",
    "    :return: list, dict, dict. groups is a list of the sensitive features in the dataset. \n",
    "    group_metrics is a dictionary containing dictionaries that have Delta_dp, Delta_eoy0, \n",
    "    and Delta_eoy1 for each group. gaps is a dictionary that contains the fairness gap\n",
    "    for dp, eo_y0 and eo_y1.\n",
    "    \"\"\"\n",
    "    groups = np.unique(sensitive_features.values)\n",
    "    pos_count = {}\n",
    "    dp_pct = {}\n",
    "    eo_y0_pct = {}\n",
    "    eo_y1_pct = {}\n",
    "\n",
    "    for index, group in enumerate(groups):\n",
    "        # Demographic Parity\n",
    "        indices = {}\n",
    "        indices[group] = sensitive_features.index[sensitive_features == group]\n",
    "        dp_pct[group] = sum(y_pred[indices[group]])/len(indices[group])\n",
    "\n",
    "        # Equalized Odds\n",
    "        y1_indices = {}\n",
    "        y0_indices = {}\n",
    "        y1_indices[group] = sensitive_features.index[(sensitive_features == group) & (y_true == 1)]\n",
    "        y0_indices[group] = sensitive_features.index[(sensitive_features == group) & (y_true == 0)]\n",
    "        eo_y0_pct[group] = sum(y_pred[y0_indices[group]])/len(y0_indices[group])   \n",
    "        eo_y1_pct[group] = sum(y_pred[y1_indices[group]])/len(y1_indices[group])\n",
    "\n",
    "    gaps = {}\n",
    "    group_metrics = {} # a dictionary of dictionaries\n",
    "\n",
    "    gaps['dp'] = abs(dp_pct[groups[0]] - dp_pct[groups[1]])\n",
    "    gaps['eo_y0'] = abs(eo_y0_pct[groups[0]] - eo_y0_pct[groups[1]])\n",
    "    gaps['eo_y1'] = abs(eo_y1_pct[groups[0]] - eo_y1_pct[groups[1]])\n",
    "    group_metrics['dp'] = dp_pct\n",
    "    group_metrics['eo_y0'] = eo_y0_pct\n",
    "    group_metrics['eo_y1'] = eo_y1_pct\n",
    "\n",
    "    return groups, group_metrics, gaps"
   ]
  },
  {
   "cell_type": "code",
   "execution_count": 3,
   "metadata": {},
   "outputs": [],
   "source": [
    "def set_a_indices(sensitive_features, y):\n",
    "    \"\"\"\n",
    "    Creates a dictionary a_indices that contains the necessary information for which indices\n",
    "    contain the sensitive/protected attributes.\n",
    "\n",
    "    :return: dict 'a_indices' which contains a list of the a_0 indices, list of a_1 indices,\n",
    "    list of a_0 indices where y = 0, list of a_0 indices where y = 1, list of a_1 indices\n",
    "    where y = 0, list of a_1 indices where y = 1, and a list containing the a value of each sample.\n",
    "    \"\"\"\n",
    "    a_indices = dict()\n",
    "    a_indices['a0'] = sensitive_features.index[sensitive_features.eq(0)].tolist()\n",
    "    a_indices['a1'] = sensitive_features.index[sensitive_features.eq(1)].tolist()\n",
    "    a_indices['all'] = sensitive_features.tolist()\n",
    "\n",
    "    y0 = set(np.where(y == 0)[0])\n",
    "    y1 = set(np.where(y == 1)[0])\n",
    "    a_indices['a0_y0'] = list(y0.intersection(set(a_indices['a0'])))\n",
    "    a_indices['a0_y1'] = list(y1.intersection(set(a_indices['a0'])))\n",
    "    a_indices['a1_y0'] = list(y0.intersection(set(a_indices['a1'])))\n",
    "    a_indices['a1_y1'] = list(y1.intersection(set(a_indices['a1'])))\n",
    "\n",
    "    assert(len(a_indices['a0']) + len(a_indices['a1']) == len(y))\n",
    "    assert(len(a_indices['a0_y0']) + len(a_indices['a0_y1']) + len(a_indices['a1_y0']) + len(a_indices['a1_y1']) == len(y))\n",
    "    return a_indices\n",
    "\n",
    "def set_proportions(a_indices, y, fair_constraint):\n",
    "    proportions = {}\n",
    "    proportions['a0'] = len(a_indices['a0'])/float(len(y))\n",
    "    proportions['a1'] = len(a_indices['a1'])/float(len(y))\n",
    "    proportions['a0_y0'] = len(a_indices['a0_y0'])/float(len(y))\n",
    "    proportions['a0_y1'] = len(a_indices['a0_y1'])/float(len(y))\n",
    "    proportions['a1_y0'] = len(a_indices['a1_y0'])/float(len(y))\n",
    "    proportions['a1_y1'] = len(a_indices['a1_y1'])/float(len(y))\n",
    "    proportions['y0'] = (len(np.where(y == 0)[0]))/float(len(y))\n",
    "    proportions['y1'] = (len(np.where(y == 1)[0]))/float(len(y))\n",
    "\n",
    "    print('y0 proportion = {}'.format(proportions['y0']))\n",
    "    print('y1 proportion = {}'.format(proportions['y1']))\n",
    "\n",
    "    if(fair_constraint == 'dp'):\n",
    "        print('a0 proportion = {}'.format(proportions['a0']))\n",
    "        print('a1 proportion = {}'.format(proportions['a1']))\n",
    "    elif(fair_constraint == 'eo'):\n",
    "        print('a0 y0 proportion = {}'.format(proportions['a0_y0']))\n",
    "        print('a1 y0 proportion = {}'.format(proportions['a1_y0']))\n",
    "        print('a0 y1 proportion = {}'.format(proportions['a0_y1']))\n",
    "        print('a1 y1 proportion = {}'.format(proportions['a1_y1']))\n",
    "\n",
    "    assert(proportions['y0'] + proportions['y1'] == 1)\n",
    "    assert(proportions['a0'] + proportions['a1'] == 1)\n",
    "    #assert(proportions['a0_y0'] + proportions['a0_y1'] + proportions['a1_y0'] + proportions['a1_y1'] == 1)\n",
    "\n",
    "    return proportions"
   ]
  },
  {
   "cell_type": "code",
   "execution_count": 4,
   "metadata": {},
   "outputs": [],
   "source": [
    "def std_error(arr):\n",
    "    std = np.std(arr)\n",
    "    return std/np.sqrt(len(arr))"
   ]
  },
  {
   "cell_type": "code",
   "execution_count": 5,
   "metadata": {},
   "outputs": [],
   "source": [
    "def confidence(arr):\n",
    "    return 2.776 * std_error(arr)"
   ]
  },
  {
   "cell_type": "markdown",
   "metadata": {
    "colab_type": "text",
    "id": "id0PTMTBDiTV"
   },
   "source": [
    "## Import Data\n",
    "We take A (the protected attribute) to be the 'race' variable, and a = 0 while a' = 1. "
   ]
  },
  {
   "cell_type": "code",
   "execution_count": 6,
   "metadata": {
    "colab": {},
    "colab_type": "code",
    "id": "EaDU5FwHDiTW"
   },
   "outputs": [
    {
     "name": "stderr",
     "output_type": "stream",
     "text": [
      "/Users/sam/anaconda3/envs/fairness_checking/lib/python3.7/site-packages/ipykernel_launcher.py:20: SettingWithCopyWarning: \n",
      "A value is trying to be set on a copy of a slice from a DataFrame\n",
      "\n",
      "See the caveats in the documentation: https://pandas.pydata.org/pandas-docs/stable/user_guide/indexing.html#returning-a-view-versus-a-copy\n",
      "/Users/sam/anaconda3/envs/fairness_checking/lib/python3.7/site-packages/ipykernel_launcher.py:21: SettingWithCopyWarning: \n",
      "A value is trying to be set on a copy of a slice from a DataFrame\n",
      "\n",
      "See the caveats in the documentation: https://pandas.pydata.org/pandas-docs/stable/user_guide/indexing.html#returning-a-view-versus-a-copy\n",
      "/Users/sam/anaconda3/envs/fairness_checking/lib/python3.7/site-packages/ipykernel_launcher.py:24: SettingWithCopyWarning: \n",
      "A value is trying to be set on a copy of a slice from a DataFrame\n",
      "\n",
      "See the caveats in the documentation: https://pandas.pydata.org/pandas-docs/stable/user_guide/indexing.html#returning-a-view-versus-a-copy\n",
      "/Users/sam/anaconda3/envs/fairness_checking/lib/python3.7/site-packages/ipykernel_launcher.py:25: SettingWithCopyWarning: \n",
      "A value is trying to be set on a copy of a slice from a DataFrame\n",
      "\n",
      "See the caveats in the documentation: https://pandas.pydata.org/pandas-docs/stable/user_guide/indexing.html#returning-a-view-versus-a-copy\n"
     ]
    }
   ],
   "source": [
    "X_train_arr = []\n",
    "X_test_arr = []\n",
    "y_train_arr = []\n",
    "y_test_arr = []\n",
    "sensitive_features_train_arr = []\n",
    "sensitive_features_test_arr = []\n",
    "\n",
    "for i in range(5):\n",
    "    X_train = pd.read_csv('./../../data/processed/communities/communities_train{}_X.csv'.format(i + 1))\n",
    "    X_test = pd.read_csv('./../../data/processed/communities/communities_test{}_X.csv'.format(i + 1))\n",
    "    y_train = pd.read_csv('./../../data/processed/communities/communities_train{}_y.csv'.format(i + 1))\n",
    "    y_test = pd.read_csv('./../../data/processed/communities/communities_test{}_y.csv'.format(i + 1))\n",
    "\n",
    "    y_train = y_train['ViolentCrimesPerPop']\n",
    "    y_test = y_test['ViolentCrimesPerPop']\n",
    "    \n",
    "    sensitive_features_train = X_train['majority_white']\n",
    "    sensitive_features_test = X_test['majority_white']\n",
    "\n",
    "    sensitive_features_train[sensitive_features_train <= 0] = 0\n",
    "    sensitive_features_train[sensitive_features_train > 0] = 1\n",
    "    sensitive_features_train = sensitive_features_train.reset_index(drop=True)\n",
    "    \n",
    "    sensitive_features_test[sensitive_features_test <= 0] = 0\n",
    "    sensitive_features_test[sensitive_features_test > 0] = 1\n",
    "    sensitive_features_test = sensitive_features_test.reset_index(drop=True)\n",
    "    \n",
    "    X_train_arr.append(X_train)\n",
    "    X_test_arr.append(X_test)\n",
    "    y_train_arr.append(y_train)\n",
    "    y_test_arr.append(y_test)\n",
    "    sensitive_features_train_arr.append(sensitive_features_train)\n",
    "    sensitive_features_test_arr.append(sensitive_features_test)"
   ]
  },
  {
   "cell_type": "code",
   "execution_count": 7,
   "metadata": {
    "colab": {
     "base_uri": "https://localhost:8080/",
     "height": 241
    },
    "colab_type": "code",
    "id": "3D-WDPLsDiTY",
    "outputId": "b8ec1cdc-e070-4f7f-bf86-05c73fe9bdfe"
   },
   "outputs": [
    {
     "name": "stdout",
     "output_type": "stream",
     "text": [
      "(1595, 123)\n",
      "(399, 123)\n",
      "(1595,)\n",
      "(399,)\n",
      "5\n"
     ]
    }
   ],
   "source": [
    "print(X_train_arr[0].shape)\n",
    "print(X_test_arr[0].shape)\n",
    "print(y_train_arr[0].shape)\n",
    "print(y_test_arr[0].shape)\n",
    "print(len(X_train_arr))"
   ]
  },
  {
   "cell_type": "code",
   "execution_count": 8,
   "metadata": {},
   "outputs": [],
   "source": [
    "a_indices_train_arr = []\n",
    "a_indices_test_arr = []\n",
    "\n",
    "for i in range(5):\n",
    "    a_indices_train_arr.append(set_a_indices(sensitive_features_train_arr[i], y_train_arr[i]))\n",
    "    a_indices_test_arr.append(set_a_indices(sensitive_features_test_arr[i], y_test_arr[i]))"
   ]
  },
  {
   "cell_type": "code",
   "execution_count": 9,
   "metadata": {},
   "outputs": [
    {
     "name": "stdout",
     "output_type": "stream",
     "text": [
      "y0 proportion = 0.7072100313479623\n",
      "y1 proportion = 0.2927899686520376\n",
      "a0 proportion = 0.2808777429467085\n",
      "a1 proportion = 0.7191222570532916\n",
      "y0 proportion = 0.7092731829573935\n",
      "y1 proportion = 0.2907268170426065\n",
      "a0 proportion = 0.2907268170426065\n",
      "a1 proportion = 0.7092731829573935\n",
      "y0 proportion = 0.7065830721003135\n",
      "y1 proportion = 0.29341692789968654\n",
      "a0 proportion = 0.284012539184953\n",
      "a1 proportion = 0.715987460815047\n",
      "y0 proportion = 0.7117794486215538\n",
      "y1 proportion = 0.2882205513784461\n",
      "a0 proportion = 0.2781954887218045\n",
      "a1 proportion = 0.7218045112781954\n",
      "y0 proportion = 0.7122257053291536\n",
      "y1 proportion = 0.2877742946708464\n",
      "a0 proportion = 0.2877742946708464\n",
      "a1 proportion = 0.7122257053291536\n",
      "y0 proportion = 0.6892230576441103\n",
      "y1 proportion = 0.3107769423558897\n",
      "a0 proportion = 0.2631578947368421\n",
      "a1 proportion = 0.7368421052631579\n",
      "y0 proportion = 0.7072100313479623\n",
      "y1 proportion = 0.2927899686520376\n",
      "a0 proportion = 0.2846394984326019\n",
      "a1 proportion = 0.7153605015673982\n",
      "y0 proportion = 0.7092731829573935\n",
      "y1 proportion = 0.2907268170426065\n",
      "a0 proportion = 0.2756892230576441\n",
      "a1 proportion = 0.7243107769423559\n",
      "y0 proportion = 0.7003134796238244\n",
      "y1 proportion = 0.29968652037617555\n",
      "a0 proportion = 0.28338557993730407\n",
      "a1 proportion = 0.7166144200626959\n",
      "y0 proportion = 0.7368421052631579\n",
      "y1 proportion = 0.2631578947368421\n",
      "a0 proportion = 0.2807017543859649\n",
      "a1 proportion = 0.7192982456140351\n"
     ]
    }
   ],
   "source": [
    "proportions_train_arr = []\n",
    "proportions_test_arr = []\n",
    "\n",
    "for i in range(5):\n",
    "    proportions_train_arr.append(set_proportions(a_indices_train_arr[i], y_train_arr[i], 'dp'))\n",
    "    proportions_test_arr.append(set_proportions(a_indices_test_arr[i], y_test_arr[i], 'dp'))"
   ]
  },
  {
   "cell_type": "markdown",
   "metadata": {},
   "source": [
    "## Train and Predict (Unconstrained Logistic Regression)"
   ]
  },
  {
   "cell_type": "code",
   "execution_count": 10,
   "metadata": {},
   "outputs": [],
   "source": [
    "unconstrained_clfrs = []\n",
    "unconstrained_test_accs = []\n",
    "unconstrained_dps = []\n",
    "unconstrained_preds = []"
   ]
  },
  {
   "cell_type": "code",
   "execution_count": 11,
   "metadata": {},
   "outputs": [
    {
     "name": "stdout",
     "output_type": "stream",
     "text": [
      "Adult Test Accuracy (Unconstrained, DP, Split 1): 0.8646616541353384\n",
      "P[h(X) = 1 | 0] = 0.6379310344827587\n",
      "P[h(X) = 1 | 1] = 0.09187279151943463\n",
      "Delta_dp = 0.5460582429633241\n",
      "Adult Test Accuracy (Unconstrained, DP, Split 2): 0.8220551378446115\n",
      "P[h(X) = 1 | 0] = 0.6396396396396397\n",
      "P[h(X) = 1 | 1] = 0.052083333333333336\n",
      "Delta_dp = 0.5875563063063063\n",
      "Adult Test Accuracy (Unconstrained, DP, Split 3): 0.8471177944862155\n",
      "P[h(X) = 1 | 0] = 0.6190476190476191\n",
      "P[h(X) = 1 | 1] = 0.10884353741496598\n",
      "Delta_dp = 0.5102040816326531\n",
      "Adult Test Accuracy (Unconstrained, DP, Split 4): 0.8471177944862155\n",
      "P[h(X) = 1 | 0] = 0.6818181818181818\n",
      "P[h(X) = 1 | 1] = 0.11764705882352941\n",
      "Delta_dp = 0.5641711229946523\n",
      "Adult Test Accuracy (Unconstrained, DP, Split 5): 0.8646616541353384\n",
      "P[h(X) = 1 | 0] = 0.625\n",
      "P[h(X) = 1 | 1] = 0.10104529616724739\n",
      "Delta_dp = 0.5239547038327526\n"
     ]
    }
   ],
   "source": [
    "for i in range(5):\n",
    "    X_train = X_train_arr[i]\n",
    "    y_train = y_train_arr[i]\n",
    "    X_test = X_test_arr[i]\n",
    "    y_test = y_test_arr[i]\n",
    "    sensitive_features_train = sensitive_features_train_arr[i]\n",
    "    sensitive_features_test = sensitive_features_test_arr[i]\n",
    "    \n",
    "    unconstrained_logreg = LogisticRegression()\n",
    "\n",
    "    unconstrained_logreg.fit(X_train, y_train)\n",
    "    unconstrained_pred = unconstrained_logreg.predict(X_test)\n",
    "\n",
    "    print(\"Adult Test Accuracy (Unconstrained, DP, Split {}): {}\".format(i + 1, accuracy_score(unconstrained_pred, y_test)))\n",
    "    groups, group_metrics, gaps = evaluate_fairness(y_test, unconstrained_pred, sensitive_features_test)\n",
    "    for group in groups:\n",
    "        print(\"P[h(X) = 1 | {}] = {}\".format(group, group_metrics['dp'][group]))\n",
    "    print(\"Delta_dp = {}\".format(gaps['dp']))\n",
    "    \n",
    "    unconstrained_clfrs.append(unconstrained_logreg)\n",
    "    unconstrained_test_accs.append(accuracy_score(unconstrained_pred, y_test))\n",
    "    unconstrained_dps.append(gaps['dp'])\n",
    "    unconstrained_preds.append(unconstrained_pred)"
   ]
  },
  {
   "cell_type": "markdown",
   "metadata": {},
   "source": [
    "## Train and Predict (Preprocessing)"
   ]
  },
  {
   "cell_type": "code",
   "execution_count": 12,
   "metadata": {},
   "outputs": [],
   "source": [
    "preprocessing_clfrs = []\n",
    "preprocessing_test_accs = []\n",
    "preprocessing_dps = []\n",
    "preprocessing_preds = []"
   ]
  },
  {
   "cell_type": "code",
   "execution_count": 13,
   "metadata": {},
   "outputs": [
    {
     "name": "stderr",
     "output_type": "stream",
     "text": [
      "/Users/sam/anaconda3/envs/fairness_checking/lib/python3.7/site-packages/aif360/algorithms/preprocessing/lfr_helpers/helpers.py:2: NumbaDeprecationWarning: An import was requested from a module that has moved location.\n",
      "Import requested from: 'numba.decorators', please update to use 'numba.core.decorators' or pin to Numba version 0.48.0. This alias will not be present in Numba version 0.50.0.\n",
      "  from numba.decorators import jit\n",
      "/Users/sam/anaconda3/envs/fairness_checking/lib/python3.7/site-packages/aif360/algorithms/preprocessing/lfr_helpers/helpers.py:2: NumbaDeprecationWarning: An import was requested from a module that has moved location.\n",
      "Import of 'jit' requested from: 'numba.decorators', please update to use 'numba.core.decorators' or pin to Numba version 0.48.0. This alias will not be present in Numba version 0.50.0.\n",
      "  from numba.decorators import jit\n"
     ]
    }
   ],
   "source": [
    "# Form the IBM Fairness Dataset Object\n",
    "from aif360.datasets import BinaryLabelDataset\n",
    "from aif360.algorithms.preprocessing.reweighing import Reweighing\n",
    "\n",
    "preprocess_train_arr = []\n",
    "\n",
    "privileged_groups = [{'majority_white': 1}]\n",
    "unprivileged_groups = [{'majority_white': 0}]\n",
    "\n",
    "for s in range(5):\n",
    "    X_train_copy = X_train_arr[s].copy()\n",
    "    y_train_copy = y_train_arr[s].copy()\n",
    "    X_test_copy = X_test_arr[s].copy()\n",
    "    y_test_copy = y_test_arr[s].copy()\n",
    "\n",
    "    X_train_copy['ViolentCrimesPerPop'] = y_train_copy\n",
    "    X_test_copy['ViolentCrimesPerPop'] = y_test_copy\n",
    "    \n",
    "    preprocess_train = BinaryLabelDataset(1, 0, df=X_train_copy, label_names=['ViolentCrimesPerPop'], protected_attribute_names=['majority_white'])\n",
    "    preprocess_train_arr.append(preprocess_train)"
   ]
  },
  {
   "cell_type": "code",
   "execution_count": 14,
   "metadata": {},
   "outputs": [
    {
     "name": "stdout",
     "output_type": "stream",
     "text": [
      "Communities Test Accuracy (Preprocessing, DP, Split 1): 0.8295739348370927\n",
      "P[h(X) = 1 | 0] = 0.4396551724137931\n",
      "P[h(X) = 1 | 1] = 0.1872791519434629\n",
      "Delta_dp = 0.2523760204703302\n",
      "Communities Test Accuracy (Preprocessing, DP, Split 2): 0.8596491228070176\n",
      "P[h(X) = 1 | 0] = 0.3963963963963964\n",
      "P[h(X) = 1 | 1] = 0.13541666666666666\n",
      "Delta_dp = 0.2609797297297297\n",
      "Communities Test Accuracy (Preprocessing, DP, Split 3): 0.8220551378446115\n",
      "P[h(X) = 1 | 0] = 0.42857142857142855\n",
      "P[h(X) = 1 | 1] = 0.2108843537414966\n",
      "Delta_dp = 0.21768707482993194\n",
      "Communities Test Accuracy (Preprocessing, DP, Split 4): 0.7994987468671679\n",
      "P[h(X) = 1 | 0] = 0.4\n",
      "P[h(X) = 1 | 1] = 0.17301038062283736\n",
      "Delta_dp = 0.22698961937716267\n",
      "Communities Test Accuracy (Preprocessing, DP, Split 5): 0.8370927318295739\n",
      "P[h(X) = 1 | 0] = 0.36607142857142855\n",
      "P[h(X) = 1 | 1] = 0.156794425087108\n",
      "Delta_dp = 0.20927700348432055\n"
     ]
    }
   ],
   "source": [
    "for i in range(5):\n",
    "    preprocess_train = preprocess_train_arr[i]\n",
    "    \n",
    "    X_train = X_train_arr[i]\n",
    "    y_train = y_train_arr[i]\n",
    "    X_test = X_test_arr[i]\n",
    "    y_test = y_test_arr[i]\n",
    "    sensitive_features_train = sensitive_features_train_arr[i]\n",
    "    sensitive_features_test = sensitive_features_test_arr[i]\n",
    "    \n",
    "    RW = Reweighing(unprivileged_groups=unprivileged_groups,\n",
    "               privileged_groups=privileged_groups)\n",
    "    dataset_transf_train = RW.fit_transform(preprocess_train)\n",
    "    logreg = LogisticRegression()\n",
    "    logreg.fit(X_train, y_train,\n",
    "            sample_weight=dataset_transf_train.instance_weights)\n",
    "    \n",
    "    preprocessing_y_pred = logreg.predict(X_test)\n",
    "\n",
    "    ### Back to using original data ###\n",
    "    print(\"Communities Test Accuracy (Preprocessing, DP, Split {}): {}\".format(i + 1, accuracy_score(preprocessing_y_pred, y_test)))\n",
    "    groups, group_metrics, gaps = evaluate_fairness(y_test, preprocessing_y_pred, sensitive_features_test)\n",
    "    for group in groups:\n",
    "        print(\"P[h(X) = 1 | {}] = {}\".format(group, group_metrics['dp'][group]))\n",
    "    print(\"Delta_dp = {}\".format(gaps['dp']))\n",
    "    \n",
    "    preprocessing_clfrs.append(logreg)\n",
    "    preprocessing_test_accs.append(accuracy_score(preprocessing_y_pred, y_test))\n",
    "    preprocessing_dps.append(gaps['dp'])\n",
    "    preprocessing_preds.append(preprocessing_y_pred)"
   ]
  },
  {
   "cell_type": "markdown",
   "metadata": {},
   "source": [
    "## Train and Predict (Inprocessing)"
   ]
  },
  {
   "cell_type": "code",
   "execution_count": 15,
   "metadata": {},
   "outputs": [],
   "source": [
    "from fairlearn.reductions import ExponentiatedGradient, DemographicParity\n",
    "\n",
    "inprocessing_clfrs = []\n",
    "inprocessing_test_accs = []\n",
    "inprocessing_dps = []\n",
    "inprocessing_preds = []"
   ]
  },
  {
   "cell_type": "code",
   "execution_count": 16,
   "metadata": {},
   "outputs": [
    {
     "name": "stdout",
     "output_type": "stream",
     "text": [
      "Communities Test Accuracy (Inprocessing, DP, Split 1): 0.7418546365914787\n",
      "P[h(X) = 1 | 0] = 0.3879310344827586\n",
      "P[h(X) = 1 | 1] = 0.3321554770318021\n",
      "Delta_dp = 0.055775557450956526\n",
      "Communities Test Accuracy (Inprocessing, DP, Split 2): 0.7869674185463659\n",
      "P[h(X) = 1 | 0] = 0.35135135135135137\n",
      "P[h(X) = 1 | 1] = 0.3020833333333333\n",
      "Delta_dp = 0.049268018018018056\n",
      "Communities Test Accuracy (Inprocessing, DP, Split 3): 0.7117794486215538\n",
      "P[h(X) = 1 | 0] = 0.37142857142857144\n",
      "P[h(X) = 1 | 1] = 0.3741496598639456\n",
      "Delta_dp = 0.0027210884353741638\n",
      "Communities Test Accuracy (Inprocessing, DP, Split 4): 0.7192982456140351\n",
      "P[h(X) = 1 | 0] = 0.4\n",
      "P[h(X) = 1 | 1] = 0.3460207612456747\n",
      "Delta_dp = 0.05397923875432531\n",
      "Communities Test Accuracy (Inprocessing, DP, Split 5): 0.7167919799498746\n",
      "P[h(X) = 1 | 0] = 0.30357142857142855\n",
      "P[h(X) = 1 | 1] = 0.32752613240418116\n",
      "Delta_dp = 0.02395470383275261\n"
     ]
    }
   ],
   "source": [
    "for i in range(5):\n",
    "    X_train = X_train_arr[i]\n",
    "    y_train = y_train_arr[i]\n",
    "    X_test = X_test_arr[i]\n",
    "    y_test = y_test_arr[i]\n",
    "    sensitive_features_train = sensitive_features_train_arr[i]\n",
    "    sensitive_features_test = sensitive_features_test_arr[i]\n",
    "    \n",
    "    inprocessing_dp = ExponentiatedGradient(\n",
    "        LogisticRegression(solver='liblinear', fit_intercept=True, class_weight='balanced'),\n",
    "        constraints=DemographicParity(),\n",
    "        eps=0.05,\n",
    "        nu=1e-6)\n",
    "\n",
    "    inprocessing_dp.fit(X_train, y_train, sensitive_features=sensitive_features_train)\n",
    "    inprocessing_y_pred = inprocessing_dp.predict(X_test)\n",
    "\n",
    "    print(\"Communities Test Accuracy (Inprocessing, DP, Split {}): {}\".format(i + 1, accuracy_score(inprocessing_y_pred, y_test)))\n",
    "    groups, group_metrics, gaps = evaluate_fairness(y_test, inprocessing_y_pred, sensitive_features_test)\n",
    "    for group in groups:\n",
    "        print(\"P[h(X) = 1 | {}] = {}\".format(group, group_metrics['dp'][group]))\n",
    "    print(\"Delta_dp = {}\".format(gaps['dp']))\n",
    "    \n",
    "    inprocessing_clfrs.append(inprocessing_dp)\n",
    "    inprocessing_test_accs.append(accuracy_score(inprocessing_y_pred, y_test))\n",
    "    inprocessing_dps.append(gaps['dp'])\n",
    "    inprocessing_preds.append(inprocessing_y_pred)"
   ]
  },
  {
   "cell_type": "markdown",
   "metadata": {},
   "source": [
    "## Train and Predict (Postprocessing)"
   ]
  },
  {
   "cell_type": "code",
   "execution_count": 17,
   "metadata": {},
   "outputs": [],
   "source": [
    "from fairlearn.postprocessing import ThresholdOptimizer\n",
    "from sklearn import clone\n",
    "from sklearn.base import BaseEstimator, ClassifierMixin\n",
    "from sklearn.utils.validation import check_is_fitted\n",
    "from sklearn.exceptions import NotFittedError\n",
    "\n",
    "postprocessing_clfrs = []\n",
    "postprocessing_test_accs = []\n",
    "postprocessing_dps = []\n",
    "postprocessing_preds = []"
   ]
  },
  {
   "cell_type": "code",
   "execution_count": 18,
   "metadata": {},
   "outputs": [],
   "source": [
    "class LogisticRegressionAsRegression(BaseEstimator, ClassifierMixin):\n",
    "    def __init__(self, logistic_regression_estimator):\n",
    "        self.logistic_regression_estimator = logistic_regression_estimator\n",
    "\n",
    "    def fit(self, X, y):\n",
    "        try:\n",
    "            check_is_fitted(self.logistic_regression_estimator)\n",
    "            self.logistic_regression_estimator_ = self.logistic_regression_estimator\n",
    "        except NotFittedError:\n",
    "            self.logistic_regression_estimator_ = clone(\n",
    "                self.logistic_regression_estimator\n",
    "            ).fit(X, y)\n",
    "        return self\n",
    "\n",
    "    def predict(self, X):\n",
    "        # use predict_proba to get real values instead of 0/1, select only prob for 1\n",
    "        scores = self.logistic_regression_estimator_.predict_proba(X)[:, 1]\n",
    "        return scores"
   ]
  },
  {
   "cell_type": "code",
   "execution_count": 19,
   "metadata": {},
   "outputs": [
    {
     "name": "stdout",
     "output_type": "stream",
     "text": [
      "Communities Test Accuracy (Postprocessing, DP): 0.7694235588972431\n",
      "P[h(X) = 1 | 0] = 0.1896551724137931\n",
      "P[h(X) = 1 | 1] = 0.2049469964664311\n",
      "Delta_dp = 0.015291824052638014\n",
      "Communities Test Accuracy (Postprocessing, DP): 0.8120300751879699\n",
      "P[h(X) = 1 | 0] = 0.2072072072072072\n",
      "P[h(X) = 1 | 1] = 0.17708333333333334\n",
      "Delta_dp = 0.030123873873873858\n",
      "Communities Test Accuracy (Postprocessing, DP): 0.7568922305764411\n",
      "P[h(X) = 1 | 0] = 0.17142857142857143\n",
      "P[h(X) = 1 | 1] = 0.22789115646258504\n",
      "Delta_dp = 0.05646258503401361\n",
      "Communities Test Accuracy (Postprocessing, DP): 0.7368421052631579\n",
      "P[h(X) = 1 | 0] = 0.15454545454545454\n",
      "P[h(X) = 1 | 1] = 0.20069204152249134\n",
      "Delta_dp = 0.0461465869770368\n",
      "Communities Test Accuracy (Postprocessing, DP): 0.7844611528822055\n",
      "P[h(X) = 1 | 0] = 0.14285714285714285\n",
      "P[h(X) = 1 | 1] = 0.156794425087108\n",
      "Delta_dp = 0.013937282229965153\n"
     ]
    }
   ],
   "source": [
    "for i in range(5):\n",
    "    X_train = X_train_arr[i]\n",
    "    y_train = y_train_arr[i]\n",
    "    X_test = X_test_arr[i]\n",
    "    y_test = y_test_arr[i]\n",
    "    sensitive_features_train = sensitive_features_train_arr[i]\n",
    "    sensitive_features_test = sensitive_features_test_arr[i]\n",
    "    \n",
    "    logreg = LogisticRegression()\n",
    "    logreg.fit(X_train, y_train)\n",
    "    estimator_wrapper = LogisticRegressionAsRegression(logreg).fit(X_train, y_train)\n",
    "    postprocessed_predictor_dp = ThresholdOptimizer(estimator=estimator_wrapper, constraints=\"demographic_parity\", prefit=True)\n",
    "\n",
    "    postprocessed_predictor_dp.fit(X_train, y_train, sensitive_features=sensitive_features_train)\n",
    "    postprocessing_y_pred = postprocessed_predictor_dp.predict(X_test, sensitive_features=sensitive_features_test)\n",
    "\n",
    "    print(\"Communities Test Accuracy (Postprocessing, DP): {}\".format(accuracy_score(postprocessing_y_pred, y_test)))\n",
    "    groups, group_metrics, gaps = evaluate_fairness(y_test, postprocessing_y_pred, sensitive_features_test)\n",
    "\n",
    "    groups, group_metrics, gaps = evaluate_fairness(y_test, postprocessing_y_pred, sensitive_features_test)\n",
    "    for group in groups:\n",
    "        print(\"P[h(X) = 1 | {}] = {}\".format(group, group_metrics['dp'][group]))\n",
    "    print(\"Delta_dp = {}\".format(gaps['dp']))\n",
    "\n",
    "    postprocessing_clfrs.append(postprocessed_predictor_dp)\n",
    "    postprocessing_test_accs.append(accuracy_score(postprocessing_y_pred, y_test))\n",
    "    postprocessing_dps.append(gaps['dp'])\n",
    "    postprocessing_preds.append(postprocessing_y_pred)"
   ]
  },
  {
   "cell_type": "markdown",
   "metadata": {},
   "source": [
    "## Predict (Robust Algorithm h_0, T = 1000)"
   ]
  },
  {
   "cell_type": "code",
   "execution_count": 20,
   "metadata": {},
   "outputs": [],
   "source": [
    "robust_clfrs = []\n",
    "robust_test_accs = []\n",
    "robust_dps = []\n",
    "robust_preds = []"
   ]
  },
  {
   "cell_type": "code",
   "execution_count": 21,
   "metadata": {},
   "outputs": [
    {
     "name": "stdout",
     "output_type": "stream",
     "text": [
      "Communities Test Accuracy (Robust, DP): 0.731829573934837\n",
      "P[h(X) = 1 | A = 0] = 0.09482758620689655\n",
      "P[h(X) = 1 | A = 1] = 0.0\n",
      "Delta_dp = 0.09482758620689655\n",
      "Communities Test Accuracy (Robust, DP): 0.7243107769423559\n",
      "P[h(X) = 1 | A = 0] = 0.06306306306306306\n",
      "P[h(X) = 1 | A = 1] = 0.0\n",
      "Delta_dp = 0.06306306306306306\n",
      "Communities Test Accuracy (Robust, DP): 0.7017543859649122\n",
      "P[h(X) = 1 | A = 0] = 0.047619047619047616\n",
      "P[h(X) = 1 | A = 1] = 0.0\n",
      "Delta_dp = 0.047619047619047616\n",
      "Communities Test Accuracy (Robust, DP): 0.731829573934837\n",
      "P[h(X) = 1 | A = 0] = 0.07272727272727272\n",
      "P[h(X) = 1 | A = 1] = 0.0034602076124567475\n",
      "Delta_dp = 0.06926706511481598\n",
      "Communities Test Accuracy (Robust, DP): 0.7493734335839599\n",
      "P[h(X) = 1 | A = 0] = 0.044642857142857144\n",
      "P[h(X) = 1 | A = 1] = 0.0\n",
      "Delta_dp = 0.044642857142857144\n"
     ]
    }
   ],
   "source": [
    "for i in range(5):\n",
    "    X_train = X_train_arr[i]\n",
    "    y_train = y_train_arr[i]\n",
    "    X_test = X_test_arr[i]\n",
    "    y_test = y_test_arr[i]\n",
    "    sensitive_features_train = sensitive_features_train_arr[i]\n",
    "    sensitive_features_test = sensitive_features_test_arr[i]\n",
    "        \n",
    "    pickled_file = './ensemble_final/ensemble_final_dp_communitiessplit{}.pkl'.format(i+1)\n",
    "    pickled_robust_h = open(pickled_file, \"rb\")\n",
    "    robust_h = pickle.load(pickled_robust_h)\n",
    "    robust_pred = robust_h.predict(X_test)\n",
    "    print(\"Communities Test Accuracy (Robust, DP): {}\".format(accuracy_score(robust_pred, y_test)))\n",
    "    groups, group_metrics, gaps = evaluate_fairness(y_test, robust_pred, sensitive_features_test)\n",
    "    for group in groups:\n",
    "        print(\"P[h(X) = 1 | A = {}] = {}\".format(group, group_metrics['dp'][group]))\n",
    "    print(\"Delta_dp = {}\".format(gaps['dp']))\n",
    "    \n",
    "    robust_clfrs.append(robust_h)\n",
    "    robust_test_accs.append(accuracy_score(robust_pred, y_test))\n",
    "    robust_dps.append(gaps['dp'])\n",
    "    robust_preds.append(robust_pred)"
   ]
  },
  {
   "cell_type": "markdown",
   "metadata": {
    "colab_type": "text",
    "id": "3WyqW_D6Q13G"
   },
   "source": [
    "## Linear Program Function\n",
    "Create a reusable function for each linear program.\n",
    "\n",
    "The argument constraint is the constraint we want to set on the w's. This should be between 0 and 1.\n",
    "\n",
    "The argument y_value should be Y = 0 or Y = 1, depending on which Y value we want to test EO on. "
   ]
  },
  {
   "cell_type": "code",
   "execution_count": 22,
   "metadata": {},
   "outputs": [],
   "source": [
    "def DP_linear_prog(y_pred, a_indices, proportions, lower_bound, upper_bound, a, a_p):\n",
    "    # Make sure constraint is within bounds\n",
    "    assert(0 < lower_bound < 1)\n",
    "    assert(0 < upper_bound < 1)\n",
    "    \n",
    "    # Setup variables and subgp names\n",
    "    n = len(y_pred)\n",
    "    w = cp.Variable(n)\n",
    "    \n",
    "    # Setup prediction vector\n",
    "    h_xi_a = y_pred.copy()\n",
    "    h_xi_a[a_indices[a_p]] = 0\n",
    "    h_xi_ap = y_pred.copy()\n",
    "    h_xi_ap[a_indices[a]] = 0\n",
    "    \n",
    "    # Setup subgroup proportions\n",
    "    pi_a = proportions[a]\n",
    "    pi_a_p = proportions[a_p]\n",
    "    \n",
    "    # Set constraints\n",
    "    constraints = [\n",
    "        cp.sum(w[a_indices[a]]) == pi_a,\n",
    "        cp.sum(w[a_indices[a_p]]) == pi_a_p,\n",
    "        cp.sum(w) == 1,\n",
    "        0 <= w,\n",
    "        lower_bound <= w,\n",
    "        w <= upper_bound\n",
    "    ]\n",
    "        \n",
    "    # Setup objective and problem\n",
    "    objective = cp.Maximize(((1/pi_a) * (w @ h_xi_a)) - ((1/pi_a_p) * (w @ h_xi_ap)))\n",
    "    problem = cp.Problem(objective, constraints)\n",
    "    \n",
    "    # Solve problem\n",
    "    problem.solve(solver = 'ECOS')\n",
    "    return problem.value, w.value"
   ]
  },
  {
   "cell_type": "markdown",
   "metadata": {
    "colab_type": "text",
    "id": "oRPqsRrIDiTp"
   },
   "source": [
    "## Experiment with Linear Program (T = 1000)\n",
    "Experiment with setting the constraints as: $$w_i \\leq \\frac{(1 + \\epsilon)}{n}$$ and $$\\frac{(1 - \\epsilon)}{n} \\leq w_i$$ where n is the number of samples in the data."
   ]
  },
  {
   "cell_type": "code",
   "execution_count": 23,
   "metadata": {},
   "outputs": [],
   "source": [
    "epsilon_granule = 0.01\n",
    "\n",
    "unconstrained_objective_values = []\n",
    "preprocessing_objective_values = []\n",
    "inprocessing_objective_values = []\n",
    "postprocessing_objective_values = []\n",
    "robust_objective_values = []\n",
    "\n",
    "# Iterate over datasets\n",
    "for s in range(5):\n",
    "    unconstrained_y_pred = unconstrained_preds[s]\n",
    "    preprocessing_y_pred = preprocessing_preds[s]\n",
    "    inprocessing_y_pred = inprocessing_preds[s]\n",
    "    postprocessing_y_pred = postprocessing_preds[s]\n",
    "    robust_pred = robust_preds[s]\n",
    "    a_indices_test = a_indices_test_arr[s]\n",
    "    proportions_test = proportions_test_arr[s]\n",
    "    \n",
    "    unconstrained_curr = []\n",
    "    preprocessing_curr = []\n",
    "    inprocessing_curr = []\n",
    "    postprocessing_curr = []\n",
    "    robust_curr = []\n",
    "    # Iterate over constraints\n",
    "    for i in range(0, int(1/epsilon_granule)):\n",
    "        epsilon = epsilon_granule * i\n",
    "        lower_bound = (1 - epsilon)/(len(X_test))\n",
    "        upper_bound = (1 + epsilon)/(len(X_test))\n",
    "        \n",
    "        unconstrained_objective_value_a0a1, w = DP_linear_prog(unconstrained_y_pred, a_indices_test, proportions_test, lower_bound, upper_bound, 'a0', 'a1')\n",
    "        unconstrained_objective_value_a1a0, w = DP_linear_prog(unconstrained_y_pred, a_indices_test, proportions_test, lower_bound, upper_bound, 'a1', 'a0')\n",
    "        unconstrained_objective_value = max(unconstrained_objective_value_a0a1, unconstrained_objective_value_a1a0)\n",
    "        unconstrained_curr.append(unconstrained_objective_value)\n",
    "        \n",
    "        preprocessing_objective_value_a0a1, w = DP_linear_prog(preprocessing_y_pred, a_indices_test, proportions_test, lower_bound, upper_bound, 'a0', 'a1')\n",
    "        preprocessing_objective_value_a1a0, w = DP_linear_prog(preprocessing_y_pred, a_indices_test, proportions_test, lower_bound, upper_bound, 'a1', 'a0')\n",
    "        preprocessing_objective_value = max(preprocessing_objective_value_a0a1, preprocessing_objective_value_a1a0)\n",
    "        preprocessing_curr.append(preprocessing_objective_value)\n",
    "\n",
    "        inprocessing_objective_value_a0a1, w = DP_linear_prog(inprocessing_y_pred, a_indices_test, proportions_test, lower_bound, upper_bound, 'a0', 'a1')\n",
    "        inprocessing_objective_value_a1a0, w = DP_linear_prog(inprocessing_y_pred, a_indices_test, proportions_test, lower_bound, upper_bound, 'a1', 'a0')\n",
    "        inprocessing_objective_value = max(inprocessing_objective_value_a0a1, inprocessing_objective_value_a1a0)\n",
    "        inprocessing_curr.append(inprocessing_objective_value)\n",
    "\n",
    "        postprocessing_objective_value_a0a1, w = DP_linear_prog(postprocessing_y_pred, a_indices_test, proportions_test, lower_bound, upper_bound, 'a0', 'a1')\n",
    "        postprocessing_objective_value_a1a0, w = DP_linear_prog(postprocessing_y_pred, a_indices_test, proportions_test, lower_bound, upper_bound, 'a1', 'a0')\n",
    "        postprocessing_objective_value = max(postprocessing_objective_value_a0a1, postprocessing_objective_value_a1a0)\n",
    "        postprocessing_curr.append(postprocessing_objective_value)\n",
    "\n",
    "        robust_objective_value_a0a1, w = DP_linear_prog(robust_pred, a_indices_test, proportions_test, lower_bound, upper_bound, 'a0', 'a1')\n",
    "        robust_objective_value_a1a0, w = DP_linear_prog(robust_pred, a_indices_test, proportions_test, lower_bound, upper_bound, 'a1', 'a0')\n",
    "        robust_objective_value = max(robust_objective_value_a0a1, robust_objective_value_a1a0)\n",
    "        robust_curr.append(robust_objective_value)\n",
    "    \n",
    "    unconstrained_objective_values.append(np.asarray(unconstrained_curr))\n",
    "    preprocessing_objective_values.append(np.asarray(preprocessing_curr))\n",
    "    inprocessing_objective_values.append(np.asarray(inprocessing_curr))\n",
    "    postprocessing_objective_values.append(np.asarray(postprocessing_curr))\n",
    "    robust_objective_values.append(np.asarray(robust_curr))"
   ]
  },
  {
   "cell_type": "code",
   "execution_count": 24,
   "metadata": {},
   "outputs": [],
   "source": [
    "epsilons = []\n",
    "for i in range(0, int(1/epsilon_granule)):\n",
    "    epsilons.append(i * epsilon_granule)"
   ]
  },
  {
   "cell_type": "code",
   "execution_count": 25,
   "metadata": {},
   "outputs": [],
   "source": [
    "# Average over the results\n",
    "unconstrained_avg_objective_values = np.zeros(len(unconstrained_objective_values[0]))\n",
    "preprocessing_avg_objective_values = np.zeros(len(preprocessing_objective_values[0]))\n",
    "inprocessing_avg_objective_values = np.zeros(len(inprocessing_objective_values[0]))\n",
    "postprocessing_avg_objective_values = np.zeros(len(postprocessing_objective_values[0]))\n",
    "robust_avg_objective_values = np.zeros(len(robust_objective_values[0]))\n",
    "\n",
    "for i in range(5):\n",
    "    unconstrained_avg_objective_values += unconstrained_objective_values[i]\n",
    "    preprocessing_avg_objective_values += preprocessing_objective_values[i]\n",
    "    inprocessing_avg_objective_values += inprocessing_objective_values[i]\n",
    "    postprocessing_avg_objective_values += postprocessing_objective_values[i]\n",
    "    robust_avg_objective_values += robust_objective_values[i]\n",
    "\n",
    "unconstrained_avg_objective_values = np.divide(unconstrained_avg_objective_values, 5)\n",
    "preprocessing_avg_objective_values = np.divide(preprocessing_avg_objective_values, 5)\n",
    "inprocessing_avg_objective_values = np.divide(inprocessing_avg_objective_values, 5)\n",
    "postprocessing_avg_objective_values = np.divide(postprocessing_avg_objective_values, 5)\n",
    "robust_avg_objective_values = np.divide(robust_avg_objective_values, 5)"
   ]
  },
  {
   "cell_type": "code",
   "execution_count": 26,
   "metadata": {},
   "outputs": [],
   "source": [
    "unconstrained_std_err = []\n",
    "preprocessing_std_err = []\n",
    "inprocessing_std_err = []\n",
    "postprocessing_std_err = []\n",
    "robust_std_err = []\n",
    "\n",
    "for i in range(100):\n",
    "    unconstrained_vals = []\n",
    "    preprocessing_vals = []\n",
    "    inprocessing_vals = []\n",
    "    postprocessing_vals = []\n",
    "    robust_vals = []\n",
    "    \n",
    "    for s in range(5):\n",
    "        unconstrained_vals.append(unconstrained_objective_values[s][i])\n",
    "        preprocessing_vals.append(preprocessing_objective_values[s][i])\n",
    "        inprocessing_vals.append(inprocessing_objective_values[s][i])\n",
    "        postprocessing_vals.append(postprocessing_objective_values[s][i])\n",
    "        robust_vals.append(robust_objective_values[s][i])\n",
    "        \n",
    "    unconstrained_std_err.append(std_error(unconstrained_vals))\n",
    "    preprocessing_std_err.append(std_error(preprocessing_vals))\n",
    "    inprocessing_std_err.append(std_error(inprocessing_vals))\n",
    "    postprocessing_std_err.append(std_error(postprocessing_vals))\n",
    "    robust_std_err.append(std_error(robust_vals))"
   ]
  },
  {
   "cell_type": "code",
   "execution_count": 27,
   "metadata": {},
   "outputs": [],
   "source": [
    "unconstrained_conf = []\n",
    "preprocessing_conf = []\n",
    "inprocessing_conf = []\n",
    "postprocessing_conf = []\n",
    "robust_conf = []\n",
    "\n",
    "for i in range(100):\n",
    "    unconstrained_vals = []\n",
    "    preprocessing_vals = []\n",
    "    inprocessing_vals = []\n",
    "    postprocessing_vals = []\n",
    "    robust_vals = []\n",
    "    \n",
    "    for s in range(5):\n",
    "        unconstrained_vals.append(unconstrained_objective_values[s][i])\n",
    "        preprocessing_vals.append(preprocessing_objective_values[s][i])\n",
    "        inprocessing_vals.append(inprocessing_objective_values[s][i])\n",
    "        postprocessing_vals.append(postprocessing_objective_values[s][i])\n",
    "        robust_vals.append(robust_objective_values[s][i])\n",
    "        \n",
    "    unconstrained_conf.append(confidence(unconstrained_vals))\n",
    "    preprocessing_conf.append(confidence(preprocessing_vals))\n",
    "    inprocessing_conf.append(confidence(inprocessing_vals))\n",
    "    postprocessing_conf.append(confidence(postprocessing_vals))\n",
    "    robust_conf.append(confidence(robust_vals))"
   ]
  },
  {
   "cell_type": "code",
   "execution_count": 30,
   "metadata": {
    "colab": {
     "base_uri": "https://localhost:8080/",
     "height": 584
    },
    "colab_type": "code",
    "id": "Xi_v9x66SZM8",
    "outputId": "82c6be1e-58c1-43c6-c9e0-6894bb31fbed"
   },
   "outputs": [
    {
     "data": {
      "text/plain": [
       "Text(0.5, 1.0, 'Communities Comparison (DP)')"
      ]
     },
     "execution_count": 30,
     "metadata": {},
     "output_type": "execute_result"
    },
    {
     "data": {
      "image/png": "[encoded data removed]",
      "text/plain": [
       "<Figure size 648x648 with 1 Axes>"
      ]
     },
     "metadata": {
      "needs_background": "light"
     },
     "output_type": "display_data"
    }
   ],
   "source": [
    "# Plot the constraints vs. objective values\n",
    "fig = plt.figure(figsize=(9,9))\n",
    "plt.plot(epsilons, unconstrained_avg_objective_values, 'magenta')\n",
    "plt.plot(epsilons, preprocessing_avg_objective_values, 'green')\n",
    "plt.plot(epsilons, inprocessing_avg_objective_values, 'orange')\n",
    "plt.plot(epsilons, postprocessing_avg_objective_values, 'blue')\n",
    "plt.plot(epsilons, robust_avg_objective_values, 'red')\n",
    "plt.fill_between(epsilons, unconstrained_avg_objective_values - unconstrained_std_err, unconstrained_avg_objective_values + unconstrained_std_err, color='magenta', alpha=0.2)\n",
    "plt.fill_between(epsilons, preprocessing_avg_objective_values - preprocessing_std_err, preprocessing_avg_objective_values + preprocessing_std_err, color='green', alpha=0.2)\n",
    "plt.fill_between(epsilons, inprocessing_avg_objective_values - inprocessing_std_err, inprocessing_avg_objective_values + inprocessing_std_err, color='orange', alpha=0.2)\n",
    "plt.fill_between(epsilons, postprocessing_avg_objective_values - postprocessing_std_err, postprocessing_avg_objective_values + postprocessing_std_err, color='blue', alpha=0.2)\n",
    "plt.fill_between(epsilons, robust_avg_objective_values - robust_std_err, robust_avg_objective_values + robust_std_err, color='red', alpha=0.2)\n",
    "plt.xlabel('L1 distance (epsilon)')\n",
    "plt.ylabel('Fairness Violation')\n",
    "plt.title('Communities Comparison (DP)')"
   ]
  },
  {
   "cell_type": "code",
   "execution_count": 32,
   "metadata": {},
   "outputs": [],
   "source": [
    "communitiesDP_data = {}\n",
    "communitiesDP_data['epsilons'] = epsilons\n",
    "communitiesDP_data['unconstrained'] = unconstrained_avg_objective_values\n",
    "communitiesDP_data['preprocessing'] = preprocessing_avg_objective_values\n",
    "communitiesDP_data['inprocessing'] = inprocessing_avg_objective_values\n",
    "communitiesDP_data['postprocessing'] = postprocessing_avg_objective_values\n",
    "communitiesDP_data['robust'] = robust_avg_objective_values\n",
    "communitiesDP_data['unconstrained_err'] = unconstrained_std_err\n",
    "communitiesDP_data['preprocessing_err'] = preprocessing_std_err\n",
    "communitiesDP_data['inprocessing_err'] = inprocessing_std_err\n",
    "communitiesDP_data['postprocessing_err'] = postprocessing_std_err\n",
    "communitiesDP_data['robust_err'] = robust_std_err\n",
    "\n",
    "with open('communitiesDP_data.pkl', 'wb') as file:\n",
    "    pickle.dump(communitiesDP_data, file)"
   ]
  }
 ],
 "metadata": {
  "colab": {
   "collapsed_sections": [],
   "name": "EO_linear_prog_constraints.ipynb",
   "provenance": [],
   "toc_visible": true
  },
  "kernelspec": {
   "display_name": "Python 3",
   "language": "python",
   "name": "python3"
  },
  "language_info": {
   "codemirror_mode": {
    "name": "ipython",
    "version": 3
   },
   "file_extension": ".py",
   "mimetype": "text/x-python",
   "name": "python",
   "nbconvert_exporter": "python",
   "pygments_lexer": "ipython3",
   "version": "3.7.3"
  }
 },
 "nbformat": 4,
 "nbformat_minor": 2
}
