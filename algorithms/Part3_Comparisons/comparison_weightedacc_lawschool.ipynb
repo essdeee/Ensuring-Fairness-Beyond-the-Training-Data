{
 "cells": [
  {
   "cell_type": "markdown",
   "metadata": {
    "colab_type": "text",
    "id": "VYEUJK2JDiTS"
   },
   "source": [
    "#  Weighted Accuracy DP Comparison"
   ]
  },
  {
   "cell_type": "code",
   "execution_count": 1,
   "metadata": {
    "colab": {},
    "colab_type": "code",
    "id": "TYaVKaWuDiTT"
   },
   "outputs": [],
   "source": [
    "import pandas as pd\n",
    "import numpy as np\n",
    "import matplotlib.pyplot as plt\n",
    "import cvxpy as cp\n",
    "from sklearn.linear_model import LogisticRegression\n",
    "from sklearn.metrics import accuracy_score\n",
    "import pickle"
   ]
  },
  {
   "cell_type": "code",
   "execution_count": 2,
   "metadata": {},
   "outputs": [],
   "source": [
    "%matplotlib inline\n",
    "\n",
    "import matplotlib.pyplot as plt\n",
    "import matplotlib.cm as cm\n",
    "\n",
    "def evaluate_fairness(y_true, y_pred, sensitive_features):\n",
    "    \"\"\"\n",
    "    Evaluates fairness of the final majority vote classifier over T_inner hypotheses\n",
    "    on the test set.\n",
    "    #NOTE: defined in the meta_algo file, but we chose:\n",
    "    a0 := African-American (COMPAS), Female (Adult)\n",
    "    a1 := Caucasian (COMPAS), Male (Adult)\n",
    "\n",
    "    :return: list. subgroups in sensitive_features.\n",
    "    :return: list, dict, dict. groups is a list of the sensitive features in the dataset. \n",
    "    group_metrics is a dictionary containing dictionaries that have Delta_dp, Delta_eoy0, \n",
    "    and Delta_eoy1 for each group. gaps is a dictionary that contains the fairness gap\n",
    "    for dp, eo_y0 and eo_y1.\n",
    "    \"\"\"\n",
    "    groups = np.unique(sensitive_features.values)\n",
    "    pos_count = {}\n",
    "    dp_pct = {}\n",
    "    eo_y0_pct = {}\n",
    "    eo_y1_pct = {}\n",
    "\n",
    "    for index, group in enumerate(groups):\n",
    "        # Demographic Parity\n",
    "        indices = {}\n",
    "        indices[group] = sensitive_features.index[sensitive_features == group]\n",
    "        dp_pct[group] = sum(y_pred[indices[group]])/len(indices[group])\n",
    "\n",
    "        # Equalized Odds\n",
    "        y1_indices = {}\n",
    "        y0_indices = {}\n",
    "        y1_indices[group] = sensitive_features.index[(sensitive_features == group) & (y_true == 1)]\n",
    "        y0_indices[group] = sensitive_features.index[(sensitive_features == group) & (y_true == 0)]\n",
    "        eo_y0_pct[group] = sum(y_pred[y0_indices[group]])/len(y0_indices[group])   \n",
    "        eo_y1_pct[group] = sum(y_pred[y1_indices[group]])/len(y1_indices[group])\n",
    "\n",
    "    gaps = {}\n",
    "    group_metrics = {} # a dictionary of dictionaries\n",
    "\n",
    "    gaps['dp'] = abs(dp_pct[groups[0]] - dp_pct[groups[1]])\n",
    "    gaps['eo_y0'] = abs(eo_y0_pct[groups[0]] - eo_y0_pct[groups[1]])\n",
    "    gaps['eo_y1'] = abs(eo_y1_pct[groups[0]] - eo_y1_pct[groups[1]])\n",
    "    group_metrics['dp'] = dp_pct\n",
    "    group_metrics['eo_y0'] = eo_y0_pct\n",
    "    group_metrics['eo_y1'] = eo_y1_pct\n",
    "\n",
    "    return groups, group_metrics, gaps"
   ]
  },
  {
   "cell_type": "code",
   "execution_count": 3,
   "metadata": {},
   "outputs": [],
   "source": [
    "def set_a_indices(sensitive_features, y):\n",
    "    \"\"\"\n",
    "    Creates a dictionary a_indices that contains the necessary information for which indices\n",
    "    contain the sensitive/protected attributes.\n",
    "\n",
    "    :return: dict 'a_indices' which contains a list of the a_0 indices, list of a_1 indices,\n",
    "    list of a_0 indices where y = 0, list of a_0 indices where y = 1, list of a_1 indices\n",
    "    where y = 0, list of a_1 indices where y = 1, and a list containing the a value of each sample.\n",
    "    \"\"\"\n",
    "    a_indices = dict()\n",
    "    a_indices['a0'] = sensitive_features.index[sensitive_features.eq(0)].tolist()\n",
    "    a_indices['a1'] = sensitive_features.index[sensitive_features.eq(1)].tolist()\n",
    "    a_indices['all'] = sensitive_features.tolist()\n",
    "\n",
    "    y0 = set(np.where(y == 0)[0])\n",
    "    y1 = set(np.where(y == 1)[0])\n",
    "    a_indices['a0_y0'] = list(y0.intersection(set(a_indices['a0'])))\n",
    "    a_indices['a0_y1'] = list(y1.intersection(set(a_indices['a0'])))\n",
    "    a_indices['a1_y0'] = list(y0.intersection(set(a_indices['a1'])))\n",
    "    a_indices['a1_y1'] = list(y1.intersection(set(a_indices['a1'])))\n",
    "\n",
    "    assert(len(a_indices['a0']) + len(a_indices['a1']) == len(y))\n",
    "    assert(len(a_indices['a0_y0']) + len(a_indices['a0_y1']) + len(a_indices['a1_y0']) + len(a_indices['a1_y1']) == len(y))\n",
    "    return a_indices\n",
    "\n",
    "def set_proportions(a_indices, y, fair_constraint):\n",
    "    proportions = {}\n",
    "    proportions['a0'] = len(a_indices['a0'])/float(len(y))\n",
    "    proportions['a1'] = len(a_indices['a1'])/float(len(y))\n",
    "    proportions['a0_y0'] = len(a_indices['a0_y0'])/float(len(y))\n",
    "    proportions['a0_y1'] = len(a_indices['a0_y1'])/float(len(y))\n",
    "    proportions['a1_y0'] = len(a_indices['a1_y0'])/float(len(y))\n",
    "    proportions['a1_y1'] = len(a_indices['a1_y1'])/float(len(y))\n",
    "    proportions['y0'] = (len(np.where(y == 0)[0]))/float(len(y))\n",
    "    proportions['y1'] = (len(np.where(y == 1)[0]))/float(len(y))\n",
    "\n",
    "    print('y0 proportion = {}'.format(proportions['y0']))\n",
    "    print('y1 proportion = {}'.format(proportions['y1']))\n",
    "\n",
    "    if(fair_constraint == 'dp'):\n",
    "        print('a0 proportion = {}'.format(proportions['a0']))\n",
    "        print('a1 proportion = {}'.format(proportions['a1']))\n",
    "    elif(fair_constraint == 'eo'):\n",
    "        print('a0 y0 proportion = {}'.format(proportions['a0_y0']))\n",
    "        print('a1 y0 proportion = {}'.format(proportions['a1_y0']))\n",
    "        print('a0 y1 proportion = {}'.format(proportions['a0_y1']))\n",
    "        print('a1 y1 proportion = {}'.format(proportions['a1_y1']))\n",
    "\n",
    "    assert(proportions['y0'] + proportions['y1'] == 1)\n",
    "    assert(proportions['a0'] + proportions['a1'] == 1)\n",
    "    #assert(proportions['a0_y0'] + proportions['a0_y1'] + proportions['a1_y0'] + proportions['a1_y1'] == 1)\n",
    "\n",
    "    return proportions"
   ]
  },
  {
   "cell_type": "code",
   "execution_count": 4,
   "metadata": {},
   "outputs": [],
   "source": [
    "def std_error(arr):\n",
    "    std = np.std(arr)\n",
    "    return std/np.sqrt(len(arr))"
   ]
  },
  {
   "cell_type": "markdown",
   "metadata": {
    "colab_type": "text",
    "id": "id0PTMTBDiTV"
   },
   "source": [
    "## Import Data\n",
    "We take A (the protected attribute) to be the 'race' variable, and a = 0 while a' = 1. "
   ]
  },
  {
   "cell_type": "code",
   "execution_count": 5,
   "metadata": {
    "colab": {},
    "colab_type": "code",
    "id": "EaDU5FwHDiTW"
   },
   "outputs": [],
   "source": [
    "X_train_arr = []\n",
    "X_test_arr = []\n",
    "y_train_arr = []\n",
    "y_test_arr = []\n",
    "sensitive_features_train_arr = []\n",
    "sensitive_features_test_arr = []\n",
    "\n",
    "for i in range(5):\n",
    "    X_train = pd.read_csv('./../../data/processed/lawschool/lawschool_train{}_X.csv'.format(i + 1))\n",
    "    X_test = pd.read_csv('./../../data/processed/lawschool/lawschool_test{}_X.csv'.format(i + 1))\n",
    "    y_train = pd.read_csv('./../../data/processed/lawschool/lawschool_train{}_y.csv'.format(i + 1))\n",
    "    y_test = pd.read_csv('./../../data/processed/lawschool/lawschool_test{}_y.csv'.format(i + 1))\n",
    "\n",
    "    y_train = y_train['bar1']\n",
    "    y_test = y_test['bar1']\n",
    "    \n",
    "    sensitive_features_train = X_train['race7']\n",
    "    sensitive_features_test = X_test['race7']\n",
    "\n",
    "    sensitive_features_train[sensitive_features_train <= 0] = 0\n",
    "    sensitive_features_train[sensitive_features_train > 0] = 1\n",
    "    sensitive_features_train = sensitive_features_train.reset_index(drop=True)\n",
    "    \n",
    "    sensitive_features_test[sensitive_features_test <= 0] = 0\n",
    "    sensitive_features_test[sensitive_features_test > 0] = 1\n",
    "    sensitive_features_test = sensitive_features_test.reset_index(drop=True)\n",
    "    \n",
    "    X_train_arr.append(X_train)\n",
    "    X_test_arr.append(X_test)\n",
    "    y_train_arr.append(y_train)\n",
    "    y_test_arr.append(y_test)\n",
    "    sensitive_features_train_arr.append(sensitive_features_train)\n",
    "    sensitive_features_test_arr.append(sensitive_features_test)"
   ]
  },
  {
   "cell_type": "code",
   "execution_count": 6,
   "metadata": {
    "colab": {
     "base_uri": "https://localhost:8080/",
     "height": 241
    },
    "colab_type": "code",
    "id": "3D-WDPLsDiTY",
    "outputId": "b8ec1cdc-e070-4f7f-bf86-05c73fe9bdfe"
   },
   "outputs": [
    {
     "name": "stdout",
     "output_type": "stream",
     "text": [
      "(1458, 17)\n",
      "(365, 17)\n",
      "(1458,)\n",
      "(365,)\n",
      "5\n"
     ]
    }
   ],
   "source": [
    "print(X_train_arr[0].shape)\n",
    "print(X_test_arr[0].shape)\n",
    "print(y_train_arr[0].shape)\n",
    "print(y_test_arr[0].shape)\n",
    "print(len(X_train_arr))"
   ]
  },
  {
   "cell_type": "code",
   "execution_count": 7,
   "metadata": {},
   "outputs": [],
   "source": [
    "a_indices_train_arr = []\n",
    "a_indices_test_arr = []\n",
    "\n",
    "for i in range(5):\n",
    "    a_indices_train_arr.append(set_a_indices(sensitive_features_train_arr[i], y_train_arr[i]))\n",
    "    a_indices_test_arr.append(set_a_indices(sensitive_features_test_arr[i], y_test_arr[i]))"
   ]
  },
  {
   "cell_type": "code",
   "execution_count": 8,
   "metadata": {},
   "outputs": [
    {
     "name": "stdout",
     "output_type": "stream",
     "text": [
      "y0 proportion = 0.46844993141289437\n",
      "y1 proportion = 0.5315500685871056\n",
      "a0 proportion = 0.2551440329218107\n",
      "a1 proportion = 0.7448559670781894\n",
      "y0 proportion = 0.5095890410958904\n",
      "y1 proportion = 0.4904109589041096\n",
      "a0 proportion = 0.2410958904109589\n",
      "a1 proportion = 0.7589041095890411\n",
      "y0 proportion = 0.47599451303155005\n",
      "y1 proportion = 0.52400548696845\n",
      "a0 proportion = 0.2544581618655693\n",
      "a1 proportion = 0.7455418381344308\n",
      "y0 proportion = 0.4794520547945205\n",
      "y1 proportion = 0.5205479452054794\n",
      "a0 proportion = 0.24383561643835616\n",
      "a1 proportion = 0.7561643835616438\n",
      "y0 proportion = 0.4725651577503429\n",
      "y1 proportion = 0.5274348422496571\n",
      "a0 proportion = 0.25171467764060357\n",
      "a1 proportion = 0.7482853223593965\n",
      "y0 proportion = 0.4931506849315068\n",
      "y1 proportion = 0.5068493150684932\n",
      "a0 proportion = 0.2547945205479452\n",
      "a1 proportion = 0.7452054794520548\n",
      "y0 proportion = 0.4670781893004115\n",
      "y1 proportion = 0.5329218106995884\n",
      "a0 proportion = 0.25651577503429357\n",
      "a1 proportion = 0.7434842249657064\n",
      "y0 proportion = 0.5150684931506849\n",
      "y1 proportion = 0.4849315068493151\n",
      "a0 proportion = 0.2356164383561644\n",
      "a1 proportion = 0.7643835616438356\n",
      "y0 proportion = 0.46776406035665297\n",
      "y1 proportion = 0.532235939643347\n",
      "a0 proportion = 0.2503429355281207\n",
      "a1 proportion = 0.7496570644718793\n",
      "y0 proportion = 0.5123287671232877\n",
      "y1 proportion = 0.4876712328767123\n",
      "a0 proportion = 0.2602739726027397\n",
      "a1 proportion = 0.7397260273972602\n"
     ]
    }
   ],
   "source": [
    "proportions_train_arr = []\n",
    "proportions_test_arr = []\n",
    "\n",
    "for i in range(5):\n",
    "    proportions_train_arr.append(set_proportions(a_indices_train_arr[i], y_train_arr[i], 'dp'))\n",
    "    proportions_test_arr.append(set_proportions(a_indices_test_arr[i], y_test_arr[i], 'dp'))"
   ]
  },
  {
   "cell_type": "markdown",
   "metadata": {},
   "source": [
    "## Train and Predict (Unconstrained Logistic Regression)"
   ]
  },
  {
   "cell_type": "code",
   "execution_count": 9,
   "metadata": {},
   "outputs": [],
   "source": [
    "unconstrained_clfrs = []\n",
    "unconstrained_test_accs = []\n",
    "unconstrained_dps = []\n",
    "unconstrained_preds = []"
   ]
  },
  {
   "cell_type": "code",
   "execution_count": 10,
   "metadata": {},
   "outputs": [
    {
     "name": "stdout",
     "output_type": "stream",
     "text": [
      "Adult Test Accuracy (Unconstrained, DP, Split 1): 0.8164383561643835\n",
      "P[h(X) = 1 | 0.0] = 0.19318181818181818\n",
      "P[h(X) = 1 | 1.0] = 0.6101083032490975\n",
      "Delta_dp = 0.4169264850672793\n",
      "Adult Test Accuracy (Unconstrained, DP, Split 2): 0.7945205479452054\n",
      "P[h(X) = 1 | 0.0] = 0.1797752808988764\n",
      "P[h(X) = 1 | 1.0] = 0.6268115942028986\n",
      "Delta_dp = 0.44703631330402216\n",
      "Adult Test Accuracy (Unconstrained, DP, Split 3): 0.7890410958904109\n",
      "P[h(X) = 1 | 0.0] = 0.053763440860215055\n",
      "P[h(X) = 1 | 1.0] = 0.6580882352941176\n",
      "Delta_dp = 0.6043247944339026\n",
      "Adult Test Accuracy (Unconstrained, DP, Split 4): 0.7863013698630137\n",
      "P[h(X) = 1 | 0.0] = 0.16279069767441862\n",
      "P[h(X) = 1 | 1.0] = 0.6487455197132617\n",
      "Delta_dp = 0.48595482203884305\n",
      "Adult Test Accuracy (Unconstrained, DP, Split 5): 0.7780821917808219\n",
      "P[h(X) = 1 | 0.0] = 0.1368421052631579\n",
      "P[h(X) = 1 | 1.0] = 0.6444444444444445\n",
      "Delta_dp = 0.5076023391812866\n"
     ]
    }
   ],
   "source": [
    "for i in range(5):\n",
    "    X_train = X_train_arr[i]\n",
    "    y_train = y_train_arr[i]\n",
    "    X_test = X_test_arr[i]\n",
    "    y_test = y_test_arr[i]\n",
    "    sensitive_features_train = sensitive_features_train_arr[i]\n",
    "    sensitive_features_test = sensitive_features_test_arr[i]\n",
    "    \n",
    "    unconstrained_logreg = LogisticRegression()\n",
    "\n",
    "    unconstrained_logreg.fit(X_train, y_train)\n",
    "    unconstrained_pred = unconstrained_logreg.predict(X_test)\n",
    "\n",
    "    print(\"Adult Test Accuracy (Unconstrained, DP, Split {}): {}\".format(i + 1, accuracy_score(unconstrained_pred, y_test)))\n",
    "    groups, group_metrics, gaps = evaluate_fairness(y_test, unconstrained_pred, sensitive_features_test)\n",
    "    for group in groups:\n",
    "        print(\"P[h(X) = 1 | {}] = {}\".format(group, group_metrics['dp'][group]))\n",
    "    print(\"Delta_dp = {}\".format(gaps['dp']))\n",
    "    \n",
    "    unconstrained_clfrs.append(unconstrained_logreg)\n",
    "    unconstrained_test_accs.append(accuracy_score(unconstrained_pred, y_test))\n",
    "    unconstrained_dps.append(gaps['dp'])\n",
    "    #unconstrained_preds.append(unconstrained_pred)\n",
    "    unconstrained_preds.append(unconstrained_logreg.predict(X_train))"
   ]
  },
  {
   "cell_type": "markdown",
   "metadata": {},
   "source": [
    "## Train and Predict (Preprocessing)"
   ]
  },
  {
   "cell_type": "code",
   "execution_count": 11,
   "metadata": {},
   "outputs": [],
   "source": [
    "preprocessing_clfrs = []\n",
    "preprocessing_test_accs = []\n",
    "preprocessing_dps = []\n",
    "preprocessing_preds = []"
   ]
  },
  {
   "cell_type": "code",
   "execution_count": 12,
   "metadata": {},
   "outputs": [
    {
     "name": "stderr",
     "output_type": "stream",
     "text": [
      "/Users/sam/anaconda3/envs/fairness_checking/lib/python3.7/site-packages/aif360/algorithms/preprocessing/lfr_helpers/helpers.py:2: NumbaDeprecationWarning: An import was requested from a module that has moved location.\n",
      "Import requested from: 'numba.decorators', please update to use 'numba.core.decorators' or pin to Numba version 0.48.0. This alias will not be present in Numba version 0.50.0.\n",
      "  from numba.decorators import jit\n",
      "/Users/sam/anaconda3/envs/fairness_checking/lib/python3.7/site-packages/aif360/algorithms/preprocessing/lfr_helpers/helpers.py:2: NumbaDeprecationWarning: An import was requested from a module that has moved location.\n",
      "Import of 'jit' requested from: 'numba.decorators', please update to use 'numba.core.decorators' or pin to Numba version 0.48.0. This alias will not be present in Numba version 0.50.0.\n",
      "  from numba.decorators import jit\n"
     ]
    }
   ],
   "source": [
    "# Form the IBM Fairness Dataset Object\n",
    "from aif360.datasets import BinaryLabelDataset\n",
    "from aif360.algorithms.preprocessing.reweighing import Reweighing\n",
    "\n",
    "preprocess_train_arr = []\n",
    "\n",
    "privileged_groups = [{'race7': 1}]\n",
    "unprivileged_groups = [{'race7': 0}]\n",
    "\n",
    "for s in range(5):\n",
    "    X_train_copy = X_train_arr[s].copy()\n",
    "    y_train_copy = y_train_arr[s].copy()\n",
    "    X_test_copy = X_test_arr[s].copy()\n",
    "    y_test_copy = y_test_arr[s].copy()\n",
    "\n",
    "    X_train_copy['bar1'] = y_train_copy\n",
    "    X_test_copy['bar1'] = y_test_copy\n",
    "    \n",
    "    preprocess_train = BinaryLabelDataset(1, 0, df=X_train_copy, label_names=['bar1'], protected_attribute_names=['race7'])\n",
    "    preprocess_train_arr.append(preprocess_train)"
   ]
  },
  {
   "cell_type": "code",
   "execution_count": 13,
   "metadata": {},
   "outputs": [
    {
     "name": "stdout",
     "output_type": "stream",
     "text": [
      "Adult Test Accuracy (Preprocessing, DP, Split 1): 0.7780821917808219\n",
      "P[h(X) = 1 | 0.0] = 0.4659090909090909\n",
      "P[h(X) = 1 | 1.0] = 0.5523465703971119\n",
      "Delta_dp = 0.086437479488021\n",
      "Adult Test Accuracy (Preprocessing, DP, Split 2): 0.7479452054794521\n",
      "P[h(X) = 1 | 0.0] = 0.4606741573033708\n",
      "P[h(X) = 1 | 1.0] = 0.5471014492753623\n",
      "Delta_dp = 0.0864272919719915\n",
      "Adult Test Accuracy (Preprocessing, DP, Split 3): 0.7616438356164383\n",
      "P[h(X) = 1 | 0.0] = 0.25806451612903225\n",
      "P[h(X) = 1 | 1.0] = 0.5955882352941176\n",
      "Delta_dp = 0.3375237191650854\n",
      "Adult Test Accuracy (Preprocessing, DP, Split 4): 0.7561643835616438\n",
      "P[h(X) = 1 | 0.0] = 0.3488372093023256\n",
      "P[h(X) = 1 | 1.0] = 0.5304659498207885\n",
      "Delta_dp = 0.18162874051846295\n",
      "Adult Test Accuracy (Preprocessing, DP, Split 5): 0.7342465753424657\n",
      "P[h(X) = 1 | 0.0] = 0.37894736842105264\n",
      "P[h(X) = 1 | 1.0] = 0.5740740740740741\n",
      "Delta_dp = 0.19512670565302143\n"
     ]
    }
   ],
   "source": [
    "for i in range(5):\n",
    "    preprocess_train = preprocess_train_arr[i]\n",
    "    \n",
    "    X_train = X_train_arr[i]\n",
    "    y_train = y_train_arr[i]\n",
    "    X_test = X_test_arr[i]\n",
    "    y_test = y_test_arr[i]\n",
    "    sensitive_features_train = sensitive_features_train_arr[i]\n",
    "    sensitive_features_test = sensitive_features_test_arr[i]\n",
    "    \n",
    "    RW = Reweighing(unprivileged_groups=unprivileged_groups,\n",
    "               privileged_groups=privileged_groups)\n",
    "    dataset_transf_train = RW.fit_transform(preprocess_train)\n",
    "    logreg = LogisticRegression()\n",
    "    logreg.fit(X_train, y_train,\n",
    "            sample_weight=dataset_transf_train.instance_weights)\n",
    "    \n",
    "    preprocessing_y_pred = logreg.predict(X_test)\n",
    "\n",
    "    ### Back to using original data ###\n",
    "    print(\"Adult Test Accuracy (Preprocessing, DP, Split {}): {}\".format(i + 1, accuracy_score(preprocessing_y_pred, y_test)))\n",
    "    groups, group_metrics, gaps = evaluate_fairness(y_test, preprocessing_y_pred, sensitive_features_test)\n",
    "    for group in groups:\n",
    "        print(\"P[h(X) = 1 | {}] = {}\".format(group, group_metrics['dp'][group]))\n",
    "    print(\"Delta_dp = {}\".format(gaps['dp']))\n",
    "    \n",
    "    preprocessing_clfrs.append(logreg)\n",
    "    preprocessing_test_accs.append(accuracy_score(preprocessing_y_pred, y_test))\n",
    "    preprocessing_dps.append(gaps['dp'])\n",
    "    #preprocessing_preds.append(preprocessing_y_pred)\n",
    "    preprocessing_preds.append(logreg.predict(X_train))"
   ]
  },
  {
   "cell_type": "markdown",
   "metadata": {},
   "source": [
    "## Train and Predict (Inprocessing)"
   ]
  },
  {
   "cell_type": "code",
   "execution_count": 14,
   "metadata": {},
   "outputs": [],
   "source": [
    "from fairlearn.reductions import ExponentiatedGradient, DemographicParity\n",
    "\n",
    "inprocessing_clfrs = []\n",
    "inprocessing_test_accs = []\n",
    "inprocessing_dps = []\n",
    "inprocessing_preds = []"
   ]
  },
  {
   "cell_type": "code",
   "execution_count": 15,
   "metadata": {},
   "outputs": [
    {
     "name": "stdout",
     "output_type": "stream",
     "text": [
      "Adult Test Accuracy (Inprocessing, DP, Split 1): 0.7561643835616438\n",
      "P[h(X) = 1 | 0.0] = 0.5113636363636364\n",
      "P[h(X) = 1 | 1.0] = 0.5090252707581228\n",
      "Delta_dp = 0.0023383656055135926\n",
      "Adult Test Accuracy (Inprocessing, DP, Split 2): 0.7397260273972602\n",
      "P[h(X) = 1 | 0.0] = 0.5393258426966292\n",
      "P[h(X) = 1 | 1.0] = 0.5253623188405797\n",
      "Delta_dp = 0.013963523856049487\n",
      "Adult Test Accuracy (Inprocessing, DP, Split 3): 0.7232876712328767\n",
      "P[h(X) = 1 | 0.0] = 0.41935483870967744\n",
      "P[h(X) = 1 | 1.0] = 0.5477941176470589\n",
      "Delta_dp = 0.12843927893738144\n",
      "Adult Test Accuracy (Inprocessing, DP, Split 4): 0.7315068493150685\n",
      "P[h(X) = 1 | 0.0] = 0.47674418604651164\n",
      "P[h(X) = 1 | 1.0] = 0.5017921146953405\n",
      "Delta_dp = 0.02504792864882882\n",
      "Adult Test Accuracy (Inprocessing, DP, Split 5): 0.7150684931506849\n",
      "P[h(X) = 1 | 0.0] = 0.45263157894736844\n",
      "P[h(X) = 1 | 1.0] = 0.5518518518518518\n",
      "Delta_dp = 0.09922027290448338\n"
     ]
    }
   ],
   "source": [
    "for i in range(5):\n",
    "    X_train = X_train_arr[i]\n",
    "    y_train = y_train_arr[i]\n",
    "    X_test = X_test_arr[i]\n",
    "    y_test = y_test_arr[i]\n",
    "    sensitive_features_train = sensitive_features_train_arr[i]\n",
    "    sensitive_features_test = sensitive_features_test_arr[i]\n",
    "    \n",
    "    inprocessing_dp = ExponentiatedGradient(\n",
    "        LogisticRegression(solver='liblinear', fit_intercept=True, class_weight='balanced'),\n",
    "        constraints=DemographicParity(),\n",
    "        eps=0.05,\n",
    "        nu=1e-6)\n",
    "\n",
    "    inprocessing_dp.fit(X_train, y_train, sensitive_features=sensitive_features_train)\n",
    "    inprocessing_y_pred = inprocessing_dp.predict(X_test)\n",
    "\n",
    "    print(\"Adult Test Accuracy (Inprocessing, DP, Split {}): {}\".format(i + 1, accuracy_score(inprocessing_y_pred, y_test)))\n",
    "    groups, group_metrics, gaps = evaluate_fairness(y_test, inprocessing_y_pred, sensitive_features_test)\n",
    "    for group in groups:\n",
    "        print(\"P[h(X) = 1 | {}] = {}\".format(group, group_metrics['dp'][group]))\n",
    "    print(\"Delta_dp = {}\".format(gaps['dp']))\n",
    "    \n",
    "    inprocessing_clfrs.append(inprocessing_dp)\n",
    "    inprocessing_test_accs.append(accuracy_score(inprocessing_y_pred, y_test))\n",
    "    inprocessing_dps.append(gaps['dp'])\n",
    "    #inprocessing_preds.append(inprocessing_y_pred)\n",
    "    inprocessing_preds.append(inprocessing_dp.predict(X_train))"
   ]
  },
  {
   "cell_type": "markdown",
   "metadata": {},
   "source": [
    "## Train and Predict (Postprocessing)"
   ]
  },
  {
   "cell_type": "code",
   "execution_count": 16,
   "metadata": {},
   "outputs": [],
   "source": [
    "from fairlearn.postprocessing import ThresholdOptimizer\n",
    "from sklearn import clone\n",
    "from sklearn.base import BaseEstimator, ClassifierMixin\n",
    "from sklearn.utils.validation import check_is_fitted\n",
    "from sklearn.exceptions import NotFittedError\n",
    "\n",
    "postprocessing_clfrs = []\n",
    "postprocessing_test_accs = []\n",
    "postprocessing_dps = []\n",
    "postprocessing_preds = []"
   ]
  },
  {
   "cell_type": "code",
   "execution_count": 17,
   "metadata": {},
   "outputs": [],
   "source": [
    "class LogisticRegressionAsRegression(BaseEstimator, ClassifierMixin):\n",
    "    def __init__(self, logistic_regression_estimator):\n",
    "        self.logistic_regression_estimator = logistic_regression_estimator\n",
    "\n",
    "    def fit(self, X, y):\n",
    "        try:\n",
    "            check_is_fitted(self.logistic_regression_estimator)\n",
    "            self.logistic_regression_estimator_ = self.logistic_regression_estimator\n",
    "        except NotFittedError:\n",
    "            self.logistic_regression_estimator_ = clone(\n",
    "                self.logistic_regression_estimator\n",
    "            ).fit(X, y)\n",
    "        return self\n",
    "\n",
    "    def predict(self, X):\n",
    "        # use predict_proba to get real values instead of 0/1, select only prob for 1\n",
    "        scores = self.logistic_regression_estimator_.predict_proba(X)[:, 1]\n",
    "        return scores"
   ]
  },
  {
   "cell_type": "code",
   "execution_count": 18,
   "metadata": {},
   "outputs": [
    {
     "name": "stdout",
     "output_type": "stream",
     "text": [
      "Adult Test Accuracy (Postprocessing, DP): 0.7452054794520548\n",
      "P[h(X) = 1 | 0.0] = 0.5113636363636364\n",
      "P[h(X) = 1 | 1.0] = 0.5018050541516246\n",
      "Delta_dp = 0.00955858221201178\n",
      "Adult Test Accuracy (Postprocessing, DP): 0.7342465753424657\n",
      "P[h(X) = 1 | 0.0] = 0.6629213483146067\n",
      "P[h(X) = 1 | 1.0] = 0.5289855072463768\n",
      "Delta_dp = 0.13393584106822987\n",
      "Adult Test Accuracy (Postprocessing, DP): 0.7315068493150685\n",
      "P[h(X) = 1 | 0.0] = 0.40860215053763443\n",
      "P[h(X) = 1 | 1.0] = 0.5772058823529411\n",
      "Delta_dp = 0.1686037318153067\n",
      "Adult Test Accuracy (Postprocessing, DP): 0.7013698630136986\n",
      "P[h(X) = 1 | 0.0] = 0.5813953488372093\n",
      "P[h(X) = 1 | 1.0] = 0.5161290322580645\n",
      "Delta_dp = 0.06526631657914483\n",
      "Adult Test Accuracy (Postprocessing, DP): 0.6931506849315069\n",
      "P[h(X) = 1 | 0.0] = 0.5473684210526316\n",
      "P[h(X) = 1 | 1.0] = 0.5555555555555556\n",
      "Delta_dp = 0.008187134502923965\n"
     ]
    }
   ],
   "source": [
    "for i in range(5):\n",
    "    X_train = X_train_arr[i]\n",
    "    y_train = y_train_arr[i]\n",
    "    X_test = X_test_arr[i]\n",
    "    y_test = y_test_arr[i]\n",
    "    sensitive_features_train = sensitive_features_train_arr[i]\n",
    "    sensitive_features_test = sensitive_features_test_arr[i]\n",
    "    \n",
    "    logreg = LogisticRegression()\n",
    "    logreg.fit(X_train, y_train)\n",
    "    estimator_wrapper = LogisticRegressionAsRegression(logreg).fit(X_train, y_train)\n",
    "    postprocessed_predictor_dp = ThresholdOptimizer(estimator=estimator_wrapper, constraints=\"demographic_parity\", prefit=True)\n",
    "\n",
    "    postprocessed_predictor_dp.fit(X_train, y_train, sensitive_features=sensitive_features_train)\n",
    "    postprocessing_y_pred = postprocessed_predictor_dp.predict(X_test, sensitive_features=sensitive_features_test)\n",
    "\n",
    "    print(\"Adult Test Accuracy (Postprocessing, DP): {}\".format(accuracy_score(postprocessing_y_pred, y_test)))\n",
    "    groups, group_metrics, gaps = evaluate_fairness(y_test, postprocessing_y_pred, sensitive_features_test)\n",
    "\n",
    "    groups, group_metrics, gaps = evaluate_fairness(y_test, postprocessing_y_pred, sensitive_features_test)\n",
    "    for group in groups:\n",
    "        print(\"P[h(X) = 1 | {}] = {}\".format(group, group_metrics['dp'][group]))\n",
    "    print(\"Delta_dp = {}\".format(gaps['dp']))\n",
    "\n",
    "    postprocessing_clfrs.append(postprocessed_predictor_dp)\n",
    "    postprocessing_test_accs.append(accuracy_score(postprocessing_y_pred, y_test))\n",
    "    postprocessing_dps.append(gaps['dp'])\n",
    "    #postprocessing_preds.append(postprocessing_y_pred)\n",
    "    postprocessing_preds.append(postprocessed_predictor_dp.predict(X_train, sensitive_features=sensitive_features_train))"
   ]
  },
  {
   "cell_type": "markdown",
   "metadata": {},
   "source": [
    "## Predict (Robust Algorithm h_0, T = 1000)"
   ]
  },
  {
   "cell_type": "code",
   "execution_count": 19,
   "metadata": {},
   "outputs": [],
   "source": [
    "robust_clfrs = []\n",
    "robust_test_accs = []\n",
    "robust_dps = []\n",
    "robust_preds = []"
   ]
  },
  {
   "cell_type": "code",
   "execution_count": 20,
   "metadata": {},
   "outputs": [
    {
     "name": "stdout",
     "output_type": "stream",
     "text": [
      "Adult Test Accuracy (Robust, DP): 0.7205479452054795\n",
      "P[h(X) = 1 | A = 0.0] = 0.1590909090909091\n",
      "P[h(X) = 1 | A = 1.0] = 0.2924187725631769\n",
      "Delta_dp = 0.1333278634722678\n",
      "Adult Test Accuracy (Robust, DP): 0.6821917808219178\n",
      "P[h(X) = 1 | A = 0.0] = 0.11235955056179775\n",
      "P[h(X) = 1 | A = 1.0] = 0.2536231884057971\n",
      "Delta_dp = 0.14126363784399937\n",
      "Adult Test Accuracy (Robust, DP): 0.6493150684931507\n",
      "P[h(X) = 1 | A = 0.0] = 0.043010752688172046\n",
      "P[h(X) = 1 | A = 1.0] = 0.20220588235294118\n",
      "Delta_dp = 0.15919512966476912\n",
      "Adult Test Accuracy (Robust, DP): 0.6931506849315069\n",
      "P[h(X) = 1 | A = 0.0] = 0.1511627906976744\n",
      "P[h(X) = 1 | A = 1.0] = 0.26523297491039427\n",
      "Delta_dp = 0.11407018421271986\n",
      "Adult Test Accuracy (Robust, DP): 0.7123287671232876\n",
      "P[h(X) = 1 | A = 0.0] = 0.09473684210526316\n",
      "P[h(X) = 1 | A = 1.0] = 0.31851851851851853\n",
      "Delta_dp = 0.22378167641325536\n"
     ]
    }
   ],
   "source": [
    "X_train = X_train_arr[0]\n",
    "y_train = y_train_arr[0]\n",
    "X_test = X_test_arr[0]\n",
    "y_test = y_test_arr[0]\n",
    "\n",
    "for i in range(5):\n",
    "    X_train = X_train_arr[i]\n",
    "    y_train = y_train_arr[i]\n",
    "    X_test = X_test_arr[i]\n",
    "    y_test = y_test_arr[i]\n",
    "    sensitive_features_train = sensitive_features_train_arr[i]\n",
    "    sensitive_features_test = sensitive_features_test_arr[i]\n",
    "    \n",
    "    pickled_file = './ensemble_final/ensemble_final_dp_lawschoolsplit{}.pkl'.format(i+1)\n",
    "    pickled_robust_h = open(pickled_file, \"rb\")\n",
    "    robust_h = pickle.load(pickled_robust_h)\n",
    "    robust_pred = robust_h.predict(X_test)\n",
    "    print(\"Adult Test Accuracy (Robust, DP): {}\".format(accuracy_score(robust_pred, y_test)))\n",
    "    groups, group_metrics, gaps = evaluate_fairness(y_test, robust_pred, sensitive_features_test)\n",
    "    for group in groups:\n",
    "        print(\"P[h(X) = 1 | A = {}] = {}\".format(group, group_metrics['dp'][group]))\n",
    "    print(\"Delta_dp = {}\".format(gaps['dp']))\n",
    "    \n",
    "    robust_clfrs.append(robust_h)\n",
    "    robust_test_accs.append(accuracy_score(robust_pred, y_test))\n",
    "    robust_dps.append(gaps['dp'])\n",
    "    #robust_preds.append(robust_pred)\n",
    "    robust_preds.append(robust_h.predict(X_train))\n",
    "\n",
    "pickled_file = './ensemble_test.pkl'\n",
    "pickled_list = open(pickled_file, \"rb\")\n",
    "robust_list = pickle.load(pickled_list)"
   ]
  },
  {
   "cell_type": "markdown",
   "metadata": {},
   "source": [
    "## Weighted Loss Linear Program"
   ]
  },
  {
   "cell_type": "code",
   "execution_count": 21,
   "metadata": {},
   "outputs": [],
   "source": [
    "def weighted_loss_linear_prog(y_pred, y_test, a_indices, proportions, lower_bound, upper_bound, a, a_p):\n",
    "    # Make sure constraint is within bounds\n",
    "    assert(0 < lower_bound < 1)\n",
    "    assert(0 < upper_bound < 1)\n",
    "    \n",
    "    # Loss vector 1{h(x) =/= y}\n",
    "    loss_vec = y_pred - y_test\n",
    "    loss_vec[loss_vec < 0] = 1\n",
    "    \n",
    "    # Setup variables and subgp names\n",
    "    n = len(y_pred)\n",
    "    w = cp.Variable(n)\n",
    "    \n",
    "    # Setup subgroup proportions\n",
    "    pi_a = proportions[a]\n",
    "    pi_a_p = proportions[a_p]\n",
    "    \n",
    "    # Set constraints\n",
    "    constraints = [\n",
    "        cp.sum(w[a_indices[a]]) == pi_a,\n",
    "        cp.sum(w[a_indices[a_p]]) == pi_a_p,\n",
    "        cp.sum(w) == 1,\n",
    "        0 <= w,\n",
    "        lower_bound <= w,\n",
    "        w <= upper_bound\n",
    "    ]\n",
    "    \n",
    "    # Setup objective and problem\n",
    "    objective = cp.Maximize(w @ loss_vec)\n",
    "    problem = cp.Problem(objective, constraints)\n",
    "    \n",
    "    # Solve problem\n",
    "    problem.solve(solver = 'ECOS')\n",
    "    return problem.value, w.value"
   ]
  },
  {
   "cell_type": "code",
   "execution_count": 27,
   "metadata": {},
   "outputs": [],
   "source": [
    "epsilon_granule = 0.01\n",
    "\n",
    "unconstrained_objective_values = []\n",
    "preprocessing_objective_values = []\n",
    "inprocessing_objective_values = []\n",
    "postprocessing_objective_values = []\n",
    "robust_objective_values = []\n",
    "\n",
    "# Iterate over datasets\n",
    "for s in range(5):\n",
    "    unconstrained_y_pred = unconstrained_preds[s]\n",
    "    preprocessing_y_pred = preprocessing_preds[s]\n",
    "    inprocessing_y_pred = inprocessing_preds[s]\n",
    "    postprocessing_y_pred = postprocessing_preds[s]\n",
    "    robust_pred = robust_preds[s]\n",
    "    a_indices_test = a_indices_test_arr[s]\n",
    "    proportions_test = proportions_test_arr[s]\n",
    "    a_indices_train = a_indices_train_arr[s]\n",
    "    proportions_train = proportions_train_arr[s]\n",
    "    y_train = y_train_arr[s]\n",
    "    \n",
    "    unconstrained_curr = []\n",
    "    preprocessing_curr = []\n",
    "    inprocessing_curr = []\n",
    "    postprocessing_curr = []\n",
    "    robust_curr = []\n",
    "    # Iterate over constraints\n",
    "    for i in range(0, int(1/epsilon_granule)):\n",
    "        epsilon = epsilon_granule * i\n",
    "        lower_bound = (1 - epsilon)/(len(X_train))\n",
    "        upper_bound = (1 + epsilon)/(len(X_train))\n",
    "        \n",
    "        unconstrained_objective_value_a0a1, w = weighted_loss_linear_prog(unconstrained_y_pred, y_train, a_indices_train, proportions_train, lower_bound, upper_bound, 'a0', 'a1')\n",
    "        unconstrained_objective_value_a1a0, w = weighted_loss_linear_prog(unconstrained_y_pred, y_train, a_indices_train, proportions_train, lower_bound, upper_bound, 'a1', 'a0')\n",
    "        unconstrained_objective_value = max(unconstrained_objective_value_a0a1, unconstrained_objective_value_a1a0)\n",
    "        unconstrained_curr.append(unconstrained_objective_value)\n",
    "        \n",
    "        preprocessing_objective_value_a0a1, w = weighted_loss_linear_prog(preprocessing_y_pred, y_train, a_indices_train, proportions_train, lower_bound, upper_bound, 'a0', 'a1')\n",
    "        preprocessing_objective_value_a1a0, w = weighted_loss_linear_prog(preprocessing_y_pred, y_train, a_indices_train, proportions_train, lower_bound, upper_bound, 'a1', 'a0')\n",
    "        preprocessing_objective_value = max(preprocessing_objective_value_a0a1, preprocessing_objective_value_a1a0)\n",
    "        preprocessing_curr.append(preprocessing_objective_value)\n",
    "\n",
    "        inprocessing_objective_value_a0a1, w = weighted_loss_linear_prog(inprocessing_y_pred, y_train, a_indices_train, proportions_train, lower_bound, upper_bound, 'a0', 'a1')\n",
    "        inprocessing_objective_value_a1a0, w = weighted_loss_linear_prog(inprocessing_y_pred, y_train, a_indices_train, proportions_train, lower_bound, upper_bound, 'a1', 'a0')\n",
    "        inprocessing_objective_value = max(inprocessing_objective_value_a0a1, inprocessing_objective_value_a1a0)\n",
    "        inprocessing_curr.append(inprocessing_objective_value)\n",
    "\n",
    "        postprocessing_objective_value_a0a1, w = weighted_loss_linear_prog(postprocessing_y_pred, y_train, a_indices_train, proportions_train, lower_bound, upper_bound, 'a0', 'a1')\n",
    "        postprocessing_objective_value_a1a0, w = weighted_loss_linear_prog(postprocessing_y_pred, y_train, a_indices_train, proportions_train, lower_bound, upper_bound, 'a1', 'a0')\n",
    "        postprocessing_objective_value = max(postprocessing_objective_value_a0a1, postprocessing_objective_value_a1a0)\n",
    "        postprocessing_curr.append(postprocessing_objective_value)\n",
    "\n",
    "        robust_objective_value_a0a1, w = weighted_loss_linear_prog(robust_pred, y_train, a_indices_train,  proportions_train, lower_bound, upper_bound, 'a0', 'a1')\n",
    "        robust_objective_value_a1a0, w = weighted_loss_linear_prog(robust_pred, y_train, a_indices_train,  proportions_train, lower_bound, upper_bound, 'a1', 'a0')\n",
    "        robust_objective_value = max(robust_objective_value_a0a1, robust_objective_value_a1a0)\n",
    "        robust_curr.append(robust_objective_value)\n",
    "    \n",
    "    unconstrained_objective_values.append(np.asarray(unconstrained_curr))\n",
    "    preprocessing_objective_values.append(np.asarray(preprocessing_curr))\n",
    "    inprocessing_objective_values.append(np.asarray(inprocessing_curr))\n",
    "    postprocessing_objective_values.append(np.asarray(postprocessing_curr))\n",
    "    robust_objective_values.append(np.asarray(robust_curr))"
   ]
  },
  {
   "cell_type": "code",
   "execution_count": 28,
   "metadata": {},
   "outputs": [],
   "source": [
    "epsilons = []\n",
    "for i in range(0, int(1/epsilon_granule)):\n",
    "    epsilons.append(i * epsilon_granule)"
   ]
  },
  {
   "cell_type": "code",
   "execution_count": 29,
   "metadata": {},
   "outputs": [],
   "source": [
    "# Average over the results\n",
    "unconstrained_avg_objective_values = np.zeros(len(unconstrained_objective_values[0]))\n",
    "preprocessing_avg_objective_values = np.zeros(len(preprocessing_objective_values[0]))\n",
    "inprocessing_avg_objective_values = np.zeros(len(inprocessing_objective_values[0]))\n",
    "postprocessing_avg_objective_values = np.zeros(len(postprocessing_objective_values[0]))\n",
    "robust_avg_objective_values = np.zeros(len(robust_objective_values[0]))\n",
    "\n",
    "for i in range(5):\n",
    "    unconstrained_avg_objective_values += unconstrained_objective_values[i]\n",
    "    preprocessing_avg_objective_values += preprocessing_objective_values[i]\n",
    "    inprocessing_avg_objective_values += inprocessing_objective_values[i]\n",
    "    postprocessing_avg_objective_values += postprocessing_objective_values[i]\n",
    "    robust_avg_objective_values += robust_objective_values[i]\n",
    "\n",
    "unconstrained_avg_objective_values = np.divide(unconstrained_avg_objective_values, 5)\n",
    "preprocessing_avg_objective_values = np.divide(preprocessing_avg_objective_values, 5)\n",
    "inprocessing_avg_objective_values = np.divide(inprocessing_avg_objective_values, 5)\n",
    "postprocessing_avg_objective_values = np.divide(postprocessing_avg_objective_values, 5)\n",
    "robust_avg_objective_values = np.divide(robust_avg_objective_values, 5)"
   ]
  },
  {
   "cell_type": "code",
   "execution_count": 30,
   "metadata": {},
   "outputs": [],
   "source": [
    "unconstrained_std_err = []\n",
    "preprocessing_std_err = []\n",
    "inprocessing_std_err = []\n",
    "postprocessing_std_err = []\n",
    "robust_std_err = []\n",
    "\n",
    "for i in range(100):\n",
    "    unconstrained_vals = []\n",
    "    preprocessing_vals = []\n",
    "    inprocessing_vals = []\n",
    "    postprocessing_vals = []\n",
    "    robust_vals = []\n",
    "    \n",
    "    for s in range(5):\n",
    "        unconstrained_vals.append(unconstrained_objective_values[s][i])\n",
    "        preprocessing_vals.append(preprocessing_objective_values[s][i])\n",
    "        inprocessing_vals.append(inprocessing_objective_values[s][i])\n",
    "        postprocessing_vals.append(postprocessing_objective_values[s][i])\n",
    "        robust_vals.append(robust_objective_values[s][i])\n",
    "        \n",
    "    unconstrained_std_err.append(std_error(unconstrained_vals))\n",
    "    preprocessing_std_err.append(std_error(preprocessing_vals))\n",
    "    inprocessing_std_err.append(std_error(inprocessing_vals))\n",
    "    postprocessing_std_err.append(std_error(postprocessing_vals))\n",
    "    robust_std_err.append(std_error(robust_vals))"
   ]
  },
  {
   "cell_type": "code",
   "execution_count": 32,
   "metadata": {},
   "outputs": [
    {
     "data": {
      "text/plain": [
       "Text(0.5, 1.0, 'Lawschool Comparison (Weighted Training Loss)')"
      ]
     },
     "execution_count": 32,
     "metadata": {},
     "output_type": "execute_result"
    },
    {
     "data": {
      "image/png": "[encoded data removed]",
      "text/plain": [
       "<Figure size 648x648 with 1 Axes>"
      ]
     },
     "metadata": {
      "needs_background": "light"
     },
     "output_type": "display_data"
    }
   ],
   "source": [
    "# Plot the constraints vs. objective values\n",
    "fig = plt.figure(figsize=(9,9))\n",
    "plt.plot(epsilons, unconstrained_avg_objective_values, 'magenta')\n",
    "plt.plot(epsilons, preprocessing_avg_objective_values, 'green')\n",
    "plt.plot(epsilons, inprocessing_avg_objective_values, 'orange')\n",
    "plt.plot(epsilons, postprocessing_avg_objective_values, 'blue')\n",
    "plt.plot(epsilons, robust_avg_objective_values, 'red')\n",
    "plt.fill_between(epsilons, unconstrained_avg_objective_values - unconstrained_std_err, unconstrained_avg_objective_values + unconstrained_std_err, color='magenta', alpha=0.2)\n",
    "plt.fill_between(epsilons, preprocessing_avg_objective_values - preprocessing_std_err, preprocessing_avg_objective_values + preprocessing_std_err, color='green', alpha=0.2)\n",
    "plt.fill_between(epsilons, inprocessing_avg_objective_values - inprocessing_std_err, inprocessing_avg_objective_values + inprocessing_std_err, color='orange', alpha=0.2)\n",
    "plt.fill_between(epsilons, postprocessing_avg_objective_values - postprocessing_std_err, postprocessing_avg_objective_values + postprocessing_std_err, color='blue', alpha=0.2)\n",
    "plt.fill_between(epsilons, robust_avg_objective_values - robust_std_err, robust_avg_objective_values + robust_std_err, color='red', alpha=0.2)\n",
    "plt.xlabel('L1 Distance (epsilon)')\n",
    "plt.ylabel('Weighted Empirical Loss')\n",
    "plt.title('Lawschool Comparison (Weighted Training Loss)')"
   ]
  },
  {
   "cell_type": "code",
   "execution_count": null,
   "metadata": {},
   "outputs": [],
   "source": [
    "w_t from the outer loop:\n",
    "Unweighted Train Accuracy = 0.6027227722772277\n",
    "Weighted Train Accuracy = 0.980203120310\n",
    "Test Accuracy = 0.6039603960396039"
   ]
  }
 ],
 "metadata": {
  "colab": {
   "collapsed_sections": [],
   "name": "EO_linear_prog_constraints.ipynb",
   "provenance": [],
   "toc_visible": true
  },
  "kernelspec": {
   "display_name": "Python 3",
   "language": "python",
   "name": "python3"
  },
  "language_info": {
   "codemirror_mode": {
    "name": "ipython",
    "version": 3
   },
   "file_extension": ".py",
   "mimetype": "text/x-python",
   "name": "python",
   "nbconvert_exporter": "python",
   "pygments_lexer": "ipython3",
   "version": "3.7.3"
  }
 },
 "nbformat": 4,
 "nbformat_minor": 2
}
