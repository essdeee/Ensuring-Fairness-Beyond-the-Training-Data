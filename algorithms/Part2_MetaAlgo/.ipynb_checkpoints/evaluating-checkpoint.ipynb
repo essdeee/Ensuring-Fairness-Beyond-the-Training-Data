{
 "cells": [
  {
   "cell_type": "code",
   "execution_count": 4,
   "metadata": {},
   "outputs": [],
   "source": [
    "import pandas as pd\n",
    "import time\n",
    "from meta_algo import MetaAlgorithm\n",
    "from sklearn.metrics import accuracy_score\n",
    "import cvxopt\n",
    "import numpy as np\n",
    "import pickle\n",
    "import matplotlib.pyplot as plt\n",
    "import matplotlib.cm as cm"
   ]
  },
  {
   "cell_type": "code",
   "execution_count": 5,
   "metadata": {},
   "outputs": [],
   "source": [
    "# show_proportions is only a helper function for plotting\n",
    "def show_proportions(X, sensitive_features, y_pred, y=None, description=\"Demographic Parity\", plot_row_index=1):\n",
    "    print(\"\\n\" + description)\n",
    "    plt.figure(plot_row_index)\n",
    "    plt.title(description)\n",
    "    plt.ylabel(\"P[recidivism predicted | conditions]\")\n",
    "    \n",
    "    indices = {}\n",
    "    positive_indices = {}\n",
    "    negative_indices = {}\n",
    "    recidivism_count = {}\n",
    "    recidivism_pct = {}\n",
    "    groups = np.unique(sensitive_features.values)\n",
    "    n_groups = len(groups)\n",
    "    max_group_length = max([len(group) for group in groups])\n",
    "    color = cm.rainbow(np.linspace(0,1,n_groups))\n",
    "    x_tick_labels_basic = []\n",
    "    x_tick_labels_by_label = []\n",
    "    for index, group in enumerate(groups):\n",
    "        indices[group] = sensitive_features.index[sensitive_features == group]\n",
    "        recidivism_count[group] = sum(y_pred[indices[group]])\n",
    "        recidivism_pct[group] = recidivism_count[group]/len(indices[group])\n",
    "        print(\"P[recidivism predicted | {}]                {}= {}\".format(group, \" \"*(max_group_length-len(group)), recidivism_pct[group]))\n",
    "    \n",
    "        plt.bar(index + 1, recidivism_pct[group], color=color[index])\n",
    "        x_tick_labels_basic.append(group)\n",
    "    \n",
    "        if y is not None:\n",
    "            positive_indices[group] = sensitive_features.index[(sensitive_features == group) & (y == 1)]\n",
    "            negative_indices[group] = sensitive_features.index[(sensitive_features == group) & (y == 0)]\n",
    "            prob_1 = sum(y_pred[positive_indices[group]])/len(positive_indices[group])\n",
    "            prob_0 = sum(y_pred[negative_indices[group]])/len(negative_indices[group])\n",
    "            print(\"P[recidivism predicted | {}, recidivism]    {}= {}\".format(group, \" \"*(max_group_length-len(group)) , prob_1))\n",
    "            print(\"P[recidivism predicted | {}, no recidivism] {}= {}\".format(group, \" \"*(max_group_length-len(group)), prob_0))\n",
    "\n",
    "            plt.bar(n_groups + 1 + 2 * index, prob_1, color=color[index])\n",
    "            plt.bar(n_groups + 2 + 2 * index, prob_0, color=color[index])\n",
    "            x_tick_labels_by_label.extend([\"{} recidivism\".format(group), \"{} no recidivism\".format(group)])\n",
    "    \n",
    "    x_tick_labels = x_tick_labels_basic + x_tick_labels_by_label\n",
    "    plt.xticks(range(1, len(x_tick_labels)+1), x_tick_labels, rotation=45, horizontalalignment=\"right\")\n",
    "\n",
    "dataset_used = 'compas'\n",
    "\n",
    "if(dataset_used == 'compas'):\n",
    "    compas_train = pd.read_csv('./../../data/compas_train.csv')\n",
    "    compas_val = pd.read_csv('./../../data/compas_val.csv')\n",
    "    compas_test = pd.read_csv('./../../data/compas_test.csv')\n",
    "\n",
    "    y_train = compas_train.pop('two_year_recid') \n",
    "    y_test = compas_test.pop('two_year_recid')\n",
    "    sensitive_features_train = compas_train['race']\n",
    "    sensitive_features_test = compas_test['race']\n",
    "    X_train = compas_train\n",
    "    X_test = compas_test\n",
    "    \n",
    "    sensitive_features_train = sensitive_features_train.replace(0, 'African-American')\n",
    "    sensitive_features_train = sensitive_features_train.replace(1, 'Caucasian')\n",
    "    sensitive_features_test = sensitive_features_test.replace(0, 'African-American')\n",
    "    sensitive_features_test = sensitive_features_test.replace(1, 'Caucasian')\n",
    "    \n",
    "elif(dataset_used == 'adult'):\n",
    "    adult_train = pd.read_csv('./../../data/adult_train.csv')\n",
    "    adult_val = pd.read_csv('./../../data/adult_val.csv')\n",
    "    adult_test = pd.read_csv('./../../data/adult_test.csv')\n",
    "\n",
    "    y_train = adult_train.pop('Income Binary') \n",
    "    y_test = adult_test.pop('Income Binary')\n",
    "    sensitive_features_train = adult_train['sex']\n",
    "    sensitive_features_test = adult_test['sex']\n",
    "    X_train = adult_train\n",
    "    X_test = adult_test\n",
    "    \n",
    "    sensitive_features_train = sensitive_features_train.replace(0, 'Female')\n",
    "    sensitive_features_train = sensitive_features_train.replace(1, 'Male')\n",
    "    sensitive_features_test = sensitive_features_test.replace(0, 'Female')\n",
    "    sensitive_features_test = sensitive_features_test.replace(1, 'Male')\n",
    "    \n",
    "else:\n",
    "    print('Invalid dataset_used variable.')"
   ]
  },
  {
   "cell_type": "code",
   "execution_count": 6,
   "metadata": {},
   "outputs": [
    {
     "name": "stdout",
     "output_type": "stream",
     "text": [
      "\n",
      "Demographic Parity\n",
      "P[recidivism predicted | African-American]                = 0.6263823064770933\n",
      "P[recidivism predicted | Caucasian]                       = 0.2562130177514793\n"
     ]
    },
    {
     "data": {
      "image/png": "[encoded data removed]",
      "text/plain": [
       "<Figure size 432x288 with 1 Axes>"
      ]
     },
     "metadata": {
      "needs_background": "light"
     },
     "output_type": "display_data"
    }
   ],
   "source": [
    "hypotheses = []\n",
    "with open(\"hypotheses.pckl\", \"rb\") as f:\n",
    "    while True:\n",
    "        try:\n",
    "            hypotheses.append(pickle.load(f))\n",
    "        except EOFError:\n",
    "            break\n",
    "\n",
    "y_pred = hypotheses[0].predict(X_train)\n",
    "show_proportions(X_train, sensitive_features_train, y_pred)"
   ]
  },
  {
   "cell_type": "code",
   "execution_count": null,
   "metadata": {},
   "outputs": [],
   "source": [
    "from sklearn import LogisticRegression\n",
    "\n",
    "final_weights = self.eta * self._L_i() + 0.5\n",
    "\n",
    "logreg = LogisticRegression(class_weight='balanced', solver='lbfgs')\n",
    "logreg.fit(X_train, y_train)"
   ]
  }
 ],
 "metadata": {
  "kernelspec": {
   "display_name": "Python 3",
   "language": "python",
   "name": "python3"
  },
  "language_info": {
   "codemirror_mode": {
    "name": "ipython",
    "version": 3
   },
   "file_extension": ".py",
   "mimetype": "text/x-python",
   "name": "python",
   "nbconvert_exporter": "python",
   "pygments_lexer": "ipython3",
   "version": "3.7.1"
  }
 },
 "nbformat": 4,
 "nbformat_minor": 4
}
