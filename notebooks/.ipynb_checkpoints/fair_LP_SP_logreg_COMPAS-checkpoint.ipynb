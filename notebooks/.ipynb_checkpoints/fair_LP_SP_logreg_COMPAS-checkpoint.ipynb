{
 "cells": [
  {
   "cell_type": "markdown",
   "metadata": {
    "colab_type": "text",
    "id": "VYEUJK2JDiTS"
   },
   "source": [
    "# Fairness Checking: Statistical Parity Constraint Experiment\n",
    "This notebook uses PuLP to solve the linear program outlined in the \"Fairness Checking\" document. Here, **we experiment with varying the upper bound constraint on w and see its effects on the objective value.**"
   ]
  },
  {
   "cell_type": "code",
   "execution_count": 1,
   "metadata": {
    "colab": {
     "base_uri": "https://localhost:8080/",
     "height": 51
    },
    "colab_type": "code",
    "id": "AyLJZXkNDndG",
    "outputId": "66c8aca0-7002-4bcf-d671-b9834a430860"
   },
   "outputs": [
    {
     "name": "stdout",
     "output_type": "stream",
     "text": [
      "Requirement already satisfied: pulp in /Users/sam/anaconda3/lib/python3.7/site-packages (1.6.10)\n",
      "Requirement already satisfied: pyparsing>=2.0.1 in /Users/sam/anaconda3/lib/python3.7/site-packages (from pulp) (2.3.0)\n"
     ]
    }
   ],
   "source": [
    "!pip install pulp"
   ]
  },
  {
   "cell_type": "code",
   "execution_count": 2,
   "metadata": {
    "colab": {},
    "colab_type": "code",
    "id": "TYaVKaWuDiTT"
   },
   "outputs": [],
   "source": [
    "import pandas as pd\n",
    "import numpy as np\n",
    "import pulp\n",
    "import matplotlib.pyplot as plt\n",
    "import collections"
   ]
  },
  {
   "cell_type": "code",
   "execution_count": 3,
   "metadata": {
    "colab": {
     "base_uri": "https://localhost:8080/",
     "height": 54
    },
    "colab_type": "code",
    "id": "7nFOqCIjDj3D",
    "outputId": "874525eb-09ba-408a-d80e-0f41d385cbff"
   },
   "outputs": [],
   "source": [
    "# Run this cell to mount your Google Drive.\n",
    "# from google.colab import drive\n",
    "# drive.mount('/content/drive')"
   ]
  },
  {
   "cell_type": "markdown",
   "metadata": {
    "colab_type": "text",
    "id": "id0PTMTBDiTV"
   },
   "source": [
    "## Import Predicted Data\n",
    "We take A (the protected attribute) to be the 'race' variable, and a = 0 while a' = 1. The last column, 'prediction,' is our f(X) variable, which can either be 0 or 1."
   ]
  },
  {
   "cell_type": "code",
   "execution_count": 4,
   "metadata": {
    "colab": {},
    "colab_type": "code",
    "id": "EaDU5FwHDiTW"
   },
   "outputs": [],
   "source": [
    "pred_df = pd.read_csv('./../predicted_data_new/fair_logreg_COMPAS.csv')"
   ]
  },
  {
   "cell_type": "code",
   "execution_count": 5,
   "metadata": {
    "colab": {
     "base_uri": "https://localhost:8080/",
     "height": 241
    },
    "colab_type": "code",
    "id": "3D-WDPLsDiTY",
    "outputId": "f832457b-f79c-4c5e-ce5f-9bd9fa19e9c3"
   },
   "outputs": [
    {
     "data": {
      "text/html": [
       "<div>\n",
       "<style scoped>\n",
       "    .dataframe tbody tr th:only-of-type {\n",
       "        vertical-align: middle;\n",
       "    }\n",
       "\n",
       "    .dataframe tbody tr th {\n",
       "        vertical-align: top;\n",
       "    }\n",
       "\n",
       "    .dataframe thead th {\n",
       "        text-align: right;\n",
       "    }\n",
       "</style>\n",
       "<table border=\"1\" class=\"dataframe\">\n",
       "  <thead>\n",
       "    <tr style=\"text-align: right;\">\n",
       "      <th></th>\n",
       "      <th>Unnamed: 0</th>\n",
       "      <th>sex</th>\n",
       "      <th>race</th>\n",
       "      <th>age_cat=25 to 45</th>\n",
       "      <th>age_cat=Greater than 45</th>\n",
       "      <th>age_cat=Less than 25</th>\n",
       "      <th>priors_count=0</th>\n",
       "      <th>priors_count=1 to 3</th>\n",
       "      <th>priors_count=More than 3</th>\n",
       "      <th>c_charge_degree=F</th>\n",
       "      <th>c_charge_degree=M</th>\n",
       "      <th>two_year_recid</th>\n",
       "      <th>predictions</th>\n",
       "    </tr>\n",
       "  </thead>\n",
       "  <tbody>\n",
       "    <tr>\n",
       "      <th>0</th>\n",
       "      <td>7960</td>\n",
       "      <td>1.0</td>\n",
       "      <td>1.0</td>\n",
       "      <td>0.0</td>\n",
       "      <td>1.0</td>\n",
       "      <td>0.0</td>\n",
       "      <td>0.0</td>\n",
       "      <td>1.0</td>\n",
       "      <td>0.0</td>\n",
       "      <td>0.0</td>\n",
       "      <td>1.0</td>\n",
       "      <td>1.0</td>\n",
       "      <td>0.0</td>\n",
       "    </tr>\n",
       "    <tr>\n",
       "      <th>1</th>\n",
       "      <td>7762</td>\n",
       "      <td>0.0</td>\n",
       "      <td>1.0</td>\n",
       "      <td>1.0</td>\n",
       "      <td>0.0</td>\n",
       "      <td>0.0</td>\n",
       "      <td>0.0</td>\n",
       "      <td>1.0</td>\n",
       "      <td>0.0</td>\n",
       "      <td>0.0</td>\n",
       "      <td>1.0</td>\n",
       "      <td>1.0</td>\n",
       "      <td>0.0</td>\n",
       "    </tr>\n",
       "    <tr>\n",
       "      <th>2</th>\n",
       "      <td>6466</td>\n",
       "      <td>0.0</td>\n",
       "      <td>1.0</td>\n",
       "      <td>0.0</td>\n",
       "      <td>1.0</td>\n",
       "      <td>0.0</td>\n",
       "      <td>1.0</td>\n",
       "      <td>0.0</td>\n",
       "      <td>0.0</td>\n",
       "      <td>0.0</td>\n",
       "      <td>1.0</td>\n",
       "      <td>0.0</td>\n",
       "      <td>0.0</td>\n",
       "    </tr>\n",
       "    <tr>\n",
       "      <th>3</th>\n",
       "      <td>9759</td>\n",
       "      <td>0.0</td>\n",
       "      <td>1.0</td>\n",
       "      <td>0.0</td>\n",
       "      <td>1.0</td>\n",
       "      <td>0.0</td>\n",
       "      <td>1.0</td>\n",
       "      <td>0.0</td>\n",
       "      <td>0.0</td>\n",
       "      <td>1.0</td>\n",
       "      <td>0.0</td>\n",
       "      <td>0.0</td>\n",
       "      <td>0.0</td>\n",
       "    </tr>\n",
       "    <tr>\n",
       "      <th>4</th>\n",
       "      <td>7130</td>\n",
       "      <td>0.0</td>\n",
       "      <td>1.0</td>\n",
       "      <td>1.0</td>\n",
       "      <td>0.0</td>\n",
       "      <td>0.0</td>\n",
       "      <td>0.0</td>\n",
       "      <td>0.0</td>\n",
       "      <td>1.0</td>\n",
       "      <td>1.0</td>\n",
       "      <td>0.0</td>\n",
       "      <td>1.0</td>\n",
       "      <td>1.0</td>\n",
       "    </tr>\n",
       "  </tbody>\n",
       "</table>\n",
       "</div>"
      ],
      "text/plain": [
       "   Unnamed: 0  sex  race  age_cat=25 to 45  age_cat=Greater than 45  \\\n",
       "0        7960  1.0   1.0               0.0                      1.0   \n",
       "1        7762  0.0   1.0               1.0                      0.0   \n",
       "2        6466  0.0   1.0               0.0                      1.0   \n",
       "3        9759  0.0   1.0               0.0                      1.0   \n",
       "4        7130  0.0   1.0               1.0                      0.0   \n",
       "\n",
       "   age_cat=Less than 25  priors_count=0  priors_count=1 to 3  \\\n",
       "0                   0.0             0.0                  1.0   \n",
       "1                   0.0             0.0                  1.0   \n",
       "2                   0.0             1.0                  0.0   \n",
       "3                   0.0             1.0                  0.0   \n",
       "4                   0.0             0.0                  0.0   \n",
       "\n",
       "   priors_count=More than 3  c_charge_degree=F  c_charge_degree=M  \\\n",
       "0                       0.0                0.0                1.0   \n",
       "1                       0.0                0.0                1.0   \n",
       "2                       0.0                0.0                1.0   \n",
       "3                       0.0                1.0                0.0   \n",
       "4                       1.0                1.0                0.0   \n",
       "\n",
       "   two_year_recid  predictions  \n",
       "0             1.0          0.0  \n",
       "1             1.0          0.0  \n",
       "2             0.0          0.0  \n",
       "3             0.0          0.0  \n",
       "4             1.0          1.0  "
      ]
     },
     "execution_count": 5,
     "metadata": {},
     "output_type": "execute_result"
    }
   ],
   "source": [
    "pred_df.head(5)"
   ]
  },
  {
   "cell_type": "code",
   "execution_count": 6,
   "metadata": {
    "colab": {},
    "colab_type": "code",
    "id": "IvLHi63FDiTb"
   },
   "outputs": [],
   "source": [
    "# Our protected variable A is race, and a = 0 or a = 1. \n",
    "a = pred_df['race']\n",
    "np.asarray(a)\n",
    "a_0_indices = []\n",
    "a_1_indices = []\n",
    "\n",
    "for i in range(len(a)):\n",
    "    if a[i] == 0:\n",
    "        a_0_indices.append(i)\n",
    "    elif a[i] == 1:\n",
    "        a_1_indices.append(i)"
   ]
  },
  {
   "cell_type": "code",
   "execution_count": 7,
   "metadata": {
    "colab": {},
    "colab_type": "code",
    "id": "ARsmRic1DiTi"
   },
   "outputs": [],
   "source": [
    "# Our pi variables are simply the proportions of a_0 or a_1 \n",
    "pi_0 = float(len(a_0_indices))/(len(a_0_indices) + len(a_1_indices))\n",
    "pi_1 = float(len(a_1_indices))/(len(a_0_indices) + len(a_1_indices))"
   ]
  },
  {
   "cell_type": "code",
   "execution_count": 8,
   "metadata": {
    "colab": {
     "base_uri": "https://localhost:8080/",
     "height": 51
    },
    "colab_type": "code",
    "id": "ggsCMcr5DiTk",
    "outputId": "aa080433-69f4-43c4-9267-5dbbae6f6f92"
   },
   "outputs": [
    {
     "name": "stdout",
     "output_type": "stream",
     "text": [
      "0.5972222222222222\n",
      "0.4027777777777778\n"
     ]
    }
   ],
   "source": [
    "print(pi_0)\n",
    "print(pi_1)"
   ]
  },
  {
   "cell_type": "code",
   "execution_count": 9,
   "metadata": {
    "colab": {
     "base_uri": "https://localhost:8080/",
     "height": 51
    },
    "colab_type": "code",
    "id": "w5PbdhJ5DiTn",
    "outputId": "342d69b0-51d1-4b7c-9c1e-e581b726e425"
   },
   "outputs": [
    {
     "data": {
      "text/plain": [
       "array([0., 0., 0., 0., 1., 0., 0., 0., 0., 1., 0., 0., 0., 0., 1., 0., 1.,\n",
       "       1., 0., 0., 1., 1., 1., 1., 1., 0., 0., 1., 0., 1., 1., 0., 1., 0.,\n",
       "       1., 0., 0., 1., 0., 0., 0., 0., 0., 1., 0., 0., 1., 0., 0., 0., 1.,\n",
       "       1., 1., 1., 1., 1., 1., 1., 0., 1., 0., 0., 1., 0., 1., 1., 1., 0.,\n",
       "       1., 1., 1., 0., 1., 1., 0., 0., 0., 0., 1., 1., 1., 0., 1., 0., 0.,\n",
       "       1., 0., 1., 0., 1., 0., 0., 1., 0., 0., 0., 1., 0., 0., 1., 1., 0.,\n",
       "       1., 1., 1., 1., 0., 1., 1., 1., 0., 1., 1., 0., 0., 1., 1., 1., 0.,\n",
       "       1., 0., 0., 1., 1., 0., 0., 1., 0., 1., 0., 0., 0., 1., 1., 0., 1.,\n",
       "       1., 0., 0., 0., 0., 1., 1., 1., 1., 1., 1., 0., 1., 0., 1., 1., 0.,\n",
       "       0., 0., 0., 0., 0., 0., 1., 0., 0., 0., 0., 1., 1., 1., 0., 0., 1.,\n",
       "       1., 0., 0., 0., 0., 0., 1., 0., 1., 1., 0., 0., 0., 0., 0., 0., 1.,\n",
       "       0., 0., 0., 0., 0., 0., 0., 0., 1., 1., 0., 1., 0., 1., 1., 0., 0.,\n",
       "       0., 1., 1., 0., 0., 0., 0., 1., 1., 1., 1., 0., 0., 0., 0., 1., 0.,\n",
       "       0., 1., 0., 1., 1., 0., 1., 0., 1., 0., 0., 1., 0., 0., 0., 1., 0.,\n",
       "       0., 0., 1., 0., 1., 1., 1., 0., 0., 0., 1., 1., 0., 0., 1., 1., 1.,\n",
       "       1., 0., 0., 0., 1., 1., 1., 0., 0., 1., 0., 0., 0., 0., 0., 0., 0.,\n",
       "       1., 0., 1., 1., 1., 0., 0., 1., 0., 1., 1., 0., 1., 1., 0., 0., 0.,\n",
       "       1., 1., 1., 0., 1., 1., 1., 0., 1., 0., 1., 0., 0., 1., 0., 0., 1.,\n",
       "       1., 0., 0., 1., 0., 1., 1., 1., 0., 0., 0., 0., 0., 1., 1., 1., 1.,\n",
       "       1., 0., 0., 0., 0., 1., 0., 1., 1., 0., 0., 0., 0., 0., 0., 1., 0.,\n",
       "       0., 1., 0., 1., 1., 1., 0., 0., 0., 0., 0., 0., 0., 0., 0., 0., 1.,\n",
       "       0., 0., 0., 0., 0., 1., 0., 0., 0., 0., 0., 1., 1., 0., 1., 0., 0.,\n",
       "       0., 0., 0., 1., 0., 1., 0., 1., 0., 1., 0., 1., 0., 1., 1., 0., 1.,\n",
       "       0., 0., 0., 0., 1., 0., 1., 0., 0., 0., 0., 1., 0., 0., 0., 0., 0.,\n",
       "       1., 0., 0., 1., 0., 1., 1., 1., 0., 0., 0., 0., 0., 0., 0., 0., 1.,\n",
       "       0., 0., 0., 1., 1., 0., 0., 0., 0., 0., 0., 1., 1., 1., 1., 1., 0.,\n",
       "       0., 0., 0., 0., 0., 0., 1., 0., 0., 0., 0., 1., 0., 0., 0., 1., 0.,\n",
       "       0., 1., 1., 0., 1., 0., 0., 1., 1., 0., 1., 1., 0., 0., 0., 1., 0.,\n",
       "       1., 1., 0., 1., 0., 1., 1., 0., 1., 1., 0., 0., 1., 1., 1., 0., 1.,\n",
       "       0., 0., 0., 1., 0., 1., 1., 0., 1., 0., 1., 0., 1., 0., 0., 0., 1.,\n",
       "       0., 0., 1., 0., 1., 1., 1., 1., 1., 0., 1., 0., 0., 1., 0., 1., 0.,\n",
       "       0., 0., 1., 1., 0., 0., 0., 1., 1., 1., 1., 1., 1., 1., 0., 1., 1.,\n",
       "       0., 0., 0., 0., 1., 1., 1., 1., 0., 0., 1., 0., 0., 1., 0., 1., 0.,\n",
       "       1., 0., 1., 0., 1., 1., 1., 1., 0., 0., 0., 0., 0., 1., 1., 0., 0.,\n",
       "       0., 1., 1., 0., 1., 0., 0., 0., 0., 0., 0., 0., 0., 0., 0., 0., 0.,\n",
       "       0., 0., 0., 0., 0., 1., 0., 1., 1., 1., 0., 0., 0., 0., 0., 0., 0.,\n",
       "       0., 0., 1., 1., 0., 0., 0., 0., 0., 1., 0., 1., 0., 1., 1., 1., 1.,\n",
       "       0., 1., 1., 0., 0., 0., 0., 1., 1., 1., 0., 1., 1., 1., 0., 1., 1.,\n",
       "       1., 0., 0., 1., 0., 0., 1., 1., 0., 1., 0., 1., 1., 0., 0., 0., 0.,\n",
       "       0., 0., 1., 1., 0., 0., 0., 1., 0., 1., 1., 1., 1., 0., 0., 0., 1.,\n",
       "       0., 0., 0., 1., 0., 0., 1., 0., 1., 0., 0., 1., 0., 0., 0., 1., 0.,\n",
       "       0., 1., 0., 1., 0., 1., 1., 1., 1., 1., 1., 1., 1., 0., 1., 1., 1.,\n",
       "       0., 1., 0., 0., 1., 1., 1., 1., 0., 0., 1., 0., 0., 0., 1., 1., 0.,\n",
       "       1., 1., 1., 1., 1., 1., 1., 0., 0., 0., 0., 0., 1., 0., 0., 1., 0.,\n",
       "       0., 0., 0., 1., 0., 0., 0., 1., 1., 0., 1., 1., 1., 1., 1., 1., 1.,\n",
       "       0., 1., 0., 1., 1., 1., 1., 1., 0., 0., 0., 0., 1., 0., 0., 0., 1.,\n",
       "       0., 0., 1., 0., 0., 1., 1., 1., 1., 1.])"
      ]
     },
     "execution_count": 9,
     "metadata": {},
     "output_type": "execute_result"
    }
   ],
   "source": [
    "# Our prediction probability is under 'prediction_probs.' Notice that we use the \n",
    "# actual probability of the label, not the label itself.\n",
    "f_X = pred_df['predictions']\n",
    "np.asarray(f_X)"
   ]
  },
  {
   "cell_type": "code",
   "execution_count": 10,
   "metadata": {
    "colab": {
     "base_uri": "https://localhost:8080/",
     "height": 51
    },
    "colab_type": "code",
    "id": "f66NgcN8FLnM",
    "outputId": "840e1a89-79cf-48ae-db29-fd0cfefff43b"
   },
   "outputs": [
    {
     "name": "stdout",
     "output_type": "stream",
     "text": [
      "792\n",
      "792\n"
     ]
    }
   ],
   "source": [
    "# Check if the dimensions match\n",
    "print(len(f_X))\n",
    "print(len(a_0_indices) + (len(a_1_indices)))"
   ]
  },
  {
   "cell_type": "markdown",
   "metadata": {
    "colab_type": "text",
    "id": "oRPqsRrIDiTp"
   },
   "source": [
    "## Create Linear Program\n",
    "We use the PuLP package to create our linear program.\n",
    "\n",
    "Here, we allow another input for the upper bound on all w's. This must be a number between 0 and 1."
   ]
  },
  {
   "cell_type": "code",
   "execution_count": 11,
   "metadata": {
    "colab": {},
    "colab_type": "code",
    "id": "MLxVvYRNEVTc"
   },
   "outputs": [],
   "source": [
    "# Input: function f(X), constraint\n",
    "# Output: (solved) model, weights\n",
    "def SP_linear_prog(f_X, lower_bound, upper_bound):\n",
    "  # Check if constraint is between 0 and 1\n",
    "  assert(0 < lower_bound < 1)\n",
    "  assert(0 < upper_bound < 1)\n",
    "\n",
    "  # Define the linear program as a maximization problem\n",
    "  model = pulp.LpProblem(\"Statistical Parity Fairness Checking\", pulp.LpMaximize)\n",
    "  \n",
    "  # Our w variable in the objective\n",
    "  # Lower bound constraint set here with lowBound=0 option\n",
    "  w = pulp.LpVariable.dicts(\"w\", (i for i in range(len(f_X))),lowBound=0, cat='Continuous')\n",
    "  \n",
    "  # Objective Function\n",
    "  model += pulp.lpSum(\n",
    "      [(1./pi_0) * w[index] * f_X[index] for index in a_0_indices] +\n",
    "      [- (1./pi_1) * w[index] * f_X[index] for index in a_1_indices])\n",
    "  \n",
    "  # Constraint that the \\sum(w_i * 1{a = 0}) = pi_0\n",
    "  model += pulp.lpSum([w[index] for index in a_0_indices]) == pi_0\n",
    "  \n",
    "  # Constraint that the \\sum(w_i * 1{a = 1}) = pi_1\n",
    "  model += pulp.lpSum([w[index] for index in a_1_indices]) == pi_1\n",
    "  \n",
    "  # Constraint that the w's all sum to 1\n",
    "  model += pulp.lpSum([w[i] for i in range(len(f_X))]) == 1\n",
    "\n",
    "  # IMPORTANT: Constraint for the w's (experiment with this)\n",
    "  for weight in w:\n",
    "    model += w[weight] <= upper_bound\n",
    "    model += w[weight] >= lower_bound\n",
    "\n",
    "  # Solve the linear program\n",
    "  model.solve()\n",
    "  pulp.LpStatus[model.status]\n",
    "  \n",
    "  # Returns the model and the weights\n",
    "  return model, w\n",
    "\n",
    "# Get the results\n",
    "def weights_dictionary(w):\n",
    "  results_dict = dict()\n",
    "  for i in range(len(f_X)):\n",
    "    results_dict[i] = w[i].varValue\n",
    "  return results_dict"
   ]
  },
  {
   "cell_type": "markdown",
   "metadata": {},
   "source": [
    "## Experiment with Constraints\n",
    "Experiment with setting the constraints as: $$w_i \\leq \\frac{(1 + \\epsilon)}{n}$$ and $$\\frac{(1 - \\epsilon)}{n} \\leq w_i$$ where n is the number of samples in the data."
   ]
  },
  {
   "cell_type": "code",
   "execution_count": 12,
   "metadata": {},
   "outputs": [],
   "source": [
    "epsilon_granule = 0.01\n",
    "\n",
    "lower_bounds = []\n",
    "upper_bounds = []\n",
    "objective_values = []\n",
    "dist_weights = []\n",
    "epsilons = []\n",
    "\n",
    "# Iterate over constraints\n",
    "for i in range(0, 100):\n",
    "  epsilon = epsilon_granule * i\n",
    "  lower_bound = (1 - epsilon)/(len(f_X))\n",
    "  upper_bound = (1 + epsilon)/(len(f_X))\n",
    "  model, weights = SP_linear_prog(f_X, lower_bound, upper_bound)\n",
    "  objective_values.append(pulp.value(model.objective))\n",
    "  epsilons.append(epsilon)\n",
    "  lower_bounds.append(lower_bound)\n",
    "  upper_bounds.append(upper_bound)\n",
    "  dist_weights.append(weights)"
   ]
  },
  {
   "cell_type": "code",
   "execution_count": 13,
   "metadata": {},
   "outputs": [
    {
     "data": {
      "text/plain": [
       "Text(0.5, 1.0, 'Constraint on w vs. SP LP Objective Value')"
      ]
     },
     "execution_count": 13,
     "metadata": {},
     "output_type": "execute_result"
    },
    {
     "data": {
      "image/png": "[encoded data removed]",
      "text/plain": [
       "<Figure size 648x648 with 1 Axes>"
      ]
     },
     "metadata": {
      "needs_background": "light"
     },
     "output_type": "display_data"
    }
   ],
   "source": [
    "# Plot the constraints vs. objective values\n",
    "plt.figure(figsize=(9,9))\n",
    "plt.plot(epsilons, objective_values)\n",
    "plt.xlabel('Epsilon in Constraint')\n",
    "plt.ylabel('LP Objective Value')\n",
    "plt.title('Constraint on w vs. SP LP Objective Value')"
   ]
  },
  {
   "cell_type": "code",
   "execution_count": 14,
   "metadata": {},
   "outputs": [
    {
     "name": "stdout",
     "output_type": "stream",
     "text": [
      "100\n",
      "100\n"
     ]
    }
   ],
   "source": [
    "print(len(dist_weights))\n",
    "print(len(epsilons))\n",
    "\n",
    "epsilon_to_weights = dict()\n",
    "for i in range(len(epsilons)):\n",
    "    epsilon_to_weights[epsilons[i]] = weights_dictionary(dist_weights[i])"
   ]
  },
  {
   "cell_type": "code",
   "execution_count": 15,
   "metadata": {},
   "outputs": [
    {
     "name": "stdout",
     "output_type": "stream",
     "text": [
      "792\n",
      "792\n"
     ]
    }
   ],
   "source": [
    "print(len(pred_df))\n",
    "print(len(epsilon_to_weights[0.01]))"
   ]
  },
  {
   "cell_type": "markdown",
   "metadata": {},
   "source": [
    "## Marginal Distributions"
   ]
  },
  {
   "cell_type": "code",
   "execution_count": 16,
   "metadata": {},
   "outputs": [],
   "source": [
    "# Create a dictionary for our table at the end\n",
    "table_results = {}"
   ]
  },
  {
   "cell_type": "code",
   "execution_count": 17,
   "metadata": {},
   "outputs": [],
   "source": [
    "# Find the accuracy of our classifier\n",
    "tp = len(pred_df[(pred_df['predictions'] == 0) & (pred_df['two_year_recid'] == 0)])\n",
    "tn = len(pred_df[(pred_df['predictions'] == 1) & (pred_df['two_year_recid'] == 1)])\n",
    "acc = float(tp + tn)/len(pred_df)"
   ]
  },
  {
   "cell_type": "code",
   "execution_count": 18,
   "metadata": {},
   "outputs": [
    {
     "name": "stdout",
     "output_type": "stream",
     "text": [
      "0.1007610808186043\n",
      "0.14\n"
     ]
    }
   ],
   "source": [
    "# Find the lowest epsilon value that has a greater than 10% violation\n",
    "for i in range(len(epsilons)):\n",
    "    if(objective_values[i] > 0.1):\n",
    "        lowest_i = i\n",
    "        break\n",
    "\n",
    "print(objective_values[lowest_i])\n",
    "print(epsilons[lowest_i])\n",
    "table_results['epsilon'] = epsilons[lowest_i]\n",
    "table_results['initial_unfairness'] = objective_values[0]\n",
    "table_results['acc'] = acc"
   ]
  },
  {
   "cell_type": "code",
   "execution_count": 19,
   "metadata": {},
   "outputs": [
    {
     "data": {
      "text/html": [
       "<div>\n",
       "<style scoped>\n",
       "    .dataframe tbody tr th:only-of-type {\n",
       "        vertical-align: middle;\n",
       "    }\n",
       "\n",
       "    .dataframe tbody tr th {\n",
       "        vertical-align: top;\n",
       "    }\n",
       "\n",
       "    .dataframe thead th {\n",
       "        text-align: right;\n",
       "    }\n",
       "</style>\n",
       "<table border=\"1\" class=\"dataframe\">\n",
       "  <thead>\n",
       "    <tr style=\"text-align: right;\">\n",
       "      <th></th>\n",
       "      <th>Unnamed: 0</th>\n",
       "      <th>sex</th>\n",
       "      <th>race</th>\n",
       "      <th>age_cat=25 to 45</th>\n",
       "      <th>age_cat=Greater than 45</th>\n",
       "      <th>age_cat=Less than 25</th>\n",
       "      <th>priors_count=0</th>\n",
       "      <th>priors_count=1 to 3</th>\n",
       "      <th>priors_count=More than 3</th>\n",
       "      <th>c_charge_degree=F</th>\n",
       "      <th>c_charge_degree=M</th>\n",
       "      <th>two_year_recid</th>\n",
       "      <th>predictions</th>\n",
       "      <th>weights</th>\n",
       "    </tr>\n",
       "  </thead>\n",
       "  <tbody>\n",
       "    <tr>\n",
       "      <th>0</th>\n",
       "      <td>7960</td>\n",
       "      <td>1.0</td>\n",
       "      <td>1.0</td>\n",
       "      <td>0.0</td>\n",
       "      <td>1.0</td>\n",
       "      <td>0.0</td>\n",
       "      <td>0.0</td>\n",
       "      <td>1.0</td>\n",
       "      <td>0.0</td>\n",
       "      <td>0.0</td>\n",
       "      <td>1.0</td>\n",
       "      <td>1.0</td>\n",
       "      <td>0.0</td>\n",
       "      <td>0.001439</td>\n",
       "    </tr>\n",
       "    <tr>\n",
       "      <th>1</th>\n",
       "      <td>7762</td>\n",
       "      <td>0.0</td>\n",
       "      <td>1.0</td>\n",
       "      <td>1.0</td>\n",
       "      <td>0.0</td>\n",
       "      <td>0.0</td>\n",
       "      <td>0.0</td>\n",
       "      <td>1.0</td>\n",
       "      <td>0.0</td>\n",
       "      <td>0.0</td>\n",
       "      <td>1.0</td>\n",
       "      <td>1.0</td>\n",
       "      <td>0.0</td>\n",
       "      <td>0.001439</td>\n",
       "    </tr>\n",
       "    <tr>\n",
       "      <th>2</th>\n",
       "      <td>6466</td>\n",
       "      <td>0.0</td>\n",
       "      <td>1.0</td>\n",
       "      <td>0.0</td>\n",
       "      <td>1.0</td>\n",
       "      <td>0.0</td>\n",
       "      <td>1.0</td>\n",
       "      <td>0.0</td>\n",
       "      <td>0.0</td>\n",
       "      <td>0.0</td>\n",
       "      <td>1.0</td>\n",
       "      <td>0.0</td>\n",
       "      <td>0.0</td>\n",
       "      <td>0.001439</td>\n",
       "    </tr>\n",
       "    <tr>\n",
       "      <th>3</th>\n",
       "      <td>9759</td>\n",
       "      <td>0.0</td>\n",
       "      <td>1.0</td>\n",
       "      <td>0.0</td>\n",
       "      <td>1.0</td>\n",
       "      <td>0.0</td>\n",
       "      <td>1.0</td>\n",
       "      <td>0.0</td>\n",
       "      <td>0.0</td>\n",
       "      <td>1.0</td>\n",
       "      <td>0.0</td>\n",
       "      <td>0.0</td>\n",
       "      <td>0.0</td>\n",
       "      <td>0.001439</td>\n",
       "    </tr>\n",
       "    <tr>\n",
       "      <th>4</th>\n",
       "      <td>7130</td>\n",
       "      <td>0.0</td>\n",
       "      <td>1.0</td>\n",
       "      <td>1.0</td>\n",
       "      <td>0.0</td>\n",
       "      <td>0.0</td>\n",
       "      <td>0.0</td>\n",
       "      <td>0.0</td>\n",
       "      <td>1.0</td>\n",
       "      <td>1.0</td>\n",
       "      <td>0.0</td>\n",
       "      <td>1.0</td>\n",
       "      <td>1.0</td>\n",
       "      <td>0.001086</td>\n",
       "    </tr>\n",
       "  </tbody>\n",
       "</table>\n",
       "</div>"
      ],
      "text/plain": [
       "   Unnamed: 0  sex  race  age_cat=25 to 45  age_cat=Greater than 45  \\\n",
       "0        7960  1.0   1.0               0.0                      1.0   \n",
       "1        7762  0.0   1.0               1.0                      0.0   \n",
       "2        6466  0.0   1.0               0.0                      1.0   \n",
       "3        9759  0.0   1.0               0.0                      1.0   \n",
       "4        7130  0.0   1.0               1.0                      0.0   \n",
       "\n",
       "   age_cat=Less than 25  priors_count=0  priors_count=1 to 3  \\\n",
       "0                   0.0             0.0                  1.0   \n",
       "1                   0.0             0.0                  1.0   \n",
       "2                   0.0             1.0                  0.0   \n",
       "3                   0.0             1.0                  0.0   \n",
       "4                   0.0             0.0                  0.0   \n",
       "\n",
       "   priors_count=More than 3  c_charge_degree=F  c_charge_degree=M  \\\n",
       "0                       0.0                0.0                1.0   \n",
       "1                       0.0                0.0                1.0   \n",
       "2                       0.0                0.0                1.0   \n",
       "3                       0.0                1.0                0.0   \n",
       "4                       1.0                1.0                0.0   \n",
       "\n",
       "   two_year_recid  predictions   weights  \n",
       "0             1.0          0.0  0.001439  \n",
       "1             1.0          0.0  0.001439  \n",
       "2             0.0          0.0  0.001439  \n",
       "3             0.0          0.0  0.001439  \n",
       "4             1.0          1.0  0.001086  "
      ]
     },
     "execution_count": 19,
     "metadata": {},
     "output_type": "execute_result"
    }
   ],
   "source": [
    "pred_df['weights'] = epsilon_to_weights[epsilons[lowest_i]].values() # For example, when epsilon = 0.2\n",
    "pred_df.head(5)"
   ]
  },
  {
   "cell_type": "code",
   "execution_count": 20,
   "metadata": {},
   "outputs": [],
   "source": [
    "# Marginal Distribution Function\n",
    "def marginalize(data, X_attr, weights):\n",
    "    X_values = data[X_attr]\n",
    "    key_list = np.unique(X_values)\n",
    "    X_marginal = {k: 0 for k in key_list}\n",
    "    for i in range(0, len(X_values)):\n",
    "        X_marginal[X_values[i]] = X_marginal[X_values[i]] + weights[i]\n",
    "    return X_marginal\n",
    "\n",
    "def freq_dict(data, X_attr):\n",
    "    X_values = data[X_attr].value_counts()\n",
    "    X_freqs = dict()\n",
    "    for value in X_values.keys():\n",
    "        X_freqs[value] = float(X_values[value])/float(len(data))\n",
    "    return X_freqs\n",
    "\n",
    "# Returns a tuple of two lists of the items in each dictionary sorted by order of their keys\n",
    "def graph_tuple(dict1, dict2):\n",
    "    tuple1 = []\n",
    "    tuple2 = []\n",
    "    for key in sorted(dict1.keys()):\n",
    "        tuple1.append(dict1[key])\n",
    "        tuple2.append(dict2[key])\n",
    "    \n",
    "    return (tuple1, tuple2)"
   ]
  },
  {
   "cell_type": "code",
   "execution_count": 21,
   "metadata": {},
   "outputs": [],
   "source": [
    "def l1_dist(dict1, dict2):\n",
    "    l1_total = 0\n",
    "    for key in sorted(dict1.keys()):\n",
    "        diff = abs(dict1[key] - dict2[key])\n",
    "        l1_total = l1_total + diff\n",
    "        \n",
    "    return l1_total"
   ]
  },
  {
   "cell_type": "code",
   "execution_count": 22,
   "metadata": {},
   "outputs": [
    {
     "name": "stdout",
     "output_type": "stream",
     "text": [
      "{0.0: 0.821969696969697, 1.0: 0.17803030303030304}\n",
      "{0.0: 0.8212626181999986, 1.0: 0.17873737189999994}\n"
     ]
    }
   ],
   "source": [
    "# Get the unweighted and weighted distributions on the data\n",
    "X_sex_freq = freq_dict(pred_df, 'sex')\n",
    "X_sex_marginal = marginalize(pred_df, 'sex', pred_df['weights'])\n",
    "\n",
    "print(X_sex_freq)\n",
    "print(X_sex_marginal)\n",
    "\n",
    "X_sex_tuple = graph_tuple(X_sex_freq, X_sex_marginal)"
   ]
  },
  {
   "cell_type": "code",
   "execution_count": 23,
   "metadata": {},
   "outputs": [],
   "source": [
    "table_results['sex'] = l1_dist(X_sex_freq, X_sex_marginal)"
   ]
  },
  {
   "cell_type": "code",
   "execution_count": 24,
   "metadata": {},
   "outputs": [
    {
     "data": {
      "image/png": "[encoded data removed]",
      "text/plain": [
       "<Figure size 648x648 with 1 Axes>"
      ]
     },
     "metadata": {
      "needs_background": "light"
     },
     "output_type": "display_data"
    }
   ],
   "source": [
    "# Marginal Distribution on Sex \n",
    "\n",
    "X = np.arange(len(X_sex_freq))\n",
    "plt.figure(figsize=(9,9))\n",
    "plt.title('Marginal Distributions on Sex')\n",
    "plt.bar(X, X_sex_tuple[0], width=0.2, align='center')\n",
    "plt.bar(X+0.2, X_sex_tuple[1], width=0.2, align='center')\n",
    "plt.legend(('Unweighted Distribution','Reweighted Distribution'))\n",
    "plt.xticks(X, ['Female (X = 0)', 'Male (X = 1)'])\n",
    "plt.xlabel('Sex')\n",
    "plt.ylabel('Frequency in Data (%)')\n",
    "plt.show()"
   ]
  },
  {
   "cell_type": "code",
   "execution_count": 25,
   "metadata": {},
   "outputs": [],
   "source": [
    "X_age_25_45_freq = freq_dict(pred_df, 'age_cat=25 to 45')\n",
    "X_age_25_45_marginal = marginalize(pred_df, 'age_cat=25 to 45', pred_df['weights'])\n",
    "X_age_25_45_tuple = graph_tuple(X_age_25_45_freq, X_age_25_45_marginal)"
   ]
  },
  {
   "cell_type": "code",
   "execution_count": 26,
   "metadata": {},
   "outputs": [],
   "source": [
    "table_results['age_25_45'] = l1_dist(X_age_25_45_freq, X_age_25_45_marginal)"
   ]
  },
  {
   "cell_type": "code",
   "execution_count": 27,
   "metadata": {},
   "outputs": [
    {
     "data": {
      "image/png": "[encoded data removed]",
      "text/plain": [
       "<Figure size 864x864 with 1 Axes>"
      ]
     },
     "metadata": {
      "needs_background": "light"
     },
     "output_type": "display_data"
    }
   ],
   "source": [
    "# Marginal Distribution on Age \n",
    "X = np.asarray(list(X_age_25_45_marginal.keys()))\n",
    "plt.figure(figsize=(12,12))\n",
    "plt.title('Marginal Distributions on Age 25 to 45 (SP Reweighted)')\n",
    "plt.bar(X, X_age_25_45_tuple[0], width = 0.2, align='center')\n",
    "plt.bar(X + 0.2, X_age_25_45_tuple[1], width = 0.2, align='center')\n",
    "plt.legend(('Unweighted Distribution','Reweighted Distribution'))\n",
    "plt.xticks(X, ['Not 25 to 45 (X = 0)', '25 to 45 (X = 1)'])\n",
    "plt.xlabel('Age')\n",
    "plt.ylabel('Frequency in Data (%)')\n",
    "plt.show()"
   ]
  },
  {
   "cell_type": "code",
   "execution_count": 28,
   "metadata": {},
   "outputs": [],
   "source": [
    "X_age_25_freq = freq_dict(pred_df, 'age_cat=Less than 25')\n",
    "X_age_25_marginal = marginalize(pred_df, 'age_cat=Less than 25', pred_df['weights'])\n",
    "X_age_25_tuple = graph_tuple(X_age_25_freq, X_age_25_marginal)"
   ]
  },
  {
   "cell_type": "code",
   "execution_count": 29,
   "metadata": {},
   "outputs": [],
   "source": [
    "table_results['age_25'] = l1_dist(X_age_25_freq, X_age_25_marginal)"
   ]
  },
  {
   "cell_type": "code",
   "execution_count": 30,
   "metadata": {},
   "outputs": [
    {
     "data": {
      "image/png": "[encoded data removed]",
      "text/plain": [
       "<Figure size 864x864 with 1 Axes>"
      ]
     },
     "metadata": {
      "needs_background": "light"
     },
     "output_type": "display_data"
    }
   ],
   "source": [
    "# Marginal Distribution on Age \n",
    "X = np.asarray(list(X_age_25_marginal.keys()))\n",
    "plt.figure(figsize=(12,12))\n",
    "plt.title('Marginal Distributions on Age < 25 (SP Reweighted)')\n",
    "plt.bar(X, X_age_25_tuple[0], width = 0.2, align='center')\n",
    "plt.bar(X + 0.2, X_age_25_tuple[1], width = 0.2, align='center')\n",
    "plt.legend(('Unweighted Distribution','Reweighted Distribution'))\n",
    "plt.xticks(X, ['Age greater than 25 (X = 0)', 'Age less than 25 (X = 1)'])\n",
    "plt.xlabel('Age')\n",
    "plt.ylabel('Frequency in Data (%)')\n",
    "plt.show()"
   ]
  },
  {
   "cell_type": "code",
   "execution_count": 31,
   "metadata": {},
   "outputs": [],
   "source": [
    "X_age_45_freq = freq_dict(pred_df, 'age_cat=Greater than 45')\n",
    "X_age_45_marginal = marginalize(pred_df, 'age_cat=Greater than 45', pred_df['weights'])\n",
    "X_age_45_tuple = graph_tuple(X_age_45_freq, X_age_45_marginal)"
   ]
  },
  {
   "cell_type": "code",
   "execution_count": 32,
   "metadata": {},
   "outputs": [],
   "source": [
    "table_results['age_45'] = l1_dist(X_age_45_freq, X_age_45_marginal)"
   ]
  },
  {
   "cell_type": "code",
   "execution_count": 33,
   "metadata": {},
   "outputs": [
    {
     "data": {
      "image/png": "[encoded data removed]",
      "text/plain": [
       "<Figure size 864x864 with 1 Axes>"
      ]
     },
     "metadata": {
      "needs_background": "light"
     },
     "output_type": "display_data"
    }
   ],
   "source": [
    "# Marginal Distribution on Age \n",
    "X = np.asarray(list(X_age_45_marginal.keys()))\n",
    "plt.figure(figsize=(12,12))\n",
    "plt.title('Marginal Distributions on Age > 45 (SP Reweighted)')\n",
    "plt.bar(X, X_age_45_tuple[0], width = 0.2, align='center')\n",
    "plt.bar(X + 0.2, X_age_45_tuple[1], width = 0.2, align='center')\n",
    "plt.legend(('Unweighted Distribution','Reweighted Distribution'))\n",
    "plt.xticks(X, ['Age less than 45 (X = 0)', 'Age greater than 45 (X = 1)'])\n",
    "plt.xlabel('Age')\n",
    "plt.ylabel('Frequency in Data (%)')\n",
    "plt.show()"
   ]
  },
  {
   "cell_type": "code",
   "execution_count": 34,
   "metadata": {},
   "outputs": [],
   "source": [
    "X_priors_freq = freq_dict(pred_df, 'priors_count=0')\n",
    "X_priors_marginal = marginalize(pred_df, 'priors_count=0', pred_df['weights'])\n",
    "X_priors_tuple = graph_tuple(X_priors_freq, X_priors_marginal)"
   ]
  },
  {
   "cell_type": "code",
   "execution_count": 35,
   "metadata": {},
   "outputs": [],
   "source": [
    "table_results['priors_0'] = l1_dist(X_priors_freq, X_priors_marginal)"
   ]
  },
  {
   "cell_type": "code",
   "execution_count": 36,
   "metadata": {},
   "outputs": [
    {
     "data": {
      "image/png": "[encoded data removed]",
      "text/plain": [
       "<Figure size 864x864 with 1 Axes>"
      ]
     },
     "metadata": {
      "needs_background": "light"
     },
     "output_type": "display_data"
    }
   ],
   "source": [
    "# Marginal Distribution on Priors \n",
    "X = np.asarray(list(X_priors_marginal.keys()))\n",
    "plt.figure(figsize=(12,12))\n",
    "plt.title('Marginal Distributions on Prior Crimes = 0 (SP Reweighted)')\n",
    "plt.bar(X, X_priors_tuple[0], width = 0.2, align='center')\n",
    "plt.bar(X + 0.2, X_priors_tuple[1], width = 0.2, align='center')\n",
    "plt.legend(('Unweighted Distribution','Reweighted Distribution'))\n",
    "plt.xticks(X, ['Prior Crimes > 0 (X = 0)', 'Prior Crimes = 0 (X = 1)'])\n",
    "plt.xlabel('Prior Crimes')\n",
    "plt.ylabel('Frequency in Data (%)')\n",
    "plt.show()"
   ]
  },
  {
   "cell_type": "code",
   "execution_count": 37,
   "metadata": {},
   "outputs": [],
   "source": [
    "X_priors_freq = freq_dict(pred_df, 'priors_count=1 to 3')\n",
    "X_priors_marginal = marginalize(pred_df, 'priors_count=1 to 3', pred_df['weights'])\n",
    "X_priors_tuple = graph_tuple(X_priors_freq, X_priors_marginal)"
   ]
  },
  {
   "cell_type": "code",
   "execution_count": 38,
   "metadata": {},
   "outputs": [],
   "source": [
    "table_results['priors_1_3'] = l1_dist(X_priors_freq, X_priors_marginal)"
   ]
  },
  {
   "cell_type": "code",
   "execution_count": 39,
   "metadata": {},
   "outputs": [
    {
     "data": {
      "image/png": "[encoded data removed]",
      "text/plain": [
       "<Figure size 864x864 with 1 Axes>"
      ]
     },
     "metadata": {
      "needs_background": "light"
     },
     "output_type": "display_data"
    }
   ],
   "source": [
    "# Marginal Distribution on Priors \n",
    "X = np.asarray(list(X_priors_marginal.keys()))\n",
    "plt.figure(figsize=(12,12))\n",
    "plt.title('Marginal Distributions on Prior Crimes 1 to 3 (SP Reweighted)')\n",
    "plt.bar(X, X_priors_tuple[0], width = 0.2, align='center')\n",
    "plt.bar(X + 0.2, X_priors_tuple[1], width = 0.2, align='center')\n",
    "plt.legend(('Unweighted Distribution','Reweighted Distribution'))\n",
    "plt.xticks(X, ['Not 1 to 3 (X = 0)', '1 to 3 (X = 1)'])\n",
    "plt.xlabel('Prior Crimes')\n",
    "plt.ylabel('Frequency in Data (%)')\n",
    "plt.show()"
   ]
  },
  {
   "cell_type": "code",
   "execution_count": 40,
   "metadata": {},
   "outputs": [],
   "source": [
    "X_priors_freq = freq_dict(pred_df, 'priors_count=More than 3')\n",
    "X_priors_marginal = marginalize(pred_df, 'priors_count=More than 3', pred_df['weights'])\n",
    "X_priors_tuple = graph_tuple(X_priors_freq, X_priors_marginal)"
   ]
  },
  {
   "cell_type": "code",
   "execution_count": 41,
   "metadata": {},
   "outputs": [],
   "source": [
    "table_results['priors_3'] = l1_dist(X_priors_freq, X_priors_marginal)"
   ]
  },
  {
   "cell_type": "code",
   "execution_count": 42,
   "metadata": {},
   "outputs": [
    {
     "data": {
      "image/png": "[encoded data removed]",
      "text/plain": [
       "<Figure size 864x864 with 1 Axes>"
      ]
     },
     "metadata": {
      "needs_background": "light"
     },
     "output_type": "display_data"
    }
   ],
   "source": [
    "# Marginal Distribution on Priors \n",
    "X = np.asarray(list(X_priors_marginal.keys()))\n",
    "plt.figure(figsize=(12,12))\n",
    "plt.title('Marginal Distributions on Prior Crimes > 3 (SP Reweighted)')\n",
    "plt.bar(X, X_priors_tuple[0], width = 0.2, align='center')\n",
    "plt.bar(X + 0.2, X_priors_tuple[1], width = 0.2, align='center')\n",
    "plt.legend(('Unweighted Distribution','Reweighted Distribution'))\n",
    "plt.xticks(X, ['Prior Crimes < 3 (X = 0)', 'Prior Crimes > 3 (X = 1)'])\n",
    "plt.xlabel('Prior Crimes')\n",
    "plt.ylabel('Frequency in Data (%)')\n",
    "plt.show()"
   ]
  },
  {
   "cell_type": "code",
   "execution_count": 43,
   "metadata": {},
   "outputs": [],
   "source": [
    "X_charge_deg_freq = freq_dict(pred_df, 'c_charge_degree=F')\n",
    "X_charge_deg_marginal = marginalize(pred_df, 'c_charge_degree=F', pred_df['weights'])\n",
    "X_charge_deg_tuple = graph_tuple(X_charge_deg_freq, X_charge_deg_marginal)"
   ]
  },
  {
   "cell_type": "code",
   "execution_count": 44,
   "metadata": {},
   "outputs": [],
   "source": [
    "table_results['charge_deg_F'] = l1_dist(X_charge_deg_freq, X_charge_deg_marginal)"
   ]
  },
  {
   "cell_type": "code",
   "execution_count": 45,
   "metadata": {},
   "outputs": [
    {
     "data": {
      "image/png": "[encoded data removed]",
      "text/plain": [
       "<Figure size 864x864 with 1 Axes>"
      ]
     },
     "metadata": {
      "needs_background": "light"
     },
     "output_type": "display_data"
    }
   ],
   "source": [
    "# Marginal Distribution on Charge Degree \n",
    "X = np.asarray(list(X_priors_marginal.keys()))\n",
    "plt.figure(figsize=(12,12))\n",
    "plt.title('Charge Degree = Felony (SP Reweighted)')\n",
    "plt.bar(X, X_charge_deg_tuple[0], width = 0.2, align='center')\n",
    "plt.bar(X + 0.2, X_charge_deg_tuple[1], width = 0.2, align='center')\n",
    "plt.legend(('Unweighted Distribution','Reweighted Distribution'))\n",
    "plt.xticks(X, ['Not Charge Degree = Felony (X = 0)', 'Charge Degree = Felony (X = 1)'])\n",
    "plt.xlabel('Charge Degree')\n",
    "plt.ylabel('Frequency in Data (%)')\n",
    "plt.show()"
   ]
  },
  {
   "cell_type": "code",
   "execution_count": 46,
   "metadata": {},
   "outputs": [],
   "source": [
    "X_charge_deg_freq = freq_dict(pred_df, 'c_charge_degree=M')\n",
    "X_charge_deg_marginal = marginalize(pred_df, 'c_charge_degree=M', pred_df['weights'])\n",
    "X_charge_deg_tuple = graph_tuple(X_charge_deg_freq, X_charge_deg_marginal)"
   ]
  },
  {
   "cell_type": "code",
   "execution_count": 47,
   "metadata": {},
   "outputs": [],
   "source": [
    "table_results['charge_deg_M'] = l1_dist(X_charge_deg_freq, X_charge_deg_marginal)"
   ]
  },
  {
   "cell_type": "code",
   "execution_count": 48,
   "metadata": {},
   "outputs": [
    {
     "data": {
      "image/png": "[encoded data removed]",
      "text/plain": [
       "<Figure size 864x864 with 1 Axes>"
      ]
     },
     "metadata": {
      "needs_background": "light"
     },
     "output_type": "display_data"
    }
   ],
   "source": [
    "# Marginal Distribution on Charge Degree \n",
    "X = np.asarray(list(X_priors_marginal.keys()))\n",
    "plt.figure(figsize=(12,12))\n",
    "plt.title('Charge Degree = Misdemeanor (SP Reweighted)')\n",
    "plt.bar(X, X_charge_deg_tuple[0], width = 0.2, align='center')\n",
    "plt.bar(X + 0.2, X_charge_deg_tuple[1], width = 0.2, align='center')\n",
    "plt.legend(('Unweighted Distribution','Reweighted Distribution'))\n",
    "plt.xticks(X, ['Not Charge Degree = Misdemeanor (X = 0)', 'Charge Degree = Misdemeanor (X = 1)'])\n",
    "plt.xlabel('Charge Degree')\n",
    "plt.ylabel('Frequency in Data (%)')\n",
    "plt.show()"
   ]
  },
  {
   "cell_type": "markdown",
   "metadata": {},
   "source": [
    "## Table of Results"
   ]
  },
  {
   "cell_type": "code",
   "execution_count": 49,
   "metadata": {},
   "outputs": [
    {
     "data": {
      "text/plain": [
       "dict_keys(['epsilon', 'initial_unfairness', 'acc', 'sex', 'age_25_45', 'age_25', 'age_45', 'priors_0', 'priors_1_3', 'priors_3', 'charge_deg_F', 'charge_deg_M'])"
      ]
     },
     "execution_count": 49,
     "metadata": {},
     "output_type": "execute_result"
    }
   ],
   "source": [
    "table_results.keys()"
   ]
  },
  {
   "cell_type": "code",
   "execution_count": 50,
   "metadata": {},
   "outputs": [
    {
     "data": {
      "text/plain": [
       "-0.0232558146418586"
      ]
     },
     "execution_count": 50,
     "metadata": {},
     "output_type": "execute_result"
    }
   ],
   "source": [
    "table_results['initial_unfairness']"
   ]
  },
  {
   "cell_type": "code",
   "execution_count": 51,
   "metadata": {},
   "outputs": [],
   "source": [
    "table_df = pd.DataFrame(table_results, index =['COMPAS_SP'])"
   ]
  },
  {
   "cell_type": "code",
   "execution_count": 52,
   "metadata": {},
   "outputs": [
    {
     "data": {
      "text/html": [
       "<div>\n",
       "<style scoped>\n",
       "    .dataframe tbody tr th:only-of-type {\n",
       "        vertical-align: middle;\n",
       "    }\n",
       "\n",
       "    .dataframe tbody tr th {\n",
       "        vertical-align: top;\n",
       "    }\n",
       "\n",
       "    .dataframe thead th {\n",
       "        text-align: right;\n",
       "    }\n",
       "</style>\n",
       "<table border=\"1\" class=\"dataframe\">\n",
       "  <thead>\n",
       "    <tr style=\"text-align: right;\">\n",
       "      <th></th>\n",
       "      <th>epsilon</th>\n",
       "      <th>initial_unfairness</th>\n",
       "      <th>acc</th>\n",
       "      <th>sex</th>\n",
       "      <th>age_25_45</th>\n",
       "      <th>age_25</th>\n",
       "      <th>age_45</th>\n",
       "      <th>priors_0</th>\n",
       "      <th>priors_1_3</th>\n",
       "      <th>priors_3</th>\n",
       "      <th>charge_deg_F</th>\n",
       "      <th>charge_deg_M</th>\n",
       "    </tr>\n",
       "  </thead>\n",
       "  <tbody>\n",
       "    <tr>\n",
       "      <th>COMPAS_SP</th>\n",
       "      <td>0.14</td>\n",
       "      <td>-0.023256</td>\n",
       "      <td>0.636364</td>\n",
       "      <td>0.001414</td>\n",
       "      <td>0.004242</td>\n",
       "      <td>0.001768</td>\n",
       "      <td>0.00601</td>\n",
       "      <td>0.009899</td>\n",
       "      <td>0.015202</td>\n",
       "      <td>0.025101</td>\n",
       "      <td>0.008838</td>\n",
       "      <td>0.008838</td>\n",
       "    </tr>\n",
       "  </tbody>\n",
       "</table>\n",
       "</div>"
      ],
      "text/plain": [
       "           epsilon  initial_unfairness       acc       sex  age_25_45  \\\n",
       "COMPAS_SP     0.14           -0.023256  0.636364  0.001414   0.004242   \n",
       "\n",
       "             age_25   age_45  priors_0  priors_1_3  priors_3  charge_deg_F  \\\n",
       "COMPAS_SP  0.001768  0.00601  0.009899    0.015202  0.025101      0.008838   \n",
       "\n",
       "           charge_deg_M  \n",
       "COMPAS_SP      0.008838  "
      ]
     },
     "execution_count": 52,
     "metadata": {},
     "output_type": "execute_result"
    }
   ],
   "source": [
    "table_df"
   ]
  },
  {
   "cell_type": "code",
   "execution_count": 53,
   "metadata": {},
   "outputs": [],
   "source": [
    "table_df.to_csv('./result_tables/COMPAS_SP.csv')"
   ]
  }
 ],
 "metadata": {
  "colab": {
   "collapsed_sections": [],
   "name": "SP_linear_prog_constraints.ipynb",
   "provenance": [],
   "toc_visible": true
  },
  "kernelspec": {
   "display_name": "Python 3",
   "language": "python",
   "name": "python3"
  },
  "language_info": {
   "codemirror_mode": {
    "name": "ipython",
    "version": 3
   },
   "file_extension": ".py",
   "mimetype": "text/x-python",
   "name": "python",
   "nbconvert_exporter": "python",
   "pygments_lexer": "ipython3",
   "version": "3.7.1"
  }
 },
 "nbformat": 4,
 "nbformat_minor": 2
}
