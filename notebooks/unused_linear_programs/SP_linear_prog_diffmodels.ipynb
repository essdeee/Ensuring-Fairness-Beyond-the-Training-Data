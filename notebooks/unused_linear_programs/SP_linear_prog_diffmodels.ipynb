{
  "nbformat": 4,
  "nbformat_minor": 0,
  "metadata": {
    "colab": {
      "name": "SP_linear_prog_diffmodels.ipynb",
      "provenance": [],
      "collapsed_sections": [],
      "toc_visible": true
    },
    "language_info": {
      "codemirror_mode": {
        "name": "ipython",
        "version": 3
      },
      "file_extension": ".py",
      "mimetype": "text/x-python",
      "name": "python",
      "nbconvert_exporter": "python",
      "pygments_lexer": "ipython3",
      "version": "3.7.1"
    },
    "kernelspec": {
      "display_name": "Python 3",
      "language": "python",
      "name": "python3"
    }
  },
  "cells": [
    {
      "cell_type": "markdown",
      "metadata": {
        "id": "VYEUJK2JDiTS",
        "colab_type": "text"
      },
      "source": [
        "# Fairness Checking: Linear Program (Statistical Parity) w/ Different Models\n",
        "This notebook solves the SP Linear Program with the results from the 40 different models (20 models with varying depths, 20 models with varying hidden units) in compas_nn_risk_score_diffmodel.ipynb."
      ]
    },
    {
      "cell_type": "code",
      "metadata": {
        "id": "AyLJZXkNDndG",
        "colab_type": "code",
        "outputId": "21ca5292-a20f-4dde-acb3-ea1c4e3e8098",
        "colab": {
          "base_uri": "https://localhost:8080/",
          "height": 51
        }
      },
      "source": [
        "!pip install pulp"
      ],
      "execution_count": 0,
      "outputs": [
        {
          "output_type": "stream",
          "text": [
            "Requirement already satisfied: pulp in /usr/local/lib/python3.6/dist-packages (1.6.10)\n",
            "Requirement already satisfied: pyparsing>=2.0.1 in /usr/local/lib/python3.6/dist-packages (from pulp) (2.4.2)\n"
          ],
          "name": "stdout"
        }
      ]
    },
    {
      "cell_type": "code",
      "metadata": {
        "id": "TYaVKaWuDiTT",
        "colab_type": "code",
        "colab": {}
      },
      "source": [
        "import pandas as pd\n",
        "import numpy as np\n",
        "import pulp\n",
        "import matplotlib.pyplot as plt"
      ],
      "execution_count": 0,
      "outputs": []
    },
    {
      "cell_type": "code",
      "metadata": {
        "id": "7nFOqCIjDj3D",
        "colab_type": "code",
        "outputId": "507ae460-b47f-415b-c753-8b3754b44607",
        "colab": {
          "base_uri": "https://localhost:8080/",
          "height": 54
        }
      },
      "source": [
        "# Run this cell to mount your Google Drive.\n",
        "from google.colab import drive\n",
        "drive.mount('/content/drive')"
      ],
      "execution_count": 0,
      "outputs": [
        {
          "output_type": "stream",
          "text": [
            "Drive already mounted at /content/drive; to attempt to forcibly remount, call drive.mount(\"/content/drive\", force_remount=True).\n"
          ],
          "name": "stdout"
        }
      ]
    },
    {
      "cell_type": "code",
      "metadata": {
        "id": "Hgv7NhPRYFBV",
        "colab_type": "code",
        "colab": {}
      },
      "source": [
        "NUMBER_OF_MODELS = 20"
      ],
      "execution_count": 0,
      "outputs": []
    },
    {
      "cell_type": "markdown",
      "metadata": {
        "id": "uYWlA1POA3FG",
        "colab_type": "text"
      },
      "source": [
        "# Case 1: Depth NNs\n",
        "We have 100 different models with varying depths. diffmodel_0 has the shallowest depth (1 layer), and diffmodel_99 has the deepest depth (100 layers)."
      ]
    },
    {
      "cell_type": "markdown",
      "metadata": {
        "id": "id0PTMTBDiTV",
        "colab_type": "text"
      },
      "source": [
        "## Import Predicted Data\n",
        "We take A (the protected attribute) to be the 'race' variable, and a = 0 while a' = 1. The last column, 'prediction,' is our f(X) variable, which can either be 0 or 1.\n",
        "\n",
        "Import for each of the twenty f(X). We'll call them f_1(X), f_2(X), ... f_20(X)."
      ]
    },
    {
      "cell_type": "code",
      "metadata": {
        "id": "EaDU5FwHDiTW",
        "colab_type": "code",
        "colab": {}
      },
      "source": [
        "df = []\n",
        "for i in range(NUMBER_OF_MODELS):\n",
        "  df.append(pd.read_csv('/content/drive/My Drive/colab/fairness_checking/depth_models/diffmodel_{}.csv'.format(i)))"
      ],
      "execution_count": 0,
      "outputs": []
    },
    {
      "cell_type": "code",
      "metadata": {
        "id": "3D-WDPLsDiTY",
        "colab_type": "code",
        "outputId": "c19fe55b-c12d-4528-b8cb-f75fef135e20",
        "colab": {
          "base_uri": "https://localhost:8080/",
          "height": 241
        }
      },
      "source": [
        "# Sanity Check: make sure we have different f(X)'s\n",
        "df[0].head(5)"
      ],
      "execution_count": 0,
      "outputs": [
        {
          "output_type": "execute_result",
          "data": {
            "text/html": [
              "<div>\n",
              "<style scoped>\n",
              "    .dataframe tbody tr th:only-of-type {\n",
              "        vertical-align: middle;\n",
              "    }\n",
              "\n",
              "    .dataframe tbody tr th {\n",
              "        vertical-align: top;\n",
              "    }\n",
              "\n",
              "    .dataframe thead th {\n",
              "        text-align: right;\n",
              "    }\n",
              "</style>\n",
              "<table border=\"1\" class=\"dataframe\">\n",
              "  <thead>\n",
              "    <tr style=\"text-align: right;\">\n",
              "      <th></th>\n",
              "      <th>Unnamed: 0</th>\n",
              "      <th>Unnamed: 0.1</th>\n",
              "      <th>sex</th>\n",
              "      <th>age</th>\n",
              "      <th>race</th>\n",
              "      <th>juv_fel_count</th>\n",
              "      <th>juv_misd_count</th>\n",
              "      <th>juv_other_count</th>\n",
              "      <th>priors_count</th>\n",
              "      <th>two_year_recid</th>\n",
              "      <th>c_charge_degree_F</th>\n",
              "      <th>c_charge_degree_M</th>\n",
              "      <th>risk_recid</th>\n",
              "      <th>prediction_probs</th>\n",
              "      <th>prediction</th>\n",
              "    </tr>\n",
              "  </thead>\n",
              "  <tbody>\n",
              "    <tr>\n",
              "      <th>0</th>\n",
              "      <td>3</td>\n",
              "      <td>0.000693</td>\n",
              "      <td>1.0</td>\n",
              "      <td>0.333333</td>\n",
              "      <td>0.0</td>\n",
              "      <td>0.0</td>\n",
              "      <td>0.0</td>\n",
              "      <td>0.0</td>\n",
              "      <td>0.000000</td>\n",
              "      <td>0.0</td>\n",
              "      <td>0.0</td>\n",
              "      <td>1.0</td>\n",
              "      <td>0.0</td>\n",
              "      <td>0.052690</td>\n",
              "      <td>0</td>\n",
              "    </tr>\n",
              "    <tr>\n",
              "      <th>1</th>\n",
              "      <td>4</td>\n",
              "      <td>0.000832</td>\n",
              "      <td>1.0</td>\n",
              "      <td>0.294872</td>\n",
              "      <td>0.0</td>\n",
              "      <td>0.0</td>\n",
              "      <td>0.0</td>\n",
              "      <td>0.0</td>\n",
              "      <td>0.368421</td>\n",
              "      <td>1.0</td>\n",
              "      <td>1.0</td>\n",
              "      <td>0.0</td>\n",
              "      <td>1.0</td>\n",
              "      <td>0.829273</td>\n",
              "      <td>1</td>\n",
              "    </tr>\n",
              "    <tr>\n",
              "      <th>2</th>\n",
              "      <td>5</td>\n",
              "      <td>0.000970</td>\n",
              "      <td>1.0</td>\n",
              "      <td>0.320513</td>\n",
              "      <td>0.0</td>\n",
              "      <td>0.0</td>\n",
              "      <td>0.0</td>\n",
              "      <td>0.0</td>\n",
              "      <td>0.078947</td>\n",
              "      <td>0.0</td>\n",
              "      <td>1.0</td>\n",
              "      <td>0.0</td>\n",
              "      <td>0.0</td>\n",
              "      <td>0.172630</td>\n",
              "      <td>0</td>\n",
              "    </tr>\n",
              "    <tr>\n",
              "      <th>3</th>\n",
              "      <td>9</td>\n",
              "      <td>0.001664</td>\n",
              "      <td>0.0</td>\n",
              "      <td>0.243590</td>\n",
              "      <td>0.0</td>\n",
              "      <td>0.0</td>\n",
              "      <td>0.0</td>\n",
              "      <td>0.0</td>\n",
              "      <td>0.000000</td>\n",
              "      <td>0.0</td>\n",
              "      <td>0.0</td>\n",
              "      <td>1.0</td>\n",
              "      <td>0.0</td>\n",
              "      <td>0.126032</td>\n",
              "      <td>0</td>\n",
              "    </tr>\n",
              "    <tr>\n",
              "      <th>4</th>\n",
              "      <td>16</td>\n",
              "      <td>0.002634</td>\n",
              "      <td>1.0</td>\n",
              "      <td>0.166667</td>\n",
              "      <td>0.0</td>\n",
              "      <td>0.0</td>\n",
              "      <td>0.0</td>\n",
              "      <td>0.0</td>\n",
              "      <td>0.131579</td>\n",
              "      <td>1.0</td>\n",
              "      <td>1.0</td>\n",
              "      <td>0.0</td>\n",
              "      <td>0.0</td>\n",
              "      <td>0.632580</td>\n",
              "      <td>1</td>\n",
              "    </tr>\n",
              "  </tbody>\n",
              "</table>\n",
              "</div>"
            ],
            "text/plain": [
              "   Unnamed: 0  Unnamed: 0.1  sex  ...  risk_recid  prediction_probs  prediction\n",
              "0           3      0.000693  1.0  ...         0.0          0.052690           0\n",
              "1           4      0.000832  1.0  ...         1.0          0.829273           1\n",
              "2           5      0.000970  1.0  ...         0.0          0.172630           0\n",
              "3           9      0.001664  0.0  ...         0.0          0.126032           0\n",
              "4          16      0.002634  1.0  ...         0.0          0.632580           1\n",
              "\n",
              "[5 rows x 15 columns]"
            ]
          },
          "metadata": {
            "tags": []
          },
          "execution_count": 6
        }
      ]
    },
    {
      "cell_type": "code",
      "metadata": {
        "id": "Tlbhjqt_Xatp",
        "colab_type": "code",
        "outputId": "6ff6b292-834b-4228-9910-2dceb1e70c88",
        "colab": {
          "base_uri": "https://localhost:8080/",
          "height": 241
        }
      },
      "source": [
        "# Sanity Check: make sure we have different f(X)'s\n",
        "df[NUMBER_OF_MODELS-1].head(5)"
      ],
      "execution_count": 0,
      "outputs": [
        {
          "output_type": "execute_result",
          "data": {
            "text/html": [
              "<div>\n",
              "<style scoped>\n",
              "    .dataframe tbody tr th:only-of-type {\n",
              "        vertical-align: middle;\n",
              "    }\n",
              "\n",
              "    .dataframe tbody tr th {\n",
              "        vertical-align: top;\n",
              "    }\n",
              "\n",
              "    .dataframe thead th {\n",
              "        text-align: right;\n",
              "    }\n",
              "</style>\n",
              "<table border=\"1\" class=\"dataframe\">\n",
              "  <thead>\n",
              "    <tr style=\"text-align: right;\">\n",
              "      <th></th>\n",
              "      <th>Unnamed: 0</th>\n",
              "      <th>Unnamed: 0.1</th>\n",
              "      <th>sex</th>\n",
              "      <th>age</th>\n",
              "      <th>race</th>\n",
              "      <th>juv_fel_count</th>\n",
              "      <th>juv_misd_count</th>\n",
              "      <th>juv_other_count</th>\n",
              "      <th>priors_count</th>\n",
              "      <th>two_year_recid</th>\n",
              "      <th>c_charge_degree_F</th>\n",
              "      <th>c_charge_degree_M</th>\n",
              "      <th>risk_recid</th>\n",
              "      <th>prediction_probs</th>\n",
              "      <th>prediction</th>\n",
              "    </tr>\n",
              "  </thead>\n",
              "  <tbody>\n",
              "    <tr>\n",
              "      <th>0</th>\n",
              "      <td>3</td>\n",
              "      <td>0.000693</td>\n",
              "      <td>1.0</td>\n",
              "      <td>0.333333</td>\n",
              "      <td>0.0</td>\n",
              "      <td>0.0</td>\n",
              "      <td>0.0</td>\n",
              "      <td>0.0</td>\n",
              "      <td>0.000000</td>\n",
              "      <td>0.0</td>\n",
              "      <td>0.0</td>\n",
              "      <td>1.0</td>\n",
              "      <td>0.0</td>\n",
              "      <td>0.44713</td>\n",
              "      <td>0</td>\n",
              "    </tr>\n",
              "    <tr>\n",
              "      <th>1</th>\n",
              "      <td>4</td>\n",
              "      <td>0.000832</td>\n",
              "      <td>1.0</td>\n",
              "      <td>0.294872</td>\n",
              "      <td>0.0</td>\n",
              "      <td>0.0</td>\n",
              "      <td>0.0</td>\n",
              "      <td>0.0</td>\n",
              "      <td>0.368421</td>\n",
              "      <td>1.0</td>\n",
              "      <td>1.0</td>\n",
              "      <td>0.0</td>\n",
              "      <td>1.0</td>\n",
              "      <td>0.44713</td>\n",
              "      <td>0</td>\n",
              "    </tr>\n",
              "    <tr>\n",
              "      <th>2</th>\n",
              "      <td>5</td>\n",
              "      <td>0.000970</td>\n",
              "      <td>1.0</td>\n",
              "      <td>0.320513</td>\n",
              "      <td>0.0</td>\n",
              "      <td>0.0</td>\n",
              "      <td>0.0</td>\n",
              "      <td>0.0</td>\n",
              "      <td>0.078947</td>\n",
              "      <td>0.0</td>\n",
              "      <td>1.0</td>\n",
              "      <td>0.0</td>\n",
              "      <td>0.0</td>\n",
              "      <td>0.44713</td>\n",
              "      <td>0</td>\n",
              "    </tr>\n",
              "    <tr>\n",
              "      <th>3</th>\n",
              "      <td>9</td>\n",
              "      <td>0.001664</td>\n",
              "      <td>0.0</td>\n",
              "      <td>0.243590</td>\n",
              "      <td>0.0</td>\n",
              "      <td>0.0</td>\n",
              "      <td>0.0</td>\n",
              "      <td>0.0</td>\n",
              "      <td>0.000000</td>\n",
              "      <td>0.0</td>\n",
              "      <td>0.0</td>\n",
              "      <td>1.0</td>\n",
              "      <td>0.0</td>\n",
              "      <td>0.44713</td>\n",
              "      <td>0</td>\n",
              "    </tr>\n",
              "    <tr>\n",
              "      <th>4</th>\n",
              "      <td>16</td>\n",
              "      <td>0.002634</td>\n",
              "      <td>1.0</td>\n",
              "      <td>0.166667</td>\n",
              "      <td>0.0</td>\n",
              "      <td>0.0</td>\n",
              "      <td>0.0</td>\n",
              "      <td>0.0</td>\n",
              "      <td>0.131579</td>\n",
              "      <td>1.0</td>\n",
              "      <td>1.0</td>\n",
              "      <td>0.0</td>\n",
              "      <td>0.0</td>\n",
              "      <td>0.44713</td>\n",
              "      <td>0</td>\n",
              "    </tr>\n",
              "  </tbody>\n",
              "</table>\n",
              "</div>"
            ],
            "text/plain": [
              "   Unnamed: 0  Unnamed: 0.1  sex  ...  risk_recid  prediction_probs  prediction\n",
              "0           3      0.000693  1.0  ...         0.0           0.44713           0\n",
              "1           4      0.000832  1.0  ...         1.0           0.44713           0\n",
              "2           5      0.000970  1.0  ...         0.0           0.44713           0\n",
              "3           9      0.001664  0.0  ...         0.0           0.44713           0\n",
              "4          16      0.002634  1.0  ...         0.0           0.44713           0\n",
              "\n",
              "[5 rows x 15 columns]"
            ]
          },
          "metadata": {
            "tags": []
          },
          "execution_count": 7
        }
      ]
    },
    {
      "cell_type": "code",
      "metadata": {
        "id": "IvLHi63FDiTb",
        "colab_type": "code",
        "colab": {}
      },
      "source": [
        "# Our protected variable A is race, and a = 0 or a = 1. Doesn't matter which DF\n",
        "# we get this from because they are all in the same order.\n",
        "a = df[0]['race']\n",
        "np.asarray(a)\n",
        "a_0_indices = []\n",
        "a_1_indices = []\n",
        "\n",
        "for i in range(len(a)):\n",
        "    if a[i] == 0:\n",
        "        a_0_indices.append(i)\n",
        "    elif a[i] == 1:\n",
        "        a_1_indices.append(i)"
      ],
      "execution_count": 0,
      "outputs": []
    },
    {
      "cell_type": "code",
      "metadata": {
        "id": "ARsmRic1DiTi",
        "colab_type": "code",
        "colab": {}
      },
      "source": [
        "# Our pi variables are simply the proportions of a_0 or a_1 \n",
        "pi_0 = float(len(a_0_indices))/(len(a_0_indices) + len(a_1_indices))\n",
        "pi_1 = float(len(a_1_indices))/(len(a_0_indices) + len(a_1_indices))"
      ],
      "execution_count": 0,
      "outputs": []
    },
    {
      "cell_type": "code",
      "metadata": {
        "id": "ggsCMcr5DiTk",
        "colab_type": "code",
        "outputId": "4c344a2c-87ee-47e5-9e4f-43a13a2ad55d",
        "colab": {
          "base_uri": "https://localhost:8080/",
          "height": 51
        }
      },
      "source": [
        "print(pi_0)\n",
        "print(pi_1)"
      ],
      "execution_count": 0,
      "outputs": [
        {
          "output_type": "stream",
          "text": [
            "0.4943181818181818\n",
            "0.5056818181818182\n"
          ],
          "name": "stdout"
        }
      ]
    },
    {
      "cell_type": "code",
      "metadata": {
        "id": "w5PbdhJ5DiTn",
        "colab_type": "code",
        "colab": {}
      },
      "source": [
        "# Our prediction probability is under 'prediction_probs.' Notice that we use the \n",
        "# actual probability of the label, not the label itself.\n",
        "f_X = []\n",
        "for i in range(len(df)):\n",
        "  f_X.append(df[i]['prediction_probs'])\n",
        "  np.asarray(f_X[i])"
      ],
      "execution_count": 0,
      "outputs": []
    },
    {
      "cell_type": "code",
      "metadata": {
        "id": "f66NgcN8FLnM",
        "colab_type": "code",
        "outputId": "f79a8d31-4c8d-4fdd-e153-532994560f8a",
        "colab": {
          "base_uri": "https://localhost:8080/",
          "height": 119
        }
      },
      "source": [
        "# Check if the dimensions match\n",
        "print(len(f_X[0]))\n",
        "print(len(f_X[1]))\n",
        "print(len(f_X[2]))\n",
        "print(len(f_X[18]))\n",
        "print(len(f_X[19]))\n",
        "print(len(a_0_indices) + (len(a_1_indices)))"
      ],
      "execution_count": 0,
      "outputs": [
        {
          "output_type": "stream",
          "text": [
            "1232\n",
            "1232\n",
            "1232\n",
            "1232\n",
            "1232\n",
            "1232\n"
          ],
          "name": "stdout"
        }
      ]
    },
    {
      "cell_type": "markdown",
      "metadata": {
        "id": "CNroneF6eIsV",
        "colab_type": "text"
      },
      "source": [
        "## Linear Program Function\n",
        "Create a reusable function for each linear program."
      ]
    },
    {
      "cell_type": "code",
      "metadata": {
        "id": "mpi3GQvzeH0F",
        "colab_type": "code",
        "colab": {}
      },
      "source": [
        "# Input: function f(X)\n",
        "# Output: (solved) model, weights\n",
        "def SP_linear_prog(f_X):\n",
        "  # Define the linear program as a maximization problem\n",
        "  model = pulp.LpProblem(\"Statistical Parity Fairness Checking\", pulp.LpMaximize)\n",
        "  \n",
        "  # Our w variable in the objective\n",
        "  # Lower bound constraint set here with lowBound=0 option\n",
        "  w = pulp.LpVariable.dicts(\"w\", (i for i in range(len(f_X))),lowBound=0, cat='Continuous')\n",
        "  \n",
        "  # Objective Function\n",
        "  model += pulp.lpSum(\n",
        "      [(1./pi_0) * w[index] * f_X[index] for index in a_0_indices] +\n",
        "      [- (1./pi_1) * w[index] * f_X[index] for index in a_1_indices])\n",
        "  \n",
        "  # Constraint that the \\sum(w_i * 1{a = 0}) = pi_0\n",
        "  model += pulp.lpSum([w[index] for index in a_0_indices]) == pi_0\n",
        "  \n",
        "  # Constraint that the \\sum(w_i * 1{a = 1}) = pi_1\n",
        "  model += pulp.lpSum([w[index] for index in a_1_indices]) == pi_1\n",
        "  \n",
        "  # Constraint that the w's all sum to 1\n",
        "  model += pulp.lpSum([w[i] for i in range(len(f_X))]) == 1\n",
        "  \n",
        "  # Solve the linear program\n",
        "  model.solve()\n",
        "  pulp.LpStatus[model.status]\n",
        "  \n",
        "  # Returns the model and the weights\n",
        "  return model, w\n",
        "\n",
        "# Get the results\n",
        "def weights_dictionary(w):\n",
        "  results_dict = dict()\n",
        "  for i in range(len(f_X)):\n",
        "    results_dict[w[i]] = w[i].varValue"
      ],
      "execution_count": 0,
      "outputs": []
    },
    {
      "cell_type": "markdown",
      "metadata": {
        "id": "oRPqsRrIDiTp",
        "colab_type": "text"
      },
      "source": [
        "## Solve Linear Programs\n",
        "Solve the linear program for each of the f(X)."
      ]
    },
    {
      "cell_type": "code",
      "metadata": {
        "id": "wO7eLI8OBXDH",
        "colab_type": "code",
        "colab": {}
      },
      "source": [
        "# Solve for each of the f(X)\n",
        "models = []\n",
        "weights = []\n",
        "\n",
        "for i in range(len(f_X)):\n",
        "  model, weight_results = SP_linear_prog(f_X[i])\n",
        "  models.append(model)\n",
        "  weights.append(weight_results)"
      ],
      "execution_count": 0,
      "outputs": []
    },
    {
      "cell_type": "code",
      "metadata": {
        "id": "eruthgPTgCfy",
        "colab_type": "code",
        "outputId": "8feb8970-c58c-49f3-fab8-3bad5cb75d18",
        "colab": {
          "base_uri": "https://localhost:8080/",
          "height": 357
        }
      },
      "source": [
        "# Get all the objective values\n",
        "for i in range(len(f_X)):\n",
        "  result_string = \"Objective for f(X)_{} : \".format(i)\n",
        "  print(result_string + str(pulp.value(models[i].objective)))"
      ],
      "execution_count": 0,
      "outputs": [
        {
          "output_type": "stream",
          "text": [
            "Objective for f(X)_0 : 0.9745228162924563\n",
            "Objective for f(X)_1 : 0.9674091562268906\n",
            "Objective for f(X)_2 : 0.9798455212731789\n",
            "Objective for f(X)_3 : 0.9810582062717512\n",
            "Objective for f(X)_4 : 0.9848847292798241\n",
            "Objective for f(X)_5 : 0.9676872962111969\n",
            "Objective for f(X)_6 : 0.9679024862611537\n",
            "Objective for f(X)_7 : 0.9661339962491915\n",
            "Objective for f(X)_8 : 0.966697719246359\n",
            "Objective for f(X)_9 : 0.9716570612379084\n",
            "Objective for f(X)_10 : 0.9907285222926168\n",
            "Objective for f(X)_11 : 0.9731520362296286\n",
            "Objective for f(X)_12 : 0.9337520343759547\n",
            "Objective for f(X)_13 : 0.9853633603199855\n",
            "Objective for f(X)_14 : 0.8941869446013132\n",
            "Objective for f(X)_15 : 0.7625218019493395\n",
            "Objective for f(X)_16 : 0.9938053244808099\n",
            "Objective for f(X)_17 : -3.2498191915308894e-09\n",
            "Objective for f(X)_18 : 0.9864155342734541\n",
            "Objective for f(X)_19 : -3.252273950149487e-09\n"
          ],
          "name": "stdout"
        }
      ]
    },
    {
      "cell_type": "code",
      "metadata": {
        "id": "clsbdQyOBqb_",
        "colab_type": "code",
        "outputId": "2d8de12a-5f4a-4747-b3ba-c6013e5ed993",
        "colab": {
          "base_uri": "https://localhost:8080/",
          "height": 584
        }
      },
      "source": [
        "# Plot objective values\n",
        "objectives = []\n",
        "for i in range(len(models)):\n",
        "  objectives.append(pulp.value(models[i].objective))\n",
        "\n",
        "plt.figure(figsize=(9,9))\n",
        "plt.plot(objectives)\n",
        "# plt.axis([0, 100, 0.8, 1.0])\n",
        "plt.xlabel('Depth of Model')\n",
        "plt.ylabel('LP Objective Value')\n",
        "plt.title('NN Depth vs. SP LP Objective Value')"
      ],
      "execution_count": 0,
      "outputs": [
        {
          "output_type": "execute_result",
          "data": {
            "text/plain": [
              "Text(0.5, 1.0, 'NN Depth vs. SP LP Objective Value')"
            ]
          },
          "metadata": {
            "tags": []
          },
          "execution_count": 16
        },
        {
          "output_type": "display_data",
          "data": {
            "image/png": "[encoded data removed]",
            "text/plain": [
              "<Figure size 648x648 with 1 Axes>"
            ]
          },
          "metadata": {
            "tags": []
          }
        }
      ]
    },
    {
      "cell_type": "code",
      "metadata": {
        "id": "RrOLMzigTLJE",
        "colab_type": "code",
        "outputId": "64ecadc9-9368-41b8-e6c0-9f53f29eaa27",
        "colab": {
          "base_uri": "https://localhost:8080/",
          "height": 584
        }
      },
      "source": [
        "# Plot training accuracies over depth\n",
        "depth_model_accuracies_df = pd.read_csv('/content/drive/My Drive/colab/fairness_checking/depth_models/depth_model_accuracies.csv')\n",
        "depth_model_accuracies_df.head(5)\n",
        "depth_model_acc = depth_model_accuracies_df['Model Accuracy']\n",
        "\n",
        "plt.figure(figsize=(9,9))\n",
        "plt.plot(depth_model_acc)\n",
        "# plt.axis([0, 100, 0.8, 1.0])\n",
        "plt.xlabel('Depth of Model')\n",
        "plt.ylabel('Test Accuracy')\n",
        "plt.title('NN Depth vs. Model Test Accuracy')"
      ],
      "execution_count": 0,
      "outputs": [
        {
          "output_type": "execute_result",
          "data": {
            "text/plain": [
              "Text(0.5, 1.0, 'NN Depth vs. Model Test Accuracy')"
            ]
          },
          "metadata": {
            "tags": []
          },
          "execution_count": 17
        },
        {
          "output_type": "display_data",
          "data": {
            "image/png": "[encoded data removed]",
            "text/plain": [
              "<Figure size 648x648 with 1 Axes>"
            ]
          },
          "metadata": {
            "tags": []
          }
        }
      ]
    },
    {
      "cell_type": "code",
      "metadata": {
        "id": "qbI8GrupZCqV",
        "colab_type": "code",
        "colab": {}
      },
      "source": [
        "# Save as a CSV\n",
        "df = pd.DataFrame({'Depth of Model (Layers)':range(1,NUMBER_OF_MODELS + 1), 'SP LP Objective Values':objectives})\n",
        "df.head(5)\n",
        "df.to_csv('/content/drive/My Drive/colab/fairness_checking/sp_depth_models.csv')"
      ],
      "execution_count": 0,
      "outputs": []
    },
    {
      "cell_type": "markdown",
      "metadata": {
        "colab_type": "text",
        "id": "xph0roJ9CBOS"
      },
      "source": [
        "# Case 2: Hidden Unit NNs\n",
        "We have 20 different models with varying hidden units. diffmodel_0 has the least hidden units (20 per layer), and diffmodel_100 has the most hidden units (2020 per layer). Each model has a constant 5 layers."
      ]
    },
    {
      "cell_type": "markdown",
      "metadata": {
        "colab_type": "text",
        "id": "RPqYVjEoCBOU"
      },
      "source": [
        "## Import Predicted Data\n",
        "We take A (the protected attribute) to be the 'race' variable, and a = 0 while a' = 1. The last column, 'prediction,' is our f(X) variable, which can either be 0 or 1.\n",
        "\n",
        "Import for each of the 100 f(X). We'll call them f_1(X), f_2(X), ... f_100(X)."
      ]
    },
    {
      "cell_type": "code",
      "metadata": {
        "colab_type": "code",
        "id": "u-p9kj7HCBOx",
        "colab": {}
      },
      "source": [
        "df = []\n",
        "for i in range(NUMBER_OF_MODELS):\n",
        "  df.append(pd.read_csv('/content/drive/My Drive/colab/fairness_checking/unit_models/diffmodel_{}.csv'.format(i)))"
      ],
      "execution_count": 0,
      "outputs": []
    },
    {
      "cell_type": "code",
      "metadata": {
        "colab_type": "code",
        "outputId": "161869d9-1df3-4fb3-a68a-e67734fb8cb5",
        "id": "aAr-b_WHCBO0",
        "colab": {
          "base_uri": "https://localhost:8080/",
          "height": 241
        }
      },
      "source": [
        "# Sanity Check: make sure we have different f(X)'s\n",
        "df[0].head(5)"
      ],
      "execution_count": 0,
      "outputs": [
        {
          "output_type": "execute_result",
          "data": {
            "text/html": [
              "<div>\n",
              "<style scoped>\n",
              "    .dataframe tbody tr th:only-of-type {\n",
              "        vertical-align: middle;\n",
              "    }\n",
              "\n",
              "    .dataframe tbody tr th {\n",
              "        vertical-align: top;\n",
              "    }\n",
              "\n",
              "    .dataframe thead th {\n",
              "        text-align: right;\n",
              "    }\n",
              "</style>\n",
              "<table border=\"1\" class=\"dataframe\">\n",
              "  <thead>\n",
              "    <tr style=\"text-align: right;\">\n",
              "      <th></th>\n",
              "      <th>Unnamed: 0</th>\n",
              "      <th>Unnamed: 0.1</th>\n",
              "      <th>sex</th>\n",
              "      <th>age</th>\n",
              "      <th>race</th>\n",
              "      <th>juv_fel_count</th>\n",
              "      <th>juv_misd_count</th>\n",
              "      <th>juv_other_count</th>\n",
              "      <th>priors_count</th>\n",
              "      <th>two_year_recid</th>\n",
              "      <th>c_charge_degree_F</th>\n",
              "      <th>c_charge_degree_M</th>\n",
              "      <th>risk_recid</th>\n",
              "      <th>prediction_probs</th>\n",
              "      <th>prediction</th>\n",
              "    </tr>\n",
              "  </thead>\n",
              "  <tbody>\n",
              "    <tr>\n",
              "      <th>0</th>\n",
              "      <td>3</td>\n",
              "      <td>0.000693</td>\n",
              "      <td>1.0</td>\n",
              "      <td>0.333333</td>\n",
              "      <td>0.0</td>\n",
              "      <td>0.0</td>\n",
              "      <td>0.0</td>\n",
              "      <td>0.0</td>\n",
              "      <td>0.000000</td>\n",
              "      <td>0.0</td>\n",
              "      <td>0.0</td>\n",
              "      <td>1.0</td>\n",
              "      <td>0.0</td>\n",
              "      <td>0.056160</td>\n",
              "      <td>0</td>\n",
              "    </tr>\n",
              "    <tr>\n",
              "      <th>1</th>\n",
              "      <td>4</td>\n",
              "      <td>0.000832</td>\n",
              "      <td>1.0</td>\n",
              "      <td>0.294872</td>\n",
              "      <td>0.0</td>\n",
              "      <td>0.0</td>\n",
              "      <td>0.0</td>\n",
              "      <td>0.0</td>\n",
              "      <td>0.368421</td>\n",
              "      <td>1.0</td>\n",
              "      <td>1.0</td>\n",
              "      <td>0.0</td>\n",
              "      <td>1.0</td>\n",
              "      <td>0.749724</td>\n",
              "      <td>1</td>\n",
              "    </tr>\n",
              "    <tr>\n",
              "      <th>2</th>\n",
              "      <td>5</td>\n",
              "      <td>0.000970</td>\n",
              "      <td>1.0</td>\n",
              "      <td>0.320513</td>\n",
              "      <td>0.0</td>\n",
              "      <td>0.0</td>\n",
              "      <td>0.0</td>\n",
              "      <td>0.0</td>\n",
              "      <td>0.078947</td>\n",
              "      <td>0.0</td>\n",
              "      <td>1.0</td>\n",
              "      <td>0.0</td>\n",
              "      <td>0.0</td>\n",
              "      <td>0.169747</td>\n",
              "      <td>0</td>\n",
              "    </tr>\n",
              "    <tr>\n",
              "      <th>3</th>\n",
              "      <td>9</td>\n",
              "      <td>0.001664</td>\n",
              "      <td>0.0</td>\n",
              "      <td>0.243590</td>\n",
              "      <td>0.0</td>\n",
              "      <td>0.0</td>\n",
              "      <td>0.0</td>\n",
              "      <td>0.0</td>\n",
              "      <td>0.000000</td>\n",
              "      <td>0.0</td>\n",
              "      <td>0.0</td>\n",
              "      <td>1.0</td>\n",
              "      <td>0.0</td>\n",
              "      <td>0.090673</td>\n",
              "      <td>0</td>\n",
              "    </tr>\n",
              "    <tr>\n",
              "      <th>4</th>\n",
              "      <td>16</td>\n",
              "      <td>0.002634</td>\n",
              "      <td>1.0</td>\n",
              "      <td>0.166667</td>\n",
              "      <td>0.0</td>\n",
              "      <td>0.0</td>\n",
              "      <td>0.0</td>\n",
              "      <td>0.0</td>\n",
              "      <td>0.131579</td>\n",
              "      <td>1.0</td>\n",
              "      <td>1.0</td>\n",
              "      <td>0.0</td>\n",
              "      <td>0.0</td>\n",
              "      <td>0.600647</td>\n",
              "      <td>1</td>\n",
              "    </tr>\n",
              "  </tbody>\n",
              "</table>\n",
              "</div>"
            ],
            "text/plain": [
              "   Unnamed: 0  Unnamed: 0.1  sex  ...  risk_recid  prediction_probs  prediction\n",
              "0           3      0.000693  1.0  ...         0.0          0.056160           0\n",
              "1           4      0.000832  1.0  ...         1.0          0.749724           1\n",
              "2           5      0.000970  1.0  ...         0.0          0.169747           0\n",
              "3           9      0.001664  0.0  ...         0.0          0.090673           0\n",
              "4          16      0.002634  1.0  ...         0.0          0.600647           1\n",
              "\n",
              "[5 rows x 15 columns]"
            ]
          },
          "metadata": {
            "tags": []
          },
          "execution_count": 20
        }
      ]
    },
    {
      "cell_type": "code",
      "metadata": {
        "colab_type": "code",
        "outputId": "1da02d0d-7793-4303-c55d-4830296e8c9e",
        "id": "1TiPgDpkCBO2",
        "colab": {
          "base_uri": "https://localhost:8080/",
          "height": 241
        }
      },
      "source": [
        "# Sanity Check: make sure we have different f(X)'s\n",
        "df[19].head(5)"
      ],
      "execution_count": 0,
      "outputs": [
        {
          "output_type": "execute_result",
          "data": {
            "text/html": [
              "<div>\n",
              "<style scoped>\n",
              "    .dataframe tbody tr th:only-of-type {\n",
              "        vertical-align: middle;\n",
              "    }\n",
              "\n",
              "    .dataframe tbody tr th {\n",
              "        vertical-align: top;\n",
              "    }\n",
              "\n",
              "    .dataframe thead th {\n",
              "        text-align: right;\n",
              "    }\n",
              "</style>\n",
              "<table border=\"1\" class=\"dataframe\">\n",
              "  <thead>\n",
              "    <tr style=\"text-align: right;\">\n",
              "      <th></th>\n",
              "      <th>Unnamed: 0</th>\n",
              "      <th>Unnamed: 0.1</th>\n",
              "      <th>sex</th>\n",
              "      <th>age</th>\n",
              "      <th>race</th>\n",
              "      <th>juv_fel_count</th>\n",
              "      <th>juv_misd_count</th>\n",
              "      <th>juv_other_count</th>\n",
              "      <th>priors_count</th>\n",
              "      <th>two_year_recid</th>\n",
              "      <th>c_charge_degree_F</th>\n",
              "      <th>c_charge_degree_M</th>\n",
              "      <th>risk_recid</th>\n",
              "      <th>prediction_probs</th>\n",
              "      <th>prediction</th>\n",
              "    </tr>\n",
              "  </thead>\n",
              "  <tbody>\n",
              "    <tr>\n",
              "      <th>0</th>\n",
              "      <td>3</td>\n",
              "      <td>0.000693</td>\n",
              "      <td>1.0</td>\n",
              "      <td>0.333333</td>\n",
              "      <td>0.0</td>\n",
              "      <td>0.0</td>\n",
              "      <td>0.0</td>\n",
              "      <td>0.0</td>\n",
              "      <td>0.000000</td>\n",
              "      <td>0.0</td>\n",
              "      <td>0.0</td>\n",
              "      <td>1.0</td>\n",
              "      <td>0.0</td>\n",
              "      <td>0.049422</td>\n",
              "      <td>0</td>\n",
              "    </tr>\n",
              "    <tr>\n",
              "      <th>1</th>\n",
              "      <td>4</td>\n",
              "      <td>0.000832</td>\n",
              "      <td>1.0</td>\n",
              "      <td>0.294872</td>\n",
              "      <td>0.0</td>\n",
              "      <td>0.0</td>\n",
              "      <td>0.0</td>\n",
              "      <td>0.0</td>\n",
              "      <td>0.368421</td>\n",
              "      <td>1.0</td>\n",
              "      <td>1.0</td>\n",
              "      <td>0.0</td>\n",
              "      <td>1.0</td>\n",
              "      <td>0.731862</td>\n",
              "      <td>1</td>\n",
              "    </tr>\n",
              "    <tr>\n",
              "      <th>2</th>\n",
              "      <td>5</td>\n",
              "      <td>0.000970</td>\n",
              "      <td>1.0</td>\n",
              "      <td>0.320513</td>\n",
              "      <td>0.0</td>\n",
              "      <td>0.0</td>\n",
              "      <td>0.0</td>\n",
              "      <td>0.0</td>\n",
              "      <td>0.078947</td>\n",
              "      <td>0.0</td>\n",
              "      <td>1.0</td>\n",
              "      <td>0.0</td>\n",
              "      <td>0.0</td>\n",
              "      <td>0.194312</td>\n",
              "      <td>0</td>\n",
              "    </tr>\n",
              "    <tr>\n",
              "      <th>3</th>\n",
              "      <td>9</td>\n",
              "      <td>0.001664</td>\n",
              "      <td>0.0</td>\n",
              "      <td>0.243590</td>\n",
              "      <td>0.0</td>\n",
              "      <td>0.0</td>\n",
              "      <td>0.0</td>\n",
              "      <td>0.0</td>\n",
              "      <td>0.000000</td>\n",
              "      <td>0.0</td>\n",
              "      <td>0.0</td>\n",
              "      <td>1.0</td>\n",
              "      <td>0.0</td>\n",
              "      <td>0.071848</td>\n",
              "      <td>0</td>\n",
              "    </tr>\n",
              "    <tr>\n",
              "      <th>4</th>\n",
              "      <td>16</td>\n",
              "      <td>0.002634</td>\n",
              "      <td>1.0</td>\n",
              "      <td>0.166667</td>\n",
              "      <td>0.0</td>\n",
              "      <td>0.0</td>\n",
              "      <td>0.0</td>\n",
              "      <td>0.0</td>\n",
              "      <td>0.131579</td>\n",
              "      <td>1.0</td>\n",
              "      <td>1.0</td>\n",
              "      <td>0.0</td>\n",
              "      <td>0.0</td>\n",
              "      <td>0.619357</td>\n",
              "      <td>1</td>\n",
              "    </tr>\n",
              "  </tbody>\n",
              "</table>\n",
              "</div>"
            ],
            "text/plain": [
              "   Unnamed: 0  Unnamed: 0.1  sex  ...  risk_recid  prediction_probs  prediction\n",
              "0           3      0.000693  1.0  ...         0.0          0.049422           0\n",
              "1           4      0.000832  1.0  ...         1.0          0.731862           1\n",
              "2           5      0.000970  1.0  ...         0.0          0.194312           0\n",
              "3           9      0.001664  0.0  ...         0.0          0.071848           0\n",
              "4          16      0.002634  1.0  ...         0.0          0.619357           1\n",
              "\n",
              "[5 rows x 15 columns]"
            ]
          },
          "metadata": {
            "tags": []
          },
          "execution_count": 21
        }
      ]
    },
    {
      "cell_type": "code",
      "metadata": {
        "colab_type": "code",
        "id": "nqnEux8ACBO3",
        "colab": {}
      },
      "source": [
        "# Our protected variable A is race, and a = 0 or a = 1. Doesn't matter which DF\n",
        "# we get this from because they are all in the same order.\n",
        "a = df[0]['race']\n",
        "np.asarray(a)\n",
        "a_0_indices = []\n",
        "a_1_indices = []\n",
        "\n",
        "for i in range(len(a)):\n",
        "    if a[i] == 0:\n",
        "        a_0_indices.append(i)\n",
        "    elif a[i] == 1:\n",
        "        a_1_indices.append(i)"
      ],
      "execution_count": 0,
      "outputs": []
    },
    {
      "cell_type": "code",
      "metadata": {
        "colab_type": "code",
        "id": "p17UlzFYCBO6",
        "colab": {}
      },
      "source": [
        "# Our pi variables are simply the proportions of a_0 or a_1 \n",
        "pi_0 = float(len(a_0_indices))/(len(a_0_indices) + len(a_1_indices))\n",
        "pi_1 = float(len(a_1_indices))/(len(a_0_indices) + len(a_1_indices))"
      ],
      "execution_count": 0,
      "outputs": []
    },
    {
      "cell_type": "code",
      "metadata": {
        "colab_type": "code",
        "outputId": "dd081434-a05b-4f43-e540-bf5b3b25c3c3",
        "id": "YDzMYliNCBO9",
        "colab": {
          "base_uri": "https://localhost:8080/",
          "height": 51
        }
      },
      "source": [
        "print(pi_0)\n",
        "print(pi_1)"
      ],
      "execution_count": 0,
      "outputs": [
        {
          "output_type": "stream",
          "text": [
            "0.4943181818181818\n",
            "0.5056818181818182\n"
          ],
          "name": "stdout"
        }
      ]
    },
    {
      "cell_type": "code",
      "metadata": {
        "colab_type": "code",
        "id": "JITBZOHSCBO-",
        "colab": {}
      },
      "source": [
        "# Our prediction probability is under 'prediction_probs.' Notice that we use the \n",
        "# actual probability of the label, not the label itself.\n",
        "f_X = []\n",
        "for i in range(len(df)):\n",
        "  f_X.append(df[i]['prediction_probs'])\n",
        "  np.asarray(f_X[i])"
      ],
      "execution_count": 0,
      "outputs": []
    },
    {
      "cell_type": "code",
      "metadata": {
        "colab_type": "code",
        "outputId": "5fefc302-6228-4350-e41b-6fefb9e729e6",
        "id": "CMPuu4MeCBPB",
        "colab": {
          "base_uri": "https://localhost:8080/",
          "height": 119
        }
      },
      "source": [
        "# Check if the dimensions match\n",
        "print(len(f_X[0]))\n",
        "print(len(f_X[1]))\n",
        "print(len(f_X[2]))\n",
        "print(len(f_X[18]))\n",
        "print(len(f_X[19]))\n",
        "print(len(a_0_indices) + (len(a_1_indices)))"
      ],
      "execution_count": 0,
      "outputs": [
        {
          "output_type": "stream",
          "text": [
            "1232\n",
            "1232\n",
            "1232\n",
            "1232\n",
            "1232\n",
            "1232\n"
          ],
          "name": "stdout"
        }
      ]
    },
    {
      "cell_type": "markdown",
      "metadata": {
        "colab_type": "text",
        "id": "Uz4HryJRCBPF"
      },
      "source": [
        "## Linear Program Function\n",
        "Create a reusable function for each linear program."
      ]
    },
    {
      "cell_type": "code",
      "metadata": {
        "colab_type": "code",
        "id": "dCNNHPpbCBQI",
        "colab": {}
      },
      "source": [
        "# Input: function f(X)\n",
        "# Output: (solved) model, weights\n",
        "def SP_linear_prog(f_X):\n",
        "  # Define the linear program as a maximization problem\n",
        "  model = pulp.LpProblem(\"Statistical Parity Fairness Checking\", pulp.LpMaximize)\n",
        "  \n",
        "  # Our w variable in the objective\n",
        "  # Lower bound constraint set here with lowBound=0 option\n",
        "  w = pulp.LpVariable.dicts(\"w\", (i for i in range(len(f_X))),lowBound=0, cat='Continuous')\n",
        "  \n",
        "  # Objective Function\n",
        "  model += pulp.lpSum(\n",
        "      [(1./pi_0) * w[index] * f_X[index] for index in a_0_indices] +\n",
        "      [- (1./pi_1) * w[index] * f_X[index] for index in a_1_indices])\n",
        "  \n",
        "  # Constraint that the \\sum(w_i * 1{a = 0}) = pi_0\n",
        "  model += pulp.lpSum([w[index] for index in a_0_indices]) == pi_0\n",
        "  \n",
        "  # Constraint that the \\sum(w_i * 1{a = 1}) = pi_1\n",
        "  model += pulp.lpSum([w[index] for index in a_1_indices]) == pi_1\n",
        "  \n",
        "  # Constraint that the w's all sum to 1\n",
        "  model += pulp.lpSum([w[i] for i in range(len(f_X))]) == 1\n",
        "  \n",
        "  # Solve the linear program\n",
        "  model.solve()\n",
        "  pulp.LpStatus[model.status]\n",
        "  \n",
        "  # Returns the model and the weights\n",
        "  return model, w\n",
        "\n",
        "# Get the results\n",
        "def weights_dictionary(w):\n",
        "  results_dict = dict()\n",
        "  for i in range(len(f_X)):\n",
        "    results_dict[w[i]] = w[i].varValue"
      ],
      "execution_count": 0,
      "outputs": []
    },
    {
      "cell_type": "markdown",
      "metadata": {
        "colab_type": "text",
        "id": "rHbX1yMGCBQK"
      },
      "source": [
        "## Solve Linear Programs\n",
        "Solve the linear program for each of the f(X)."
      ]
    },
    {
      "cell_type": "code",
      "metadata": {
        "colab_type": "code",
        "id": "StVUN8IKCBQM",
        "colab": {}
      },
      "source": [
        "# Solve for each of the f(X)\n",
        "models = []\n",
        "weights = []\n",
        "\n",
        "for i in range(len(f_X)):\n",
        "  model, weight_results = SP_linear_prog(f_X[i])\n",
        "  models.append(model)\n",
        "  weights.append(weight_results)"
      ],
      "execution_count": 0,
      "outputs": []
    },
    {
      "cell_type": "code",
      "metadata": {
        "colab_type": "code",
        "outputId": "7b9ba046-ab40-43c4-f4aa-376fcf0dd176",
        "id": "36Lj_-L4CBQO",
        "colab": {
          "base_uri": "https://localhost:8080/",
          "height": 357
        }
      },
      "source": [
        "# Get all the objective values\n",
        "for i in range(len(f_X)):\n",
        "  result_string = \"Objective for f(X)_{} : \".format(i)\n",
        "  print(result_string + str(pulp.value(models[i].objective)))"
      ],
      "execution_count": 0,
      "outputs": [
        {
          "output_type": "stream",
          "text": [
            "Objective for f(X)_0 : 0.9491712392800318\n",
            "Objective for f(X)_1 : 0.9825877463037281\n",
            "Objective for f(X)_2 : 0.9739487212935094\n",
            "Objective for f(X)_3 : 0.9728615522469208\n",
            "Objective for f(X)_4 : 0.9819817552847826\n",
            "Objective for f(X)_5 : 0.9803513242592857\n",
            "Objective for f(X)_6 : 0.9738019262477137\n",
            "Objective for f(X)_7 : 0.9533783461725124\n",
            "Objective for f(X)_8 : 0.9741513942834508\n",
            "Objective for f(X)_9 : 0.9802107883406506\n",
            "Objective for f(X)_10 : 0.9588199323230006\n",
            "Objective for f(X)_11 : 0.9731145362538713\n",
            "Objective for f(X)_12 : 0.973344882275924\n",
            "Objective for f(X)_13 : 0.9839504003237023\n",
            "Objective for f(X)_14 : 0.9828143402928552\n",
            "Objective for f(X)_15 : 0.9536347961624241\n",
            "Objective for f(X)_16 : 0.9836891873166831\n",
            "Objective for f(X)_17 : 0.9724434393254208\n",
            "Objective for f(X)_18 : 0.9706910532728984\n",
            "Objective for f(X)_19 : 0.962480369203203\n"
          ],
          "name": "stdout"
        }
      ]
    },
    {
      "cell_type": "code",
      "metadata": {
        "colab_type": "code",
        "outputId": "ba978981-1c12-4c24-f285-30791bdd900c",
        "id": "Hhchsi0jCBQQ",
        "colab": {
          "base_uri": "https://localhost:8080/",
          "height": 584
        }
      },
      "source": [
        "# Plot objective values\n",
        "objectives = []\n",
        "for i in range(len(models)):\n",
        "  objectives.append(pulp.value(models[i].objective))\n",
        "  \n",
        "# Get values for x axis\n",
        "x_axis = []\n",
        "units = 20\n",
        "for i in range(len(models)):\n",
        "  x_axis.append(units)\n",
        "  units += 20\n",
        "\n",
        "plt.figure(figsize=(9,9))\n",
        "plt.plot(x_axis, objectives)\n",
        "plt.xlabel('Hidden Units of Model')\n",
        "plt.ylabel('LP Objective Value')\n",
        "plt.title('NN Hidden Units vs. SP LP Objective Value')"
      ],
      "execution_count": 0,
      "outputs": [
        {
          "output_type": "execute_result",
          "data": {
            "text/plain": [
              "Text(0.5, 1.0, 'NN Hidden Units vs. SP LP Objective Value')"
            ]
          },
          "metadata": {
            "tags": []
          },
          "execution_count": 30
        },
        {
          "output_type": "display_data",
          "data": {
            "image/png": "[encoded data removed]",
            "text/plain": [
              "<Figure size 648x648 with 1 Axes>"
            ]
          },
          "metadata": {
            "tags": []
          }
        }
      ]
    },
    {
      "cell_type": "code",
      "metadata": {
        "id": "rciCBNCNUoLN",
        "colab_type": "code",
        "outputId": "4a4c0005-92f0-45c8-ece0-eb8765fad475",
        "colab": {
          "base_uri": "https://localhost:8080/",
          "height": 584
        }
      },
      "source": [
        "# Plot training accuracies over depth\n",
        "unit_model_accuracies_df = pd.read_csv('/content/drive/My Drive/colab/fairness_checking/unit_models/unit_model_accuracies.csv')\n",
        "unit_model_accuracies_df.head(5)\n",
        "unit_model_acc = unit_model_accuracies_df['Model Accuracy']\n",
        "\n",
        "plt.figure(figsize=(9,9))\n",
        "plt.plot(x_axis, unit_model_acc)\n",
        "# plt.axis([0, 100, 0.8, 1.0])\n",
        "plt.xlabel('Hidden Units of Model')\n",
        "plt.ylabel('Test Accuracy')\n",
        "plt.title('NN Hidden Units vs. Model Test Accuracy')"
      ],
      "execution_count": 0,
      "outputs": [
        {
          "output_type": "execute_result",
          "data": {
            "text/plain": [
              "Text(0.5, 1.0, 'NN Hidden Units vs. Model Test Accuracy')"
            ]
          },
          "metadata": {
            "tags": []
          },
          "execution_count": 31
        },
        {
          "output_type": "display_data",
          "data": {
            "image/png": "[encoded data removed]",
            "text/plain": [
              "<Figure size 648x648 with 1 Axes>"
            ]
          },
          "metadata": {
            "tags": []
          }
        }
      ]
    },
    {
      "cell_type": "code",
      "metadata": {
        "id": "qlQZSCAjZoxC",
        "colab_type": "code",
        "colab": {}
      },
      "source": [
        "_# Save as a CSV\n",
        "df = pd.DataFrame({'Hidden Units':x_axis, 'SP LP Objective Values':objectives})\n",
        "df.head(5)\n",
        "df.to_csv('/content/drive/My Drive/colab/fairness_checking/sp_unit_models.csv')"
      ],
      "execution_count": 0,
      "outputs": []
    }
  ]
}