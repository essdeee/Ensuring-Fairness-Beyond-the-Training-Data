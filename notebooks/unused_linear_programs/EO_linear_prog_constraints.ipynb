{
  "nbformat": 4,
  "nbformat_minor": 0,
  "metadata": {
    "colab": {
      "name": "EO_linear_prog_constraints.ipynb",
      "provenance": [],
      "collapsed_sections": [],
      "toc_visible": true
    },
    "language_info": {
      "codemirror_mode": {
        "name": "ipython",
        "version": 3
      },
      "file_extension": ".py",
      "mimetype": "text/x-python",
      "name": "python",
      "nbconvert_exporter": "python",
      "pygments_lexer": "ipython3",
      "version": "3.7.1"
    },
    "kernelspec": {
      "display_name": "Python 3",
      "language": "python",
      "name": "python3"
    }
  },
  "cells": [
    {
      "cell_type": "markdown",
      "metadata": {
        "id": "VYEUJK2JDiTS",
        "colab_type": "text"
      },
      "source": [
        "# Fairness Checking: Equalized Odds Constraint Experiment\n",
        "This notebook uses PuLP to solve the linear program outlined in the \"Fairness Checking\" document. Here, **we experiment with varying the upper bound constraint on w and see its effects on the objective value.**"
      ]
    },
    {
      "cell_type": "code",
      "metadata": {
        "id": "AyLJZXkNDndG",
        "colab_type": "code",
        "outputId": "0828aec9-f97c-4079-88a2-8585bebeca15",
        "colab": {
          "base_uri": "https://localhost:8080/",
          "height": 224
        }
      },
      "source": [
        "!pip install pulp"
      ],
      "execution_count": 0,
      "outputs": [
        {
          "output_type": "stream",
          "text": [
            "Collecting pulp\n",
            "\u001b[?25l  Downloading https://files.pythonhosted.org/packages/2d/33/3ae6d9d2ac8c7068937af6372fd8828ac605e62a8b17106fe57110930d38/PuLP-1.6.10.zip (13.6MB)\n",
            "\u001b[K     |████████████████████████████████| 13.6MB 4.5MB/s \n",
            "\u001b[?25hRequirement already satisfied: pyparsing>=2.0.1 in /usr/local/lib/python3.6/dist-packages (from pulp) (2.4.2)\n",
            "Building wheels for collected packages: pulp\n",
            "  Building wheel for pulp (setup.py) ... \u001b[?25l\u001b[?25hdone\n",
            "  Created wheel for pulp: filename=PuLP-1.6.10-cp36-none-any.whl size=12269903 sha256=048135c68ae5114dfa4643d884143de70149ab3eaa75e510db9e18a5745eec06\n",
            "  Stored in directory: /root/.cache/pip/wheels/5e/76/77/e28b22219e46e3b4b033f02e8b36b2770ae545bdcf60c2b224\n",
            "Successfully built pulp\n",
            "Installing collected packages: pulp\n",
            "Successfully installed pulp-1.6.10\n"
          ],
          "name": "stdout"
        }
      ]
    },
    {
      "cell_type": "code",
      "metadata": {
        "id": "TYaVKaWuDiTT",
        "colab_type": "code",
        "colab": {}
      },
      "source": [
        "import pandas as pd\n",
        "import numpy as np\n",
        "import pulp\n",
        "import matplotlib.pyplot as plt"
      ],
      "execution_count": 0,
      "outputs": []
    },
    {
      "cell_type": "code",
      "metadata": {
        "id": "7nFOqCIjDj3D",
        "colab_type": "code",
        "outputId": "7d5b581c-0706-485e-8201-fc24fb89ba2f",
        "colab": {
          "base_uri": "https://localhost:8080/",
          "height": 122
        }
      },
      "source": [
        "# Run this cell to mount your Google Drive.\n",
        "from google.colab import drive\n",
        "drive.mount('/content/drive')"
      ],
      "execution_count": 0,
      "outputs": [
        {
          "output_type": "stream",
          "text": [
            "Go to this URL in a browser: https://accounts.google.com/o/oauth2/auth?client_id=947318989803-6bn6qk8qdgf4n4g3pfee6491hc0brc4i.apps.googleusercontent.com&redirect_uri=urn%3Aietf%3Awg%3Aoauth%3A2.0%3Aoob&scope=email%20https%3A%2F%2Fwww.googleapis.com%2Fauth%2Fdocs.test%20https%3A%2F%2Fwww.googleapis.com%2Fauth%2Fdrive%20https%3A%2F%2Fwww.googleapis.com%2Fauth%2Fdrive.photos.readonly%20https%3A%2F%2Fwww.googleapis.com%2Fauth%2Fpeopleapi.readonly&response_type=code\n",
            "\n",
            "Enter your authorization code:\n",
            "··········\n",
            "Mounted at /content/drive\n"
          ],
          "name": "stdout"
        }
      ]
    },
    {
      "cell_type": "markdown",
      "metadata": {
        "id": "id0PTMTBDiTV",
        "colab_type": "text"
      },
      "source": [
        "## Import Predicted Data\n",
        "We take A (the protected attribute) to be the 'race' variable, and a = 0 while a' = 1. The last column, 'prediction,' is our f(X) variable, which can either be 0 or 1."
      ]
    },
    {
      "cell_type": "code",
      "metadata": {
        "id": "EaDU5FwHDiTW",
        "colab_type": "code",
        "colab": {}
      },
      "source": [
        "df = pd.read_csv('/content/drive/My Drive/colab/fairness_checking/predicted_dataset_scores.csv')"
      ],
      "execution_count": 0,
      "outputs": []
    },
    {
      "cell_type": "code",
      "metadata": {
        "id": "3D-WDPLsDiTY",
        "colab_type": "code",
        "outputId": "b8ec1cdc-e070-4f7f-bf86-05c73fe9bdfe",
        "colab": {
          "base_uri": "https://localhost:8080/",
          "height": 241
        }
      },
      "source": [
        "df.head(5)"
      ],
      "execution_count": 0,
      "outputs": [
        {
          "output_type": "execute_result",
          "data": {
            "text/html": [
              "<div>\n",
              "<style scoped>\n",
              "    .dataframe tbody tr th:only-of-type {\n",
              "        vertical-align: middle;\n",
              "    }\n",
              "\n",
              "    .dataframe tbody tr th {\n",
              "        vertical-align: top;\n",
              "    }\n",
              "\n",
              "    .dataframe thead th {\n",
              "        text-align: right;\n",
              "    }\n",
              "</style>\n",
              "<table border=\"1\" class=\"dataframe\">\n",
              "  <thead>\n",
              "    <tr style=\"text-align: right;\">\n",
              "      <th></th>\n",
              "      <th>Unnamed: 0</th>\n",
              "      <th>Unnamed: 0.1</th>\n",
              "      <th>sex</th>\n",
              "      <th>age</th>\n",
              "      <th>race</th>\n",
              "      <th>juv_fel_count</th>\n",
              "      <th>juv_misd_count</th>\n",
              "      <th>juv_other_count</th>\n",
              "      <th>priors_count</th>\n",
              "      <th>two_year_recid</th>\n",
              "      <th>c_charge_degree_F</th>\n",
              "      <th>c_charge_degree_M</th>\n",
              "      <th>risk_recid</th>\n",
              "      <th>prediction_probs</th>\n",
              "      <th>prediction</th>\n",
              "    </tr>\n",
              "  </thead>\n",
              "  <tbody>\n",
              "    <tr>\n",
              "      <th>0</th>\n",
              "      <td>3</td>\n",
              "      <td>0.000693</td>\n",
              "      <td>1.0</td>\n",
              "      <td>0.333333</td>\n",
              "      <td>0.0</td>\n",
              "      <td>0.0</td>\n",
              "      <td>0.0</td>\n",
              "      <td>0.0</td>\n",
              "      <td>0.000000</td>\n",
              "      <td>0.0</td>\n",
              "      <td>0.0</td>\n",
              "      <td>1.0</td>\n",
              "      <td>0.0</td>\n",
              "      <td>0.033978</td>\n",
              "      <td>0</td>\n",
              "    </tr>\n",
              "    <tr>\n",
              "      <th>1</th>\n",
              "      <td>4</td>\n",
              "      <td>0.000832</td>\n",
              "      <td>1.0</td>\n",
              "      <td>0.294872</td>\n",
              "      <td>0.0</td>\n",
              "      <td>0.0</td>\n",
              "      <td>0.0</td>\n",
              "      <td>0.0</td>\n",
              "      <td>0.368421</td>\n",
              "      <td>1.0</td>\n",
              "      <td>1.0</td>\n",
              "      <td>0.0</td>\n",
              "      <td>1.0</td>\n",
              "      <td>0.822667</td>\n",
              "      <td>1</td>\n",
              "    </tr>\n",
              "    <tr>\n",
              "      <th>2</th>\n",
              "      <td>5</td>\n",
              "      <td>0.000970</td>\n",
              "      <td>1.0</td>\n",
              "      <td>0.320513</td>\n",
              "      <td>0.0</td>\n",
              "      <td>0.0</td>\n",
              "      <td>0.0</td>\n",
              "      <td>0.0</td>\n",
              "      <td>0.078947</td>\n",
              "      <td>0.0</td>\n",
              "      <td>1.0</td>\n",
              "      <td>0.0</td>\n",
              "      <td>0.0</td>\n",
              "      <td>0.223569</td>\n",
              "      <td>0</td>\n",
              "    </tr>\n",
              "    <tr>\n",
              "      <th>3</th>\n",
              "      <td>9</td>\n",
              "      <td>0.001664</td>\n",
              "      <td>0.0</td>\n",
              "      <td>0.243590</td>\n",
              "      <td>0.0</td>\n",
              "      <td>0.0</td>\n",
              "      <td>0.0</td>\n",
              "      <td>0.0</td>\n",
              "      <td>0.000000</td>\n",
              "      <td>0.0</td>\n",
              "      <td>0.0</td>\n",
              "      <td>1.0</td>\n",
              "      <td>0.0</td>\n",
              "      <td>0.069368</td>\n",
              "      <td>0</td>\n",
              "    </tr>\n",
              "    <tr>\n",
              "      <th>4</th>\n",
              "      <td>16</td>\n",
              "      <td>0.002634</td>\n",
              "      <td>1.0</td>\n",
              "      <td>0.166667</td>\n",
              "      <td>0.0</td>\n",
              "      <td>0.0</td>\n",
              "      <td>0.0</td>\n",
              "      <td>0.0</td>\n",
              "      <td>0.131579</td>\n",
              "      <td>1.0</td>\n",
              "      <td>1.0</td>\n",
              "      <td>0.0</td>\n",
              "      <td>0.0</td>\n",
              "      <td>0.686681</td>\n",
              "      <td>1</td>\n",
              "    </tr>\n",
              "  </tbody>\n",
              "</table>\n",
              "</div>"
            ],
            "text/plain": [
              "   Unnamed: 0  Unnamed: 0.1  sex  ...  risk_recid  prediction_probs  prediction\n",
              "0           3      0.000693  1.0  ...         0.0          0.033978           0\n",
              "1           4      0.000832  1.0  ...         1.0          0.822667           1\n",
              "2           5      0.000970  1.0  ...         0.0          0.223569           0\n",
              "3           9      0.001664  0.0  ...         0.0          0.069368           0\n",
              "4          16      0.002634  1.0  ...         0.0          0.686681           1\n",
              "\n",
              "[5 rows x 15 columns]"
            ]
          },
          "metadata": {
            "tags": []
          },
          "execution_count": 5
        }
      ]
    },
    {
      "cell_type": "code",
      "metadata": {
        "id": "MpNdzoAm6up6",
        "colab_type": "code",
        "outputId": "74223bce-0835-4b05-8450-8491421ae97e",
        "colab": {
          "base_uri": "https://localhost:8080/",
          "height": 34
        }
      },
      "source": [
        "len(df)"
      ],
      "execution_count": 0,
      "outputs": [
        {
          "output_type": "execute_result",
          "data": {
            "text/plain": [
              "1232"
            ]
          },
          "metadata": {
            "tags": []
          },
          "execution_count": 6
        }
      ]
    },
    {
      "cell_type": "code",
      "metadata": {
        "id": "IvLHi63FDiTb",
        "colab_type": "code",
        "colab": {}
      },
      "source": [
        "# Our protected variable A is race, and a = 0 or a = 1. \n",
        "a = df['race']\n",
        "np.asarray(a)\n",
        "a_0_indices = []\n",
        "a_1_indices = []\n",
        "\n",
        "for i in range(len(a)):\n",
        "    if a[i] == 0:\n",
        "        a_0_indices.append(i)\n",
        "    elif a[i] == 1:\n",
        "        a_1_indices.append(i)"
      ],
      "execution_count": 0,
      "outputs": []
    },
    {
      "cell_type": "code",
      "metadata": {
        "id": "YK_XtVtFTlRs",
        "colab_type": "code",
        "colab": {}
      },
      "source": [
        "# Our true label Y is risk_recid, and y = 0 or y = 1. \n",
        "y = df['risk_recid']\n",
        "np.asarray(y)\n",
        "y_0_indices = []\n",
        "y_1_indices = []\n",
        "\n",
        "for i in range(len(y)):\n",
        "    if y[i] == 0:\n",
        "        y_0_indices.append(i)\n",
        "    elif y[i] == 1:\n",
        "        y_1_indices.append(i)"
      ],
      "execution_count": 0,
      "outputs": []
    },
    {
      "cell_type": "code",
      "metadata": {
        "id": "o7dDcSX7UtH1",
        "colab_type": "code",
        "colab": {}
      },
      "source": [
        "# Find the intersection of indices lists to make the pi's\n",
        "a_0 = set(a_0_indices)\n",
        "a_1 = set(a_1_indices)\n",
        "y_0 = set(y_0_indices)\n",
        "y_1 = set(y_1_indices)\n",
        "\n",
        "a0_y0 = a_0.intersection(y_0) \n",
        "a0_y1 = a_0.intersection(y_1)\n",
        "a1_y0 = a_1.intersection(y_0)\n",
        "a1_y1 = a_1.intersection(y_1)"
      ],
      "execution_count": 0,
      "outputs": []
    },
    {
      "cell_type": "code",
      "metadata": {
        "id": "f_wZ_LCaVTBu",
        "colab_type": "code",
        "outputId": "b5ad26e8-c323-4ab0-8fce-3ddffb0292ee",
        "colab": {
          "base_uri": "https://localhost:8080/",
          "height": 85
        }
      },
      "source": [
        "# Sanity check\n",
        "print(len(a_0))\n",
        "print(len(a0_y1) + len(a0_y0))\n",
        "print(len(a_1))\n",
        "print(len(a1_y1) + len(a1_y0))"
      ],
      "execution_count": 0,
      "outputs": [
        {
          "output_type": "stream",
          "text": [
            "609\n",
            "609\n",
            "623\n",
            "623\n"
          ],
          "name": "stdout"
        }
      ]
    },
    {
      "cell_type": "code",
      "metadata": {
        "id": "ARsmRic1DiTi",
        "colab_type": "code",
        "colab": {}
      },
      "source": [
        "# Our pi variables, pi_a_y are simply the proportions where we have A = a, Y = y\n",
        "pi_0_0 = float(len(a0_y0))/(len(a_0_indices) + len(a_1_indices))\n",
        "pi_0_1 = float(len(a0_y1))/(len(a_0_indices) + len(a_1_indices))\n",
        "pi_1_0 = float(len(a1_y0))/(len(a_0_indices) + len(a_1_indices))\n",
        "pi_1_1 = float(len(a1_y1))/(len(a_0_indices) + len(a_1_indices))"
      ],
      "execution_count": 0,
      "outputs": []
    },
    {
      "cell_type": "code",
      "metadata": {
        "id": "ggsCMcr5DiTk",
        "colab_type": "code",
        "outputId": "f7492c17-7f6a-4cfb-d4ed-389c02ae5b81",
        "colab": {
          "base_uri": "https://localhost:8080/",
          "height": 85
        }
      },
      "source": [
        "print(pi_0_0)\n",
        "print(pi_0_1)\n",
        "print(pi_1_0)\n",
        "print(pi_1_1)"
      ],
      "execution_count": 0,
      "outputs": [
        {
          "output_type": "stream",
          "text": [
            "0.35064935064935066\n",
            "0.14366883116883117\n",
            "0.20454545454545456\n",
            "0.30113636363636365\n"
          ],
          "name": "stdout"
        }
      ]
    },
    {
      "cell_type": "code",
      "metadata": {
        "id": "w5PbdhJ5DiTn",
        "colab_type": "code",
        "outputId": "b7f729fe-7cb4-446d-fe74-22f2fe66477c",
        "colab": {
          "base_uri": "https://localhost:8080/",
          "height": 51
        }
      },
      "source": [
        "# Our prediction probability is under 'prediction_probs.' Notice that we use the \n",
        "# actual probability of the label, not the label itself.\n",
        "f_X = df['prediction_probs']\n",
        "np.asarray(f_X)"
      ],
      "execution_count": 0,
      "outputs": [
        {
          "output_type": "execute_result",
          "data": {
            "text/plain": [
              "array([0.03397822, 0.8226671 , 0.22356904, ..., 0.9929936 , 0.3862658 ,\n",
              "       0.35257342])"
            ]
          },
          "metadata": {
            "tags": []
          },
          "execution_count": 13
        }
      ]
    },
    {
      "cell_type": "code",
      "metadata": {
        "id": "f66NgcN8FLnM",
        "colab_type": "code",
        "outputId": "b0153a85-a725-4289-ee48-bdd85603a263",
        "colab": {
          "base_uri": "https://localhost:8080/",
          "height": 51
        }
      },
      "source": [
        "# Check if the dimensions match\n",
        "print(len(f_X))\n",
        "print(len(a0_y1) + len(a0_y0) + len(a1_y1) + len(a1_y0))"
      ],
      "execution_count": 0,
      "outputs": [
        {
          "output_type": "stream",
          "text": [
            "1232\n",
            "1232\n"
          ],
          "name": "stdout"
        }
      ]
    },
    {
      "cell_type": "markdown",
      "metadata": {
        "id": "3WyqW_D6Q13G",
        "colab_type": "text"
      },
      "source": [
        "## Linear Program Function\n",
        "Create a reusable function for each linear program.\n",
        "\n",
        "The argument constraint is the constraint we want to set on the w's. This should be between 0 and 1.\n",
        "\n",
        "The argument y_value should be Y = 0 or Y = 1, depending on which Y value we want to test EO on. "
      ]
    },
    {
      "cell_type": "code",
      "metadata": {
        "id": "m-ARuyffRCMt",
        "colab_type": "code",
        "colab": {}
      },
      "source": [
        "# Input: function f(X), constraint, y_value (either 0 or 1)\n",
        "# Output: (solved) model, weights\n",
        "def EO_linear_prog(f_X, constraint, y_value):\n",
        "  # Make sure constraint is within bounds\n",
        "  assert(0 < constraint < 1)\n",
        "\n",
        "  if(y_value != 0 and y_value != 1):\n",
        "    return(\"Please enter 0 or 1 for the second argument (y_value).\")\n",
        "  \n",
        "  # Define the linear program as a maximization problem\n",
        "  model = pulp.LpProblem(\"Equalized Odds Fairness Checking\", pulp.LpMaximize)\n",
        "  \n",
        "  # Our w variable in the objective\n",
        "  # Lower bound constraint set here with lowBound=0 option\n",
        "  w = pulp.LpVariable.dicts(\"w\", (i for i in range(len(f_X))),lowBound=0, cat='Continuous')\n",
        "  \n",
        "  if(y_value == 0):\n",
        "    # Objective Function\n",
        "    model += pulp.lpSum(\n",
        "      [(1./pi_0_0) * w[index] * f_X[index] for index in a0_y0] +\n",
        "      [- (1./pi_1_0) * w[index] * f_X[index] for index in a1_y0])\n",
        "    \n",
        "    # Constraint that the \\sum(w_i * 1{a = 0, y = 0}) = pi_0_0\n",
        "    model += pulp.lpSum([w[index] for index in a0_y0]) == pi_0_0\n",
        "    \n",
        "    # Constraint that the \\sum(w_i * 1{a = 0, y = 1}) = pi_0_1\n",
        "    model += pulp.lpSum([w[index] for index in a1_y0]) == pi_1_0\n",
        "    \n",
        "  elif(y_value == 1):\n",
        "    # Objective Function\n",
        "    model += pulp.lpSum(\n",
        "        [(1./pi_0_1) * w[index] * f_X[index] for index in a0_y1] +\n",
        "        [- (1./pi_1_1) * w[index] * f_X[index] for index in a1_y1])\n",
        "    \n",
        "    # Constraint that the \\sum(w_i * 1{a = 0, y = 1}) = pi_0_1\n",
        "    model += pulp.lpSum([w[index] for index in a0_y1]) == pi_0_1\n",
        "    \n",
        "    # Constraint that the \\sum(w_i * 1{a = 1, y = 1}) = pi_0_1\n",
        "    model += pulp.lpSum([w[index] for index in a1_y1]) == pi_1_1\n",
        "  \n",
        "  # Constraint that the w's all sum to 1\n",
        "  model += pulp.lpSum([w[i] for i in range(len(f_X))]) == 1\n",
        "\n",
        "  # IMPORTANT: Constraint we set on the w's. Experiment with this\n",
        "  for weight in w:\n",
        "    model += w[weight] <= constraint\n",
        "  \n",
        "  # Solve the linear program\n",
        "  model.solve()\n",
        "  \n",
        "  return model, w\n",
        "\n",
        "# Get the results\n",
        "def weights_dictionary(w):\n",
        "  results_dict = dict()\n",
        "  for i in range(len(f_X)):\n",
        "    results_dict[i] = w[i].varValue\n",
        "  return results_dict"
      ],
      "execution_count": 0,
      "outputs": []
    },
    {
      "cell_type": "markdown",
      "metadata": {
        "id": "oRPqsRrIDiTp",
        "colab_type": "text"
      },
      "source": [
        "## Experiment with Linear Program (Y = 0)\n",
        "We use the PuLP package to solve our linear program. Iterate over 99 constraints (from 0.01 to 0.99) and see how that affects the objective value. "
      ]
    },
    {
      "cell_type": "code",
      "metadata": {
        "id": "7AUPEl91DiUE",
        "colab_type": "code",
        "colab": {}
      },
      "source": [
        "constraint_granule = 0.01\n",
        "constraints = []\n",
        "y0_objective_values = []\n",
        "\n",
        "# Iterate over constraints\n",
        "for i in range(1, 100):\n",
        "  model, weights = EO_linear_prog(f_X, constraint_granule * i, 0)\n",
        "  y0_objective_values.append(pulp.value(model.objective))\n",
        "  constraints.append(constraint_granule * i)"
      ],
      "execution_count": 0,
      "outputs": []
    },
    {
      "cell_type": "code",
      "metadata": {
        "id": "Xi_v9x66SZM8",
        "colab_type": "code",
        "outputId": "82c6be1e-58c1-43c6-c9e0-6894bb31fbed",
        "colab": {
          "base_uri": "https://localhost:8080/",
          "height": 584
        }
      },
      "source": [
        "# Plot the constraints vs. objective values\n",
        "plt.figure(figsize=(9,9))\n",
        "plt.plot(constraints, y0_objective_values, 'orange')\n",
        "plt.xlabel('Constraint on w')\n",
        "plt.ylabel('LP Objective Value')\n",
        "plt.title('Upper Bound Constraint on w vs. EO LP Objective Value (Y = 0)')"
      ],
      "execution_count": 0,
      "outputs": [
        {
          "output_type": "execute_result",
          "data": {
            "text/plain": [
              "Text(0.5, 1.0, 'Upper Bound Constraint on w vs. EO LP Objective Value (Y = 0)')"
            ]
          },
          "metadata": {
            "tags": []
          },
          "execution_count": 17
        },
        {
          "output_type": "display_data",
          "data": {
            "image/png": "[encoded data removed]",
            "text/plain": [
              "<Figure size 648x648 with 1 Axes>"
            ]
          },
          "metadata": {
            "tags": []
          }
        }
      ]
    },
    {
      "cell_type": "markdown",
      "metadata": {
        "id": "5jv0qtaPWulw",
        "colab_type": "text"
      },
      "source": [
        "## Experiment with Linear Program (Y = 1)\n",
        "We use the PuLP package to create our linear program. Iterate over 99 constraints (from 0.01 to 0.99) and see how that affects the objective value. "
      ]
    },
    {
      "cell_type": "code",
      "metadata": {
        "id": "BUdomshxXk_l",
        "colab_type": "code",
        "colab": {}
      },
      "source": [
        "constraint_granule = 0.01\n",
        "constraints = []\n",
        "y1_objective_values = []\n",
        "\n",
        "# Iterate over constraints\n",
        "for i in range(1, 100):\n",
        "  model, weights = EO_linear_prog(f_X, constraint_granule * i, 1)\n",
        "  y1_objective_values.append(pulp.value(model.objective))\n",
        "  constraints.append(constraint_granule * i)"
      ],
      "execution_count": 0,
      "outputs": []
    },
    {
      "cell_type": "code",
      "metadata": {
        "id": "86k_oLdvSv--",
        "colab_type": "code",
        "outputId": "de9bfa17-8411-4e0d-c507-2c3af794f12c",
        "colab": {
          "base_uri": "https://localhost:8080/",
          "height": 584
        }
      },
      "source": [
        "# Plot the constraints vs. objective values\n",
        "plt.figure(figsize=(9,9))\n",
        "plt.plot(constraints, y1_objective_values, 'blue')\n",
        "plt.xlabel('Constraint on w')\n",
        "plt.ylabel('LP Objective Value')\n",
        "plt.title('Upper Bound Constraint on w vs. EO LP Objective Value (Y = 1)')"
      ],
      "execution_count": 0,
      "outputs": [
        {
          "output_type": "execute_result",
          "data": {
            "text/plain": [
              "Text(0.5, 1.0, 'Upper Bound Constraint on w vs. EO LP Objective Value (Y = 1)')"
            ]
          },
          "metadata": {
            "tags": []
          },
          "execution_count": 19
        },
        {
          "output_type": "display_data",
          "data": {
            "image/png": "[encoded data removed]",
            "text/plain": [
              "<Figure size 648x648 with 1 Axes>"
            ]
          },
          "metadata": {
            "tags": []
          }
        }
      ]
    },
    {
      "cell_type": "markdown",
      "metadata": {
        "id": "lckWmq4bS3gX",
        "colab_type": "text"
      },
      "source": [
        "## Plot Y = 0 and Y = 1 Together"
      ]
    },
    {
      "cell_type": "code",
      "metadata": {
        "id": "jL0Z_wlHS2Oq",
        "colab_type": "code",
        "outputId": "aa9515ee-7e42-4648-9822-702772bf6fb0",
        "colab": {
          "base_uri": "https://localhost:8080/",
          "height": 584
        }
      },
      "source": [
        "# Plot the constraints vs. objective values\n",
        "plt.figure(figsize=(9,9))\n",
        "plt.plot(constraints, y0_objective_values, 'orange')\n",
        "plt.plot(constraints, y1_objective_values, 'blue')\n",
        "plt.xlabel('Constraint on w')\n",
        "plt.ylabel('LP Objective Value')\n",
        "plt.title('Upper Bound Constraint on w vs. EO LP Objective Value')"
      ],
      "execution_count": 0,
      "outputs": [
        {
          "output_type": "execute_result",
          "data": {
            "text/plain": [
              "Text(0.5, 1.0, 'Upper Bound Constraint on w vs. EO LP Objective Value')"
            ]
          },
          "metadata": {
            "tags": []
          },
          "execution_count": 20
        },
        {
          "output_type": "display_data",
          "data": {
            "image/png": "[encoded data removed]",
            "text/plain": [
              "<Figure size 648x648 with 1 Axes>"
            ]
          },
          "metadata": {
            "tags": []
          }
        }
      ]
    },
    {
      "cell_type": "code",
      "metadata": {
        "id": "unI2dNQOWBVm",
        "colab_type": "code",
        "outputId": "005a6c6c-8f74-4ab2-ea00-2f4e56f1ebf2",
        "colab": {
          "base_uri": "https://localhost:8080/",
          "height": 204
        }
      },
      "source": [
        "# Save as a CSV\n",
        "df = pd.DataFrame({'Constraints':constraints, 'EO LP Objective Values (Y = 0)':y0_objective_values, 'EO LP Objective Values (Y = 1)':y1_objective_values})\n",
        "df.head(5)"
      ],
      "execution_count": 0,
      "outputs": [
        {
          "output_type": "execute_result",
          "data": {
            "text/html": [
              "<div>\n",
              "<style scoped>\n",
              "    .dataframe tbody tr th:only-of-type {\n",
              "        vertical-align: middle;\n",
              "    }\n",
              "\n",
              "    .dataframe tbody tr th {\n",
              "        vertical-align: top;\n",
              "    }\n",
              "\n",
              "    .dataframe thead th {\n",
              "        text-align: right;\n",
              "    }\n",
              "</style>\n",
              "<table border=\"1\" class=\"dataframe\">\n",
              "  <thead>\n",
              "    <tr style=\"text-align: right;\">\n",
              "      <th></th>\n",
              "      <th>Constraints</th>\n",
              "      <th>EO LP Objective Values (Y = 0)</th>\n",
              "      <th>EO LP Objective Values (Y = 1)</th>\n",
              "    </tr>\n",
              "  </thead>\n",
              "  <tbody>\n",
              "    <tr>\n",
              "      <th>0</th>\n",
              "      <td>0.01</td>\n",
              "      <td>0.531486</td>\n",
              "      <td>0.727811</td>\n",
              "    </tr>\n",
              "    <tr>\n",
              "      <th>1</th>\n",
              "      <td>0.02</td>\n",
              "      <td>0.642378</td>\n",
              "      <td>0.797789</td>\n",
              "    </tr>\n",
              "    <tr>\n",
              "      <th>2</th>\n",
              "      <td>0.03</td>\n",
              "      <td>0.706092</td>\n",
              "      <td>0.826327</td>\n",
              "    </tr>\n",
              "    <tr>\n",
              "      <th>3</th>\n",
              "      <td>0.04</td>\n",
              "      <td>0.752133</td>\n",
              "      <td>0.840648</td>\n",
              "    </tr>\n",
              "    <tr>\n",
              "      <th>4</th>\n",
              "      <td>0.05</td>\n",
              "      <td>0.787948</td>\n",
              "      <td>0.849914</td>\n",
              "    </tr>\n",
              "  </tbody>\n",
              "</table>\n",
              "</div>"
            ],
            "text/plain": [
              "   Constraints  EO LP Objective Values (Y = 0)  EO LP Objective Values (Y = 1)\n",
              "0         0.01                        0.531486                        0.727811\n",
              "1         0.02                        0.642378                        0.797789\n",
              "2         0.03                        0.706092                        0.826327\n",
              "3         0.04                        0.752133                        0.840648\n",
              "4         0.05                        0.787948                        0.849914"
            ]
          },
          "metadata": {
            "tags": []
          },
          "execution_count": 21
        }
      ]
    },
    {
      "cell_type": "code",
      "metadata": {
        "id": "t3fb2kmlWDKp",
        "colab_type": "code",
        "colab": {}
      },
      "source": [
        "df.to_csv('/content/drive/My Drive/colab/fairness_checking/eo_100_constraints.csv')"
      ],
      "execution_count": 0,
      "outputs": []
    }
  ]
}