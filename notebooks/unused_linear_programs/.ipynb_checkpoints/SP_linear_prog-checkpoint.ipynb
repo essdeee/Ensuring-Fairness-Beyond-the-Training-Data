{
  "nbformat": 4,
  "nbformat_minor": 0,
  "metadata": {
    "colab": {
      "name": "SP_linear_prog.ipynb",
      "provenance": [],
      "collapsed_sections": []
    },
    "language_info": {
      "codemirror_mode": {
        "name": "ipython",
        "version": 3
      },
      "file_extension": ".py",
      "mimetype": "text/x-python",
      "name": "python",
      "nbconvert_exporter": "python",
      "pygments_lexer": "ipython3",
      "version": "3.7.1"
    },
    "kernelspec": {
      "display_name": "Python 3",
      "language": "python",
      "name": "python3"
    }
  },
  "cells": [
    {
      "cell_type": "markdown",
      "metadata": {
        "id": "VYEUJK2JDiTS",
        "colab_type": "text"
      },
      "source": [
        "# Fairness Checking: Linear Program (Statistical Parity)\n",
        "This notebook uses PuLP to solve the linear program outlined in the \"Fairness Checking\" document. "
      ]
    },
    {
      "cell_type": "code",
      "metadata": {
        "id": "AyLJZXkNDndG",
        "colab_type": "code",
        "outputId": "41022381-c96d-43da-ba70-a40d249e3e2d",
        "colab": {
          "base_uri": "https://localhost:8080/",
          "height": 51
        }
      },
      "source": [
        "!pip install pulp"
      ],
      "execution_count": 0,
      "outputs": [
        {
          "output_type": "stream",
          "text": [
            "Requirement already satisfied: pulp in /usr/local/lib/python3.6/dist-packages (1.6.10)\n",
            "Requirement already satisfied: pyparsing>=2.0.1 in /usr/local/lib/python3.6/dist-packages (from pulp) (2.4.0)\n"
          ],
          "name": "stdout"
        }
      ]
    },
    {
      "cell_type": "code",
      "metadata": {
        "id": "TYaVKaWuDiTT",
        "colab_type": "code",
        "colab": {}
      },
      "source": [
        "import pandas as pd\n",
        "import numpy as np\n",
        "import pulp"
      ],
      "execution_count": 0,
      "outputs": []
    },
    {
      "cell_type": "code",
      "metadata": {
        "id": "7nFOqCIjDj3D",
        "colab_type": "code",
        "outputId": "127174a5-0ab7-434b-cd64-b0e3fd681d46",
        "colab": {
          "base_uri": "https://localhost:8080/",
          "height": 34
        }
      },
      "source": [
        "# Run this cell to mount your Google Drive.\n",
        "from google.colab import drive\n",
        "drive.mount('/content/drive')"
      ],
      "execution_count": 0,
      "outputs": [
        {
          "output_type": "stream",
          "text": [
            "Drive already mounted at /content/drive; to attempt to forcibly remount, call drive.mount(\"/content/drive\", force_remount=True).\n"
          ],
          "name": "stdout"
        }
      ]
    },
    {
      "cell_type": "markdown",
      "metadata": {
        "id": "id0PTMTBDiTV",
        "colab_type": "text"
      },
      "source": [
        "## Import Predicted Data\n",
        "We take A (the protected attribute) to be the 'race' variable, and a = 0 while a' = 1. The last column, 'prediction,' is our f(X) variable, which can either be 0 or 1."
      ]
    },
    {
      "cell_type": "code",
      "metadata": {
        "id": "EaDU5FwHDiTW",
        "colab_type": "code",
        "colab": {}
      },
      "source": [
        "df = pd.read_csv('/content/drive/My Drive/colab/fairness_checking/predicted_dataset_scores.csv')"
      ],
      "execution_count": 0,
      "outputs": []
    },
    {
      "cell_type": "code",
      "metadata": {
        "id": "3D-WDPLsDiTY",
        "colab_type": "code",
        "outputId": "84f211a6-8e0e-44c9-a6d1-30bb2d2f56e0",
        "colab": {
          "base_uri": "https://localhost:8080/",
          "height": 241
        }
      },
      "source": [
        "df.head(5)"
      ],
      "execution_count": 0,
      "outputs": [
        {
          "output_type": "execute_result",
          "data": {
            "text/html": [
              "<div>\n",
              "<style scoped>\n",
              "    .dataframe tbody tr th:only-of-type {\n",
              "        vertical-align: middle;\n",
              "    }\n",
              "\n",
              "    .dataframe tbody tr th {\n",
              "        vertical-align: top;\n",
              "    }\n",
              "\n",
              "    .dataframe thead th {\n",
              "        text-align: right;\n",
              "    }\n",
              "</style>\n",
              "<table border=\"1\" class=\"dataframe\">\n",
              "  <thead>\n",
              "    <tr style=\"text-align: right;\">\n",
              "      <th></th>\n",
              "      <th>Unnamed: 0</th>\n",
              "      <th>Unnamed: 0.1</th>\n",
              "      <th>sex</th>\n",
              "      <th>age</th>\n",
              "      <th>race</th>\n",
              "      <th>juv_fel_count</th>\n",
              "      <th>juv_misd_count</th>\n",
              "      <th>juv_other_count</th>\n",
              "      <th>priors_count</th>\n",
              "      <th>two_year_recid</th>\n",
              "      <th>c_charge_degree_F</th>\n",
              "      <th>c_charge_degree_M</th>\n",
              "      <th>risk_recid</th>\n",
              "      <th>prediction_probs</th>\n",
              "      <th>prediction</th>\n",
              "    </tr>\n",
              "  </thead>\n",
              "  <tbody>\n",
              "    <tr>\n",
              "      <th>0</th>\n",
              "      <td>3</td>\n",
              "      <td>0.000693</td>\n",
              "      <td>1.0</td>\n",
              "      <td>0.333333</td>\n",
              "      <td>0.0</td>\n",
              "      <td>0.0</td>\n",
              "      <td>0.0</td>\n",
              "      <td>0.0</td>\n",
              "      <td>0.000000</td>\n",
              "      <td>0.0</td>\n",
              "      <td>0.0</td>\n",
              "      <td>1.0</td>\n",
              "      <td>0.0</td>\n",
              "      <td>0.029285</td>\n",
              "      <td>0</td>\n",
              "    </tr>\n",
              "    <tr>\n",
              "      <th>1</th>\n",
              "      <td>4</td>\n",
              "      <td>0.000832</td>\n",
              "      <td>1.0</td>\n",
              "      <td>0.294872</td>\n",
              "      <td>0.0</td>\n",
              "      <td>0.0</td>\n",
              "      <td>0.0</td>\n",
              "      <td>0.0</td>\n",
              "      <td>0.368421</td>\n",
              "      <td>1.0</td>\n",
              "      <td>1.0</td>\n",
              "      <td>0.0</td>\n",
              "      <td>1.0</td>\n",
              "      <td>0.737930</td>\n",
              "      <td>1</td>\n",
              "    </tr>\n",
              "    <tr>\n",
              "      <th>2</th>\n",
              "      <td>5</td>\n",
              "      <td>0.000970</td>\n",
              "      <td>1.0</td>\n",
              "      <td>0.320513</td>\n",
              "      <td>0.0</td>\n",
              "      <td>0.0</td>\n",
              "      <td>0.0</td>\n",
              "      <td>0.0</td>\n",
              "      <td>0.078947</td>\n",
              "      <td>0.0</td>\n",
              "      <td>1.0</td>\n",
              "      <td>0.0</td>\n",
              "      <td>0.0</td>\n",
              "      <td>0.169010</td>\n",
              "      <td>0</td>\n",
              "    </tr>\n",
              "    <tr>\n",
              "      <th>3</th>\n",
              "      <td>9</td>\n",
              "      <td>0.001664</td>\n",
              "      <td>0.0</td>\n",
              "      <td>0.243590</td>\n",
              "      <td>0.0</td>\n",
              "      <td>0.0</td>\n",
              "      <td>0.0</td>\n",
              "      <td>0.0</td>\n",
              "      <td>0.000000</td>\n",
              "      <td>0.0</td>\n",
              "      <td>0.0</td>\n",
              "      <td>1.0</td>\n",
              "      <td>0.0</td>\n",
              "      <td>0.057516</td>\n",
              "      <td>0</td>\n",
              "    </tr>\n",
              "    <tr>\n",
              "      <th>4</th>\n",
              "      <td>16</td>\n",
              "      <td>0.002634</td>\n",
              "      <td>1.0</td>\n",
              "      <td>0.166667</td>\n",
              "      <td>0.0</td>\n",
              "      <td>0.0</td>\n",
              "      <td>0.0</td>\n",
              "      <td>0.0</td>\n",
              "      <td>0.131579</td>\n",
              "      <td>1.0</td>\n",
              "      <td>1.0</td>\n",
              "      <td>0.0</td>\n",
              "      <td>0.0</td>\n",
              "      <td>0.623609</td>\n",
              "      <td>1</td>\n",
              "    </tr>\n",
              "  </tbody>\n",
              "</table>\n",
              "</div>"
            ],
            "text/plain": [
              "   Unnamed: 0  Unnamed: 0.1  sex  ...  risk_recid  prediction_probs  prediction\n",
              "0           3      0.000693  1.0  ...         0.0          0.029285           0\n",
              "1           4      0.000832  1.0  ...         1.0          0.737930           1\n",
              "2           5      0.000970  1.0  ...         0.0          0.169010           0\n",
              "3           9      0.001664  0.0  ...         0.0          0.057516           0\n",
              "4          16      0.002634  1.0  ...         0.0          0.623609           1\n",
              "\n",
              "[5 rows x 15 columns]"
            ]
          },
          "metadata": {
            "tags": []
          },
          "execution_count": 5
        }
      ]
    },
    {
      "cell_type": "code",
      "metadata": {
        "id": "IvLHi63FDiTb",
        "colab_type": "code",
        "colab": {}
      },
      "source": [
        "# Our protected variable A is race, and a = 0 or a = 1. \n",
        "a = df['race']\n",
        "np.asarray(a)\n",
        "a_0_indices = []\n",
        "a_1_indices = []\n",
        "\n",
        "for i in range(len(a)):\n",
        "    if a[i] == 0:\n",
        "        a_0_indices.append(i)\n",
        "    elif a[i] == 1:\n",
        "        a_1_indices.append(i)"
      ],
      "execution_count": 0,
      "outputs": []
    },
    {
      "cell_type": "code",
      "metadata": {
        "id": "ARsmRic1DiTi",
        "colab_type": "code",
        "colab": {}
      },
      "source": [
        "# Our pi variables are simply the proportions of a_0 or a_1 \n",
        "pi_0 = float(len(a_0_indices))/(len(a_0_indices) + len(a_1_indices))\n",
        "pi_1 = float(len(a_1_indices))/(len(a_0_indices) + len(a_1_indices))"
      ],
      "execution_count": 0,
      "outputs": []
    },
    {
      "cell_type": "code",
      "metadata": {
        "id": "ggsCMcr5DiTk",
        "colab_type": "code",
        "outputId": "acc936fb-412b-4488-9a73-88a08eba151e",
        "colab": {
          "base_uri": "https://localhost:8080/",
          "height": 51
        }
      },
      "source": [
        "print(pi_0)\n",
        "print(pi_1)"
      ],
      "execution_count": 0,
      "outputs": [
        {
          "output_type": "stream",
          "text": [
            "0.4943181818181818\n",
            "0.5056818181818182\n"
          ],
          "name": "stdout"
        }
      ]
    },
    {
      "cell_type": "code",
      "metadata": {
        "id": "w5PbdhJ5DiTn",
        "colab_type": "code",
        "outputId": "7c801bb8-0ce3-4ba5-b01c-f73bcb83f175",
        "colab": {
          "base_uri": "https://localhost:8080/",
          "height": 51
        }
      },
      "source": [
        "# Our prediction probability is under 'prediction_probs.' Notice that we use the \n",
        "# actual probability of the label, not the label itself.\n",
        "f_X = df['prediction_probs']\n",
        "np.asarray(f_X)"
      ],
      "execution_count": 0,
      "outputs": [
        {
          "output_type": "execute_result",
          "data": {
            "text/plain": [
              "array([0.02928513, 0.7379298 , 0.1690098 , ..., 0.99888   , 0.47041905,\n",
              "       0.53738034])"
            ]
          },
          "metadata": {
            "tags": []
          },
          "execution_count": 9
        }
      ]
    },
    {
      "cell_type": "code",
      "metadata": {
        "id": "f66NgcN8FLnM",
        "colab_type": "code",
        "outputId": "7ff0e073-dc96-4020-897d-33128eddc6fe",
        "colab": {
          "base_uri": "https://localhost:8080/",
          "height": 51
        }
      },
      "source": [
        "# Check if the dimensions match\n",
        "print(len(f_X))\n",
        "print(len(a_0_indices) + (len(a_1_indices)))"
      ],
      "execution_count": 0,
      "outputs": [
        {
          "output_type": "stream",
          "text": [
            "1232\n",
            "1232\n"
          ],
          "name": "stdout"
        }
      ]
    },
    {
      "cell_type": "markdown",
      "metadata": {
        "id": "oRPqsRrIDiTp",
        "colab_type": "text"
      },
      "source": [
        "## Create Linear Program\n",
        "We use the PuLP package to create our linear program."
      ]
    },
    {
      "cell_type": "code",
      "metadata": {
        "id": "ogpKnoWJFYpU",
        "colab_type": "code",
        "colab": {}
      },
      "source": [
        "# Define the linear program as a maximization problem\n",
        "model = pulp.LpProblem(\"Statistical Parity Fairness Checking\", pulp.LpMaximize)"
      ],
      "execution_count": 0,
      "outputs": []
    },
    {
      "cell_type": "code",
      "metadata": {
        "id": "X9IP8W18DiTq",
        "colab_type": "code",
        "colab": {}
      },
      "source": [
        "# Our w variable in the objective\n",
        "# Lower bound constraint set here with lowBound=0 option\n",
        "w = pulp.LpVariable.dicts(\"w\", (i for i in range(len(f_X))),lowBound=0, cat='Continuous')"
      ],
      "execution_count": 0,
      "outputs": []
    },
    {
      "cell_type": "code",
      "metadata": {
        "id": "kCxbeAKBDiTu",
        "colab_type": "code",
        "colab": {}
      },
      "source": [
        "# Objective Function\n",
        "model += pulp.lpSum(\n",
        "    [(1./pi_0) * w[index] * f_X[index] for index in a_0_indices] +\n",
        "    [- (1./pi_1) * w[index] * f_X[index] for index in a_1_indices]\n",
        ")"
      ],
      "execution_count": 0,
      "outputs": []
    },
    {
      "cell_type": "code",
      "metadata": {
        "id": "v9zoITrlDiTw",
        "colab_type": "code",
        "colab": {}
      },
      "source": [
        "# Constraint that the \\sum(w_i * 1{a = 0}) = pi_0\n",
        "model += pulp.lpSum([w[index] for index in a_0_indices]) == pi_0"
      ],
      "execution_count": 0,
      "outputs": []
    },
    {
      "cell_type": "code",
      "metadata": {
        "id": "orsB8nKfDiTy",
        "colab_type": "code",
        "colab": {}
      },
      "source": [
        "# Constraint that the \\sum(w_i * 1{a = 1}) = pi_1\n",
        "model += pulp.lpSum([w[index] for index in a_1_indices]) == pi_1"
      ],
      "execution_count": 0,
      "outputs": []
    },
    {
      "cell_type": "code",
      "metadata": {
        "id": "iAraMIkzDiT2",
        "colab_type": "code",
        "colab": {}
      },
      "source": [
        "# Constraint that the w's all sum to 1\n",
        "model += pulp.lpSum([w[i] for i in range(len(f_X))]) == 1"
      ],
      "execution_count": 0,
      "outputs": []
    },
    {
      "cell_type": "code",
      "metadata": {
        "id": "TqmE0SxsDiT4",
        "colab_type": "code",
        "outputId": "9fb9f878-a2ec-475f-9e31-15c5c7cc3dfe",
        "colab": {
          "base_uri": "https://localhost:8080/",
          "height": 34
        }
      },
      "source": [
        "# Solve the linear program\n",
        "model.solve()"
      ],
      "execution_count": 0,
      "outputs": [
        {
          "output_type": "execute_result",
          "data": {
            "text/plain": [
              "1"
            ]
          },
          "metadata": {
            "tags": []
          },
          "execution_count": 28
        }
      ]
    },
    {
      "cell_type": "code",
      "metadata": {
        "id": "4PqntoblDiT8",
        "colab_type": "code",
        "outputId": "97c5ddff-0d7d-4a43-90cb-47dd965afc3b",
        "colab": {
          "base_uri": "https://localhost:8080/",
          "height": 34
        }
      },
      "source": [
        "pulp.LpStatus[model.status]"
      ],
      "execution_count": 0,
      "outputs": [
        {
          "output_type": "execute_result",
          "data": {
            "text/plain": [
              "'Optimal'"
            ]
          },
          "metadata": {
            "tags": []
          },
          "execution_count": 29
        }
      ]
    },
    {
      "cell_type": "code",
      "metadata": {
        "id": "1MFQpA9uDiUC",
        "colab_type": "code",
        "colab": {}
      },
      "source": [
        "# Get the results\n",
        "results_dict = dict()\n",
        "for i in range(len(f_X)):\n",
        "  results_dict[w[i]] = w[i].varValue"
      ],
      "execution_count": 0,
      "outputs": []
    },
    {
      "cell_type": "code",
      "metadata": {
        "id": "uegABANUHT6m",
        "colab_type": "code",
        "colab": {}
      },
      "source": [
        "# Print the results\n",
        "# results_dict"
      ],
      "execution_count": 0,
      "outputs": []
    },
    {
      "cell_type": "code",
      "metadata": {
        "id": "7AUPEl91DiUE",
        "colab_type": "code",
        "outputId": "41b5c9cc-1f88-472f-ce6c-1c6f4524631c",
        "colab": {
          "base_uri": "https://localhost:8080/",
          "height": 34
        }
      },
      "source": [
        "# The final value of the objective, optimized\n",
        "pulp.value(model.objective)"
      ],
      "execution_count": 0,
      "outputs": [
        {
          "output_type": "execute_result",
          "data": {
            "text/plain": [
              "0.9842211002659029"
            ]
          },
          "metadata": {
            "tags": []
          },
          "execution_count": 32
        }
      ]
    }
  ]
}