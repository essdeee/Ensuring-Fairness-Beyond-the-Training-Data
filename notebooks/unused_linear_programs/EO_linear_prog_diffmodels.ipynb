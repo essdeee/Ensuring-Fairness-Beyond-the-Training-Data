{
  "nbformat": 4,
  "nbformat_minor": 0,
  "metadata": {
    "colab": {
      "name": "EO_linear_prog_diffmodels.ipynb",
      "provenance": [],
      "collapsed_sections": [],
      "toc_visible": true
    },
    "language_info": {
      "codemirror_mode": {
        "name": "ipython",
        "version": 3
      },
      "file_extension": ".py",
      "mimetype": "text/x-python",
      "name": "python",
      "nbconvert_exporter": "python",
      "pygments_lexer": "ipython3",
      "version": "3.7.1"
    },
    "kernelspec": {
      "display_name": "Python 3",
      "language": "python",
      "name": "python3"
    }
  },
  "cells": [
    {
      "cell_type": "markdown",
      "metadata": {
        "id": "VYEUJK2JDiTS",
        "colab_type": "text"
      },
      "source": [
        "# Fairness Checking: Linear Program (Equalized Odds) w/ Different Models\n",
        "This notebook solves the EO Linear Program with the results from the 40 different models (20 models with varying depths, 20 models with varying hidden units) in compas_nn_risk_score_diffmodel.ipynb."
      ]
    },
    {
      "cell_type": "code",
      "metadata": {
        "id": "AyLJZXkNDndG",
        "colab_type": "code",
        "outputId": "02741467-137f-4dc0-9b07-a4809cff9da8",
        "colab": {
          "base_uri": "https://localhost:8080/",
          "height": 224
        }
      },
      "source": [
        "!pip install pulp"
      ],
      "execution_count": 0,
      "outputs": [
        {
          "output_type": "stream",
          "text": [
            "Collecting pulp\n",
            "\u001b[?25l  Downloading https://files.pythonhosted.org/packages/2d/33/3ae6d9d2ac8c7068937af6372fd8828ac605e62a8b17106fe57110930d38/PuLP-1.6.10.zip (13.6MB)\n",
            "\u001b[K     |████████████████████████████████| 13.6MB 2.9MB/s \n",
            "\u001b[?25hRequirement already satisfied: pyparsing>=2.0.1 in /usr/local/lib/python3.6/dist-packages (from pulp) (2.4.2)\n",
            "Building wheels for collected packages: pulp\n",
            "  Building wheel for pulp (setup.py) ... \u001b[?25l\u001b[?25hdone\n",
            "  Created wheel for pulp: filename=PuLP-1.6.10-cp36-none-any.whl size=12269903 sha256=1db347d4e6fc6e93a7e12ab00a877542b191f57469be526edad905817eecae69\n",
            "  Stored in directory: /root/.cache/pip/wheels/5e/76/77/e28b22219e46e3b4b033f02e8b36b2770ae545bdcf60c2b224\n",
            "Successfully built pulp\n",
            "Installing collected packages: pulp\n",
            "Successfully installed pulp-1.6.10\n"
          ],
          "name": "stdout"
        }
      ]
    },
    {
      "cell_type": "code",
      "metadata": {
        "id": "TYaVKaWuDiTT",
        "colab_type": "code",
        "colab": {}
      },
      "source": [
        "import pandas as pd\n",
        "import numpy as np\n",
        "import pulp\n",
        "import matplotlib.pyplot as plt"
      ],
      "execution_count": 0,
      "outputs": []
    },
    {
      "cell_type": "code",
      "metadata": {
        "id": "7nFOqCIjDj3D",
        "colab_type": "code",
        "outputId": "9e695d88-5a54-448a-f112-3ff4dad0c3bf",
        "colab": {
          "base_uri": "https://localhost:8080/",
          "height": 122
        }
      },
      "source": [
        "# Run this cell to mount your Google Drive.\n",
        "from google.colab import drive\n",
        "drive.mount('/content/drive')"
      ],
      "execution_count": 0,
      "outputs": [
        {
          "output_type": "stream",
          "text": [
            "Go to this URL in a browser: https://accounts.google.com/o/oauth2/auth?client_id=947318989803-6bn6qk8qdgf4n4g3pfee6491hc0brc4i.apps.googleusercontent.com&redirect_uri=urn%3Aietf%3Awg%3Aoauth%3A2.0%3Aoob&scope=email%20https%3A%2F%2Fwww.googleapis.com%2Fauth%2Fdocs.test%20https%3A%2F%2Fwww.googleapis.com%2Fauth%2Fdrive%20https%3A%2F%2Fwww.googleapis.com%2Fauth%2Fdrive.photos.readonly%20https%3A%2F%2Fwww.googleapis.com%2Fauth%2Fpeopleapi.readonly&response_type=code\n",
            "\n",
            "Enter your authorization code:\n",
            "··········\n",
            "Mounted at /content/drive\n"
          ],
          "name": "stdout"
        }
      ]
    },
    {
      "cell_type": "code",
      "metadata": {
        "id": "rHT2KHDmmL16",
        "colab_type": "code",
        "colab": {}
      },
      "source": [
        "NUMBER_OF_MODELS = 20"
      ],
      "execution_count": 0,
      "outputs": []
    },
    {
      "cell_type": "markdown",
      "metadata": {
        "id": "46clr4hRU4cF",
        "colab_type": "text"
      },
      "source": [
        "# Case 1: Depth NNs\n",
        "We have 100 different models with varying depths. diffmodel_0 has the shallowest depth (1 layer), and diffmodel_99 has the deepest depth (100 layers).\n"
      ]
    },
    {
      "cell_type": "markdown",
      "metadata": {
        "id": "id0PTMTBDiTV",
        "colab_type": "text"
      },
      "source": [
        "## Import Predicted Data\n",
        "We take A (the protected attribute) to be the 'race' variable, and a = 0 while a' = 1. The last column, 'prediction,' is our f(X) variable, which can either be 0 or 1.\n",
        "\n",
        "Import for each of the f(X)'s. Call them f_1(X), f_2(X), ... f_100(X).\n"
      ]
    },
    {
      "cell_type": "code",
      "metadata": {
        "id": "EaDU5FwHDiTW",
        "colab_type": "code",
        "colab": {}
      },
      "source": [
        "df = []\n",
        "for i in range(NUMBER_OF_MODELS):\n",
        "  df.append(pd.read_csv('/content/drive/My Drive/colab/fairness_checking/depth_models/diffmodel_{}.csv'.format(i)))"
      ],
      "execution_count": 0,
      "outputs": []
    },
    {
      "cell_type": "code",
      "metadata": {
        "id": "3D-WDPLsDiTY",
        "colab_type": "code",
        "outputId": "b709a499-1a5a-4048-d690-5651f32d90b6",
        "colab": {
          "base_uri": "https://localhost:8080/",
          "height": 241
        }
      },
      "source": [
        "# Sanity Check: make sure we have different f(X)'s\n",
        "df[0].head(5)"
      ],
      "execution_count": 0,
      "outputs": [
        {
          "output_type": "execute_result",
          "data": {
            "text/html": [
              "<div>\n",
              "<style scoped>\n",
              "    .dataframe tbody tr th:only-of-type {\n",
              "        vertical-align: middle;\n",
              "    }\n",
              "\n",
              "    .dataframe tbody tr th {\n",
              "        vertical-align: top;\n",
              "    }\n",
              "\n",
              "    .dataframe thead th {\n",
              "        text-align: right;\n",
              "    }\n",
              "</style>\n",
              "<table border=\"1\" class=\"dataframe\">\n",
              "  <thead>\n",
              "    <tr style=\"text-align: right;\">\n",
              "      <th></th>\n",
              "      <th>Unnamed: 0</th>\n",
              "      <th>Unnamed: 0.1</th>\n",
              "      <th>sex</th>\n",
              "      <th>age</th>\n",
              "      <th>race</th>\n",
              "      <th>juv_fel_count</th>\n",
              "      <th>juv_misd_count</th>\n",
              "      <th>juv_other_count</th>\n",
              "      <th>priors_count</th>\n",
              "      <th>two_year_recid</th>\n",
              "      <th>c_charge_degree_F</th>\n",
              "      <th>c_charge_degree_M</th>\n",
              "      <th>risk_recid</th>\n",
              "      <th>prediction_probs</th>\n",
              "      <th>prediction</th>\n",
              "    </tr>\n",
              "  </thead>\n",
              "  <tbody>\n",
              "    <tr>\n",
              "      <th>0</th>\n",
              "      <td>3</td>\n",
              "      <td>0.000693</td>\n",
              "      <td>1.0</td>\n",
              "      <td>0.333333</td>\n",
              "      <td>0.0</td>\n",
              "      <td>0.0</td>\n",
              "      <td>0.0</td>\n",
              "      <td>0.0</td>\n",
              "      <td>0.000000</td>\n",
              "      <td>0.0</td>\n",
              "      <td>0.0</td>\n",
              "      <td>1.0</td>\n",
              "      <td>0.0</td>\n",
              "      <td>0.052690</td>\n",
              "      <td>0</td>\n",
              "    </tr>\n",
              "    <tr>\n",
              "      <th>1</th>\n",
              "      <td>4</td>\n",
              "      <td>0.000832</td>\n",
              "      <td>1.0</td>\n",
              "      <td>0.294872</td>\n",
              "      <td>0.0</td>\n",
              "      <td>0.0</td>\n",
              "      <td>0.0</td>\n",
              "      <td>0.0</td>\n",
              "      <td>0.368421</td>\n",
              "      <td>1.0</td>\n",
              "      <td>1.0</td>\n",
              "      <td>0.0</td>\n",
              "      <td>1.0</td>\n",
              "      <td>0.829273</td>\n",
              "      <td>1</td>\n",
              "    </tr>\n",
              "    <tr>\n",
              "      <th>2</th>\n",
              "      <td>5</td>\n",
              "      <td>0.000970</td>\n",
              "      <td>1.0</td>\n",
              "      <td>0.320513</td>\n",
              "      <td>0.0</td>\n",
              "      <td>0.0</td>\n",
              "      <td>0.0</td>\n",
              "      <td>0.0</td>\n",
              "      <td>0.078947</td>\n",
              "      <td>0.0</td>\n",
              "      <td>1.0</td>\n",
              "      <td>0.0</td>\n",
              "      <td>0.0</td>\n",
              "      <td>0.172630</td>\n",
              "      <td>0</td>\n",
              "    </tr>\n",
              "    <tr>\n",
              "      <th>3</th>\n",
              "      <td>9</td>\n",
              "      <td>0.001664</td>\n",
              "      <td>0.0</td>\n",
              "      <td>0.243590</td>\n",
              "      <td>0.0</td>\n",
              "      <td>0.0</td>\n",
              "      <td>0.0</td>\n",
              "      <td>0.0</td>\n",
              "      <td>0.000000</td>\n",
              "      <td>0.0</td>\n",
              "      <td>0.0</td>\n",
              "      <td>1.0</td>\n",
              "      <td>0.0</td>\n",
              "      <td>0.126032</td>\n",
              "      <td>0</td>\n",
              "    </tr>\n",
              "    <tr>\n",
              "      <th>4</th>\n",
              "      <td>16</td>\n",
              "      <td>0.002634</td>\n",
              "      <td>1.0</td>\n",
              "      <td>0.166667</td>\n",
              "      <td>0.0</td>\n",
              "      <td>0.0</td>\n",
              "      <td>0.0</td>\n",
              "      <td>0.0</td>\n",
              "      <td>0.131579</td>\n",
              "      <td>1.0</td>\n",
              "      <td>1.0</td>\n",
              "      <td>0.0</td>\n",
              "      <td>0.0</td>\n",
              "      <td>0.632580</td>\n",
              "      <td>1</td>\n",
              "    </tr>\n",
              "  </tbody>\n",
              "</table>\n",
              "</div>"
            ],
            "text/plain": [
              "   Unnamed: 0  Unnamed: 0.1  sex  ...  risk_recid  prediction_probs  prediction\n",
              "0           3      0.000693  1.0  ...         0.0          0.052690           0\n",
              "1           4      0.000832  1.0  ...         1.0          0.829273           1\n",
              "2           5      0.000970  1.0  ...         0.0          0.172630           0\n",
              "3           9      0.001664  0.0  ...         0.0          0.126032           0\n",
              "4          16      0.002634  1.0  ...         0.0          0.632580           1\n",
              "\n",
              "[5 rows x 15 columns]"
            ]
          },
          "metadata": {
            "tags": []
          },
          "execution_count": 6
        }
      ]
    },
    {
      "cell_type": "code",
      "metadata": {
        "id": "MpNdzoAm6up6",
        "colab_type": "code",
        "outputId": "d9649c8c-8698-40dc-a50a-a0508a6ee36c",
        "colab": {
          "base_uri": "https://localhost:8080/",
          "height": 241
        }
      },
      "source": [
        "# Sanity Check: make sure we have different f(X)'s\n",
        "df[NUMBER_OF_MODELS - 1].head(5)"
      ],
      "execution_count": 0,
      "outputs": [
        {
          "output_type": "execute_result",
          "data": {
            "text/html": [
              "<div>\n",
              "<style scoped>\n",
              "    .dataframe tbody tr th:only-of-type {\n",
              "        vertical-align: middle;\n",
              "    }\n",
              "\n",
              "    .dataframe tbody tr th {\n",
              "        vertical-align: top;\n",
              "    }\n",
              "\n",
              "    .dataframe thead th {\n",
              "        text-align: right;\n",
              "    }\n",
              "</style>\n",
              "<table border=\"1\" class=\"dataframe\">\n",
              "  <thead>\n",
              "    <tr style=\"text-align: right;\">\n",
              "      <th></th>\n",
              "      <th>Unnamed: 0</th>\n",
              "      <th>Unnamed: 0.1</th>\n",
              "      <th>sex</th>\n",
              "      <th>age</th>\n",
              "      <th>race</th>\n",
              "      <th>juv_fel_count</th>\n",
              "      <th>juv_misd_count</th>\n",
              "      <th>juv_other_count</th>\n",
              "      <th>priors_count</th>\n",
              "      <th>two_year_recid</th>\n",
              "      <th>c_charge_degree_F</th>\n",
              "      <th>c_charge_degree_M</th>\n",
              "      <th>risk_recid</th>\n",
              "      <th>prediction_probs</th>\n",
              "      <th>prediction</th>\n",
              "    </tr>\n",
              "  </thead>\n",
              "  <tbody>\n",
              "    <tr>\n",
              "      <th>0</th>\n",
              "      <td>3</td>\n",
              "      <td>0.000693</td>\n",
              "      <td>1.0</td>\n",
              "      <td>0.333333</td>\n",
              "      <td>0.0</td>\n",
              "      <td>0.0</td>\n",
              "      <td>0.0</td>\n",
              "      <td>0.0</td>\n",
              "      <td>0.000000</td>\n",
              "      <td>0.0</td>\n",
              "      <td>0.0</td>\n",
              "      <td>1.0</td>\n",
              "      <td>0.0</td>\n",
              "      <td>0.44713</td>\n",
              "      <td>0</td>\n",
              "    </tr>\n",
              "    <tr>\n",
              "      <th>1</th>\n",
              "      <td>4</td>\n",
              "      <td>0.000832</td>\n",
              "      <td>1.0</td>\n",
              "      <td>0.294872</td>\n",
              "      <td>0.0</td>\n",
              "      <td>0.0</td>\n",
              "      <td>0.0</td>\n",
              "      <td>0.0</td>\n",
              "      <td>0.368421</td>\n",
              "      <td>1.0</td>\n",
              "      <td>1.0</td>\n",
              "      <td>0.0</td>\n",
              "      <td>1.0</td>\n",
              "      <td>0.44713</td>\n",
              "      <td>0</td>\n",
              "    </tr>\n",
              "    <tr>\n",
              "      <th>2</th>\n",
              "      <td>5</td>\n",
              "      <td>0.000970</td>\n",
              "      <td>1.0</td>\n",
              "      <td>0.320513</td>\n",
              "      <td>0.0</td>\n",
              "      <td>0.0</td>\n",
              "      <td>0.0</td>\n",
              "      <td>0.0</td>\n",
              "      <td>0.078947</td>\n",
              "      <td>0.0</td>\n",
              "      <td>1.0</td>\n",
              "      <td>0.0</td>\n",
              "      <td>0.0</td>\n",
              "      <td>0.44713</td>\n",
              "      <td>0</td>\n",
              "    </tr>\n",
              "    <tr>\n",
              "      <th>3</th>\n",
              "      <td>9</td>\n",
              "      <td>0.001664</td>\n",
              "      <td>0.0</td>\n",
              "      <td>0.243590</td>\n",
              "      <td>0.0</td>\n",
              "      <td>0.0</td>\n",
              "      <td>0.0</td>\n",
              "      <td>0.0</td>\n",
              "      <td>0.000000</td>\n",
              "      <td>0.0</td>\n",
              "      <td>0.0</td>\n",
              "      <td>1.0</td>\n",
              "      <td>0.0</td>\n",
              "      <td>0.44713</td>\n",
              "      <td>0</td>\n",
              "    </tr>\n",
              "    <tr>\n",
              "      <th>4</th>\n",
              "      <td>16</td>\n",
              "      <td>0.002634</td>\n",
              "      <td>1.0</td>\n",
              "      <td>0.166667</td>\n",
              "      <td>0.0</td>\n",
              "      <td>0.0</td>\n",
              "      <td>0.0</td>\n",
              "      <td>0.0</td>\n",
              "      <td>0.131579</td>\n",
              "      <td>1.0</td>\n",
              "      <td>1.0</td>\n",
              "      <td>0.0</td>\n",
              "      <td>0.0</td>\n",
              "      <td>0.44713</td>\n",
              "      <td>0</td>\n",
              "    </tr>\n",
              "  </tbody>\n",
              "</table>\n",
              "</div>"
            ],
            "text/plain": [
              "   Unnamed: 0  Unnamed: 0.1  sex  ...  risk_recid  prediction_probs  prediction\n",
              "0           3      0.000693  1.0  ...         0.0           0.44713           0\n",
              "1           4      0.000832  1.0  ...         1.0           0.44713           0\n",
              "2           5      0.000970  1.0  ...         0.0           0.44713           0\n",
              "3           9      0.001664  0.0  ...         0.0           0.44713           0\n",
              "4          16      0.002634  1.0  ...         0.0           0.44713           0\n",
              "\n",
              "[5 rows x 15 columns]"
            ]
          },
          "metadata": {
            "tags": []
          },
          "execution_count": 8
        }
      ]
    },
    {
      "cell_type": "code",
      "metadata": {
        "id": "IvLHi63FDiTb",
        "colab_type": "code",
        "colab": {}
      },
      "source": [
        "# Our protected variable A is race, and a = 0 or a = 1. Doesn't matter which DF\n",
        "# we get this from because they are all in the same order.\n",
        "a = df[0]['race']\n",
        "np.asarray(a)\n",
        "a_0_indices = []\n",
        "a_1_indices = []\n",
        "\n",
        "for i in range(len(a)):\n",
        "    if a[i] == 0:\n",
        "        a_0_indices.append(i)\n",
        "    elif a[i] == 1:\n",
        "        a_1_indices.append(i)"
      ],
      "execution_count": 0,
      "outputs": []
    },
    {
      "cell_type": "code",
      "metadata": {
        "id": "YK_XtVtFTlRs",
        "colab_type": "code",
        "colab": {}
      },
      "source": [
        "# Our true label Y is risk_recid, and y = 0 or y = 1. Doesn't matter which DF\n",
        "# we get this from because they are all in the same order.\n",
        "y = df[0]['risk_recid']\n",
        "np.asarray(y)\n",
        "y_0_indices = []\n",
        "y_1_indices = []\n",
        "\n",
        "for i in range(len(y)):\n",
        "    if y[i] == 0:\n",
        "        y_0_indices.append(i)\n",
        "    elif y[i] == 1:\n",
        "        y_1_indices.append(i)"
      ],
      "execution_count": 0,
      "outputs": []
    },
    {
      "cell_type": "code",
      "metadata": {
        "id": "o7dDcSX7UtH1",
        "colab_type": "code",
        "colab": {}
      },
      "source": [
        "# Find the intersection of indices lists to make the pi's\n",
        "a_0 = set(a_0_indices)\n",
        "a_1 = set(a_1_indices)\n",
        "y_0 = set(y_0_indices)\n",
        "y_1 = set(y_1_indices)\n",
        "\n",
        "a0_y0 = a_0.intersection(y_0) \n",
        "a0_y1 = a_0.intersection(y_1)\n",
        "a1_y0 = a_1.intersection(y_0)\n",
        "a1_y1 = a_1.intersection(y_1)"
      ],
      "execution_count": 0,
      "outputs": []
    },
    {
      "cell_type": "code",
      "metadata": {
        "id": "f_wZ_LCaVTBu",
        "colab_type": "code",
        "outputId": "c73579fa-8a9b-45e9-fbb6-ac92f277b913",
        "colab": {
          "base_uri": "https://localhost:8080/",
          "height": 85
        }
      },
      "source": [
        "# Sanity check\n",
        "print(len(a_0))\n",
        "print(len(a0_y1) + len(a0_y0))\n",
        "print(len(a_1))\n",
        "print(len(a1_y1) + len(a1_y0))"
      ],
      "execution_count": 0,
      "outputs": [
        {
          "output_type": "stream",
          "text": [
            "609\n",
            "609\n",
            "623\n",
            "623\n"
          ],
          "name": "stdout"
        }
      ]
    },
    {
      "cell_type": "code",
      "metadata": {
        "id": "ARsmRic1DiTi",
        "colab_type": "code",
        "colab": {}
      },
      "source": [
        "# Our pi variables, pi_a_y are simply the proportions where we have A = a, Y = y\n",
        "pi_0_0 = float(len(a0_y0))/(len(a_0_indices) + len(a_1_indices))\n",
        "pi_0_1 = float(len(a0_y1))/(len(a_0_indices) + len(a_1_indices))\n",
        "pi_1_0 = float(len(a1_y0))/(len(a_0_indices) + len(a_1_indices))\n",
        "pi_1_1 = float(len(a1_y1))/(len(a_0_indices) + len(a_1_indices))"
      ],
      "execution_count": 0,
      "outputs": []
    },
    {
      "cell_type": "code",
      "metadata": {
        "id": "ggsCMcr5DiTk",
        "colab_type": "code",
        "outputId": "df26fa08-0c3e-447a-9616-991a62756888",
        "colab": {
          "base_uri": "https://localhost:8080/",
          "height": 85
        }
      },
      "source": [
        "print(pi_0_0)\n",
        "print(pi_0_1)\n",
        "print(pi_1_0)\n",
        "print(pi_1_1)"
      ],
      "execution_count": 0,
      "outputs": [
        {
          "output_type": "stream",
          "text": [
            "0.35064935064935066\n",
            "0.14366883116883117\n",
            "0.20454545454545456\n",
            "0.30113636363636365\n"
          ],
          "name": "stdout"
        }
      ]
    },
    {
      "cell_type": "code",
      "metadata": {
        "id": "w5PbdhJ5DiTn",
        "colab_type": "code",
        "colab": {}
      },
      "source": [
        "# Our prediction probability is under 'prediction_probs.' Notice that we use the \n",
        "# actual probability of the label, not the label itself.\n",
        "f_X = []\n",
        "for i in range(len(df)):\n",
        "  f_X.append(df[i]['prediction_probs'])\n",
        "  np.asarray(f_X[i])"
      ],
      "execution_count": 0,
      "outputs": []
    },
    {
      "cell_type": "code",
      "metadata": {
        "id": "f66NgcN8FLnM",
        "colab_type": "code",
        "outputId": "b78e3401-1dc8-4040-b521-505889db654e",
        "colab": {
          "base_uri": "https://localhost:8080/",
          "height": 119
        }
      },
      "source": [
        "# Check if the dimensions match\n",
        "print(len(f_X[0]))\n",
        "print(len(f_X[1]))\n",
        "print(len(f_X[2]))\n",
        "print(len(f_X[18]))\n",
        "print(len(f_X[19]))\n",
        "print(len(a0_y1) + len(a0_y0) + len(a1_y1) + len(a1_y0))"
      ],
      "execution_count": 0,
      "outputs": [
        {
          "output_type": "stream",
          "text": [
            "1232\n",
            "1232\n",
            "1232\n",
            "1232\n",
            "1232\n",
            "1232\n"
          ],
          "name": "stdout"
        }
      ]
    },
    {
      "cell_type": "markdown",
      "metadata": {
        "id": "oRPqsRrIDiTp",
        "colab_type": "text"
      },
      "source": [
        "## Linear Program Function\n",
        "Create a reusable function for each linear program.\n",
        "\n",
        "The argument y_value should be Y = 0 or Y = 1, depending on which Y value we want to test EO on. "
      ]
    },
    {
      "cell_type": "code",
      "metadata": {
        "id": "dt0KmfGYTAD5",
        "colab_type": "code",
        "colab": {}
      },
      "source": [
        "# Input: function f(X), y_value (either 0 or 1)\n",
        "# Output: (solved) model, weights\n",
        "def EO_linear_prog(f_X, y_value):\n",
        "  if(y_value != 0 and y_value != 1):\n",
        "    return(\"Please enter 0 or 1 for the second argument (y_value).\")\n",
        "  \n",
        "  # Define the linear program as a maximization problem\n",
        "  model = pulp.LpProblem(\"Equalized Odds Fairness Checking\", pulp.LpMaximize)\n",
        "  \n",
        "  # Our w variable in the objective\n",
        "  # Lower bound constraint set here with lowBound=0 option\n",
        "  w = pulp.LpVariable.dicts(\"w\", (i for i in range(len(f_X))),lowBound=0, cat='Continuous')\n",
        "  \n",
        "  if(y_value == 0):\n",
        "    # Objective Function\n",
        "    model += pulp.lpSum(\n",
        "      [(1./pi_0_0) * w[index] * f_X[index] for index in a0_y0] +\n",
        "      [- (1./pi_1_0) * w[index] * f_X[index] for index in a1_y0])\n",
        "    \n",
        "    # Constraint that the \\sum(w_i * 1{a = 0, y = 0}) = pi_0_0\n",
        "    model += pulp.lpSum([w[index] for index in a0_y0]) == pi_0_0\n",
        "    \n",
        "    # Constraint that the \\sum(w_i * 1{a = 0, y = 1}) = pi_0_1\n",
        "    model += pulp.lpSum([w[index] for index in a1_y0]) == pi_1_0\n",
        "    \n",
        "  elif(y_value == 1):\n",
        "    # Objective Function\n",
        "    model += pulp.lpSum(\n",
        "        [(1./pi_0_1) * w[index] * f_X[index] for index in a0_y1] +\n",
        "        [- (1./pi_1_1) * w[index] * f_X[index] for index in a1_y1])\n",
        "    \n",
        "    # Constraint that the \\sum(w_i * 1{a = 0, y = 1}) = pi_0_1\n",
        "    model += pulp.lpSum([w[index] for index in a0_y1]) == pi_0_1\n",
        "    \n",
        "    # Constraint that the \\sum(w_i * 1{a = 1, y = 1}) = pi_0_1\n",
        "    model += pulp.lpSum([w[index] for index in a1_y1]) == pi_1_1\n",
        "  \n",
        "  # Constraint that the w's all sum to 1\n",
        "  model += pulp.lpSum([w[i] for i in range(len(f_X))]) == 1\n",
        "  \n",
        "  # Solve the linear program\n",
        "  model.solve()\n",
        "  \n",
        "  return model, w\n",
        "\n",
        "# Get the results\n",
        "def weights_dictionary(w):\n",
        "  results_dict = dict()\n",
        "  for i in range(len(f_X)):\n",
        "    results_dict[w[i]] = w[i].varValue"
      ],
      "execution_count": 0,
      "outputs": []
    },
    {
      "cell_type": "markdown",
      "metadata": {
        "id": "5jv0qtaPWulw",
        "colab_type": "text"
      },
      "source": [
        "## Solve Linear Programs (Y = 0)\n",
        "We use the PuLP package to solve the linear program for each of the f(X), where Y = 0."
      ]
    },
    {
      "cell_type": "code",
      "metadata": {
        "id": "BUdomshxXk_l",
        "colab_type": "code",
        "colab": {}
      },
      "source": [
        "# Solve for each of the f(X)\n",
        "y0_models = []\n",
        "y0_weights = []\n",
        "\n",
        "for i in range(len(f_X)):\n",
        "  model, weights = EO_linear_prog(f_X[i], 0)\n",
        "  y0_models.append(model)\n",
        "  y0_weights.append(weights)"
      ],
      "execution_count": 0,
      "outputs": []
    },
    {
      "cell_type": "code",
      "metadata": {
        "id": "1D76YkH6U8UZ",
        "colab_type": "code",
        "outputId": "47462c4a-d246-49e5-f0f7-330575e26626",
        "colab": {
          "base_uri": "https://localhost:8080/",
          "height": 357
        }
      },
      "source": [
        "# Get all the objective values\n",
        "for i in range(len(f_X)):\n",
        "  result_string = \"Objective for f(X)_{} where Y = 0: \".format(i)\n",
        "  print(result_string + str(pulp.value(y0_models[i].objective)))"
      ],
      "execution_count": 0,
      "outputs": [
        {
          "output_type": "stream",
          "text": [
            "Objective for f(X)_0 where Y = 0: 0.8289112788097064\n",
            "Objective for f(X)_1 where Y = 0: 0.8342798890566627\n",
            "Objective for f(X)_2 where Y = 0: 0.8992440236786192\n",
            "Objective for f(X)_3 where Y = 0: 0.8930473586816015\n",
            "Objective for f(X)_4 where Y = 0: 0.8797639016441753\n",
            "Objective for f(X)_5 where Y = 0: 0.9058415989652272\n",
            "Objective for f(X)_6 where Y = 0: 0.8215438889792102\n",
            "Objective for f(X)_7 where Y = 0: 0.7965660990771836\n",
            "Objective for f(X)_8 where Y = 0: 0.7845707621015225\n",
            "Objective for f(X)_9 where Y = 0: 0.865071113925028\n",
            "Objective for f(X)_10 where Y = 0: 0.9338238844480405\n",
            "Objective for f(X)_11 where Y = 0: 0.882632728900295\n",
            "Objective for f(X)_12 where Y = 0: 0.8260997370010469\n",
            "Objective for f(X)_13 where Y = 0: 0.8673152625498229\n",
            "Objective for f(X)_14 where Y = 0: 0.8149761867980722\n",
            "Objective for f(X)_15 where Y = 0: 0.7303597943363721\n",
            "Objective for f(X)_16 where Y = 0: 0.8537689765696279\n",
            "Objective for f(X)_17 where Y = 0: 9.10132774700756e-09\n",
            "Objective for f(X)_18 where Y = 0: 0.8306396267372169\n",
            "Objective for f(X)_19 where Y = 0: 9.108202525531794e-09\n"
          ],
          "name": "stdout"
        }
      ]
    },
    {
      "cell_type": "code",
      "metadata": {
        "id": "5E2bVk1xXxnR",
        "colab_type": "code",
        "outputId": "4c6687de-45cc-42f0-991b-95538c6b9f42",
        "colab": {
          "base_uri": "https://localhost:8080/",
          "height": 584
        }
      },
      "source": [
        "# Plot objective values\n",
        "y0_objectives = []\n",
        "for i in range(len(y0_models)):\n",
        "  y0_objectives.append(pulp.value(y0_models[i].objective))\n",
        "\n",
        "plt.figure(figsize=(9,9))\n",
        "plt.plot(y0_objectives)\n",
        "# plt.axis([0, 20, 0.5, 1.0])\n",
        "plt.xlabel('Depth of Model')\n",
        "plt.ylabel('LP Objective Value')\n",
        "plt.title('NN Depth vs. EO LP Objective Value (Y=0)')"
      ],
      "execution_count": 0,
      "outputs": [
        {
          "output_type": "execute_result",
          "data": {
            "text/plain": [
              "Text(0.5, 1.0, 'NN Depth vs. EO LP Objective Value (Y=0)')"
            ]
          },
          "metadata": {
            "tags": []
          },
          "execution_count": 20
        },
        {
          "output_type": "display_data",
          "data": {
            "image/png": "[encoded data removed]",
            "text/plain": [
              "<Figure size 648x648 with 1 Axes>"
            ]
          },
          "metadata": {
            "tags": []
          }
        }
      ]
    },
    {
      "cell_type": "code",
      "metadata": {
        "id": "WDFsrudnWezU",
        "colab_type": "code",
        "outputId": "4a77e9bf-35af-4742-ee22-c2155bee61ea",
        "colab": {
          "base_uri": "https://localhost:8080/",
          "height": 584
        }
      },
      "source": [
        "# Plot training accuracies over depth\n",
        "depth_model_accuracies_df = pd.read_csv('/content/drive/My Drive/colab/fairness_checking/depth_models/depth_model_accuracies.csv')\n",
        "depth_model_accuracies_df.head(5)\n",
        "depth_model_acc = depth_model_accuracies_df['Model Accuracy']\n",
        "\n",
        "plt.figure(figsize=(9,9))\n",
        "plt.plot(depth_model_acc)\n",
        "# plt.axis([0, 100, 0.8, 1.0])\n",
        "plt.xlabel('Depth of Model')\n",
        "plt.ylabel('Test Accuracy')\n",
        "plt.title('NN Depth vs. Model Test Accuracy')"
      ],
      "execution_count": 0,
      "outputs": [
        {
          "output_type": "execute_result",
          "data": {
            "text/plain": [
              "Text(0.5, 1.0, 'NN Depth vs. Model Test Accuracy')"
            ]
          },
          "metadata": {
            "tags": []
          },
          "execution_count": 21
        },
        {
          "output_type": "display_data",
          "data": {
            "image/png": "[encoded data removed]",
            "text/plain": [
              "<Figure size 648x648 with 1 Axes>"
            ]
          },
          "metadata": {
            "tags": []
          }
        }
      ]
    },
    {
      "cell_type": "markdown",
      "metadata": {
        "id": "oU6PgkrtU_Cy",
        "colab_type": "text"
      },
      "source": [
        "## Solve Linear Programs (Y = 1)\n",
        "We use the PuLP package to solve the linear program for each of the f(X), where Y = 1."
      ]
    },
    {
      "cell_type": "code",
      "metadata": {
        "id": "k5gBRV9IVATG",
        "colab_type": "code",
        "colab": {}
      },
      "source": [
        "# Solve for each of the f(X)\n",
        "y1_models = []\n",
        "y1_weights = []\n",
        "\n",
        "for i in range(len(f_X)):\n",
        "  model, weights = EO_linear_prog(f_X[i], 1)\n",
        "  y1_models.append(model)\n",
        "  y1_weights.append(weights)"
      ],
      "execution_count": 0,
      "outputs": []
    },
    {
      "cell_type": "code",
      "metadata": {
        "id": "nvfx_OzJVFlY",
        "colab_type": "code",
        "outputId": "de215a39-9e5e-4f34-945b-365158ff5bca",
        "colab": {
          "base_uri": "https://localhost:8080/",
          "height": 357
        }
      },
      "source": [
        "# Get all the objective values\n",
        "for i in range(len(f_X)):\n",
        "  result_string = \"Objective for f(X)_{} where Y = 1: \".format(i)\n",
        "  print(result_string + str(pulp.value(y1_models[i].objective)))"
      ],
      "execution_count": 0,
      "outputs": [
        {
          "output_type": "stream",
          "text": [
            "Objective for f(X)_0 where Y = 1: 0.8771502833141724\n",
            "Objective for f(X)_1 where Y = 1: 0.8723874883933457\n",
            "Objective for f(X)_2 where Y = 1: 0.9166612568578667\n",
            "Objective for f(X)_3 where Y = 1: 0.8864976132252422\n",
            "Objective for f(X)_4 where Y = 1: 0.915989028872199\n",
            "Objective for f(X)_5 where Y = 1: 0.8521742336464728\n",
            "Objective for f(X)_6 where Y = 1: 0.901735367021358\n",
            "Objective for f(X)_7 where Y = 1: 0.8686734234236317\n",
            "Objective for f(X)_8 where Y = 1: 0.8979048030732812\n",
            "Objective for f(X)_9 where Y = 1: 0.8901532491811208\n",
            "Objective for f(X)_10 where Y = 1: 0.9000669030689178\n",
            "Objective for f(X)_11 where Y = 1: 0.8812291232962802\n",
            "Objective for f(X)_12 where Y = 1: 0.8178363439057847\n",
            "Objective for f(X)_13 where Y = 1: 0.9247324127457968\n",
            "Objective for f(X)_14 where Y = 1: 0.8072771738341682\n",
            "Objective for f(X)_15 where Y = 1: 0.667619885075658\n",
            "Objective for f(X)_16 where Y = 1: 0.9711035201910049\n",
            "Objective for f(X)_17 where Y = 1: 1.760307899445479e-09\n",
            "Objective for f(X)_18 where Y = 1: 0.9412278185738605\n",
            "Objective for f(X)_19 where Y = 1: 1.7616376135620726e-09\n"
          ],
          "name": "stdout"
        }
      ]
    },
    {
      "cell_type": "code",
      "metadata": {
        "id": "HiZS3C5WXyhA",
        "colab_type": "code",
        "outputId": "c6e8a36d-f5b6-4501-dca0-c7a8a881e6a0",
        "colab": {
          "base_uri": "https://localhost:8080/",
          "height": 584
        }
      },
      "source": [
        "# Plot objective values\n",
        "y1_objectives = []\n",
        "for i in range(len(y1_models)):\n",
        "  y1_objectives.append(pulp.value(y1_models[i].objective))\n",
        "\n",
        "plt.figure(figsize=(9,9))\n",
        "plt.plot(y1_objectives)\n",
        "# plt.axis([0, 20, 0.8, 1.0])\n",
        "plt.xlabel('Depth of Model')\n",
        "plt.ylabel('LP Objective Value')\n",
        "plt.title('NN Depth vs. EO LP Objective Value (Y=1)')"
      ],
      "execution_count": 0,
      "outputs": [
        {
          "output_type": "execute_result",
          "data": {
            "text/plain": [
              "Text(0.5, 1.0, 'NN Depth vs. EO LP Objective Value (Y=1)')"
            ]
          },
          "metadata": {
            "tags": []
          },
          "execution_count": 24
        },
        {
          "output_type": "display_data",
          "data": {
            "image/png": "[encoded data removed]",
            "text/plain": [
              "<Figure size 648x648 with 1 Axes>"
            ]
          },
          "metadata": {
            "tags": []
          }
        }
      ]
    },
    {
      "cell_type": "code",
      "metadata": {
        "id": "3H2QRu0pWmgZ",
        "colab_type": "code",
        "outputId": "fdc31fdb-0114-4313-bce5-551b352088a4",
        "colab": {
          "base_uri": "https://localhost:8080/",
          "height": 584
        }
      },
      "source": [
        "# Plot training accuracies over depth\n",
        "depth_model_accuracies_df = pd.read_csv('/content/drive/My Drive/colab/fairness_checking/depth_models/depth_model_accuracies.csv')\n",
        "depth_model_accuracies_df.head(5)\n",
        "depth_model_acc = depth_model_accuracies_df['Model Accuracy']\n",
        "\n",
        "plt.figure(figsize=(9,9))\n",
        "plt.plot(depth_model_acc)\n",
        "# plt.axis([0, 100, 0.8, 1.0])\n",
        "plt.xlabel('Depth of Model')\n",
        "plt.ylabel('Test Accuracy')\n",
        "plt.title('NN Depth vs. Model Test Accuracy')"
      ],
      "execution_count": 0,
      "outputs": [
        {
          "output_type": "execute_result",
          "data": {
            "text/plain": [
              "Text(0.5, 1.0, 'NN Depth vs. Model Test Accuracy')"
            ]
          },
          "metadata": {
            "tags": []
          },
          "execution_count": 25
        },
        {
          "output_type": "display_data",
          "data": {
            "image/png": "[encoded data removed]",
            "text/plain": [
              "<Figure size 648x648 with 1 Axes>"
            ]
          },
          "metadata": {
            "tags": []
          }
        }
      ]
    },
    {
      "cell_type": "code",
      "metadata": {
        "id": "eYIsSq0rZ6-e",
        "colab_type": "code",
        "colab": {}
      },
      "source": [
        "# Save as a CSV\n",
        "df = pd.DataFrame({'Depth of Model (Layers)':range(1,NUMBER_OF_MODELS + 1), 'EO LP Objective Values (Y=0)':y0_objectives, 'EO LP Objective Values (Y=1)':y1_objectives})\n",
        "df.head(5)\n",
        "df.to_csv('/content/drive/My Drive/colab/fairness_checking/eo_depth_models.csv')"
      ],
      "execution_count": 0,
      "outputs": []
    },
    {
      "cell_type": "markdown",
      "metadata": {
        "colab_type": "text",
        "id": "mWmu6JrIb1Ti"
      },
      "source": [
        "# Case 2: Hidden Unit NNs\n",
        "We have 100 different models with varying hidden units. diffmodel_0 has the least hidden units (20 per layer), and diffmodel_99 has the most hidden units (2000 per layer). Each model has a constant 5 layers."
      ]
    },
    {
      "cell_type": "markdown",
      "metadata": {
        "colab_type": "text",
        "id": "wrCYzYStb1Tl"
      },
      "source": [
        "## Import Predicted Data\n",
        "We take A (the protected attribute) to be the 'race' variable, and a = 0 while a' = 1. The last column, 'prediction,' is our f(X) variable, which can either be 0 or 1.\n",
        "\n",
        "Import for each of the f(X)'s. Call them f_1(X), f_2(X), ... f_100(X)."
      ]
    },
    {
      "cell_type": "code",
      "metadata": {
        "colab_type": "code",
        "id": "CiLDXPMxb1Tl",
        "colab": {}
      },
      "source": [
        "df = []\n",
        "for i in range(NUMBER_OF_MODELS):\n",
        "  df.append(pd.read_csv('/content/drive/My Drive/colab/fairness_checking/unit_models/diffmodel_{}.csv'.format(i)))"
      ],
      "execution_count": 0,
      "outputs": []
    },
    {
      "cell_type": "code",
      "metadata": {
        "colab_type": "code",
        "outputId": "b47fdea7-7215-415a-8ce2-9009931d2a88",
        "id": "ZcAW3N6qb1Tn",
        "colab": {
          "base_uri": "https://localhost:8080/",
          "height": 241
        }
      },
      "source": [
        "# Sanity Check: make sure we have different f(X)'s\n",
        "df[0].head(5)"
      ],
      "execution_count": 0,
      "outputs": [
        {
          "output_type": "execute_result",
          "data": {
            "text/html": [
              "<div>\n",
              "<style scoped>\n",
              "    .dataframe tbody tr th:only-of-type {\n",
              "        vertical-align: middle;\n",
              "    }\n",
              "\n",
              "    .dataframe tbody tr th {\n",
              "        vertical-align: top;\n",
              "    }\n",
              "\n",
              "    .dataframe thead th {\n",
              "        text-align: right;\n",
              "    }\n",
              "</style>\n",
              "<table border=\"1\" class=\"dataframe\">\n",
              "  <thead>\n",
              "    <tr style=\"text-align: right;\">\n",
              "      <th></th>\n",
              "      <th>Unnamed: 0</th>\n",
              "      <th>Unnamed: 0.1</th>\n",
              "      <th>sex</th>\n",
              "      <th>age</th>\n",
              "      <th>race</th>\n",
              "      <th>juv_fel_count</th>\n",
              "      <th>juv_misd_count</th>\n",
              "      <th>juv_other_count</th>\n",
              "      <th>priors_count</th>\n",
              "      <th>two_year_recid</th>\n",
              "      <th>c_charge_degree_F</th>\n",
              "      <th>c_charge_degree_M</th>\n",
              "      <th>risk_recid</th>\n",
              "      <th>prediction_probs</th>\n",
              "      <th>prediction</th>\n",
              "    </tr>\n",
              "  </thead>\n",
              "  <tbody>\n",
              "    <tr>\n",
              "      <th>0</th>\n",
              "      <td>3</td>\n",
              "      <td>0.000693</td>\n",
              "      <td>1.0</td>\n",
              "      <td>0.333333</td>\n",
              "      <td>0.0</td>\n",
              "      <td>0.0</td>\n",
              "      <td>0.0</td>\n",
              "      <td>0.0</td>\n",
              "      <td>0.000000</td>\n",
              "      <td>0.0</td>\n",
              "      <td>0.0</td>\n",
              "      <td>1.0</td>\n",
              "      <td>0.0</td>\n",
              "      <td>0.056160</td>\n",
              "      <td>0</td>\n",
              "    </tr>\n",
              "    <tr>\n",
              "      <th>1</th>\n",
              "      <td>4</td>\n",
              "      <td>0.000832</td>\n",
              "      <td>1.0</td>\n",
              "      <td>0.294872</td>\n",
              "      <td>0.0</td>\n",
              "      <td>0.0</td>\n",
              "      <td>0.0</td>\n",
              "      <td>0.0</td>\n",
              "      <td>0.368421</td>\n",
              "      <td>1.0</td>\n",
              "      <td>1.0</td>\n",
              "      <td>0.0</td>\n",
              "      <td>1.0</td>\n",
              "      <td>0.749724</td>\n",
              "      <td>1</td>\n",
              "    </tr>\n",
              "    <tr>\n",
              "      <th>2</th>\n",
              "      <td>5</td>\n",
              "      <td>0.000970</td>\n",
              "      <td>1.0</td>\n",
              "      <td>0.320513</td>\n",
              "      <td>0.0</td>\n",
              "      <td>0.0</td>\n",
              "      <td>0.0</td>\n",
              "      <td>0.0</td>\n",
              "      <td>0.078947</td>\n",
              "      <td>0.0</td>\n",
              "      <td>1.0</td>\n",
              "      <td>0.0</td>\n",
              "      <td>0.0</td>\n",
              "      <td>0.169747</td>\n",
              "      <td>0</td>\n",
              "    </tr>\n",
              "    <tr>\n",
              "      <th>3</th>\n",
              "      <td>9</td>\n",
              "      <td>0.001664</td>\n",
              "      <td>0.0</td>\n",
              "      <td>0.243590</td>\n",
              "      <td>0.0</td>\n",
              "      <td>0.0</td>\n",
              "      <td>0.0</td>\n",
              "      <td>0.0</td>\n",
              "      <td>0.000000</td>\n",
              "      <td>0.0</td>\n",
              "      <td>0.0</td>\n",
              "      <td>1.0</td>\n",
              "      <td>0.0</td>\n",
              "      <td>0.090673</td>\n",
              "      <td>0</td>\n",
              "    </tr>\n",
              "    <tr>\n",
              "      <th>4</th>\n",
              "      <td>16</td>\n",
              "      <td>0.002634</td>\n",
              "      <td>1.0</td>\n",
              "      <td>0.166667</td>\n",
              "      <td>0.0</td>\n",
              "      <td>0.0</td>\n",
              "      <td>0.0</td>\n",
              "      <td>0.0</td>\n",
              "      <td>0.131579</td>\n",
              "      <td>1.0</td>\n",
              "      <td>1.0</td>\n",
              "      <td>0.0</td>\n",
              "      <td>0.0</td>\n",
              "      <td>0.600647</td>\n",
              "      <td>1</td>\n",
              "    </tr>\n",
              "  </tbody>\n",
              "</table>\n",
              "</div>"
            ],
            "text/plain": [
              "   Unnamed: 0  Unnamed: 0.1  sex  ...  risk_recid  prediction_probs  prediction\n",
              "0           3      0.000693  1.0  ...         0.0          0.056160           0\n",
              "1           4      0.000832  1.0  ...         1.0          0.749724           1\n",
              "2           5      0.000970  1.0  ...         0.0          0.169747           0\n",
              "3           9      0.001664  0.0  ...         0.0          0.090673           0\n",
              "4          16      0.002634  1.0  ...         0.0          0.600647           1\n",
              "\n",
              "[5 rows x 15 columns]"
            ]
          },
          "metadata": {
            "tags": []
          },
          "execution_count": 32
        }
      ]
    },
    {
      "cell_type": "code",
      "metadata": {
        "colab_type": "code",
        "outputId": "04712fde-6a2e-41e9-a40a-64e649b1b68c",
        "id": "9_ffJjE0b1Tp",
        "colab": {
          "base_uri": "https://localhost:8080/",
          "height": 241
        }
      },
      "source": [
        "# Sanity Check: make sure we have different f(X)'s\n",
        "df[NUMBER_OF_MODELS - 1].head(5)"
      ],
      "execution_count": 0,
      "outputs": [
        {
          "output_type": "execute_result",
          "data": {
            "text/html": [
              "<div>\n",
              "<style scoped>\n",
              "    .dataframe tbody tr th:only-of-type {\n",
              "        vertical-align: middle;\n",
              "    }\n",
              "\n",
              "    .dataframe tbody tr th {\n",
              "        vertical-align: top;\n",
              "    }\n",
              "\n",
              "    .dataframe thead th {\n",
              "        text-align: right;\n",
              "    }\n",
              "</style>\n",
              "<table border=\"1\" class=\"dataframe\">\n",
              "  <thead>\n",
              "    <tr style=\"text-align: right;\">\n",
              "      <th></th>\n",
              "      <th>Unnamed: 0</th>\n",
              "      <th>Unnamed: 0.1</th>\n",
              "      <th>sex</th>\n",
              "      <th>age</th>\n",
              "      <th>race</th>\n",
              "      <th>juv_fel_count</th>\n",
              "      <th>juv_misd_count</th>\n",
              "      <th>juv_other_count</th>\n",
              "      <th>priors_count</th>\n",
              "      <th>two_year_recid</th>\n",
              "      <th>c_charge_degree_F</th>\n",
              "      <th>c_charge_degree_M</th>\n",
              "      <th>risk_recid</th>\n",
              "      <th>prediction_probs</th>\n",
              "      <th>prediction</th>\n",
              "    </tr>\n",
              "  </thead>\n",
              "  <tbody>\n",
              "    <tr>\n",
              "      <th>0</th>\n",
              "      <td>3</td>\n",
              "      <td>0.000693</td>\n",
              "      <td>1.0</td>\n",
              "      <td>0.333333</td>\n",
              "      <td>0.0</td>\n",
              "      <td>0.0</td>\n",
              "      <td>0.0</td>\n",
              "      <td>0.0</td>\n",
              "      <td>0.000000</td>\n",
              "      <td>0.0</td>\n",
              "      <td>0.0</td>\n",
              "      <td>1.0</td>\n",
              "      <td>0.0</td>\n",
              "      <td>0.049422</td>\n",
              "      <td>0</td>\n",
              "    </tr>\n",
              "    <tr>\n",
              "      <th>1</th>\n",
              "      <td>4</td>\n",
              "      <td>0.000832</td>\n",
              "      <td>1.0</td>\n",
              "      <td>0.294872</td>\n",
              "      <td>0.0</td>\n",
              "      <td>0.0</td>\n",
              "      <td>0.0</td>\n",
              "      <td>0.0</td>\n",
              "      <td>0.368421</td>\n",
              "      <td>1.0</td>\n",
              "      <td>1.0</td>\n",
              "      <td>0.0</td>\n",
              "      <td>1.0</td>\n",
              "      <td>0.731862</td>\n",
              "      <td>1</td>\n",
              "    </tr>\n",
              "    <tr>\n",
              "      <th>2</th>\n",
              "      <td>5</td>\n",
              "      <td>0.000970</td>\n",
              "      <td>1.0</td>\n",
              "      <td>0.320513</td>\n",
              "      <td>0.0</td>\n",
              "      <td>0.0</td>\n",
              "      <td>0.0</td>\n",
              "      <td>0.0</td>\n",
              "      <td>0.078947</td>\n",
              "      <td>0.0</td>\n",
              "      <td>1.0</td>\n",
              "      <td>0.0</td>\n",
              "      <td>0.0</td>\n",
              "      <td>0.194312</td>\n",
              "      <td>0</td>\n",
              "    </tr>\n",
              "    <tr>\n",
              "      <th>3</th>\n",
              "      <td>9</td>\n",
              "      <td>0.001664</td>\n",
              "      <td>0.0</td>\n",
              "      <td>0.243590</td>\n",
              "      <td>0.0</td>\n",
              "      <td>0.0</td>\n",
              "      <td>0.0</td>\n",
              "      <td>0.0</td>\n",
              "      <td>0.000000</td>\n",
              "      <td>0.0</td>\n",
              "      <td>0.0</td>\n",
              "      <td>1.0</td>\n",
              "      <td>0.0</td>\n",
              "      <td>0.071848</td>\n",
              "      <td>0</td>\n",
              "    </tr>\n",
              "    <tr>\n",
              "      <th>4</th>\n",
              "      <td>16</td>\n",
              "      <td>0.002634</td>\n",
              "      <td>1.0</td>\n",
              "      <td>0.166667</td>\n",
              "      <td>0.0</td>\n",
              "      <td>0.0</td>\n",
              "      <td>0.0</td>\n",
              "      <td>0.0</td>\n",
              "      <td>0.131579</td>\n",
              "      <td>1.0</td>\n",
              "      <td>1.0</td>\n",
              "      <td>0.0</td>\n",
              "      <td>0.0</td>\n",
              "      <td>0.619357</td>\n",
              "      <td>1</td>\n",
              "    </tr>\n",
              "  </tbody>\n",
              "</table>\n",
              "</div>"
            ],
            "text/plain": [
              "   Unnamed: 0  Unnamed: 0.1  sex  ...  risk_recid  prediction_probs  prediction\n",
              "0           3      0.000693  1.0  ...         0.0          0.049422           0\n",
              "1           4      0.000832  1.0  ...         1.0          0.731862           1\n",
              "2           5      0.000970  1.0  ...         0.0          0.194312           0\n",
              "3           9      0.001664  0.0  ...         0.0          0.071848           0\n",
              "4          16      0.002634  1.0  ...         0.0          0.619357           1\n",
              "\n",
              "[5 rows x 15 columns]"
            ]
          },
          "metadata": {
            "tags": []
          },
          "execution_count": 37
        }
      ]
    },
    {
      "cell_type": "code",
      "metadata": {
        "colab_type": "code",
        "id": "iezVqQP8b1Tq",
        "colab": {}
      },
      "source": [
        "# Our protected variable A is race, and a = 0 or a = 1. Doesn't matter which DF\n",
        "# we get this from because they are all in the same order.\n",
        "a = df[0]['race']\n",
        "np.asarray(a)\n",
        "a_0_indices = []\n",
        "a_1_indices = []\n",
        "\n",
        "for i in range(len(a)):\n",
        "    if a[i] == 0:\n",
        "        a_0_indices.append(i)\n",
        "    elif a[i] == 1:\n",
        "        a_1_indices.append(i)"
      ],
      "execution_count": 0,
      "outputs": []
    },
    {
      "cell_type": "code",
      "metadata": {
        "colab_type": "code",
        "id": "ooWN1xXsb1Ts",
        "colab": {}
      },
      "source": [
        "# Our true label Y is risk_recid, and y = 0 or y = 1. Doesn't matter which DF\n",
        "# we get this from because they are all in the same order.\n",
        "y = df[0]['risk_recid']\n",
        "np.asarray(y)\n",
        "y_0_indices = []\n",
        "y_1_indices = []\n",
        "\n",
        "for i in range(len(y)):\n",
        "    if y[i] == 0:\n",
        "        y_0_indices.append(i)\n",
        "    elif y[i] == 1:\n",
        "        y_1_indices.append(i)"
      ],
      "execution_count": 0,
      "outputs": []
    },
    {
      "cell_type": "code",
      "metadata": {
        "colab_type": "code",
        "id": "wCI8tAqOb1Tt",
        "colab": {}
      },
      "source": [
        "# Find the intersection of indices lists to make the pi's\n",
        "a_0 = set(a_0_indices)\n",
        "a_1 = set(a_1_indices)\n",
        "y_0 = set(y_0_indices)\n",
        "y_1 = set(y_1_indices)\n",
        "\n",
        "a0_y0 = a_0.intersection(y_0) \n",
        "a0_y1 = a_0.intersection(y_1)\n",
        "a1_y0 = a_1.intersection(y_0)\n",
        "a1_y1 = a_1.intersection(y_1)"
      ],
      "execution_count": 0,
      "outputs": []
    },
    {
      "cell_type": "code",
      "metadata": {
        "colab_type": "code",
        "outputId": "5bb114e8-d22c-4bb5-afc2-99195e6a5124",
        "id": "_pMwiRZnb1Tu",
        "colab": {
          "base_uri": "https://localhost:8080/",
          "height": 85
        }
      },
      "source": [
        "# Sanity check\n",
        "print(len(a_0))\n",
        "print(len(a0_y1) + len(a0_y0))\n",
        "print(len(a_1))\n",
        "print(len(a1_y1) + len(a1_y0))"
      ],
      "execution_count": 0,
      "outputs": [
        {
          "output_type": "stream",
          "text": [
            "609\n",
            "609\n",
            "623\n",
            "623\n"
          ],
          "name": "stdout"
        }
      ]
    },
    {
      "cell_type": "code",
      "metadata": {
        "colab_type": "code",
        "id": "OKV1ljXkb1T1",
        "colab": {}
      },
      "source": [
        "# Our pi variables, pi_a_y are simply the proportions where we have A = a, Y = y\n",
        "pi_0_0 = float(len(a0_y0))/(len(a_0_indices) + len(a_1_indices))\n",
        "pi_0_1 = float(len(a0_y1))/(len(a_0_indices) + len(a_1_indices))\n",
        "pi_1_0 = float(len(a1_y0))/(len(a_0_indices) + len(a_1_indices))\n",
        "pi_1_1 = float(len(a1_y1))/(len(a_0_indices) + len(a_1_indices))"
      ],
      "execution_count": 0,
      "outputs": []
    },
    {
      "cell_type": "code",
      "metadata": {
        "colab_type": "code",
        "outputId": "fb58ad9b-aa4a-4e7b-f232-f00f54b67016",
        "id": "HF9UAzNib1T3",
        "colab": {
          "base_uri": "https://localhost:8080/",
          "height": 85
        }
      },
      "source": [
        "print(pi_0_0)\n",
        "print(pi_0_1)\n",
        "print(pi_1_0)\n",
        "print(pi_1_1)"
      ],
      "execution_count": 0,
      "outputs": [
        {
          "output_type": "stream",
          "text": [
            "0.35064935064935066\n",
            "0.14366883116883117\n",
            "0.20454545454545456\n",
            "0.30113636363636365\n"
          ],
          "name": "stdout"
        }
      ]
    },
    {
      "cell_type": "code",
      "metadata": {
        "colab_type": "code",
        "id": "m7nZjFUob1T4",
        "colab": {}
      },
      "source": [
        "# Our prediction probability is under 'prediction_probs.' Notice that we use the \n",
        "# actual probability of the label, not the label itself.\n",
        "f_X = []\n",
        "for i in range(len(df)):\n",
        "  f_X.append(df[i]['prediction_probs'])\n",
        "  np.asarray(f_X[i])"
      ],
      "execution_count": 0,
      "outputs": []
    },
    {
      "cell_type": "code",
      "metadata": {
        "colab_type": "code",
        "outputId": "605ea903-b641-48eb-d561-2e511abf6d81",
        "id": "cyBCAEV6b1T5",
        "colab": {
          "base_uri": "https://localhost:8080/",
          "height": 119
        }
      },
      "source": [
        "# Check if the dimensions match\n",
        "print(len(f_X[0]))\n",
        "print(len(f_X[1]))\n",
        "print(len(f_X[2]))\n",
        "print(len(f_X[18]))\n",
        "print(len(f_X[19]))\n",
        "print(len(a0_y1) + len(a0_y0) + len(a1_y1) + len(a1_y0))"
      ],
      "execution_count": 0,
      "outputs": [
        {
          "output_type": "stream",
          "text": [
            "1232\n",
            "1232\n",
            "1232\n",
            "1232\n",
            "1232\n",
            "1232\n"
          ],
          "name": "stdout"
        }
      ]
    },
    {
      "cell_type": "markdown",
      "metadata": {
        "colab_type": "text",
        "id": "WStpMENlb1T9"
      },
      "source": [
        "## Linear Program Function\n",
        "Create a reusable function for each linear program.\n",
        "\n",
        "The argument y_value should be Y = 0 or Y = 1, depending on which Y value we want to test EO on. "
      ]
    },
    {
      "cell_type": "code",
      "metadata": {
        "colab_type": "code",
        "id": "IzzGUlEYb1T9",
        "colab": {}
      },
      "source": [
        "# Input: function f(X), y_value (either 0 or 1)\n",
        "# Output: (solved) model, weights\n",
        "def EO_linear_prog(f_X, y_value):\n",
        "  if(y_value != 0 and y_value != 1):\n",
        "    return(\"Please enter 0 or 1 for the second argument (y_value).\")\n",
        "  \n",
        "  # Define the linear program as a maximization problem\n",
        "  model = pulp.LpProblem(\"Equalized Odds Fairness Checking\", pulp.LpMaximize)\n",
        "  \n",
        "  # Our w variable in the objective\n",
        "  # Lower bound constraint set here with lowBound=0 option\n",
        "  w = pulp.LpVariable.dicts(\"w\", (i for i in range(len(f_X))),lowBound=0, cat='Continuous')\n",
        "  \n",
        "  if(y_value == 0):\n",
        "    # Objective Function\n",
        "    model += pulp.lpSum(\n",
        "      [(1./pi_0_0) * w[index] * f_X[index] for index in a0_y0] +\n",
        "      [- (1./pi_1_0) * w[index] * f_X[index] for index in a1_y0])\n",
        "    \n",
        "    # Constraint that the \\sum(w_i * 1{a = 0, y = 0}) = pi_0_0\n",
        "    model += pulp.lpSum([w[index] for index in a0_y0]) == pi_0_0\n",
        "    \n",
        "    # Constraint that the \\sum(w_i * 1{a = 0, y = 1}) = pi_0_1\n",
        "    model += pulp.lpSum([w[index] for index in a1_y0]) == pi_1_0\n",
        "    \n",
        "  elif(y_value == 1):\n",
        "    # Objective Function\n",
        "    model += pulp.lpSum(\n",
        "        [(1./pi_0_1) * w[index] * f_X[index] for index in a0_y1] +\n",
        "        [- (1./pi_1_1) * w[index] * f_X[index] for index in a1_y1])\n",
        "    \n",
        "    # Constraint that the \\sum(w_i * 1{a = 0, y = 1}) = pi_0_1\n",
        "    model += pulp.lpSum([w[index] for index in a0_y1]) == pi_0_1\n",
        "    \n",
        "    # Constraint that the \\sum(w_i * 1{a = 1, y = 1}) = pi_0_1\n",
        "    model += pulp.lpSum([w[index] for index in a1_y1]) == pi_1_1\n",
        "  \n",
        "  # Constraint that the w's all sum to 1\n",
        "  model += pulp.lpSum([w[i] for i in range(len(f_X))]) == 1\n",
        "  \n",
        "  # Solve the linear program\n",
        "  model.solve()\n",
        "  \n",
        "  return model, w\n",
        "\n",
        "# Get the results\n",
        "def weights_dictionary(w):\n",
        "  results_dict = dict()\n",
        "  for i in range(len(f_X)):\n",
        "    results_dict[w[i]] = w[i].varValue"
      ],
      "execution_count": 0,
      "outputs": []
    },
    {
      "cell_type": "markdown",
      "metadata": {
        "colab_type": "text",
        "id": "1TWV0Pq4b1T-"
      },
      "source": [
        "## Solve Linear Programs (Y = 0)\n",
        "We use the PuLP package to solve the linear program for each of the f(X), where Y = 0."
      ]
    },
    {
      "cell_type": "code",
      "metadata": {
        "colab_type": "code",
        "id": "LnkxMlyYb1T-",
        "colab": {}
      },
      "source": [
        "# Solve for each of the f(X)\n",
        "y0_models = []\n",
        "y0_weights = []\n",
        "\n",
        "for i in range(len(f_X)):\n",
        "  model, weights = EO_linear_prog(f_X[i], 0)\n",
        "  y0_models.append(model)\n",
        "  y0_weights.append(weights)"
      ],
      "execution_count": 0,
      "outputs": []
    },
    {
      "cell_type": "code",
      "metadata": {
        "colab_type": "code",
        "outputId": "fb3485f3-6c1c-48e6-da14-77edb6ec90d0",
        "id": "vDPVZiZMb1UA",
        "colab": {
          "base_uri": "https://localhost:8080/",
          "height": 357
        }
      },
      "source": [
        "# Get all the objective values\n",
        "for i in range(len(f_X)):\n",
        "  result_string = \"Objective for f(X)_{} where Y = 0: \".format(i)\n",
        "  print(result_string + str(pulp.value(y0_models[i].objective)))"
      ],
      "execution_count": 0,
      "outputs": [
        {
          "output_type": "stream",
          "text": [
            "Objective for f(X)_0 where Y = 0: 0.8055151421489729\n",
            "Objective for f(X)_1 where Y = 0: 0.8772998486054551\n",
            "Objective for f(X)_2 where Y = 0: 0.7524222239543167\n",
            "Objective for f(X)_3 where Y = 0: 0.8847768548508897\n",
            "Objective for f(X)_4 where Y = 0: 0.8513205577128649\n",
            "Objective for f(X)_5 where Y = 0: 0.8881290267329012\n",
            "Objective for f(X)_6 where Y = 0: 0.8863055288361519\n",
            "Objective for f(X)_7 where Y = 0: 0.8562814993127389\n",
            "Objective for f(X)_8 where Y = 0: 0.8649197967720706\n",
            "Objective for f(X)_9 where Y = 0: 0.8014130306670665\n",
            "Objective for f(X)_10 where Y = 0: 0.7635101950070329\n",
            "Objective for f(X)_11 where Y = 0: 0.9056835387901015\n",
            "Objective for f(X)_12 where Y = 0: 0.8523644848247076\n",
            "Objective for f(X)_13 where Y = 0: 0.8715314425461611\n",
            "Objective for f(X)_14 where Y = 0: 0.8503229426835276\n",
            "Objective for f(X)_15 where Y = 0: 0.8701754793126203\n",
            "Objective for f(X)_16 where Y = 0: 0.8495550696092068\n",
            "Objective for f(X)_17 where Y = 0: 0.8299828417368227\n",
            "Objective for f(X)_18 where Y = 0: 0.8426334558785389\n",
            "Objective for f(X)_19 where Y = 0: 0.8875207320751776\n"
          ],
          "name": "stdout"
        }
      ]
    },
    {
      "cell_type": "code",
      "metadata": {
        "colab_type": "code",
        "outputId": "65760504-7fa9-4383-e668-e4d057d6d3b7",
        "id": "p9dmsV5Kb1UB",
        "colab": {
          "base_uri": "https://localhost:8080/",
          "height": 584
        }
      },
      "source": [
        "# Plot objective values\n",
        "y0_objectives = []\n",
        "for i in range(len(y0_models)):\n",
        "  y0_objectives.append(pulp.value(y0_models[i].objective))\n",
        "  \n",
        "# Get values for x axis\n",
        "x_axis = []\n",
        "units = 20\n",
        "for i in range(len(y0_models)):\n",
        "  x_axis.append(units)\n",
        "  units += 20\n",
        "\n",
        "plt.figure(figsize=(9,9))\n",
        "plt.plot(x_axis, y0_objectives)\n",
        "plt.xlabel('Units of Model')\n",
        "plt.ylabel('LP Objective Value')\n",
        "plt.title('NN Hidden Units vs. EO LP Objective Value (Y=0)')"
      ],
      "execution_count": 0,
      "outputs": [
        {
          "output_type": "execute_result",
          "data": {
            "text/plain": [
              "Text(0.5, 1.0, 'NN Hidden Units vs. EO LP Objective Value (Y=0)')"
            ]
          },
          "metadata": {
            "tags": []
          },
          "execution_count": 46
        },
        {
          "output_type": "display_data",
          "data": {
            "image/png": "[encoded data removed]",
            "text/plain": [
              "<Figure size 648x648 with 1 Axes>"
            ]
          },
          "metadata": {
            "tags": []
          }
        }
      ]
    },
    {
      "cell_type": "code",
      "metadata": {
        "id": "R1Cd68GuV5eW",
        "colab_type": "code",
        "outputId": "ba433e17-e48a-4454-bf88-a87c7af38c6e",
        "colab": {
          "base_uri": "https://localhost:8080/",
          "height": 584
        }
      },
      "source": [
        "# Plot training accuracies over units\n",
        "unit_model_accuracies_df = pd.read_csv('/content/drive/My Drive/colab/fairness_checking/unit_models/unit_model_accuracies.csv')\n",
        "unit_model_accuracies_df.head(5)\n",
        "unit_model_acc = unit_model_accuracies_df['Model Accuracy']\n",
        "\n",
        "plt.figure(figsize=(9,9))\n",
        "plt.plot(x_axis, unit_model_acc)\n",
        "# plt.axis([0, 100, 0.8, 1.0])\n",
        "plt.xlabel('Units of Model')\n",
        "plt.ylabel('Test Accuracy')\n",
        "plt.title('NN Hidden Units vs. Model Test Accuracy')"
      ],
      "execution_count": 0,
      "outputs": [
        {
          "output_type": "execute_result",
          "data": {
            "text/plain": [
              "Text(0.5, 1.0, 'NN Hidden Units vs. Model Test Accuracy')"
            ]
          },
          "metadata": {
            "tags": []
          },
          "execution_count": 54
        },
        {
          "output_type": "display_data",
          "data": {
            "image/png": "[encoded data removed]",
            "text/plain": [
              "<Figure size 648x648 with 1 Axes>"
            ]
          },
          "metadata": {
            "tags": []
          }
        }
      ]
    },
    {
      "cell_type": "markdown",
      "metadata": {
        "colab_type": "text",
        "id": "tFrxMjESb1UE"
      },
      "source": [
        "## Solve Linear Programs (Y = 1)\n",
        "We use the PuLP package to solve the linear program for each of the f(X), where Y = 1."
      ]
    },
    {
      "cell_type": "code",
      "metadata": {
        "colab_type": "code",
        "id": "pcKte1MWb1UE",
        "colab": {}
      },
      "source": [
        "# Solve for each of the f(X)\n",
        "y1_models = []\n",
        "y1_weights = []\n",
        "\n",
        "for i in range(len(f_X)):\n",
        "  model, weights = EO_linear_prog(f_X[i], 1)\n",
        "  y1_models.append(model)\n",
        "  y1_weights.append(weights)"
      ],
      "execution_count": 0,
      "outputs": []
    },
    {
      "cell_type": "code",
      "metadata": {
        "colab_type": "code",
        "outputId": "e97a9e20-8636-4c18-a3d7-1c0c6a6f87b7",
        "id": "ZUSIgArTb1UH",
        "colab": {
          "base_uri": "https://localhost:8080/",
          "height": 357
        }
      },
      "source": [
        "# Get all the objective values\n",
        "for i in range(len(f_X)):\n",
        "  result_string = \"Objective for f(X)_{} where Y = 1: \".format(i)\n",
        "  print(result_string + str(pulp.value(y1_models[i].objective)))"
      ],
      "execution_count": 0,
      "outputs": [
        {
          "output_type": "stream",
          "text": [
            "Objective for f(X)_0 where Y = 1: 0.8745984333023437\n",
            "Objective for f(X)_1 where Y = 1: 0.9090915529380682\n",
            "Objective for f(X)_2 where Y = 1: 0.9019893430125403\n",
            "Objective for f(X)_3 where Y = 1: 0.8982163580812192\n",
            "Objective for f(X)_4 where Y = 1: 0.9025216080264852\n",
            "Objective for f(X)_5 where Y = 1: 0.9121331229210566\n",
            "Objective for f(X)_6 where Y = 1: 0.9173371028517293\n",
            "Objective for f(X)_7 where Y = 1: 0.8364067338299592\n",
            "Objective for f(X)_8 where Y = 1: 0.8945856271077871\n",
            "Objective for f(X)_9 where Y = 1: 0.9308202006510553\n",
            "Objective for f(X)_10 where Y = 1: 0.8680285533771948\n",
            "Objective for f(X)_11 where Y = 1: 0.8985374690740694\n",
            "Objective for f(X)_12 where Y = 1: 0.9068181679625794\n",
            "Objective for f(X)_13 where Y = 1: 0.9342245366264099\n",
            "Objective for f(X)_14 where Y = 1: 0.9226081627811793\n",
            "Objective for f(X)_15 where Y = 1: 0.8606353935433505\n",
            "Objective for f(X)_16 where Y = 1: 0.9466961274791029\n",
            "Objective for f(X)_17 where Y = 1: 0.9118468828732895\n",
            "Objective for f(X)_18 where Y = 1: 0.8996367130457693\n",
            "Objective for f(X)_19 where Y = 1: 0.8943080631318758\n"
          ],
          "name": "stdout"
        }
      ]
    },
    {
      "cell_type": "code",
      "metadata": {
        "colab_type": "code",
        "outputId": "f82ab6da-9381-42c5-df1c-1d6e60e440df",
        "id": "HeEtJ3uIb1UI",
        "colab": {
          "base_uri": "https://localhost:8080/",
          "height": 584
        }
      },
      "source": [
        "# Plot objective values\n",
        "y1_objectives = []\n",
        "for i in range(len(y1_models)):\n",
        "  y1_objectives.append(pulp.value(y1_models[i].objective))\n",
        "\n",
        "# Get values for x axis\n",
        "x_axis = []\n",
        "units = 20\n",
        "for i in range(len(y1_models)):\n",
        "  x_axis.append(units)\n",
        "  units += 20\n",
        "\n",
        "plt.figure(figsize=(9,9))\n",
        "plt.plot(x_axis, y1_objectives)\n",
        "plt.xlabel('Units of Model')\n",
        "plt.ylabel('LP Objective Value')\n",
        "plt.title('NN Hidden Units vs. EO LP Objective Value (Y=1)')"
      ],
      "execution_count": 0,
      "outputs": [
        {
          "output_type": "execute_result",
          "data": {
            "text/plain": [
              "Text(0.5, 1.0, 'NN Hidden Units vs. EO LP Objective Value (Y=1)')"
            ]
          },
          "metadata": {
            "tags": []
          },
          "execution_count": 50
        },
        {
          "output_type": "display_data",
          "data": {
            "image/png": "[encoded data removed]",
            "text/plain": [
              "<Figure size 648x648 with 1 Axes>"
            ]
          },
          "metadata": {
            "tags": []
          }
        }
      ]
    },
    {
      "cell_type": "code",
      "metadata": {
        "id": "rilysCsDWaiA",
        "colab_type": "code",
        "outputId": "d90625a3-d460-4975-dcd7-909e370b1ddb",
        "colab": {
          "base_uri": "https://localhost:8080/",
          "height": 584
        }
      },
      "source": [
        "# Plot training accuracies over units\n",
        "unit_model_accuracies_df = pd.read_csv('/content/drive/My Drive/colab/fairness_checking/unit_models/unit_model_accuracies.csv')\n",
        "unit_model_accuracies_df.head(5)\n",
        "unit_model_acc = unit_model_accuracies_df['Model Accuracy']\n",
        "\n",
        "plt.figure(figsize=(9,9))\n",
        "plt.plot(x_axis, unit_model_acc)\n",
        "# plt.axis([0, 100, 0.8, 1.0])\n",
        "plt.xlabel('Units of Model')\n",
        "plt.ylabel('Test Accuracy')\n",
        "plt.title('NN Hidden Units vs. Model Test Accuracy')"
      ],
      "execution_count": 0,
      "outputs": [
        {
          "output_type": "execute_result",
          "data": {
            "text/plain": [
              "Text(0.5, 1.0, 'NN Hidden Units vs. Model Test Accuracy')"
            ]
          },
          "metadata": {
            "tags": []
          },
          "execution_count": 53
        },
        {
          "output_type": "display_data",
          "data": {
            "image/png": "[encoded data removed]",
            "text/plain": [
              "<Figure size 648x648 with 1 Axes>"
            ]
          },
          "metadata": {
            "tags": []
          }
        }
      ]
    },
    {
      "cell_type": "code",
      "metadata": {
        "id": "Dzskwt5kaMvl",
        "colab_type": "code",
        "colab": {}
      },
      "source": [
        "# Save as a CSV\n",
        "df = pd.DataFrame({'Hidden Units':x_axis, 'EO LP Objective Values (Y=0)':y0_objectives, 'EO LP Objective Values (Y=1)':y1_objectives})\n",
        "df.head(5)\n",
        "df.to_csv('/content/drive/My Drive/colab/fairness_checking/eo_unit_models.csv')"
      ],
      "execution_count": 0,
      "outputs": []
    }
  ]
}