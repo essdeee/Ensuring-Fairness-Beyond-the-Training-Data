{
  "nbformat": 4,
  "nbformat_minor": 0,
  "metadata": {
    "colab": {
      "name": "EO_linear_prog.ipynb",
      "provenance": [],
      "collapsed_sections": []
    },
    "language_info": {
      "codemirror_mode": {
        "name": "ipython",
        "version": 3
      },
      "file_extension": ".py",
      "mimetype": "text/x-python",
      "name": "python",
      "nbconvert_exporter": "python",
      "pygments_lexer": "ipython3",
      "version": "3.7.1"
    },
    "kernelspec": {
      "display_name": "Python 3",
      "language": "python",
      "name": "python3"
    }
  },
  "cells": [
    {
      "cell_type": "markdown",
      "metadata": {
        "id": "VYEUJK2JDiTS",
        "colab_type": "text"
      },
      "source": [
        "# Fairness Checking: Linear Program (Equalized Odds)\n",
        "This notebook uses PuLP to solve the linear program outlined in the \"Fairness Checking\" document. "
      ]
    },
    {
      "cell_type": "code",
      "metadata": {
        "id": "AyLJZXkNDndG",
        "colab_type": "code",
        "outputId": "a7f294a2-6001-4518-e499-f2c532688311",
        "colab": {
          "base_uri": "https://localhost:8080/",
          "height": 51
        }
      },
      "source": [
        "!pip install pulp"
      ],
      "execution_count": 0,
      "outputs": [
        {
          "output_type": "stream",
          "text": [
            "Requirement already satisfied: pulp in /usr/local/lib/python3.6/dist-packages (1.6.10)\n",
            "Requirement already satisfied: pyparsing>=2.0.1 in /usr/local/lib/python3.6/dist-packages (from pulp) (2.4.0)\n"
          ],
          "name": "stdout"
        }
      ]
    },
    {
      "cell_type": "code",
      "metadata": {
        "id": "TYaVKaWuDiTT",
        "colab_type": "code",
        "colab": {}
      },
      "source": [
        "import pandas as pd\n",
        "import numpy as np\n",
        "import pulp"
      ],
      "execution_count": 0,
      "outputs": []
    },
    {
      "cell_type": "code",
      "metadata": {
        "id": "7nFOqCIjDj3D",
        "colab_type": "code",
        "outputId": "d550281f-b63a-434d-e8ff-0cb905240f1b",
        "colab": {
          "base_uri": "https://localhost:8080/",
          "height": 34
        }
      },
      "source": [
        "# Run this cell to mount your Google Drive.\n",
        "from google.colab import drive\n",
        "drive.mount('/content/drive')"
      ],
      "execution_count": 0,
      "outputs": [
        {
          "output_type": "stream",
          "text": [
            "Drive already mounted at /content/drive; to attempt to forcibly remount, call drive.mount(\"/content/drive\", force_remount=True).\n"
          ],
          "name": "stdout"
        }
      ]
    },
    {
      "cell_type": "markdown",
      "metadata": {
        "id": "id0PTMTBDiTV",
        "colab_type": "text"
      },
      "source": [
        "## Import Predicted Data\n",
        "We take A (the protected attribute) to be the 'race' variable, and a = 0 while a' = 1. The last column, 'prediction,' is our f(X) variable, which can either be 0 or 1."
      ]
    },
    {
      "cell_type": "code",
      "metadata": {
        "id": "EaDU5FwHDiTW",
        "colab_type": "code",
        "colab": {}
      },
      "source": [
        "df = pd.read_csv('/content/drive/My Drive/colab/fairness_checking/predicted_dataset_scores.csv')"
      ],
      "execution_count": 0,
      "outputs": []
    },
    {
      "cell_type": "code",
      "metadata": {
        "id": "3D-WDPLsDiTY",
        "colab_type": "code",
        "outputId": "e418caa1-6595-41fa-8384-c0f5cbfa1268",
        "colab": {
          "base_uri": "https://localhost:8080/",
          "height": 241
        }
      },
      "source": [
        "df.head(5)"
      ],
      "execution_count": 0,
      "outputs": [
        {
          "output_type": "execute_result",
          "data": {
            "text/html": [
              "<div>\n",
              "<style scoped>\n",
              "    .dataframe tbody tr th:only-of-type {\n",
              "        vertical-align: middle;\n",
              "    }\n",
              "\n",
              "    .dataframe tbody tr th {\n",
              "        vertical-align: top;\n",
              "    }\n",
              "\n",
              "    .dataframe thead th {\n",
              "        text-align: right;\n",
              "    }\n",
              "</style>\n",
              "<table border=\"1\" class=\"dataframe\">\n",
              "  <thead>\n",
              "    <tr style=\"text-align: right;\">\n",
              "      <th></th>\n",
              "      <th>Unnamed: 0</th>\n",
              "      <th>Unnamed: 0.1</th>\n",
              "      <th>sex</th>\n",
              "      <th>age</th>\n",
              "      <th>race</th>\n",
              "      <th>juv_fel_count</th>\n",
              "      <th>juv_misd_count</th>\n",
              "      <th>juv_other_count</th>\n",
              "      <th>priors_count</th>\n",
              "      <th>two_year_recid</th>\n",
              "      <th>c_charge_degree_F</th>\n",
              "      <th>c_charge_degree_M</th>\n",
              "      <th>risk_recid</th>\n",
              "      <th>prediction_probs</th>\n",
              "      <th>prediction</th>\n",
              "    </tr>\n",
              "  </thead>\n",
              "  <tbody>\n",
              "    <tr>\n",
              "      <th>0</th>\n",
              "      <td>3</td>\n",
              "      <td>0.000693</td>\n",
              "      <td>1.0</td>\n",
              "      <td>0.333333</td>\n",
              "      <td>0.0</td>\n",
              "      <td>0.0</td>\n",
              "      <td>0.0</td>\n",
              "      <td>0.0</td>\n",
              "      <td>0.000000</td>\n",
              "      <td>0.0</td>\n",
              "      <td>0.0</td>\n",
              "      <td>1.0</td>\n",
              "      <td>0.0</td>\n",
              "      <td>0.029285</td>\n",
              "      <td>0</td>\n",
              "    </tr>\n",
              "    <tr>\n",
              "      <th>1</th>\n",
              "      <td>4</td>\n",
              "      <td>0.000832</td>\n",
              "      <td>1.0</td>\n",
              "      <td>0.294872</td>\n",
              "      <td>0.0</td>\n",
              "      <td>0.0</td>\n",
              "      <td>0.0</td>\n",
              "      <td>0.0</td>\n",
              "      <td>0.368421</td>\n",
              "      <td>1.0</td>\n",
              "      <td>1.0</td>\n",
              "      <td>0.0</td>\n",
              "      <td>1.0</td>\n",
              "      <td>0.737930</td>\n",
              "      <td>1</td>\n",
              "    </tr>\n",
              "    <tr>\n",
              "      <th>2</th>\n",
              "      <td>5</td>\n",
              "      <td>0.000970</td>\n",
              "      <td>1.0</td>\n",
              "      <td>0.320513</td>\n",
              "      <td>0.0</td>\n",
              "      <td>0.0</td>\n",
              "      <td>0.0</td>\n",
              "      <td>0.0</td>\n",
              "      <td>0.078947</td>\n",
              "      <td>0.0</td>\n",
              "      <td>1.0</td>\n",
              "      <td>0.0</td>\n",
              "      <td>0.0</td>\n",
              "      <td>0.169010</td>\n",
              "      <td>0</td>\n",
              "    </tr>\n",
              "    <tr>\n",
              "      <th>3</th>\n",
              "      <td>9</td>\n",
              "      <td>0.001664</td>\n",
              "      <td>0.0</td>\n",
              "      <td>0.243590</td>\n",
              "      <td>0.0</td>\n",
              "      <td>0.0</td>\n",
              "      <td>0.0</td>\n",
              "      <td>0.0</td>\n",
              "      <td>0.000000</td>\n",
              "      <td>0.0</td>\n",
              "      <td>0.0</td>\n",
              "      <td>1.0</td>\n",
              "      <td>0.0</td>\n",
              "      <td>0.057516</td>\n",
              "      <td>0</td>\n",
              "    </tr>\n",
              "    <tr>\n",
              "      <th>4</th>\n",
              "      <td>16</td>\n",
              "      <td>0.002634</td>\n",
              "      <td>1.0</td>\n",
              "      <td>0.166667</td>\n",
              "      <td>0.0</td>\n",
              "      <td>0.0</td>\n",
              "      <td>0.0</td>\n",
              "      <td>0.0</td>\n",
              "      <td>0.131579</td>\n",
              "      <td>1.0</td>\n",
              "      <td>1.0</td>\n",
              "      <td>0.0</td>\n",
              "      <td>0.0</td>\n",
              "      <td>0.623609</td>\n",
              "      <td>1</td>\n",
              "    </tr>\n",
              "  </tbody>\n",
              "</table>\n",
              "</div>"
            ],
            "text/plain": [
              "   Unnamed: 0  Unnamed: 0.1  sex  ...  risk_recid  prediction_probs  prediction\n",
              "0           3      0.000693  1.0  ...         0.0          0.029285           0\n",
              "1           4      0.000832  1.0  ...         1.0          0.737930           1\n",
              "2           5      0.000970  1.0  ...         0.0          0.169010           0\n",
              "3           9      0.001664  0.0  ...         0.0          0.057516           0\n",
              "4          16      0.002634  1.0  ...         0.0          0.623609           1\n",
              "\n",
              "[5 rows x 15 columns]"
            ]
          },
          "metadata": {
            "tags": []
          },
          "execution_count": 9
        }
      ]
    },
    {
      "cell_type": "code",
      "metadata": {
        "id": "MpNdzoAm6up6",
        "colab_type": "code",
        "outputId": "429851cd-d862-4de9-85b1-ec8087273ac3",
        "colab": {
          "base_uri": "https://localhost:8080/",
          "height": 34
        }
      },
      "source": [
        "len(df)"
      ],
      "execution_count": 0,
      "outputs": [
        {
          "output_type": "execute_result",
          "data": {
            "text/plain": [
              "1232"
            ]
          },
          "metadata": {
            "tags": []
          },
          "execution_count": 10
        }
      ]
    },
    {
      "cell_type": "code",
      "metadata": {
        "id": "IvLHi63FDiTb",
        "colab_type": "code",
        "colab": {}
      },
      "source": [
        "# Our protected variable A is race, and a = 0 or a = 1. \n",
        "a = df['race']\n",
        "np.asarray(a)\n",
        "a_0_indices = []\n",
        "a_1_indices = []\n",
        "\n",
        "for i in range(len(a)):\n",
        "    if a[i] == 0:\n",
        "        a_0_indices.append(i)\n",
        "    elif a[i] == 1:\n",
        "        a_1_indices.append(i)"
      ],
      "execution_count": 0,
      "outputs": []
    },
    {
      "cell_type": "code",
      "metadata": {
        "id": "YK_XtVtFTlRs",
        "colab_type": "code",
        "colab": {}
      },
      "source": [
        "# Our true label Y is risk_recid, and y = 0 or y = 1. \n",
        "y = df['risk_recid']\n",
        "np.asarray(y)\n",
        "y_0_indices = []\n",
        "y_1_indices = []\n",
        "\n",
        "for i in range(len(y)):\n",
        "    if y[i] == 0:\n",
        "        y_0_indices.append(i)\n",
        "    elif y[i] == 1:\n",
        "        y_1_indices.append(i)"
      ],
      "execution_count": 0,
      "outputs": []
    },
    {
      "cell_type": "code",
      "metadata": {
        "id": "o7dDcSX7UtH1",
        "colab_type": "code",
        "colab": {}
      },
      "source": [
        "# Find the intersection of indices lists to make the pi's\n",
        "a_0 = set(a_0_indices)\n",
        "a_1 = set(a_1_indices)\n",
        "y_0 = set(y_0_indices)\n",
        "y_1 = set(y_1_indices)\n",
        "\n",
        "a0_y0 = a_0.intersection(y_0) \n",
        "a0_y1 = a_0.intersection(y_1)\n",
        "a1_y0 = a_1.intersection(y_0)\n",
        "a1_y1 = a_1.intersection(y_1)"
      ],
      "execution_count": 0,
      "outputs": []
    },
    {
      "cell_type": "code",
      "metadata": {
        "id": "f_wZ_LCaVTBu",
        "colab_type": "code",
        "outputId": "19262898-4b1a-4fcd-fc00-55f84b6060e4",
        "colab": {
          "base_uri": "https://localhost:8080/",
          "height": 85
        }
      },
      "source": [
        "# Sanity check\n",
        "print(len(a_0))\n",
        "print(len(a0_y1) + len(a0_y0))\n",
        "print(len(a_1))\n",
        "print(len(a1_y1) + len(a1_y0))"
      ],
      "execution_count": 0,
      "outputs": [
        {
          "output_type": "stream",
          "text": [
            "609\n",
            "609\n",
            "623\n",
            "623\n"
          ],
          "name": "stdout"
        }
      ]
    },
    {
      "cell_type": "code",
      "metadata": {
        "id": "ARsmRic1DiTi",
        "colab_type": "code",
        "colab": {}
      },
      "source": [
        "# Our pi variables, pi_a_y are simply the proportions where we have A = a, Y = y\n",
        "pi_0_0 = float(len(a0_y0))/(len(a_0_indices) + len(a_1_indices))\n",
        "pi_0_1 = float(len(a0_y1))/(len(a_0_indices) + len(a_1_indices))\n",
        "pi_1_0 = float(len(a1_y0))/(len(a_0_indices) + len(a_1_indices))\n",
        "pi_1_1 = float(len(a1_y1))/(len(a_0_indices) + len(a_1_indices))"
      ],
      "execution_count": 0,
      "outputs": []
    },
    {
      "cell_type": "code",
      "metadata": {
        "id": "ggsCMcr5DiTk",
        "colab_type": "code",
        "outputId": "954207a0-c621-4e10-e786-ebad9b540c4e",
        "colab": {
          "base_uri": "https://localhost:8080/",
          "height": 85
        }
      },
      "source": [
        "print(pi_0_0)\n",
        "print(pi_0_1)\n",
        "print(pi_1_0)\n",
        "print(pi_1_1)"
      ],
      "execution_count": 0,
      "outputs": [
        {
          "output_type": "stream",
          "text": [
            "0.35064935064935066\n",
            "0.14366883116883117\n",
            "0.20454545454545456\n",
            "0.30113636363636365\n"
          ],
          "name": "stdout"
        }
      ]
    },
    {
      "cell_type": "code",
      "metadata": {
        "id": "w5PbdhJ5DiTn",
        "colab_type": "code",
        "outputId": "9c83a235-1fb4-4384-b0f6-a74c0886d4ae",
        "colab": {
          "base_uri": "https://localhost:8080/",
          "height": 51
        }
      },
      "source": [
        "# Our prediction probability is under 'prediction_probs.' Notice that we use the \n",
        "# actual probability of the label, not the label itself.\n",
        "f_X = df['prediction_probs']\n",
        "np.asarray(f_X)"
      ],
      "execution_count": 0,
      "outputs": [
        {
          "output_type": "execute_result",
          "data": {
            "text/plain": [
              "array([0.02928513, 0.7379298 , 0.1690098 , ..., 0.99888   , 0.47041905,\n",
              "       0.53738034])"
            ]
          },
          "metadata": {
            "tags": []
          },
          "execution_count": 17
        }
      ]
    },
    {
      "cell_type": "code",
      "metadata": {
        "id": "f66NgcN8FLnM",
        "colab_type": "code",
        "outputId": "a6c4463e-24ee-43c6-a1b3-b4d3eda41682",
        "colab": {
          "base_uri": "https://localhost:8080/",
          "height": 51
        }
      },
      "source": [
        "# Check if the dimensions match\n",
        "print(len(f_X))\n",
        "print(len(a0_y1) + len(a0_y0) + len(a1_y1) + len(a1_y0))"
      ],
      "execution_count": 0,
      "outputs": [
        {
          "output_type": "stream",
          "text": [
            "1232\n",
            "1232\n"
          ],
          "name": "stdout"
        }
      ]
    },
    {
      "cell_type": "markdown",
      "metadata": {
        "id": "oRPqsRrIDiTp",
        "colab_type": "text"
      },
      "source": [
        "## Create Linear Program (Y = 0)\n",
        "We use the PuLP package to create our linear program."
      ]
    },
    {
      "cell_type": "code",
      "metadata": {
        "id": "ogpKnoWJFYpU",
        "colab_type": "code",
        "colab": {}
      },
      "source": [
        "# Define the linear program as a maximization problem\n",
        "model = pulp.LpProblem(\"Equalized Odds Fairness Checking\", pulp.LpMaximize)"
      ],
      "execution_count": 0,
      "outputs": []
    },
    {
      "cell_type": "code",
      "metadata": {
        "id": "X9IP8W18DiTq",
        "colab_type": "code",
        "colab": {}
      },
      "source": [
        "# Our w variable in the objective\n",
        "# Lower bound constraint set here with lowBound=0 option\n",
        "w = pulp.LpVariable.dicts(\"w\", (i for i in range(len(f_X))),lowBound=0, cat='Continuous')"
      ],
      "execution_count": 0,
      "outputs": []
    },
    {
      "cell_type": "code",
      "metadata": {
        "id": "kCxbeAKBDiTu",
        "colab_type": "code",
        "colab": {}
      },
      "source": [
        "# Objective Function\n",
        "model += pulp.lpSum(\n",
        "    [(1./pi_0_0) * w[index] * f_X[index] for index in a0_y0] +\n",
        "    [- (1./pi_1_0) * w[index] * f_X[index] for index in a1_y0]\n",
        ")"
      ],
      "execution_count": 0,
      "outputs": []
    },
    {
      "cell_type": "code",
      "metadata": {
        "id": "v9zoITrlDiTw",
        "colab_type": "code",
        "colab": {}
      },
      "source": [
        "# Constraint that the \\sum(w_i * 1{a = 0, y = 0}) = pi_0_0\n",
        "model += pulp.lpSum([w[index] for index in a0_y0]) == pi_0_0"
      ],
      "execution_count": 0,
      "outputs": []
    },
    {
      "cell_type": "code",
      "metadata": {
        "id": "YzFEvnSmWcMb",
        "colab_type": "code",
        "colab": {}
      },
      "source": [
        "# Constraint that the \\sum(w_i * 1{a = 0, y = 1}) = pi_0_1\n",
        "model += pulp.lpSum([w[index] for index in a1_y0]) == pi_1_0"
      ],
      "execution_count": 0,
      "outputs": []
    },
    {
      "cell_type": "code",
      "metadata": {
        "id": "iAraMIkzDiT2",
        "colab_type": "code",
        "colab": {}
      },
      "source": [
        "# Constraint that the w's all sum to 1\n",
        "model += pulp.lpSum([w[i] for i in range(len(f_X))]) == 1"
      ],
      "execution_count": 0,
      "outputs": []
    },
    {
      "cell_type": "code",
      "metadata": {
        "id": "TqmE0SxsDiT4",
        "colab_type": "code",
        "outputId": "ba4933d8-4166-4d26-f349-e7ad87c2a4eb",
        "colab": {
          "base_uri": "https://localhost:8080/",
          "height": 34
        }
      },
      "source": [
        "# Solve the linear program\n",
        "model.solve()"
      ],
      "execution_count": 0,
      "outputs": [
        {
          "output_type": "execute_result",
          "data": {
            "text/plain": [
              "1"
            ]
          },
          "metadata": {
            "tags": []
          },
          "execution_count": 25
        }
      ]
    },
    {
      "cell_type": "code",
      "metadata": {
        "id": "4PqntoblDiT8",
        "colab_type": "code",
        "outputId": "1b4bd39a-6800-4d4e-bc30-6222b4136e63",
        "colab": {
          "base_uri": "https://localhost:8080/",
          "height": 34
        }
      },
      "source": [
        "pulp.LpStatus[model.status]"
      ],
      "execution_count": 0,
      "outputs": [
        {
          "output_type": "execute_result",
          "data": {
            "text/plain": [
              "'Optimal'"
            ]
          },
          "metadata": {
            "tags": []
          },
          "execution_count": 26
        }
      ]
    },
    {
      "cell_type": "code",
      "metadata": {
        "id": "1MFQpA9uDiUC",
        "colab_type": "code",
        "colab": {}
      },
      "source": [
        "# Get the results\n",
        "results_dict = dict()\n",
        "for i in range(len(f_X)):\n",
        "  results_dict[w[i]] = w[i].varValue"
      ],
      "execution_count": 0,
      "outputs": []
    },
    {
      "cell_type": "code",
      "metadata": {
        "id": "uegABANUHT6m",
        "colab_type": "code",
        "colab": {}
      },
      "source": [
        "# Print the results\n",
        "# results_dict"
      ],
      "execution_count": 0,
      "outputs": []
    },
    {
      "cell_type": "code",
      "metadata": {
        "id": "7AUPEl91DiUE",
        "colab_type": "code",
        "outputId": "5f20e9fe-9e5c-4e8b-c6c7-3dbcddd52277",
        "colab": {
          "base_uri": "https://localhost:8080/",
          "height": 34
        }
      },
      "source": [
        "# The final value of the objective, optimized\n",
        "pulp.value(model.objective)"
      ],
      "execution_count": 0,
      "outputs": [
        {
          "output_type": "execute_result",
          "data": {
            "text/plain": [
              "0.9842211024965586"
            ]
          },
          "metadata": {
            "tags": []
          },
          "execution_count": 29
        }
      ]
    },
    {
      "cell_type": "markdown",
      "metadata": {
        "id": "5jv0qtaPWulw",
        "colab_type": "text"
      },
      "source": [
        "## Create Linear Program (Y = 1)\n",
        "We use the PuLP package to create our linear program."
      ]
    },
    {
      "cell_type": "code",
      "metadata": {
        "id": "1jj7sfkqWxqd",
        "colab_type": "code",
        "colab": {}
      },
      "source": [
        "# Define the linear program as a maximization problem\n",
        "model = pulp.LpProblem(\"Equalized Odds Fairness Checking\", pulp.LpMaximize)"
      ],
      "execution_count": 0,
      "outputs": []
    },
    {
      "cell_type": "code",
      "metadata": {
        "id": "dN3S2325WyCs",
        "colab_type": "code",
        "colab": {}
      },
      "source": [
        "# Our w variable in the objective\n",
        "# Lower bound constraint set here with lowBound=0 option\n",
        "w = pulp.LpVariable.dicts(\"w\", (i for i in range(len(f_X))),lowBound=0, cat='Continuous')"
      ],
      "execution_count": 0,
      "outputs": []
    },
    {
      "cell_type": "code",
      "metadata": {
        "id": "gMa0hlsLWzTQ",
        "colab_type": "code",
        "colab": {}
      },
      "source": [
        "# Objective Function\n",
        "model += pulp.lpSum(\n",
        "    [(1./pi_0_1) * w[index] * f_X[index] for index in a0_y1] +\n",
        "    [- (1./pi_1_1) * w[index] * f_X[index] for index in a1_y1]\n",
        ")"
      ],
      "execution_count": 0,
      "outputs": []
    },
    {
      "cell_type": "code",
      "metadata": {
        "id": "ed5mmPHIW3Sz",
        "colab_type": "code",
        "colab": {}
      },
      "source": [
        "# Constraint that the \\sum(w_i * 1{a = 1, y = 0}) = pi_0_0\n",
        "model += pulp.lpSum([w[index] for index in a0_y1]) == pi_0_1"
      ],
      "execution_count": 0,
      "outputs": []
    },
    {
      "cell_type": "code",
      "metadata": {
        "id": "K78BIKgHW97M",
        "colab_type": "code",
        "colab": {}
      },
      "source": [
        "# Constraint that the \\sum(w_i * 1{a = 1, y = 1}) = pi_0_1\n",
        "model += pulp.lpSum([w[index] for index in a1_y1]) == pi_1_1"
      ],
      "execution_count": 0,
      "outputs": []
    },
    {
      "cell_type": "code",
      "metadata": {
        "id": "PC3ROVEkXeQa",
        "colab_type": "code",
        "colab": {}
      },
      "source": [
        "# Constraint that the w's all sum to 1\n",
        "model += pulp.lpSum([w[i] for i in range(len(f_X))]) == 1"
      ],
      "execution_count": 0,
      "outputs": []
    },
    {
      "cell_type": "code",
      "metadata": {
        "id": "F51apZJuXf28",
        "colab_type": "code",
        "outputId": "699a757f-4575-4e2a-b10a-8139dc3b49ad",
        "colab": {
          "base_uri": "https://localhost:8080/",
          "height": 34
        }
      },
      "source": [
        "# Solve the linear program\n",
        "model.solve()"
      ],
      "execution_count": 0,
      "outputs": [
        {
          "output_type": "execute_result",
          "data": {
            "text/plain": [
              "1"
            ]
          },
          "metadata": {
            "tags": []
          },
          "execution_count": 36
        }
      ]
    },
    {
      "cell_type": "code",
      "metadata": {
        "id": "g09DQMFOXhXs",
        "colab_type": "code",
        "outputId": "21ba4601-46c2-4b6f-8e02-92a17de4aaa4",
        "colab": {
          "base_uri": "https://localhost:8080/",
          "height": 34
        }
      },
      "source": [
        "pulp.LpStatus[model.status]"
      ],
      "execution_count": 0,
      "outputs": [
        {
          "output_type": "execute_result",
          "data": {
            "text/plain": [
              "'Optimal'"
            ]
          },
          "metadata": {
            "tags": []
          },
          "execution_count": 37
        }
      ]
    },
    {
      "cell_type": "code",
      "metadata": {
        "id": "8JTmPa4hXios",
        "colab_type": "code",
        "colab": {}
      },
      "source": [
        "# Get the results\n",
        "results_dict = dict()\n",
        "for i in range(len(f_X)):\n",
        "  results_dict[w[i]] = w[i].varValue"
      ],
      "execution_count": 0,
      "outputs": []
    },
    {
      "cell_type": "code",
      "metadata": {
        "id": "ZPT81YJBXjw7",
        "colab_type": "code",
        "colab": {}
      },
      "source": [
        "# Print the results\n",
        "# results_dict"
      ],
      "execution_count": 0,
      "outputs": []
    },
    {
      "cell_type": "code",
      "metadata": {
        "id": "BUdomshxXk_l",
        "colab_type": "code",
        "outputId": "eee867c3-4200-4cf6-ecf5-e0cc3678ba38",
        "colab": {
          "base_uri": "https://localhost:8080/",
          "height": 34
        }
      },
      "source": [
        "# The final value of the objective, optimized\n",
        "pulp.value(model.objective)"
      ],
      "execution_count": 0,
      "outputs": [
        {
          "output_type": "execute_result",
          "data": {
            "text/plain": [
              "0.8946961631328739"
            ]
          },
          "metadata": {
            "tags": []
          },
          "execution_count": 40
        }
      ]
    }
  ]
}