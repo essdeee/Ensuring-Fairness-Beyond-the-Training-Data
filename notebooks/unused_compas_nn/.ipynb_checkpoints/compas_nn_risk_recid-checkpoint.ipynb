{
  "nbformat": 4,
  "nbformat_minor": 0,
  "metadata": {
    "colab": {
      "name": "compas_nn_risk_score.ipynb",
      "provenance": [],
      "collapsed_sections": [],
      "toc_visible": true
    },
    "language_info": {
      "codemirror_mode": {
        "name": "ipython",
        "version": 3
      },
      "file_extension": ".py",
      "mimetype": "text/x-python",
      "name": "python",
      "nbconvert_exporter": "python",
      "pygments_lexer": "ipython3",
      "version": "3.7.1"
    },
    "kernelspec": {
      "display_name": "Python 3",
      "language": "python",
      "name": "python3"
    }
  },
  "cells": [
    {
      "cell_type": "markdown",
      "metadata": {
        "id": "PX3BHVuiA0Vt",
        "colab_type": "text"
      },
      "source": [
        "# Fairness Checking: COMPAS Neural Network (COMPAS Risk Score)\n",
        "Here, we create the toy NN for Fairness Checking, trained on the COMPAS dataset. The preprocessing for this dataset is done in a separate file. In this file, we train a model, evaluate its accuracy and examine the performance of the model with respect to one of our fairness criterion: Equalized Odds."
      ]
    },
    {
      "cell_type": "code",
      "metadata": {
        "id": "J4pdr4uNA5XK",
        "colab_type": "code",
        "outputId": "d0159ce1-b6a1-4221-a609-701097414853",
        "colab": {
          "base_uri": "https://localhost:8080/",
          "height": 54
        }
      },
      "source": [
        "# Run this cell to mount your Google Drive.\n",
        "from google.colab import drive\n",
        "drive.mount('/content/drive')"
      ],
      "execution_count": 0,
      "outputs": [
        {
          "output_type": "stream",
          "text": [
            "Drive already mounted at /content/drive; to attempt to forcibly remount, call drive.mount(\"/content/drive\", force_remount=True).\n"
          ],
          "name": "stdout"
        }
      ]
    },
    {
      "cell_type": "code",
      "metadata": {
        "id": "zyB2J5sGA0Vu",
        "colab_type": "code",
        "outputId": "d9dd2a63-4272-4aad-d6f3-c4a62ceeaf53",
        "colab": {
          "base_uri": "https://localhost:8080/",
          "height": 34
        }
      },
      "source": [
        "from tensorflow import keras\n",
        "import pandas as pd\n",
        "from matplotlib import pyplot as plt\n",
        "import numpy as np\n",
        "\n",
        "from sklearn.model_selection import train_test_split\n",
        "from keras.wrappers.scikit_learn import KerasClassifier"
      ],
      "execution_count": 0,
      "outputs": [
        {
          "output_type": "stream",
          "text": [
            "Using TensorFlow backend.\n"
          ],
          "name": "stderr"
        }
      ]
    },
    {
      "cell_type": "markdown",
      "metadata": {
        "id": "8hG2lFGDA0Vz",
        "colab_type": "text"
      },
      "source": [
        "## Import and Split the Dataset\n",
        "Our preprocessed dataset includes information about sex, age, and past and future criminal history. Each entry has 10 different features, and the label is the last column: risk_recid. \n",
        "\n",
        "risk_recid can take two different values: 0 or 1. 0 translates to the COMPAS labels 'Low' and 'Medium' and 1 translates to the COMPAS label 'High.' Reasoning for this is in the preprocessing file. We have a binary classification problem."
      ]
    },
    {
      "cell_type": "code",
      "metadata": {
        "id": "0ic6nvIoA0Vz",
        "colab_type": "code",
        "colab": {}
      },
      "source": [
        "df = pd.read_csv('/content/drive/My Drive/colab/fairness_checking/preprocessed_compas_data.csv')"
      ],
      "execution_count": 0,
      "outputs": []
    },
    {
      "cell_type": "code",
      "metadata": {
        "id": "jqC8RxUoA0V1",
        "colab_type": "code",
        "outputId": "10460d25-6ffe-4ac3-9cd1-358fb35778f1",
        "colab": {
          "base_uri": "https://localhost:8080/",
          "height": 241
        }
      },
      "source": [
        "df.head(5)"
      ],
      "execution_count": 0,
      "outputs": [
        {
          "output_type": "execute_result",
          "data": {
            "text/html": [
              "<div>\n",
              "<style scoped>\n",
              "    .dataframe tbody tr th:only-of-type {\n",
              "        vertical-align: middle;\n",
              "    }\n",
              "\n",
              "    .dataframe tbody tr th {\n",
              "        vertical-align: top;\n",
              "    }\n",
              "\n",
              "    .dataframe thead th {\n",
              "        text-align: right;\n",
              "    }\n",
              "</style>\n",
              "<table border=\"1\" class=\"dataframe\">\n",
              "  <thead>\n",
              "    <tr style=\"text-align: right;\">\n",
              "      <th></th>\n",
              "      <th>Unnamed: 0</th>\n",
              "      <th>sex</th>\n",
              "      <th>age</th>\n",
              "      <th>race</th>\n",
              "      <th>juv_fel_count</th>\n",
              "      <th>juv_misd_count</th>\n",
              "      <th>juv_other_count</th>\n",
              "      <th>priors_count</th>\n",
              "      <th>two_year_recid</th>\n",
              "      <th>c_charge_degree_F</th>\n",
              "      <th>c_charge_degree_M</th>\n",
              "      <th>risk_recid</th>\n",
              "    </tr>\n",
              "  </thead>\n",
              "  <tbody>\n",
              "    <tr>\n",
              "      <th>0</th>\n",
              "      <td>0</td>\n",
              "      <td>1</td>\n",
              "      <td>69</td>\n",
              "      <td>0</td>\n",
              "      <td>0</td>\n",
              "      <td>0</td>\n",
              "      <td>0</td>\n",
              "      <td>0</td>\n",
              "      <td>0</td>\n",
              "      <td>1</td>\n",
              "      <td>0</td>\n",
              "      <td>0</td>\n",
              "    </tr>\n",
              "    <tr>\n",
              "      <th>1</th>\n",
              "      <td>1</td>\n",
              "      <td>1</td>\n",
              "      <td>34</td>\n",
              "      <td>1</td>\n",
              "      <td>0</td>\n",
              "      <td>0</td>\n",
              "      <td>0</td>\n",
              "      <td>0</td>\n",
              "      <td>1</td>\n",
              "      <td>1</td>\n",
              "      <td>0</td>\n",
              "      <td>0</td>\n",
              "    </tr>\n",
              "    <tr>\n",
              "      <th>2</th>\n",
              "      <td>2</td>\n",
              "      <td>1</td>\n",
              "      <td>24</td>\n",
              "      <td>1</td>\n",
              "      <td>0</td>\n",
              "      <td>0</td>\n",
              "      <td>1</td>\n",
              "      <td>4</td>\n",
              "      <td>1</td>\n",
              "      <td>1</td>\n",
              "      <td>0</td>\n",
              "      <td>0</td>\n",
              "    </tr>\n",
              "    <tr>\n",
              "      <th>3</th>\n",
              "      <td>5</td>\n",
              "      <td>1</td>\n",
              "      <td>44</td>\n",
              "      <td>0</td>\n",
              "      <td>0</td>\n",
              "      <td>0</td>\n",
              "      <td>0</td>\n",
              "      <td>0</td>\n",
              "      <td>0</td>\n",
              "      <td>0</td>\n",
              "      <td>1</td>\n",
              "      <td>0</td>\n",
              "    </tr>\n",
              "    <tr>\n",
              "      <th>4</th>\n",
              "      <td>6</td>\n",
              "      <td>1</td>\n",
              "      <td>41</td>\n",
              "      <td>0</td>\n",
              "      <td>0</td>\n",
              "      <td>0</td>\n",
              "      <td>0</td>\n",
              "      <td>14</td>\n",
              "      <td>1</td>\n",
              "      <td>1</td>\n",
              "      <td>0</td>\n",
              "      <td>1</td>\n",
              "    </tr>\n",
              "  </tbody>\n",
              "</table>\n",
              "</div>"
            ],
            "text/plain": [
              "   Unnamed: 0  sex  age  ...  c_charge_degree_F  c_charge_degree_M  risk_recid\n",
              "0           0    1   69  ...                  1                  0           0\n",
              "1           1    1   34  ...                  1                  0           0\n",
              "2           2    1   24  ...                  1                  0           0\n",
              "3           5    1   44  ...                  0                  1           0\n",
              "4           6    1   41  ...                  1                  0           1\n",
              "\n",
              "[5 rows x 12 columns]"
            ]
          },
          "metadata": {
            "tags": []
          },
          "execution_count": 4
        }
      ]
    },
    {
      "cell_type": "code",
      "metadata": {
        "id": "iHjxbhVs2ywM",
        "colab_type": "code",
        "outputId": "1786cb6a-d930-4365-858a-5f5b56e5599b",
        "colab": {
          "base_uri": "https://localhost:8080/",
          "height": 34
        }
      },
      "source": [
        "len(df)"
      ],
      "execution_count": 0,
      "outputs": [
        {
          "output_type": "execute_result",
          "data": {
            "text/plain": [
              "6159"
            ]
          },
          "metadata": {
            "tags": []
          },
          "execution_count": 5
        }
      ]
    },
    {
      "cell_type": "code",
      "metadata": {
        "id": "QDwKJObuA0V4",
        "colab_type": "code",
        "colab": {}
      },
      "source": [
        "normalized_df=(df-df.min())/(df.max()-df.min())"
      ],
      "execution_count": 0,
      "outputs": []
    },
    {
      "cell_type": "code",
      "metadata": {
        "id": "072lQGfhA0V6",
        "colab_type": "code",
        "outputId": "334b4fff-2cd9-4a18-8529-9634177d9471",
        "colab": {
          "base_uri": "https://localhost:8080/",
          "height": 241
        }
      },
      "source": [
        "normalized_df.head(5)"
      ],
      "execution_count": 0,
      "outputs": [
        {
          "output_type": "execute_result",
          "data": {
            "text/html": [
              "<div>\n",
              "<style scoped>\n",
              "    .dataframe tbody tr th:only-of-type {\n",
              "        vertical-align: middle;\n",
              "    }\n",
              "\n",
              "    .dataframe tbody tr th {\n",
              "        vertical-align: top;\n",
              "    }\n",
              "\n",
              "    .dataframe thead th {\n",
              "        text-align: right;\n",
              "    }\n",
              "</style>\n",
              "<table border=\"1\" class=\"dataframe\">\n",
              "  <thead>\n",
              "    <tr style=\"text-align: right;\">\n",
              "      <th></th>\n",
              "      <th>Unnamed: 0</th>\n",
              "      <th>sex</th>\n",
              "      <th>age</th>\n",
              "      <th>race</th>\n",
              "      <th>juv_fel_count</th>\n",
              "      <th>juv_misd_count</th>\n",
              "      <th>juv_other_count</th>\n",
              "      <th>priors_count</th>\n",
              "      <th>two_year_recid</th>\n",
              "      <th>c_charge_degree_F</th>\n",
              "      <th>c_charge_degree_M</th>\n",
              "      <th>risk_recid</th>\n",
              "    </tr>\n",
              "  </thead>\n",
              "  <tbody>\n",
              "    <tr>\n",
              "      <th>0</th>\n",
              "      <td>0.000000</td>\n",
              "      <td>1.0</td>\n",
              "      <td>0.653846</td>\n",
              "      <td>0.0</td>\n",
              "      <td>0.0</td>\n",
              "      <td>0.0</td>\n",
              "      <td>0.000000</td>\n",
              "      <td>0.000000</td>\n",
              "      <td>0.0</td>\n",
              "      <td>1.0</td>\n",
              "      <td>0.0</td>\n",
              "      <td>0.0</td>\n",
              "    </tr>\n",
              "    <tr>\n",
              "      <th>1</th>\n",
              "      <td>0.000139</td>\n",
              "      <td>1.0</td>\n",
              "      <td>0.205128</td>\n",
              "      <td>1.0</td>\n",
              "      <td>0.0</td>\n",
              "      <td>0.0</td>\n",
              "      <td>0.000000</td>\n",
              "      <td>0.000000</td>\n",
              "      <td>1.0</td>\n",
              "      <td>1.0</td>\n",
              "      <td>0.0</td>\n",
              "      <td>0.0</td>\n",
              "    </tr>\n",
              "    <tr>\n",
              "      <th>2</th>\n",
              "      <td>0.000277</td>\n",
              "      <td>1.0</td>\n",
              "      <td>0.076923</td>\n",
              "      <td>1.0</td>\n",
              "      <td>0.0</td>\n",
              "      <td>0.0</td>\n",
              "      <td>0.111111</td>\n",
              "      <td>0.105263</td>\n",
              "      <td>1.0</td>\n",
              "      <td>1.0</td>\n",
              "      <td>0.0</td>\n",
              "      <td>0.0</td>\n",
              "    </tr>\n",
              "    <tr>\n",
              "      <th>3</th>\n",
              "      <td>0.000693</td>\n",
              "      <td>1.0</td>\n",
              "      <td>0.333333</td>\n",
              "      <td>0.0</td>\n",
              "      <td>0.0</td>\n",
              "      <td>0.0</td>\n",
              "      <td>0.000000</td>\n",
              "      <td>0.000000</td>\n",
              "      <td>0.0</td>\n",
              "      <td>0.0</td>\n",
              "      <td>1.0</td>\n",
              "      <td>0.0</td>\n",
              "    </tr>\n",
              "    <tr>\n",
              "      <th>4</th>\n",
              "      <td>0.000832</td>\n",
              "      <td>1.0</td>\n",
              "      <td>0.294872</td>\n",
              "      <td>0.0</td>\n",
              "      <td>0.0</td>\n",
              "      <td>0.0</td>\n",
              "      <td>0.000000</td>\n",
              "      <td>0.368421</td>\n",
              "      <td>1.0</td>\n",
              "      <td>1.0</td>\n",
              "      <td>0.0</td>\n",
              "      <td>1.0</td>\n",
              "    </tr>\n",
              "  </tbody>\n",
              "</table>\n",
              "</div>"
            ],
            "text/plain": [
              "   Unnamed: 0  sex       age  ...  c_charge_degree_F  c_charge_degree_M  risk_recid\n",
              "0    0.000000  1.0  0.653846  ...                1.0                0.0         0.0\n",
              "1    0.000139  1.0  0.205128  ...                1.0                0.0         0.0\n",
              "2    0.000277  1.0  0.076923  ...                1.0                0.0         0.0\n",
              "3    0.000693  1.0  0.333333  ...                0.0                1.0         0.0\n",
              "4    0.000832  1.0  0.294872  ...                1.0                0.0         1.0\n",
              "\n",
              "[5 rows x 12 columns]"
            ]
          },
          "metadata": {
            "tags": []
          },
          "execution_count": 7
        }
      ]
    },
    {
      "cell_type": "code",
      "metadata": {
        "id": "Rrq3o7dEA0V8",
        "colab_type": "code",
        "outputId": "84530564-0b2c-4b2f-be1c-1aa199a84c69",
        "colab": {
          "base_uri": "https://localhost:8080/",
          "height": 34
        }
      },
      "source": [
        "len(normalized_df)"
      ],
      "execution_count": 0,
      "outputs": [
        {
          "output_type": "execute_result",
          "data": {
            "text/plain": [
              "6159"
            ]
          },
          "metadata": {
            "tags": []
          },
          "execution_count": 8
        }
      ]
    },
    {
      "cell_type": "code",
      "metadata": {
        "id": "1nSBwyFv3v5J",
        "colab_type": "code",
        "colab": {}
      },
      "source": [
        "# Train-Test Split for Dataframe\n",
        "train = normalized_df.sample(frac=0.8,random_state=42)\n",
        "test = normalized_df.drop(train.index)"
      ],
      "execution_count": 0,
      "outputs": []
    },
    {
      "cell_type": "code",
      "metadata": {
        "id": "fQnYdVWIA0V-",
        "colab_type": "code",
        "colab": {}
      },
      "source": [
        "X_train = train.iloc[:, 1:-1].values\n",
        "y_train = train.iloc[:, -1].values\n",
        "\n",
        "X_test = test.iloc[:, 1:-1].values\n",
        "y_test = test.iloc[:, -1].values"
      ],
      "execution_count": 0,
      "outputs": []
    },
    {
      "cell_type": "code",
      "metadata": {
        "id": "4cVPVSMIA0WB",
        "colab_type": "code",
        "outputId": "212a64b4-ec19-4ec4-daba-34b92df4ec90",
        "colab": {
          "base_uri": "https://localhost:8080/",
          "height": 85
        }
      },
      "source": [
        "print(X_train.shape)\n",
        "print(y_train.shape)\n",
        "print(X_test.shape)\n",
        "print(y_test.shape)"
      ],
      "execution_count": 0,
      "outputs": [
        {
          "output_type": "stream",
          "text": [
            "(4927, 10)\n",
            "(4927,)\n",
            "(1232, 10)\n",
            "(1232,)\n"
          ],
          "name": "stdout"
        }
      ]
    },
    {
      "cell_type": "code",
      "metadata": {
        "id": "2oPT5vEaA0WG",
        "colab_type": "code",
        "outputId": "2ab4e75a-025e-40a9-e2f9-55ac2e4418ca",
        "colab": {
          "base_uri": "https://localhost:8080/",
          "height": 238
        }
      },
      "source": [
        "X_train"
      ],
      "execution_count": 0,
      "outputs": [
        {
          "output_type": "execute_result",
          "data": {
            "text/plain": [
              "array([[1.        , 0.03846154, 1.        , ..., 1.        , 1.        ,\n",
              "        0.        ],\n",
              "       [0.        , 0.12820513, 1.        , ..., 0.        , 1.        ,\n",
              "        0.        ],\n",
              "       [1.        , 0.05128205, 1.        , ..., 1.        , 1.        ,\n",
              "        0.        ],\n",
              "       ...,\n",
              "       [0.        , 0.35897436, 0.        , ..., 1.        , 1.        ,\n",
              "        0.        ],\n",
              "       [1.        , 0.08974359, 1.        , ..., 0.        , 0.        ,\n",
              "        1.        ],\n",
              "       [1.        , 0.20512821, 1.        , ..., 0.        , 1.        ,\n",
              "        0.        ]])"
            ]
          },
          "metadata": {
            "tags": []
          },
          "execution_count": 12
        }
      ]
    },
    {
      "cell_type": "code",
      "metadata": {
        "id": "gbjoN2sgA0WI",
        "colab_type": "code",
        "colab": {}
      },
      "source": [
        "y_train = y_train.astype(int)\n",
        "y_test = y_test.astype(int)"
      ],
      "execution_count": 0,
      "outputs": []
    },
    {
      "cell_type": "markdown",
      "metadata": {
        "id": "4Q2AG2PRA0WK",
        "colab_type": "text"
      },
      "source": [
        "## Build the Model\n",
        "We build a simple toy deep model with 200 hidden units in each layer, 5 hidden layers, Adam optimizer, and RELU activation, with a total of 163,201 parameters. From GridSearch, we found that an optimal learning rate was 0.01, so we initialize with that."
      ]
    },
    {
      "cell_type": "code",
      "metadata": {
        "id": "gYR6BLYZA0WK",
        "colab_type": "code",
        "outputId": "0064ef27-f8a2-4932-fe32-841a24abe789",
        "colab": {
          "base_uri": "https://localhost:8080/",
          "height": 479
        }
      },
      "source": [
        "# Define model\n",
        "def create_model(learning_rate=0.001):\n",
        "    model = keras.Sequential()\n",
        "    model.add(keras.layers.Dense(200, input_dim=10, activation= \"relu\"))\n",
        "    model.add(keras.layers.Dense(200, activation= \"relu\"))\n",
        "    model.add(keras.layers.Dense(200, activation= \"relu\"))\n",
        "    model.add(keras.layers.Dense(200, activation= \"relu\"))\n",
        "    model.add(keras.layers.Dense(200, activation= \"relu\"))\n",
        "    model.add(keras.layers.Dense(1, activation='sigmoid'))\n",
        "    model.summary() #Print model Summary\n",
        "    \n",
        "    # Compile the model\n",
        "    adam = keras.optimizers.Adam(lr=learning_rate, beta_1=0.9, beta_2=0.999, epsilon=None, decay=0.0, amsgrad=False)\n",
        "    model.compile(optimizer=adam, loss='binary_crossentropy', metrics=['accuracy'])\n",
        "    \n",
        "    return model\n",
        "\n",
        "model = create_model(learning_rate=0.01)"
      ],
      "execution_count": 0,
      "outputs": [
        {
          "output_type": "stream",
          "text": [
            "WARNING:tensorflow:From /usr/local/lib/python3.6/dist-packages/tensorflow/python/ops/init_ops.py:1251: calling VarianceScaling.__init__ (from tensorflow.python.ops.init_ops) with dtype is deprecated and will be removed in a future version.\n",
            "Instructions for updating:\n",
            "Call initializer instance with the dtype argument instead of passing it to the constructor\n",
            "Model: \"sequential\"\n",
            "_________________________________________________________________\n",
            "Layer (type)                 Output Shape              Param #   \n",
            "=================================================================\n",
            "dense (Dense)                (None, 200)               2200      \n",
            "_________________________________________________________________\n",
            "dense_1 (Dense)              (None, 200)               40200     \n",
            "_________________________________________________________________\n",
            "dense_2 (Dense)              (None, 200)               40200     \n",
            "_________________________________________________________________\n",
            "dense_3 (Dense)              (None, 200)               40200     \n",
            "_________________________________________________________________\n",
            "dense_4 (Dense)              (None, 200)               40200     \n",
            "_________________________________________________________________\n",
            "dense_5 (Dense)              (None, 1)                 201       \n",
            "=================================================================\n",
            "Total params: 163,201\n",
            "Trainable params: 163,201\n",
            "Non-trainable params: 0\n",
            "_________________________________________________________________\n",
            "WARNING:tensorflow:From /usr/local/lib/python3.6/dist-packages/tensorflow/python/ops/nn_impl.py:180: add_dispatch_support.<locals>.wrapper (from tensorflow.python.ops.array_ops) is deprecated and will be removed in a future version.\n",
            "Instructions for updating:\n",
            "Use tf.where in 2.0, which has the same broadcast rule as np.where\n"
          ],
          "name": "stdout"
        }
      ]
    },
    {
      "cell_type": "code",
      "metadata": {
        "id": "G15gbL_DA0WO",
        "colab_type": "code",
        "colab": {}
      },
      "source": [
        "# from sklearn.model_selection import GridSearchCV\n",
        "\n",
        "# Wrap Keras model so it can be used by scikit-learn\n",
        "# model = KerasClassifier(build_fn=create_model, verbose=1)\n",
        "# Create hyperparameter space\n",
        "# epochs = [5, 10, 15, 20, 25]\n",
        "# batches = [5, 10, 100]\n",
        "# learning_rates = [0.1, 0.01, 0.001, 0.0001, 0.00001]\n",
        "\n",
        "# Create hyperparameter options\n",
        "# hyperparameters = dict(learning_rate=learning_rates, epochs=epochs, batch_size=batches)"
      ],
      "execution_count": 0,
      "outputs": []
    },
    {
      "cell_type": "markdown",
      "metadata": {
        "id": "Iv4DK3dhA0WP",
        "colab_type": "text"
      },
      "source": [
        "## Train and Evaluate Model\n",
        "We train the model on the training data and evaluate the model. We plot the performance on a 10% validation split to track it performance over epochs.\n",
        "\n",
        "We use 50 epochs to train and end up with a **validation accuracy of 74.19%.**"
      ]
    },
    {
      "cell_type": "code",
      "metadata": {
        "id": "meChCBdJA0WQ",
        "colab_type": "code",
        "colab": {}
      },
      "source": [
        "history = model.fit(X_train, y_train, validation_split = 0.1, verbose = False, epochs=50)"
      ],
      "execution_count": 0,
      "outputs": []
    },
    {
      "cell_type": "code",
      "metadata": {
        "id": "vbOcFLwSA0WT",
        "colab_type": "code",
        "outputId": "b12d4021-ca1e-4089-b8ad-d0c59da355d0",
        "colab": {
          "base_uri": "https://localhost:8080/",
          "height": 312
        }
      },
      "source": [
        "# The history object contains results on the training and test\n",
        "# sets for each epoch\n",
        "acc = history.history['acc']\n",
        "val_acc = history.history['val_acc']\n",
        "\n",
        "# Get the number of epochs\n",
        "epochs = range(len(acc))\n",
        "\n",
        "# Graph training vs. validation accuracy\n",
        "plt.title('Training and validation accuracy')\n",
        "plt.plot(epochs, acc, color='blue', label='Train')\n",
        "plt.plot(epochs, val_acc, color='orange', label='Val')\n",
        "plt.xlabel('Epoch')\n",
        "plt.ylabel('Accuracy')\n",
        "plt.legend()"
      ],
      "execution_count": 0,
      "outputs": [
        {
          "output_type": "execute_result",
          "data": {
            "text/plain": [
              "<matplotlib.legend.Legend at 0x7fde12695828>"
            ]
          },
          "metadata": {
            "tags": []
          },
          "execution_count": 17
        },
        {
          "output_type": "display_data",
          "data": {
            "image/png": "[encoded data removed]",
            "text/plain": [
              "<Figure size 432x288 with 1 Axes>"
            ]
          },
          "metadata": {
            "tags": []
          }
        }
      ]
    },
    {
      "cell_type": "code",
      "metadata": {
        "id": "sDoeAswKA0WW",
        "colab_type": "code",
        "outputId": "9abe1d28-8b9c-4adb-e9e3-81b20b896746",
        "colab": {
          "base_uri": "https://localhost:8080/",
          "height": 51
        }
      },
      "source": [
        "model.evaluate(X_test, y_test)"
      ],
      "execution_count": 0,
      "outputs": [
        {
          "output_type": "stream",
          "text": [
            "1232/1232 [==============================] - 0s 40us/sample - loss: 0.4732 - acc: 0.7719\n"
          ],
          "name": "stdout"
        },
        {
          "output_type": "execute_result",
          "data": {
            "text/plain": [
              "[0.4731556804149182, 0.77191556]"
            ]
          },
          "metadata": {
            "tags": []
          },
          "execution_count": 18
        }
      ]
    },
    {
      "cell_type": "markdown",
      "metadata": {
        "id": "ci0G-x06A0WZ",
        "colab_type": "text"
      },
      "source": [
        "## Predict on Entire Dataset"
      ]
    },
    {
      "cell_type": "code",
      "metadata": {
        "id": "w2LC1I96A0WZ",
        "colab_type": "code",
        "colab": {}
      },
      "source": [
        "# Predicted labels \n",
        "pred = model.predict_classes(X_test)\n",
        "predicted_labels = []\n",
        "\n",
        "for i in range(len(pred)):\n",
        "    predicted_labels.append(pred[i][0])\n",
        "predicted_labels = np.asarray(predicted_labels)"
      ],
      "execution_count": 0,
      "outputs": []
    },
    {
      "cell_type": "code",
      "metadata": {
        "id": "bXvLBi482Lwr",
        "colab_type": "code",
        "colab": {}
      },
      "source": [
        "# Predicted probabilities\n",
        "pred = model.predict(X_test)\n",
        "predicted_probs = []\n",
        "\n",
        "for i in range(len(pred)):\n",
        "    predicted_probs.append(pred[i][0])\n",
        "predicted_probs = np.asarray(predicted_probs)"
      ],
      "execution_count": 0,
      "outputs": []
    },
    {
      "cell_type": "code",
      "metadata": {
        "id": "w2t9KgnwA0Wb",
        "colab_type": "code",
        "outputId": "192985d1-bd18-467b-816b-08959c374a0c",
        "colab": {
          "base_uri": "https://localhost:8080/",
          "height": 51
        }
      },
      "source": [
        "print(len(predicted_labels))\n",
        "print(len(predicted_probs))"
      ],
      "execution_count": 0,
      "outputs": [
        {
          "output_type": "stream",
          "text": [
            "1232\n",
            "1232\n"
          ],
          "name": "stdout"
        }
      ]
    },
    {
      "cell_type": "code",
      "metadata": {
        "id": "Ux2_v6fNA0Wh",
        "colab_type": "code",
        "colab": {}
      },
      "source": [
        "test['prediction_probs'] = predicted_probs\n",
        "test['prediction'] = predicted_labels"
      ],
      "execution_count": 0,
      "outputs": []
    },
    {
      "cell_type": "code",
      "metadata": {
        "id": "B8lic4VJA0Wi",
        "colab_type": "code",
        "outputId": "1bf9b38d-7ee5-452f-fb1c-e3dc572ad56d",
        "colab": {
          "base_uri": "https://localhost:8080/",
          "height": 241
        }
      },
      "source": [
        "test.head(5)"
      ],
      "execution_count": 0,
      "outputs": [
        {
          "output_type": "execute_result",
          "data": {
            "text/html": [
              "<div>\n",
              "<style scoped>\n",
              "    .dataframe tbody tr th:only-of-type {\n",
              "        vertical-align: middle;\n",
              "    }\n",
              "\n",
              "    .dataframe tbody tr th {\n",
              "        vertical-align: top;\n",
              "    }\n",
              "\n",
              "    .dataframe thead th {\n",
              "        text-align: right;\n",
              "    }\n",
              "</style>\n",
              "<table border=\"1\" class=\"dataframe\">\n",
              "  <thead>\n",
              "    <tr style=\"text-align: right;\">\n",
              "      <th></th>\n",
              "      <th>Unnamed: 0</th>\n",
              "      <th>sex</th>\n",
              "      <th>age</th>\n",
              "      <th>race</th>\n",
              "      <th>juv_fel_count</th>\n",
              "      <th>juv_misd_count</th>\n",
              "      <th>juv_other_count</th>\n",
              "      <th>priors_count</th>\n",
              "      <th>two_year_recid</th>\n",
              "      <th>c_charge_degree_F</th>\n",
              "      <th>c_charge_degree_M</th>\n",
              "      <th>risk_recid</th>\n",
              "      <th>prediction_probs</th>\n",
              "      <th>prediction</th>\n",
              "    </tr>\n",
              "  </thead>\n",
              "  <tbody>\n",
              "    <tr>\n",
              "      <th>3</th>\n",
              "      <td>0.000693</td>\n",
              "      <td>1.0</td>\n",
              "      <td>0.333333</td>\n",
              "      <td>0.0</td>\n",
              "      <td>0.0</td>\n",
              "      <td>0.0</td>\n",
              "      <td>0.0</td>\n",
              "      <td>0.000000</td>\n",
              "      <td>0.0</td>\n",
              "      <td>0.0</td>\n",
              "      <td>1.0</td>\n",
              "      <td>0.0</td>\n",
              "      <td>0.053162</td>\n",
              "      <td>0</td>\n",
              "    </tr>\n",
              "    <tr>\n",
              "      <th>4</th>\n",
              "      <td>0.000832</td>\n",
              "      <td>1.0</td>\n",
              "      <td>0.294872</td>\n",
              "      <td>0.0</td>\n",
              "      <td>0.0</td>\n",
              "      <td>0.0</td>\n",
              "      <td>0.0</td>\n",
              "      <td>0.368421</td>\n",
              "      <td>1.0</td>\n",
              "      <td>1.0</td>\n",
              "      <td>0.0</td>\n",
              "      <td>1.0</td>\n",
              "      <td>0.686083</td>\n",
              "      <td>1</td>\n",
              "    </tr>\n",
              "    <tr>\n",
              "      <th>5</th>\n",
              "      <td>0.000970</td>\n",
              "      <td>1.0</td>\n",
              "      <td>0.320513</td>\n",
              "      <td>0.0</td>\n",
              "      <td>0.0</td>\n",
              "      <td>0.0</td>\n",
              "      <td>0.0</td>\n",
              "      <td>0.078947</td>\n",
              "      <td>0.0</td>\n",
              "      <td>1.0</td>\n",
              "      <td>0.0</td>\n",
              "      <td>0.0</td>\n",
              "      <td>0.244602</td>\n",
              "      <td>0</td>\n",
              "    </tr>\n",
              "    <tr>\n",
              "      <th>9</th>\n",
              "      <td>0.001664</td>\n",
              "      <td>0.0</td>\n",
              "      <td>0.243590</td>\n",
              "      <td>0.0</td>\n",
              "      <td>0.0</td>\n",
              "      <td>0.0</td>\n",
              "      <td>0.0</td>\n",
              "      <td>0.000000</td>\n",
              "      <td>0.0</td>\n",
              "      <td>0.0</td>\n",
              "      <td>1.0</td>\n",
              "      <td>0.0</td>\n",
              "      <td>0.087672</td>\n",
              "      <td>0</td>\n",
              "    </tr>\n",
              "    <tr>\n",
              "      <th>16</th>\n",
              "      <td>0.002634</td>\n",
              "      <td>1.0</td>\n",
              "      <td>0.166667</td>\n",
              "      <td>0.0</td>\n",
              "      <td>0.0</td>\n",
              "      <td>0.0</td>\n",
              "      <td>0.0</td>\n",
              "      <td>0.131579</td>\n",
              "      <td>1.0</td>\n",
              "      <td>1.0</td>\n",
              "      <td>0.0</td>\n",
              "      <td>0.0</td>\n",
              "      <td>0.570462</td>\n",
              "      <td>1</td>\n",
              "    </tr>\n",
              "  </tbody>\n",
              "</table>\n",
              "</div>"
            ],
            "text/plain": [
              "    Unnamed: 0  sex       age  ...  risk_recid  prediction_probs  prediction\n",
              "3     0.000693  1.0  0.333333  ...         0.0          0.053162           0\n",
              "4     0.000832  1.0  0.294872  ...         1.0          0.686083           1\n",
              "5     0.000970  1.0  0.320513  ...         0.0          0.244602           0\n",
              "9     0.001664  0.0  0.243590  ...         0.0          0.087672           0\n",
              "16    0.002634  1.0  0.166667  ...         0.0          0.570462           1\n",
              "\n",
              "[5 rows x 14 columns]"
            ]
          },
          "metadata": {
            "tags": []
          },
          "execution_count": 23
        }
      ]
    },
    {
      "cell_type": "code",
      "metadata": {
        "id": "huogKgISA0Wl",
        "colab_type": "code",
        "colab": {}
      },
      "source": [
        "test.to_csv('/content/drive/My Drive/colab/fairness_checking/predicted_dataset_scores.csv')"
      ],
      "execution_count": 0,
      "outputs": []
    },
    {
      "cell_type": "markdown",
      "metadata": {
        "id": "EEW_czMEA0Wn",
        "colab_type": "text"
      },
      "source": [
        "## Equalized Odds\n",
        "We finally see if our classifier violates Equalized Odds, as expected. To do this, we graph the performance of the classifier on each of the combinations of Race (our sensitive attribute, A) and True Label (Y). This gives us:\n",
        "- A = 0, Y = 0\n",
        "- A = 0, Y = 1\n",
        "- A = 1, Y = 0\n",
        "- A = 1, Y = 1\n",
        "\n",
        "From these combinations, we see the rate our model predicts (Y hat) 0, 1, 0, or 1, respectively. These rates are shown in the graph. As we can see clearly from our graph, our model violates EO as expected."
      ]
    },
    {
      "cell_type": "code",
      "metadata": {
        "id": "LfitEGUiA0Wn",
        "colab_type": "code",
        "colab": {}
      },
      "source": [
        "true_labels = y_test"
      ],
      "execution_count": 0,
      "outputs": []
    },
    {
      "cell_type": "code",
      "metadata": {
        "id": "bGgubzTeA0Wo",
        "colab_type": "code",
        "colab": {}
      },
      "source": [
        "pred = model.predict_classes(X_test)\n",
        "predicted_labels = []\n",
        "\n",
        "for i in range(len(pred)):\n",
        "    predicted_labels.append(pred[i][0])\n",
        "predicted_labels = np.asarray(predicted_labels)"
      ],
      "execution_count": 0,
      "outputs": []
    },
    {
      "cell_type": "code",
      "metadata": {
        "id": "nsCxJcYxA0Ws",
        "colab_type": "code",
        "outputId": "167a36b8-a8b2-494e-82a9-690ab7222403",
        "colab": {
          "base_uri": "https://localhost:8080/",
          "height": 51
        }
      },
      "source": [
        "print(len(predicted_labels))\n",
        "print(len(true_labels))"
      ],
      "execution_count": 0,
      "outputs": [
        {
          "output_type": "stream",
          "text": [
            "1232\n",
            "1232\n"
          ],
          "name": "stdout"
        }
      ]
    },
    {
      "cell_type": "code",
      "metadata": {
        "id": "FL_bo6iaA0Wv",
        "colab_type": "code",
        "colab": {}
      },
      "source": [
        "def extract_race(test_data):\n",
        "    race_list = []\n",
        "    for sample in test_data:\n",
        "        race_list.append(int(sample[2]))\n",
        "    \n",
        "    return np.asarray(race_list)"
      ],
      "execution_count": 0,
      "outputs": []
    },
    {
      "cell_type": "code",
      "metadata": {
        "id": "dLN4oveoA0Ww",
        "colab_type": "code",
        "colab": {}
      },
      "source": [
        "def equalized_odds(pred_labels, true_labels, race_list):\n",
        "    # Make sure all lengths are equal\n",
        "    assert(len(race_list) == len(true_labels) == len(pred_labels))\n",
        "    \n",
        "    # Find indices of all combinations of RACE + LABEL\n",
        "    race0Y0 = [] # Race = 0 and Y = 0\n",
        "    race1Y0 = [] # Race = 1 and Y = 0\n",
        "    race0Y1 = [] # Race = 1 and Y = 1\n",
        "    race1Y1 = [] # Race = 1 and Y = 1\n",
        "    for i in range(len(true_labels)):\n",
        "        if race_list[i] == 0 and true_labels[i] == 0:\n",
        "            race0Y0.append(i)\n",
        "        elif race_list[i] == 1 and true_labels[i] == 0:\n",
        "            race1Y0.append(i)\n",
        "        elif race_list[i] == 0 and true_labels[i] == 1:\n",
        "            race0Y1.append(i)\n",
        "        elif race_list[i] == 1 and true_labels[i] == 1:\n",
        "            race1Y1.append(i)\n",
        "        else:\n",
        "            print(\"Error in your lists.\")\n",
        "            return\n",
        "    \n",
        "    # Make sure that these combinations add up to the total length\n",
        "    assert(len(race0Y0) + len(race1Y0) + len(race0Y1) + len(race1Y1) == len(true_labels))\n",
        "    \n",
        "    # Find the accuracies of each combination\n",
        "    # Race = 0 and Y = 0\n",
        "    race0Y0_correct = 0\n",
        "    for index in race0Y0:\n",
        "        if pred_labels[index] == 0:\n",
        "            race0Y0_correct += 1\n",
        "            \n",
        "    # Race = 1 and Y = 0\n",
        "    race1Y0_correct = 0\n",
        "    for index in race1Y0:\n",
        "        if pred_labels[index] == 0:\n",
        "            race1Y0_correct += 1\n",
        "    \n",
        "    # Race = 0 and Y = 1\n",
        "    race0Y1_correct = 0\n",
        "    for index in race0Y1:\n",
        "        if pred_labels[index] == 0:\n",
        "            race0Y1_correct += 1\n",
        "            \n",
        "    # Race = 1 and Y = 1\n",
        "    race1Y1_correct = 0\n",
        "    for index in race1Y1:\n",
        "        if pred_labels[index] == 0:\n",
        "            race1Y1_correct += 1\n",
        "    \n",
        "    # Finally, output a dictionary of the accuracies\n",
        "    accuracies = {'race0Y0': race0Y0_correct / float(len(race0Y0)), \n",
        "                  'race1Y0': race1Y0_correct / float(len(race1Y0)),\n",
        "                  'race0Y1': race0Y1_correct / float(len(race0Y1)),\n",
        "                  'race1Y1': race1Y1_correct / float(len(race1Y1))}\n",
        "    return accuracies"
      ],
      "execution_count": 0,
      "outputs": []
    },
    {
      "cell_type": "code",
      "metadata": {
        "id": "XnWA3FjUA0Wy",
        "colab_type": "code",
        "colab": {}
      },
      "source": [
        "# Helper function for plotting graph\n",
        "def add_value_labels(ax, spacing=5):\n",
        "    \"\"\"Add labels to the end of each bar in a bar chart.\n",
        "\n",
        "    Arguments:\n",
        "        ax (matplotlib.axes.Axes): The matplotlib object containing the axes\n",
        "            of the plot to annotate.\n",
        "        spacing (int): The distance between the labels and the bars.\n",
        "    \"\"\"\n",
        "\n",
        "    # For each bar: Place a label\n",
        "    for rect in ax.patches:\n",
        "        # Get X and Y placement of label from rect.\n",
        "        y_value = rect.get_height()\n",
        "        x_value = rect.get_x() + rect.get_width() / 2\n",
        "\n",
        "        # Number of points between bar and label. Change to your liking.\n",
        "        space = spacing\n",
        "        # Vertical alignment for positive values\n",
        "        va = 'bottom'\n",
        "\n",
        "        # If value of bar is negative: Place label below bar\n",
        "        if y_value < 0:\n",
        "            # Invert space to place label below\n",
        "            space *= -1\n",
        "            # Vertically align label at top\n",
        "            va = 'top'\n",
        "\n",
        "        # Use Y value as label and format number with one decimal place\n",
        "        label = \"{:.2f}\".format(y_value)\n",
        "\n",
        "        # Create annotation\n",
        "        ax.annotate(\n",
        "            label,                      # Use `label` as label\n",
        "            (x_value, y_value),         # Place label at end of the bar\n",
        "            xytext=(0, space),          # Vertically shift label by `space`\n",
        "            textcoords=\"offset points\", # Interpret `xytext` as offset in points\n",
        "            ha='center',                # Horizontally center label\n",
        "            va=va)                      # Vertically align label differently for\n",
        "                                        # positive and negative values.\n",
        "            \n",
        "def plot_hist(values, x_labels, title, x_label, y_label):\n",
        "    y_series = pd.Series.from_array(values)\n",
        "    \n",
        "    # Plot the figure.\n",
        "    plt.figure(figsize=(12, 8))\n",
        "    ax = y_series.plot(kind='bar', color=['blue', 'orange', 'blue', 'orange'])\n",
        "    ax.set_title(title)\n",
        "    ax.set_xlabel(x_label)\n",
        "    ax.set_ylabel(y_label)\n",
        "    ax.set_xticklabels(x_labels)\n",
        "    plt.xticks(rotation=25)\n",
        "\n",
        "    # Call the function above. All the magic happens there.\n",
        "    add_value_labels(ax)"
      ],
      "execution_count": 0,
      "outputs": []
    },
    {
      "cell_type": "code",
      "metadata": {
        "id": "Httliu2WA0Wz",
        "colab_type": "code",
        "colab": {}
      },
      "source": [
        "# Find Equalized Odds \n",
        "race_list = extract_race(X_test)\n",
        "EO_dict = equalized_odds(predicted_labels, true_labels, race_list)"
      ],
      "execution_count": 0,
      "outputs": []
    },
    {
      "cell_type": "code",
      "metadata": {
        "id": "RvCGYWrPA0W1",
        "colab_type": "code",
        "colab": {}
      },
      "source": [
        "EO_values = list(EO_dict.values())\n",
        "# EO_labels = list(EO_dict.keys())\n",
        "EO_labels = ['white_notrecidividate (A = 0, Y = 0)', 'black_notrecidivate (A = 1, Y = 0)', 'white_recidivate (A = 0, Y = 1)', 'black_recidivate (A = 1, Y = 1)']"
      ],
      "execution_count": 0,
      "outputs": []
    },
    {
      "cell_type": "code",
      "metadata": {
        "id": "olyagwsbA0W3",
        "colab_type": "code",
        "outputId": "7acc6cfa-d66d-453f-9d1a-a653b05fc889",
        "colab": {
          "base_uri": "https://localhost:8080/",
          "height": 626
        }
      },
      "source": [
        "plot_hist(EO_values, EO_labels, 'COMPAS Equalized Odds Graph', 'Race and True Label (A = a, Y = y)', 'Accuracy Rate (%)')"
      ],
      "execution_count": 0,
      "outputs": [
        {
          "output_type": "stream",
          "text": [
            "/usr/local/lib/python3.6/dist-packages/ipykernel_launcher.py:42: FutureWarning: 'from_array' is deprecated and will be removed in a future version. Please use the pd.Series(..) constructor instead.\n"
          ],
          "name": "stderr"
        },
        {
          "output_type": "display_data",
          "data": {
            "image/png": "[encoded data removed]",
            "text/plain": [
              "<Figure size 864x576 with 1 Axes>"
            ]
          },
          "metadata": {
            "tags": []
          }
        }
      ]
    },
    {
      "cell_type": "markdown",
      "metadata": {
        "id": "YwUL45tH_sNm",
        "colab_type": "text"
      },
      "source": [
        "## Statistical Parity\n",
        "We also see if our classifier violates Statistical Parity, as expected. To do this, we graph the performance of the classifier on A = 0 or A = 1, where (recall) A = 0 indicates non-black and A = 1 indicates black individuals.\n",
        "\n",
        "From these two cases, we see the rate our model predicts correctly. These rates are shown in the graph. As we can see clearly from our graph, our model violates SP as expected."
      ]
    },
    {
      "cell_type": "code",
      "metadata": {
        "id": "XJDeutsLAJ-m",
        "colab_type": "code",
        "outputId": "a28c4be0-a938-48f0-e5bb-0b1892d88997",
        "colab": {
          "base_uri": "https://localhost:8080/",
          "height": 51
        }
      },
      "source": [
        "print(len(predicted_labels))\n",
        "print(len(true_labels))"
      ],
      "execution_count": 0,
      "outputs": [
        {
          "output_type": "stream",
          "text": [
            "1232\n",
            "1232\n"
          ],
          "name": "stdout"
        }
      ]
    },
    {
      "cell_type": "code",
      "metadata": {
        "id": "OeLoTWfwAPk5",
        "colab_type": "code",
        "colab": {}
      },
      "source": [
        "def extract_race(test_data):\n",
        "    race_list = []\n",
        "    for sample in test_data:\n",
        "        race_list.append(int(sample[2]))\n",
        "    \n",
        "    return np.asarray(race_list)"
      ],
      "execution_count": 0,
      "outputs": []
    },
    {
      "cell_type": "code",
      "metadata": {
        "id": "60rjdLkLARp7",
        "colab_type": "code",
        "colab": {}
      },
      "source": [
        "def statistical_parity(pred_labels, true_labels, race_list):\n",
        "    # Make sure all lengths are equal\n",
        "    assert(len(race_list) == len(true_labels) == len(pred_labels))\n",
        "    \n",
        "    # Find indices of all combinations of RACE + LABEL\n",
        "    race0 = [] # Race = 0\n",
        "    race1 = [] # Race = 1\n",
        "    for i in range(len(true_labels)):\n",
        "        if race_list[i] == 0:\n",
        "            race0.append(i)\n",
        "        elif race_list[i] == 1:\n",
        "            race1.append(i)\n",
        "        else:\n",
        "            print(\"Error in your lists.\")\n",
        "            return\n",
        "    \n",
        "    # Make sure that these cases add up to the total length\n",
        "    assert(len(race0) + len(race1) == len(true_labels))\n",
        "    \n",
        "    # Find the accuracies of each case\n",
        "    # Race = 0\n",
        "    race0_correct = 0\n",
        "    for index in race0:\n",
        "        if pred_labels[index] == true_labels[index]:\n",
        "            race0_correct += 1\n",
        "            \n",
        "    # Race = 1\n",
        "    race1_correct = 0\n",
        "    for index in race1:\n",
        "        if pred_labels[index] == true_labels[index]:\n",
        "            race1_correct += 1\n",
        "    \n",
        "    # Finally, output a dictionary of the accuracies\n",
        "    accuracies = {'race0': race0_correct / float(len(race0)), \n",
        "                  'race1': race1_correct / float(len(race1))}\n",
        "    \n",
        "    return accuracies"
      ],
      "execution_count": 0,
      "outputs": []
    },
    {
      "cell_type": "code",
      "metadata": {
        "id": "tOM3v5dkA-1K",
        "colab_type": "code",
        "colab": {}
      },
      "source": [
        "# Helper function for plotting graph\n",
        "def add_value_labels(ax, spacing=5):\n",
        "    \"\"\"Add labels to the end of each bar in a bar chart.\n",
        "\n",
        "    Arguments:\n",
        "        ax (matplotlib.axes.Axes): The matplotlib object containing the axes\n",
        "            of the plot to annotate.\n",
        "        spacing (int): The distance between the labels and the bars.\n",
        "    \"\"\"\n",
        "\n",
        "    # For each bar: Place a label\n",
        "    for rect in ax.patches:\n",
        "        # Get X and Y placement of label from rect.\n",
        "        y_value = rect.get_height()\n",
        "        x_value = rect.get_x() + rect.get_width() / 2\n",
        "\n",
        "        # Number of points between bar and label. Change to your liking.\n",
        "        space = spacing\n",
        "        # Vertical alignment for positive values\n",
        "        va = 'bottom'\n",
        "\n",
        "        # If value of bar is negative: Place label below bar\n",
        "        if y_value < 0:\n",
        "            # Invert space to place label below\n",
        "            space *= -1\n",
        "            # Vertically align label at top\n",
        "            va = 'top'\n",
        "\n",
        "        # Use Y value as label and format number with one decimal place\n",
        "        label = \"{:.2f}\".format(y_value)\n",
        "\n",
        "        # Create annotation\n",
        "        ax.annotate(\n",
        "            label,                      # Use `label` as label\n",
        "            (x_value, y_value),         # Place label at end of the bar\n",
        "            xytext=(0, space),          # Vertically shift label by `space`\n",
        "            textcoords=\"offset points\", # Interpret `xytext` as offset in points\n",
        "            ha='center',                # Horizontally center label\n",
        "            va=va)                      # Vertically align label differently for\n",
        "                                        # positive and negative values.\n",
        "            \n",
        "def plot_hist(values, x_labels, title, x_label, y_label):\n",
        "    y_series = pd.Series.from_array(values)\n",
        "    \n",
        "    # Plot the figure.\n",
        "    plt.figure(figsize=(12, 8))\n",
        "    ax = y_series.plot(kind='bar', color=['blue', 'orange', 'blue', 'orange'])\n",
        "    ax.set_title(title)\n",
        "    ax.set_xlabel(x_label)\n",
        "    ax.set_ylabel(y_label)\n",
        "    ax.set_xticklabels(x_labels)\n",
        "\n",
        "    # Call the function above. All the magic happens there.\n",
        "    add_value_labels(ax)"
      ],
      "execution_count": 0,
      "outputs": []
    },
    {
      "cell_type": "code",
      "metadata": {
        "id": "-6V5LWZ7BCJk",
        "colab_type": "code",
        "colab": {}
      },
      "source": [
        "# Find Statistical Parity \n",
        "race_list = extract_race(X_test)\n",
        "SP_dict = statistical_parity(predicted_labels, true_labels, race_list)"
      ],
      "execution_count": 0,
      "outputs": []
    },
    {
      "cell_type": "code",
      "metadata": {
        "id": "fvmsr0CgBHCe",
        "colab_type": "code",
        "colab": {}
      },
      "source": [
        "SP_values = list(SP_dict.values())\n",
        "# SP_labels = list(SP_dict.keys())\n",
        "SP_labels = ['white (A = 0)', 'black (A = 1)']"
      ],
      "execution_count": 0,
      "outputs": []
    },
    {
      "cell_type": "code",
      "metadata": {
        "id": "I7mMTI-KBLl2",
        "colab_type": "code",
        "outputId": "745a09d5-bb28-401b-efea-23d731df75ab",
        "colab": {
          "base_uri": "https://localhost:8080/",
          "height": 606
        }
      },
      "source": [
        "plot_hist(SP_values, SP_labels, 'COMPAS Statistical Parity Graph', 'Race (A = a)', 'Accuracy Rate (%)')"
      ],
      "execution_count": 0,
      "outputs": [
        {
          "output_type": "stream",
          "text": [
            "/usr/local/lib/python3.6/dist-packages/ipykernel_launcher.py:42: FutureWarning: 'from_array' is deprecated and will be removed in a future version. Please use the pd.Series(..) constructor instead.\n"
          ],
          "name": "stderr"
        },
        {
          "output_type": "display_data",
          "data": {
            "image/png": "[encoded data removed]",
            "text/plain": [
              "<Figure size 864x576 with 1 Axes>"
            ]
          },
          "metadata": {
            "tags": []
          }
        }
      ]
    }
  ]
}