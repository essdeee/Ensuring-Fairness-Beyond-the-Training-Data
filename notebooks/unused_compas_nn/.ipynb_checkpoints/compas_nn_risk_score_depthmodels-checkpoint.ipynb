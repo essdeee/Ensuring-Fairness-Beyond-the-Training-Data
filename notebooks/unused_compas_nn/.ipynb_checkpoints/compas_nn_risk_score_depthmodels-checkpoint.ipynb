{
  "nbformat": 4,
  "nbformat_minor": 0,
  "metadata": {
    "colab": {
      "name": "compas_nn_risk_score_depthmodels.ipynb",
      "provenance": [],
      "collapsed_sections": []
    },
    "language_info": {
      "codemirror_mode": {
        "name": "ipython",
        "version": 3
      },
      "file_extension": ".py",
      "mimetype": "text/x-python",
      "name": "python",
      "nbconvert_exporter": "python",
      "pygments_lexer": "ipython3",
      "version": "3.7.1"
    },
    "kernelspec": {
      "name": "python3",
      "display_name": "Python 3"
    },
    "accelerator": "GPU"
  },
  "cells": [
    {
      "cell_type": "markdown",
      "metadata": {
        "id": "PX3BHVuiA0Vt",
        "colab_type": "text"
      },
      "source": [
        "# Fairness Checking: COMPAS NN (Different Models Experiment)\n",
        "Here, we create different models to evaluate the LP criterion with different f(X) functions. Each NN represents one f(X), and we experiment with different parameters to achieve different functions. The main NN is in compas_nn_risk_score.ipynb.\n",
        "\n",
        "The preprocessing for this dataset is done in a separate file. In this file, we train a model, evaluate its accuracy and examine the performance of the model."
      ]
    },
    {
      "cell_type": "code",
      "metadata": {
        "id": "J4pdr4uNA5XK",
        "colab_type": "code",
        "outputId": "6a49ce3a-84ed-4eca-c209-e5a1faf8f379",
        "colab": {
          "base_uri": "https://localhost:8080/",
          "height": 34
        }
      },
      "source": [
        "# Run this cell to mount your Google Drive.\n",
        "from google.colab import drive\n",
        "drive.mount('/content/drive')"
      ],
      "execution_count": 0,
      "outputs": [
        {
          "output_type": "stream",
          "text": [
            "Drive already mounted at /content/drive; to attempt to forcibly remount, call drive.mount(\"/content/drive\", force_remount=True).\n"
          ],
          "name": "stdout"
        }
      ]
    },
    {
      "cell_type": "code",
      "metadata": {
        "id": "zyB2J5sGA0Vu",
        "colab_type": "code",
        "outputId": "398b0ed2-766f-4f22-826e-c3a2bdb8f8f6",
        "colab": {
          "base_uri": "https://localhost:8080/",
          "height": 34
        }
      },
      "source": [
        "from tensorflow import keras\n",
        "import pandas as pd\n",
        "from matplotlib import pyplot as plt\n",
        "import numpy as np\n",
        "\n",
        "from sklearn.model_selection import train_test_split\n",
        "from keras.wrappers.scikit_learn import KerasClassifier"
      ],
      "execution_count": 0,
      "outputs": [
        {
          "output_type": "stream",
          "text": [
            "Using TensorFlow backend.\n"
          ],
          "name": "stderr"
        }
      ]
    },
    {
      "cell_type": "code",
      "metadata": {
        "id": "bfmRtcjvbCVT",
        "colab_type": "code",
        "colab": {}
      },
      "source": [
        "! rm -r '/content/drive/My Drive/colab/fairness_checking/depth_models/'\n",
        "! mkdir '/content/drive/My Drive/colab/fairness_checking/depth_models/'"
      ],
      "execution_count": 0,
      "outputs": []
    },
    {
      "cell_type": "markdown",
      "metadata": {
        "id": "8hG2lFGDA0Vz",
        "colab_type": "text"
      },
      "source": [
        "## Import and Split the Dataset\n",
        "Our preprocessed dataset includes information about sex, age, and past and future criminal history. Each entry has 10 different features, and the label is the last column: risk_recid. \n",
        "\n",
        "risk_recid can take two different values: 0 or 1. 0 translates to the COMPAS labels 'Low' and 'Medium' and 1 translates to the COMPAS label 'High.' Reasoning for this is in the preprocessing file. We have a binary classification problem."
      ]
    },
    {
      "cell_type": "code",
      "metadata": {
        "id": "0ic6nvIoA0Vz",
        "colab_type": "code",
        "colab": {}
      },
      "source": [
        "df = pd.read_csv('/content/drive/My Drive/colab/fairness_checking/preprocessed_compas_data.csv')"
      ],
      "execution_count": 0,
      "outputs": []
    },
    {
      "cell_type": "code",
      "metadata": {
        "id": "jqC8RxUoA0V1",
        "colab_type": "code",
        "outputId": "55e17bec-aa54-4e38-e2c0-57d9d23d52a9",
        "colab": {
          "base_uri": "https://localhost:8080/",
          "height": 241
        }
      },
      "source": [
        "df.head(5)"
      ],
      "execution_count": 0,
      "outputs": [
        {
          "output_type": "execute_result",
          "data": {
            "text/html": [
              "<div>\n",
              "<style scoped>\n",
              "    .dataframe tbody tr th:only-of-type {\n",
              "        vertical-align: middle;\n",
              "    }\n",
              "\n",
              "    .dataframe tbody tr th {\n",
              "        vertical-align: top;\n",
              "    }\n",
              "\n",
              "    .dataframe thead th {\n",
              "        text-align: right;\n",
              "    }\n",
              "</style>\n",
              "<table border=\"1\" class=\"dataframe\">\n",
              "  <thead>\n",
              "    <tr style=\"text-align: right;\">\n",
              "      <th></th>\n",
              "      <th>Unnamed: 0</th>\n",
              "      <th>sex</th>\n",
              "      <th>age</th>\n",
              "      <th>race</th>\n",
              "      <th>juv_fel_count</th>\n",
              "      <th>juv_misd_count</th>\n",
              "      <th>juv_other_count</th>\n",
              "      <th>priors_count</th>\n",
              "      <th>two_year_recid</th>\n",
              "      <th>c_charge_degree_F</th>\n",
              "      <th>c_charge_degree_M</th>\n",
              "      <th>risk_recid</th>\n",
              "    </tr>\n",
              "  </thead>\n",
              "  <tbody>\n",
              "    <tr>\n",
              "      <th>0</th>\n",
              "      <td>0</td>\n",
              "      <td>1</td>\n",
              "      <td>69</td>\n",
              "      <td>0</td>\n",
              "      <td>0</td>\n",
              "      <td>0</td>\n",
              "      <td>0</td>\n",
              "      <td>0</td>\n",
              "      <td>0</td>\n",
              "      <td>1</td>\n",
              "      <td>0</td>\n",
              "      <td>0</td>\n",
              "    </tr>\n",
              "    <tr>\n",
              "      <th>1</th>\n",
              "      <td>1</td>\n",
              "      <td>1</td>\n",
              "      <td>34</td>\n",
              "      <td>1</td>\n",
              "      <td>0</td>\n",
              "      <td>0</td>\n",
              "      <td>0</td>\n",
              "      <td>0</td>\n",
              "      <td>1</td>\n",
              "      <td>1</td>\n",
              "      <td>0</td>\n",
              "      <td>0</td>\n",
              "    </tr>\n",
              "    <tr>\n",
              "      <th>2</th>\n",
              "      <td>2</td>\n",
              "      <td>1</td>\n",
              "      <td>24</td>\n",
              "      <td>1</td>\n",
              "      <td>0</td>\n",
              "      <td>0</td>\n",
              "      <td>1</td>\n",
              "      <td>4</td>\n",
              "      <td>1</td>\n",
              "      <td>1</td>\n",
              "      <td>0</td>\n",
              "      <td>0</td>\n",
              "    </tr>\n",
              "    <tr>\n",
              "      <th>3</th>\n",
              "      <td>5</td>\n",
              "      <td>1</td>\n",
              "      <td>44</td>\n",
              "      <td>0</td>\n",
              "      <td>0</td>\n",
              "      <td>0</td>\n",
              "      <td>0</td>\n",
              "      <td>0</td>\n",
              "      <td>0</td>\n",
              "      <td>0</td>\n",
              "      <td>1</td>\n",
              "      <td>0</td>\n",
              "    </tr>\n",
              "    <tr>\n",
              "      <th>4</th>\n",
              "      <td>6</td>\n",
              "      <td>1</td>\n",
              "      <td>41</td>\n",
              "      <td>0</td>\n",
              "      <td>0</td>\n",
              "      <td>0</td>\n",
              "      <td>0</td>\n",
              "      <td>14</td>\n",
              "      <td>1</td>\n",
              "      <td>1</td>\n",
              "      <td>0</td>\n",
              "      <td>1</td>\n",
              "    </tr>\n",
              "  </tbody>\n",
              "</table>\n",
              "</div>"
            ],
            "text/plain": [
              "   Unnamed: 0  sex  age  ...  c_charge_degree_F  c_charge_degree_M  risk_recid\n",
              "0           0    1   69  ...                  1                  0           0\n",
              "1           1    1   34  ...                  1                  0           0\n",
              "2           2    1   24  ...                  1                  0           0\n",
              "3           5    1   44  ...                  0                  1           0\n",
              "4           6    1   41  ...                  1                  0           1\n",
              "\n",
              "[5 rows x 12 columns]"
            ]
          },
          "metadata": {
            "tags": []
          },
          "execution_count": 5
        }
      ]
    },
    {
      "cell_type": "code",
      "metadata": {
        "id": "iHjxbhVs2ywM",
        "colab_type": "code",
        "outputId": "0925e47d-c426-4beb-fd5d-d8365f4a1980",
        "colab": {
          "base_uri": "https://localhost:8080/",
          "height": 34
        }
      },
      "source": [
        "len(df)"
      ],
      "execution_count": 0,
      "outputs": [
        {
          "output_type": "execute_result",
          "data": {
            "text/plain": [
              "6159"
            ]
          },
          "metadata": {
            "tags": []
          },
          "execution_count": 6
        }
      ]
    },
    {
      "cell_type": "code",
      "metadata": {
        "id": "QDwKJObuA0V4",
        "colab_type": "code",
        "colab": {}
      },
      "source": [
        "normalized_df=(df-df.min())/(df.max()-df.min())"
      ],
      "execution_count": 0,
      "outputs": []
    },
    {
      "cell_type": "code",
      "metadata": {
        "id": "072lQGfhA0V6",
        "colab_type": "code",
        "outputId": "e50c7ff0-d381-4e21-eb94-cfbdd72b8e17",
        "colab": {
          "base_uri": "https://localhost:8080/",
          "height": 241
        }
      },
      "source": [
        "normalized_df.head(5)"
      ],
      "execution_count": 0,
      "outputs": [
        {
          "output_type": "execute_result",
          "data": {
            "text/html": [
              "<div>\n",
              "<style scoped>\n",
              "    .dataframe tbody tr th:only-of-type {\n",
              "        vertical-align: middle;\n",
              "    }\n",
              "\n",
              "    .dataframe tbody tr th {\n",
              "        vertical-align: top;\n",
              "    }\n",
              "\n",
              "    .dataframe thead th {\n",
              "        text-align: right;\n",
              "    }\n",
              "</style>\n",
              "<table border=\"1\" class=\"dataframe\">\n",
              "  <thead>\n",
              "    <tr style=\"text-align: right;\">\n",
              "      <th></th>\n",
              "      <th>Unnamed: 0</th>\n",
              "      <th>sex</th>\n",
              "      <th>age</th>\n",
              "      <th>race</th>\n",
              "      <th>juv_fel_count</th>\n",
              "      <th>juv_misd_count</th>\n",
              "      <th>juv_other_count</th>\n",
              "      <th>priors_count</th>\n",
              "      <th>two_year_recid</th>\n",
              "      <th>c_charge_degree_F</th>\n",
              "      <th>c_charge_degree_M</th>\n",
              "      <th>risk_recid</th>\n",
              "    </tr>\n",
              "  </thead>\n",
              "  <tbody>\n",
              "    <tr>\n",
              "      <th>0</th>\n",
              "      <td>0.000000</td>\n",
              "      <td>1.0</td>\n",
              "      <td>0.653846</td>\n",
              "      <td>0.0</td>\n",
              "      <td>0.0</td>\n",
              "      <td>0.0</td>\n",
              "      <td>0.000000</td>\n",
              "      <td>0.000000</td>\n",
              "      <td>0.0</td>\n",
              "      <td>1.0</td>\n",
              "      <td>0.0</td>\n",
              "      <td>0.0</td>\n",
              "    </tr>\n",
              "    <tr>\n",
              "      <th>1</th>\n",
              "      <td>0.000139</td>\n",
              "      <td>1.0</td>\n",
              "      <td>0.205128</td>\n",
              "      <td>1.0</td>\n",
              "      <td>0.0</td>\n",
              "      <td>0.0</td>\n",
              "      <td>0.000000</td>\n",
              "      <td>0.000000</td>\n",
              "      <td>1.0</td>\n",
              "      <td>1.0</td>\n",
              "      <td>0.0</td>\n",
              "      <td>0.0</td>\n",
              "    </tr>\n",
              "    <tr>\n",
              "      <th>2</th>\n",
              "      <td>0.000277</td>\n",
              "      <td>1.0</td>\n",
              "      <td>0.076923</td>\n",
              "      <td>1.0</td>\n",
              "      <td>0.0</td>\n",
              "      <td>0.0</td>\n",
              "      <td>0.111111</td>\n",
              "      <td>0.105263</td>\n",
              "      <td>1.0</td>\n",
              "      <td>1.0</td>\n",
              "      <td>0.0</td>\n",
              "      <td>0.0</td>\n",
              "    </tr>\n",
              "    <tr>\n",
              "      <th>3</th>\n",
              "      <td>0.000693</td>\n",
              "      <td>1.0</td>\n",
              "      <td>0.333333</td>\n",
              "      <td>0.0</td>\n",
              "      <td>0.0</td>\n",
              "      <td>0.0</td>\n",
              "      <td>0.000000</td>\n",
              "      <td>0.000000</td>\n",
              "      <td>0.0</td>\n",
              "      <td>0.0</td>\n",
              "      <td>1.0</td>\n",
              "      <td>0.0</td>\n",
              "    </tr>\n",
              "    <tr>\n",
              "      <th>4</th>\n",
              "      <td>0.000832</td>\n",
              "      <td>1.0</td>\n",
              "      <td>0.294872</td>\n",
              "      <td>0.0</td>\n",
              "      <td>0.0</td>\n",
              "      <td>0.0</td>\n",
              "      <td>0.000000</td>\n",
              "      <td>0.368421</td>\n",
              "      <td>1.0</td>\n",
              "      <td>1.0</td>\n",
              "      <td>0.0</td>\n",
              "      <td>1.0</td>\n",
              "    </tr>\n",
              "  </tbody>\n",
              "</table>\n",
              "</div>"
            ],
            "text/plain": [
              "   Unnamed: 0  sex       age  ...  c_charge_degree_F  c_charge_degree_M  risk_recid\n",
              "0    0.000000  1.0  0.653846  ...                1.0                0.0         0.0\n",
              "1    0.000139  1.0  0.205128  ...                1.0                0.0         0.0\n",
              "2    0.000277  1.0  0.076923  ...                1.0                0.0         0.0\n",
              "3    0.000693  1.0  0.333333  ...                0.0                1.0         0.0\n",
              "4    0.000832  1.0  0.294872  ...                1.0                0.0         1.0\n",
              "\n",
              "[5 rows x 12 columns]"
            ]
          },
          "metadata": {
            "tags": []
          },
          "execution_count": 8
        }
      ]
    },
    {
      "cell_type": "code",
      "metadata": {
        "id": "Rrq3o7dEA0V8",
        "colab_type": "code",
        "outputId": "cd667eef-579f-4092-bb45-ffba9aeb4479",
        "colab": {
          "base_uri": "https://localhost:8080/",
          "height": 34
        }
      },
      "source": [
        "len(normalized_df)"
      ],
      "execution_count": 0,
      "outputs": [
        {
          "output_type": "execute_result",
          "data": {
            "text/plain": [
              "6159"
            ]
          },
          "metadata": {
            "tags": []
          },
          "execution_count": 9
        }
      ]
    },
    {
      "cell_type": "code",
      "metadata": {
        "id": "1nSBwyFv3v5J",
        "colab_type": "code",
        "colab": {}
      },
      "source": [
        "# Train-Test Split for Dataframe\n",
        "train = normalized_df.sample(frac=0.8,random_state=42)\n",
        "test = normalized_df.drop(train.index)"
      ],
      "execution_count": 0,
      "outputs": []
    },
    {
      "cell_type": "code",
      "metadata": {
        "id": "fQnYdVWIA0V-",
        "colab_type": "code",
        "colab": {}
      },
      "source": [
        "X_train = train.iloc[:, 1:-1].values\n",
        "y_train = train.iloc[:, -1].values\n",
        "\n",
        "X_test = test.iloc[:, 1:-1].values\n",
        "y_test = test.iloc[:, -1].values"
      ],
      "execution_count": 0,
      "outputs": []
    },
    {
      "cell_type": "code",
      "metadata": {
        "id": "4cVPVSMIA0WB",
        "colab_type": "code",
        "outputId": "fb8239f1-90d6-454d-c34e-6af38090dbf8",
        "colab": {
          "base_uri": "https://localhost:8080/",
          "height": 85
        }
      },
      "source": [
        "print(X_train.shape)\n",
        "print(y_train.shape)\n",
        "print(X_test.shape)\n",
        "print(y_test.shape)"
      ],
      "execution_count": 0,
      "outputs": [
        {
          "output_type": "stream",
          "text": [
            "(4927, 10)\n",
            "(4927,)\n",
            "(1232, 10)\n",
            "(1232,)\n"
          ],
          "name": "stdout"
        }
      ]
    },
    {
      "cell_type": "code",
      "metadata": {
        "id": "2oPT5vEaA0WG",
        "colab_type": "code",
        "outputId": "52c12ab2-e7be-4a0d-a2ff-2cc460c9fe31",
        "colab": {
          "base_uri": "https://localhost:8080/",
          "height": 238
        }
      },
      "source": [
        "X_train"
      ],
      "execution_count": 0,
      "outputs": [
        {
          "output_type": "execute_result",
          "data": {
            "text/plain": [
              "array([[1.        , 0.03846154, 1.        , ..., 1.        , 1.        ,\n",
              "        0.        ],\n",
              "       [0.        , 0.12820513, 1.        , ..., 0.        , 1.        ,\n",
              "        0.        ],\n",
              "       [1.        , 0.05128205, 1.        , ..., 1.        , 1.        ,\n",
              "        0.        ],\n",
              "       ...,\n",
              "       [0.        , 0.35897436, 0.        , ..., 1.        , 1.        ,\n",
              "        0.        ],\n",
              "       [1.        , 0.08974359, 1.        , ..., 0.        , 0.        ,\n",
              "        1.        ],\n",
              "       [1.        , 0.20512821, 1.        , ..., 0.        , 1.        ,\n",
              "        0.        ]])"
            ]
          },
          "metadata": {
            "tags": []
          },
          "execution_count": 13
        }
      ]
    },
    {
      "cell_type": "code",
      "metadata": {
        "id": "gbjoN2sgA0WI",
        "colab_type": "code",
        "colab": {}
      },
      "source": [
        "y_train = y_train.astype(int)\n",
        "y_test = y_test.astype(int)"
      ],
      "execution_count": 0,
      "outputs": []
    },
    {
      "cell_type": "markdown",
      "metadata": {
        "id": "4Q2AG2PRA0WK",
        "colab_type": "text"
      },
      "source": [
        "## Experiment 1: Vary NN Depth\n",
        "We first experiment with different models of varying depths."
      ]
    },
    {
      "cell_type": "code",
      "metadata": {
        "id": "VxMoiQHzNbeR",
        "colab_type": "code",
        "colab": {}
      },
      "source": [
        "NUMBER_OF_MODELS = 20"
      ],
      "execution_count": 0,
      "outputs": []
    },
    {
      "cell_type": "code",
      "metadata": {
        "id": "gYR6BLYZA0WK",
        "colab_type": "code",
        "outputId": "0d538160-5181-4b6f-846f-aed002f54561",
        "colab": {
          "base_uri": "https://localhost:8080/",
          "height": 173
        }
      },
      "source": [
        "depth_models = []\n",
        "adam = keras.optimizers.Adam(lr=0.001, beta_1=0.9, beta_2=0.999, epsilon=None, decay=0.0, amsgrad=False)\n",
        "\n",
        "for i in range(NUMBER_OF_MODELS):\n",
        "  model = keras.Sequential()\n",
        "  model.add(keras.layers.Dense(200, input_dim=10, activation=\"relu\"))\n",
        "  for j in range(i):\n",
        "    model.add(keras.layers.Dense(200, activation=\"relu\"))\n",
        "  model.add(keras.layers.Dense(1, activation='sigmoid'))\n",
        "  model.compile(optimizer=adam, loss='binary_crossentropy', metrics=['accuracy'])\n",
        "  depth_models.append(model)\n",
        "  if(i % 10 == 0):\n",
        "    print(i)"
      ],
      "execution_count": 0,
      "outputs": [
        {
          "output_type": "stream",
          "text": [
            "WARNING:tensorflow:From /usr/local/lib/python3.6/dist-packages/tensorflow/python/ops/init_ops.py:1251: calling VarianceScaling.__init__ (from tensorflow.python.ops.init_ops) with dtype is deprecated and will be removed in a future version.\n",
            "Instructions for updating:\n",
            "Call initializer instance with the dtype argument instead of passing it to the constructor\n",
            "WARNING:tensorflow:From /usr/local/lib/python3.6/dist-packages/tensorflow/python/ops/nn_impl.py:180: add_dispatch_support.<locals>.wrapper (from tensorflow.python.ops.array_ops) is deprecated and will be removed in a future version.\n",
            "Instructions for updating:\n",
            "Use tf.where in 2.0, which has the same broadcast rule as np.where\n",
            "0\n",
            "10\n"
          ],
          "name": "stdout"
        }
      ]
    },
    {
      "cell_type": "code",
      "metadata": {
        "id": "-BZOSQrE0rNe",
        "colab_type": "code",
        "outputId": "25d7329a-5c7c-41a1-aa35-b5fc0002d112",
        "colab": {
          "base_uri": "https://localhost:8080/",
          "height": 238
        }
      },
      "source": [
        "# Sanity check\n",
        "print(len(depth_models))\n",
        "depth_models[0].summary()"
      ],
      "execution_count": 0,
      "outputs": [
        {
          "output_type": "stream",
          "text": [
            "20\n",
            "Model: \"sequential\"\n",
            "_________________________________________________________________\n",
            "Layer (type)                 Output Shape              Param #   \n",
            "=================================================================\n",
            "dense (Dense)                (None, 200)               2200      \n",
            "_________________________________________________________________\n",
            "dense_1 (Dense)              (None, 1)                 201       \n",
            "=================================================================\n",
            "Total params: 2,401\n",
            "Trainable params: 2,401\n",
            "Non-trainable params: 0\n",
            "_________________________________________________________________\n"
          ],
          "name": "stdout"
        }
      ]
    },
    {
      "cell_type": "code",
      "metadata": {
        "id": "Pyi1pkUl0-mn",
        "colab_type": "code",
        "outputId": "830548ee-4dfe-41e0-c2d3-29f022f4a3df",
        "colab": {
          "base_uri": "https://localhost:8080/",
          "height": 323
        }
      },
      "source": [
        "# Sanity check\n",
        "depth_models[3].summary()"
      ],
      "execution_count": 0,
      "outputs": [
        {
          "output_type": "stream",
          "text": [
            "Model: \"sequential_3\"\n",
            "_________________________________________________________________\n",
            "Layer (type)                 Output Shape              Param #   \n",
            "=================================================================\n",
            "dense_9 (Dense)              (None, 200)               2200      \n",
            "_________________________________________________________________\n",
            "dense_10 (Dense)             (None, 200)               40200     \n",
            "_________________________________________________________________\n",
            "dense_11 (Dense)             (None, 200)               40200     \n",
            "_________________________________________________________________\n",
            "dense_12 (Dense)             (None, 200)               40200     \n",
            "_________________________________________________________________\n",
            "dense_13 (Dense)             (None, 1)                 201       \n",
            "=================================================================\n",
            "Total params: 123,001\n",
            "Trainable params: 123,001\n",
            "Non-trainable params: 0\n",
            "_________________________________________________________________\n"
          ],
          "name": "stdout"
        }
      ]
    },
    {
      "cell_type": "markdown",
      "metadata": {
        "id": "Iv4DK3dhA0WP",
        "colab_type": "text"
      },
      "source": [
        "### Train and Evaluate All Depth Models\n",
        "Iterate over the depth models and train each of them, storing the history in a dict."
      ]
    },
    {
      "cell_type": "code",
      "metadata": {
        "id": "meChCBdJA0WQ",
        "colab_type": "code",
        "outputId": "04f90ad3-f27f-43ce-d7c7-0aa89aa5bc9f",
        "colab": {
          "base_uri": "https://localhost:8080/",
          "height": 51
        }
      },
      "source": [
        "history = dict()\n",
        "for i in range(len(depth_models)):\n",
        "  history[i] = depth_models[i].fit(X_train, y_train, validation_split = 0.1, verbose = False, epochs=20)\n",
        "  if i % 10 == 0:\n",
        "    print(i)"
      ],
      "execution_count": 0,
      "outputs": [
        {
          "output_type": "stream",
          "text": [
            "0\n",
            "10\n"
          ],
          "name": "stdout"
        }
      ]
    },
    {
      "cell_type": "code",
      "metadata": {
        "id": "vbOcFLwSA0WT",
        "colab_type": "code",
        "outputId": "b992b71a-76ff-41b3-c474-32824e5e6c1c",
        "colab": {
          "base_uri": "https://localhost:8080/",
          "height": 85
        }
      },
      "source": [
        "# Sanity check\n",
        "depth_models[5].evaluate(X_test, y_test)\n",
        "depth_models[10].evaluate(X_test, y_test)\n",
        "depth_models[19].evaluate(X_test, y_test)"
      ],
      "execution_count": 0,
      "outputs": [
        {
          "output_type": "stream",
          "text": [
            "1232/1232 [==============================] - 0s 102us/sample - loss: 0.4751 - acc: 0.7630\n",
            "1232/1232 [==============================] - 0s 109us/sample - loss: 0.4655 - acc: 0.7760\n",
            "1232/1232 [==============================] - 0s 130us/sample - loss: 0.6871 - acc: 0.5552\n"
          ],
          "name": "stdout"
        },
        {
          "output_type": "execute_result",
          "data": {
            "text/plain": [
              "[0.687052736034641, 0.5551948]"
            ]
          },
          "metadata": {
            "tags": []
          },
          "execution_count": 20
        }
      ]
    },
    {
      "cell_type": "code",
      "metadata": {
        "id": "6jAArvA7WKXo",
        "colab_type": "code",
        "outputId": "8780c064-df1e-40f0-bada-8250d89a7275",
        "colab": {
          "base_uri": "https://localhost:8080/",
          "height": 357
        }
      },
      "source": [
        "# Store the test accuracy of each of the models\n",
        "depth_model_accuracies = []\n",
        "for i in range(len(depth_models)):\n",
        "  score, acc = depth_models[i].evaluate(X_test, y_test)\n",
        "  depth_model_accuracies.append(acc)"
      ],
      "execution_count": 0,
      "outputs": [
        {
          "output_type": "stream",
          "text": [
            "1232/1232 [==============================] - 0s 77us/sample - loss: 0.4686 - acc: 0.7679\n",
            "1232/1232 [==============================] - 0s 84us/sample - loss: 0.4662 - acc: 0.7735\n",
            "1232/1232 [==============================] - 0s 78us/sample - loss: 0.4693 - acc: 0.7695\n",
            "1232/1232 [==============================] - 0s 93us/sample - loss: 0.4674 - acc: 0.7735\n",
            "1232/1232 [==============================] - 0s 91us/sample - loss: 0.4673 - acc: 0.7703\n",
            "1232/1232 [==============================] - 0s 94us/sample - loss: 0.4751 - acc: 0.7630\n",
            "1232/1232 [==============================] - 0s 92us/sample - loss: 0.4701 - acc: 0.7760\n",
            "1232/1232 [==============================] - 0s 99us/sample - loss: 0.4763 - acc: 0.7670\n",
            "1232/1232 [==============================] - 0s 98us/sample - loss: 0.4841 - acc: 0.7646\n",
            "1232/1232 [==============================] - 0s 106us/sample - loss: 0.4699 - acc: 0.7735\n",
            "1232/1232 [==============================] - 0s 106us/sample - loss: 0.4655 - acc: 0.7760\n",
            "1232/1232 [==============================] - 0s 108us/sample - loss: 0.4698 - acc: 0.7581\n",
            "1232/1232 [==============================] - 0s 109us/sample - loss: 0.4762 - acc: 0.7589\n",
            "1232/1232 [==============================] - 0s 119us/sample - loss: 0.4686 - acc: 0.7719\n",
            "1232/1232 [==============================] - 0s 117us/sample - loss: 0.4875 - acc: 0.7524\n",
            "1232/1232 [==============================] - 0s 115us/sample - loss: 0.4954 - acc: 0.7630\n",
            "1232/1232 [==============================] - 0s 125us/sample - loss: 0.4796 - acc: 0.7687\n",
            "1232/1232 [==============================] - 0s 123us/sample - loss: 0.6870 - acc: 0.5552\n",
            "1232/1232 [==============================] - 0s 128us/sample - loss: 0.4980 - acc: 0.7451\n",
            "1232/1232 [==============================] - 0s 135us/sample - loss: 0.6871 - acc: 0.5552\n"
          ],
          "name": "stdout"
        }
      ]
    },
    {
      "cell_type": "markdown",
      "metadata": {
        "id": "ci0G-x06A0WZ",
        "colab_type": "text"
      },
      "source": [
        "## Predict on Entire Dataset"
      ]
    },
    {
      "cell_type": "code",
      "metadata": {
        "id": "w2LC1I96A0WZ",
        "colab_type": "code",
        "colab": {}
      },
      "source": [
        "# Predicted labels\n",
        "def predict_labels(model, X_test):\n",
        "  pred = model.predict_classes(X_test)\n",
        "  predicted_labels = []\n",
        "\n",
        "  for i in range(len(pred)):\n",
        "      predicted_labels.append(pred[i][0])\n",
        "  predicted_labels = np.asarray(predicted_labels)\n",
        "  return predicted_labels"
      ],
      "execution_count": 0,
      "outputs": []
    },
    {
      "cell_type": "code",
      "metadata": {
        "id": "bXvLBi482Lwr",
        "colab_type": "code",
        "colab": {}
      },
      "source": [
        "# Predicted probabilities\n",
        "def predict_probabilities(model, X_test):\n",
        "  pred = model.predict(X_test)\n",
        "  predicted_probs = []\n",
        "\n",
        "  for i in range(len(pred)):\n",
        "      predicted_probs.append(pred[i][0])\n",
        "  predicted_probs = np.asarray(predicted_probs)\n",
        "  return predicted_probs"
      ],
      "execution_count": 0,
      "outputs": []
    },
    {
      "cell_type": "code",
      "metadata": {
        "id": "KRyU9CzNCNtn",
        "colab_type": "code",
        "outputId": "ba6100b7-f4bc-49f9-cbf9-386ee9b273d4",
        "colab": {
          "base_uri": "https://localhost:8080/",
          "height": 51
        }
      },
      "source": [
        "# Predict the labels with all the models\n",
        "pred_labels = dict()\n",
        "for j in range(len(depth_models)):\n",
        "  if j % 10 == 0:\n",
        "    print(j)\n",
        "  pred_labels[j] = predict_labels(depth_models[j], X_test)"
      ],
      "execution_count": 0,
      "outputs": [
        {
          "output_type": "stream",
          "text": [
            "0\n",
            "10\n"
          ],
          "name": "stdout"
        }
      ]
    },
    {
      "cell_type": "code",
      "metadata": {
        "id": "00shO97fDhvD",
        "colab_type": "code",
        "outputId": "4cd8e240-82bc-4165-f51d-c1c919dda299",
        "colab": {
          "base_uri": "https://localhost:8080/",
          "height": 51
        }
      },
      "source": [
        "# Predict the probabilities (logits) with all the models\n",
        "pred_probs = dict()\n",
        "for j in range(len(depth_models)):\n",
        "  if j % 10 == 0:\n",
        "    print(j)\n",
        "  pred_probs[j] = predict_probabilities(depth_models[j], X_test)"
      ],
      "execution_count": 0,
      "outputs": [
        {
          "output_type": "stream",
          "text": [
            "0\n",
            "10\n"
          ],
          "name": "stdout"
        }
      ]
    },
    {
      "cell_type": "code",
      "metadata": {
        "id": "w2t9KgnwA0Wb",
        "colab_type": "code",
        "outputId": "5ea3212c-92d3-41d2-df2f-ca59e33e2651",
        "colab": {
          "base_uri": "https://localhost:8080/",
          "height": 51
        }
      },
      "source": [
        "print(len(pred_probs[0]))\n",
        "print(len(pred_labels[0]))"
      ],
      "execution_count": 0,
      "outputs": [
        {
          "output_type": "stream",
          "text": [
            "1232\n",
            "1232\n"
          ],
          "name": "stdout"
        }
      ]
    },
    {
      "cell_type": "code",
      "metadata": {
        "id": "R8dc0fbNZ2zv",
        "colab_type": "code",
        "outputId": "3baa55b6-495e-4d02-d41e-61e2404a5a00",
        "colab": {
          "base_uri": "https://localhost:8080/",
          "height": 374
        }
      },
      "source": [
        "# Sanity check to make sure we have different probabilities and labels\n",
        "for i in range(len(pred_probs[0])):\n",
        "  if((pred_probs[0][i] != pred_probs[1][i]) and i < 20):\n",
        "    print(i)\n",
        "    \n",
        "for i in range(len(pred_labels[0])):\n",
        "  if((pred_labels[0][i] != pred_labels[1][i]) and i < 20):\n",
        "    print(i)"
      ],
      "execution_count": 0,
      "outputs": [
        {
          "output_type": "stream",
          "text": [
            "0\n",
            "1\n",
            "2\n",
            "3\n",
            "4\n",
            "5\n",
            "6\n",
            "7\n",
            "8\n",
            "9\n",
            "10\n",
            "11\n",
            "12\n",
            "13\n",
            "14\n",
            "15\n",
            "16\n",
            "17\n",
            "18\n",
            "19\n",
            "8\n"
          ],
          "name": "stdout"
        }
      ]
    },
    {
      "cell_type": "code",
      "metadata": {
        "id": "RvWtc3LTaV2I",
        "colab_type": "code",
        "outputId": "eb6af2ea-fe7b-4ad4-c6e4-214654b3b3cf",
        "colab": {
          "base_uri": "https://localhost:8080/",
          "height": 51
        }
      },
      "source": [
        "# Sanity Check (make sure different)\n",
        "pred_probs[1]"
      ],
      "execution_count": 0,
      "outputs": [
        {
          "output_type": "execute_result",
          "data": {
            "text/plain": [
              "array([0.04007128, 0.7106999 , 0.16918698, ..., 0.99504375, 0.46565092,\n",
              "       0.43461204], dtype=float32)"
            ]
          },
          "metadata": {
            "tags": []
          },
          "execution_count": 28
        }
      ]
    },
    {
      "cell_type": "code",
      "metadata": {
        "id": "Gweb-beSaX2o",
        "colab_type": "code",
        "outputId": "8e5f2f58-8662-4e9b-ef93-4d4480643975",
        "colab": {
          "base_uri": "https://localhost:8080/",
          "height": 51
        }
      },
      "source": [
        "# Sanity Check (make sure different)\n",
        "pred_probs[2]"
      ],
      "execution_count": 0,
      "outputs": [
        {
          "output_type": "execute_result",
          "data": {
            "text/plain": [
              "array([0.03949991, 0.71844226, 0.16511649, ..., 0.99807984, 0.33052123,\n",
              "       0.3587618 ], dtype=float32)"
            ]
          },
          "metadata": {
            "tags": []
          },
          "execution_count": 29
        }
      ]
    },
    {
      "cell_type": "code",
      "metadata": {
        "id": "i8VSNeVdE70M",
        "colab_type": "code",
        "colab": {}
      },
      "source": [
        "# Append final answers for each of the models and save as CSV\n",
        "for i in range(len(pred_probs)):\n",
        "  save_path = '/content/drive/My Drive/colab/fairness_checking/depth_models/diffmodel_{}.csv'.format(i)\n",
        "  test['prediction_probs'] = pred_probs[i]\n",
        "  test['prediction'] = pred_labels[i]\n",
        "  test.to_csv(save_path)"
      ],
      "execution_count": 0,
      "outputs": []
    },
    {
      "cell_type": "code",
      "metadata": {
        "id": "B8lic4VJA0Wi",
        "colab_type": "code",
        "outputId": "b64b8599-4a67-4664-ce0a-c344383b4a86",
        "colab": {
          "base_uri": "https://localhost:8080/",
          "height": 241
        }
      },
      "source": [
        "test.head(5)"
      ],
      "execution_count": 0,
      "outputs": [
        {
          "output_type": "execute_result",
          "data": {
            "text/html": [
              "<div>\n",
              "<style scoped>\n",
              "    .dataframe tbody tr th:only-of-type {\n",
              "        vertical-align: middle;\n",
              "    }\n",
              "\n",
              "    .dataframe tbody tr th {\n",
              "        vertical-align: top;\n",
              "    }\n",
              "\n",
              "    .dataframe thead th {\n",
              "        text-align: right;\n",
              "    }\n",
              "</style>\n",
              "<table border=\"1\" class=\"dataframe\">\n",
              "  <thead>\n",
              "    <tr style=\"text-align: right;\">\n",
              "      <th></th>\n",
              "      <th>Unnamed: 0</th>\n",
              "      <th>sex</th>\n",
              "      <th>age</th>\n",
              "      <th>race</th>\n",
              "      <th>juv_fel_count</th>\n",
              "      <th>juv_misd_count</th>\n",
              "      <th>juv_other_count</th>\n",
              "      <th>priors_count</th>\n",
              "      <th>two_year_recid</th>\n",
              "      <th>c_charge_degree_F</th>\n",
              "      <th>c_charge_degree_M</th>\n",
              "      <th>risk_recid</th>\n",
              "      <th>prediction_probs</th>\n",
              "      <th>prediction</th>\n",
              "    </tr>\n",
              "  </thead>\n",
              "  <tbody>\n",
              "    <tr>\n",
              "      <th>3</th>\n",
              "      <td>0.000693</td>\n",
              "      <td>1.0</td>\n",
              "      <td>0.333333</td>\n",
              "      <td>0.0</td>\n",
              "      <td>0.0</td>\n",
              "      <td>0.0</td>\n",
              "      <td>0.0</td>\n",
              "      <td>0.000000</td>\n",
              "      <td>0.0</td>\n",
              "      <td>0.0</td>\n",
              "      <td>1.0</td>\n",
              "      <td>0.0</td>\n",
              "      <td>0.44713</td>\n",
              "      <td>0</td>\n",
              "    </tr>\n",
              "    <tr>\n",
              "      <th>4</th>\n",
              "      <td>0.000832</td>\n",
              "      <td>1.0</td>\n",
              "      <td>0.294872</td>\n",
              "      <td>0.0</td>\n",
              "      <td>0.0</td>\n",
              "      <td>0.0</td>\n",
              "      <td>0.0</td>\n",
              "      <td>0.368421</td>\n",
              "      <td>1.0</td>\n",
              "      <td>1.0</td>\n",
              "      <td>0.0</td>\n",
              "      <td>1.0</td>\n",
              "      <td>0.44713</td>\n",
              "      <td>0</td>\n",
              "    </tr>\n",
              "    <tr>\n",
              "      <th>5</th>\n",
              "      <td>0.000970</td>\n",
              "      <td>1.0</td>\n",
              "      <td>0.320513</td>\n",
              "      <td>0.0</td>\n",
              "      <td>0.0</td>\n",
              "      <td>0.0</td>\n",
              "      <td>0.0</td>\n",
              "      <td>0.078947</td>\n",
              "      <td>0.0</td>\n",
              "      <td>1.0</td>\n",
              "      <td>0.0</td>\n",
              "      <td>0.0</td>\n",
              "      <td>0.44713</td>\n",
              "      <td>0</td>\n",
              "    </tr>\n",
              "    <tr>\n",
              "      <th>9</th>\n",
              "      <td>0.001664</td>\n",
              "      <td>0.0</td>\n",
              "      <td>0.243590</td>\n",
              "      <td>0.0</td>\n",
              "      <td>0.0</td>\n",
              "      <td>0.0</td>\n",
              "      <td>0.0</td>\n",
              "      <td>0.000000</td>\n",
              "      <td>0.0</td>\n",
              "      <td>0.0</td>\n",
              "      <td>1.0</td>\n",
              "      <td>0.0</td>\n",
              "      <td>0.44713</td>\n",
              "      <td>0</td>\n",
              "    </tr>\n",
              "    <tr>\n",
              "      <th>16</th>\n",
              "      <td>0.002634</td>\n",
              "      <td>1.0</td>\n",
              "      <td>0.166667</td>\n",
              "      <td>0.0</td>\n",
              "      <td>0.0</td>\n",
              "      <td>0.0</td>\n",
              "      <td>0.0</td>\n",
              "      <td>0.131579</td>\n",
              "      <td>1.0</td>\n",
              "      <td>1.0</td>\n",
              "      <td>0.0</td>\n",
              "      <td>0.0</td>\n",
              "      <td>0.44713</td>\n",
              "      <td>0</td>\n",
              "    </tr>\n",
              "  </tbody>\n",
              "</table>\n",
              "</div>"
            ],
            "text/plain": [
              "    Unnamed: 0  sex       age  ...  risk_recid  prediction_probs  prediction\n",
              "3     0.000693  1.0  0.333333  ...         0.0           0.44713           0\n",
              "4     0.000832  1.0  0.294872  ...         1.0           0.44713           0\n",
              "5     0.000970  1.0  0.320513  ...         0.0           0.44713           0\n",
              "9     0.001664  0.0  0.243590  ...         0.0           0.44713           0\n",
              "16    0.002634  1.0  0.166667  ...         0.0           0.44713           0\n",
              "\n",
              "[5 rows x 14 columns]"
            ]
          },
          "metadata": {
            "tags": []
          },
          "execution_count": 31
        }
      ]
    },
    {
      "cell_type": "code",
      "metadata": {
        "id": "B0fmnLpjV5Nz",
        "colab_type": "code",
        "colab": {}
      },
      "source": [
        "# Save a simple CSV with depth model accuracies\n",
        "df = pd.DataFrame({'Model Depth':list(range(NUMBER_OF_MODELS)), 'Model Accuracy':depth_model_accuracies})\n",
        "df.head(5)\n",
        "df.to_csv('/content/drive/My Drive/colab/fairness_checking/depth_models/depth_model_accuracies.csv')"
      ],
      "execution_count": 0,
      "outputs": []
    }
  ]
}