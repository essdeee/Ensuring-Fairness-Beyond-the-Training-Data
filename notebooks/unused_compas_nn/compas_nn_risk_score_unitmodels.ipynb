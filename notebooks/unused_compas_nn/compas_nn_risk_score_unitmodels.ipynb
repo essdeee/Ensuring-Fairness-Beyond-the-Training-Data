{
  "nbformat": 4,
  "nbformat_minor": 0,
  "metadata": {
    "colab": {
      "name": "compas_nn_risk_score_unitmodels.ipynb",
      "provenance": [],
      "collapsed_sections": []
    },
    "language_info": {
      "codemirror_mode": {
        "name": "ipython",
        "version": 3
      },
      "file_extension": ".py",
      "mimetype": "text/x-python",
      "name": "python",
      "nbconvert_exporter": "python",
      "pygments_lexer": "ipython3",
      "version": "3.7.1"
    },
    "kernelspec": {
      "name": "python3",
      "display_name": "Python 3"
    },
    "accelerator": "GPU"
  },
  "cells": [
    {
      "cell_type": "markdown",
      "metadata": {
        "id": "PX3BHVuiA0Vt",
        "colab_type": "text"
      },
      "source": [
        "# Fairness Checking: COMPAS NN (Different Models Experiment)\n",
        "Here, we create different models to evaluate the LP criterion with different f(X) functions. Each NN represents one f(X), and we experiment with different parameters to achieve different functions. The main NN is in compas_nn_risk_score.ipynb.\n",
        "\n",
        "The preprocessing for this dataset is done in a separate file. In this file, we train a model, evaluate its accuracy and examine the performance of the model."
      ]
    },
    {
      "cell_type": "code",
      "metadata": {
        "id": "J4pdr4uNA5XK",
        "colab_type": "code",
        "outputId": "0837dcfc-a3d2-4a90-b08c-e5a32a1aab39",
        "colab": {
          "base_uri": "https://localhost:8080/",
          "height": 34
        }
      },
      "source": [
        "# Run this cell to mount your Google Drive.\n",
        "from google.colab import drive\n",
        "drive.mount('/content/drive')"
      ],
      "execution_count": 0,
      "outputs": [
        {
          "output_type": "stream",
          "text": [
            "Drive already mounted at /content/drive; to attempt to forcibly remount, call drive.mount(\"/content/drive\", force_remount=True).\n"
          ],
          "name": "stdout"
        }
      ]
    },
    {
      "cell_type": "code",
      "metadata": {
        "id": "zyB2J5sGA0Vu",
        "colab_type": "code",
        "outputId": "7f82d6d7-832a-49b6-c8fd-9727d5d59861",
        "colab": {
          "base_uri": "https://localhost:8080/",
          "height": 34
        }
      },
      "source": [
        "from tensorflow import keras\n",
        "import pandas as pd\n",
        "from matplotlib import pyplot as plt\n",
        "import numpy as np\n",
        "\n",
        "from sklearn.model_selection import train_test_split\n",
        "from keras.wrappers.scikit_learn import KerasClassifier"
      ],
      "execution_count": 0,
      "outputs": [
        {
          "output_type": "stream",
          "text": [
            "Using TensorFlow backend.\n"
          ],
          "name": "stderr"
        }
      ]
    },
    {
      "cell_type": "code",
      "metadata": {
        "id": "oI7DTOYUQuSC",
        "colab_type": "code",
        "colab": {}
      },
      "source": [
        "DIRECTORY = '/content/drive/My Drive/colab/fairness_checking/unit_models/'"
      ],
      "execution_count": 0,
      "outputs": []
    },
    {
      "cell_type": "code",
      "metadata": {
        "id": "bfmRtcjvbCVT",
        "colab_type": "code",
        "colab": {}
      },
      "source": [
        "! rm -r '/content/drive/My Drive/colab/fairness_checking/unit_models/'\n",
        "! mkdir '/content/drive/My Drive/colab/fairness_checking/unit_models'"
      ],
      "execution_count": 0,
      "outputs": []
    },
    {
      "cell_type": "markdown",
      "metadata": {
        "id": "8hG2lFGDA0Vz",
        "colab_type": "text"
      },
      "source": [
        "## Import and Split the Dataset\n",
        "Our preprocessed dataset includes information about sex, age, and past and future criminal history. Each entry has 10 different features, and the label is the last column: risk_recid. \n",
        "\n",
        "risk_recid can take two different values: 0 or 1. 0 translates to the COMPAS labels 'Low' and 'Medium' and 1 translates to the COMPAS label 'High.' Reasoning for this is in the preprocessing file. We have a binary classification problem."
      ]
    },
    {
      "cell_type": "code",
      "metadata": {
        "id": "0ic6nvIoA0Vz",
        "colab_type": "code",
        "colab": {}
      },
      "source": [
        "df = pd.read_csv('/content/drive/My Drive/colab/fairness_checking/preprocessed_compas_data.csv')"
      ],
      "execution_count": 0,
      "outputs": []
    },
    {
      "cell_type": "code",
      "metadata": {
        "id": "jqC8RxUoA0V1",
        "colab_type": "code",
        "outputId": "a5981220-2103-4e05-deff-d1b536f9997f",
        "colab": {
          "base_uri": "https://localhost:8080/",
          "height": 241
        }
      },
      "source": [
        "df.head(5)"
      ],
      "execution_count": 0,
      "outputs": [
        {
          "output_type": "execute_result",
          "data": {
            "text/html": [
              "<div>\n",
              "<style scoped>\n",
              "    .dataframe tbody tr th:only-of-type {\n",
              "        vertical-align: middle;\n",
              "    }\n",
              "\n",
              "    .dataframe tbody tr th {\n",
              "        vertical-align: top;\n",
              "    }\n",
              "\n",
              "    .dataframe thead th {\n",
              "        text-align: right;\n",
              "    }\n",
              "</style>\n",
              "<table border=\"1\" class=\"dataframe\">\n",
              "  <thead>\n",
              "    <tr style=\"text-align: right;\">\n",
              "      <th></th>\n",
              "      <th>Unnamed: 0</th>\n",
              "      <th>sex</th>\n",
              "      <th>age</th>\n",
              "      <th>race</th>\n",
              "      <th>juv_fel_count</th>\n",
              "      <th>juv_misd_count</th>\n",
              "      <th>juv_other_count</th>\n",
              "      <th>priors_count</th>\n",
              "      <th>two_year_recid</th>\n",
              "      <th>c_charge_degree_F</th>\n",
              "      <th>c_charge_degree_M</th>\n",
              "      <th>risk_recid</th>\n",
              "    </tr>\n",
              "  </thead>\n",
              "  <tbody>\n",
              "    <tr>\n",
              "      <th>0</th>\n",
              "      <td>0</td>\n",
              "      <td>1</td>\n",
              "      <td>69</td>\n",
              "      <td>0</td>\n",
              "      <td>0</td>\n",
              "      <td>0</td>\n",
              "      <td>0</td>\n",
              "      <td>0</td>\n",
              "      <td>0</td>\n",
              "      <td>1</td>\n",
              "      <td>0</td>\n",
              "      <td>0</td>\n",
              "    </tr>\n",
              "    <tr>\n",
              "      <th>1</th>\n",
              "      <td>1</td>\n",
              "      <td>1</td>\n",
              "      <td>34</td>\n",
              "      <td>1</td>\n",
              "      <td>0</td>\n",
              "      <td>0</td>\n",
              "      <td>0</td>\n",
              "      <td>0</td>\n",
              "      <td>1</td>\n",
              "      <td>1</td>\n",
              "      <td>0</td>\n",
              "      <td>0</td>\n",
              "    </tr>\n",
              "    <tr>\n",
              "      <th>2</th>\n",
              "      <td>2</td>\n",
              "      <td>1</td>\n",
              "      <td>24</td>\n",
              "      <td>1</td>\n",
              "      <td>0</td>\n",
              "      <td>0</td>\n",
              "      <td>1</td>\n",
              "      <td>4</td>\n",
              "      <td>1</td>\n",
              "      <td>1</td>\n",
              "      <td>0</td>\n",
              "      <td>0</td>\n",
              "    </tr>\n",
              "    <tr>\n",
              "      <th>3</th>\n",
              "      <td>5</td>\n",
              "      <td>1</td>\n",
              "      <td>44</td>\n",
              "      <td>0</td>\n",
              "      <td>0</td>\n",
              "      <td>0</td>\n",
              "      <td>0</td>\n",
              "      <td>0</td>\n",
              "      <td>0</td>\n",
              "      <td>0</td>\n",
              "      <td>1</td>\n",
              "      <td>0</td>\n",
              "    </tr>\n",
              "    <tr>\n",
              "      <th>4</th>\n",
              "      <td>6</td>\n",
              "      <td>1</td>\n",
              "      <td>41</td>\n",
              "      <td>0</td>\n",
              "      <td>0</td>\n",
              "      <td>0</td>\n",
              "      <td>0</td>\n",
              "      <td>14</td>\n",
              "      <td>1</td>\n",
              "      <td>1</td>\n",
              "      <td>0</td>\n",
              "      <td>1</td>\n",
              "    </tr>\n",
              "  </tbody>\n",
              "</table>\n",
              "</div>"
            ],
            "text/plain": [
              "   Unnamed: 0  sex  age  ...  c_charge_degree_F  c_charge_degree_M  risk_recid\n",
              "0           0    1   69  ...                  1                  0           0\n",
              "1           1    1   34  ...                  1                  0           0\n",
              "2           2    1   24  ...                  1                  0           0\n",
              "3           5    1   44  ...                  0                  1           0\n",
              "4           6    1   41  ...                  1                  0           1\n",
              "\n",
              "[5 rows x 12 columns]"
            ]
          },
          "metadata": {
            "tags": []
          },
          "execution_count": 6
        }
      ]
    },
    {
      "cell_type": "code",
      "metadata": {
        "id": "iHjxbhVs2ywM",
        "colab_type": "code",
        "outputId": "d009717b-c3e5-46f7-e53b-35cc0e0bba64",
        "colab": {
          "base_uri": "https://localhost:8080/",
          "height": 34
        }
      },
      "source": [
        "len(df)"
      ],
      "execution_count": 0,
      "outputs": [
        {
          "output_type": "execute_result",
          "data": {
            "text/plain": [
              "6159"
            ]
          },
          "metadata": {
            "tags": []
          },
          "execution_count": 7
        }
      ]
    },
    {
      "cell_type": "code",
      "metadata": {
        "id": "QDwKJObuA0V4",
        "colab_type": "code",
        "colab": {}
      },
      "source": [
        "normalized_df=(df-df.min())/(df.max()-df.min())"
      ],
      "execution_count": 0,
      "outputs": []
    },
    {
      "cell_type": "code",
      "metadata": {
        "id": "072lQGfhA0V6",
        "colab_type": "code",
        "outputId": "b63ff383-207e-4c98-a79a-4e5a9b794eb4",
        "colab": {
          "base_uri": "https://localhost:8080/",
          "height": 241
        }
      },
      "source": [
        "normalized_df.head(5)"
      ],
      "execution_count": 0,
      "outputs": [
        {
          "output_type": "execute_result",
          "data": {
            "text/html": [
              "<div>\n",
              "<style scoped>\n",
              "    .dataframe tbody tr th:only-of-type {\n",
              "        vertical-align: middle;\n",
              "    }\n",
              "\n",
              "    .dataframe tbody tr th {\n",
              "        vertical-align: top;\n",
              "    }\n",
              "\n",
              "    .dataframe thead th {\n",
              "        text-align: right;\n",
              "    }\n",
              "</style>\n",
              "<table border=\"1\" class=\"dataframe\">\n",
              "  <thead>\n",
              "    <tr style=\"text-align: right;\">\n",
              "      <th></th>\n",
              "      <th>Unnamed: 0</th>\n",
              "      <th>sex</th>\n",
              "      <th>age</th>\n",
              "      <th>race</th>\n",
              "      <th>juv_fel_count</th>\n",
              "      <th>juv_misd_count</th>\n",
              "      <th>juv_other_count</th>\n",
              "      <th>priors_count</th>\n",
              "      <th>two_year_recid</th>\n",
              "      <th>c_charge_degree_F</th>\n",
              "      <th>c_charge_degree_M</th>\n",
              "      <th>risk_recid</th>\n",
              "    </tr>\n",
              "  </thead>\n",
              "  <tbody>\n",
              "    <tr>\n",
              "      <th>0</th>\n",
              "      <td>0.000000</td>\n",
              "      <td>1.0</td>\n",
              "      <td>0.653846</td>\n",
              "      <td>0.0</td>\n",
              "      <td>0.0</td>\n",
              "      <td>0.0</td>\n",
              "      <td>0.000000</td>\n",
              "      <td>0.000000</td>\n",
              "      <td>0.0</td>\n",
              "      <td>1.0</td>\n",
              "      <td>0.0</td>\n",
              "      <td>0.0</td>\n",
              "    </tr>\n",
              "    <tr>\n",
              "      <th>1</th>\n",
              "      <td>0.000139</td>\n",
              "      <td>1.0</td>\n",
              "      <td>0.205128</td>\n",
              "      <td>1.0</td>\n",
              "      <td>0.0</td>\n",
              "      <td>0.0</td>\n",
              "      <td>0.000000</td>\n",
              "      <td>0.000000</td>\n",
              "      <td>1.0</td>\n",
              "      <td>1.0</td>\n",
              "      <td>0.0</td>\n",
              "      <td>0.0</td>\n",
              "    </tr>\n",
              "    <tr>\n",
              "      <th>2</th>\n",
              "      <td>0.000277</td>\n",
              "      <td>1.0</td>\n",
              "      <td>0.076923</td>\n",
              "      <td>1.0</td>\n",
              "      <td>0.0</td>\n",
              "      <td>0.0</td>\n",
              "      <td>0.111111</td>\n",
              "      <td>0.105263</td>\n",
              "      <td>1.0</td>\n",
              "      <td>1.0</td>\n",
              "      <td>0.0</td>\n",
              "      <td>0.0</td>\n",
              "    </tr>\n",
              "    <tr>\n",
              "      <th>3</th>\n",
              "      <td>0.000693</td>\n",
              "      <td>1.0</td>\n",
              "      <td>0.333333</td>\n",
              "      <td>0.0</td>\n",
              "      <td>0.0</td>\n",
              "      <td>0.0</td>\n",
              "      <td>0.000000</td>\n",
              "      <td>0.000000</td>\n",
              "      <td>0.0</td>\n",
              "      <td>0.0</td>\n",
              "      <td>1.0</td>\n",
              "      <td>0.0</td>\n",
              "    </tr>\n",
              "    <tr>\n",
              "      <th>4</th>\n",
              "      <td>0.000832</td>\n",
              "      <td>1.0</td>\n",
              "      <td>0.294872</td>\n",
              "      <td>0.0</td>\n",
              "      <td>0.0</td>\n",
              "      <td>0.0</td>\n",
              "      <td>0.000000</td>\n",
              "      <td>0.368421</td>\n",
              "      <td>1.0</td>\n",
              "      <td>1.0</td>\n",
              "      <td>0.0</td>\n",
              "      <td>1.0</td>\n",
              "    </tr>\n",
              "  </tbody>\n",
              "</table>\n",
              "</div>"
            ],
            "text/plain": [
              "   Unnamed: 0  sex       age  ...  c_charge_degree_F  c_charge_degree_M  risk_recid\n",
              "0    0.000000  1.0  0.653846  ...                1.0                0.0         0.0\n",
              "1    0.000139  1.0  0.205128  ...                1.0                0.0         0.0\n",
              "2    0.000277  1.0  0.076923  ...                1.0                0.0         0.0\n",
              "3    0.000693  1.0  0.333333  ...                0.0                1.0         0.0\n",
              "4    0.000832  1.0  0.294872  ...                1.0                0.0         1.0\n",
              "\n",
              "[5 rows x 12 columns]"
            ]
          },
          "metadata": {
            "tags": []
          },
          "execution_count": 9
        }
      ]
    },
    {
      "cell_type": "code",
      "metadata": {
        "id": "Rrq3o7dEA0V8",
        "colab_type": "code",
        "outputId": "12953ab9-0f1c-4331-9576-ad1a1840aa80",
        "colab": {
          "base_uri": "https://localhost:8080/",
          "height": 34
        }
      },
      "source": [
        "len(normalized_df)"
      ],
      "execution_count": 0,
      "outputs": [
        {
          "output_type": "execute_result",
          "data": {
            "text/plain": [
              "6159"
            ]
          },
          "metadata": {
            "tags": []
          },
          "execution_count": 10
        }
      ]
    },
    {
      "cell_type": "code",
      "metadata": {
        "id": "1nSBwyFv3v5J",
        "colab_type": "code",
        "colab": {}
      },
      "source": [
        "# Train-Test Split for Dataframe\n",
        "train = normalized_df.sample(frac=0.8,random_state=42)\n",
        "test = normalized_df.drop(train.index)"
      ],
      "execution_count": 0,
      "outputs": []
    },
    {
      "cell_type": "code",
      "metadata": {
        "id": "fQnYdVWIA0V-",
        "colab_type": "code",
        "colab": {}
      },
      "source": [
        "X_train = train.iloc[:, 1:-1].values\n",
        "y_train = train.iloc[:, -1].values\n",
        "\n",
        "X_test = test.iloc[:, 1:-1].values\n",
        "y_test = test.iloc[:, -1].values"
      ],
      "execution_count": 0,
      "outputs": []
    },
    {
      "cell_type": "code",
      "metadata": {
        "id": "4cVPVSMIA0WB",
        "colab_type": "code",
        "outputId": "de33a5ee-c3e7-4d2d-eb89-6ba63ec4d02d",
        "colab": {
          "base_uri": "https://localhost:8080/",
          "height": 85
        }
      },
      "source": [
        "print(X_train.shape)\n",
        "print(y_train.shape)\n",
        "print(X_test.shape)\n",
        "print(y_test.shape)"
      ],
      "execution_count": 0,
      "outputs": [
        {
          "output_type": "stream",
          "text": [
            "(4927, 10)\n",
            "(4927,)\n",
            "(1232, 10)\n",
            "(1232,)\n"
          ],
          "name": "stdout"
        }
      ]
    },
    {
      "cell_type": "code",
      "metadata": {
        "id": "2oPT5vEaA0WG",
        "colab_type": "code",
        "outputId": "099a53c4-5513-4f04-8f0c-5ff9cb2bcd66",
        "colab": {
          "base_uri": "https://localhost:8080/",
          "height": 238
        }
      },
      "source": [
        "X_train"
      ],
      "execution_count": 0,
      "outputs": [
        {
          "output_type": "execute_result",
          "data": {
            "text/plain": [
              "array([[1.        , 0.03846154, 1.        , ..., 1.        , 1.        ,\n",
              "        0.        ],\n",
              "       [0.        , 0.12820513, 1.        , ..., 0.        , 1.        ,\n",
              "        0.        ],\n",
              "       [1.        , 0.05128205, 1.        , ..., 1.        , 1.        ,\n",
              "        0.        ],\n",
              "       ...,\n",
              "       [0.        , 0.35897436, 0.        , ..., 1.        , 1.        ,\n",
              "        0.        ],\n",
              "       [1.        , 0.08974359, 1.        , ..., 0.        , 0.        ,\n",
              "        1.        ],\n",
              "       [1.        , 0.20512821, 1.        , ..., 0.        , 1.        ,\n",
              "        0.        ]])"
            ]
          },
          "metadata": {
            "tags": []
          },
          "execution_count": 14
        }
      ]
    },
    {
      "cell_type": "code",
      "metadata": {
        "id": "gbjoN2sgA0WI",
        "colab_type": "code",
        "colab": {}
      },
      "source": [
        "y_train = y_train.astype(int)\n",
        "y_test = y_test.astype(int)"
      ],
      "execution_count": 0,
      "outputs": []
    },
    {
      "cell_type": "markdown",
      "metadata": {
        "id": "LWKQz99RGmxc",
        "colab_type": "text"
      },
      "source": [
        "## Experiment 2: Vary NN Units\n",
        "We first experiment with different models of varying hidden units. Keep depth of each to 5."
      ]
    },
    {
      "cell_type": "code",
      "metadata": {
        "id": "9rrGVxMZPCKb",
        "colab_type": "code",
        "colab": {}
      },
      "source": [
        "NUMBER_OF_MODELS = 20"
      ],
      "execution_count": 0,
      "outputs": []
    },
    {
      "cell_type": "code",
      "metadata": {
        "id": "tv5zxQBgGgmE",
        "colab_type": "code",
        "outputId": "492ab654-4cc5-4917-c139-a5498b9bae4e",
        "colab": {
          "base_uri": "https://localhost:8080/",
          "height": 173
        }
      },
      "source": [
        "unit_models = []\n",
        "adam = keras.optimizers.Adam(lr=0.001, beta_1=0.9, beta_2=0.999, epsilon=None, decay=0.0, amsgrad=False)\n",
        "\n",
        "units = 20 # Start with 20 units in each layer, increment by 20\n",
        "for i in range(NUMBER_OF_MODELS):\n",
        "  if i % 10 == 0:\n",
        "    print(i)\n",
        "  model = keras.Sequential()\n",
        "  model.add(keras.layers.Dense(units, input_dim=10, activation=\"relu\"))\n",
        "  model.add(keras.layers.Dense(units, activation=\"relu\"))\n",
        "  model.add(keras.layers.Dense(units, activation=\"relu\"))\n",
        "  model.add(keras.layers.Dense(units, activation=\"relu\"))\n",
        "  model.add(keras.layers.Dense(units, activation=\"relu\"))\n",
        "  model.add(keras.layers.Dense(1, activation='sigmoid'))\n",
        "  model.compile(optimizer=adam, loss='binary_crossentropy', metrics=['accuracy'])\n",
        "  unit_models.append(model)\n",
        "\n",
        "  units = units + 20"
      ],
      "execution_count": 0,
      "outputs": [
        {
          "output_type": "stream",
          "text": [
            "0\n",
            "WARNING:tensorflow:From /usr/local/lib/python3.6/dist-packages/tensorflow/python/ops/init_ops.py:1251: calling VarianceScaling.__init__ (from tensorflow.python.ops.init_ops) with dtype is deprecated and will be removed in a future version.\n",
            "Instructions for updating:\n",
            "Call initializer instance with the dtype argument instead of passing it to the constructor\n",
            "WARNING:tensorflow:From /usr/local/lib/python3.6/dist-packages/tensorflow/python/ops/nn_impl.py:180: add_dispatch_support.<locals>.wrapper (from tensorflow.python.ops.array_ops) is deprecated and will be removed in a future version.\n",
            "Instructions for updating:\n",
            "Use tf.where in 2.0, which has the same broadcast rule as np.where\n",
            "10\n"
          ],
          "name": "stdout"
        }
      ]
    },
    {
      "cell_type": "code",
      "metadata": {
        "id": "ATNT1o1iHTxf",
        "colab_type": "code",
        "outputId": "94ab6fd3-34df-4dc2-b29a-1fa344c72bc6",
        "colab": {
          "base_uri": "https://localhost:8080/",
          "height": 357
        }
      },
      "source": [
        "unit_models[0].summary()"
      ],
      "execution_count": 0,
      "outputs": [
        {
          "output_type": "stream",
          "text": [
            "Model: \"sequential\"\n",
            "_________________________________________________________________\n",
            "Layer (type)                 Output Shape              Param #   \n",
            "=================================================================\n",
            "dense (Dense)                (None, 20)                220       \n",
            "_________________________________________________________________\n",
            "dense_1 (Dense)              (None, 20)                420       \n",
            "_________________________________________________________________\n",
            "dense_2 (Dense)              (None, 20)                420       \n",
            "_________________________________________________________________\n",
            "dense_3 (Dense)              (None, 20)                420       \n",
            "_________________________________________________________________\n",
            "dense_4 (Dense)              (None, 20)                420       \n",
            "_________________________________________________________________\n",
            "dense_5 (Dense)              (None, 1)                 21        \n",
            "=================================================================\n",
            "Total params: 1,921\n",
            "Trainable params: 1,921\n",
            "Non-trainable params: 0\n",
            "_________________________________________________________________\n"
          ],
          "name": "stdout"
        }
      ]
    },
    {
      "cell_type": "code",
      "metadata": {
        "id": "-lVlSi7WHV-_",
        "colab_type": "code",
        "outputId": "5b3eea45-131a-4b92-d05d-440bf6da8b0b",
        "colab": {
          "base_uri": "https://localhost:8080/",
          "height": 357
        }
      },
      "source": [
        "unit_models[19].summary()"
      ],
      "execution_count": 0,
      "outputs": [
        {
          "output_type": "stream",
          "text": [
            "Model: \"sequential_19\"\n",
            "_________________________________________________________________\n",
            "Layer (type)                 Output Shape              Param #   \n",
            "=================================================================\n",
            "dense_114 (Dense)            (None, 400)               4400      \n",
            "_________________________________________________________________\n",
            "dense_115 (Dense)            (None, 400)               160400    \n",
            "_________________________________________________________________\n",
            "dense_116 (Dense)            (None, 400)               160400    \n",
            "_________________________________________________________________\n",
            "dense_117 (Dense)            (None, 400)               160400    \n",
            "_________________________________________________________________\n",
            "dense_118 (Dense)            (None, 400)               160400    \n",
            "_________________________________________________________________\n",
            "dense_119 (Dense)            (None, 1)                 401       \n",
            "=================================================================\n",
            "Total params: 646,401\n",
            "Trainable params: 646,401\n",
            "Non-trainable params: 0\n",
            "_________________________________________________________________\n"
          ],
          "name": "stdout"
        }
      ]
    },
    {
      "cell_type": "markdown",
      "metadata": {
        "id": "QhJOE2grHeLp",
        "colab_type": "text"
      },
      "source": [
        "### Train and Evaluate All Unit Models\n",
        "Iterate over the unit models and train each of them, storing the history in a dict."
      ]
    },
    {
      "cell_type": "code",
      "metadata": {
        "id": "68eywQuqHXhh",
        "colab_type": "code",
        "outputId": "ddeb81e5-ff6a-4f09-c57b-d0cb43e98011",
        "colab": {
          "base_uri": "https://localhost:8080/",
          "height": 51
        }
      },
      "source": [
        "history = dict()\n",
        "for i in range(len(unit_models)):\n",
        "  if i % 10 == 0:\n",
        "    print(i)\n",
        "  history[i] = unit_models[i].fit(X_train, y_train, validation_split = 0.1, verbose = False, epochs=20)"
      ],
      "execution_count": 0,
      "outputs": [
        {
          "output_type": "stream",
          "text": [
            "0\n",
            "10\n"
          ],
          "name": "stdout"
        }
      ]
    },
    {
      "cell_type": "code",
      "metadata": {
        "id": "Mpsu8Cp5Hov_",
        "colab_type": "code",
        "outputId": "13a0bd4f-9130-47d5-a283-ea614b229c35",
        "colab": {
          "base_uri": "https://localhost:8080/",
          "height": 85
        }
      },
      "source": [
        "# Sanity check\n",
        "unit_models[5].evaluate(X_test, y_test)\n",
        "unit_models[10].evaluate(X_test, y_test)\n",
        "unit_models[15].evaluate(X_test, y_test)"
      ],
      "execution_count": 0,
      "outputs": [
        {
          "output_type": "stream",
          "text": [
            "1232/1232 [==============================] - 0s 53us/sample - loss: 0.4663 - acc: 0.7735\n",
            "1232/1232 [==============================] - 0s 52us/sample - loss: 0.4809 - acc: 0.7654\n",
            "1232/1232 [==============================] - 0s 52us/sample - loss: 0.4702 - acc: 0.7727\n"
          ],
          "name": "stdout"
        },
        {
          "output_type": "execute_result",
          "data": {
            "text/plain": [
              "[0.4701930470280833, 0.77272725]"
            ]
          },
          "metadata": {
            "tags": []
          },
          "execution_count": 21
        }
      ]
    },
    {
      "cell_type": "code",
      "metadata": {
        "id": "Arl43KcpbY9E",
        "colab_type": "code",
        "outputId": "c244aac6-a71d-4685-b128-f2761c609335",
        "colab": {
          "base_uri": "https://localhost:8080/",
          "height": 357
        }
      },
      "source": [
        "# Store the test accuracy of each of the models\n",
        "unit_model_accuracies = []\n",
        "for i in range(len(unit_models)):\n",
        "  score, acc = unit_models[i].evaluate(X_test, y_test)\n",
        "  unit_model_accuracies.append(acc)"
      ],
      "execution_count": 0,
      "outputs": [
        {
          "output_type": "stream",
          "text": [
            "1232/1232 [==============================] - 0s 53us/sample - loss: 0.4708 - acc: 0.7735\n",
            "1232/1232 [==============================] - 0s 52us/sample - loss: 0.4672 - acc: 0.7776\n",
            "1232/1232 [==============================] - 0s 54us/sample - loss: 0.4798 - acc: 0.7581\n",
            "1232/1232 [==============================] - 0s 50us/sample - loss: 0.4655 - acc: 0.7760\n",
            "1232/1232 [==============================] - 0s 53us/sample - loss: 0.4741 - acc: 0.7687\n",
            "1232/1232 [==============================] - 0s 59us/sample - loss: 0.4663 - acc: 0.7735\n",
            "1232/1232 [==============================] - 0s 52us/sample - loss: 0.4685 - acc: 0.7630\n",
            "1232/1232 [==============================] - 0s 56us/sample - loss: 0.4698 - acc: 0.7735\n",
            "1232/1232 [==============================] - 0s 54us/sample - loss: 0.4670 - acc: 0.7703\n",
            "1232/1232 [==============================] - 0s 53us/sample - loss: 0.4875 - acc: 0.7606\n",
            "1232/1232 [==============================] - 0s 52us/sample - loss: 0.4809 - acc: 0.7654\n",
            "1232/1232 [==============================] - 0s 52us/sample - loss: 0.4636 - acc: 0.7776\n",
            "1232/1232 [==============================] - 0s 56us/sample - loss: 0.4713 - acc: 0.7606\n",
            "1232/1232 [==============================] - 0s 52us/sample - loss: 0.4674 - acc: 0.7735\n",
            "1232/1232 [==============================] - 0s 57us/sample - loss: 0.4678 - acc: 0.7735\n",
            "1232/1232 [==============================] - 0s 55us/sample - loss: 0.4702 - acc: 0.7727\n",
            "1232/1232 [==============================] - 0s 62us/sample - loss: 0.4804 - acc: 0.7597\n",
            "1232/1232 [==============================] - 0s 51us/sample - loss: 0.4807 - acc: 0.7557\n",
            "1232/1232 [==============================] - 0s 61us/sample - loss: 0.4685 - acc: 0.7630\n",
            "1232/1232 [==============================] - 0s 59us/sample - loss: 0.4697 - acc: 0.7654\n"
          ],
          "name": "stdout"
        }
      ]
    },
    {
      "cell_type": "markdown",
      "metadata": {
        "id": "JFKpupmDIWqK",
        "colab_type": "text"
      },
      "source": [
        "## Predict on Entire Dataset"
      ]
    },
    {
      "cell_type": "code",
      "metadata": {
        "id": "TXchrjFnmaKm",
        "colab_type": "code",
        "colab": {}
      },
      "source": [
        "# Predicted labels\n",
        "def predict_labels(model, X_test):\n",
        "  pred = model.predict_classes(X_test)\n",
        "  predicted_labels = []\n",
        "\n",
        "  for i in range(len(pred)):\n",
        "      predicted_labels.append(pred[i][0])\n",
        "  predicted_labels = np.asarray(predicted_labels)\n",
        "  return predicted_labels\n",
        "\n",
        "# Predicted probabilities\n",
        "def predict_probabilities(model, X_test):\n",
        "  pred = model.predict(X_test)\n",
        "  predicted_probs = []\n",
        "\n",
        "  for i in range(len(pred)):\n",
        "      predicted_probs.append(pred[i][0])\n",
        "  predicted_probs = np.asarray(predicted_probs)\n",
        "  return predicted_probs"
      ],
      "execution_count": 0,
      "outputs": []
    },
    {
      "cell_type": "code",
      "metadata": {
        "id": "qNxVWHw0H2Je",
        "colab_type": "code",
        "outputId": "03114db1-1e27-4e54-a9ea-bdc76b4c110f",
        "colab": {
          "base_uri": "https://localhost:8080/",
          "height": 51
        }
      },
      "source": [
        "# Predict the labels with all the models\n",
        "pred_labels = dict()\n",
        "for j in range(len(unit_models)):\n",
        "  if j % 10 == 0:\n",
        "    print(j)\n",
        "  pred_labels[j] = predict_labels(unit_models[j], X_test)"
      ],
      "execution_count": 0,
      "outputs": [
        {
          "output_type": "stream",
          "text": [
            "0\n",
            "10\n"
          ],
          "name": "stdout"
        }
      ]
    },
    {
      "cell_type": "code",
      "metadata": {
        "id": "arARvESmIcRL",
        "colab_type": "code",
        "outputId": "c1570d13-0c77-4370-dfb8-6f3e7c8b461e",
        "colab": {
          "base_uri": "https://localhost:8080/",
          "height": 51
        }
      },
      "source": [
        "# Predict the probabilities (logits) with all the models\n",
        "pred_probs = dict()\n",
        "for j in range(len(unit_models)):\n",
        "  if j % 10 == 0:\n",
        "    print(j)\n",
        "  pred_probs[j] = predict_probabilities(unit_models[j], X_test)"
      ],
      "execution_count": 0,
      "outputs": [
        {
          "output_type": "stream",
          "text": [
            "0\n",
            "10\n"
          ],
          "name": "stdout"
        }
      ]
    },
    {
      "cell_type": "code",
      "metadata": {
        "id": "XcAORyU0Igwu",
        "colab_type": "code",
        "outputId": "2587af4a-4297-4f3d-a788-9bde7785b2e6",
        "colab": {
          "base_uri": "https://localhost:8080/",
          "height": 51
        }
      },
      "source": [
        "print(len(pred_probs[0]))\n",
        "print(len(pred_labels[0]))"
      ],
      "execution_count": 0,
      "outputs": [
        {
          "output_type": "stream",
          "text": [
            "1232\n",
            "1232\n"
          ],
          "name": "stdout"
        }
      ]
    },
    {
      "cell_type": "code",
      "metadata": {
        "id": "3GvEy4-iIoty",
        "colab_type": "code",
        "outputId": "6c844723-8a0c-4bcc-8ffa-6e28353c4cee",
        "colab": {
          "base_uri": "https://localhost:8080/",
          "height": 374
        }
      },
      "source": [
        "# Sanity check to make sure we have different probabilities and labels\n",
        "for i in range(len(pred_probs[0])):\n",
        "  if((pred_probs[0][i] != pred_probs[1][i]) and i < 20):\n",
        "    print(i)\n",
        "    \n",
        "for i in range(len(pred_labels[0])):\n",
        "  if((pred_labels[0][i] != pred_labels[1][i]) and i < 20):\n",
        "    print(i)"
      ],
      "execution_count": 0,
      "outputs": [
        {
          "output_type": "stream",
          "text": [
            "0\n",
            "1\n",
            "2\n",
            "3\n",
            "4\n",
            "5\n",
            "6\n",
            "7\n",
            "8\n",
            "9\n",
            "10\n",
            "11\n",
            "12\n",
            "13\n",
            "14\n",
            "15\n",
            "16\n",
            "17\n",
            "18\n",
            "19\n",
            "8\n"
          ],
          "name": "stdout"
        }
      ]
    },
    {
      "cell_type": "code",
      "metadata": {
        "id": "CUytgnLcIrmK",
        "colab_type": "code",
        "outputId": "7a7eeaef-ba8a-4ec2-dc92-f14b48dfbc20",
        "colab": {
          "base_uri": "https://localhost:8080/",
          "height": 51
        }
      },
      "source": [
        "# Sanity Check (make sure different)\n",
        "pred_probs[1]"
      ],
      "execution_count": 0,
      "outputs": [
        {
          "output_type": "execute_result",
          "data": {
            "text/plain": [
              "array([0.03451023, 0.70820564, 0.17867288, ..., 0.9901919 , 0.4116576 ,\n",
              "       0.41785648], dtype=float32)"
            ]
          },
          "metadata": {
            "tags": []
          },
          "execution_count": 28
        }
      ]
    },
    {
      "cell_type": "code",
      "metadata": {
        "id": "JSceAmKkIsBo",
        "colab_type": "code",
        "outputId": "a38f147d-18b5-4a5f-d044-6246f6268661",
        "colab": {
          "base_uri": "https://localhost:8080/",
          "height": 51
        }
      },
      "source": [
        "# Sanity Check (make sure different)\n",
        "pred_probs[19]"
      ],
      "execution_count": 0,
      "outputs": [
        {
          "output_type": "execute_result",
          "data": {
            "text/plain": [
              "array([0.04942217, 0.73186237, 0.1943121 , ..., 0.9977342 , 0.37559348,\n",
              "       0.3977226 ], dtype=float32)"
            ]
          },
          "metadata": {
            "tags": []
          },
          "execution_count": 29
        }
      ]
    },
    {
      "cell_type": "code",
      "metadata": {
        "id": "Sro7fZL9IvQD",
        "colab_type": "code",
        "colab": {}
      },
      "source": [
        "# Append final answers for each of the models and save as CSV\n",
        "for i in range(len(pred_probs)):\n",
        "  save_path = '/content/drive/My Drive/colab/fairness_checking/unit_models/diffmodel_{}.csv'.format(i)\n",
        "  test['prediction_probs'] = pred_probs[i]\n",
        "  test['prediction'] = pred_labels[i]\n",
        "  test.to_csv(save_path)"
      ],
      "execution_count": 0,
      "outputs": []
    },
    {
      "cell_type": "code",
      "metadata": {
        "id": "srtsILySIxfz",
        "colab_type": "code",
        "outputId": "511d5e8d-b889-4108-9847-cb035dd59b32",
        "colab": {
          "base_uri": "https://localhost:8080/",
          "height": 241
        }
      },
      "source": [
        "test.head(5)"
      ],
      "execution_count": 0,
      "outputs": [
        {
          "output_type": "execute_result",
          "data": {
            "text/html": [
              "<div>\n",
              "<style scoped>\n",
              "    .dataframe tbody tr th:only-of-type {\n",
              "        vertical-align: middle;\n",
              "    }\n",
              "\n",
              "    .dataframe tbody tr th {\n",
              "        vertical-align: top;\n",
              "    }\n",
              "\n",
              "    .dataframe thead th {\n",
              "        text-align: right;\n",
              "    }\n",
              "</style>\n",
              "<table border=\"1\" class=\"dataframe\">\n",
              "  <thead>\n",
              "    <tr style=\"text-align: right;\">\n",
              "      <th></th>\n",
              "      <th>Unnamed: 0</th>\n",
              "      <th>sex</th>\n",
              "      <th>age</th>\n",
              "      <th>race</th>\n",
              "      <th>juv_fel_count</th>\n",
              "      <th>juv_misd_count</th>\n",
              "      <th>juv_other_count</th>\n",
              "      <th>priors_count</th>\n",
              "      <th>two_year_recid</th>\n",
              "      <th>c_charge_degree_F</th>\n",
              "      <th>c_charge_degree_M</th>\n",
              "      <th>risk_recid</th>\n",
              "      <th>prediction_probs</th>\n",
              "      <th>prediction</th>\n",
              "    </tr>\n",
              "  </thead>\n",
              "  <tbody>\n",
              "    <tr>\n",
              "      <th>3</th>\n",
              "      <td>0.000693</td>\n",
              "      <td>1.0</td>\n",
              "      <td>0.333333</td>\n",
              "      <td>0.0</td>\n",
              "      <td>0.0</td>\n",
              "      <td>0.0</td>\n",
              "      <td>0.0</td>\n",
              "      <td>0.000000</td>\n",
              "      <td>0.0</td>\n",
              "      <td>0.0</td>\n",
              "      <td>1.0</td>\n",
              "      <td>0.0</td>\n",
              "      <td>0.049422</td>\n",
              "      <td>0</td>\n",
              "    </tr>\n",
              "    <tr>\n",
              "      <th>4</th>\n",
              "      <td>0.000832</td>\n",
              "      <td>1.0</td>\n",
              "      <td>0.294872</td>\n",
              "      <td>0.0</td>\n",
              "      <td>0.0</td>\n",
              "      <td>0.0</td>\n",
              "      <td>0.0</td>\n",
              "      <td>0.368421</td>\n",
              "      <td>1.0</td>\n",
              "      <td>1.0</td>\n",
              "      <td>0.0</td>\n",
              "      <td>1.0</td>\n",
              "      <td>0.731862</td>\n",
              "      <td>1</td>\n",
              "    </tr>\n",
              "    <tr>\n",
              "      <th>5</th>\n",
              "      <td>0.000970</td>\n",
              "      <td>1.0</td>\n",
              "      <td>0.320513</td>\n",
              "      <td>0.0</td>\n",
              "      <td>0.0</td>\n",
              "      <td>0.0</td>\n",
              "      <td>0.0</td>\n",
              "      <td>0.078947</td>\n",
              "      <td>0.0</td>\n",
              "      <td>1.0</td>\n",
              "      <td>0.0</td>\n",
              "      <td>0.0</td>\n",
              "      <td>0.194312</td>\n",
              "      <td>0</td>\n",
              "    </tr>\n",
              "    <tr>\n",
              "      <th>9</th>\n",
              "      <td>0.001664</td>\n",
              "      <td>0.0</td>\n",
              "      <td>0.243590</td>\n",
              "      <td>0.0</td>\n",
              "      <td>0.0</td>\n",
              "      <td>0.0</td>\n",
              "      <td>0.0</td>\n",
              "      <td>0.000000</td>\n",
              "      <td>0.0</td>\n",
              "      <td>0.0</td>\n",
              "      <td>1.0</td>\n",
              "      <td>0.0</td>\n",
              "      <td>0.071848</td>\n",
              "      <td>0</td>\n",
              "    </tr>\n",
              "    <tr>\n",
              "      <th>16</th>\n",
              "      <td>0.002634</td>\n",
              "      <td>1.0</td>\n",
              "      <td>0.166667</td>\n",
              "      <td>0.0</td>\n",
              "      <td>0.0</td>\n",
              "      <td>0.0</td>\n",
              "      <td>0.0</td>\n",
              "      <td>0.131579</td>\n",
              "      <td>1.0</td>\n",
              "      <td>1.0</td>\n",
              "      <td>0.0</td>\n",
              "      <td>0.0</td>\n",
              "      <td>0.619357</td>\n",
              "      <td>1</td>\n",
              "    </tr>\n",
              "  </tbody>\n",
              "</table>\n",
              "</div>"
            ],
            "text/plain": [
              "    Unnamed: 0  sex       age  ...  risk_recid  prediction_probs  prediction\n",
              "3     0.000693  1.0  0.333333  ...         0.0          0.049422           0\n",
              "4     0.000832  1.0  0.294872  ...         1.0          0.731862           1\n",
              "5     0.000970  1.0  0.320513  ...         0.0          0.194312           0\n",
              "9     0.001664  0.0  0.243590  ...         0.0          0.071848           0\n",
              "16    0.002634  1.0  0.166667  ...         0.0          0.619357           1\n",
              "\n",
              "[5 rows x 14 columns]"
            ]
          },
          "metadata": {
            "tags": []
          },
          "execution_count": 31
        }
      ]
    },
    {
      "cell_type": "code",
      "metadata": {
        "id": "EZVnvoymbfgK",
        "colab_type": "code",
        "colab": {}
      },
      "source": [
        "# Get values for units\n",
        "unit_list = []\n",
        "units = 20\n",
        "for i in range(len(unit_models)):\n",
        "  unit_list.append(units)\n",
        "  units += 20\n",
        "\n",
        "# Save a simple CSV with unit model accuracies\n",
        "df = pd.DataFrame({'Model Units':unit_list, 'Model Accuracy':unit_model_accuracies})\n",
        "df.head(5)\n",
        "df.to_csv('/content/drive/My Drive/colab/fairness_checking/unit_models/unit_model_accuracies.csv')"
      ],
      "execution_count": 0,
      "outputs": []
    },
    {
      "cell_type": "code",
      "metadata": {
        "id": "W197aNeMXyYz",
        "colab_type": "code",
        "colab": {}
      },
      "source": [
        ""
      ],
      "execution_count": 0,
      "outputs": []
    }
  ]
}