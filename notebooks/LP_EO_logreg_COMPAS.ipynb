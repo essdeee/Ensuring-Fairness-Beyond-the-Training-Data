{
 "cells": [
  {
   "cell_type": "markdown",
   "metadata": {
    "colab_type": "text",
    "id": "VYEUJK2JDiTS"
   },
   "source": [
    "# Fairness Checking: Equalized Odds Constraint Experiment\n",
    "This notebook uses PuLP to solve the linear program outlined in the \"Fairness Checking\" document. Here, **we experiment with varying the upper bound constraint on w and see its effects on the objective value.**"
   ]
  },
  {
   "cell_type": "code",
   "execution_count": 1,
   "metadata": {
    "colab": {
     "base_uri": "https://localhost:8080/",
     "height": 224
    },
    "colab_type": "code",
    "id": "AyLJZXkNDndG",
    "outputId": "0828aec9-f97c-4079-88a2-8585bebeca15"
   },
   "outputs": [
    {
     "name": "stdout",
     "output_type": "stream",
     "text": [
      "Requirement already satisfied: pulp in /Users/sam/anaconda3/lib/python3.7/site-packages (1.6.10)\n",
      "Requirement already satisfied: pyparsing>=2.0.1 in /Users/sam/anaconda3/lib/python3.7/site-packages (from pulp) (2.3.0)\n"
     ]
    }
   ],
   "source": [
    "!pip install pulp"
   ]
  },
  {
   "cell_type": "code",
   "execution_count": 2,
   "metadata": {
    "colab": {},
    "colab_type": "code",
    "id": "TYaVKaWuDiTT"
   },
   "outputs": [],
   "source": [
    "import pandas as pd\n",
    "import numpy as np\n",
    "import pulp\n",
    "import matplotlib.pyplot as plt"
   ]
  },
  {
   "cell_type": "code",
   "execution_count": 3,
   "metadata": {
    "colab": {
     "base_uri": "https://localhost:8080/",
     "height": 122
    },
    "colab_type": "code",
    "id": "7nFOqCIjDj3D",
    "outputId": "7d5b581c-0706-485e-8201-fc24fb89ba2f"
   },
   "outputs": [],
   "source": [
    "# Run this cell to mount your Google Drive.\n",
    "# from google.colab import drive\n",
    "# drive.mount('/content/drive')"
   ]
  },
  {
   "cell_type": "markdown",
   "metadata": {
    "colab_type": "text",
    "id": "id0PTMTBDiTV"
   },
   "source": [
    "## Import Predicted Data\n",
    "We take A (the protected attribute) to be the 'race' variable, and a = 0 while a' = 1. The last column, 'prediction,' is our f(X) variable, which can either be 0 or 1."
   ]
  },
  {
   "cell_type": "code",
   "execution_count": 4,
   "metadata": {
    "colab": {},
    "colab_type": "code",
    "id": "EaDU5FwHDiTW"
   },
   "outputs": [],
   "source": [
    "pred_df = pd.read_csv('./../predicted_data/logreg_COMPAS.csv')"
   ]
  },
  {
   "cell_type": "code",
   "execution_count": 5,
   "metadata": {
    "colab": {
     "base_uri": "https://localhost:8080/",
     "height": 241
    },
    "colab_type": "code",
    "id": "3D-WDPLsDiTY",
    "outputId": "b8ec1cdc-e070-4f7f-bf86-05c73fe9bdfe"
   },
   "outputs": [
    {
     "data": {
      "text/html": [
       "<div>\n",
       "<style scoped>\n",
       "    .dataframe tbody tr th:only-of-type {\n",
       "        vertical-align: middle;\n",
       "    }\n",
       "\n",
       "    .dataframe tbody tr th {\n",
       "        vertical-align: top;\n",
       "    }\n",
       "\n",
       "    .dataframe thead th {\n",
       "        text-align: right;\n",
       "    }\n",
       "</style>\n",
       "<table border=\"1\" class=\"dataframe\">\n",
       "  <thead>\n",
       "    <tr style=\"text-align: right;\">\n",
       "      <th></th>\n",
       "      <th>Unnamed: 0</th>\n",
       "      <th>sex</th>\n",
       "      <th>age</th>\n",
       "      <th>race</th>\n",
       "      <th>juv_fel_count</th>\n",
       "      <th>juv_misd_count</th>\n",
       "      <th>juv_other_count</th>\n",
       "      <th>priors_count</th>\n",
       "      <th>two_year_recid</th>\n",
       "      <th>c_charge_degree_F</th>\n",
       "      <th>c_charge_degree_M</th>\n",
       "      <th>risk_recid</th>\n",
       "      <th>prediction</th>\n",
       "      <th>prediction_prob</th>\n",
       "    </tr>\n",
       "  </thead>\n",
       "  <tbody>\n",
       "    <tr>\n",
       "      <th>0</th>\n",
       "      <td>6128</td>\n",
       "      <td>1</td>\n",
       "      <td>51</td>\n",
       "      <td>1</td>\n",
       "      <td>0</td>\n",
       "      <td>0</td>\n",
       "      <td>0</td>\n",
       "      <td>7</td>\n",
       "      <td>1</td>\n",
       "      <td>0</td>\n",
       "      <td>1</td>\n",
       "      <td>1</td>\n",
       "      <td>0</td>\n",
       "      <td>0.409895</td>\n",
       "    </tr>\n",
       "    <tr>\n",
       "      <th>1</th>\n",
       "      <td>4571</td>\n",
       "      <td>1</td>\n",
       "      <td>24</td>\n",
       "      <td>1</td>\n",
       "      <td>0</td>\n",
       "      <td>0</td>\n",
       "      <td>0</td>\n",
       "      <td>1</td>\n",
       "      <td>1</td>\n",
       "      <td>0</td>\n",
       "      <td>1</td>\n",
       "      <td>1</td>\n",
       "      <td>1</td>\n",
       "      <td>0.571310</td>\n",
       "    </tr>\n",
       "    <tr>\n",
       "      <th>2</th>\n",
       "      <td>1426</td>\n",
       "      <td>1</td>\n",
       "      <td>21</td>\n",
       "      <td>0</td>\n",
       "      <td>0</td>\n",
       "      <td>0</td>\n",
       "      <td>0</td>\n",
       "      <td>0</td>\n",
       "      <td>1</td>\n",
       "      <td>1</td>\n",
       "      <td>0</td>\n",
       "      <td>1</td>\n",
       "      <td>0</td>\n",
       "      <td>0.497028</td>\n",
       "    </tr>\n",
       "    <tr>\n",
       "      <th>3</th>\n",
       "      <td>3209</td>\n",
       "      <td>1</td>\n",
       "      <td>49</td>\n",
       "      <td>0</td>\n",
       "      <td>0</td>\n",
       "      <td>0</td>\n",
       "      <td>0</td>\n",
       "      <td>0</td>\n",
       "      <td>0</td>\n",
       "      <td>0</td>\n",
       "      <td>1</td>\n",
       "      <td>0</td>\n",
       "      <td>0</td>\n",
       "      <td>0.037173</td>\n",
       "    </tr>\n",
       "    <tr>\n",
       "      <th>4</th>\n",
       "      <td>5771</td>\n",
       "      <td>1</td>\n",
       "      <td>20</td>\n",
       "      <td>1</td>\n",
       "      <td>0</td>\n",
       "      <td>0</td>\n",
       "      <td>0</td>\n",
       "      <td>0</td>\n",
       "      <td>1</td>\n",
       "      <td>1</td>\n",
       "      <td>0</td>\n",
       "      <td>1</td>\n",
       "      <td>1</td>\n",
       "      <td>0.660504</td>\n",
       "    </tr>\n",
       "  </tbody>\n",
       "</table>\n",
       "</div>"
      ],
      "text/plain": [
       "   Unnamed: 0  sex  age  race  juv_fel_count  juv_misd_count  juv_other_count  \\\n",
       "0        6128    1   51     1              0               0                0   \n",
       "1        4571    1   24     1              0               0                0   \n",
       "2        1426    1   21     0              0               0                0   \n",
       "3        3209    1   49     0              0               0                0   \n",
       "4        5771    1   20     1              0               0                0   \n",
       "\n",
       "   priors_count  two_year_recid  c_charge_degree_F  c_charge_degree_M  \\\n",
       "0             7               1                  0                  1   \n",
       "1             1               1                  0                  1   \n",
       "2             0               1                  1                  0   \n",
       "3             0               0                  0                  1   \n",
       "4             0               1                  1                  0   \n",
       "\n",
       "   risk_recid  prediction  prediction_prob  \n",
       "0           1           0         0.409895  \n",
       "1           1           1         0.571310  \n",
       "2           1           0         0.497028  \n",
       "3           0           0         0.037173  \n",
       "4           1           1         0.660504  "
      ]
     },
     "execution_count": 5,
     "metadata": {},
     "output_type": "execute_result"
    }
   ],
   "source": [
    "pred_df.head(5)"
   ]
  },
  {
   "cell_type": "code",
   "execution_count": 6,
   "metadata": {
    "colab": {
     "base_uri": "https://localhost:8080/",
     "height": 34
    },
    "colab_type": "code",
    "id": "MpNdzoAm6up6",
    "outputId": "74223bce-0835-4b05-8450-8491421ae97e"
   },
   "outputs": [
    {
     "data": {
      "text/plain": [
       "1232"
      ]
     },
     "execution_count": 6,
     "metadata": {},
     "output_type": "execute_result"
    }
   ],
   "source": [
    "len(pred_df)"
   ]
  },
  {
   "cell_type": "code",
   "execution_count": 7,
   "metadata": {
    "colab": {},
    "colab_type": "code",
    "id": "IvLHi63FDiTb"
   },
   "outputs": [],
   "source": [
    "# Our protected variable A is race, and a = 0 or a = 1. \n",
    "a = pred_df['race']\n",
    "np.asarray(a)\n",
    "a_0_indices = []\n",
    "a_1_indices = []\n",
    "\n",
    "for i in range(len(a)):\n",
    "    if a[i] == 0:\n",
    "        a_0_indices.append(i)\n",
    "    elif a[i] == 1:\n",
    "        a_1_indices.append(i)"
   ]
  },
  {
   "cell_type": "code",
   "execution_count": 8,
   "metadata": {
    "colab": {},
    "colab_type": "code",
    "id": "YK_XtVtFTlRs"
   },
   "outputs": [],
   "source": [
    "# Our true label Y is risk_recid, and y = 0 or y = 1. \n",
    "y = pred_df['risk_recid']\n",
    "np.asarray(y)\n",
    "y_0_indices = []\n",
    "y_1_indices = []\n",
    "\n",
    "for i in range(len(y)):\n",
    "    if y[i] == 0:\n",
    "        y_0_indices.append(i)\n",
    "    elif y[i] == 1:\n",
    "        y_1_indices.append(i)"
   ]
  },
  {
   "cell_type": "code",
   "execution_count": 9,
   "metadata": {
    "colab": {},
    "colab_type": "code",
    "id": "o7dDcSX7UtH1"
   },
   "outputs": [],
   "source": [
    "# Find the intersection of indices lists to make the pi's\n",
    "a_0 = set(a_0_indices)\n",
    "a_1 = set(a_1_indices)\n",
    "y_0 = set(y_0_indices)\n",
    "y_1 = set(y_1_indices)\n",
    "\n",
    "a0_y0 = a_0.intersection(y_0) \n",
    "a0_y1 = a_0.intersection(y_1)\n",
    "a1_y0 = a_1.intersection(y_0)\n",
    "a1_y1 = a_1.intersection(y_1)"
   ]
  },
  {
   "cell_type": "code",
   "execution_count": 10,
   "metadata": {
    "colab": {
     "base_uri": "https://localhost:8080/",
     "height": 85
    },
    "colab_type": "code",
    "id": "f_wZ_LCaVTBu",
    "outputId": "b5ad26e8-c323-4ab0-8fce-3ddffb0292ee"
   },
   "outputs": [
    {
     "name": "stdout",
     "output_type": "stream",
     "text": [
      "596\n",
      "596\n",
      "636\n",
      "636\n"
     ]
    }
   ],
   "source": [
    "# Sanity check\n",
    "print(len(a_0))\n",
    "print(len(a0_y1) + len(a0_y0))\n",
    "print(len(a_1))\n",
    "print(len(a1_y1) + len(a1_y0))"
   ]
  },
  {
   "cell_type": "code",
   "execution_count": 11,
   "metadata": {
    "colab": {},
    "colab_type": "code",
    "id": "ARsmRic1DiTi"
   },
   "outputs": [],
   "source": [
    "# Our pi variables, pi_a_y are simply the proportions where we have A = a, Y = y\n",
    "pi_0_0 = float(len(a0_y0))/(len(a_0_indices) + len(a_1_indices))\n",
    "pi_0_1 = float(len(a0_y1))/(len(a_0_indices) + len(a_1_indices))\n",
    "pi_1_0 = float(len(a1_y0))/(len(a_0_indices) + len(a_1_indices))\n",
    "pi_1_1 = float(len(a1_y1))/(len(a_0_indices) + len(a_1_indices))"
   ]
  },
  {
   "cell_type": "code",
   "execution_count": 12,
   "metadata": {
    "colab": {
     "base_uri": "https://localhost:8080/",
     "height": 85
    },
    "colab_type": "code",
    "id": "ggsCMcr5DiTk",
    "outputId": "f7492c17-7f6a-4cfb-d4ed-389c02ae5b81"
   },
   "outputs": [
    {
     "name": "stdout",
     "output_type": "stream",
     "text": [
      "0.33035714285714285\n",
      "0.1534090909090909\n",
      "0.21428571428571427\n",
      "0.30194805194805197\n"
     ]
    }
   ],
   "source": [
    "print(pi_0_0)\n",
    "print(pi_0_1)\n",
    "print(pi_1_0)\n",
    "print(pi_1_1)"
   ]
  },
  {
   "cell_type": "code",
   "execution_count": 13,
   "metadata": {
    "colab": {
     "base_uri": "https://localhost:8080/",
     "height": 51
    },
    "colab_type": "code",
    "id": "w5PbdhJ5DiTn",
    "outputId": "b7f729fe-7cb4-446d-fe74-22f2fe66477c"
   },
   "outputs": [
    {
     "data": {
      "text/plain": [
       "array([0.40989479, 0.57131   , 0.49702751, ..., 0.83243155, 0.73909345,\n",
       "       0.98560483])"
      ]
     },
     "execution_count": 13,
     "metadata": {},
     "output_type": "execute_result"
    }
   ],
   "source": [
    "# Our prediction probability is under 'prediction_probs.' Notice that we use the \n",
    "# actual probability of the label, not the label itself.\n",
    "f_X = pred_df['prediction_prob']\n",
    "np.asarray(f_X)"
   ]
  },
  {
   "cell_type": "code",
   "execution_count": 14,
   "metadata": {
    "colab": {
     "base_uri": "https://localhost:8080/",
     "height": 51
    },
    "colab_type": "code",
    "id": "f66NgcN8FLnM",
    "outputId": "b0153a85-a725-4289-ee48-bdd85603a263"
   },
   "outputs": [
    {
     "name": "stdout",
     "output_type": "stream",
     "text": [
      "1232\n",
      "1232\n"
     ]
    }
   ],
   "source": [
    "# Check if the dimensions match\n",
    "print(len(f_X))\n",
    "print(len(a0_y1) + len(a0_y0) + len(a1_y1) + len(a1_y0))"
   ]
  },
  {
   "cell_type": "markdown",
   "metadata": {
    "colab_type": "text",
    "id": "3WyqW_D6Q13G"
   },
   "source": [
    "## Linear Program Function\n",
    "Create a reusable function for each linear program.\n",
    "\n",
    "The argument constraint is the constraint we want to set on the w's. This should be between 0 and 1.\n",
    "\n",
    "The argument y_value should be Y = 0 or Y = 1, depending on which Y value we want to test EO on. "
   ]
  },
  {
   "cell_type": "code",
   "execution_count": 15,
   "metadata": {
    "colab": {},
    "colab_type": "code",
    "id": "m-ARuyffRCMt"
   },
   "outputs": [],
   "source": [
    "# Input: function f(X), constraint, y_value (either 0 or 1)\n",
    "# Output: (solved) model, weights\n",
    "def EO_linear_prog(f_X, lower_bound, upper_bound, y_value):\n",
    "  # Make sure constraint is within bounds\n",
    "  assert(0 < lower_bound < 1)\n",
    "  assert(0 < upper_bound < 1)\n",
    "\n",
    "  if(y_value != 0 and y_value != 1):\n",
    "    return(\"Please enter 0 or 1 for the second argument (y_value).\")\n",
    "  \n",
    "  # Define the linear program as a maximization problem\n",
    "  model = pulp.LpProblem(\"Equalized Odds Fairness Checking\", pulp.LpMaximize)\n",
    "  \n",
    "  # Our w variable in the objective\n",
    "  # Lower bound constraint set here with lowBound=0 option\n",
    "  w = pulp.LpVariable.dicts(\"w\", (i for i in range(len(f_X))),lowBound=0, cat='Continuous')\n",
    "  \n",
    "  if(y_value == 0):\n",
    "    # Objective Function\n",
    "    model += pulp.lpSum(\n",
    "      [(1./pi_0_0) * w[index] * f_X[index] for index in a0_y0] +\n",
    "      [- (1./pi_1_0) * w[index] * f_X[index] for index in a1_y0])\n",
    "    \n",
    "    # Constraint that the \\sum(w_i * 1{a = 0, y = 0}) = pi_0_0\n",
    "    model += pulp.lpSum([w[index] for index in a0_y0]) == pi_0_0\n",
    "    \n",
    "    # Constraint that the \\sum(w_i * 1{a = 0, y = 1}) = pi_0_1\n",
    "    model += pulp.lpSum([w[index] for index in a1_y0]) == pi_1_0\n",
    "    \n",
    "  elif(y_value == 1):\n",
    "    # Objective Function\n",
    "    model += pulp.lpSum(\n",
    "        [(1./pi_0_1) * w[index] * f_X[index] for index in a0_y1] +\n",
    "        [- (1./pi_1_1) * w[index] * f_X[index] for index in a1_y1])\n",
    "    \n",
    "    # Constraint that the \\sum(w_i * 1{a = 0, y = 1}) = pi_0_1\n",
    "    model += pulp.lpSum([w[index] for index in a0_y1]) == pi_0_1\n",
    "    \n",
    "    # Constraint that the \\sum(w_i * 1{a = 1, y = 1}) = pi_0_1\n",
    "    model += pulp.lpSum([w[index] for index in a1_y1]) == pi_1_1\n",
    "  \n",
    "  # Constraint that the w's all sum to 1\n",
    "  model += pulp.lpSum([w[i] for i in range(len(f_X))]) == 1\n",
    "\n",
    "  # IMPORTANT: Constraint we set on the w's. Experiment with this\n",
    "  for weight in w:\n",
    "    model += w[weight] >= lower_bound\n",
    "    model += w[weight] <= upper_bound\n",
    "  \n",
    "  # Solve the linear program\n",
    "  model.solve()\n",
    "  \n",
    "  return model, w\n",
    "\n",
    "# Get the results\n",
    "def weights_dictionary(w):\n",
    "  results_dict = dict()\n",
    "  for i in range(len(f_X)):\n",
    "    results_dict[i] = w[i].varValue\n",
    "  return results_dict"
   ]
  },
  {
   "cell_type": "markdown",
   "metadata": {
    "colab_type": "text",
    "id": "oRPqsRrIDiTp"
   },
   "source": [
    "## Experiment with Linear Program (Y = 0)\n",
    "Experiment with setting the constraints as: $$w_i \\leq \\frac{(1 + \\epsilon)}{n}$$ and $$\\frac{(1 - \\epsilon)}{n} \\leq w_i$$ where n is the number of samples in the data."
   ]
  },
  {
   "cell_type": "code",
   "execution_count": 16,
   "metadata": {
    "colab": {},
    "colab_type": "code",
    "id": "7AUPEl91DiUE"
   },
   "outputs": [],
   "source": [
    "epsilon_granule = 0.01\n",
    "\n",
    "lower_bounds = []\n",
    "upper_bounds = []\n",
    "y0_objective_values = []\n",
    "dist_weights = []\n",
    "epsilons = []\n",
    "\n",
    "# Iterate over constraints\n",
    "for i in range(1, 100):\n",
    "  epsilon = epsilon_granule * i\n",
    "  lower_bound = (1 - epsilon)/(len(f_X))\n",
    "  upper_bound = (1 + epsilon)/(len(f_X))\n",
    "  model, weights = EO_linear_prog(f_X, lower_bound, upper_bound, 0)\n",
    "  y0_objective_values.append(pulp.value(model.objective))\n",
    "  epsilons.append(epsilon)\n",
    "  lower_bounds.append(lower_bound)\n",
    "  upper_bounds.append(upper_bound)\n",
    "  dist_weights.append(weights)"
   ]
  },
  {
   "cell_type": "code",
   "execution_count": 17,
   "metadata": {
    "colab": {
     "base_uri": "https://localhost:8080/",
     "height": 584
    },
    "colab_type": "code",
    "id": "Xi_v9x66SZM8",
    "outputId": "82c6be1e-58c1-43c6-c9e0-6894bb31fbed"
   },
   "outputs": [
    {
     "data": {
      "text/plain": [
       "Text(0.5, 1.0, 'Upper Bound Constraint on w vs. EO LP Objective Value (Y = 0)')"
      ]
     },
     "execution_count": 17,
     "metadata": {},
     "output_type": "execute_result"
    },
    {
     "data": {
      "image/png": "[encoded data removed]",
      "text/plain": [
       "<Figure size 648x648 with 1 Axes>"
      ]
     },
     "metadata": {
      "needs_background": "light"
     },
     "output_type": "display_data"
    }
   ],
   "source": [
    "# Plot the constraints vs. objective values\n",
    "plt.figure(figsize=(9,9))\n",
    "plt.plot(epsilons, y0_objective_values, 'orange')\n",
    "plt.xlabel('Epsilon in Constraint')\n",
    "plt.ylabel('LP Objective Value')\n",
    "plt.title('Upper Bound Constraint on w vs. EO LP Objective Value (Y = 0)')"
   ]
  },
  {
   "cell_type": "code",
   "execution_count": 18,
   "metadata": {},
   "outputs": [
    {
     "name": "stdout",
     "output_type": "stream",
     "text": [
      "99\n",
      "99\n"
     ]
    }
   ],
   "source": [
    "print(len(dist_weights))\n",
    "print(len(epsilons))\n",
    "\n",
    "epsilon_to_weights = dict()\n",
    "for i in range(len(epsilons)):\n",
    "    epsilon_to_weights[epsilons[i]] = weights_dictionary(dist_weights[i])"
   ]
  },
  {
   "cell_type": "code",
   "execution_count": 19,
   "metadata": {},
   "outputs": [
    {
     "data": {
      "text/plain": [
       "<BarContainer object of 1232 artists>"
      ]
     },
     "execution_count": 19,
     "metadata": {},
     "output_type": "execute_result"
    },
    {
     "data": {
      "image/png": "[encoded data removed]",
      "text/plain": [
       "<Figure size 648x648 with 1 Axes>"
      ]
     },
     "metadata": {
      "needs_background": "light"
     },
     "output_type": "display_data"
    }
   ],
   "source": [
    "# Plot the distribution of weights\n",
    "plt.figure(figsize=(9,9))\n",
    "plt.bar(epsilon_to_weights[0.01].keys(), epsilon_to_weights[0.01].values())"
   ]
  },
  {
   "cell_type": "code",
   "execution_count": 20,
   "metadata": {},
   "outputs": [
    {
     "name": "stdout",
     "output_type": "stream",
     "text": [
      "1232\n",
      "1232\n"
     ]
    }
   ],
   "source": [
    "print(len(pred_df))\n",
    "print(len(epsilon_to_weights[0.01]))"
   ]
  },
  {
   "cell_type": "markdown",
   "metadata": {},
   "source": [
    "## Marginal Distributions (Y = 0)"
   ]
  },
  {
   "cell_type": "code",
   "execution_count": 21,
   "metadata": {},
   "outputs": [
    {
     "data": {
      "text/html": [
       "<div>\n",
       "<style scoped>\n",
       "    .dataframe tbody tr th:only-of-type {\n",
       "        vertical-align: middle;\n",
       "    }\n",
       "\n",
       "    .dataframe tbody tr th {\n",
       "        vertical-align: top;\n",
       "    }\n",
       "\n",
       "    .dataframe thead th {\n",
       "        text-align: right;\n",
       "    }\n",
       "</style>\n",
       "<table border=\"1\" class=\"dataframe\">\n",
       "  <thead>\n",
       "    <tr style=\"text-align: right;\">\n",
       "      <th></th>\n",
       "      <th>Unnamed: 0</th>\n",
       "      <th>sex</th>\n",
       "      <th>age</th>\n",
       "      <th>race</th>\n",
       "      <th>juv_fel_count</th>\n",
       "      <th>juv_misd_count</th>\n",
       "      <th>juv_other_count</th>\n",
       "      <th>priors_count</th>\n",
       "      <th>two_year_recid</th>\n",
       "      <th>c_charge_degree_F</th>\n",
       "      <th>c_charge_degree_M</th>\n",
       "      <th>risk_recid</th>\n",
       "      <th>prediction</th>\n",
       "      <th>prediction_prob</th>\n",
       "      <th>weights</th>\n",
       "    </tr>\n",
       "  </thead>\n",
       "  <tbody>\n",
       "    <tr>\n",
       "      <th>0</th>\n",
       "      <td>6128</td>\n",
       "      <td>1</td>\n",
       "      <td>51</td>\n",
       "      <td>1</td>\n",
       "      <td>0</td>\n",
       "      <td>0</td>\n",
       "      <td>0</td>\n",
       "      <td>7</td>\n",
       "      <td>1</td>\n",
       "      <td>0</td>\n",
       "      <td>1</td>\n",
       "      <td>1</td>\n",
       "      <td>0</td>\n",
       "      <td>0.409895</td>\n",
       "      <td>0.001542</td>\n",
       "    </tr>\n",
       "    <tr>\n",
       "      <th>1</th>\n",
       "      <td>4571</td>\n",
       "      <td>1</td>\n",
       "      <td>24</td>\n",
       "      <td>1</td>\n",
       "      <td>0</td>\n",
       "      <td>0</td>\n",
       "      <td>0</td>\n",
       "      <td>1</td>\n",
       "      <td>1</td>\n",
       "      <td>0</td>\n",
       "      <td>1</td>\n",
       "      <td>1</td>\n",
       "      <td>1</td>\n",
       "      <td>0.571310</td>\n",
       "      <td>0.001542</td>\n",
       "    </tr>\n",
       "    <tr>\n",
       "      <th>2</th>\n",
       "      <td>1426</td>\n",
       "      <td>1</td>\n",
       "      <td>21</td>\n",
       "      <td>0</td>\n",
       "      <td>0</td>\n",
       "      <td>0</td>\n",
       "      <td>0</td>\n",
       "      <td>0</td>\n",
       "      <td>1</td>\n",
       "      <td>1</td>\n",
       "      <td>0</td>\n",
       "      <td>1</td>\n",
       "      <td>0</td>\n",
       "      <td>0.497028</td>\n",
       "      <td>0.001542</td>\n",
       "    </tr>\n",
       "    <tr>\n",
       "      <th>3</th>\n",
       "      <td>3209</td>\n",
       "      <td>1</td>\n",
       "      <td>49</td>\n",
       "      <td>0</td>\n",
       "      <td>0</td>\n",
       "      <td>0</td>\n",
       "      <td>0</td>\n",
       "      <td>0</td>\n",
       "      <td>0</td>\n",
       "      <td>0</td>\n",
       "      <td>1</td>\n",
       "      <td>0</td>\n",
       "      <td>0</td>\n",
       "      <td>0.037173</td>\n",
       "      <td>0.000081</td>\n",
       "    </tr>\n",
       "    <tr>\n",
       "      <th>4</th>\n",
       "      <td>5771</td>\n",
       "      <td>1</td>\n",
       "      <td>20</td>\n",
       "      <td>1</td>\n",
       "      <td>0</td>\n",
       "      <td>0</td>\n",
       "      <td>0</td>\n",
       "      <td>0</td>\n",
       "      <td>1</td>\n",
       "      <td>1</td>\n",
       "      <td>0</td>\n",
       "      <td>1</td>\n",
       "      <td>1</td>\n",
       "      <td>0.660504</td>\n",
       "      <td>0.001542</td>\n",
       "    </tr>\n",
       "  </tbody>\n",
       "</table>\n",
       "</div>"
      ],
      "text/plain": [
       "   Unnamed: 0  sex  age  race  juv_fel_count  juv_misd_count  juv_other_count  \\\n",
       "0        6128    1   51     1              0               0                0   \n",
       "1        4571    1   24     1              0               0                0   \n",
       "2        1426    1   21     0              0               0                0   \n",
       "3        3209    1   49     0              0               0                0   \n",
       "4        5771    1   20     1              0               0                0   \n",
       "\n",
       "   priors_count  two_year_recid  c_charge_degree_F  c_charge_degree_M  \\\n",
       "0             7               1                  0                  1   \n",
       "1             1               1                  0                  1   \n",
       "2             0               1                  1                  0   \n",
       "3             0               0                  0                  1   \n",
       "4             0               1                  1                  0   \n",
       "\n",
       "   risk_recid  prediction  prediction_prob   weights  \n",
       "0           1           0         0.409895  0.001542  \n",
       "1           1           1         0.571310  0.001542  \n",
       "2           1           0         0.497028  0.001542  \n",
       "3           0           0         0.037173  0.000081  \n",
       "4           1           1         0.660504  0.001542  "
      ]
     },
     "execution_count": 21,
     "metadata": {},
     "output_type": "execute_result"
    }
   ],
   "source": [
    "pred_df['weights'] = epsilon_to_weights[0.9].values() # For example, when epsilon = 0.01\n",
    "pred_df.head(5)"
   ]
  },
  {
   "cell_type": "code",
   "execution_count": 22,
   "metadata": {},
   "outputs": [],
   "source": [
    "# Marginal Distribution Function\n",
    "def marginalize(data, X_attr, weights):\n",
    "    X_values = data[X_attr]\n",
    "    key_list = np.unique(X_values)\n",
    "    X_marginal = {k: 0 for k in key_list}\n",
    "    for i in range(0, len(X_values)):\n",
    "        X_marginal[X_values[i]] = X_marginal[X_values[i]] + weights[i]\n",
    "    return X_marginal\n",
    "\n",
    "def freq_dict(data, X_attr):\n",
    "    X_values = data[X_attr].value_counts()\n",
    "    X_freqs = dict()\n",
    "    for value in X_values.keys():\n",
    "        X_freqs[value] = float(X_values[value])/float(len(data))\n",
    "    return X_freqs\n",
    "\n",
    "# Returns a tuple of two lists of the items in each dictionary sorted by order of their keys\n",
    "def graph_tuple(dict1, dict2):\n",
    "    tuple1 = []\n",
    "    tuple2 = []\n",
    "    for key in sorted(dict1.keys()):\n",
    "        tuple1.append(dict1[key])\n",
    "        tuple2.append(dict2[key])\n",
    "    \n",
    "    return (tuple1, tuple2)"
   ]
  },
  {
   "cell_type": "code",
   "execution_count": 23,
   "metadata": {},
   "outputs": [
    {
     "name": "stdout",
     "output_type": "stream",
     "text": [
      "{1: 0.823051948051948, 0: 0.17694805194805194}\n",
      "{0: 0.17840909174800001, 1: 0.8215909129369922}\n"
     ]
    }
   ],
   "source": [
    "# Get the unweighted and weighted distributions on the data\n",
    "X_sex_freq = freq_dict(pred_df, 'sex')\n",
    "X_sex_marginal = marginalize(pred_df, 'sex', pred_df['weights'])\n",
    "\n",
    "print(X_sex_freq)\n",
    "print(X_sex_marginal)\n",
    "\n",
    "X_sex_tuple = graph_tuple(X_sex_freq, X_sex_marginal)"
   ]
  },
  {
   "cell_type": "code",
   "execution_count": 24,
   "metadata": {},
   "outputs": [
    {
     "data": {
      "image/png": "[encoded data removed]",
      "text/plain": [
       "<Figure size 648x648 with 1 Axes>"
      ]
     },
     "metadata": {
      "needs_background": "light"
     },
     "output_type": "display_data"
    }
   ],
   "source": [
    "# Marginal Distribution on Sex \n",
    "\n",
    "X = np.arange(len(X_sex_freq))\n",
    "plt.figure(figsize=(9,9))\n",
    "plt.title('Marginal Distributions on Sex (EO_0 Reweighted)')\n",
    "plt.bar(X, X_sex_tuple[0], width=0.2, align='center')\n",
    "plt.bar(X+0.2, X_sex_tuple[1], width=0.2, align='center')\n",
    "plt.legend(('Unweighted Distribution','Reweighted Distribution'))\n",
    "plt.xticks(X, ['Female (X = 0)', 'Male (X = 1)'])\n",
    "plt.xlabel('Sex')\n",
    "plt.ylabel('Frequency in Data (%)')\n",
    "plt.show()"
   ]
  },
  {
   "cell_type": "code",
   "execution_count": 25,
   "metadata": {},
   "outputs": [],
   "source": [
    "X_age_freq = freq_dict(pred_df, 'age')\n",
    "X_age_marginal = marginalize(pred_df, 'age', pred_df['weights'])\n",
    "X_age_tuple = graph_tuple(X_age_freq, X_age_marginal)"
   ]
  },
  {
   "cell_type": "code",
   "execution_count": 26,
   "metadata": {},
   "outputs": [
    {
     "data": {
      "image/png": "[encoded data removed]",
      "text/plain": [
       "<Figure size 864x864 with 1 Axes>"
      ]
     },
     "metadata": {
      "needs_background": "light"
     },
     "output_type": "display_data"
    }
   ],
   "source": [
    "# Marginal Distribution on Age \n",
    "X = np.asarray(list(X_age_marginal.keys()))\n",
    "plt.figure(figsize=(12,12))\n",
    "plt.title('Marginal Distributions on Age (EO_0 Reweighted)')\n",
    "plt.bar(X, X_age_tuple[0], width = 0.2, align='center')\n",
    "plt.bar(X + 0.2, X_age_tuple[1], width = 0.2, align='center')\n",
    "plt.legend(('Unweighted Distribution','Reweighted Distribution'))\n",
    "plt.xlabel('Age')\n",
    "plt.ylabel('Frequency in Data (%)')\n",
    "plt.show()"
   ]
  },
  {
   "cell_type": "code",
   "execution_count": 27,
   "metadata": {},
   "outputs": [],
   "source": [
    "X_priors_freq = freq_dict(pred_df, 'priors_count')\n",
    "X_priors_marginal = marginalize(pred_df, 'priors_count', pred_df['weights'])\n",
    "X_priors_tuple = graph_tuple(X_priors_freq, X_priors_marginal)"
   ]
  },
  {
   "cell_type": "code",
   "execution_count": 28,
   "metadata": {},
   "outputs": [
    {
     "data": {
      "image/png": "[encoded data removed]",
      "text/plain": [
       "<Figure size 864x864 with 1 Axes>"
      ]
     },
     "metadata": {
      "needs_background": "light"
     },
     "output_type": "display_data"
    }
   ],
   "source": [
    "# Marginal Distribution on Prior Crimes \n",
    "X = np.asarray(list(X_priors_marginal.keys()))\n",
    "\n",
    "# Plot the marginal distribution on sex\n",
    "plt.figure(figsize=(12,12))\n",
    "plt.title('Marginal Distributions on Prior Crimes (EO_0 Reweighted)')\n",
    "plt.bar(X, X_priors_tuple[0], width = 0.2, align='center')\n",
    "plt.bar(X + 0.2, X_priors_tuple[1], width = 0.2, align='center')\n",
    "plt.legend(('Unweighted Distribution','Reweighted Distribution'))\n",
    "plt.xlabel('Prior Crime Count')\n",
    "plt.ylabel('Frequency in Data (%)')\n",
    "plt.show()"
   ]
  },
  {
   "cell_type": "code",
   "execution_count": 29,
   "metadata": {},
   "outputs": [],
   "source": [
    "X_race_freq = freq_dict(pred_df, 'race')\n",
    "X_race_marginal = marginalize(pred_df, 'race', pred_df['weights'])\n",
    "X_race_tuple = graph_tuple(X_race_freq, X_race_marginal)"
   ]
  },
  {
   "cell_type": "code",
   "execution_count": 30,
   "metadata": {},
   "outputs": [
    {
     "data": {
      "image/png": "[encoded data removed]",
      "text/plain": [
       "<Figure size 864x864 with 1 Axes>"
      ]
     },
     "metadata": {
      "needs_background": "light"
     },
     "output_type": "display_data"
    }
   ],
   "source": [
    "# Marginal Distribution on Race \n",
    "X = np.arange(len(X_race_freq))\n",
    "\n",
    "# Plot the marginal distribution on sex\n",
    "plt.figure(figsize=(12,12))\n",
    "plt.title('Marginal Distributions on Race (EO_0 Reweighted)')\n",
    "plt.bar(X, X_race_tuple[0], width = 0.2, align='center')\n",
    "plt.bar(X + 0.2, X_race_tuple[1], width = 0.2, align='center')\n",
    "plt.legend(('Unweighted Distribution','Reweighted Distribution'))\n",
    "plt.xticks(X, ['Not Black (A = 0)', 'Black (A = 1)'])\n",
    "plt.xlabel('Race')\n",
    "plt.ylabel('Frequency in Data (%)')\n",
    "plt.show()"
   ]
  },
  {
   "cell_type": "markdown",
   "metadata": {
    "colab_type": "text",
    "id": "5jv0qtaPWulw"
   },
   "source": [
    "## Experiment with Linear Program (Y = 1)\n",
    "Experiment with setting the constraints as: $$w_i \\leq \\frac{(1 + \\epsilon)}{n}$$ and $$\\frac{(1 - \\epsilon)}{n} \\leq w_i$$ where n is the number of samples in the data."
   ]
  },
  {
   "cell_type": "code",
   "execution_count": 31,
   "metadata": {
    "colab": {},
    "colab_type": "code",
    "id": "BUdomshxXk_l"
   },
   "outputs": [],
   "source": [
    "epsilon_granule = 0.01\n",
    "\n",
    "lower_bounds = []\n",
    "upper_bounds = []\n",
    "y0_objective_values = []\n",
    "dist_weights = []\n",
    "epsilons = []\n",
    "\n",
    "# Iterate over constraints\n",
    "for i in range(1, 100):\n",
    "  epsilon = epsilon_granule * i\n",
    "  lower_bound = (1 - epsilon)/(len(f_X))\n",
    "  upper_bound = (1 + epsilon)/(len(f_X))\n",
    "  model, weights = EO_linear_prog(f_X, lower_bound, upper_bound, 0)\n",
    "  y0_objective_values.append(pulp.value(model.objective))\n",
    "  epsilons.append(epsilon)\n",
    "  lower_bounds.append(lower_bound)\n",
    "  upper_bounds.append(upper_bound)\n",
    "  dist_weights.append(weights)"
   ]
  },
  {
   "cell_type": "code",
   "execution_count": 32,
   "metadata": {
    "colab": {
     "base_uri": "https://localhost:8080/",
     "height": 584
    },
    "colab_type": "code",
    "id": "86k_oLdvSv--",
    "outputId": "de9bfa17-8411-4e0d-c507-2c3af794f12c"
   },
   "outputs": [
    {
     "data": {
      "text/plain": [
       "Text(0.5, 1.0, 'Upper Bound Constraint on w vs. EO LP Objective Value (Y = 1)')"
      ]
     },
     "execution_count": 32,
     "metadata": {},
     "output_type": "execute_result"
    },
    {
     "data": {
      "image/png": "[encoded data removed]",
      "text/plain": [
       "<Figure size 648x648 with 1 Axes>"
      ]
     },
     "metadata": {
      "needs_background": "light"
     },
     "output_type": "display_data"
    }
   ],
   "source": [
    "# Plot the constraints vs. objective values\n",
    "plt.figure(figsize=(9,9))\n",
    "plt.plot(epsilons, y0_objective_values, 'orange')\n",
    "plt.xlabel('Epsilon in Constraint')\n",
    "plt.ylabel('LP Objective Value')\n",
    "plt.title('Upper Bound Constraint on w vs. EO LP Objective Value (Y = 1)')"
   ]
  },
  {
   "cell_type": "code",
   "execution_count": 33,
   "metadata": {},
   "outputs": [
    {
     "name": "stdout",
     "output_type": "stream",
     "text": [
      "99\n",
      "99\n"
     ]
    }
   ],
   "source": [
    "print(len(dist_weights))\n",
    "print(len(epsilons))\n",
    "\n",
    "epsilon_to_weights = dict()\n",
    "for i in range(len(epsilons)):\n",
    "    epsilon_to_weights[epsilons[i]] = weights_dictionary(dist_weights[i])"
   ]
  },
  {
   "cell_type": "markdown",
   "metadata": {},
   "source": [
    "## Marginal Distributions (Y = 1)"
   ]
  },
  {
   "cell_type": "code",
   "execution_count": 34,
   "metadata": {},
   "outputs": [
    {
     "data": {
      "text/html": [
       "<div>\n",
       "<style scoped>\n",
       "    .dataframe tbody tr th:only-of-type {\n",
       "        vertical-align: middle;\n",
       "    }\n",
       "\n",
       "    .dataframe tbody tr th {\n",
       "        vertical-align: top;\n",
       "    }\n",
       "\n",
       "    .dataframe thead th {\n",
       "        text-align: right;\n",
       "    }\n",
       "</style>\n",
       "<table border=\"1\" class=\"dataframe\">\n",
       "  <thead>\n",
       "    <tr style=\"text-align: right;\">\n",
       "      <th></th>\n",
       "      <th>Unnamed: 0</th>\n",
       "      <th>sex</th>\n",
       "      <th>age</th>\n",
       "      <th>race</th>\n",
       "      <th>juv_fel_count</th>\n",
       "      <th>juv_misd_count</th>\n",
       "      <th>juv_other_count</th>\n",
       "      <th>priors_count</th>\n",
       "      <th>two_year_recid</th>\n",
       "      <th>c_charge_degree_F</th>\n",
       "      <th>c_charge_degree_M</th>\n",
       "      <th>risk_recid</th>\n",
       "      <th>prediction</th>\n",
       "      <th>prediction_prob</th>\n",
       "      <th>weights</th>\n",
       "    </tr>\n",
       "  </thead>\n",
       "  <tbody>\n",
       "    <tr>\n",
       "      <th>0</th>\n",
       "      <td>6128</td>\n",
       "      <td>1</td>\n",
       "      <td>51</td>\n",
       "      <td>1</td>\n",
       "      <td>0</td>\n",
       "      <td>0</td>\n",
       "      <td>0</td>\n",
       "      <td>7</td>\n",
       "      <td>1</td>\n",
       "      <td>0</td>\n",
       "      <td>1</td>\n",
       "      <td>1</td>\n",
       "      <td>0</td>\n",
       "      <td>0.409895</td>\n",
       "      <td>0.001542</td>\n",
       "    </tr>\n",
       "    <tr>\n",
       "      <th>1</th>\n",
       "      <td>4571</td>\n",
       "      <td>1</td>\n",
       "      <td>24</td>\n",
       "      <td>1</td>\n",
       "      <td>0</td>\n",
       "      <td>0</td>\n",
       "      <td>0</td>\n",
       "      <td>1</td>\n",
       "      <td>1</td>\n",
       "      <td>0</td>\n",
       "      <td>1</td>\n",
       "      <td>1</td>\n",
       "      <td>1</td>\n",
       "      <td>0.571310</td>\n",
       "      <td>0.001542</td>\n",
       "    </tr>\n",
       "    <tr>\n",
       "      <th>2</th>\n",
       "      <td>1426</td>\n",
       "      <td>1</td>\n",
       "      <td>21</td>\n",
       "      <td>0</td>\n",
       "      <td>0</td>\n",
       "      <td>0</td>\n",
       "      <td>0</td>\n",
       "      <td>0</td>\n",
       "      <td>1</td>\n",
       "      <td>1</td>\n",
       "      <td>0</td>\n",
       "      <td>1</td>\n",
       "      <td>0</td>\n",
       "      <td>0.497028</td>\n",
       "      <td>0.001542</td>\n",
       "    </tr>\n",
       "    <tr>\n",
       "      <th>3</th>\n",
       "      <td>3209</td>\n",
       "      <td>1</td>\n",
       "      <td>49</td>\n",
       "      <td>0</td>\n",
       "      <td>0</td>\n",
       "      <td>0</td>\n",
       "      <td>0</td>\n",
       "      <td>0</td>\n",
       "      <td>0</td>\n",
       "      <td>0</td>\n",
       "      <td>1</td>\n",
       "      <td>0</td>\n",
       "      <td>0</td>\n",
       "      <td>0.037173</td>\n",
       "      <td>0.000081</td>\n",
       "    </tr>\n",
       "    <tr>\n",
       "      <th>4</th>\n",
       "      <td>5771</td>\n",
       "      <td>1</td>\n",
       "      <td>20</td>\n",
       "      <td>1</td>\n",
       "      <td>0</td>\n",
       "      <td>0</td>\n",
       "      <td>0</td>\n",
       "      <td>0</td>\n",
       "      <td>1</td>\n",
       "      <td>1</td>\n",
       "      <td>0</td>\n",
       "      <td>1</td>\n",
       "      <td>1</td>\n",
       "      <td>0.660504</td>\n",
       "      <td>0.001542</td>\n",
       "    </tr>\n",
       "  </tbody>\n",
       "</table>\n",
       "</div>"
      ],
      "text/plain": [
       "   Unnamed: 0  sex  age  race  juv_fel_count  juv_misd_count  juv_other_count  \\\n",
       "0        6128    1   51     1              0               0                0   \n",
       "1        4571    1   24     1              0               0                0   \n",
       "2        1426    1   21     0              0               0                0   \n",
       "3        3209    1   49     0              0               0                0   \n",
       "4        5771    1   20     1              0               0                0   \n",
       "\n",
       "   priors_count  two_year_recid  c_charge_degree_F  c_charge_degree_M  \\\n",
       "0             7               1                  0                  1   \n",
       "1             1               1                  0                  1   \n",
       "2             0               1                  1                  0   \n",
       "3             0               0                  0                  1   \n",
       "4             0               1                  1                  0   \n",
       "\n",
       "   risk_recid  prediction  prediction_prob   weights  \n",
       "0           1           0         0.409895  0.001542  \n",
       "1           1           1         0.571310  0.001542  \n",
       "2           1           0         0.497028  0.001542  \n",
       "3           0           0         0.037173  0.000081  \n",
       "4           1           1         0.660504  0.001542  "
      ]
     },
     "execution_count": 34,
     "metadata": {},
     "output_type": "execute_result"
    }
   ],
   "source": [
    "pred_df['weights'] = epsilon_to_weights[0.9].values() # For example, when epsilon = 0.01\n",
    "pred_df.head(5)"
   ]
  },
  {
   "cell_type": "code",
   "execution_count": 35,
   "metadata": {},
   "outputs": [],
   "source": [
    "# Marginal Distribution Function\n",
    "def marginalize(data, X_attr, weights):\n",
    "    X_values = data[X_attr]\n",
    "    key_list = np.unique(X_values)\n",
    "    X_marginal = {k: 0 for k in key_list}\n",
    "    for i in range(0, len(X_values)):\n",
    "        X_marginal[X_values[i]] = X_marginal[X_values[i]] + weights[i]\n",
    "    return X_marginal\n",
    "\n",
    "def freq_dict(data, X_attr):\n",
    "    X_values = data[X_attr].value_counts()\n",
    "    X_freqs = dict()\n",
    "    for value in X_values.keys():\n",
    "        X_freqs[value] = float(X_values[value])/float(len(data))\n",
    "    return X_freqs\n",
    "\n",
    "# Returns a tuple of two lists of the items in each dictionary sorted by order of their keys\n",
    "def graph_tuple(dict1, dict2):\n",
    "    tuple1 = []\n",
    "    tuple2 = []\n",
    "    for key in sorted(dict1.keys()):\n",
    "        tuple1.append(dict1[key])\n",
    "        tuple2.append(dict2[key])\n",
    "    \n",
    "    return (tuple1, tuple2)"
   ]
  },
  {
   "cell_type": "code",
   "execution_count": 36,
   "metadata": {},
   "outputs": [
    {
     "name": "stdout",
     "output_type": "stream",
     "text": [
      "{1: 0.823051948051948, 0: 0.17694805194805194}\n",
      "{0: 0.17840909174800001, 1: 0.8215909129369922}\n"
     ]
    }
   ],
   "source": [
    "# Get the unweighted and weighted distributions on the data\n",
    "X_sex_freq = freq_dict(pred_df, 'sex')\n",
    "X_sex_marginal = marginalize(pred_df, 'sex', pred_df['weights'])\n",
    "\n",
    "print(X_sex_freq)\n",
    "print(X_sex_marginal)\n",
    "\n",
    "X_sex_tuple = graph_tuple(X_sex_freq, X_sex_marginal)"
   ]
  },
  {
   "cell_type": "code",
   "execution_count": 37,
   "metadata": {},
   "outputs": [
    {
     "data": {
      "image/png": "[encoded data removed]",
      "text/plain": [
       "<Figure size 648x648 with 1 Axes>"
      ]
     },
     "metadata": {
      "needs_background": "light"
     },
     "output_type": "display_data"
    }
   ],
   "source": [
    "# Marginal Distribution on Sex \n",
    "\n",
    "X = np.arange(len(X_sex_freq))\n",
    "plt.figure(figsize=(9,9))\n",
    "plt.title('Marginal Distributions on Sex (EO_1 Reweighted)')\n",
    "plt.bar(X, X_sex_tuple[0], width=0.2, align='center')\n",
    "plt.bar(X+0.2, X_sex_tuple[1], width=0.2, align='center')\n",
    "plt.legend(('Unweighted Distribution','Reweighted Distribution'))\n",
    "plt.xticks(X, ['Female (X = 0)', 'Male (X = 1)'])\n",
    "plt.xlabel('Sex')\n",
    "plt.ylabel('Frequency in Data (%)')\n",
    "plt.show()"
   ]
  },
  {
   "cell_type": "code",
   "execution_count": 38,
   "metadata": {},
   "outputs": [],
   "source": [
    "X_age_freq = freq_dict(pred_df, 'age')\n",
    "X_age_marginal = marginalize(pred_df, 'age', pred_df['weights'])\n",
    "X_age_tuple = graph_tuple(X_age_freq, X_age_marginal)"
   ]
  },
  {
   "cell_type": "code",
   "execution_count": 39,
   "metadata": {},
   "outputs": [
    {
     "data": {
      "image/png": "[encoded data removed]",
      "text/plain": [
       "<Figure size 864x864 with 1 Axes>"
      ]
     },
     "metadata": {
      "needs_background": "light"
     },
     "output_type": "display_data"
    }
   ],
   "source": [
    "# Marginal Distribution on Age \n",
    "X = np.asarray(list(X_age_marginal.keys()))\n",
    "plt.figure(figsize=(12,12))\n",
    "plt.title('Marginal Distributions on Age (EO_1 Reweighted)')\n",
    "plt.bar(X, X_age_tuple[0], width = 0.2, align='center')\n",
    "plt.bar(X + 0.2, X_age_tuple[1], width = 0.2, align='center')\n",
    "plt.legend(('Unweighted Distribution','Reweighted Distribution'))\n",
    "plt.xlabel('Age')\n",
    "plt.ylabel('Frequency in Data (%)')\n",
    "plt.show()"
   ]
  },
  {
   "cell_type": "code",
   "execution_count": 40,
   "metadata": {},
   "outputs": [],
   "source": [
    "X_priors_freq = freq_dict(pred_df, 'priors_count')\n",
    "X_priors_marginal = marginalize(pred_df, 'priors_count', pred_df['weights'])\n",
    "X_priors_tuple = graph_tuple(X_priors_freq, X_priors_marginal)"
   ]
  },
  {
   "cell_type": "code",
   "execution_count": 41,
   "metadata": {},
   "outputs": [
    {
     "data": {
      "image/png": "[encoded data removed]",
      "text/plain": [
       "<Figure size 864x864 with 1 Axes>"
      ]
     },
     "metadata": {
      "needs_background": "light"
     },
     "output_type": "display_data"
    }
   ],
   "source": [
    "# Marginal Distribution on Prior Crimes \n",
    "X = np.asarray(list(X_priors_marginal.keys()))\n",
    "\n",
    "# Plot the marginal distribution on sex\n",
    "plt.figure(figsize=(12,12))\n",
    "plt.title('Marginal Distributions on Prior Crimes (EO_1 Reweighted)')\n",
    "plt.bar(X, X_priors_tuple[0], width = 0.2, align='center')\n",
    "plt.bar(X + 0.2, X_priors_tuple[1], width = 0.2, align='center')\n",
    "plt.legend(('Unweighted Distribution','Reweighted Distribution'))\n",
    "plt.xlabel('Prior Crime Count')\n",
    "plt.ylabel('Frequency in Data (%)')\n",
    "plt.show()"
   ]
  },
  {
   "cell_type": "code",
   "execution_count": 42,
   "metadata": {},
   "outputs": [],
   "source": [
    "X_race_freq = freq_dict(pred_df, 'race')\n",
    "X_race_marginal = marginalize(pred_df, 'race', pred_df['weights'])\n",
    "X_race_tuple = graph_tuple(X_race_freq, X_race_marginal)"
   ]
  },
  {
   "cell_type": "code",
   "execution_count": 43,
   "metadata": {},
   "outputs": [
    {
     "data": {
      "image/png": "[encoded data removed]",
      "text/plain": [
       "<Figure size 864x864 with 1 Axes>"
      ]
     },
     "metadata": {
      "needs_background": "light"
     },
     "output_type": "display_data"
    }
   ],
   "source": [
    "# Marginal Distribution on Race \n",
    "X = np.arange(len(X_race_freq))\n",
    "\n",
    "# Plot the marginal distribution on sex\n",
    "plt.figure(figsize=(12,12))\n",
    "plt.title('Marginal Distributions on Race (EO_1 Reweighted)')\n",
    "plt.bar(X, X_race_tuple[0], width = 0.2, align='center')\n",
    "plt.bar(X + 0.2, X_race_tuple[1], width = 0.2, align='center')\n",
    "plt.legend(('Unweighted Distribution','Reweighted Distribution'))\n",
    "plt.xticks(X, ['Not Black (A = 0)', 'Black (A = 1)'])\n",
    "plt.xlabel('Race')\n",
    "plt.ylabel('Frequency in Data (%)')\n",
    "plt.show()"
   ]
  }
 ],
 "metadata": {
  "colab": {
   "collapsed_sections": [],
   "name": "EO_linear_prog_constraints.ipynb",
   "provenance": [],
   "toc_visible": true
  },
  "kernelspec": {
   "display_name": "Python 3",
   "language": "python",
   "name": "python3"
  },
  "language_info": {
   "codemirror_mode": {
    "name": "ipython",
    "version": 3
   },
   "file_extension": ".py",
   "mimetype": "text/x-python",
   "name": "python",
   "nbconvert_exporter": "python",
   "pygments_lexer": "ipython3",
   "version": "3.7.1"
  }
 },
 "nbformat": 4,
 "nbformat_minor": 2
}
