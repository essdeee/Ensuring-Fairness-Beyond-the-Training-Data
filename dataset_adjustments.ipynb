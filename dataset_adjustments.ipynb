{
 "cells": [
  {
   "cell_type": "code",
   "execution_count": 75,
   "metadata": {},
   "outputs": [],
   "source": [
    "import pandas as pd\n",
    "from sklearn.model_selection import train_test_split"
   ]
  },
  {
   "cell_type": "markdown",
   "metadata": {},
   "source": [
    "Notebook to get all the datasets ready for comparison. Splits each dataset into 5 different train/test splits, cleans up any unwanted columns, and appends the target varaible to each. "
   ]
  },
  {
   "cell_type": "markdown",
   "metadata": {},
   "source": [
    "## Compas"
   ]
  },
  {
   "cell_type": "code",
   "execution_count": 76,
   "metadata": {},
   "outputs": [],
   "source": [
    "compas_train = pd.read_csv('./data/compas_train.csv')\n",
    "compas_test = pd.read_csv('./data/compas_test.csv')"
   ]
  },
  {
   "cell_type": "code",
   "execution_count": 77,
   "metadata": {},
   "outputs": [
    {
     "data": {
      "text/plain": [
       "(4222, 12)"
      ]
     },
     "execution_count": 77,
     "metadata": {},
     "output_type": "execute_result"
    }
   ],
   "source": [
    "compas_train.shape"
   ]
  },
  {
   "cell_type": "code",
   "execution_count": 78,
   "metadata": {},
   "outputs": [
    {
     "data": {
      "text/plain": [
       "(528, 12)"
      ]
     },
     "execution_count": 78,
     "metadata": {},
     "output_type": "execute_result"
    }
   ],
   "source": [
    "compas_test.shape"
   ]
  },
  {
   "cell_type": "code",
   "execution_count": 79,
   "metadata": {},
   "outputs": [
    {
     "data": {
      "text/html": [
       "<div>\n",
       "<style scoped>\n",
       "    .dataframe tbody tr th:only-of-type {\n",
       "        vertical-align: middle;\n",
       "    }\n",
       "\n",
       "    .dataframe tbody tr th {\n",
       "        vertical-align: top;\n",
       "    }\n",
       "\n",
       "    .dataframe thead th {\n",
       "        text-align: right;\n",
       "    }\n",
       "</style>\n",
       "<table border=\"1\" class=\"dataframe\">\n",
       "  <thead>\n",
       "    <tr style=\"text-align: right;\">\n",
       "      <th></th>\n",
       "      <th>sex</th>\n",
       "      <th>race</th>\n",
       "      <th>age_cat=25 to 45</th>\n",
       "      <th>age_cat=Greater than 45</th>\n",
       "      <th>age_cat=Less than 25</th>\n",
       "      <th>priors_count=0</th>\n",
       "      <th>priors_count=1 to 3</th>\n",
       "      <th>priors_count=More than 3</th>\n",
       "      <th>c_charge_degree=F</th>\n",
       "      <th>c_charge_degree=M</th>\n",
       "      <th>two_year_recid</th>\n",
       "    </tr>\n",
       "  </thead>\n",
       "  <tbody>\n",
       "    <tr>\n",
       "      <th>0</th>\n",
       "      <td>0.0</td>\n",
       "      <td>0.0</td>\n",
       "      <td>1.0</td>\n",
       "      <td>0.0</td>\n",
       "      <td>0.0</td>\n",
       "      <td>0.0</td>\n",
       "      <td>1.0</td>\n",
       "      <td>0.0</td>\n",
       "      <td>1.0</td>\n",
       "      <td>0.0</td>\n",
       "      <td>1.0</td>\n",
       "    </tr>\n",
       "    <tr>\n",
       "      <th>1</th>\n",
       "      <td>0.0</td>\n",
       "      <td>0.0</td>\n",
       "      <td>0.0</td>\n",
       "      <td>0.0</td>\n",
       "      <td>1.0</td>\n",
       "      <td>1.0</td>\n",
       "      <td>0.0</td>\n",
       "      <td>0.0</td>\n",
       "      <td>1.0</td>\n",
       "      <td>0.0</td>\n",
       "      <td>0.0</td>\n",
       "    </tr>\n",
       "    <tr>\n",
       "      <th>2</th>\n",
       "      <td>0.0</td>\n",
       "      <td>0.0</td>\n",
       "      <td>1.0</td>\n",
       "      <td>0.0</td>\n",
       "      <td>0.0</td>\n",
       "      <td>1.0</td>\n",
       "      <td>0.0</td>\n",
       "      <td>0.0</td>\n",
       "      <td>1.0</td>\n",
       "      <td>0.0</td>\n",
       "      <td>0.0</td>\n",
       "    </tr>\n",
       "    <tr>\n",
       "      <th>3</th>\n",
       "      <td>0.0</td>\n",
       "      <td>1.0</td>\n",
       "      <td>1.0</td>\n",
       "      <td>0.0</td>\n",
       "      <td>0.0</td>\n",
       "      <td>0.0</td>\n",
       "      <td>0.0</td>\n",
       "      <td>1.0</td>\n",
       "      <td>1.0</td>\n",
       "      <td>0.0</td>\n",
       "      <td>1.0</td>\n",
       "    </tr>\n",
       "    <tr>\n",
       "      <th>4</th>\n",
       "      <td>0.0</td>\n",
       "      <td>0.0</td>\n",
       "      <td>0.0</td>\n",
       "      <td>0.0</td>\n",
       "      <td>1.0</td>\n",
       "      <td>1.0</td>\n",
       "      <td>0.0</td>\n",
       "      <td>0.0</td>\n",
       "      <td>1.0</td>\n",
       "      <td>0.0</td>\n",
       "      <td>0.0</td>\n",
       "    </tr>\n",
       "  </tbody>\n",
       "</table>\n",
       "</div>"
      ],
      "text/plain": [
       "   sex  race  age_cat=25 to 45  age_cat=Greater than 45  age_cat=Less than 25  \\\n",
       "0  0.0   0.0               1.0                      0.0                   0.0   \n",
       "1  0.0   0.0               0.0                      0.0                   1.0   \n",
       "2  0.0   0.0               1.0                      0.0                   0.0   \n",
       "3  0.0   1.0               1.0                      0.0                   0.0   \n",
       "4  0.0   0.0               0.0                      0.0                   1.0   \n",
       "\n",
       "   priors_count=0  priors_count=1 to 3  priors_count=More than 3  \\\n",
       "0             0.0                  1.0                       0.0   \n",
       "1             1.0                  0.0                       0.0   \n",
       "2             1.0                  0.0                       0.0   \n",
       "3             0.0                  0.0                       1.0   \n",
       "4             1.0                  0.0                       0.0   \n",
       "\n",
       "   c_charge_degree=F  c_charge_degree=M  two_year_recid  \n",
       "0                1.0                0.0             1.0  \n",
       "1                1.0                0.0             0.0  \n",
       "2                1.0                0.0             0.0  \n",
       "3                1.0                0.0             1.0  \n",
       "4                1.0                0.0             0.0  "
      ]
     },
     "execution_count": 79,
     "metadata": {},
     "output_type": "execute_result"
    }
   ],
   "source": [
    "compas = compas_train.append(compas_test)\n",
    "compas = compas.drop('Unnamed: 0', axis=1)\n",
    "compas.head(5)"
   ]
  },
  {
   "cell_type": "code",
   "execution_count": 80,
   "metadata": {},
   "outputs": [],
   "source": [
    "compas_y = compas.pop('two_year_recid')\n",
    "compas_X = compas"
   ]
  },
  {
   "cell_type": "code",
   "execution_count": 81,
   "metadata": {},
   "outputs": [],
   "source": [
    "datasets = []\n",
    "for i in range(5):\n",
    "    compas_X_train, compas_X_test, compas_y_train, compas_y_test = train_test_split(compas_X, compas_y, test_size=0.2, random_state=i)\n",
    "    datasets.append([compas_X_train, compas_X_test, compas_y_train, compas_y_test])"
   ]
  },
  {
   "cell_type": "code",
   "execution_count": 82,
   "metadata": {},
   "outputs": [],
   "source": [
    "for i in range(5):\n",
    "    num = i + 1\n",
    "    X_train = datasets[i][0]\n",
    "    X_test = datasets[i][1]\n",
    "    y_train = datasets[i][2]\n",
    "    y_test = datasets[i][3]\n",
    "    X_train.to_csv('./data/processed/compas/compas_train{}_X.csv'.format(num), index=False)\n",
    "    y_train.to_csv('./data/processed/compas/compas_train{}_y.csv'.format(num), index=False)\n",
    "    X_test.to_csv('./data/processed/compas/compas_test{}_X.csv'.format(num), index=False)\n",
    "    y_test.to_csv('./data/processed/compas/compas_test{}_y.csv'.format(num), index=False)"
   ]
  },
  {
   "cell_type": "code",
   "execution_count": 83,
   "metadata": {},
   "outputs": [
    {
     "name": "stdout",
     "output_type": "stream",
     "text": [
      "(3800, 10)\n",
      "(3800, 1)\n",
      "(950, 10)\n",
      "(950, 1)\n"
     ]
    }
   ],
   "source": [
    "# Double-check\n",
    "X_train = pd.read_csv('./data/processed/compas/compas_train1_X.csv')\n",
    "y_train = pd.read_csv('./data/processed/compas/compas_train1_y.csv')\n",
    "X_test = pd.read_csv('./data/processed/compas/compas_test1_X.csv')\n",
    "y_test = pd.read_csv('./data/processed/compas/compas_test1_y.csv')\n",
    "print(X_train.shape)\n",
    "print(y_train.shape)\n",
    "print(X_test.shape)\n",
    "print(y_test.shape)"
   ]
  },
  {
   "cell_type": "markdown",
   "metadata": {},
   "source": [
    "## Adult"
   ]
  },
  {
   "cell_type": "code",
   "execution_count": 85,
   "metadata": {},
   "outputs": [],
   "source": [
    "adult_X = pd.read_csv('./data/adult_X.csv')\n",
    "adult_y = pd.read_csv('./data/adult_Y.csv')"
   ]
  },
  {
   "cell_type": "code",
   "execution_count": 86,
   "metadata": {},
   "outputs": [],
   "source": [
    "datasets = []\n",
    "for i in range(5):\n",
    "    adult_X_train, adult_X_test, adult_y_train, adult_y_test = train_test_split(adult_X, adult_y, test_size=0.2, random_state=i)\n",
    "    datasets.append([adult_X_train, adult_X_test, adult_y_train, adult_y_test])"
   ]
  },
  {
   "cell_type": "code",
   "execution_count": 87,
   "metadata": {},
   "outputs": [],
   "source": [
    "for i in range(5):\n",
    "    num = i + 1\n",
    "    X_train = datasets[i][0]\n",
    "    X_test = datasets[i][1]\n",
    "    y_train = datasets[i][2]\n",
    "    y_test = datasets[i][3]\n",
    "    X_train.to_csv('./data/processed/adult/adult_train{}_X.csv'.format(num), index=False)\n",
    "    y_train.to_csv('./data/processed/adult/adult_train{}_y.csv'.format(num), index=False)\n",
    "    X_test.to_csv('./data/processed/adult/adult_test{}_X.csv'.format(num), index=False)\n",
    "    y_test.to_csv('./data/processed/adult/adult_test{}_y.csv'.format(num), index=False)"
   ]
  },
  {
   "cell_type": "code",
   "execution_count": 95,
   "metadata": {},
   "outputs": [
    {
     "name": "stdout",
     "output_type": "stream",
     "text": [
      "(1616, 98)\n",
      "(1616, 1)\n",
      "(404, 98)\n",
      "(404, 1)\n"
     ]
    }
   ],
   "source": [
    "# Double-check\n",
    "X_train = pd.read_csv('./data/processed/adult/adult_train1_X.csv')\n",
    "y_train = pd.read_csv('./data/processed/adult/adult_train1_y.csv')\n",
    "X_test = pd.read_csv('./data/processed/adult/adult_test1_X.csv')\n",
    "y_test = pd.read_csv('./data/processed/adult/adult_test1_y.csv')\n",
    "print(X_train.shape)\n",
    "print(y_train.shape)\n",
    "print(X_test.shape)\n",
    "print(y_test.shape)"
   ]
  },
  {
   "cell_type": "markdown",
   "metadata": {},
   "source": [
    "## Communities"
   ]
  },
  {
   "cell_type": "code",
   "execution_count": 98,
   "metadata": {},
   "outputs": [],
   "source": [
    "communities_X = pd.read_csv('./data/communities_X.csv')\n",
    "communities_y = pd.read_csv('./data/communities_Y.csv')"
   ]
  },
  {
   "cell_type": "code",
   "execution_count": 99,
   "metadata": {},
   "outputs": [],
   "source": [
    "datasets = []\n",
    "for i in range(5):\n",
    "    communities_X_train, communities_X_test, communities_y_train, communities_y_test = train_test_split(communities_X, communities_y, test_size=0.2, random_state=i)\n",
    "    datasets.append([communities_X_train, communities_X_test, communities_y_train, communities_y_test])"
   ]
  },
  {
   "cell_type": "code",
   "execution_count": 100,
   "metadata": {},
   "outputs": [],
   "source": [
    "for i in range(5):\n",
    "    num = i + 1\n",
    "    X_train = datasets[i][0]\n",
    "    X_test = datasets[i][1]\n",
    "    y_train = datasets[i][2]\n",
    "    y_test = datasets[i][3]\n",
    "    X_train.to_csv('./data/processed/communities/communities_train{}_X.csv'.format(num), index=False)\n",
    "    y_train.to_csv('./data/processed/communities/communities_train{}_y.csv'.format(num), index=False)\n",
    "    X_test.to_csv('./data/processed/communities/communities_test{}_X.csv'.format(num), index=False)\n",
    "    y_test.to_csv('./data/processed/communities/communities_test{}_y.csv'.format(num), index=False)"
   ]
  },
  {
   "cell_type": "code",
   "execution_count": 102,
   "metadata": {},
   "outputs": [
    {
     "name": "stdout",
     "output_type": "stream",
     "text": [
      "(1595, 123)\n",
      "(1595, 1)\n",
      "(399, 123)\n",
      "(399, 1)\n"
     ]
    }
   ],
   "source": [
    "# Double-check\n",
    "X_train = pd.read_csv('./data/processed/communities/communities_train1_X.csv')\n",
    "y_train = pd.read_csv('./data/processed/communities/communities_train1_y.csv')\n",
    "X_test = pd.read_csv('./data/processed/communities/communities_test1_X.csv')\n",
    "y_test = pd.read_csv('./data/processed/communities/communities_test1_y.csv')\n",
    "print(X_train.shape)\n",
    "print(y_train.shape)\n",
    "print(X_test.shape)\n",
    "print(y_test.shape)"
   ]
  },
  {
   "cell_type": "markdown",
   "metadata": {},
   "source": [
    "## Law School"
   ]
  },
  {
   "cell_type": "code",
   "execution_count": 103,
   "metadata": {},
   "outputs": [],
   "source": [
    "lawschool_X = pd.read_csv('./data/lawschool_X.csv')\n",
    "lawschool_y = pd.read_csv('./data/lawschool_y.csv')"
   ]
  },
  {
   "cell_type": "code",
   "execution_count": 104,
   "metadata": {},
   "outputs": [],
   "source": [
    "datasets = []\n",
    "for i in range(5):\n",
    "    lawschool_X_train, lawschool_X_test, lawschool_y_train, lawschool_y_test = train_test_split(lawschool_X, lawschool_y, test_size=0.2, random_state=i)\n",
    "    datasets.append([lawschool_X_train, lawschool_X_test, lawschool_y_train, lawschool_y_test])"
   ]
  },
  {
   "cell_type": "code",
   "execution_count": 105,
   "metadata": {},
   "outputs": [],
   "source": [
    "for i in range(5):\n",
    "    num = i + 1\n",
    "    X_train = datasets[i][0]\n",
    "    X_test = datasets[i][1]\n",
    "    y_train = datasets[i][2]\n",
    "    y_test = datasets[i][3]\n",
    "    X_train.to_csv('./data/processed/lawschool/lawschool_train{}_X.csv'.format(num), index=False)\n",
    "    y_train.to_csv('./data/processed/lawschool/lawschool_train{}_y.csv'.format(num), index=False)\n",
    "    X_test.to_csv('./data/processed/lawschool/lawschool_test{}_X.csv'.format(num), index=False)\n",
    "    y_test.to_csv('./data/processed/lawschool/lawschool_test{}_y.csv'.format(num), index=False)"
   ]
  },
  {
   "cell_type": "code",
   "execution_count": 106,
   "metadata": {},
   "outputs": [
    {
     "name": "stdout",
     "output_type": "stream",
     "text": [
      "(1458, 17)\n",
      "(1458, 1)\n",
      "(365, 17)\n",
      "(365, 1)\n"
     ]
    }
   ],
   "source": [
    "# Double-check\n",
    "X_train = pd.read_csv('./data/processed/lawschool/lawschool_train1_X.csv')\n",
    "y_train = pd.read_csv('./data/processed/lawschool/lawschool_train1_y.csv')\n",
    "X_test = pd.read_csv('./data/processed/lawschool/lawschool_test1_X.csv')\n",
    "y_test = pd.read_csv('./data/processed/lawschool/lawschool_test1_y.csv')\n",
    "print(X_train.shape)\n",
    "print(y_train.shape)\n",
    "print(X_test.shape)\n",
    "print(y_test.shape)"
   ]
  }
 ],
 "metadata": {
  "kernelspec": {
   "display_name": "Python [conda env:fairness_checking] *",
   "language": "python",
   "name": "conda-env-fairness_checking-py"
  },
  "language_info": {
   "codemirror_mode": {
    "name": "ipython",
    "version": 3
   },
   "file_extension": ".py",
   "mimetype": "text/x-python",
   "name": "python",
   "nbconvert_exporter": "python",
   "pygments_lexer": "ipython3",
   "version": "3.7.3"
  }
 },
 "nbformat": 4,
 "nbformat_minor": 4
}
