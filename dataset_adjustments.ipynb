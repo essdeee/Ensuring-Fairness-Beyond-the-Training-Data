{
 "cells": [
  {
   "cell_type": "code",
   "execution_count": 1,
   "metadata": {},
   "outputs": [],
   "source": [
    "import pandas as pd\n",
    "from sklearn.model_selection import train_test_split"
   ]
  },
  {
   "cell_type": "markdown",
   "metadata": {},
   "source": [
    "Notebook to get all the datasets ready for comparison. Splits each dataset into 5 different train/test splits, cleans up any unwanted columns, and appends the target varaible to each. "
   ]
  },
  {
   "cell_type": "markdown",
   "metadata": {},
   "source": [
    "## Compas"
   ]
  },
  {
   "cell_type": "code",
   "execution_count": 76,
   "metadata": {},
   "outputs": [],
   "source": [
    "compas_train = pd.read_csv('./data/compas_train.csv')\n",
    "compas_test = pd.read_csv('./data/compas_test.csv')"
   ]
  },
  {
   "cell_type": "code",
   "execution_count": 77,
   "metadata": {},
   "outputs": [
    {
     "data": {
      "text/plain": [
       "(4222, 12)"
      ]
     },
     "execution_count": 77,
     "metadata": {},
     "output_type": "execute_result"
    }
   ],
   "source": [
    "compas_train.shape"
   ]
  },
  {
   "cell_type": "code",
   "execution_count": 78,
   "metadata": {},
   "outputs": [
    {
     "data": {
      "text/plain": [
       "(528, 12)"
      ]
     },
     "execution_count": 78,
     "metadata": {},
     "output_type": "execute_result"
    }
   ],
   "source": [
    "compas_test.shape"
   ]
  },
  {
   "cell_type": "code",
   "execution_count": 79,
   "metadata": {},
   "outputs": [
    {
     "data": {
      "text/html": [
       "<div>\n",
       "<style scoped>\n",
       "    .dataframe tbody tr th:only-of-type {\n",
       "        vertical-align: middle;\n",
       "    }\n",
       "\n",
       "    .dataframe tbody tr th {\n",
       "        vertical-align: top;\n",
       "    }\n",
       "\n",
       "    .dataframe thead th {\n",
       "        text-align: right;\n",
       "    }\n",
       "</style>\n",
       "<table border=\"1\" class=\"dataframe\">\n",
       "  <thead>\n",
       "    <tr style=\"text-align: right;\">\n",
       "      <th></th>\n",
       "      <th>sex</th>\n",
       "      <th>race</th>\n",
       "      <th>age_cat=25 to 45</th>\n",
       "      <th>age_cat=Greater than 45</th>\n",
       "      <th>age_cat=Less than 25</th>\n",
       "      <th>priors_count=0</th>\n",
       "      <th>priors_count=1 to 3</th>\n",
       "      <th>priors_count=More than 3</th>\n",
       "      <th>c_charge_degree=F</th>\n",
       "      <th>c_charge_degree=M</th>\n",
       "      <th>two_year_recid</th>\n",
       "    </tr>\n",
       "  </thead>\n",
       "  <tbody>\n",
       "    <tr>\n",
       "      <th>0</th>\n",
       "      <td>0.0</td>\n",
       "      <td>0.0</td>\n",
       "      <td>1.0</td>\n",
       "      <td>0.0</td>\n",
       "      <td>0.0</td>\n",
       "      <td>0.0</td>\n",
       "      <td>1.0</td>\n",
       "      <td>0.0</td>\n",
       "      <td>1.0</td>\n",
       "      <td>0.0</td>\n",
       "      <td>1.0</td>\n",
       "    </tr>\n",
       "    <tr>\n",
       "      <th>1</th>\n",
       "      <td>0.0</td>\n",
       "      <td>0.0</td>\n",
       "      <td>0.0</td>\n",
       "      <td>0.0</td>\n",
       "      <td>1.0</td>\n",
       "      <td>1.0</td>\n",
       "      <td>0.0</td>\n",
       "      <td>0.0</td>\n",
       "      <td>1.0</td>\n",
       "      <td>0.0</td>\n",
       "      <td>0.0</td>\n",
       "    </tr>\n",
       "    <tr>\n",
       "      <th>2</th>\n",
       "      <td>0.0</td>\n",
       "      <td>0.0</td>\n",
       "      <td>1.0</td>\n",
       "      <td>0.0</td>\n",
       "      <td>0.0</td>\n",
       "      <td>1.0</td>\n",
       "      <td>0.0</td>\n",
       "      <td>0.0</td>\n",
       "      <td>1.0</td>\n",
       "      <td>0.0</td>\n",
       "      <td>0.0</td>\n",
       "    </tr>\n",
       "    <tr>\n",
       "      <th>3</th>\n",
       "      <td>0.0</td>\n",
       "      <td>1.0</td>\n",
       "      <td>1.0</td>\n",
       "      <td>0.0</td>\n",
       "      <td>0.0</td>\n",
       "      <td>0.0</td>\n",
       "      <td>0.0</td>\n",
       "      <td>1.0</td>\n",
       "      <td>1.0</td>\n",
       "      <td>0.0</td>\n",
       "      <td>1.0</td>\n",
       "    </tr>\n",
       "    <tr>\n",
       "      <th>4</th>\n",
       "      <td>0.0</td>\n",
       "      <td>0.0</td>\n",
       "      <td>0.0</td>\n",
       "      <td>0.0</td>\n",
       "      <td>1.0</td>\n",
       "      <td>1.0</td>\n",
       "      <td>0.0</td>\n",
       "      <td>0.0</td>\n",
       "      <td>1.0</td>\n",
       "      <td>0.0</td>\n",
       "      <td>0.0</td>\n",
       "    </tr>\n",
       "  </tbody>\n",
       "</table>\n",
       "</div>"
      ],
      "text/plain": [
       "   sex  race  age_cat=25 to 45  age_cat=Greater than 45  age_cat=Less than 25  \\\n",
       "0  0.0   0.0               1.0                      0.0                   0.0   \n",
       "1  0.0   0.0               0.0                      0.0                   1.0   \n",
       "2  0.0   0.0               1.0                      0.0                   0.0   \n",
       "3  0.0   1.0               1.0                      0.0                   0.0   \n",
       "4  0.0   0.0               0.0                      0.0                   1.0   \n",
       "\n",
       "   priors_count=0  priors_count=1 to 3  priors_count=More than 3  \\\n",
       "0             0.0                  1.0                       0.0   \n",
       "1             1.0                  0.0                       0.0   \n",
       "2             1.0                  0.0                       0.0   \n",
       "3             0.0                  0.0                       1.0   \n",
       "4             1.0                  0.0                       0.0   \n",
       "\n",
       "   c_charge_degree=F  c_charge_degree=M  two_year_recid  \n",
       "0                1.0                0.0             1.0  \n",
       "1                1.0                0.0             0.0  \n",
       "2                1.0                0.0             0.0  \n",
       "3                1.0                0.0             1.0  \n",
       "4                1.0                0.0             0.0  "
      ]
     },
     "execution_count": 79,
     "metadata": {},
     "output_type": "execute_result"
    }
   ],
   "source": [
    "compas = compas_train.append(compas_test)\n",
    "compas = compas.drop('Unnamed: 0', axis=1)\n",
    "compas.head(5)"
   ]
  },
  {
   "cell_type": "code",
   "execution_count": 80,
   "metadata": {},
   "outputs": [],
   "source": [
    "compas_y = compas.pop('two_year_recid')\n",
    "compas_X = compas"
   ]
  },
  {
   "cell_type": "code",
   "execution_count": 81,
   "metadata": {},
   "outputs": [],
   "source": [
    "datasets = []\n",
    "for i in range(5):\n",
    "    compas_X_train, compas_X_test, compas_y_train, compas_y_test = train_test_split(compas_X, compas_y, test_size=0.2, random_state=i)\n",
    "    datasets.append([compas_X_train, compas_X_test, compas_y_train, compas_y_test])"
   ]
  },
  {
   "cell_type": "code",
   "execution_count": 82,
   "metadata": {},
   "outputs": [],
   "source": [
    "for i in range(5):\n",
    "    num = i + 1\n",
    "    X_train = datasets[i][0]\n",
    "    X_test = datasets[i][1]\n",
    "    y_train = datasets[i][2]\n",
    "    y_test = datasets[i][3]\n",
    "    X_train.to_csv('./data/processed/compas/compas_train{}_X.csv'.format(num), index=False)\n",
    "    y_train.to_csv('./data/processed/compas/compas_train{}_y.csv'.format(num), index=False)\n",
    "    X_test.to_csv('./data/processed/compas/compas_test{}_X.csv'.format(num), index=False)\n",
    "    y_test.to_csv('./data/processed/compas/compas_test{}_y.csv'.format(num), index=False)"
   ]
  },
  {
   "cell_type": "code",
   "execution_count": 83,
   "metadata": {},
   "outputs": [
    {
     "name": "stdout",
     "output_type": "stream",
     "text": [
      "(3800, 10)\n",
      "(3800, 1)\n",
      "(950, 10)\n",
      "(950, 1)\n"
     ]
    }
   ],
   "source": [
    "# Double-check\n",
    "X_train = pd.read_csv('./data/processed/compas/compas_train1_X.csv')\n",
    "y_train = pd.read_csv('./data/processed/compas/compas_train1_y.csv')\n",
    "X_test = pd.read_csv('./data/processed/compas/compas_test1_X.csv')\n",
    "y_test = pd.read_csv('./data/processed/compas/compas_test1_y.csv')\n",
    "print(X_train.shape)\n",
    "print(y_train.shape)\n",
    "print(X_test.shape)\n",
    "print(y_test.shape)"
   ]
  },
  {
   "cell_type": "markdown",
   "metadata": {},
   "source": [
    "## Adult"
   ]
  },
  {
   "cell_type": "code",
   "execution_count": 2,
   "metadata": {},
   "outputs": [],
   "source": [
    "adult_X = pd.read_csv('./data/adult_X.csv')\n",
    "adult_y = pd.read_csv('./data/adult_Y.csv')"
   ]
  },
  {
   "cell_type": "code",
   "execution_count": 3,
   "metadata": {},
   "outputs": [],
   "source": [
    "datasets = []\n",
    "for i in range(5):\n",
    "    adult_X_train, adult_X_test, adult_y_train, adult_y_test = train_test_split(adult_X, adult_y, test_size=0.2, random_state=i)\n",
    "    datasets.append([adult_X_train, adult_X_test, adult_y_train, adult_y_test])"
   ]
  },
  {
   "cell_type": "code",
   "execution_count": 87,
   "metadata": {},
   "outputs": [],
   "source": [
    "for i in range(5):\n",
    "    num = i + 1\n",
    "    X_train = datasets[i][0]\n",
    "    X_test = datasets[i][1]\n",
    "    y_train = datasets[i][2]\n",
    "    y_test = datasets[i][3]\n",
    "    X_train.to_csv('./data/processed/adult/adult_train{}_X.csv'.format(num), index=False)\n",
    "    y_train.to_csv('./data/processed/adult/adult_train{}_y.csv'.format(num), index=False)\n",
    "    X_test.to_csv('./data/processed/adult/adult_test{}_X.csv'.format(num), index=False)\n",
    "    y_test.to_csv('./data/processed/adult/adult_test{}_y.csv'.format(num), index=False)"
   ]
  },
  {
   "cell_type": "code",
   "execution_count": 95,
   "metadata": {},
   "outputs": [
    {
     "name": "stdout",
     "output_type": "stream",
     "text": [
      "(1616, 98)\n",
      "(1616, 1)\n",
      "(404, 98)\n",
      "(404, 1)\n"
     ]
    }
   ],
   "source": [
    "# Double-check\n",
    "X_train = pd.read_csv('./data/processed/adult/adult_train1_X.csv')\n",
    "y_train = pd.read_csv('./data/processed/adult/adult_train1_y.csv')\n",
    "X_test = pd.read_csv('./data/processed/adult/adult_test1_X.csv')\n",
    "y_test = pd.read_csv('./data/processed/adult/adult_test1_y.csv')\n",
    "print(X_train.shape)\n",
    "print(y_train.shape)\n",
    "print(X_test.shape)\n",
    "print(y_test.shape)"
   ]
  },
  {
   "cell_type": "markdown",
   "metadata": {},
   "source": [
    "## Communities"
   ]
  },
  {
   "cell_type": "code",
   "execution_count": 4,
   "metadata": {},
   "outputs": [],
   "source": [
    "communities_X = pd.read_csv('./data/communities_X.csv')\n",
    "communities_y = pd.read_csv('./data/communities_Y.csv')"
   ]
  },
  {
   "cell_type": "code",
   "execution_count": 5,
   "metadata": {},
   "outputs": [],
   "source": [
    "datasets = []\n",
    "for i in range(5):\n",
    "    communities_X_train, communities_X_test, communities_y_train, communities_y_test = train_test_split(communities_X, communities_y, test_size=0.2, random_state=i)\n",
    "    datasets.append([communities_X_train, communities_X_test, communities_y_train, communities_y_test])"
   ]
  },
  {
   "cell_type": "code",
   "execution_count": 6,
   "metadata": {},
   "outputs": [],
   "source": [
    "for i in range(5):\n",
    "    num = i + 1\n",
    "    X_train = datasets[i][0]\n",
    "    X_test = datasets[i][1]\n",
    "    y_train = datasets[i][2]\n",
    "    y_test = datasets[i][3]\n",
    "    X_train.to_csv('./data/processed/communities/communities_train{}_X.csv'.format(num), index=False)\n",
    "    y_train.to_csv('./data/processed/communities/communities_train{}_y.csv'.format(num), index=False)\n",
    "    X_test.to_csv('./data/processed/communities/communities_test{}_X.csv'.format(num), index=False)\n",
    "    y_test.to_csv('./data/processed/communities/communities_test{}_y.csv'.format(num), index=False)"
   ]
  },
  {
   "cell_type": "code",
   "execution_count": 7,
   "metadata": {},
   "outputs": [
    {
     "name": "stdout",
     "output_type": "stream",
     "text": [
      "(1595, 123)\n",
      "(1595, 1)\n",
      "(399, 123)\n",
      "(399, 1)\n"
     ]
    }
   ],
   "source": [
    "# Double-check\n",
    "X_train = pd.read_csv('./data/processed/communities/communities_train1_X.csv')\n",
    "y_train = pd.read_csv('./data/processed/communities/communities_train1_y.csv')\n",
    "X_test = pd.read_csv('./data/processed/communities/communities_test1_X.csv')\n",
    "y_test = pd.read_csv('./data/processed/communities/communities_test1_y.csv')\n",
    "print(X_train.shape)\n",
    "print(y_train.shape)\n",
    "print(X_test.shape)\n",
    "print(y_test.shape)"
   ]
  },
  {
   "cell_type": "markdown",
   "metadata": {},
   "source": [
    "## Law School"
   ]
  },
  {
   "cell_type": "code",
   "execution_count": 8,
   "metadata": {},
   "outputs": [],
   "source": [
    "lawschool_X = pd.read_csv('./data/lawschool_X.csv')\n",
    "lawschool_y = pd.read_csv('./data/lawschool_y.csv')"
   ]
  },
  {
   "cell_type": "code",
   "execution_count": 9,
   "metadata": {},
   "outputs": [],
   "source": [
    "datasets = []\n",
    "for i in range(5):\n",
    "    lawschool_X_train, lawschool_X_test, lawschool_y_train, lawschool_y_test = train_test_split(lawschool_X, lawschool_y, test_size=0.2, random_state=i)\n",
    "    datasets.append([lawschool_X_train, lawschool_X_test, lawschool_y_train, lawschool_y_test])"
   ]
  },
  {
   "cell_type": "code",
   "execution_count": 10,
   "metadata": {},
   "outputs": [],
   "source": [
    "for i in range(5):\n",
    "    num = i + 1\n",
    "    X_train = datasets[i][0]\n",
    "    X_test = datasets[i][1]\n",
    "    y_train = datasets[i][2]\n",
    "    y_test = datasets[i][3]\n",
    "    X_train.to_csv('./data/processed/lawschool/lawschool_train{}_X.csv'.format(num), index=False)\n",
    "    y_train.to_csv('./data/processed/lawschool/lawschool_train{}_y.csv'.format(num), index=False)\n",
    "    X_test.to_csv('./data/processed/lawschool/lawschool_test{}_X.csv'.format(num), index=False)\n",
    "    y_test.to_csv('./data/processed/lawschool/lawschool_test{}_y.csv'.format(num), index=False)"
   ]
  },
  {
   "cell_type": "code",
   "execution_count": 11,
   "metadata": {},
   "outputs": [
    {
     "name": "stdout",
     "output_type": "stream",
     "text": [
      "(1458, 17)\n",
      "(1458, 1)\n",
      "(365, 17)\n",
      "(365, 1)\n"
     ]
    }
   ],
   "source": [
    "# Double-check\n",
    "X_train = pd.read_csv('./data/processed/lawschool/lawschool_train1_X.csv')\n",
    "y_train = pd.read_csv('./data/processed/lawschool/lawschool_train1_y.csv')\n",
    "X_test = pd.read_csv('./data/processed/lawschool/lawschool_test1_X.csv')\n",
    "y_test = pd.read_csv('./data/processed/lawschool/lawschool_test1_y.csv')\n",
    "print(X_train.shape)\n",
    "print(y_train.shape)\n",
    "print(X_test.shape)\n",
    "print(y_test.shape)"
   ]
  },
  {
   "cell_type": "code",
   "execution_count": 12,
   "metadata": {},
   "outputs": [
    {
     "data": {
      "text/html": [
       "<div>\n",
       "<style scoped>\n",
       "    .dataframe tbody tr th:only-of-type {\n",
       "        vertical-align: middle;\n",
       "    }\n",
       "\n",
       "    .dataframe tbody tr th {\n",
       "        vertical-align: top;\n",
       "    }\n",
       "\n",
       "    .dataframe thead th {\n",
       "        text-align: right;\n",
       "    }\n",
       "</style>\n",
       "<table border=\"1\" class=\"dataframe\">\n",
       "  <thead>\n",
       "    <tr style=\"text-align: right;\">\n",
       "      <th></th>\n",
       "      <th>cluster</th>\n",
       "      <th>lsat</th>\n",
       "      <th>ugpa</th>\n",
       "      <th>zfygpa</th>\n",
       "      <th>zgpa</th>\n",
       "      <th>fulltime</th>\n",
       "      <th>fam_inc</th>\n",
       "      <th>age</th>\n",
       "      <th>gender</th>\n",
       "      <th>race1</th>\n",
       "      <th>race2</th>\n",
       "      <th>race3</th>\n",
       "      <th>race4</th>\n",
       "      <th>race5</th>\n",
       "      <th>race6</th>\n",
       "      <th>race7</th>\n",
       "      <th>race8</th>\n",
       "    </tr>\n",
       "  </thead>\n",
       "  <tbody>\n",
       "    <tr>\n",
       "      <th>0</th>\n",
       "      <td>0.167522</td>\n",
       "      <td>0.192135</td>\n",
       "      <td>-0.067494</td>\n",
       "      <td>-0.500121</td>\n",
       "      <td>-0.685302</td>\n",
       "      <td>-0.321731</td>\n",
       "      <td>0.702957</td>\n",
       "      <td>-0.229262</td>\n",
       "      <td>-0.908199</td>\n",
       "      <td>-0.084749</td>\n",
       "      <td>-0.225212</td>\n",
       "      <td>-0.357902</td>\n",
       "      <td>-0.155426</td>\n",
       "      <td>-0.110523</td>\n",
       "      <td>-0.189197</td>\n",
       "      <td>0.580940</td>\n",
       "      <td>-0.115502</td>\n",
       "    </tr>\n",
       "    <tr>\n",
       "      <th>1</th>\n",
       "      <td>-1.322194</td>\n",
       "      <td>-0.094440</td>\n",
       "      <td>-0.746029</td>\n",
       "      <td>0.071791</td>\n",
       "      <td>-1.151823</td>\n",
       "      <td>-0.321731</td>\n",
       "      <td>0.702957</td>\n",
       "      <td>-0.053729</td>\n",
       "      <td>-0.908199</td>\n",
       "      <td>-0.084749</td>\n",
       "      <td>-0.225212</td>\n",
       "      <td>-0.357902</td>\n",
       "      <td>-0.155426</td>\n",
       "      <td>-0.110523</td>\n",
       "      <td>-0.189197</td>\n",
       "      <td>0.580940</td>\n",
       "      <td>-0.115502</td>\n",
       "    </tr>\n",
       "    <tr>\n",
       "      <th>2</th>\n",
       "      <td>0.167522</td>\n",
       "      <td>-0.145012</td>\n",
       "      <td>1.289576</td>\n",
       "      <td>0.217368</td>\n",
       "      <td>0.131111</td>\n",
       "      <td>-0.321731</td>\n",
       "      <td>0.702957</td>\n",
       "      <td>-0.229262</td>\n",
       "      <td>1.101081</td>\n",
       "      <td>-0.084749</td>\n",
       "      <td>-0.225212</td>\n",
       "      <td>-0.357902</td>\n",
       "      <td>-0.155426</td>\n",
       "      <td>-0.110523</td>\n",
       "      <td>-0.189197</td>\n",
       "      <td>0.580940</td>\n",
       "      <td>-0.115502</td>\n",
       "    </tr>\n",
       "    <tr>\n",
       "      <th>3</th>\n",
       "      <td>0.912380</td>\n",
       "      <td>2.215014</td>\n",
       "      <td>1.289576</td>\n",
       "      <td>0.498125</td>\n",
       "      <td>0.306056</td>\n",
       "      <td>-0.321731</td>\n",
       "      <td>0.702957</td>\n",
       "      <td>-0.580330</td>\n",
       "      <td>1.101081</td>\n",
       "      <td>-0.084749</td>\n",
       "      <td>4.440260</td>\n",
       "      <td>-0.357902</td>\n",
       "      <td>-0.155426</td>\n",
       "      <td>-0.110523</td>\n",
       "      <td>-0.189197</td>\n",
       "      <td>-1.721349</td>\n",
       "      <td>-0.115502</td>\n",
       "    </tr>\n",
       "    <tr>\n",
       "      <th>4</th>\n",
       "      <td>0.167522</td>\n",
       "      <td>0.192135</td>\n",
       "      <td>-0.293672</td>\n",
       "      <td>-0.864065</td>\n",
       "      <td>-0.238219</td>\n",
       "      <td>-0.321731</td>\n",
       "      <td>0.702957</td>\n",
       "      <td>1.175006</td>\n",
       "      <td>-0.908199</td>\n",
       "      <td>-0.084749</td>\n",
       "      <td>-0.225212</td>\n",
       "      <td>-0.357902</td>\n",
       "      <td>-0.155426</td>\n",
       "      <td>-0.110523</td>\n",
       "      <td>-0.189197</td>\n",
       "      <td>0.580940</td>\n",
       "      <td>-0.115502</td>\n",
       "    </tr>\n",
       "  </tbody>\n",
       "</table>\n",
       "</div>"
      ],
      "text/plain": [
       "    cluster      lsat      ugpa    zfygpa      zgpa  fulltime   fam_inc  \\\n",
       "0  0.167522  0.192135 -0.067494 -0.500121 -0.685302 -0.321731  0.702957   \n",
       "1 -1.322194 -0.094440 -0.746029  0.071791 -1.151823 -0.321731  0.702957   \n",
       "2  0.167522 -0.145012  1.289576  0.217368  0.131111 -0.321731  0.702957   \n",
       "3  0.912380  2.215014  1.289576  0.498125  0.306056 -0.321731  0.702957   \n",
       "4  0.167522  0.192135 -0.293672 -0.864065 -0.238219 -0.321731  0.702957   \n",
       "\n",
       "        age    gender     race1     race2     race3     race4     race5  \\\n",
       "0 -0.229262 -0.908199 -0.084749 -0.225212 -0.357902 -0.155426 -0.110523   \n",
       "1 -0.053729 -0.908199 -0.084749 -0.225212 -0.357902 -0.155426 -0.110523   \n",
       "2 -0.229262  1.101081 -0.084749 -0.225212 -0.357902 -0.155426 -0.110523   \n",
       "3 -0.580330  1.101081 -0.084749  4.440260 -0.357902 -0.155426 -0.110523   \n",
       "4  1.175006 -0.908199 -0.084749 -0.225212 -0.357902 -0.155426 -0.110523   \n",
       "\n",
       "      race6     race7     race8  \n",
       "0 -0.189197  0.580940 -0.115502  \n",
       "1 -0.189197  0.580940 -0.115502  \n",
       "2 -0.189197  0.580940 -0.115502  \n",
       "3 -0.189197 -1.721349 -0.115502  \n",
       "4 -0.189197  0.580940 -0.115502  "
      ]
     },
     "execution_count": 12,
     "metadata": {},
     "output_type": "execute_result"
    }
   ],
   "source": [
    "laws.head(5)"
   ]
  }
 ],
 "metadata": {
  "kernelspec": {
   "display_name": "Python 3",
   "language": "python",
   "name": "python3"
  },
  "language_info": {
   "codemirror_mode": {
    "name": "ipython",
    "version": 3
   },
   "file_extension": ".py",
   "mimetype": "text/x-python",
   "name": "python",
   "nbconvert_exporter": "python",
   "pygments_lexer": "ipython3",
   "version": "3.7.6"
  }
 },
 "nbformat": 4,
 "nbformat_minor": 4
}
